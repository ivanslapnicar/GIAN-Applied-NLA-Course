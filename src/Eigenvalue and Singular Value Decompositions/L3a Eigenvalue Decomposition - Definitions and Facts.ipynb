{
 "cells": [
  {
   "cell_type": "markdown",
   "metadata": {},
   "source": [
    "# Eigenvalue Decomposition - Definitions and Facts\n",
    "\n",
    "\n",
    "## Prerequisites\n",
    "\n",
    "The reader should be familiar with basic linear algebra concepts. \n",
    "\n",
    " \n",
    "## Competences \n",
    "\n",
    "The reader should be able to understand and check the facts about eigenvalue decomposition.\n",
    "\n",
    "## Selected references\n",
    "\n",
    "There are many excellent books on the subject. Here we list a few:\n",
    "\n",
    "[J. W. Demmel, Applied Numerical Linear Algebra][Dem97]\n",
    "\n",
    "[G. H. Golub and C. F. Van Loan, Matrix Computations][GV13]\n",
    "\n",
    "[N. Higham, Accuracy and Stability of Numerical Algorithms][Hig02]\n",
    "\n",
    "[L. Hogben, ed., Handbook of Linear Algebra][Hog14]\n",
    "\n",
    "[B. N. Parlett, The Symmetric Eigenvalue Problem][Par80]\n",
    "\n",
    "[G. W. Stewart, Matrix Algorithms, Vol. II: Eigensystems][Ste01]\n",
    "\n",
    "[L. N. Trefethen and D. Bau, III, Numerical Linear Algebra][TB97]\n",
    "\n",
    "[J. H. Wilkinson, The Algebraic Eigenvalue Problem][Wil65]\n",
    "\n",
    "\n",
    "[Dem97]: #1 \"J.W. Demmel, 'Applied Numerical Linear Algebra', SIAM, Philadelphia, 1997.\"\n",
    "  \n",
    "[GV13]: #1 \"G. H. Golub and C. F. Van Loan, 'Matrix Computations', 4th ed., The John Hopkins University Press, Baltimore, MD, 2013.\"\n",
    "  \n",
    "[Hig02]: #1 \"N. Higham, 'Accuracy and Stability of Numerical Algorithms', SIAM, Philadelphia, 2nd ed., 2002.\"\n",
    "    \n",
    "[Hog14]: #1 \"L. Hogben, ed., 'Handbook of Linear Algebra', CRC Press, Boca Raton, 2014.\"\n",
    "\n",
    "[Par80]: #1 \"B. N. Parlett, 'The Symmetric Eigenvalue Problem', Prentice-Hall, Englewood Cliffs, NJ, 1980, also SIAM, Philadelphia, 1998.\"\n",
    "\n",
    "[Ste01]: #1 \"G. W. Stewart, 'Matrix Algorithms, Vol. II: Eigensystems', SIAM, Philadelphia, 2001.\" \n",
    "\n",
    "[TB97]: #1 \"L. N. Trefethen and D. Bau, III, 'Numerical Linear Algebra', SIAM, Philadelphia, 1997.\"\n",
    "\n",
    "[Wil65]: #1 \"J. H. Wilkinson, 'The Algebraic Eigenvalue Problem', Clarendon Press, Oxford, U.K.,  1965.\"\n",
    "    "
   ]
  },
  {
   "cell_type": "markdown",
   "metadata": {},
   "source": [
    "## General matrices\n",
    "\n",
    "For more details and the proofs of the Facts below, see \n",
    "[L. M. DeAlba, Determinants and Eigenvalues][Hog14] and the references therein.\n",
    "\n",
    "[Hog14]: #1 \"L. Hogben, ed., 'Handbook of Linear Algebra', pp. 4.1-4.15, CRC Press, Boca Raton, 2014.\"\n",
    "\n",
    "### Definitions\n",
    "\n",
    "We state the basic definitions:\n",
    "\n",
    "Let $\\mathbb{F}=\\mathbb{R}$ or $F=\\mathbb{C}$ and let $A\\in \\mathbb{F}^{n\\times n}$ with elements $a_{ij}\\in \\mathbb{F}$.\n",
    "\n",
    "An element $\\lambda \\in \\mathbb{F}$ is an __eigenvalue__ of $A$ if\n",
    "$\\exists x\\in \\mathbb{F}^n$, $x\\neq 0$ such that\n",
    "\n",
    "$$\n",
    "Ax=\\lambda x,\n",
    "$$\n",
    "and $x$ is an __eigenvector__ of $\\lambda$.\n",
    "\n",
    "__Characteristic polynomial__ of $A$ is $p_A(x)=\\det(A-xI)$.\n",
    "\n",
    "__Algebraic multiplicty__, $\\alpha(\\lambda)$, is the multiplicity of $\\lambda$ as a root of $p_A(x)$.\n",
    "\n",
    "__Spectrum of $A$__, $\\sigma(A)$, is the multiset of all eigenvalues of $A$, with each eigenvalue appearing $\\alpha(A)$ times.\n",
    "\n",
    "__Spectral radius__ of $A$ is \n",
    "\n",
    "$$\\rho(A)=\\max\\{|\\lambda|, \\lambda \\in \\sigma(A)\\}.\n",
    "$$\n",
    "\n",
    "__Eigenspace__ of $\\lambda$ is \n",
    "\n",
    "$$\n",
    "E_{\\lambda}(A)=\\ker(A-\\lambda I).\n",
    "$$\n",
    "\n",
    "__Geometric multiplicity__ of $\\lambda$ is \n",
    "\n",
    "$$\\gamma(\\lambda)=\\dim(E_{\\lambda}(A)).\n",
    "$$\n",
    "\n",
    "$\\lambda$ is __simple__ if $\\alpha(\\lambda)=1$.\n",
    "\n",
    "$\\lambda$ is __semisimple__ if $\\alpha(\\lambda)=\\gamma(\\lambda)$.\n",
    "\n",
    "$A$ is __nonderogatory__ if $\\gamma(\\lambda)=1$ for all $\\lambda$.\n",
    "\n",
    "$A$ is __nondefective__ if every $\\lambda$ is semisimple.\n",
    "\n",
    "$A$ is __diagonalizable__ if there exists nonsingular $B$ matrix and diagonal matrix $D$ such that\n",
    "$A=BDB^{-1}$.\n",
    "\n",
    "__Trace__ of $A$ is \n",
    "\n",
    "$$\\mathop{\\mathrm{tr}}(A)=\\sum_i a_{ii}.$$\n",
    "\n",
    "$Q\\in\\mathbb{C}^{n\\times n}$ is __unitary__ if $Q^*Q=QQ^*=I$,\n",
    "where $Q^*=(\\bar Q)^T$.\n",
    "\n",
    "__Schur decomposition__ of $A$ is $A=QTQ^*$,\n",
    "where $Q$ is unitary and $T$ is upper triangular.\n",
    "\n",
    "$A$ and $B$ are __similar__ if $B=QAQ^{-1}$ for some nonsingular matrix $Q$.\n",
    "\n",
    "$A$ is __normal__ if $AA^*=A^*A$. "
   ]
  },
  {
   "cell_type": "markdown",
   "metadata": {},
   "source": [
    "### Facts\n",
    "\n",
    "There are many facts related to the eigenvalue problem for general matrices. We state some basic ones:\n",
    "\n",
    "1. $\\lambda\\in\\sigma(A) \\Leftrightarrow p_A(\\lambda)=0$.\n",
    "\n",
    "1. __Cayley-Hamilton Theorem.__ $p_A(A)=0$. \n",
    "\n",
    "2. A simple eigenvalue is semisimple.\n",
    "\n",
    "3. $\\mathop{\\mathrm{tr}}(A)=\\sum_{i=1}^n \\lambda_i$.\n",
    "\n",
    "4. $\\det(A)=\\prod_{i=1}^n \\lambda_i$.\n",
    "\n",
    "5. $A$ is singular $\\Leftrightarrow$ $\\det(A)=0$ $\\Leftrightarrow$ $0\\in\\sigma(A)$.\n",
    "\n",
    "7. If $A$ is triangular, $\\sigma(A)=\\{a_{11},a_{22},\\ldots,a_{nn}\\}$.\n",
    "\n",
    "6. For $A\\in\\mathbb{C}^{n\\times n}$, $\\lambda\\in\\sigma(A)$ $\\Leftrightarrow$ $\\bar\\lambda\\in\\sigma(A^*)$.\n",
    "\n",
    "8. __Corollary of the Fundamental theorem of algebra.__ For $A\\in\\mathbb{R}^{n\\times n}$, $\\lambda\\in\\sigma(A)$ $\\Leftrightarrow$ $\\bar\\lambda\\in\\sigma(A)$. \n",
    "\n",
    "9. If $(\\lambda,x)$ is an eigenpair of a nonsingular $A$, then $(1/\\lambda,x)$ is an eigenpair of $A^{-1}$.\n",
    "\n",
    "10. Eigenvectors corresponding to distinct eigenvalues are linearly independent.\n",
    "\n",
    "11. $A$ is diagonalizable $\\Leftrightarrow$ $A$ is nondefective $\\Leftrightarrow$ $A$ has $n$ linearly independent eigenvectors. \n",
    "\n",
    "12. Every $A$ has Schur decomposition. Moreover, $T_{ii}=\\lambda_i$.\n",
    "\n",
    "14. If $A$ is normal, matrix $T$ from its Schur decomposition is normal. Consequently:\n",
    "\n",
    "    * $T$ is diagonal, and has eigenvalues of $A$ on diagonal,\n",
    "    * matrix $Q$ of the Schur decomposition is the unitary matrix of eigenvectors,\n",
    "    * all eigenvalues of $A$ are semisimple and $A$ is nondefective.\n",
    "\n",
    "13. If $A$ and $B$ are similar, $\\sigma(A)=\\sigma(B)$. Consequently, $\\mathop{\\mathrm{tr}}(A)=\\mathop{\\mathrm{tr}}(B)$ and $\\det(A)=\\det(B)$.\n",
    "\n",
    "11. Eigenvalues and eigenvectors are continous and differentiable: if $\\lambda$ is a simple eigenvalue of $A$ and $A(\\varepsilon)=A+\\varepsilon E$ for some $E\\in F^{n\\times n}$, for small $\\varepsilon$ there exist differentiable functions $\\lambda(\\varepsilon)$ and $x(\\varepsilon)$ such that\n",
    "\n",
    "$$\n",
    "A(\\varepsilon) x(\\varepsilon) = \\lambda(\\varepsilon) x(\\varepsilon).\n",
    "$$\n",
    "\n",
    "15. Classical motivation for the eigenvalue problem is the following: consider the system of linear differential equations with constant coefficients,\n",
    "$$ \\dot y(t)=Ay(t).$$\n",
    "If the solution is $y=e^{\\lambda t} x$ for some constant vector $x$, then\n",
    "$$\\lambda e^{\\lambda t} x=Ae^{\\lambda t} x \\quad \\textrm{or} \\quad Ax=\\lambda x.\n",
    "$$\n"
   ]
  },
  {
   "cell_type": "markdown",
   "metadata": {},
   "source": [
    "### Examples\n",
    "\n",
    "We shall illustrate above Definitions and Facts on several small examples, using symbolic computation."
   ]
  },
  {
   "cell_type": "code",
   "execution_count": 1,
   "metadata": {},
   "outputs": [],
   "source": [
    "using SymPy"
   ]
  },
  {
   "cell_type": "code",
   "execution_count": 2,
   "metadata": {},
   "outputs": [
    {
     "data": {
      "text/plain": [
       "3×3 Array{Int64,2}:\n",
       " -3    7  -1\n",
       "  6    8  -2\n",
       " 72  -28  19"
      ]
     },
     "execution_count": 2,
     "metadata": {},
     "output_type": "execute_result"
    }
   ],
   "source": [
    "A=[-3 7 -1; 6 8 -2; 72 -28 19]"
   ]
  },
  {
   "cell_type": "code",
   "execution_count": 3,
   "metadata": {},
   "outputs": [
    {
     "data": {
      "text/plain": [
       "(x,)"
      ]
     },
     "execution_count": 3,
     "metadata": {},
     "output_type": "execute_result"
    }
   ],
   "source": [
    "@vars x"
   ]
  },
  {
   "cell_type": "code",
   "execution_count": 4,
   "metadata": {},
   "outputs": [
    {
     "data": {
      "text/latex": [
       "\\[\\left[ \\begin{array}{rrr}- x - 3&7&-1\\\\6&8 - x&-2\\\\72&-28&19 - x\\end{array}\\right]\\]"
      ],
      "text/plain": [
       "3×3 Array{Sym,2}:\n",
       " -x - 3      7      -1\n",
       "      6  8 - x      -2\n",
       "     72    -28  19 - x"
      ]
     },
     "execution_count": 4,
     "metadata": {},
     "output_type": "execute_result"
    }
   ],
   "source": [
    "using LinearAlgebra\n",
    "eye(n)=Matrix{Int}(I,n,n)\n",
    "A-x*eye(3)"
   ]
  },
  {
   "cell_type": "code",
   "execution_count": 5,
   "metadata": {},
   "outputs": [
    {
     "data": {
      "text/latex": [
       "\\begin{equation*}26 x + \\left(8 - x\\right) \\left(19 - x\\right) \\left(- x - 3\\right) - 894\\end{equation*}"
      ],
      "text/plain": [
       "26⋅x + (8 - x)⋅(19 - x)⋅(-x - 3) - 894"
      ]
     },
     "execution_count": 5,
     "metadata": {},
     "output_type": "execute_result"
    }
   ],
   "source": [
    "# Characteristic polynomial p_A(λ)\n",
    "p(x)=det(A-x*eye(3))\n",
    "p(x)"
   ]
  },
  {
   "cell_type": "code",
   "execution_count": 6,
   "metadata": {},
   "outputs": [
    {
     "data": {
      "text/latex": [
       "\\begin{equation*}- \\left(x - 15\\right)^{2} \\left(x + 6\\right)\\end{equation*}"
      ],
      "text/plain": [
       "         2        \n",
       "-(x - 15) ⋅(x + 6)"
      ]
     },
     "execution_count": 6,
     "metadata": {},
     "output_type": "execute_result"
    }
   ],
   "source": [
    "# Characteristic polynomial in nicer form\n",
    "p(x)=factor(det(A-x*eye(3)))\n",
    "p(x)"
   ]
  },
  {
   "cell_type": "code",
   "execution_count": 7,
   "metadata": {},
   "outputs": [
    {
     "data": {
      "text/latex": [
       "\\[ \\left[ \\begin{array}{r}-6\\\\15\\end{array} \\right] \\]"
      ],
      "text/plain": [
       "2-element Array{Sym,1}:\n",
       " -6\n",
       " 15"
      ]
     },
     "execution_count": 7,
     "metadata": {},
     "output_type": "execute_result"
    }
   ],
   "source": [
    "λ=solve(p(x),x)"
   ]
  },
  {
   "cell_type": "markdown",
   "metadata": {},
   "source": [
    "The eigenvalues are $\\lambda_1=-6$ and $\\lambda_2=15$ with algebraic multiplicities\n",
    "$\\alpha(\\lambda_1)=1$ and $\\alpha(\\lambda_2)=2$."
   ]
  },
  {
   "cell_type": "code",
   "execution_count": 8,
   "metadata": {},
   "outputs": [
    {
     "data": {
      "text/plain": [
       "3×1 Array{Float64,2}:\n",
       "  0.23570226039551587\n",
       " -0.23570226039551587\n",
       " -0.9428090415820634"
      ]
     },
     "execution_count": 8,
     "metadata": {},
     "output_type": "execute_result"
    }
   ],
   "source": [
    "g=nullspace(map(Float64,A-λ[1]*eye(3)))"
   ]
  },
  {
   "cell_type": "code",
   "execution_count": 9,
   "metadata": {},
   "outputs": [
    {
     "data": {
      "text/plain": [
       "3×1 Array{Float64,2}:\n",
       "  0.21821789023599256\n",
       "  0.43643578047198495\n",
       " -0.8728715609439692"
      ]
     },
     "execution_count": 9,
     "metadata": {},
     "output_type": "execute_result"
    }
   ],
   "source": [
    "h=nullspace(map(Float64,A-λ[2]*eye(3)))"
   ]
  },
  {
   "cell_type": "markdown",
   "metadata": {},
   "source": [
    "The geometric multiplicities are $\\gamma(\\lambda_1)=1$ and $\\gamma(\\lambda_2)=1$. Thus, $\\lambda_2$ is not semisimple, therefore $A$ is defective and not diagonalizable."
   ]
  },
  {
   "cell_type": "code",
   "execution_count": 10,
   "metadata": {},
   "outputs": [
    {
     "data": {
      "text/plain": [
       "(24, 24)"
      ]
     },
     "execution_count": 10,
     "metadata": {},
     "output_type": "execute_result"
    }
   ],
   "source": [
    "# Trace and determinant\n",
    "tr(A), λ[1]+λ[2]+λ[2]"
   ]
  },
  {
   "cell_type": "code",
   "execution_count": 11,
   "metadata": {},
   "outputs": [
    {
     "data": {
      "text/plain": [
       "(-1350.0, -1350)"
      ]
     },
     "execution_count": 11,
     "metadata": {},
     "output_type": "execute_result"
    }
   ],
   "source": [
    "det(A), λ[1]*λ[2]*λ[2]"
   ]
  },
  {
   "cell_type": "code",
   "execution_count": 12,
   "metadata": {},
   "outputs": [
    {
     "data": {
      "text/plain": [
       "3×3 Array{Float64,2}:\n",
       " -6.0  25.4662       -72.2009\n",
       "  0.0  15.0          -12.0208\n",
       "  0.0   1.48587e-15   15.0"
      ]
     },
     "execution_count": 12,
     "metadata": {},
     "output_type": "execute_result"
    }
   ],
   "source": [
    "# Schur decomposition\n",
    "T,Q=schur(A)\n",
    "T"
   ]
  },
  {
   "cell_type": "code",
   "execution_count": 13,
   "metadata": {},
   "outputs": [
    {
     "data": {
      "text/plain": [
       "3×3 Array{Float64,2}:\n",
       " -0.235702  -0.0571662  -0.970143\n",
       "  0.235702  -0.971825   -5.90663e-16\n",
       "  0.942809   0.228665   -0.242536"
      ]
     },
     "execution_count": 13,
     "metadata": {},
     "output_type": "execute_result"
    }
   ],
   "source": [
    "Q"
   ]
  },
  {
   "cell_type": "code",
   "execution_count": 14,
   "metadata": {},
   "outputs": [],
   "source": [
    "# ?schur"
   ]
  },
  {
   "cell_type": "code",
   "execution_count": 15,
   "metadata": {},
   "outputs": [
    {
     "data": {
      "text/plain": [
       "(:T, :Z, :values)"
      ]
     },
     "execution_count": 15,
     "metadata": {},
     "output_type": "execute_result"
    }
   ],
   "source": [
    "F=schur(A)\n",
    "fieldnames(typeof(F))"
   ]
  },
  {
   "cell_type": "code",
   "execution_count": 16,
   "metadata": {},
   "outputs": [
    {
     "data": {
      "text/plain": [
       "3×3 Array{Float64,2}:\n",
       " -0.235702  -0.0571662  -0.970143\n",
       "  0.235702  -0.971825   -5.90663e-16\n",
       "  0.942809   0.228665   -0.242536"
      ]
     },
     "execution_count": 16,
     "metadata": {},
     "output_type": "execute_result"
    }
   ],
   "source": [
    "F.Z"
   ]
  },
  {
   "cell_type": "code",
   "execution_count": 17,
   "metadata": {},
   "outputs": [
    {
     "name": "stdout",
     "output_type": "stream",
     "text": [
      "[-6.000000000000002, 14.999999999999988, 14.999999999999988]\n"
     ]
    }
   ],
   "source": [
    "println(diag(T))"
   ]
  },
  {
   "cell_type": "code",
   "execution_count": 18,
   "metadata": {},
   "outputs": [
    {
     "data": {
      "text/plain": [
       "3×3 Array{Float64,2}:\n",
       " 1.0          1.11022e-16  2.77556e-17\n",
       " 1.11022e-16  1.0          1.52656e-16\n",
       " 2.77556e-17  1.52656e-16  1.0"
      ]
     },
     "execution_count": 18,
     "metadata": {},
     "output_type": "execute_result"
    }
   ],
   "source": [
    "Q'*Q"
   ]
  },
  {
   "cell_type": "code",
   "execution_count": 19,
   "metadata": {},
   "outputs": [
    {
     "data": {
      "text/plain": [
       "3×3 Array{Float64,2}:\n",
       " 1.0          1.35877e-16  0.0\n",
       " 1.35877e-16  1.0          3.22346e-17\n",
       " 0.0          3.22346e-17  1.0"
      ]
     },
     "execution_count": 19,
     "metadata": {},
     "output_type": "execute_result"
    }
   ],
   "source": [
    "Q*Q'"
   ]
  },
  {
   "cell_type": "code",
   "execution_count": 20,
   "metadata": {},
   "outputs": [
    {
     "data": {
      "text/plain": [
       "(Complex{Float64}[-6.000000000000157 + 0.0im, 15.00000000000006 - 6.732659804061512e-7im, 15.00000000000006 + 6.732659804061512e-7im], 24.000000000000014, -1349.9999999999982)"
      ]
     },
     "execution_count": 20,
     "metadata": {},
     "output_type": "execute_result"
    }
   ],
   "source": [
    "# Similar matrices\n",
    "M=rand(-5:5,3,3)\n",
    "B=M*A*inv(M)\n",
    "eigvals(B), tr(B), det(B)"
   ]
  },
  {
   "cell_type": "markdown",
   "metadata": {},
   "source": [
    "### Example\n",
    "\n",
    "This matrix is nondefective and diagonalizable."
   ]
  },
  {
   "cell_type": "code",
   "execution_count": 21,
   "metadata": {},
   "outputs": [
    {
     "data": {
      "text/plain": [
       "3×3 Array{Int64,2}:\n",
       "   57  -21   21\n",
       "  -14   22   -7\n",
       " -140   70  -55"
      ]
     },
     "execution_count": 21,
     "metadata": {},
     "output_type": "execute_result"
    }
   ],
   "source": [
    "A=[57 -21 21; -14 22 -7; -140 70 -55]"
   ]
  },
  {
   "cell_type": "code",
   "execution_count": 22,
   "metadata": {},
   "outputs": [
    {
     "data": {
      "text/latex": [
       "\\begin{equation*}- \\left(x - 15\\right)^{2} \\left(x + 6\\right)\\end{equation*}"
      ],
      "text/plain": [
       "         2        \n",
       "-(x - 15) ⋅(x + 6)"
      ]
     },
     "execution_count": 22,
     "metadata": {},
     "output_type": "execute_result"
    }
   ],
   "source": [
    "p(x)=factor(det(A-x*eye(3)))\n",
    "p(x)"
   ]
  },
  {
   "cell_type": "code",
   "execution_count": 23,
   "metadata": {},
   "outputs": [
    {
     "data": {
      "text/latex": [
       "\\[ \\left[ \\begin{array}{r}-6\\\\15\\end{array} \\right] \\]"
      ],
      "text/plain": [
       "2-element Array{Sym,1}:\n",
       " -6\n",
       " 15"
      ]
     },
     "execution_count": 23,
     "metadata": {},
     "output_type": "execute_result"
    }
   ],
   "source": [
    "λ=solve(p(x),x)"
   ]
  },
  {
   "cell_type": "code",
   "execution_count": 24,
   "metadata": {},
   "outputs": [
    {
     "data": {
      "text/plain": [
       "3×2 Array{Float64,2}:\n",
       " 0.0       -0.57735\n",
       " 0.707107  -0.57735\n",
       " 0.707107   0.57735"
      ]
     },
     "execution_count": 24,
     "metadata": {},
     "output_type": "execute_result"
    }
   ],
   "source": [
    "h=nullspace(map(Float64,A-λ[2]*eye(3)))"
   ]
  },
  {
   "cell_type": "code",
   "execution_count": 25,
   "metadata": {},
   "outputs": [
    {
     "data": {
      "text/plain": [
       "3×3 Array{Float64,2}:\n",
       " -6.0  -174.816        -36.5844\n",
       "  0.0    15.0           -8.88178e-16\n",
       "  0.0     7.99361e-14   15.0"
      ]
     },
     "execution_count": 25,
     "metadata": {},
     "output_type": "execute_result"
    }
   ],
   "source": [
    "F=schur(A)\n",
    "F.T"
   ]
  },
  {
   "cell_type": "markdown",
   "metadata": {},
   "source": [
    "### Example\n",
    "\n",
    "Let us try some random examples of dimension $n=4$ (the largest $n$ for which we can compute eigevalues symbolically)."
   ]
  },
  {
   "cell_type": "code",
   "execution_count": 26,
   "metadata": {},
   "outputs": [
    {
     "data": {
      "text/plain": [
       "4×4 Array{Int64,2}:\n",
       "  0  3  -3   3\n",
       " -2  3   3   1\n",
       " -3  3  -1  -2\n",
       "  4  0   1   0"
      ]
     },
     "execution_count": 26,
     "metadata": {},
     "output_type": "execute_result"
    }
   ],
   "source": [
    "using Random\n",
    "Random.seed!(123)\n",
    "A=rand(-4:4,4,4)"
   ]
  },
  {
   "cell_type": "code",
   "execution_count": 27,
   "metadata": {},
   "outputs": [
    {
     "data": {
      "text/latex": [
       "\\begin{equation*}x^{4} - 2 x^{3} - 25 x^{2} + 30 x + 324\\end{equation*}"
      ],
      "text/plain": [
       " 4      3       2             \n",
       "x  - 2⋅x  - 25⋅x  + 30⋅x + 324"
      ]
     },
     "execution_count": 27,
     "metadata": {},
     "output_type": "execute_result"
    }
   ],
   "source": [
    "p(x)=factor(det(A-x*eye(4)))\n",
    "p(x)"
   ]
  },
  {
   "cell_type": "code",
   "execution_count": 28,
   "metadata": {},
   "outputs": [
    {
     "data": {
      "text/latex": [
       "\\[ \\left[ \\begin{array}{r}\\frac{1}{2} - \\frac{\\sqrt{\\frac{53}{3} + \\frac{4693}{18 \\sqrt[3]{\\frac{298871}{216} + \\frac{\\sqrt{43320759} i}{12}}} + 2 \\sqrt[3]{\\frac{298871}{216} + \\frac{\\sqrt{43320759} i}{12}}}}{2} - \\frac{\\sqrt{\\frac{106}{3} - 2 \\sqrt[3]{\\frac{298871}{216} + \\frac{\\sqrt{43320759} i}{12}} + \\frac{8}{\\sqrt{\\frac{53}{3} + \\frac{4693}{18 \\sqrt[3]{\\frac{298871}{216} + \\frac{\\sqrt{43320759} i}{12}}} + 2 \\sqrt[3]{\\frac{298871}{216} + \\frac{\\sqrt{43320759} i}{12}}}} - \\frac{4693}{18 \\sqrt[3]{\\frac{298871}{216} + \\frac{\\sqrt{43320759} i}{12}}}}}{2}\\\\\\frac{1}{2} + \\frac{\\sqrt{\\frac{53}{3} + \\frac{4693}{18 \\sqrt[3]{\\frac{298871}{216} + \\frac{\\sqrt{43320759} i}{12}}} + 2 \\sqrt[3]{\\frac{298871}{216} + \\frac{\\sqrt{43320759} i}{12}}}}{2} - \\frac{\\sqrt{\\frac{106}{3} - 2 \\sqrt[3]{\\frac{298871}{216} + \\frac{\\sqrt{43320759} i}{12}} - \\frac{8}{\\sqrt{\\frac{53}{3} + \\frac{4693}{18 \\sqrt[3]{\\frac{298871}{216} + \\frac{\\sqrt{43320759} i}{12}}} + 2 \\sqrt[3]{\\frac{298871}{216} + \\frac{\\sqrt{43320759} i}{12}}}} - \\frac{4693}{18 \\sqrt[3]{\\frac{298871}{216} + \\frac{\\sqrt{43320759} i}{12}}}}}{2}\\\\\\frac{1}{2} + \\frac{\\sqrt{\\frac{106}{3} - 2 \\sqrt[3]{\\frac{298871}{216} + \\frac{\\sqrt{43320759} i}{12}} - \\frac{8}{\\sqrt{\\frac{53}{3} + \\frac{4693}{18 \\sqrt[3]{\\frac{298871}{216} + \\frac{\\sqrt{43320759} i}{12}}} + 2 \\sqrt[3]{\\frac{298871}{216} + \\frac{\\sqrt{43320759} i}{12}}}} - \\frac{4693}{18 \\sqrt[3]{\\frac{298871}{216} + \\frac{\\sqrt{43320759} i}{12}}}}}{2} + \\frac{\\sqrt{\\frac{53}{3} + \\frac{4693}{18 \\sqrt[3]{\\frac{298871}{216} + \\frac{\\sqrt{43320759} i}{12}}} + 2 \\sqrt[3]{\\frac{298871}{216} + \\frac{\\sqrt{43320759} i}{12}}}}{2}\\\\\\frac{1}{2} + \\frac{\\sqrt{\\frac{106}{3} - 2 \\sqrt[3]{\\frac{298871}{216} + \\frac{\\sqrt{43320759} i}{12}} + \\frac{8}{\\sqrt{\\frac{53}{3} + \\frac{4693}{18 \\sqrt[3]{\\frac{298871}{216} + \\frac{\\sqrt{43320759} i}{12}}} + 2 \\sqrt[3]{\\frac{298871}{216} + \\frac{\\sqrt{43320759} i}{12}}}} - \\frac{4693}{18 \\sqrt[3]{\\frac{298871}{216} + \\frac{\\sqrt{43320759} i}{12}}}}}{2} - \\frac{\\sqrt{\\frac{53}{3} + \\frac{4693}{18 \\sqrt[3]{\\frac{298871}{216} + \\frac{\\sqrt{43320759} i}{12}}} + 2 \\sqrt[3]{\\frac{298871}{216} + \\frac{\\sqrt{43320759} i}{12}}}}{2}\\end{array} \\right] \\]"
      ],
      "text/plain": [
       "4-element Array{Sym,1}:\n",
       " 1/2 - sqrt(53/3 + 4693/(18*(298871/216 + sqrt(43320759)*I/12)^(1/3)) + 2*(298871/216 + sqrt(43320759)*I/12)^(1/3))/2 - sqrt(106/3 - 2*(298871/216 + sqrt(43320759)*I/12)^(1/3) + 8/sqrt(53/3 + 4693/(18*(298871/216 + sqrt(43320759)*I/12)^(1/3)) + 2*(298871/216 + sqrt(43320759)*I/12)^(1/3)) - 4693/(18*(298871/216 + sqrt(43320759)*I/12)^(1/3)))/2\n",
       " 1/2 + sqrt(53/3 + 4693/(18*(298871/216 + sqrt(43320759)*I/12)^(1/3)) + 2*(298871/216 + sqrt(43320759)*I/12)^(1/3))/2 - sqrt(106/3 - 2*(298871/216 + sqrt(43320759)*I/12)^(1/3) - 8/sqrt(53/3 + 4693/(18*(298871/216 + sqrt(43320759)*I/12)^(1/3)) + 2*(298871/216 + sqrt(43320759)*I/12)^(1/3)) - 4693/(18*(298871/216 + sqrt(43320759)*I/12)^(1/3)))/2\n",
       " 1/2 + sqrt(106/3 - 2*(298871/216 + sqrt(43320759)*I/12)^(1/3) - 8/sqrt(53/3 + 4693/(18*(298871/216 + sqrt(43320759)*I/12)^(1/3)) + 2*(298871/216 + sqrt(43320759)*I/12)^(1/3)) - 4693/(18*(298871/216 + sqrt(43320759)*I/12)^(1/3)))/2 + sqrt(53/3 + 4693/(18*(298871/216 + sqrt(43320759)*I/12)^(1/3)) + 2*(298871/216 + sqrt(43320759)*I/12)^(1/3))/2\n",
       " 1/2 + sqrt(106/3 - 2*(298871/216 + sqrt(43320759)*I/12)^(1/3) + 8/sqrt(53/3 + 4693/(18*(298871/216 + sqrt(43320759)*I/12)^(1/3)) + 2*(298871/216 + sqrt(43320759)*I/12)^(1/3)) - 4693/(18*(298871/216 + sqrt(43320759)*I/12)^(1/3)))/2 - sqrt(53/3 + 4693/(18*(298871/216 + sqrt(43320759)*I/12)^(1/3)) + 2*(298871/216 + sqrt(43320759)*I/12)^(1/3))/2"
      ]
     },
     "execution_count": 28,
     "metadata": {},
     "output_type": "execute_result"
    }
   ],
   "source": [
    "λ=solve(p(x),x)"
   ]
  },
  {
   "cell_type": "code",
   "execution_count": 29,
   "metadata": {
    "scrolled": true
   },
   "outputs": [
    {
     "data": {
      "text/plain": [
       "4"
      ]
     },
     "execution_count": 29,
     "metadata": {},
     "output_type": "execute_result"
    }
   ],
   "source": [
    "length(λ)"
   ]
  },
  {
   "cell_type": "markdown",
   "metadata": {},
   "source": [
    "Since all eigenvalues are distinct, they are all simple and the matrix is diagonalizable. \n",
    "With high probability, all eigenvalues of a random matrix are simple.\n",
    "\n",
    "Do not try to use `nullspace()` here."
   ]
  },
  {
   "cell_type": "code",
   "execution_count": 30,
   "metadata": {},
   "outputs": [
    {
     "data": {
      "text/latex": [
       "\\begin{equation*}\\frac{3.38186862787728 \\left(0.11230475307369 x^{8} - 0.577482168557925 x^{7} + 1.0 x^{6} - 0.650050059179624 x^{5} + 0.0234706828935998 x^{4} + 0.137035547738385 x^{3} - 0.0431687459613977 x^{2} + 0.00168390430737259 x + 6.01501218583027 \\cdot 10^{-5}\\right)}{0.379799921181417 x^{4} - 1.0 x^{3} + 0.836624012915075 x^{2} - 0.247969313739554 x + 0.0143453492392233}\\end{equation*}"
      ],
      "text/plain": [
       "                 ⎛                  8                      7        6         \n",
       "3.38186862787728⋅⎝0.11230475307369⋅x  - 0.577482168557925⋅x  + 1.0⋅x  - 0.6500\n",
       "──────────────────────────────────────────────────────────────────────────────\n",
       "                                                                            4 \n",
       "                                                         0.379799921181417⋅x  \n",
       "\n",
       "             5                       4                      3                 \n",
       "50059179624⋅x  + 0.0234706828935998⋅x  + 0.137035547738385⋅x  - 0.043168745961\n",
       "──────────────────────────────────────────────────────────────────────────────\n",
       "       3                      2                                               \n",
       "- 1.0⋅x  + 0.836624012915075⋅x  - 0.247969313739554⋅x + 0.0143453492392233    \n",
       "\n",
       "      2                                              ⎞\n",
       "3977⋅x  + 0.00168390430737259⋅x + 6.01501218583027e-5⎠\n",
       "──────────────────────────────────────────────────────\n",
       "                                                      \n",
       "                                                      "
      ]
     },
     "execution_count": 30,
     "metadata": {},
     "output_type": "execute_result"
    }
   ],
   "source": [
    "A=rand(4,4)\n",
    "p(x)=factor(det(A-x*eye(4)))\n",
    "p(x)"
   ]
  },
  {
   "cell_type": "markdown",
   "metadata": {},
   "source": [
    "In this case, symbolic computation does not work well with floating-point numbers - the degree of $p_A(x)$ is 8 instead of 4.\n",
    "\n",
    "Let us try `Rational` numbers:"
   ]
  },
  {
   "cell_type": "code",
   "execution_count": 31,
   "metadata": {},
   "outputs": [
    {
     "data": {
      "text/plain": [
       "4×4 Array{Rational{Int64},2}:\n",
       " 2766357556280301//4503599627370496  …  2798440949260299//4503599627370496\n",
       " 3614880418241535//4503599627370496      196003842078327//562949953421312\n",
       " 1251253776444781//2251799813685248     2569813346554741//4503599627370496\n",
       "  529613335220473//562949953421312       918719114247981//4503599627370496"
      ]
     },
     "execution_count": 31,
     "metadata": {},
     "output_type": "execute_result"
    }
   ],
   "source": [
    "A=map(Rational,A)"
   ]
  },
  {
   "cell_type": "code",
   "execution_count": 32,
   "metadata": {},
   "outputs": [
    {
     "data": {
      "text/latex": [
       "\\begin{equation*}\\frac{205688069665150755269371147819668813122841983204197482918576128 x^{4} - 516098893015258486191992613103377934939181547116050259862618112 x^{3} + 19556503958273307413339192236881133420393877152071708923920384 x^{2} + 132070114958308006066088439196161677871309827249193117647110144 x + 2916696370953252746150072496481024006168149914567049629396175}{205688069665150755269371147819668813122841983204197482918576128}\\end{equation*}"
      ],
      "text/plain": [
       "                                                                 4            \n",
       "205688069665150755269371147819668813122841983204197482918576128⋅x  - 516098893\n",
       "──────────────────────────────────────────────────────────────────────────────\n",
       "                                                                              \n",
       "\n",
       "                                                        3                     \n",
       "015258486191992613103377934939181547116050259862618112⋅x  + 195565039582733074\n",
       "──────────────────────────────────────────────────────────────────────────────\n",
       "                                                          20568806966515075526\n",
       "\n",
       "                                              2                               \n",
       "13339192236881133420393877152071708923920384⋅x  + 1320701149583080060660884391\n",
       "──────────────────────────────────────────────────────────────────────────────\n",
       "9371147819668813122841983204197482918576128                                   \n",
       "\n",
       "                                                                              \n",
       "96161677871309827249193117647110144⋅x + 29166963709532527461500724964810240061\n",
       "──────────────────────────────────────────────────────────────────────────────\n",
       "                                                                              \n",
       "\n",
       "                       \n",
       "68149914567049629396175\n",
       "───────────────────────\n",
       "                       "
      ]
     },
     "execution_count": 32,
     "metadata": {},
     "output_type": "execute_result"
    }
   ],
   "source": [
    "p(x)=factor(det(A-x*eye(4)))\n",
    "p(x)"
   ]
  },
  {
   "cell_type": "code",
   "execution_count": 33,
   "metadata": {},
   "outputs": [
    {
     "data": {
      "text/latex": [
       "\\[ \\left[ \\begin{array}{r}\\frac{11300134159719059}{18014398509481984} - \\frac{\\sqrt{\\frac{367651734667466909083179859605059}{243388915243820045087367015432192} + \\frac{1031004536818940592052623113611754218686054429798863358692187005}{3702385253972713594848680660754038636211155697675554692534370304 \\sqrt[3]{\\frac{241595952437880192075309903440465131856058991805221929547017039828558083201874506011805762843}{7039996334211983914143748299142810924593874768509475682198501392968741771982091656569821331456} + \\frac{17 \\sqrt{52780695677775735142518817340259915367992921746115475579682933189934552104701294351811171096509941338520401207545834934618082773875552670825799311238498173448668923623452644749787115626} i}{100124392308792660112266642476697755372001774485468098591267575366666549645967525782326347825152}}} + 2 \\sqrt[3]{\\frac{241595952437880192075309903440465131856058991805221929547017039828558083201874506011805762843}{7039996334211983914143748299142810924593874768509475682198501392968741771982091656569821331456} + \\frac{17 \\sqrt{52780695677775735142518817340259915367992921746115475579682933189934552104701294351811171096509941338520401207545834934618082773875552670825799311238498173448668923623452644749787115626} i}{100124392308792660112266642476697755372001774485468098591267575366666549645967525782326347825152}}}}{2} - \\frac{\\sqrt{\\frac{367651734667466909083179859605059}{121694457621910022543683507716096} - 2 \\sqrt[3]{\\frac{241595952437880192075309903440465131856058991805221929547017039828558083201874506011805762843}{7039996334211983914143748299142810924593874768509475682198501392968741771982091656569821331456} + \\frac{17 \\sqrt{52780695677775735142518817340259915367992921746115475579682933189934552104701294351811171096509941338520401207545834934618082773875552670825799311238498173448668923623452644749787115626} i}{100124392308792660112266642476697755372001774485468098591267575366666549645967525782326347825152}} - \\frac{886575462337898459234562458973361265771256866127}{365375409332725729550921208179070754913983135744 \\sqrt{\\frac{367651734667466909083179859605059}{243388915243820045087367015432192} + \\frac{1031004536818940592052623113611754218686054429798863358692187005}{3702385253972713594848680660754038636211155697675554692534370304 \\sqrt[3]{\\frac{241595952437880192075309903440465131856058991805221929547017039828558083201874506011805762843}{7039996334211983914143748299142810924593874768509475682198501392968741771982091656569821331456} + \\frac{17 \\sqrt{52780695677775735142518817340259915367992921746115475579682933189934552104701294351811171096509941338520401207545834934618082773875552670825799311238498173448668923623452644749787115626} i}{100124392308792660112266642476697755372001774485468098591267575366666549645967525782326347825152}}} + 2 \\sqrt[3]{\\frac{241595952437880192075309903440465131856058991805221929547017039828558083201874506011805762843}{7039996334211983914143748299142810924593874768509475682198501392968741771982091656569821331456} + \\frac{17 \\sqrt{52780695677775735142518817340259915367992921746115475579682933189934552104701294351811171096509941338520401207545834934618082773875552670825799311238498173448668923623452644749787115626} i}{100124392308792660112266642476697755372001774485468098591267575366666549645967525782326347825152}}}} - \\frac{1031004536818940592052623113611754218686054429798863358692187005}{3702385253972713594848680660754038636211155697675554692534370304 \\sqrt[3]{\\frac{241595952437880192075309903440465131856058991805221929547017039828558083201874506011805762843}{7039996334211983914143748299142810924593874768509475682198501392968741771982091656569821331456} + \\frac{17 \\sqrt{52780695677775735142518817340259915367992921746115475579682933189934552104701294351811171096509941338520401207545834934618082773875552670825799311238498173448668923623452644749787115626} i}{100124392308792660112266642476697755372001774485468098591267575366666549645967525782326347825152}}}}}{2}\\\\\\frac{11300134159719059}{18014398509481984} + \\frac{\\sqrt{\\frac{367651734667466909083179859605059}{121694457621910022543683507716096} - 2 \\sqrt[3]{\\frac{241595952437880192075309903440465131856058991805221929547017039828558083201874506011805762843}{7039996334211983914143748299142810924593874768509475682198501392968741771982091656569821331456} + \\frac{17 \\sqrt{52780695677775735142518817340259915367992921746115475579682933189934552104701294351811171096509941338520401207545834934618082773875552670825799311238498173448668923623452644749787115626} i}{100124392308792660112266642476697755372001774485468098591267575366666549645967525782326347825152}} - \\frac{886575462337898459234562458973361265771256866127}{365375409332725729550921208179070754913983135744 \\sqrt{\\frac{367651734667466909083179859605059}{243388915243820045087367015432192} + \\frac{1031004536818940592052623113611754218686054429798863358692187005}{3702385253972713594848680660754038636211155697675554692534370304 \\sqrt[3]{\\frac{241595952437880192075309903440465131856058991805221929547017039828558083201874506011805762843}{7039996334211983914143748299142810924593874768509475682198501392968741771982091656569821331456} + \\frac{17 \\sqrt{52780695677775735142518817340259915367992921746115475579682933189934552104701294351811171096509941338520401207545834934618082773875552670825799311238498173448668923623452644749787115626} i}{100124392308792660112266642476697755372001774485468098591267575366666549645967525782326347825152}}} + 2 \\sqrt[3]{\\frac{241595952437880192075309903440465131856058991805221929547017039828558083201874506011805762843}{7039996334211983914143748299142810924593874768509475682198501392968741771982091656569821331456} + \\frac{17 \\sqrt{52780695677775735142518817340259915367992921746115475579682933189934552104701294351811171096509941338520401207545834934618082773875552670825799311238498173448668923623452644749787115626} i}{100124392308792660112266642476697755372001774485468098591267575366666549645967525782326347825152}}}} - \\frac{1031004536818940592052623113611754218686054429798863358692187005}{3702385253972713594848680660754038636211155697675554692534370304 \\sqrt[3]{\\frac{241595952437880192075309903440465131856058991805221929547017039828558083201874506011805762843}{7039996334211983914143748299142810924593874768509475682198501392968741771982091656569821331456} + \\frac{17 \\sqrt{52780695677775735142518817340259915367992921746115475579682933189934552104701294351811171096509941338520401207545834934618082773875552670825799311238498173448668923623452644749787115626} i}{100124392308792660112266642476697755372001774485468098591267575366666549645967525782326347825152}}}}}{2} - \\frac{\\sqrt{\\frac{367651734667466909083179859605059}{243388915243820045087367015432192} + \\frac{1031004536818940592052623113611754218686054429798863358692187005}{3702385253972713594848680660754038636211155697675554692534370304 \\sqrt[3]{\\frac{241595952437880192075309903440465131856058991805221929547017039828558083201874506011805762843}{7039996334211983914143748299142810924593874768509475682198501392968741771982091656569821331456} + \\frac{17 \\sqrt{52780695677775735142518817340259915367992921746115475579682933189934552104701294351811171096509941338520401207545834934618082773875552670825799311238498173448668923623452644749787115626} i}{100124392308792660112266642476697755372001774485468098591267575366666549645967525782326347825152}}} + 2 \\sqrt[3]{\\frac{241595952437880192075309903440465131856058991805221929547017039828558083201874506011805762843}{7039996334211983914143748299142810924593874768509475682198501392968741771982091656569821331456} + \\frac{17 \\sqrt{52780695677775735142518817340259915367992921746115475579682933189934552104701294351811171096509941338520401207545834934618082773875552670825799311238498173448668923623452644749787115626} i}{100124392308792660112266642476697755372001774485468098591267575366666549645967525782326347825152}}}}{2}\\\\\\frac{11300134159719059}{18014398509481984} - \\frac{\\sqrt{\\frac{367651734667466909083179859605059}{121694457621910022543683507716096} - 2 \\sqrt[3]{\\frac{241595952437880192075309903440465131856058991805221929547017039828558083201874506011805762843}{7039996334211983914143748299142810924593874768509475682198501392968741771982091656569821331456} + \\frac{17 \\sqrt{52780695677775735142518817340259915367992921746115475579682933189934552104701294351811171096509941338520401207545834934618082773875552670825799311238498173448668923623452644749787115626} i}{100124392308792660112266642476697755372001774485468098591267575366666549645967525782326347825152}} + \\frac{886575462337898459234562458973361265771256866127}{365375409332725729550921208179070754913983135744 \\sqrt{\\frac{367651734667466909083179859605059}{243388915243820045087367015432192} + \\frac{1031004536818940592052623113611754218686054429798863358692187005}{3702385253972713594848680660754038636211155697675554692534370304 \\sqrt[3]{\\frac{241595952437880192075309903440465131856058991805221929547017039828558083201874506011805762843}{7039996334211983914143748299142810924593874768509475682198501392968741771982091656569821331456} + \\frac{17 \\sqrt{52780695677775735142518817340259915367992921746115475579682933189934552104701294351811171096509941338520401207545834934618082773875552670825799311238498173448668923623452644749787115626} i}{100124392308792660112266642476697755372001774485468098591267575366666549645967525782326347825152}}} + 2 \\sqrt[3]{\\frac{241595952437880192075309903440465131856058991805221929547017039828558083201874506011805762843}{7039996334211983914143748299142810924593874768509475682198501392968741771982091656569821331456} + \\frac{17 \\sqrt{52780695677775735142518817340259915367992921746115475579682933189934552104701294351811171096509941338520401207545834934618082773875552670825799311238498173448668923623452644749787115626} i}{100124392308792660112266642476697755372001774485468098591267575366666549645967525782326347825152}}}} - \\frac{1031004536818940592052623113611754218686054429798863358692187005}{3702385253972713594848680660754038636211155697675554692534370304 \\sqrt[3]{\\frac{241595952437880192075309903440465131856058991805221929547017039828558083201874506011805762843}{7039996334211983914143748299142810924593874768509475682198501392968741771982091656569821331456} + \\frac{17 \\sqrt{52780695677775735142518817340259915367992921746115475579682933189934552104701294351811171096509941338520401207545834934618082773875552670825799311238498173448668923623452644749787115626} i}{100124392308792660112266642476697755372001774485468098591267575366666549645967525782326347825152}}}}}{2} + \\frac{\\sqrt{\\frac{367651734667466909083179859605059}{243388915243820045087367015432192} + \\frac{1031004536818940592052623113611754218686054429798863358692187005}{3702385253972713594848680660754038636211155697675554692534370304 \\sqrt[3]{\\frac{241595952437880192075309903440465131856058991805221929547017039828558083201874506011805762843}{7039996334211983914143748299142810924593874768509475682198501392968741771982091656569821331456} + \\frac{17 \\sqrt{52780695677775735142518817340259915367992921746115475579682933189934552104701294351811171096509941338520401207545834934618082773875552670825799311238498173448668923623452644749787115626} i}{100124392308792660112266642476697755372001774485468098591267575366666549645967525782326347825152}}} + 2 \\sqrt[3]{\\frac{241595952437880192075309903440465131856058991805221929547017039828558083201874506011805762843}{7039996334211983914143748299142810924593874768509475682198501392968741771982091656569821331456} + \\frac{17 \\sqrt{52780695677775735142518817340259915367992921746115475579682933189934552104701294351811171096509941338520401207545834934618082773875552670825799311238498173448668923623452644749787115626} i}{100124392308792660112266642476697755372001774485468098591267575366666549645967525782326347825152}}}}{2}\\\\\\frac{11300134159719059}{18014398509481984} + \\frac{\\sqrt{\\frac{367651734667466909083179859605059}{121694457621910022543683507716096} - 2 \\sqrt[3]{\\frac{241595952437880192075309903440465131856058991805221929547017039828558083201874506011805762843}{7039996334211983914143748299142810924593874768509475682198501392968741771982091656569821331456} + \\frac{17 \\sqrt{52780695677775735142518817340259915367992921746115475579682933189934552104701294351811171096509941338520401207545834934618082773875552670825799311238498173448668923623452644749787115626} i}{100124392308792660112266642476697755372001774485468098591267575366666549645967525782326347825152}} + \\frac{886575462337898459234562458973361265771256866127}{365375409332725729550921208179070754913983135744 \\sqrt{\\frac{367651734667466909083179859605059}{243388915243820045087367015432192} + \\frac{1031004536818940592052623113611754218686054429798863358692187005}{3702385253972713594848680660754038636211155697675554692534370304 \\sqrt[3]{\\frac{241595952437880192075309903440465131856058991805221929547017039828558083201874506011805762843}{7039996334211983914143748299142810924593874768509475682198501392968741771982091656569821331456} + \\frac{17 \\sqrt{52780695677775735142518817340259915367992921746115475579682933189934552104701294351811171096509941338520401207545834934618082773875552670825799311238498173448668923623452644749787115626} i}{100124392308792660112266642476697755372001774485468098591267575366666549645967525782326347825152}}} + 2 \\sqrt[3]{\\frac{241595952437880192075309903440465131856058991805221929547017039828558083201874506011805762843}{7039996334211983914143748299142810924593874768509475682198501392968741771982091656569821331456} + \\frac{17 \\sqrt{52780695677775735142518817340259915367992921746115475579682933189934552104701294351811171096509941338520401207545834934618082773875552670825799311238498173448668923623452644749787115626} i}{100124392308792660112266642476697755372001774485468098591267575366666549645967525782326347825152}}}} - \\frac{1031004536818940592052623113611754218686054429798863358692187005}{3702385253972713594848680660754038636211155697675554692534370304 \\sqrt[3]{\\frac{241595952437880192075309903440465131856058991805221929547017039828558083201874506011805762843}{7039996334211983914143748299142810924593874768509475682198501392968741771982091656569821331456} + \\frac{17 \\sqrt{52780695677775735142518817340259915367992921746115475579682933189934552104701294351811171096509941338520401207545834934618082773875552670825799311238498173448668923623452644749787115626} i}{100124392308792660112266642476697755372001774485468098591267575366666549645967525782326347825152}}}}}{2} + \\frac{\\sqrt{\\frac{367651734667466909083179859605059}{243388915243820045087367015432192} + \\frac{1031004536818940592052623113611754218686054429798863358692187005}{3702385253972713594848680660754038636211155697675554692534370304 \\sqrt[3]{\\frac{241595952437880192075309903440465131856058991805221929547017039828558083201874506011805762843}{7039996334211983914143748299142810924593874768509475682198501392968741771982091656569821331456} + \\frac{17 \\sqrt{52780695677775735142518817340259915367992921746115475579682933189934552104701294351811171096509941338520401207545834934618082773875552670825799311238498173448668923623452644749787115626} i}{100124392308792660112266642476697755372001774485468098591267575366666549645967525782326347825152}}} + 2 \\sqrt[3]{\\frac{241595952437880192075309903440465131856058991805221929547017039828558083201874506011805762843}{7039996334211983914143748299142810924593874768509475682198501392968741771982091656569821331456} + \\frac{17 \\sqrt{52780695677775735142518817340259915367992921746115475579682933189934552104701294351811171096509941338520401207545834934618082773875552670825799311238498173448668923623452644749787115626} i}{100124392308792660112266642476697755372001774485468098591267575366666549645967525782326347825152}}}}{2}\\end{array} \\right] \\]"
      ],
      "text/plain": [
       "4-element Array{Sym,1}:\n",
       " 11300134159719059/18014398509481984 - sqrt(367651734667466909083179859605059/243388915243820045087367015432192 + 1031004536818940592052623113611754218686054429798863358692187005/(3702385253972713594848680660754038636211155697675554692534370304*(241595952437880192075309903440465131856058991805221929547017039828558083201874506011805762843/7039996334211983914143748299142810924593874768509475682198501392968741771982091656569821331456 + 17*sqrt(52780695677775735142518817340259915367992921746115475579682933189934552104701294351811171096509941338520401207545834934618082773875552670825799311238498173448668923623452644749787115626)*I/100124392308792660112266642476697755372001774485468098591267575366666549645967525782326347825152)^(1/3)) + 2*(241595952437880192075309903440465131856058991805221929547017039828558083201874506011805762843/7039996334211983914143748299142810924593874768509475682198501392968741771982091656569821331456 + 17*sqrt(52780695677775735142518817340259915367992921746115475579682933189934552104701294351811171096509941338520401207545834934618082773875552670825799311238498173448668923623452644749787115626)*I/100124392308792660112266642476697755372001774485468098591267575366666549645967525782326347825152)^(1/3))/2 - sqrt(367651734667466909083179859605059/121694457621910022543683507716096 - 2*(241595952437880192075309903440465131856058991805221929547017039828558083201874506011805762843/7039996334211983914143748299142810924593874768509475682198501392968741771982091656569821331456 + 17*sqrt(52780695677775735142518817340259915367992921746115475579682933189934552104701294351811171096509941338520401207545834934618082773875552670825799311238498173448668923623452644749787115626)*I/100124392308792660112266642476697755372001774485468098591267575366666549645967525782326347825152)^(1/3) - 886575462337898459234562458973361265771256866127/(365375409332725729550921208179070754913983135744*sqrt(367651734667466909083179859605059/243388915243820045087367015432192 + 1031004536818940592052623113611754218686054429798863358692187005/(3702385253972713594848680660754038636211155697675554692534370304*(241595952437880192075309903440465131856058991805221929547017039828558083201874506011805762843/7039996334211983914143748299142810924593874768509475682198501392968741771982091656569821331456 + 17*sqrt(52780695677775735142518817340259915367992921746115475579682933189934552104701294351811171096509941338520401207545834934618082773875552670825799311238498173448668923623452644749787115626)*I/100124392308792660112266642476697755372001774485468098591267575366666549645967525782326347825152)^(1/3)) + 2*(241595952437880192075309903440465131856058991805221929547017039828558083201874506011805762843/7039996334211983914143748299142810924593874768509475682198501392968741771982091656569821331456 + 17*sqrt(52780695677775735142518817340259915367992921746115475579682933189934552104701294351811171096509941338520401207545834934618082773875552670825799311238498173448668923623452644749787115626)*I/100124392308792660112266642476697755372001774485468098591267575366666549645967525782326347825152)^(1/3))) - 1031004536818940592052623113611754218686054429798863358692187005/(3702385253972713594848680660754038636211155697675554692534370304*(241595952437880192075309903440465131856058991805221929547017039828558083201874506011805762843/7039996334211983914143748299142810924593874768509475682198501392968741771982091656569821331456 + 17*sqrt(52780695677775735142518817340259915367992921746115475579682933189934552104701294351811171096509941338520401207545834934618082773875552670825799311238498173448668923623452644749787115626)*I/100124392308792660112266642476697755372001774485468098591267575366666549645967525782326347825152)^(1/3)))/2\n",
       " 11300134159719059/18014398509481984 + sqrt(367651734667466909083179859605059/121694457621910022543683507716096 - 2*(241595952437880192075309903440465131856058991805221929547017039828558083201874506011805762843/7039996334211983914143748299142810924593874768509475682198501392968741771982091656569821331456 + 17*sqrt(52780695677775735142518817340259915367992921746115475579682933189934552104701294351811171096509941338520401207545834934618082773875552670825799311238498173448668923623452644749787115626)*I/100124392308792660112266642476697755372001774485468098591267575366666549645967525782326347825152)^(1/3) - 886575462337898459234562458973361265771256866127/(365375409332725729550921208179070754913983135744*sqrt(367651734667466909083179859605059/243388915243820045087367015432192 + 1031004536818940592052623113611754218686054429798863358692187005/(3702385253972713594848680660754038636211155697675554692534370304*(241595952437880192075309903440465131856058991805221929547017039828558083201874506011805762843/7039996334211983914143748299142810924593874768509475682198501392968741771982091656569821331456 + 17*sqrt(52780695677775735142518817340259915367992921746115475579682933189934552104701294351811171096509941338520401207545834934618082773875552670825799311238498173448668923623452644749787115626)*I/100124392308792660112266642476697755372001774485468098591267575366666549645967525782326347825152)^(1/3)) + 2*(241595952437880192075309903440465131856058991805221929547017039828558083201874506011805762843/7039996334211983914143748299142810924593874768509475682198501392968741771982091656569821331456 + 17*sqrt(52780695677775735142518817340259915367992921746115475579682933189934552104701294351811171096509941338520401207545834934618082773875552670825799311238498173448668923623452644749787115626)*I/100124392308792660112266642476697755372001774485468098591267575366666549645967525782326347825152)^(1/3))) - 1031004536818940592052623113611754218686054429798863358692187005/(3702385253972713594848680660754038636211155697675554692534370304*(241595952437880192075309903440465131856058991805221929547017039828558083201874506011805762843/7039996334211983914143748299142810924593874768509475682198501392968741771982091656569821331456 + 17*sqrt(52780695677775735142518817340259915367992921746115475579682933189934552104701294351811171096509941338520401207545834934618082773875552670825799311238498173448668923623452644749787115626)*I/100124392308792660112266642476697755372001774485468098591267575366666549645967525782326347825152)^(1/3)))/2 - sqrt(367651734667466909083179859605059/243388915243820045087367015432192 + 1031004536818940592052623113611754218686054429798863358692187005/(3702385253972713594848680660754038636211155697675554692534370304*(241595952437880192075309903440465131856058991805221929547017039828558083201874506011805762843/7039996334211983914143748299142810924593874768509475682198501392968741771982091656569821331456 + 17*sqrt(52780695677775735142518817340259915367992921746115475579682933189934552104701294351811171096509941338520401207545834934618082773875552670825799311238498173448668923623452644749787115626)*I/100124392308792660112266642476697755372001774485468098591267575366666549645967525782326347825152)^(1/3)) + 2*(241595952437880192075309903440465131856058991805221929547017039828558083201874506011805762843/7039996334211983914143748299142810924593874768509475682198501392968741771982091656569821331456 + 17*sqrt(52780695677775735142518817340259915367992921746115475579682933189934552104701294351811171096509941338520401207545834934618082773875552670825799311238498173448668923623452644749787115626)*I/100124392308792660112266642476697755372001774485468098591267575366666549645967525782326347825152)^(1/3))/2\n",
       " 11300134159719059/18014398509481984 - sqrt(367651734667466909083179859605059/121694457621910022543683507716096 - 2*(241595952437880192075309903440465131856058991805221929547017039828558083201874506011805762843/7039996334211983914143748299142810924593874768509475682198501392968741771982091656569821331456 + 17*sqrt(52780695677775735142518817340259915367992921746115475579682933189934552104701294351811171096509941338520401207545834934618082773875552670825799311238498173448668923623452644749787115626)*I/100124392308792660112266642476697755372001774485468098591267575366666549645967525782326347825152)^(1/3) + 886575462337898459234562458973361265771256866127/(365375409332725729550921208179070754913983135744*sqrt(367651734667466909083179859605059/243388915243820045087367015432192 + 1031004536818940592052623113611754218686054429798863358692187005/(3702385253972713594848680660754038636211155697675554692534370304*(241595952437880192075309903440465131856058991805221929547017039828558083201874506011805762843/7039996334211983914143748299142810924593874768509475682198501392968741771982091656569821331456 + 17*sqrt(52780695677775735142518817340259915367992921746115475579682933189934552104701294351811171096509941338520401207545834934618082773875552670825799311238498173448668923623452644749787115626)*I/100124392308792660112266642476697755372001774485468098591267575366666549645967525782326347825152)^(1/3)) + 2*(241595952437880192075309903440465131856058991805221929547017039828558083201874506011805762843/7039996334211983914143748299142810924593874768509475682198501392968741771982091656569821331456 + 17*sqrt(52780695677775735142518817340259915367992921746115475579682933189934552104701294351811171096509941338520401207545834934618082773875552670825799311238498173448668923623452644749787115626)*I/100124392308792660112266642476697755372001774485468098591267575366666549645967525782326347825152)^(1/3))) - 1031004536818940592052623113611754218686054429798863358692187005/(3702385253972713594848680660754038636211155697675554692534370304*(241595952437880192075309903440465131856058991805221929547017039828558083201874506011805762843/7039996334211983914143748299142810924593874768509475682198501392968741771982091656569821331456 + 17*sqrt(52780695677775735142518817340259915367992921746115475579682933189934552104701294351811171096509941338520401207545834934618082773875552670825799311238498173448668923623452644749787115626)*I/100124392308792660112266642476697755372001774485468098591267575366666549645967525782326347825152)^(1/3)))/2 + sqrt(367651734667466909083179859605059/243388915243820045087367015432192 + 1031004536818940592052623113611754218686054429798863358692187005/(3702385253972713594848680660754038636211155697675554692534370304*(241595952437880192075309903440465131856058991805221929547017039828558083201874506011805762843/7039996334211983914143748299142810924593874768509475682198501392968741771982091656569821331456 + 17*sqrt(52780695677775735142518817340259915367992921746115475579682933189934552104701294351811171096509941338520401207545834934618082773875552670825799311238498173448668923623452644749787115626)*I/100124392308792660112266642476697755372001774485468098591267575366666549645967525782326347825152)^(1/3)) + 2*(241595952437880192075309903440465131856058991805221929547017039828558083201874506011805762843/7039996334211983914143748299142810924593874768509475682198501392968741771982091656569821331456 + 17*sqrt(52780695677775735142518817340259915367992921746115475579682933189934552104701294351811171096509941338520401207545834934618082773875552670825799311238498173448668923623452644749787115626)*I/100124392308792660112266642476697755372001774485468098591267575366666549645967525782326347825152)^(1/3))/2\n",
       " 11300134159719059/18014398509481984 + sqrt(367651734667466909083179859605059/121694457621910022543683507716096 - 2*(241595952437880192075309903440465131856058991805221929547017039828558083201874506011805762843/7039996334211983914143748299142810924593874768509475682198501392968741771982091656569821331456 + 17*sqrt(52780695677775735142518817340259915367992921746115475579682933189934552104701294351811171096509941338520401207545834934618082773875552670825799311238498173448668923623452644749787115626)*I/100124392308792660112266642476697755372001774485468098591267575366666549645967525782326347825152)^(1/3) + 886575462337898459234562458973361265771256866127/(365375409332725729550921208179070754913983135744*sqrt(367651734667466909083179859605059/243388915243820045087367015432192 + 1031004536818940592052623113611754218686054429798863358692187005/(3702385253972713594848680660754038636211155697675554692534370304*(241595952437880192075309903440465131856058991805221929547017039828558083201874506011805762843/7039996334211983914143748299142810924593874768509475682198501392968741771982091656569821331456 + 17*sqrt(52780695677775735142518817340259915367992921746115475579682933189934552104701294351811171096509941338520401207545834934618082773875552670825799311238498173448668923623452644749787115626)*I/100124392308792660112266642476697755372001774485468098591267575366666549645967525782326347825152)^(1/3)) + 2*(241595952437880192075309903440465131856058991805221929547017039828558083201874506011805762843/7039996334211983914143748299142810924593874768509475682198501392968741771982091656569821331456 + 17*sqrt(52780695677775735142518817340259915367992921746115475579682933189934552104701294351811171096509941338520401207545834934618082773875552670825799311238498173448668923623452644749787115626)*I/100124392308792660112266642476697755372001774485468098591267575366666549645967525782326347825152)^(1/3))) - 1031004536818940592052623113611754218686054429798863358692187005/(3702385253972713594848680660754038636211155697675554692534370304*(241595952437880192075309903440465131856058991805221929547017039828558083201874506011805762843/7039996334211983914143748299142810924593874768509475682198501392968741771982091656569821331456 + 17*sqrt(52780695677775735142518817340259915367992921746115475579682933189934552104701294351811171096509941338520401207545834934618082773875552670825799311238498173448668923623452644749787115626)*I/100124392308792660112266642476697755372001774485468098591267575366666549645967525782326347825152)^(1/3)))/2 + sqrt(367651734667466909083179859605059/243388915243820045087367015432192 + 1031004536818940592052623113611754218686054429798863358692187005/(3702385253972713594848680660754038636211155697675554692534370304*(241595952437880192075309903440465131856058991805221929547017039828558083201874506011805762843/7039996334211983914143748299142810924593874768509475682198501392968741771982091656569821331456 + 17*sqrt(52780695677775735142518817340259915367992921746115475579682933189934552104701294351811171096509941338520401207545834934618082773875552670825799311238498173448668923623452644749787115626)*I/100124392308792660112266642476697755372001774485468098591267575366666549645967525782326347825152)^(1/3)) + 2*(241595952437880192075309903440465131856058991805221929547017039828558083201874506011805762843/7039996334211983914143748299142810924593874768509475682198501392968741771982091656569821331456 + 17*sqrt(52780695677775735142518817340259915367992921746115475579682933189934552104701294351811171096509941338520401207545834934618082773875552670825799311238498173448668923623452644749787115626)*I/100124392308792660112266642476697755372001774485468098591267575366666549645967525782326347825152)^(1/3))/2"
      ]
     },
     "execution_count": 33,
     "metadata": {},
     "output_type": "execute_result"
    }
   ],
   "source": [
    "λ=solve(p(x),x)"
   ]
  },
  {
   "cell_type": "code",
   "execution_count": 34,
   "metadata": {},
   "outputs": [
    {
     "data": {
      "text/plain": [
       "4"
      ]
     },
     "execution_count": 34,
     "metadata": {},
     "output_type": "execute_result"
    }
   ],
   "source": [
    "length(λ)"
   ]
  },
  {
   "cell_type": "markdown",
   "metadata": {},
   "source": [
    "### Example - Circulant matrix\n",
    "\n",
    "For more details, see \n",
    "[A. B&ouml;ttcher and I. Spitkovsky, Special Types of Matrices][BoSp14] and the references therein.\n",
    "\n",
    "[BoSp14]: #1 \"L. Hogben, ed., 'Handbook of Linear Algebra', pp. 22.1-22.20, CRC Press, Boca Raton, 2014.\"\n",
    "\n",
    "Given $a_0,a_1,\\ldots,a_{n-1}\\in \\mathbb{C}$, the __circulant matrix__ is\n",
    "\n",
    "$$\n",
    "C(a_0,a_1,\\ldots,a_{n-1})=\\begin{bmatrix}\n",
    "a_0 & a_{n-1} & a_{n-2} & \\cdots & a_{1} \\\\\n",
    "a_1 & a_0 & a_{n-1} & \\cdots & a_{2} \\\\\n",
    "a_2 & a_1 & a_{0} & \\cdots & a_{3} \\\\\n",
    "\\vdots & \\vdots & \\vdots & \\ddots & \\vdots \\\\\n",
    "a_{n-1} & a_{n-2} & a_{n-3} & \\cdots & a_{0}\n",
    "\\end{bmatrix}.\n",
    "$$\n",
    "\n",
    "Let $a(z)=a_0+a_1z+a_2z^2+\\cdots +a_{n-1}z^{n-1}$ be the associated complex polynomial.\n",
    "\n",
    "Let $\\omega_n=\\exp\\big(\\displaystyle\\frac{2\\pi i}{n}\\big)$. The __Fourier matrix__ of order $n$ is\n",
    "\n",
    "$$\n",
    "F_n=\\frac{1}{\\sqrt{n}} \\bigg[ \\omega_n^{(j-1)(k-1)}\\bigg]_{j,k=1}^n=\n",
    "\\frac{1}{\\sqrt{n}} \\begin{bmatrix} \n",
    "1 & 1 & \\cdots & 1 \\\\\n",
    "1& \\omega_n & \\omega_n^2 & \\cdots \\omega_n^{n-1} \\\\\n",
    "1& \\omega_n^2 & \\omega_n^4 & \\cdots \\omega_n^{2(n-1)} \\\\\n",
    "\\vdots & \\vdots & \\ddots & \\vdots \\\\\n",
    "1& \\omega_n^{n-1} & \\omega_n^{2(n-1)} & \\cdots \\omega_n^{(n-1)(n-1)}\n",
    "\\end{bmatrix}.\n",
    "$$\n",
    "\n",
    "Fourier matrix is unitary. \n",
    "Fourier matrix is a Vandermonde matrix, \n",
    "\n",
    "$$F_n=\\displaystyle\\frac{1}{\\sqrt{n}} V(1,\\omega_n,\\omega_n^2,\\ldots, \\omega_n^{n-1}).\n",
    "$$\n",
    "\n",
    "Circulant matrix is normal and, thus, unitarily diagonalizable, with the eigenvalue decomposition\n",
    "\n",
    "$$\n",
    "C(a_0,a_1,\\ldots,a_{n-1})=F_n^*\\mathop{\\mathrm{diag}}[(a(1),a(\\omega_n),a(\\omega_n^2),\\ldots, \n",
    "a(\\omega_n^{n-1})]F_n.\n",
    "$$\n",
    "\n",
    "We shall use the package [SpecialMatrices.jl](https://github.com/jiahao/SpecialMatrices.jl)."
   ]
  },
  {
   "cell_type": "code",
   "execution_count": 35,
   "metadata": {},
   "outputs": [],
   "source": [
    "# using Pkg; Pkg.add(PackageSpec(name=\"SpecialMatrices\",rev=\"master\"))"
   ]
  },
  {
   "cell_type": "code",
   "execution_count": 37,
   "metadata": {},
   "outputs": [],
   "source": [
    "using SpecialMatrices\n",
    "using Polynomials"
   ]
  },
  {
   "cell_type": "code",
   "execution_count": 38,
   "metadata": {},
   "outputs": [
    {
     "data": {
      "text/latex": [
       "\\begin{tabular}\n",
       "{l | r | l}\n",
       "name & size & summary \\\\\n",
       "\\hline\n",
       "Cauchy & 40 bytes & UnionAll \\\\\n",
       "Circulant & 40 bytes & UnionAll \\\\\n",
       "Companion & 40 bytes & UnionAll \\\\\n",
       "Frobenius & 40 bytes & UnionAll \\\\\n",
       "Hankel & 40 bytes & UnionAll \\\\\n",
       "Hilbert & 40 bytes & UnionAll \\\\\n",
       "InverseHilbert & 40 bytes & UnionAll \\\\\n",
       "Kahan & 80 bytes & UnionAll \\\\\n",
       "Riemann & 40 bytes & UnionAll \\\\\n",
       "SpecialMatrices & 185.473 KiB & Module \\\\\n",
       "Strang & 40 bytes & UnionAll \\\\\n",
       "Toeplitz & 40 bytes & UnionAll \\\\\n",
       "Vandermonde & 40 bytes & UnionAll \\\\\n",
       "embed & 0 bytes & typeof(embed) \\\\\n",
       "\\end{tabular}\n"
      ],
      "text/markdown": [
       "| name            |        size | summary       |\n",
       "|:--------------- | -----------:|:------------- |\n",
       "| Cauchy          |    40 bytes | UnionAll      |\n",
       "| Circulant       |    40 bytes | UnionAll      |\n",
       "| Companion       |    40 bytes | UnionAll      |\n",
       "| Frobenius       |    40 bytes | UnionAll      |\n",
       "| Hankel          |    40 bytes | UnionAll      |\n",
       "| Hilbert         |    40 bytes | UnionAll      |\n",
       "| InverseHilbert  |    40 bytes | UnionAll      |\n",
       "| Kahan           |    80 bytes | UnionAll      |\n",
       "| Riemann         |    40 bytes | UnionAll      |\n",
       "| SpecialMatrices | 185.473 KiB | Module        |\n",
       "| Strang          |    40 bytes | UnionAll      |\n",
       "| Toeplitz        |    40 bytes | UnionAll      |\n",
       "| Vandermonde     |    40 bytes | UnionAll      |\n",
       "| embed           |     0 bytes | typeof(embed) |\n"
      ],
      "text/plain": [
       "  name                   size summary      \n",
       "  ––––––––––––––– ––––––––––– –––––––––––––\n",
       "  Cauchy             40 bytes UnionAll     \n",
       "  Circulant          40 bytes UnionAll     \n",
       "  Companion          40 bytes UnionAll     \n",
       "  Frobenius          40 bytes UnionAll     \n",
       "  Hankel             40 bytes UnionAll     \n",
       "  Hilbert            40 bytes UnionAll     \n",
       "  InverseHilbert     40 bytes UnionAll     \n",
       "  Kahan              80 bytes UnionAll     \n",
       "  Riemann            40 bytes UnionAll     \n",
       "  SpecialMatrices 185.473 KiB Module       \n",
       "  Strang             40 bytes UnionAll     \n",
       "  Toeplitz           40 bytes UnionAll     \n",
       "  Vandermonde        40 bytes UnionAll     \n",
       "  embed               0 bytes typeof(embed)"
      ]
     },
     "execution_count": 38,
     "metadata": {},
     "output_type": "execute_result"
    }
   ],
   "source": [
    "varinfo(SpecialMatrices)"
   ]
  },
  {
   "cell_type": "code",
   "execution_count": 39,
   "metadata": {},
   "outputs": [
    {
     "data": {
      "text/plain": [
       "6-element Array{Int64,1}:\n",
       " -1\n",
       "  3\n",
       "  2\n",
       " -2\n",
       "  9\n",
       "  7"
      ]
     },
     "execution_count": 39,
     "metadata": {},
     "output_type": "execute_result"
    }
   ],
   "source": [
    "import Random\n",
    "Random.seed!(127)\n",
    "n=6\n",
    "a=rand(-9:9,n)"
   ]
  },
  {
   "cell_type": "code",
   "execution_count": 40,
   "metadata": {},
   "outputs": [
    {
     "data": {
      "text/plain": [
       "6×6 Circulant{Int64}:\n",
       " -1   7   9  -2   2   3\n",
       "  3  -1   7   9  -2   2\n",
       "  2   3  -1   7   9  -2\n",
       " -2   2   3  -1   7   9\n",
       "  9  -2   2   3  -1   7\n",
       "  7   9  -2   2   3  -1"
      ]
     },
     "execution_count": 40,
     "metadata": {},
     "output_type": "execute_result"
    }
   ],
   "source": [
    "C=Circulant(a)"
   ]
  },
  {
   "cell_type": "code",
   "execution_count": 41,
   "metadata": {},
   "outputs": [
    {
     "data": {
      "text/plain": [
       "6×6 Array{Int64,2}:\n",
       " 0  0  0  0  0  0\n",
       " 0  0  0  0  0  0\n",
       " 0  0  0  0  0  0\n",
       " 0  0  0  0  0  0\n",
       " 0  0  0  0  0  0\n",
       " 0  0  0  0  0  0"
      ]
     },
     "execution_count": 41,
     "metadata": {},
     "output_type": "execute_result"
    }
   ],
   "source": [
    "# Check for normality\n",
    "C*C'-C'*C"
   ]
  },
  {
   "cell_type": "code",
   "execution_count": 42,
   "metadata": {},
   "outputs": [
    {
     "data": {
      "text/plain": [
       "6×6 Array{Int64,2}:\n",
       " -1   7   9  -2   2   3\n",
       "  3  -1   7   9  -2   2\n",
       "  2   3  -1   7   9  -2\n",
       " -2   2   3  -1   7   9\n",
       "  9  -2   2   3  -1   7\n",
       "  7   9  -2   2   3  -1"
      ]
     },
     "execution_count": 42,
     "metadata": {},
     "output_type": "execute_result"
    }
   ],
   "source": [
    "Cm=Matrix(C)"
   ]
  },
  {
   "cell_type": "code",
   "execution_count": 43,
   "metadata": {},
   "outputs": [
    {
     "data": {
      "text/plain": [
       "6×6 Array{Int64,2}:\n",
       " 0  0  0  0  0  0\n",
       " 0  0  0  0  0  0\n",
       " 0  0  0  0  0  0\n",
       " 0  0  0  0  0  0\n",
       " 0  0  0  0  0  0\n",
       " 0  0  0  0  0  0"
      ]
     },
     "execution_count": 43,
     "metadata": {},
     "output_type": "execute_result"
    }
   ],
   "source": [
    "Cm*Cm'-Cm'*Cm"
   ]
  },
  {
   "cell_type": "code",
   "execution_count": 48,
   "metadata": {},
   "outputs": [
    {
     "data": {
      "text/html": [
       "&#45;1 &#43; 3&#8729;x &#43; 2&#8729;x<sup>2</sup> &#45; 2&#8729;x<sup>3</sup> &#43; 9&#8729;x<sup>4</sup> &#43; 7&#8729;x<sup>5</sup>"
      ],
      "text/latex": [
       "$-1 + 3\\cdot x + 2\\cdot x^{2} - 2\\cdot x^{3} + 9\\cdot x^{4} + 7\\cdot x^{5}$"
      ],
      "text/plain": [
       "Poly(-1 + 3*x + 2*x^2 - 2*x^3 + 9*x^4 + 7*x^5)"
      ]
     },
     "execution_count": 48,
     "metadata": {},
     "output_type": "execute_result"
    }
   ],
   "source": [
    "p1=Poly(a)"
   ]
  },
  {
   "cell_type": "code",
   "execution_count": 49,
   "metadata": {},
   "outputs": [
    {
     "data": {
      "text/html": [
       "1 &#45; 6&#8729;x &#43; 5&#8729;x<sup>2</sup> &#43; 16&#8729;x<sup>3</sup> &#45; 26&#8729;x<sup>4</sup> &#43; 32&#8729;x<sup>5</sup> &#43; 82&#8729;x<sup>6</sup> &#45; 8&#8729;x<sup>7</sup> &#43; 53&#8729;x<sup>8</sup> &#43; 126&#8729;x<sup>9</sup> &#43; 49&#8729;x<sup>10</sup>"
      ],
      "text/latex": [
       "$1 - 6\\cdot x + 5\\cdot x^{2} + 16\\cdot x^{3} - 26\\cdot x^{4} + 32\\cdot x^{5} + 82\\cdot x^{6} - 8\\cdot x^{7} + 53\\cdot x^{8} + 126\\cdot x^{9} + 49\\cdot x^{10}$"
      ],
      "text/plain": [
       "Poly(1 - 6*x + 5*x^2 + 16*x^3 - 26*x^4 + 32*x^5 + 82*x^6 - 8*x^7 + 53*x^8 + 126*x^9 + 49*x^10)"
      ]
     },
     "execution_count": 49,
     "metadata": {},
     "output_type": "execute_result"
    }
   ],
   "source": [
    "# Polynomials are easy to manipulate\n",
    "p2=p1*p1"
   ]
  },
  {
   "cell_type": "code",
   "execution_count": 50,
   "metadata": {},
   "outputs": [
    {
     "data": {
      "text/plain": [
       "0.5000000000000001 + 0.8660254037844386im"
      ]
     },
     "execution_count": 50,
     "metadata": {},
     "output_type": "execute_result"
    }
   ],
   "source": [
    "# n-th complex root of unity\n",
    "ω=exp(2*π*im/n)"
   ]
  },
  {
   "cell_type": "code",
   "execution_count": 51,
   "metadata": {},
   "outputs": [
    {
     "data": {
      "text/plain": [
       "6×6 Vandermonde{Complex{Float64}}:\n",
       " 1.0+0.0im   1.0+0.0im           1.0+0.0im          …   1.0+0.0im\n",
       " 1.0+0.0im   0.5+0.866025im     -0.5+0.866025im         0.5-0.866025im\n",
       " 1.0+0.0im  -0.5+0.866025im     -0.5-0.866025im        -0.5-0.866025im\n",
       " 1.0+0.0im  -1.0+3.88578e-16im   1.0-7.77156e-16im     -1.0+1.94289e-15im\n",
       " 1.0+0.0im  -0.5-0.866025im     -0.5+0.866025im        -0.5+0.866025im\n",
       " 1.0+0.0im   0.5-0.866025im     -0.5-0.866025im     …   0.5+0.866025im"
      ]
     },
     "execution_count": 51,
     "metadata": {},
     "output_type": "execute_result"
    }
   ],
   "source": [
    "v=[ω^k for k=0:n-1]\n",
    "F=Vandermonde(v)"
   ]
  },
  {
   "cell_type": "code",
   "execution_count": 52,
   "metadata": {},
   "outputs": [
    {
     "data": {
      "text/plain": [
       "6×6 Array{Complex{Float64},2}:\n",
       "         18.0+0.0im          …   1.01955e-14-9.84146e-15im\n",
       " -2.35916e-15+1.74243e-15im     -4.41314e-15-3.55271e-15im\n",
       " -2.33153e-15+1.74029e-15im      8.76935e-16+4.87854e-15im\n",
       " -2.81676e-16+3.4972e-15im      -2.61444e-15+5.86306e-16im\n",
       "  1.71426e-15+5.79502e-15im      3.79963e-15+9.37263e-15im\n",
       "  1.06966e-14+8.37778e-15im  …           0.5+9.52628im"
      ]
     },
     "execution_count": 52,
     "metadata": {},
     "output_type": "execute_result"
    }
   ],
   "source": [
    "Fn=Matrix(F)/sqrt(n)\n",
    "Λ=Fn*C*Fn'"
   ]
  },
  {
   "cell_type": "code",
   "execution_count": 54,
   "metadata": {},
   "outputs": [
    {
     "data": {
      "text/plain": [
       "6×3 Array{Complex{Float64},2}:\n",
       "  18.0+0.0im       18.0+0.0im          -13.5-2.59808im\n",
       "   0.5-9.52628im    0.5-9.52628im      -13.5+2.59808im\n",
       " -13.5+2.59808im  -13.5+2.59808im        0.5-9.52628im\n",
       "   2.0+0.0im        2.0-3.10862e-15im    0.5+9.52628im\n",
       " -13.5-2.59808im  -13.5-2.59808im        2.0+0.0im\n",
       "   0.5+9.52628im    0.5+9.52628im       18.0+0.0im"
      ]
     },
     "execution_count": 54,
     "metadata": {},
     "output_type": "execute_result"
    }
   ],
   "source": [
    "# Check\n",
    "[diag(Λ) p1.(v) eigvals(Matrix(C))]"
   ]
  },
  {
   "cell_type": "markdown",
   "metadata": {},
   "source": [
    "\n",
    "## Hermitian and real symmetric matrices\n",
    "\n",
    "For more details and the proofs of the Facts below, see \n",
    "[W. Barrett, Hermitian and Positive Definite Matrices][Bar14] and the references therein.\n",
    "\n",
    "[Bar14]: #1 \"L. Hogben, ed., 'Handbook of Linear Algebra', pp. 9.1-9.13, CRC Press, Boca Raton, 2014.\"\n",
    "\n",
    "### Definitions\n",
    "\n",
    "Matrix $A\\in \\mathbb{C}^{n\\times n}$ is __Hermitian__ or __self-adjoint__ if $A^*=A$, \n",
    "or element-wise, $\\bar a_{ij}=a_{ji}$. We say $A\\in\\mathcal{H}_n$.\n",
    "\n",
    "Matrix $A\\in \\mathbb{R}^{n\\times n}$ is __symmetric__ if $A^T=A$, or element-wise, $a_{ij}=a_{ji}$.\n",
    "We say $A\\in\\mathcal{S}_n$.\n",
    "\n",
    "__Rayleigh qoutient__ of $A\\in\\mathcal{H}_n$ and nonzero vector $x\\in\\mathbb{C}^n$ is\n",
    "\n",
    "$$\n",
    "R_A(x)=\\frac{x^*Ax}{x^*x}.\n",
    "$$\n",
    "\n",
    "Matrices $A,B \\in\\mathcal{H}_n$ are __congruent__ if there exists nonsingular matrix $C$ such that \n",
    "$B=C^*AC$.\n",
    "\n",
    "__Inertia__ of $A\\in\\mathcal{H}_n$ is the ordered triple \n",
    "$$\\mathop{\\mathrm{in}}(A)=(\\pi(A),\\nu(A),\\zeta(A)),$$\n",
    "\n",
    "where $\\pi(A)$ is the number of positive eigenvalues of $A$,  $\\nu(A)$ is the number of negative eigenvalues of $A$,\n",
    "and $\\zeta(A)$ is the number of zero eigenvalues of $A$.\n",
    "\n",
    "__Gram matrix__ of a set of vectors $x_1,x_2,\\ldots,x_k\\in\\mathbb{C}^{n}$ is the matrix $G$ with entries $G_{ij}=x_i^*x_j$. "
   ]
  },
  {
   "cell_type": "markdown",
   "metadata": {},
   "source": [
    "### Facts\n",
    "\n",
    "Assume $A$ is Hermitian and $x\\in\\mathbb{C}^n$ is nonzero. Then\n",
    "\n",
    "1. Real symmetric matrix is Hermitian, and real Hermitian matrix is symmetric.\n",
    "\n",
    "2. Hermitian and real symmetric matrices are normal.\n",
    "\n",
    "2. $A+A^*$, $A^*A$, and $AA^*$ are Hermitian.\n",
    "\n",
    "3. If $A$ is nonsingular, $A^{-1}$ is Hermitian.\n",
    "\n",
    "4. Main diagonal entries of $A$ are real.\n",
    "\n",
    "5. Matrix $T$ from the Schur decomposition of $A$ is Hermitian. Consequently:\n",
    "   \n",
    "    * $T$ is diagonal and real, and has eigenvalues of $A$ on diagonal,\n",
    "    * matrix $Q$ of the Schur decomposition is the unitary matrix of eigenvectors,\n",
    "    * all eigenvalues of $A$ are semisimple and $A$ is nondefective,\n",
    "    * eigenvectors corresponding to distinct eigenvalues are orthogonal.\n",
    "    \n",
    "6. __Spectral Theorem.__ To summarize:\n",
    "\n",
    "    * if $A\\in\\mathcal{H}_n$, there is a unitary matrix $U$ and real diagonal matrix $\\Lambda$ such that \n",
    "    $A=U\\Lambda U^*$. The diagonal entries of $\\Lambda$ are the eigenvalues of $A$, and the \n",
    "    columns of $U$ are the corresponding eigenvectors.\n",
    "    * if $A\\in\\mathcal{S}_n$, the same holds with orthogonal matrix $U$, $A=U\\Lambda U^T$.\n",
    "    * if $A\\in\\mathcal{H}_n$ with eigenpairs $(\\lambda_i,u_i)$, then\n",
    "    \n",
    "    $$ A=\\lambda_1u_1u_1^*+\\lambda_2 u_2u_2^* +\\cdots +\\lambda_n u_nu_n^*.$$\n",
    "    \n",
    "    * similarly, if  $A\\in\\mathcal{S}_n$, then\n",
    "    \n",
    "    $$ A=\\lambda_1u_1u_1^T+\\lambda_2 u_2u_2^T +\\cdots +\\lambda_n u_nu_n^T.$$\n",
    "    \n",
    "\n",
    "7. Since all eigenvalues of $A$ are real, they can be ordered:\n",
    "\n",
    "$$\\lambda_1\\geq \\lambda_2\\geq \\cdots \\geq \\lambda_n.$$\n",
    "\n",
    "8. __Rayleigh-Ritz Theorem.__ It holds:\n",
    "\n",
    "\\begin{align*}\n",
    "\\lambda_n &\\leq \\frac{x^*Ax}{x^*x} \\leq \\lambda_1, \\\\\n",
    "\\lambda_1&=\\max_x\\frac{x^*Ax}{x^*x} =\\max_{\\|x\\|_2=1} x^*Ax, \\\\\n",
    "\\lambda_n&=\\min_x\\frac{x^*Ax}{x^*x} =\\min_{\\|x\\|_2=1} x^*Ax.\n",
    "\\end{align*}\n",
    "\n",
    "8. __Courant-Fischer Theorem.__ It holds:\n",
    "\n",
    "\\begin{align*}\n",
    "\\lambda_k& =\\max_{\\dim(W)=k}\\min_{x\\in W} \\frac{x^*Ax}{x^*x}\\\\\n",
    "& =\\min_{\\dim(W)=n-k+1}\\max_{x\\in W} \\frac{x^*Ax}{x^*x}.\n",
    "\\end{align*} \n",
    "\n",
    "10. __Cauchy Interlace Theorem.__ Let $B$ be the principal submatrix of $A$ obtained by deleting the $i$-th row and the $i$-th column of $A$. Let $\\mu_1\\geq \\mu_2\\geq \\cdots \\geq \\mu_{n-1}$ be the eignvalues of $B$. Then\n",
    "\n",
    "$$\n",
    "\\lambda_1\\geq \\mu_1\\geq \\lambda_2\\geq \\mu_2\\geq \\lambda_3\\geq\\cdots\\geq \\lambda_{n-1}\\geq\\mu_{n-1}\\geq\\lambda_n.\n",
    "$$\n",
    "\n",
    "9. __Weyl Inequalities.__ For $A,B\\in\\mathcal{H}_n$, it holds:\n",
    "\n",
    "\\begin{align*}\n",
    "   \\lambda_{j+k-1}(A+B)& \\leq \\lambda_j(A)+\\lambda_k(B), & \\textrm{for} \\ j+k\\leq n+1,\\\\\n",
    "   \\lambda_{j+k-n}(A+B)& \\geq \\lambda_j(A)+\\lambda_k(B), & \\textrm{for} \\ j+k\\geq n+1,\n",
    "\\end{align*}\n",
    "\n",
    "and, in particular, \n",
    "\n",
    "$$\n",
    "\\lambda_j(A)+\\lambda_n(B) \\leq \\lambda_j(A+B) \\leq \\lambda_j(A)+\\lambda_1(B),\\quad \\textrm{for} \\ j=1,2,\\ldots,n.\n",
    "$$\n",
    "\n",
    "11. $\\pi(A)+\\nu(A)+\\zeta(A)=n$.\n",
    "\n",
    "12. $\\mathop{\\mathrm{rank}}(A)=\\pi(A)+\\nu(A)$.\n",
    "\n",
    "13. If $A$ is nonsingular, $\\mathop{\\mathrm{in}}(A)=\\mathop{\\mathrm{in}}(A^{-1})$.\n",
    "\n",
    "13. If $A,B \\in\\mathcal{H}_n$ are similar,  $\\mathop{\\mathrm{in}}(A)=\\mathop{\\mathrm{in}}(B)$.\n",
    "\n",
    "14. __Sylvester's Law of Inertia.__ $A,B \\in\\mathcal{H}_n$ are congruent if and only if $\\mathop{\\mathrm{in}}(A)=\\mathop{\\mathrm{in}}(B)$.\n",
    "\n",
    "15. __Subadditivity of Inertia.__ For $A,B \\in\\mathcal{H}_n$, \n",
    "\n",
    "$$\n",
    "\\pi(A+B)\\leq \\pi(A)+\\pi(B), \\qquad \\nu(A+B)\\leq \\nu(A)+\\nu(B).\n",
    "$$\n",
    "\n",
    "16. Gram matrix is Hermitian."
   ]
  },
  {
   "cell_type": "markdown",
   "metadata": {},
   "source": [
    "### Example - Hermitian matrix"
   ]
  },
  {
   "cell_type": "code",
   "execution_count": 55,
   "metadata": {},
   "outputs": [
    {
     "data": {
      "text/plain": [
       "4×4 Array{Complex{Float64},2}:\n",
       "  1.84102+0.0im        1.06576+0.33703im   …  0.323092+0.0339997im\n",
       "  1.06576-0.33703im    1.54757+0.0im           1.60398+0.359329im\n",
       "   1.4439-0.305891im   1.37017+0.022169im     0.570542+0.0799815im\n",
       " 0.323092-0.0339997im  1.60398-0.359329im      1.71878+0.0im"
      ]
     },
     "execution_count": 55,
     "metadata": {},
     "output_type": "execute_result"
    }
   ],
   "source": [
    "# Generating Hermitian matrix\n",
    "Random.seed!(432)\n",
    "n=4\n",
    "A=rand(ComplexF64,n,n)\n",
    "A=A+adjoint(A)"
   ]
  },
  {
   "cell_type": "code",
   "execution_count": 56,
   "metadata": {},
   "outputs": [
    {
     "data": {
      "text/plain": [
       "true"
      ]
     },
     "execution_count": 56,
     "metadata": {},
     "output_type": "execute_result"
    }
   ],
   "source": [
    "ishermitian(A)"
   ]
  },
  {
   "cell_type": "code",
   "execution_count": 57,
   "metadata": {},
   "outputs": [
    {
     "data": {
      "text/plain": [
       "4-element Array{Complex{Float64},1}:\n",
       " 1.8410195749746157 + 0.0im\n",
       " 1.5475690889240252 + 0.0im\n",
       " 0.9901494279719274 + 0.0im\n",
       "  1.718783744539766 + 0.0im"
      ]
     },
     "execution_count": 57,
     "metadata": {},
     "output_type": "execute_result"
    }
   ],
   "source": [
    "# Diagonal entries\n",
    "diag(A)"
   ]
  },
  {
   "cell_type": "code",
   "execution_count": 58,
   "metadata": {},
   "outputs": [
    {
     "data": {
      "text/plain": [
       "Schur{Complex{Float64},Array{Complex{Float64},2}}\n",
       "T factor:\n",
       "4×4 Array{Complex{Float64},2}:\n",
       " 4.82827-3.02154e-17im  …  4.71551e-16+2.51989e-16im\n",
       "     0.0+0.0im             -3.6118e-17+4.659e-17im\n",
       "     0.0+0.0im             -2.3491e-17+8.73366e-17im\n",
       "     0.0+0.0im               -0.436509+3.71066e-17im\n",
       "Z factor:\n",
       "4×4 Array{Complex{Float64},2}:\n",
       "  0.49437+1.88747e-17im  -0.626715+1.54319e-16im  …  -0.167364+9.09494e-12im\n",
       " 0.568825-0.134676im      0.236761-0.0057747im       -0.596825-0.289187im\n",
       " 0.454329-0.101044im     -0.270866+0.0654529im        0.602523+0.198302im\n",
       " 0.409987-0.170835im      0.605081-0.327664im         0.350606+0.0829377im\n",
       "eigenvalues:\n",
       "4-element Array{Complex{Float64},1}:\n",
       "   4.8282732952424965 - 3.021541012371012e-17im\n",
       "    1.761576281473247 - 1.3354010200483882e-16im\n",
       " -0.05581915748485714 + 2.9070704761235285e-17im\n",
       "  -0.4365085828205522 + 3.710661184361823e-17im"
      ]
     },
     "execution_count": 58,
     "metadata": {},
     "output_type": "execute_result"
    }
   ],
   "source": [
    "# Schur decomposition\n",
    "F=schur(A)"
   ]
  },
  {
   "cell_type": "code",
   "execution_count": 59,
   "metadata": {},
   "outputs": [
    {
     "data": {
      "text/plain": [
       "4×4 Array{Complex{Float64},2}:\n",
       " 4.82827-3.02154e-17im  …  4.71551e-16+2.51989e-16im\n",
       "     0.0+0.0im             -3.6118e-17+4.659e-17im\n",
       "     0.0+0.0im             -2.3491e-17+8.73366e-17im\n",
       "     0.0+0.0im               -0.436509+3.71066e-17im"
      ]
     },
     "execution_count": 59,
     "metadata": {},
     "output_type": "execute_result"
    }
   ],
   "source": [
    "F.T"
   ]
  },
  {
   "cell_type": "code",
   "execution_count": 60,
   "metadata": {},
   "outputs": [
    {
     "data": {
      "text/plain": [
       "Eigen{Complex{Float64},Float64,Array{Complex{Float64},2},Array{Float64,1}}\n",
       "values:\n",
       "4-element Array{Float64,1}:\n",
       " -0.43650858282055194\n",
       " -0.05581915748485722\n",
       "  1.7615762814732465\n",
       "  4.828273295242489\n",
       "vectors:\n",
       "4×4 Array{Complex{Float64},2}:\n",
       " -0.162869+0.0385275im  -0.526681-0.239632im   …  -0.456339-0.190149im\n",
       " -0.647367-0.14403im     0.376493+0.143651im      -0.576866-0.0944707im\n",
       "   0.63199+0.0542742im   0.550588+0.0147649im     -0.458243-0.0814773im\n",
       "  0.360282-0.0im        -0.446582-0.0im           -0.444155-0.0im"
      ]
     },
     "execution_count": 60,
     "metadata": {},
     "output_type": "execute_result"
    }
   ],
   "source": [
    "λ,U=eigen(A)"
   ]
  },
  {
   "cell_type": "code",
   "execution_count": 61,
   "metadata": {},
   "outputs": [
    {
     "data": {
      "text/plain": [
       "4-element Array{Float64,1}:\n",
       " -0.43650858282055194\n",
       " -0.05581915748485722\n",
       "  1.7615762814732465\n",
       "  4.828273295242489"
      ]
     },
     "execution_count": 61,
     "metadata": {},
     "output_type": "execute_result"
    }
   ],
   "source": [
    "λ"
   ]
  },
  {
   "cell_type": "code",
   "execution_count": 62,
   "metadata": {},
   "outputs": [
    {
     "data": {
      "text/plain": [
       "6.702874538353148e-15"
      ]
     },
     "execution_count": 62,
     "metadata": {},
     "output_type": "execute_result"
    }
   ],
   "source": [
    "# Spectral theorem\n",
    "norm(A-U*Diagonal(λ)*U')"
   ]
  },
  {
   "cell_type": "code",
   "execution_count": 63,
   "metadata": {},
   "outputs": [
    {
     "data": {
      "text/plain": [
       "4×4 Array{Complex{Float64},2}:\n",
       " 2.22045e-15+0.0im          …  2.22045e-16+3.33067e-16im\n",
       " 2.44249e-15-7.77156e-16im     2.22045e-16-1.11022e-16im\n",
       "  1.9984e-15-6.66134e-16im     6.66134e-16+2.77556e-17im\n",
       " 3.33067e-16-3.33067e-16im     6.66134e-16+0.0im"
      ]
     },
     "execution_count": 63,
     "metadata": {},
     "output_type": "execute_result"
    }
   ],
   "source": [
    "# Spectral theorem\n",
    "A-sum([λ[i]*U[:,i]*U[:,i]' for i=1:n])"
   ]
  },
  {
   "cell_type": "code",
   "execution_count": 64,
   "metadata": {},
   "outputs": [
    {
     "name": "stdout",
     "output_type": "stream",
     "text": [
      "i = rand(1:n) = 4\n"
     ]
    },
    {
     "data": {
      "text/plain": [
       "3-element Array{Float64,1}:\n",
       " -0.31223338776364146\n",
       "  0.5740391221926207\n",
       "  4.116932357441587"
      ]
     },
     "execution_count": 64,
     "metadata": {},
     "output_type": "execute_result"
    }
   ],
   "source": [
    "# Cauchy Interlace Theorem (repeat several times)\n",
    "@show i=rand(1:n)\n",
    "μ=eigvals(A[[1:i-1;i+1:n],[1:i-1;i+1:n]])"
   ]
  },
  {
   "cell_type": "code",
   "execution_count": 65,
   "metadata": {},
   "outputs": [
    {
     "data": {
      "text/plain": [
       "4-element Array{Float64,1}:\n",
       " -0.43650858282055194\n",
       " -0.05581915748485722\n",
       "  1.7615762814732465\n",
       "  4.828273295242489"
      ]
     },
     "execution_count": 65,
     "metadata": {},
     "output_type": "execute_result"
    }
   ],
   "source": [
    "λ"
   ]
  },
  {
   "cell_type": "code",
   "execution_count": 66,
   "metadata": {},
   "outputs": [
    {
     "data": {
      "text/plain": [
       "inertia (generic function with 1 method)"
      ]
     },
     "execution_count": 66,
     "metadata": {},
     "output_type": "execute_result"
    }
   ],
   "source": [
    "# Inertia\n",
    "inertia(A)=[sum(eigvals(A).>0), sum(eigvals(A).<0), sum(eigvals(A).==0)]"
   ]
  },
  {
   "cell_type": "code",
   "execution_count": 67,
   "metadata": {},
   "outputs": [
    {
     "data": {
      "text/plain": [
       "3-element Array{Int64,1}:\n",
       " 2\n",
       " 2\n",
       " 0"
      ]
     },
     "execution_count": 67,
     "metadata": {},
     "output_type": "execute_result"
    }
   ],
   "source": [
    "inertia(A)"
   ]
  },
  {
   "cell_type": "code",
   "execution_count": 68,
   "metadata": {},
   "outputs": [
    {
     "data": {
      "text/plain": [
       "4-element Array{Complex{Float64},1}:\n",
       "  -0.43650858282055194 - 4.760622708291153e-16im\n",
       " -0.055819157484860334 - 1.1732254580750932e-15im\n",
       "    1.7615762814732525 - 1.5950102848760153e-16im\n",
       "     4.828273295242495 + 2.113110034174248e-15im"
      ]
     },
     "execution_count": 68,
     "metadata": {},
     "output_type": "execute_result"
    }
   ],
   "source": [
    "# Similar matrices\n",
    "C=rand(ComplexF64,n,n)\n",
    "B=C*A*inv(C)\n",
    "eigvals(B)"
   ]
  },
  {
   "cell_type": "code",
   "execution_count": 69,
   "metadata": {},
   "outputs": [
    {
     "data": {
      "text/plain": [
       "4×4 Array{Complex{Float64},2}:\n",
       "  1.85492-0.696005im  -0.566638-1.70282im  …   0.657662+1.85676im\n",
       "  1.50219-1.52789im     -1.6778-3.07909im      0.351122+4.20872im\n",
       "  1.58685-1.61565im    -1.02112-3.37356im     -0.736184+4.17921im\n",
       " 0.917302-0.848219im   -1.91749-1.04715im         2.067+2.07822im"
      ]
     },
     "execution_count": 69,
     "metadata": {},
     "output_type": "execute_result"
    }
   ],
   "source": [
    "B"
   ]
  },
  {
   "cell_type": "markdown",
   "metadata": {},
   "source": [
    "This did not work numerically due to rounding errors!"
   ]
  },
  {
   "cell_type": "code",
   "execution_count": 70,
   "metadata": {},
   "outputs": [
    {
     "ename": "MethodError",
     "evalue": "MethodError: no method matching isless(::Int64, ::Complex{Float64})\nClosest candidates are:\n  isless(!Matched::Missing, ::Any) at missing.jl:87\n  isless(!Matched::PyCall.PyObject, ::Any) at C:\\Users\\Ivan_Slapnicar\\.julia\\packages\\PyCall\\zqDXB\\src\\pyoperators.jl:75\n  isless(!Matched::Sym, ::Number) at C:\\Users\\Ivan_Slapnicar\\.julia\\packages\\SymPy\\JaxDZ\\src\\generic.jl:14\n  ...",
     "output_type": "error",
     "traceback": [
      "MethodError: no method matching isless(::Int64, ::Complex{Float64})\nClosest candidates are:\n  isless(!Matched::Missing, ::Any) at missing.jl:87\n  isless(!Matched::PyCall.PyObject, ::Any) at C:\\Users\\Ivan_Slapnicar\\.julia\\packages\\PyCall\\zqDXB\\src\\pyoperators.jl:75\n  isless(!Matched::Sym, ::Number) at C:\\Users\\Ivan_Slapnicar\\.julia\\packages\\SymPy\\JaxDZ\\src\\generic.jl:14\n  ...",
      "",
      "Stacktrace:",
      " [1] <(::Int64, ::Complex{Float64}) at .\\operators.jl:268",
      " [2] >(::Complex{Float64}, ::Int64) at .\\operators.jl:294",
      " [3] _broadcast_getindex_evalf at .\\broadcast.jl:631 [inlined]",
      " [4] _broadcast_getindex at .\\broadcast.jl:604 [inlined]",
      " [5] getindex at .\\broadcast.jl:564 [inlined]",
      " [6] copy at .\\broadcast.jl:854 [inlined]",
      " [7] materialize at .\\broadcast.jl:820 [inlined]",
      " [8] inertia(::Array{Complex{Float64},2}) at .\\In[66]:2",
      " [9] top-level scope at In[70]:3"
     ]
    }
   ],
   "source": [
    "# Congruent matrices - this does not work either, without some preparation\n",
    "B=C'*A*C\n",
    "inertia(A)==inertia(B)"
   ]
  },
  {
   "cell_type": "code",
   "execution_count": 71,
   "metadata": {},
   "outputs": [
    {
     "data": {
      "text/plain": [
       "true"
      ]
     },
     "execution_count": 71,
     "metadata": {},
     "output_type": "execute_result"
    }
   ],
   "source": [
    "# However, \n",
    "inertia(A)==inertia(Hermitian(B))"
   ]
  },
  {
   "cell_type": "code",
   "execution_count": 72,
   "metadata": {},
   "outputs": [
    {
     "data": {
      "text/plain": [
       "3-element Array{Int64,1}:\n",
       " 2\n",
       " 2\n",
       " 0"
      ]
     },
     "execution_count": 72,
     "metadata": {},
     "output_type": "execute_result"
    }
   ],
   "source": [
    "# or, \n",
    "inertia((B+B')/2)"
   ]
  },
  {
   "cell_type": "code",
   "execution_count": 73,
   "metadata": {},
   "outputs": [
    {
     "name": "stdout",
     "output_type": "stream",
     "text": [
      "λ = [-0.43650858282055194, -0.05581915748485722, 1.7615762814732465, 4.828273295242489]\n"
     ]
    },
    {
     "data": {
      "text/plain": [
       "([-0.0988735390914506, -0.01182765702077481, 0.07296810055246222, 0.3287937288227195], [-0.4545242135758396, -0.07251608580244176, 1.7740633000178827, 5.141559469033688])"
      ]
     },
     "execution_count": 73,
     "metadata": {},
     "output_type": "execute_result"
    }
   ],
   "source": [
    "# Weyl's Inequalities\n",
    "B=rand(ComplexF64,n,n)\n",
    "B=(B+B')/10\n",
    "@show λ\n",
    "μ=eigvals(B)\n",
    "γ=eigvals(A+B)\n",
    "μ,γ"
   ]
  },
  {
   "cell_type": "code",
   "execution_count": 74,
   "metadata": {},
   "outputs": [
    {
     "name": "stdout",
     "output_type": "stream",
     "text": [
      "(j, k) = (1, 3)\n",
      "((sort(γ, rev = true))[(j + k) - 1], (sort(λ, rev = true))[j] + (sort(μ, rev = true))[k]) = (-0.07251608580244176, 4.8164456382217145)\n"
     ]
    }
   ],
   "source": [
    "# Theorem uses different order!\n",
    "j=rand(1:n)\n",
    "k=rand(1:n)\n",
    "@show j,k\n",
    "if j+k<=n+1\n",
    "    @show sort(γ,rev=true)[j+k-1], sort(λ,rev=true)[j]+sort(μ,rev=true)[k]\n",
    "end\n",
    "if j+k>=n+1\n",
    "    sort(γ,rev=true)[j+k-n], sort(λ,rev=true)[j]+sort(μ,rev=true)[k]\n",
    "end"
   ]
  },
  {
   "cell_type": "code",
   "execution_count": 75,
   "metadata": {},
   "outputs": [
    {
     "data": {
      "text/plain": [
       "4-element Array{Float64,1}:\n",
       "  4.828273295242489\n",
       "  1.7615762814732465\n",
       " -0.05581915748485722\n",
       " -0.43650858282055194"
      ]
     },
     "execution_count": 75,
     "metadata": {},
     "output_type": "execute_result"
    }
   ],
   "source": [
    "sort(λ,rev=true)"
   ]
  },
  {
   "cell_type": "markdown",
   "metadata": {},
   "source": [
    "### Example - Real symmetric matrix"
   ]
  },
  {
   "cell_type": "code",
   "execution_count": 76,
   "metadata": {},
   "outputs": [
    {
     "data": {
      "text/plain": [
       "6×6 Array{Int64,2}:\n",
       "   8   17   -6  -11  -2    9\n",
       "  17  -14   12    3  10    1\n",
       "  -6   12    0  -10   3   -1\n",
       " -11    3  -10   12   9  -10\n",
       "  -2   10    3    9  10    7\n",
       "   9    1   -1  -10   7   10"
      ]
     },
     "execution_count": 76,
     "metadata": {},
     "output_type": "execute_result"
    }
   ],
   "source": [
    "# Generating real symmetric matrix\n",
    "Random.seed!(531)\n",
    "n=6\n",
    "A=rand(-9:9,n,n)\n",
    "A=A+A'"
   ]
  },
  {
   "cell_type": "code",
   "execution_count": 77,
   "metadata": {},
   "outputs": [
    {
     "data": {
      "text/plain": [
       "true"
      ]
     },
     "execution_count": 77,
     "metadata": {},
     "output_type": "execute_result"
    }
   ],
   "source": [
    "issymmetric(A)"
   ]
  },
  {
   "cell_type": "code",
   "execution_count": 78,
   "metadata": {},
   "outputs": [
    {
     "data": {
      "text/plain": [
       "Schur{Float64,Array{Float64,2}}\n",
       "T factor:\n",
       "6×6 Array{Float64,2}:\n",
       " -33.0112    1.89247e-16   1.62178e-15  …  -5.61774e-15  -1.8153e-15\n",
       "   0.0     -11.1569        2.6645e-15      -1.71972e-15   4.61092e-16\n",
       "   0.0       0.0          32.326            3.6099e-15    4.48108e-16\n",
       "   0.0       0.0           0.0             -2.85135e-15  -1.00712e-15\n",
       "   0.0       0.0           0.0             10.2386       -1.1609e-15\n",
       "   0.0       0.0           0.0          …   0.0          21.1844\n",
       "Z factor:\n",
       "6×6 Array{Float64,2}:\n",
       " -0.44514     0.0429978  -0.571264    0.506595   0.451608  -0.114327\n",
       "  0.755485   -0.226136   -0.212836    0.45081   -0.096524  -0.346784\n",
       " -0.408122   -0.397543   -0.141593    0.19712   -0.78213   -0.0690242\n",
       " -0.21589    -0.531446    0.60184     0.133565   0.344137  -0.415303\n",
       " -0.128703    0.544883    0.0240726  -0.149403  -0.181727  -0.794111\n",
       "  0.0368434  -0.457866   -0.495499   -0.679054   0.153464  -0.242522\n",
       "eigenvalues:\n",
       "6-element Array{Float64,1}:\n",
       " -33.01123470268622\n",
       " -11.156924850235118\n",
       "  32.32596330116704\n",
       "   6.41917104929743\n",
       "  10.238647969944779\n",
       "  21.184377232512148"
      ]
     },
     "execution_count": 78,
     "metadata": {},
     "output_type": "execute_result"
    }
   ],
   "source": [
    "T,Q=schur(A)"
   ]
  },
  {
   "cell_type": "code",
   "execution_count": 79,
   "metadata": {},
   "outputs": [
    {
     "data": {
      "text/plain": [
       "6×6 Array{Float64,2}:\n",
       " -33.0112    1.89247e-16   1.62178e-15  …  -5.61774e-15  -1.8153e-15\n",
       "   0.0     -11.1569        2.6645e-15      -1.71972e-15   4.61092e-16\n",
       "   0.0       0.0          32.326            3.6099e-15    4.48108e-16\n",
       "   0.0       0.0           0.0             -2.85135e-15  -1.00712e-15\n",
       "   0.0       0.0           0.0             10.2386       -1.1609e-15\n",
       "   0.0       0.0           0.0          …   0.0          21.1844"
      ]
     },
     "execution_count": 79,
     "metadata": {},
     "output_type": "execute_result"
    }
   ],
   "source": [
    "T"
   ]
  },
  {
   "cell_type": "code",
   "execution_count": 80,
   "metadata": {},
   "outputs": [
    {
     "data": {
      "text/plain": [
       "6×6 Array{Float64,2}:\n",
       " -0.44514     0.0429978  -0.571264    0.506595   0.451608  -0.114327\n",
       "  0.755485   -0.226136   -0.212836    0.45081   -0.096524  -0.346784\n",
       " -0.408122   -0.397543   -0.141593    0.19712   -0.78213   -0.0690242\n",
       " -0.21589    -0.531446    0.60184     0.133565   0.344137  -0.415303\n",
       " -0.128703    0.544883    0.0240726  -0.149403  -0.181727  -0.794111\n",
       "  0.0368434  -0.457866   -0.495499   -0.679054   0.153464  -0.242522"
      ]
     },
     "execution_count": 80,
     "metadata": {},
     "output_type": "execute_result"
    }
   ],
   "source": [
    "Q"
   ]
  },
  {
   "cell_type": "code",
   "execution_count": 81,
   "metadata": {},
   "outputs": [
    {
     "data": {
      "text/plain": [
       "6-element Array{Float64,1}:\n",
       " -33.01123470268616\n",
       " -11.15692485023515\n",
       "   6.4191710492974146\n",
       "  10.238647969944783\n",
       "  21.184377232512134\n",
       "  32.325963301167015"
      ]
     },
     "execution_count": 81,
     "metadata": {},
     "output_type": "execute_result"
    }
   ],
   "source": [
    "λ,U=eigen(A)\n",
    "λ"
   ]
  },
  {
   "cell_type": "code",
   "execution_count": 82,
   "metadata": {},
   "outputs": [
    {
     "data": {
      "text/plain": [
       "5.142600882445594"
      ]
     },
     "execution_count": 82,
     "metadata": {},
     "output_type": "execute_result"
    }
   ],
   "source": [
    "cond(A)"
   ]
  },
  {
   "cell_type": "code",
   "execution_count": 83,
   "metadata": {},
   "outputs": [
    {
     "data": {
      "text/plain": [
       "6×6 Array{Float64,2}:\n",
       " -0.44514    -0.0429978   0.506595   0.451608  -0.114327    0.571264\n",
       "  0.755485    0.226136    0.45081   -0.096524  -0.346784    0.212836\n",
       " -0.408122    0.397543    0.19712   -0.78213   -0.0690242   0.141593\n",
       " -0.21589     0.531446    0.133565   0.344137  -0.415303   -0.60184\n",
       " -0.128703   -0.544883   -0.149403  -0.181727  -0.794111   -0.0240726\n",
       "  0.0368434   0.457866   -0.679054   0.153464  -0.242522    0.495499"
      ]
     },
     "execution_count": 83,
     "metadata": {},
     "output_type": "execute_result"
    }
   ],
   "source": [
    "U"
   ]
  },
  {
   "cell_type": "code",
   "execution_count": 84,
   "metadata": {},
   "outputs": [
    {
     "data": {
      "text/plain": [
       "6×6 Array{Float64,2}:\n",
       " -3.19744e-14   2.4869e-14   -3.01981e-14  …  -9.32587e-15  -1.24345e-14\n",
       "  2.84217e-14  -4.79616e-14   3.90799e-14      5.32907e-15   4.44089e-16\n",
       " -3.01981e-14   3.90799e-14  -3.18634e-14     -1.02141e-14   3.10862e-15\n",
       " -2.66454e-14   2.4869e-14   -2.4869e-14       1.77636e-15   1.59872e-14\n",
       " -9.99201e-15   5.32907e-15  -1.06581e-14      1.95399e-14  -1.15463e-14\n",
       " -1.24345e-14   0.0           3.10862e-15  …  -1.24345e-14   6.57252e-14"
      ]
     },
     "execution_count": 84,
     "metadata": {},
     "output_type": "execute_result"
    }
   ],
   "source": [
    "A-sum([λ[i]*U[:,i]*U[:,i]' for i=1:n])"
   ]
  },
  {
   "cell_type": "code",
   "execution_count": 85,
   "metadata": {},
   "outputs": [
    {
     "data": {
      "text/plain": [
       "3-element Array{Int64,1}:\n",
       " 4\n",
       " 2\n",
       " 0"
      ]
     },
     "execution_count": 85,
     "metadata": {},
     "output_type": "execute_result"
    }
   ],
   "source": [
    "inertia(A)"
   ]
  },
  {
   "cell_type": "code",
   "execution_count": 86,
   "metadata": {},
   "outputs": [
    {
     "data": {
      "text/plain": [
       "3-element Array{Int64,1}:\n",
       " 4\n",
       " 2\n",
       " 0"
      ]
     },
     "execution_count": 86,
     "metadata": {},
     "output_type": "execute_result"
    }
   ],
   "source": [
    "C=rand(n,n)\n",
    "inertia(C'*A*C)"
   ]
  },
  {
   "cell_type": "markdown",
   "metadata": {},
   "source": [
    "## Positive definite matrices\n",
    "\n",
    "These matrices are an important subset of Hermitian or real symmteric matrices.\n",
    "\n",
    "### Definitions\n",
    "\n",
    "Matrix $A\\in\\mathcal{H}_n$ is __positive definite__ (PD) if $x^*Ax>0$ for all nonzero $x\\in\\mathbb{C}^n$.\n",
    "\n",
    "Matrix $A\\in\\mathcal{H}_n$ is __positive semidefinite__ (PSD) if $x^*Ax\\geq 0$ for all nonzero $x\\in\\mathbb{C}^n$.\n",
    "\n",
    "### Facts\n",
    "\n",
    "1. $A\\in\\mathcal{S}_n$ is PD if $x^TAx>0$ for all nonzero $x\\in \\mathbb{R}^n$, and is PSD if $x^TAx\\geq 0$ for all $x\\in \\mathbb{R}^n$.\n",
    " \n",
    "2. If $A,B\\in \\mathrm{PSD}_n$, then $A+B\\in \\mathrm{PSD}_n$. If, in addition, $A\\in \\mathrm{PD}_n$, then $A+B\\in \\mathrm{PD}_n$.\n",
    "\n",
    "3. If $A\\in \\mathrm{PD}_n$, then $\\mathop{\\mathrm{tr}}(A)>0$ and $\\det(A)>0$. \n",
    "\n",
    "3. If $A\\in \\mathrm{PSD}_n$, then $\\mathop{\\mathrm{tr}}(A)\\geq 0$ and $\\det(A)\\geq 0$.\n",
    "\n",
    "4. Any principal submatrix of a PD matrix is PD. Any principal submatrix of a PSD matrix is PSD. Consequently, all minors are positive or nonnegative, respectively.\n",
    "\n",
    "5. $A\\in\\mathcal{H}_n$ is PD iff _every leading_ principal minor of $A$ is positive. $A\\in\\mathcal{H}_n$ is PSD iff\n",
    "_every_ principal minor is nonnegative.\n",
    "\n",
    "6. For $A\\in \\mathrm{PSD}_n$, there exists unique PSD $k$-th __root__, $A^{1/k}=U\\Lambda^{1/k} U^*$.\n",
    "\n",
    "7. __Cholesky Factorization.__ $A\\in\\mathcal{H}_n$ if PD iff there is an invertible lower triangular matrix $L$ with positive diagonal entries such that $A=LL^*$.\n",
    "\n",
    "8. Gram matrix is PSD. If the vectors are linearly independent, Gram matrix is PD."
   ]
  },
  {
   "cell_type": "markdown",
   "metadata": {},
   "source": [
    "### Example - Positive definite matrix"
   ]
  },
  {
   "cell_type": "code",
   "execution_count": 87,
   "metadata": {},
   "outputs": [
    {
     "data": {
      "text/plain": [
       "5×5 Array{Complex{Float64},2}:\n",
       " 4.78771+0.0im       2.49491-1.08523im   …  2.78758-0.586195im\n",
       " 2.49491+1.08523im   1.99217+0.0im           1.3238+0.166899im\n",
       " 2.70349+0.882787im   1.4953-0.238075im     1.89543+0.154661im\n",
       " 3.23928+1.3186im    1.78581-0.505257im     2.20113+0.809557im\n",
       " 2.78758+0.586195im   1.3238-0.166899im     2.69021+0.0im"
      ]
     },
     "execution_count": 87,
     "metadata": {},
     "output_type": "execute_result"
    }
   ],
   "source": [
    "# Generating positive definite matrix as a Gram matrix\n",
    "n=5\n",
    "A=rand(n,n)+im*rand(n,n)\n",
    "A=A*A'"
   ]
  },
  {
   "cell_type": "code",
   "execution_count": 88,
   "metadata": {},
   "outputs": [
    {
     "data": {
      "text/plain": [
       "true"
      ]
     },
     "execution_count": 88,
     "metadata": {},
     "output_type": "execute_result"
    }
   ],
   "source": [
    "ishermitian(A)"
   ]
  },
  {
   "cell_type": "code",
   "execution_count": 89,
   "metadata": {},
   "outputs": [
    {
     "data": {
      "text/plain": [
       "5-element Array{Float64,1}:\n",
       "  0.017539281952608544\n",
       "  0.3247567476856929\n",
       "  0.5585201067285008\n",
       "  1.607345246729099\n",
       " 12.73056538580112"
      ]
     },
     "execution_count": 89,
     "metadata": {},
     "output_type": "execute_result"
    }
   ],
   "source": [
    "eigvals(A)"
   ]
  },
  {
   "cell_type": "code",
   "execution_count": 90,
   "metadata": {},
   "outputs": [
    {
     "data": {
      "text/plain": [
       "5-element Array{Complex{Float64},1}:\n",
       "   4.787713836028915 + 0.0im\n",
       "   2.135651400648032 + 0.0im\n",
       "  0.5577068310530778 + 6.668576318172403e-17im\n",
       " 0.22986275838388015 - 1.249000902703301e-16im\n",
       " 0.06509770344359479 - 2.2854981795994433e-16im"
      ]
     },
     "execution_count": 90,
     "metadata": {},
     "output_type": "execute_result"
    }
   ],
   "source": [
    "# Positivity of principal leading minors\n",
    "[det(A[1:i,1:i]) for i=1:n]"
   ]
  },
  {
   "cell_type": "code",
   "execution_count": 91,
   "metadata": {},
   "outputs": [
    {
     "data": {
      "text/plain": [
       "5×5 Array{Complex{Float64},2}:\n",
       "          0.0+0.0im          …  -4.44089e-16+2.22045e-16im\n",
       "  4.44089e-16+2.22045e-16im     -2.22045e-16+1.94289e-16im\n",
       "          0.0-1.11022e-16im     -6.66134e-16+0.0im\n",
       " -8.88178e-16-1.33227e-15im     -8.88178e-16-2.22045e-16im\n",
       " -4.44089e-16-2.22045e-16im      1.77636e-15+0.0im"
      ]
     },
     "execution_count": 91,
     "metadata": {},
     "output_type": "execute_result"
    }
   ],
   "source": [
    "# Square root\n",
    "λ,U=eigen(A)\n",
    "Ar=U*Diagonal(λ)*U'\n",
    "A-Ar"
   ]
  },
  {
   "cell_type": "code",
   "execution_count": 92,
   "metadata": {},
   "outputs": [
    {
     "data": {
      "text/plain": [
       "5×5 UpperTriangular{Complex{Float64},Array{Complex{Float64},2}}:\n",
       " 2.18808+0.0im   1.14022-0.495971im  …   1.27398-0.267903im\n",
       "         ⋅      0.667884+0.0im          -0.39183-0.238799im\n",
       "         ⋅               ⋅              0.346592-0.232844im\n",
       "         ⋅               ⋅              0.570903-0.0370585im\n",
       "         ⋅               ⋅              0.532168+0.0im"
      ]
     },
     "execution_count": 92,
     "metadata": {},
     "output_type": "execute_result"
    }
   ],
   "source": [
    "# Cholesky factorization - the upper triangular factor is returned\n",
    "L=cholesky(A).U"
   ]
  },
  {
   "cell_type": "code",
   "execution_count": 93,
   "metadata": {},
   "outputs": [
    {
     "data": {
      "text/plain": [
       "7.889616961715915e-16"
      ]
     },
     "execution_count": 93,
     "metadata": {},
     "output_type": "execute_result"
    }
   ],
   "source": [
    "norm(A-L'*L)"
   ]
  },
  {
   "cell_type": "markdown",
   "metadata": {},
   "source": [
    "### Example - Positive semidefinite matrix"
   ]
  },
  {
   "cell_type": "code",
   "execution_count": 94,
   "metadata": {},
   "outputs": [
    {
     "data": {
      "text/plain": [
       "6×4 Array{Int64,2}:\n",
       " 7   1   1   1\n",
       " 5   5   1  -7\n",
       " 6   7  -6  -6\n",
       " 9  -3  -1   4\n",
       " 0  -8   5   8\n",
       " 5  -2  -3   1"
      ]
     },
     "execution_count": 94,
     "metadata": {},
     "output_type": "execute_result"
    }
   ],
   "source": [
    "# Generating positive semidefinite matrix as a Gram matrix, try it several times\n",
    "n=6\n",
    "m=4\n",
    "A=rand(-9:9,n,m)"
   ]
  },
  {
   "cell_type": "code",
   "execution_count": 95,
   "metadata": {},
   "outputs": [
    {
     "data": {
      "text/plain": [
       "6×6 Array{Int64,2}:\n",
       " 52   34    37   63     5  31\n",
       " 34  100   101    1   -91   5\n",
       " 37  101   157   15  -134  28\n",
       " 63    1    15  107    51  58\n",
       "  5  -91  -134   51   153   9\n",
       " 31    5    28   58     9  39"
      ]
     },
     "execution_count": 95,
     "metadata": {},
     "output_type": "execute_result"
    }
   ],
   "source": [
    "A=A*A'"
   ]
  },
  {
   "cell_type": "code",
   "execution_count": 96,
   "metadata": {},
   "outputs": [
    {
     "data": {
      "text/plain": [
       "6-element Array{Float64,1}:\n",
       "  -3.7549491324113813e-14\n",
       "   4.0880160397987686e-14\n",
       "   4.449546314098275\n",
       "  36.197204039470954\n",
       " 201.65495386016767\n",
       " 365.6982957862633"
      ]
     },
     "execution_count": 96,
     "metadata": {},
     "output_type": "execute_result"
    }
   ],
   "source": [
    "# There are rounding errors!\n",
    "eigvals(A)"
   ]
  },
  {
   "cell_type": "code",
   "execution_count": 97,
   "metadata": {},
   "outputs": [
    {
     "data": {
      "text/plain": [
       "6-element Array{Float64,1}:\n",
       " 365.6982957862633\n",
       " 201.65495386016755\n",
       "  36.19720403947091\n",
       "   4.449546314098264\n",
       "   1.0124582481354459e-14\n",
       "   1.3670083042179748e-15"
      ]
     },
     "execution_count": 97,
     "metadata": {},
     "output_type": "execute_result"
    }
   ],
   "source": [
    "s=svdvals(A)"
   ]
  },
  {
   "cell_type": "code",
   "execution_count": 98,
   "metadata": {},
   "outputs": [
    {
     "data": {
      "text/plain": [
       "8.120133360961808e-14"
      ]
     },
     "execution_count": 98,
     "metadata": {},
     "output_type": "execute_result"
    }
   ],
   "source": [
    "s[1]*eps()"
   ]
  },
  {
   "cell_type": "code",
   "execution_count": 99,
   "metadata": {},
   "outputs": [
    {
     "data": {
      "text/plain": [
       "4"
      ]
     },
     "execution_count": 99,
     "metadata": {},
     "output_type": "execute_result"
    }
   ],
   "source": [
    "rank(A)"
   ]
  },
  {
   "cell_type": "code",
   "execution_count": 100,
   "metadata": {},
   "outputs": [
    {
     "ename": "PosDefException",
     "evalue": "PosDefException: matrix is not positive definite; Cholesky factorization failed.",
     "output_type": "error",
     "traceback": [
      "PosDefException: matrix is not positive definite; Cholesky factorization failed.",
      "",
      "Stacktrace:",
      " [1] checkpositivedefinite at D:\\buildbot\\worker\\package_win64\\build\\usr\\share\\julia\\stdlib\\v1.4\\LinearAlgebra\\src\\factorization.jl:18 [inlined]",
      " [2] cholesky!(::Hermitian{Float64,Array{Float64,2}}, ::Val{false}; check::Bool) at D:\\buildbot\\worker\\package_win64\\build\\usr\\share\\julia\\stdlib\\v1.4\\LinearAlgebra\\src\\cholesky.jl:226",
      " [3] cholesky!(::Array{Float64,2}, ::Val{false}; check::Bool) at D:\\buildbot\\worker\\package_win64\\build\\usr\\share\\julia\\stdlib\\v1.4\\LinearAlgebra\\src\\cholesky.jl:258",
      " [4] #cholesky#136 at D:\\buildbot\\worker\\package_win64\\build\\usr\\share\\julia\\stdlib\\v1.4\\LinearAlgebra\\src\\cholesky.jl:348 [inlined]",
      " [5] cholesky at D:\\buildbot\\worker\\package_win64\\build\\usr\\share\\julia\\stdlib\\v1.4\\LinearAlgebra\\src\\cholesky.jl:348 [inlined] (repeats 2 times)",
      " [6] top-level scope at In[100]:1"
     ]
    }
   ],
   "source": [
    "# Cholesky factorization - this can fail\n",
    "L=cholesky(A).U"
   ]
  },
  {
   "cell_type": "markdown",
   "metadata": {},
   "source": [
    "### Example - Covariance and correlation matrices \n",
    "\n",
    "[Covariance and correlation matrices](https://en.wikipedia.org/wiki/Covariance_matrix) are PSD.\n",
    "\n",
    "Correlation matrix is diagonally scaled covariance matrix."
   ]
  },
  {
   "cell_type": "code",
   "execution_count": 101,
   "metadata": {},
   "outputs": [
    {
     "data": {
      "text/plain": [
       "10×5 Array{Float64,2}:\n",
       " 0.828124   0.525628  0.664775   0.734664   0.964204\n",
       " 0.760442   0.778445  0.0804647  0.0480193  0.731189\n",
       " 0.718784   0.331317  0.413675   0.96678    0.0723234\n",
       " 0.226571   0.363896  0.513771   0.642912   0.414969\n",
       " 0.655436   0.127381  0.529349   0.9076     0.548456\n",
       " 0.926612   0.973135  0.76572    0.941035   0.902337\n",
       " 0.948178   0.796415  0.232122   0.46858    0.647936\n",
       " 0.182908   0.977579  0.179693   0.286669   0.872155\n",
       " 0.0559694  0.857692  0.514281   0.227538   0.773259\n",
       " 0.317514   0.58723   0.832853   0.249614   0.603709"
      ]
     },
     "execution_count": 101,
     "metadata": {},
     "output_type": "execute_result"
    }
   ],
   "source": [
    "Random.seed!(651)\n",
    "x=rand(10,5)"
   ]
  },
  {
   "cell_type": "code",
   "execution_count": 102,
   "metadata": {},
   "outputs": [
    {
     "data": {
      "text/plain": [
       "5×5 Array{Float64,2}:\n",
       "  0.11085     -0.00555573  -0.00317136   0.0516332   0.00382669\n",
       " -0.00555573   0.0850514   -0.0163683   -0.0504624   0.0509808\n",
       " -0.00317136  -0.0163683    0.0622391    0.03573     0.00499945\n",
       "  0.0516332   -0.0504624    0.03573      0.113258   -0.029674\n",
       "  0.00382669   0.0509808    0.00499945  -0.029674    0.0705389"
      ]
     },
     "execution_count": 102,
     "metadata": {},
     "output_type": "execute_result"
    }
   ],
   "source": [
    "using Statistics\n",
    "A=cov(x)"
   ]
  },
  {
   "cell_type": "code",
   "execution_count": 103,
   "metadata": {},
   "outputs": [
    {
     "data": {
      "text/plain": [
       "5×5 Array{Float64,2}:\n",
       "  0.0          -8.67362e-19  0.0           6.93889e-18  0.0\n",
       " -8.67362e-19   1.38778e-17  0.0          -6.93889e-18  0.0\n",
       "  0.0           0.0          0.0           0.0          0.0\n",
       "  6.93889e-18  -6.93889e-18  0.0           0.0          0.0\n",
       "  3.03577e-18  -6.93889e-18  8.67362e-19   0.0          0.0"
      ]
     },
     "execution_count": 103,
     "metadata": {},
     "output_type": "execute_result"
    }
   ],
   "source": [
    "# Covariance matrix is a Gram matrix\n",
    "(x.-mean(x,dims=1))'*(x.-mean(x,dims=1))/(size(x,1)-1)-A"
   ]
  },
  {
   "cell_type": "code",
   "execution_count": 104,
   "metadata": {},
   "outputs": [
    {
     "data": {
      "text/plain": [
       "5×5 Array{Float64,2}:\n",
       "  1.0        -0.0572179  -0.0381809   0.460814   0.0432754\n",
       " -0.0572179   1.0        -0.224973   -0.514153   0.65819\n",
       " -0.0381809  -0.224973    1.0         0.425565   0.075453\n",
       "  0.460814   -0.514153    0.425565    1.0       -0.331991\n",
       "  0.0432754   0.65819     0.075453   -0.331991   1.0"
      ]
     },
     "execution_count": 104,
     "metadata": {},
     "output_type": "execute_result"
    }
   ],
   "source": [
    "B=cor(x)"
   ]
  },
  {
   "cell_type": "code",
   "execution_count": 105,
   "metadata": {},
   "outputs": [
    {
     "data": {
      "text/plain": [
       "5-element Array{Float64,1}:\n",
       " 3.0035294964691293\n",
       " 3.4289352335301344\n",
       " 4.008376039395491\n",
       " 2.971425838234638\n",
       " 3.765179232014274"
      ]
     },
     "execution_count": 105,
     "metadata": {},
     "output_type": "execute_result"
    }
   ],
   "source": [
    "# Diagonal scaling\n",
    "D=1 ./sqrt.(diag(A))"
   ]
  },
  {
   "cell_type": "code",
   "execution_count": 106,
   "metadata": {},
   "outputs": [
    {
     "data": {
      "text/plain": [
       "5×5 Array{Float64,2}:\n",
       "  1.0        -0.0572179  -0.0381809   0.460814   0.0432754\n",
       " -0.0572179   1.0        -0.224973   -0.514153   0.65819\n",
       " -0.0381809  -0.224973    1.0         0.425565   0.075453\n",
       "  0.460814   -0.514153    0.425565    1.0       -0.331991\n",
       "  0.0432754   0.65819     0.075453   -0.331991   1.0"
      ]
     },
     "execution_count": 106,
     "metadata": {},
     "output_type": "execute_result"
    }
   ],
   "source": [
    "Diagonal(D)*A*Diagonal(D)"
   ]
  },
  {
   "cell_type": "code",
   "execution_count": 107,
   "metadata": {},
   "outputs": [
    {
     "data": {
      "text/plain": [
       "5-element Array{Float64,1}:\n",
       " 0.018962686335371806\n",
       " 0.026747954810784666\n",
       " 0.0754000977625162\n",
       " 0.1179434475533185\n",
       " 0.20288364944175208"
      ]
     },
     "execution_count": 107,
     "metadata": {},
     "output_type": "execute_result"
    }
   ],
   "source": [
    "eigvals(A)"
   ]
  },
  {
   "cell_type": "code",
   "execution_count": 108,
   "metadata": {},
   "outputs": [
    {
     "data": {
      "text/plain": [
       "5-element Array{Float64,1}:\n",
       " 0.23570502689844522\n",
       " 0.2900555550445134\n",
       " 1.0485883146491362\n",
       " 1.253733349516822\n",
       " 2.1719177538910843"
      ]
     },
     "execution_count": 108,
     "metadata": {},
     "output_type": "execute_result"
    }
   ],
   "source": [
    "eigvals(B)"
   ]
  },
  {
   "cell_type": "code",
   "execution_count": 109,
   "metadata": {},
   "outputs": [
    {
     "data": {
      "text/plain": [
       "10×10 Array{Float64,2}:\n",
       "  0.0274039    0.0123544   -0.00911327  …  -0.0134788    -0.00888699\n",
       "  0.0123544    0.144262    -0.0658908       0.0407097    -0.00597273\n",
       " -0.00911327  -0.0658908    0.12114        -0.10068      -0.0611635\n",
       " -0.00365153  -0.0514985    0.0163041       0.00148382    0.00103769\n",
       "  0.0247812   -0.0607921    0.0659274      -0.0739685    -0.0382523\n",
       " -0.00073939   0.0164507    0.00580677  …   0.000502438  -0.0133413\n",
       "  0.00684369   0.0930205   -0.00177452     -0.00984111   -0.0331679\n",
       " -0.00541184   0.0918037   -0.0952559       0.116714      0.0212344\n",
       " -0.0134788    0.0407097   -0.10068         0.1183        0.05371\n",
       " -0.00888699  -0.00597273  -0.0611635       0.05371       0.0558742"
      ]
     },
     "execution_count": 109,
     "metadata": {},
     "output_type": "execute_result"
    }
   ],
   "source": [
    "C=cov(x')"
   ]
  },
  {
   "cell_type": "code",
   "execution_count": 110,
   "metadata": {},
   "outputs": [
    {
     "data": {
      "text/plain": [
       "10-element Array{Float64,1}:\n",
       " -2.8678282441648895e-17\n",
       " -2.0606155317260784e-17\n",
       " -1.142644713428881e-17\n",
       "  3.2024131844992747e-19\n",
       "  8.633927427481286e-18\n",
       "  4.0501282659044764e-17\n",
       "  0.05465143722525408\n",
       "  0.06765627053231633\n",
       "  0.2131797129097473\n",
       "  0.4740510413291936"
      ]
     },
     "execution_count": 110,
     "metadata": {},
     "output_type": "execute_result"
    }
   ],
   "source": [
    "eigvals(C)"
   ]
  },
  {
   "cell_type": "code",
   "execution_count": 111,
   "metadata": {},
   "outputs": [
    {
     "data": {
      "text/plain": [
       "3-element Array{Int64,1}:\n",
       " 7\n",
       " 3\n",
       " 0"
      ]
     },
     "execution_count": 111,
     "metadata": {},
     "output_type": "execute_result"
    }
   ],
   "source": [
    "inertia(C)"
   ]
  },
  {
   "cell_type": "code",
   "execution_count": 112,
   "metadata": {},
   "outputs": [
    {
     "data": {
      "text/plain": [
       "4"
      ]
     },
     "execution_count": 112,
     "metadata": {},
     "output_type": "execute_result"
    }
   ],
   "source": [
    "rank(C)"
   ]
  },
  {
   "cell_type": "markdown",
   "metadata": {},
   "source": [
    "Explain the function `rank()`."
   ]
  },
  {
   "cell_type": "code",
   "execution_count": 113,
   "metadata": {},
   "outputs": [
    {
     "data": {
      "text/html": [
       "rank(A::<b>AbstractArray{T,2} where T</b>; <i>atol, rtol</i>) in LinearAlgebra at <a href=\"file://D:/buildbot/worker/package_win64/build/usr/share/julia/stdlib/v1.4/LinearAlgebra/src/generic.jl\" target=\"_blank\">C:\\Users\\Ivan_Slapnicar\\AppData\\Local\\Programs\\Julia\\Julia-1.4.1\\share\\julia\\stdlib\\v1.4\\LinearAlgebra\\src\\generic.jl:984</a>"
      ],
      "text/plain": [
       "rank(A::AbstractArray{T,2} where T; atol, rtol) in LinearAlgebra at C:\\Users\\Ivan_Slapnicar\\AppData\\Local\\Programs\\Julia\\Julia-1.4.1\\share\\julia\\stdlib\\v1.4\\LinearAlgebra\\src\\generic.jl:984"
      ]
     },
     "execution_count": 113,
     "metadata": {},
     "output_type": "execute_result"
    }
   ],
   "source": [
    "@which rank(C)"
   ]
  }
 ],
 "metadata": {
  "@webio": {
   "lastCommId": null,
   "lastKernelId": null
  },
  "anaconda-cloud": {},
  "kernelspec": {
   "display_name": "Julia 1.4.1",
   "language": "julia",
   "name": "julia-1.4"
  },
  "language_info": {
   "file_extension": ".jl",
   "mimetype": "application/julia",
   "name": "julia",
   "version": "1.4.1"
  }
 },
 "nbformat": 4,
 "nbformat_minor": 1
}
