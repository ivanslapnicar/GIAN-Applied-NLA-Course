{
 "cells": [
  {
   "cell_type": "markdown",
   "metadata": {},
   "source": [
    "# Singular Value Decomposition - Perturbation Theory\n",
    "\n",
    "\n",
    "\n",
    "## Prerequisites\n",
    "\n",
    "The reader should be familiar with eigenvalue decomposition, singular value decompostion, and perturbation theory for eigenvalue decomposition.\n",
    "\n",
    "## Competences \n",
    "\n",
    "The reader should be able to understand and check the facts about perturbations of singular values and vectors."
   ]
  },
  {
   "cell_type": "markdown",
   "metadata": {},
   "source": [
    "## Peturbation bounds\n",
    "\n",
    "For more details and the proofs of the Facts below, see \n",
    "[R.-C. Li, Matrix Perturbation Theory][Hog14], and the references therein.\n",
    "\n",
    "[Hog14]: #1 \"L. Hogben, ed., 'Handbook of Linear Algebra', pp. 21.6-21.8 and 21.16-21.18, CRC Press, Boca Raton, 2014.\"\n",
    "\n",
    "### Definitions\n",
    "Let $A\\in\\mathbb{C}^{m\\times n}$ and let $A=U\\Sigma V^*$ be its SVD.\n",
    "\n",
    "The set of $A$'s singular values is $sv(B)=\\{\\sigma_1,\\sigma_2,\\ldots)$, with \n",
    "$\\sigma_1\\geq \\sigma_2\\geq \\cdots\\geq 0$, and let \n",
    "$sv_{ext}(B)=sv(B)$ unless $m>n$ for which $sv_{ext}(B)=sv(B)\\cup \\{0,\\ldots,0\\}$ (additional $|m-n|$ zeros).\n",
    "\n",
    "Triplet $(u,\\sigma,v)\\in\\times\\mathbb{C}^{m}\\times\\mathbb{R}\\times\\mathbb{C}^{n}$ is a __singular triplet__ of $A$ if $\\|u\\|_2=1$, $\\|v\\|_2=1$, $\\sigma\\geq 0$, and $Av=\\sigma u$ and $A^*u=\\sigma v$.\n",
    "\n",
    "$\\tilde A=A+\\Delta A$ is a __perturbed matrix__, where $\\Delta A$ is __perturbation__.\n",
    "_The same notation is adopted to $\\tilde A$, except all symbols are with tildes._\n",
    "\n",
    "__Spectral condition number__ of $A$ is $\\kappa_2(A)=\\sigma_{\\max}(A)/ \\sigma_{\\min}(A)$.\n",
    "\n",
    "Let $X,Y\\in\\mathbb{C}^{n\\times k}$ with $\\mathop{\\mathrm{rank}}(X)=\\mathop{\\mathrm{rank}}(Y)=k$. The __canonical angles__ between their column spaces are $\\theta_i=\\cos^{-1}\\sigma_i$, where $\\sigma_i$ are the singular values of \n",
    "$(Y^*Y)^{-1/2}Y^*X(X^*X)^{-1/2}$. The __canonical angle matrix__ between $X$ and $Y$ is \n",
    "\n",
    "$$\\Theta(X,Y)=\\mathop{\\mathrm{diag}}(\\theta_1,\\theta_2,\\ldots,\\theta_k).\n",
    "$$\n",
    "    "
   ]
  },
  {
   "cell_type": "markdown",
   "metadata": {},
   "source": [
    "### Facts\n",
    "\n",
    "1. __Mirsky Theorem.__ $\\|\\Sigma-\\tilde\\Sigma\\|_2\\leq \\|\\Delta A\\|_2$ and \n",
    "$\\|\\Sigma-\\tilde\\Sigma\\|_F\\leq \\|\\Delta A\\|_F$.\n",
    "\n",
    "2. __Residual bounds.__ Let $\\|\\tilde u\\|_2=\\|\\tilde v\\|_2=1$ and \n",
    "$\\tilde \\mu=\\tilde u^* A \\tilde v$. Let residuals $r=A\\tilde v-\\tilde \\mu \\tilde u$ and $s=A^*\\tilde u - \\tilde \\mu \\tilde v$, and let \n",
    "$\\varepsilon=\\max\\{\\|r\\|_2,\\|s\\|_2\\}$. Then $|\\tilde \\mu -\\mu|\\leq \\varepsilon$ for some singular value $\\mu$ of $A$. \n",
    "\n",
    "3. The smallest error matrix $\\Delta A$ for which $(\\tilde u, \\tilde \\mu, \\tilde v)$ is a singular triplet of $\\tilde A$ satisfies $\\| \\Delta A\\|_2=\\varepsilon$.\n",
    "\n",
    "4. Let $\\mu$ be the closest singular value in $sv_{ext}(A)$ to $\\tilde \\mu$ and $(u,\\mu,v)$\n",
    "be the associated singular triplet, and let\n",
    "$$\\eta=\\mathop{\\mathrm{gap}}(\\tilde\\mu)= \\min_{\\mu\\neq\\sigma\\in sv_{ext}(A)}|\\tilde\\mu-\\sigma|.$$\n",
    "If $\\eta>0$, then\n",
    "\\begin{align*}\n",
    "|\\tilde\\mu-\\mu |&\\leq \\frac{\\varepsilon^2}{\\eta},\\\\\n",
    "\\sqrt{\\sin^2\\theta(u,\\tilde u)+ \\sin^2\\theta(v,\\tilde v)} & \\leq \n",
    "\\frac{\\sqrt{\\|r\\|_2^2 + \\|s\\|_2^2}}{\\eta}.\n",
    "\\end{align*}\n",
    "\n",
    "5. Let \n",
    "$$\n",
    "A=\\begin{bmatrix} M & E \\\\ F & H \\end{bmatrix}, \\quad \n",
    "\\tilde A=\\begin{bmatrix} M & 0 \\\\ 0 & H \\end{bmatrix},\n",
    "$$ \n",
    "where $M\\in\\mathbb{C}^{k\\times k}$, and set $\\eta=\\min |\\mu-\\nu|$ over all $\\mu\\in sv(M)$ and $\\nu\\in sv_{ext}(H)$, and $\\varepsilon =\\max \\{ \\|E\\|_2,\\|F\\|_2 \\}$. Then\n",
    "$$ \n",
    "\\max |\\sigma_j -\\tilde\\sigma_j| \\leq \\frac{2\\varepsilon^2}{\\eta+\\sqrt{\\eta^2+4\\varepsilon^2}}.\n",
    "$$\n",
    "\n",
    "6. Let $m\\geq n$ and let\n",
    "$$\n",
    "\\begin{bmatrix} U_1^*\\\\ U_2^* \\end{bmatrix} A \\begin{bmatrix} V_1 & V_2 \\end{bmatrix}=\n",
    "\\begin{bmatrix} A_1 &  \\\\ & A_2 \\end{bmatrix}, \\quad \n",
    "\\begin{bmatrix} \\tilde U_1^*\\\\ \\tilde U_2^* \\end{bmatrix} \\tilde A \\begin{bmatrix} \\tilde V_1 & \\tilde V_2 \\end{bmatrix}=\n",
    "\\begin{bmatrix} \\tilde A_1 &  \\\\ & \\tilde A_2 \\end{bmatrix},\n",
    "$$\n",
    "where $\\begin{bmatrix} U_1 & U_2 \\end{bmatrix}$, \n",
    "$\\begin{bmatrix} V_1 & V_2 \\end{bmatrix}$,\n",
    "$\\begin{bmatrix} \\tilde U_1 & \\tilde U_2 \\end{bmatrix}$, and\n",
    "$\\begin{bmatrix} \\tilde V_1 & \\tilde V_2 \\end{bmatrix}$ are unitary, and \n",
    "$U_1,\\tilde U_1\\in \\mathbb{C}^{m\\times k}$, \n",
    "$V_1,\\tilde V_1\\in \\mathbb{C}^{n\\times k}$. Set\n",
    "$$\n",
    "R=A\\tilde V_1-\\tilde U_1\\tilde A_1,\\quad \n",
    "S=A^*\\tilde U_1-\\tilde V_1 \\tilde A_1.\n",
    "$$\n",
    "Let $\\eta=\\min|\\tilde \\mu-\\nu|$ over all $\\tilde \\mu\\in sv(\\tilde A_1)$ and \n",
    "$\\nu\\in sv_{ext}(A_2)$. If $\\eta > 0$, then\n",
    "$$\n",
    "\\sqrt{\\|\\sin\\Theta(U_1,\\tilde U_1)\\|_F^2 +\n",
    "\\|\\sin\\Theta(V_1,\\tilde V_1)\\|_F^2}\n",
    "\\leq \\frac{\\sqrt{\\|R\\|_F^2 + \\|S\\|_F^2 }}{\\eta}.\n",
    "$$\n"
   ]
  },
  {
   "cell_type": "markdown",
   "metadata": {},
   "source": [
    "### Example"
   ]
  },
  {
   "cell_type": "code",
   "execution_count": 1,
   "metadata": {},
   "outputs": [
    {
     "data": {
      "text/plain": [
       "8×5 Array{Int64,2}:\n",
       "  9  -8  -6  -8   6\n",
       " -7  -3  -3  -5   1\n",
       " -6   5   4  -4   9\n",
       " -6  -9   9   4   2\n",
       "  6  -3   8   2  -9\n",
       " -5   3   4  -9   9\n",
       "  5   4   6  -6   4\n",
       " -3  -1   5   4   3"
      ]
     },
     "execution_count": 1,
     "metadata": {},
     "output_type": "execute_result"
    }
   ],
   "source": [
    "import Random\n",
    "Random.seed!(421)\n",
    "m=8\n",
    "n=5\n",
    "k=min(m,n)\n",
    "A=rand(-9:9,m,n)"
   ]
  },
  {
   "cell_type": "code",
   "execution_count": 2,
   "metadata": {},
   "outputs": [
    {
     "data": {
      "text/plain": [
       "8×5 Array{Float64,2}:\n",
       "  9.00708  -7.99113   -5.9908   -7.9925    6.00039\n",
       " -6.99401  -2.99656   -2.99585  -4.99217   1.00968\n",
       " -5.99831   5.00369    4.00099  -3.99453   9.00176\n",
       " -5.99876  -8.99785    9.0021    4.00802   2.00052\n",
       "  6.00337  -2.99211    8.00542   2.00362  -8.99755\n",
       " -4.99083   3.00391    4.00915  -8.99509   9.00952\n",
       "  5.00833   4.0062     6.00446  -5.99618   4.00705\n",
       " -2.99155  -0.997366   5.00548   4.00731   3.00406"
      ]
     },
     "execution_count": 2,
     "metadata": {},
     "output_type": "execute_result"
    }
   ],
   "source": [
    "ΔA=rand(m,n)/100\n",
    "B=A+ΔA"
   ]
  },
  {
   "cell_type": "code",
   "execution_count": 3,
   "metadata": {},
   "outputs": [
    {
     "data": {
      "text/plain": [
       "SVD{Float64,Float64,Array{Float64,2}}\n",
       "U factor:\n",
       "8×5 Array{Float64,2}:\n",
       "  0.149248      0.696477    -0.450212   0.451151   -0.196549\n",
       "  0.224144     -0.00330314   0.208539   0.409252    0.674625\n",
       "  0.536105     -0.224513     0.01025   -0.167696   -0.145676\n",
       "  0.000779566  -0.559597    -0.415961   0.562063   -0.0795517\n",
       " -0.440244     -0.137175    -0.551596  -0.216061    0.463066\n",
       "  0.619353     -0.0773222   -0.165858  -0.085511    0.287698\n",
       "  0.24481       0.0940152   -0.484513  -0.473739    0.0171393\n",
       "  0.0522446    -0.343101    -0.119043   0.0807253  -0.425683\n",
       "singular values:\n",
       "5-element Array{Float64,1}:\n",
       " 22.714973658969672\n",
       " 19.43948922504952\n",
       " 14.748139691631417\n",
       " 13.979222590956905\n",
       "  7.366312473695588\n",
       "Vt factor:\n",
       "5×5 Array{Float64,2}:\n",
       " -0.356946   0.21649     0.0561989  -0.535417    0.732047\n",
       "  0.620365  -0.0384243  -0.651221   -0.432837    0.0472716\n",
       " -0.517625   0.41339    -0.692762    0.248441   -0.139755\n",
       " -0.332565  -0.881079   -0.289929    0.0553775   0.161166\n",
       " -0.330458  -0.0668079   0.0936769  -0.679111   -0.645265"
      ]
     },
     "execution_count": 3,
     "metadata": {},
     "output_type": "execute_result"
    }
   ],
   "source": [
    "using LinearAlgebra\n",
    "U,σ,V=svd(A)\n",
    "U₁,σ₁,V₁=svd(B)"
   ]
  },
  {
   "cell_type": "code",
   "execution_count": 4,
   "metadata": {},
   "outputs": [
    {
     "data": {
      "text/plain": [
       "(0.00799982856752468, 0.00799982856752468, 0.03472318158204487, 0.010462619462297785, 0.03749141691124676)"
      ]
     },
     "execution_count": 4,
     "metadata": {},
     "output_type": "execute_result"
    }
   ],
   "source": [
    "# Mirsky's Theorems\n",
    "maximum(abs,σ-σ₁),opnorm(Diagonal(σ)-Diagonal(σ₁)),\n",
    "opnorm(ΔA), norm(σ-σ₁), norm(ΔA)"
   ]
  },
  {
   "cell_type": "code",
   "execution_count": 5,
   "metadata": {},
   "outputs": [
    {
     "data": {
      "text/plain": [
       "([22.71443872538939, 19.439175375504053, 14.741722158615167, 13.981197372822301, 7.374312302263113], 4, 13.981196477128567)"
      ]
     },
     "execution_count": 5,
     "metadata": {},
     "output_type": "execute_result"
    }
   ],
   "source": [
    "# Residual bounds - how close is (x,ζ,y) to (U[:,j],σ[j],V[:,j])\n",
    "j=rand(2:k-1)\n",
    "x=round.(U[:,j],digits=3)\n",
    "y=round.(V[:,j],digits=3)\n",
    "x=x/norm(x)\n",
    "y=y/norm(y)\n",
    "ζ=(x'*A*y)[]\n",
    "σ, j, ζ"
   ]
  },
  {
   "cell_type": "code",
   "execution_count": 6,
   "metadata": {},
   "outputs": [
    {
     "data": {
      "text/plain": [
       "0.010564193333948667"
      ]
     },
     "execution_count": 6,
     "metadata": {},
     "output_type": "execute_result"
    }
   ],
   "source": [
    "# Fact 2\n",
    "r=A*y-ζ*x\n",
    "s=A'*x-ζ*y\n",
    "ϵ=max(norm(r),norm(s))"
   ]
  },
  {
   "cell_type": "code",
   "execution_count": 7,
   "metadata": {},
   "outputs": [
    {
     "data": {
      "text/plain": [
       "(8.956937342929905e-7, 0.010564193333948667)"
      ]
     },
     "execution_count": 7,
     "metadata": {},
     "output_type": "execute_result"
    }
   ],
   "source": [
    "minimum(abs,σ.-ζ), ϵ"
   ]
  },
  {
   "cell_type": "code",
   "execution_count": 8,
   "metadata": {},
   "outputs": [
    {
     "data": {
      "text/plain": [
       "0.7605256814865999"
      ]
     },
     "execution_count": 8,
     "metadata": {},
     "output_type": "execute_result"
    }
   ],
   "source": [
    "# Fact 4\n",
    "η=min(abs(ζ-σ[j-1]),abs(ζ-σ[j+1]))"
   ]
  },
  {
   "cell_type": "code",
   "execution_count": 9,
   "metadata": {},
   "outputs": [
    {
     "data": {
      "text/plain": [
       "(-8.956937342929905e-7, 0.0001467434743017443)"
      ]
     },
     "execution_count": 9,
     "metadata": {},
     "output_type": "execute_result"
    }
   ],
   "source": [
    "ζ-σ[j], ϵ^2/η"
   ]
  },
  {
   "cell_type": "code",
   "execution_count": 10,
   "metadata": {},
   "outputs": [
    {
     "data": {
      "text/plain": [
       "(0.0007359748346531112, 0.014416518399856987)"
      ]
     },
     "execution_count": 10,
     "metadata": {},
     "output_type": "execute_result"
    }
   ],
   "source": [
    "# Eigenvector bound\n",
    "# cos(θ)\n",
    "cosθU=dot(x,U[:,j])\n",
    "cosθV=dot(y,V[:,j])\n",
    "# Bound\n",
    "sqrt(1-cosθU^2+1-cosθV^2), sqrt(norm(r)^2+norm(s)^2)/η"
   ]
  },
  {
   "cell_type": "code",
   "execution_count": 11,
   "metadata": {},
   "outputs": [
    {
     "data": {
      "text/plain": [
       "8×5 Array{Int64,2}:\n",
       "  9  -8  -6   0   0\n",
       " -7  -3  -3   0   0\n",
       " -6   5   4   0   0\n",
       "  0   0   0   4   2\n",
       "  0   0   0   2  -9\n",
       "  0   0   0  -9   9\n",
       "  0   0   0  -6   4\n",
       "  0   0   0   4   3"
      ]
     },
     "execution_count": 11,
     "metadata": {},
     "output_type": "execute_result"
    }
   ],
   "source": [
    "# Fact 5 - we create small off-diagonal block perturbation\n",
    "j=3\n",
    "M=A[1:j,1:j]\n",
    "H=A[j+1:m,j+1:n]\n",
    "B=cat(M,H,dims=(1,2))"
   ]
  },
  {
   "cell_type": "code",
   "execution_count": 12,
   "metadata": {},
   "outputs": [
    {
     "data": {
      "text/plain": [
       "8×5 Array{Float64,2}:\n",
       "  9.0         -8.0          -6.0          0.00521644   0.00229319\n",
       " -7.0         -3.0          -3.0          0.00368332   0.00264824\n",
       " -6.0          5.0           4.0          0.00130663   0.00403048\n",
       "  0.00541968   0.00523952    0.0094073    4.0          2.0\n",
       "  0.00584898   0.00697791    0.00233598   2.0         -9.0\n",
       "  0.00916926   0.00831539    0.00563637  -9.0          9.0\n",
       "  0.00512033   0.000574522   0.00351357  -6.0          4.0\n",
       "  0.00438309   0.000464975   0.00187312   4.0          3.0"
      ]
     },
     "execution_count": 12,
     "metadata": {},
     "output_type": "execute_result"
    }
   ],
   "source": [
    "E=rand(Float64,size(A[1:j,j+1:n]))/100\n",
    "F=rand(Float64,size(A[j+1:m,1:j]))/100\n",
    "C=map(Float64,B)\n",
    "C[1:j,j+1:n]=E\n",
    "C[j+1:m,1:j]=F\n",
    "C"
   ]
  },
  {
   "cell_type": "code",
   "execution_count": 13,
   "metadata": {},
   "outputs": [
    {
     "data": {
      "text/plain": [
       "3-element Array{Float64,1}:\n",
       " 16.166941117157883\n",
       "  7.9748473893074925\n",
       "  0.17839291355117629"
      ]
     },
     "execution_count": 13,
     "metadata": {},
     "output_type": "execute_result"
    }
   ],
   "source": [
    "svdvals(M)"
   ]
  },
  {
   "cell_type": "code",
   "execution_count": 14,
   "metadata": {},
   "outputs": [
    {
     "data": {
      "text/plain": [
       "1×2 Adjoint{Float64,Array{Float64,1}}:\n",
       " 16.6354  8.20136"
      ]
     },
     "execution_count": 14,
     "metadata": {},
     "output_type": "execute_result"
    }
   ],
   "source": [
    "svdvals(H)'"
   ]
  },
  {
   "cell_type": "code",
   "execution_count": 15,
   "metadata": {},
   "outputs": [
    {
     "data": {
      "text/plain": [
       "3×2 Array{Float64,2}:\n",
       "  -0.468496   7.96559\n",
       "  -8.66059   -0.226508\n",
       " -16.457     -8.02296"
      ]
     },
     "execution_count": 15,
     "metadata": {},
     "output_type": "execute_result"
    }
   ],
   "source": [
    "svdvals(M).-svdvals(H)'"
   ]
  },
  {
   "cell_type": "code",
   "execution_count": 16,
   "metadata": {},
   "outputs": [
    {
     "data": {
      "text/plain": [
       "5×2 Array{Float64,2}:\n",
       " 16.6354    16.6354\n",
       " 16.1669    16.1669\n",
       "  8.20136    8.20138\n",
       "  7.97485    7.97485\n",
       "  0.178393   0.178431"
      ]
     },
     "metadata": {},
     "output_type": "display_data"
    },
    {
     "data": {
      "text/plain": [
       "(3.7713327345700876e-5, 0.002101834711812092)"
      ]
     },
     "execution_count": 16,
     "metadata": {},
     "output_type": "execute_result"
    }
   ],
   "source": [
    "ϵ=max(norm(E), norm(F))\n",
    "β=svdvals(B)\n",
    "γ=svdvals(C)\n",
    "η=minimum(abs,svdvals(M).-svdvals(H)')\n",
    "display([β γ])\n",
    "maximum(abs,β-γ), 2*ϵ^2/(η+sqrt(η^2+4*ϵ^2))"
   ]
  },
  {
   "cell_type": "markdown",
   "metadata": {},
   "source": [
    "## Relative perturbation theory\n",
    "\n",
    "### Definitions\n",
    "\n",
    "Matrix $A\\in\\mathbb{C}^{m\\times n}$ is __multiplicatively pertubed__ to $\\tilde A$ if\n",
    "$\\tilde A=D_L^* A D_R$ for some $D_L\\in\\mathbb{C}^{m\\times m}$ and \n",
    "$D_R\\in\\mathbb{C}^{n\\times n}$. \n",
    "\n",
    "Matrix $A$ is (highly) __graded__ if it can be scaled as $A=GS$ such that $\\kappa_2(G)$ is of modest magnitude. The __scaling matrix__ $S$ is often diagonal. Interesting cases are when $\\kappa_2(G)\\ll \\kappa_2(A)$.\n",
    "\n",
    "__Relative distances__ between two complex numbers $\\alpha$ and $\\tilde \\alpha$ are:\n",
    "\n",
    "\\begin{align*}\n",
    "\\zeta(\\alpha,\\tilde \\alpha)&=\\frac{|\\alpha-\\tilde\\alpha|}{\\sqrt{|\\alpha\\tilde \\alpha|}}, \\quad \\textrm{for } \\alpha\\tilde\\alpha\\neq 0,\\\\\n",
    "\\varrho(\\alpha,\\tilde \\alpha)&=\\frac{|\\alpha-\\tilde\\alpha|}\n",
    "{\\sqrt{|\\alpha|^2 +  |\\tilde \\alpha|^2}}, \\quad \\textrm{for } |\\alpha|+|\\tilde\\alpha|> 0.\n",
    "\\end{align*}"
   ]
  },
  {
   "cell_type": "markdown",
   "metadata": {},
   "source": [
    "### Facts\n",
    "\n",
    "1. If $D_L$ and $D_R$ are non-singular and $m\\geq n$, then\n",
    "\\begin{align*}\n",
    "\\frac{\\sigma_j}{\\|D_L^{-1}\\|_2\\|D_R^{-1}\\|_2}& \\leq \\tilde\\sigma_j \\leq\n",
    "\\sigma_j \\|D_L\\|_2\\|D_R\\|_2, \\quad \\textrm{for } i=1,\\ldots,n, \\\\\n",
    "\\| \\mathop{\\mathrm{diag}}(\\zeta(\\sigma_1,\\tilde \\sigma_1),\\ldots,\n",
    "\\zeta(\\sigma_n,\\tilde \\sigma_n)\\|_{2,F} & \\leq\n",
    "\\frac{1}{2}\\|D_L^*-D_L^{-1}\\|_{2,F} + \\frac{1}{2}\\|D_R^*-D_R^{-1}\\|_{2,F}.\n",
    "\\end{align*}\n",
    "\n",
    "2. Let $m\\geq n$ and let\n",
    "$$\n",
    "\\begin{bmatrix} U_1^*\\\\ U_2^* \\end{bmatrix} A \\begin{bmatrix} V_1 & V_2 \\end{bmatrix}=\n",
    "\\begin{bmatrix} A_1 &  \\\\ & A_2 \\end{bmatrix}, \\quad \n",
    "\\begin{bmatrix} \\tilde U_1^*\\\\ \\tilde U_2^* \\end{bmatrix} \\tilde A \\begin{bmatrix} \\tilde V_1 & \\tilde V_2 \\end{bmatrix}=\n",
    "\\begin{bmatrix} \\tilde A_1 &  \\\\ & \\tilde A_2 \\end{bmatrix},\n",
    "$$\n",
    "where $\\begin{bmatrix} U_1 & U_2 \\end{bmatrix}$, \n",
    "$\\begin{bmatrix} V_1 & V_2 \\end{bmatrix}$,\n",
    "$\\begin{bmatrix} \\tilde U_1 & \\tilde U_2 \\end{bmatrix}$, and\n",
    "$\\begin{bmatrix} \\tilde V_1 & \\tilde V_2 \\end{bmatrix}$ are unitary, and \n",
    "$U_1,\\tilde U_1\\in \\mathbb{C}^{m\\times k}$, \n",
    "$V_1,\\tilde V_1\\in \\mathbb{C}^{n\\times k}$. Set\n",
    "$$\n",
    "R=A\\tilde V_1-\\tilde U_1\\tilde A_1,\\quad \n",
    "S=A^*\\tilde U_1-\\tilde V_1 \\tilde A_1.\n",
    "$$\n",
    "Let $\\eta=\\min \\varrho(\\mu,\\tilde \\mu)$ over all $\\mu\\in sv(A_1)$ and \n",
    "$\\tilde \\mu\\in sv_{ext}(A_2)$. If $\\eta > 0$, then\n",
    "\\begin{align*}\n",
    "& \\sqrt{\\|\\sin\\Theta(U_1,\\tilde U_1)\\|_F^2 +\n",
    "\\|\\sin\\Theta(V_1,\\tilde V_1)\\|_F^2} \\\\\n",
    "& \\leq \\frac{1}{\\eta}( \\|(I-D_L^*)U_1\\|_F^2+ \\|(I-D_L^{-1})U_1\\|_F^2 \\\\\n",
    "& \\quad +\\|(I-D_R^*)V_1\\|_F^2+ \\|(I-D_R^{-1})V_1\\|_F^2 )^{1/2}.\n",
    "\\end{align*}\n",
    "\n",
    "3. Let $A=GS$ and $\\tilde A=\\tilde GS$, and let \n",
    "$\\Delta G=\\tilde G-G$. Then $\\tilde A=DA$, where $D=I+(\\Delta G) G^{\\dagger}$, and \n",
    "Fact 1 applies with $D_L=D$, $D_R=I$, and \n",
    "$$\n",
    "\\|D^*-D^{-1}\\|_{2,F} \\leq \\bigg(1+\\frac{1}{1-\\|(\\Delta G) G^{\\dagger}\\|_{2}}\\bigg)\n",
    "\\frac{\\|(\\Delta G) G^{\\dagger}\\|_{2,F}}{2}.\n",
    "$$\n",
    "According to the notebook on \n",
    "[Jacobi Method and High Relative Accuracy](L4c%20Symmetric%20Eigenvalue%20Decomposition%20-%20Jacobi%20Method%20and%20High%20Relative%20Accuracy.ipynb), nearly optimal diagonal scaling is such that all columns of $G$ have unit norms, $S=\\mathop{\\mathrm{diag}} \\big( \\| A_{:,1}\\|_2,\\ldots,\\|A_{:,n}\\|_2 \\big)$.\n",
    "\n",
    "4. Let $A$ be an real upper-bidiagonal matrix with diagonal entries $a_1,a_2,\\ldots,a_n$ and \n",
    "the super-diagonal entries $b_1,b_2, \\ldots,b_{n-1}$. Let the diagonal entries of \n",
    "$\\tilde A$ be $\\alpha_1 a_1,\\alpha_2 a_2,\\ldots,\\alpha_n a_n$, and its super-diagonal entries be\n",
    "$\\beta_1 b_1,\\beta_2 b_2,\\ldots,\\beta_{n-1} b_{n-1}$. Then $\\tilde A=D_L^* A D_R$ with \n",
    "\\begin{align*}\n",
    "D_L &=\\mathop{\\mathrm{diag}} \\bigg(\\alpha_1,\\frac{\\alpha_1 \\alpha_2}{\\beta_1},\n",
    "\\frac{\\alpha_1 \\alpha_2 \\alpha_3}{\\beta_1 \\beta_2},\\cdots\\bigg),\\\\\n",
    "D_R &=\\mathop{\\mathrm{diag}} \\bigg(1, \\frac{\\beta_1}{\\alpha_1},\n",
    "\\frac{\\beta_1 \\beta_2}{\\alpha_1 \\alpha_2},\\cdots\\bigg).\n",
    "\\end{align*}\n",
    "Let $\\alpha=\\prod\\limits_{j=1}^n \\max\\{\\alpha_j, 1/\\alpha_j\\}$ and \n",
    "$\\beta=\\prod\\limits_{j=1}^{n-1} \\max\\{\\beta_j, 1/\\beta_j\\}$. Then\n",
    "$$\n",
    "(\\alpha\\beta)^{-1}\\leq \\| D_L^{-1}\\|_2 \\|D_R^{-1}\\|_2 \\leq\n",
    "\\| D_L\\|_2 \\|D_R\\|_2  \\leq \\alpha\\beta,\n",
    "$$\n",
    "and Fact 1 applies. This is a result by [Demmel and Kahan](http://www.netlib.org/lapack/lawnspdf/lawn03.pdf).\n",
    " \n",
    "5. Consider the block partitioned matrices\n",
    "\\begin{align*}\n",
    "A & =\\begin{bmatrix} B & C \\\\ 0 & D\\end{bmatrix}, \\\\\n",
    "\\tilde A & =  \\begin{bmatrix} B & 0 \\\\ 0 & D\\end{bmatrix}\n",
    "=A \\begin{bmatrix} I & -B^{-1} C \\\\ 0 & I \\end{bmatrix}\\equiv A D_R.\n",
    "\\end{align*}\n",
    "By Fact 1, $\\zeta(\\sigma_j,\\tilde \\sigma_j) \\leq \\frac{1}{2} \\|B^{-1}C\\|_2$. This is used as a deflation criterion in the SVD algorithm for bidiagonal matrices."
   ]
  },
  {
   "cell_type": "markdown",
   "metadata": {
    "collapsed": true
   },
   "source": [
    "### Example - Bidiagonal matrix\n",
    "\n",
    "In order to illustrate Facts 1 to 3, we need an algorithm which computes the singular values with high relative acuracy. Such algorithm, the one-sided Jacobi method, is discussed in the notebook on [Jacobi and Lanczos Methods](L6b%20Singular%20Value%20Decomposition%20-%20Jacobi%20and%20Lanczos%20Methods.ipynb).\n",
    "\n",
    "The algorithm actually used in the function `svdvals()` for `Bidiagonal` is the zero-shift bidiagonal QR algorithm, which attains the accuracy given by Fact 4: if all\n",
    "$1-\\varepsilon \\leq \\alpha_i,\\beta_j \\leq 1+\\varepsilon$, then\n",
    "$$\n",
    "(1-\\varepsilon)^{2n-1} \\leq (\\alpha\\beta)^{-1} \\leq \\alpha\\beta \\leq (1-\\varepsilon)^{2n-1}.\n",
    "$$\n",
    "In other words, $\\varepsilon$ relative changes in diagonal and super-diagonal elements, cause at most $(2n-1)\\varepsilon$ relative changes in the singular values.\n",
    "\n",
    "__However__, if singular values and vectors are desired, the function `svd()` calls the standard algorithm, described in the next notebook, which __does not attain this accuracy__ ."
   ]
  },
  {
   "cell_type": "code",
   "execution_count": 17,
   "metadata": {},
   "outputs": [
    {
     "data": {
      "text/plain": [
       "50-element Array{Float64,1}:\n",
       " -5.852262815675105e-6\n",
       " -4.432971830256208e-6\n",
       "  9.499233270831072e-7\n",
       "  4.567575931093151e-6\n",
       "  2.770326572618551e-6\n",
       " -4.92171847733396e-7\n",
       "  5.266957243325909e-6\n",
       "  5.025519572543715e-6\n",
       "  5.129129842939982e-6\n",
       " -8.441270187290216e-6\n",
       " -1.4503440775795408e-6\n",
       " -6.554283522405492e-6\n",
       " -3.3632431352673292e-6\n",
       "  ⋮\n",
       " -5.3786193925786096e-6\n",
       " -7.616636534367934e-7\n",
       "  1.9783011184963243e-6\n",
       "  2.4010262830165367e-8\n",
       "  4.6799063473791355e-6\n",
       " -1.4899813743325476e-6\n",
       "  1.954030295660262e-6\n",
       "  2.474624635502817e-6\n",
       " -6.348705399626838e-6\n",
       " -4.658776693320952e-6\n",
       " -2.6292527550221562e-8\n",
       " -3.79509939253771e-6"
      ]
     },
     "execution_count": 17,
     "metadata": {},
     "output_type": "execute_result"
    }
   ],
   "source": [
    "Random.seed!(135)\n",
    "n=50\n",
    "δ=100000\n",
    "# The starting matrix\n",
    "a=exp.(50*(rand(n).-0.5))\n",
    "b=exp.(50*(rand(n-1).-0.5))\n",
    "A=Bidiagonal(a,b,'U')\n",
    "# Multiplicative perturbation\n",
    "DL=ones(n)+(rand(n).-0.5)/δ\n",
    "DR=ones(n)+(rand(n).-0.5)/δ\n",
    "# The perturbed matrix\n",
    "α=DL.*a.*DR\n",
    "β=DL[1:end-1].*b.*DR[2:end]\n",
    "B=Bidiagonal(α,β,'U')\n",
    "# B-Diagonal(DL)*A*Diagonal(DR)\n",
    "(A.dv-B.dv)./A.dv"
   ]
  },
  {
   "cell_type": "code",
   "execution_count": 18,
   "metadata": {},
   "outputs": [
    {
     "data": {
      "text/plain": [
       "5.011206458136967e52"
      ]
     },
     "execution_count": 18,
     "metadata": {},
     "output_type": "execute_result"
    }
   ],
   "source": [
    "cond(A)"
   ]
  },
  {
   "cell_type": "code",
   "execution_count": 19,
   "metadata": {},
   "outputs": [
    {
     "data": {
      "text/plain": [
       "([-5.852262815675105e-6, -4.432971830256208e-6, 9.499233270831072e-7, 4.567575931093151e-6, 2.770326572618551e-6, -4.92171847733396e-7, 5.266957243325909e-6, 5.025519572543715e-6, 5.129129842939982e-6, -8.441270187290216e-6  …  1.9783011184963243e-6, 2.4010262830165367e-8, 4.6799063473791355e-6, -1.4899813743325476e-6, 1.954030295660262e-6, 2.474624635502817e-6, -6.348705399626838e-6, -4.658776693320952e-6, -2.6292527550221562e-8, -3.79509939253771e-6], [-6.708070137549648e-6, -6.705622242219345e-8, 5.0597840777682445e-6, 1.77341001219051e-6, 4.4799783729450925e-6, -1.306160026031243e-6, 5.397290559204566e-6, 5.846980913854804e-6, -2.23905465453556e-6, -5.02853017915449e-6  …  1.9548430888157477e-6, -4.048182171195338e-7, 5.9021178617452265e-6, -9.020255874414939e-7, 6.99460777191916e-6, 6.823528776892489e-8, -5.1238063340278575e-6, -5.401524825650969e-6, -1.2326342751066054e-6, -3.2077499709355445e-6])"
      ]
     },
     "execution_count": 19,
     "metadata": {},
     "output_type": "execute_result"
    }
   ],
   "source": [
    "(a-α)./a, (b-β)./b"
   ]
  },
  {
   "cell_type": "code",
   "execution_count": 20,
   "metadata": {},
   "outputs": [
    {
     "data": {
      "text/html": [
       "svdvals(A::<b>AbstractArray{#s664,2} where #s664<:Union{Complex{Float32}, Complex{Float64}, Float32, Float64}</b>) in LinearAlgebra at <a href=\"file://D:/buildbot/worker/package_win64/build/usr/share/julia/stdlib/v1.4/LinearAlgebra/src/svd.jl\" target=\"_blank\">C:\\Users\\Ivan_Slapnicar\\AppData\\Local\\Programs\\Julia\\Julia-1.4.1\\share\\julia\\stdlib\\v1.4\\LinearAlgebra\\src\\svd.jl:194</a>"
      ],
      "text/plain": [
       "svdvals(A::AbstractArray{#s664,2} where #s664<:Union{Complex{Float32}, Complex{Float64}, Float32, Float64}) in LinearAlgebra at C:\\Users\\Ivan_Slapnicar\\AppData\\Local\\Programs\\Julia\\Julia-1.4.1\\share\\julia\\stdlib\\v1.4\\LinearAlgebra\\src\\svd.jl:194"
      ]
     },
     "execution_count": 20,
     "metadata": {},
     "output_type": "execute_result"
    }
   ],
   "source": [
    "@which svdvals(A)"
   ]
  },
  {
   "cell_type": "code",
   "execution_count": 21,
   "metadata": {},
   "outputs": [
    {
     "data": {
      "text/html": [
       "svdvals!(M::<b>Bidiagonal{#s664,V} where V<:AbstractArray{#s664,1} where #s664<:Union{Float32, Float64}</b>) in LinearAlgebra at <a href=\"file://D:/buildbot/worker/package_win64/build/usr/share/julia/stdlib/v1.4/LinearAlgebra/src/bidiag.jl\" target=\"_blank\">C:\\Users\\Ivan_Slapnicar\\AppData\\Local\\Programs\\Julia\\Julia-1.4.1\\share\\julia\\stdlib\\v1.4\\LinearAlgebra\\src\\bidiag.jl:198</a>"
      ],
      "text/plain": [
       "svdvals!(M::Bidiagonal{#s664,V} where V<:AbstractArray{#s664,1} where #s664<:Union{Float32, Float64}) in LinearAlgebra at C:\\Users\\Ivan_Slapnicar\\AppData\\Local\\Programs\\Julia\\Julia-1.4.1\\share\\julia\\stdlib\\v1.4\\LinearAlgebra\\src\\bidiag.jl:198"
      ]
     },
     "execution_count": 21,
     "metadata": {},
     "output_type": "execute_result"
    }
   ],
   "source": [
    "@which svdvals!(copy(A))"
   ]
  },
  {
   "cell_type": "code",
   "execution_count": 22,
   "metadata": {},
   "outputs": [
    {
     "data": {
      "text/plain": [
       "50×2 Array{Float64,2}:\n",
       " 4.64298e10   -1.23263e-6\n",
       " 3.10187e10   -4.32527e-6\n",
       " 2.67815e10    1.84558e-7\n",
       " 2.19952e10    5.02965e-6\n",
       " 2.12924e9     1.9783e-6\n",
       " 1.09703e9     4.56758e-6\n",
       " 4.87714e8     5.12913e-6\n",
       " 3.504e8      -7.46928e-6\n",
       " 3.38076e8    -1.1964e-6\n",
       " 1.52855e8    -3.53586e-6\n",
       " 1.51249e8    -6.7203e-6\n",
       " 6.65116e7    -8.03924e-6\n",
       " 1.09161e7    -6.70807e-6\n",
       " ⋮            \n",
       " 1.49347e-6   -5.067e-6\n",
       " 6.26626e-8   -5.19851e-6\n",
       " 4.6482e-8     5.16824e-7\n",
       " 2.8816e-8     1.70642e-6\n",
       " 1.58533e-8    1.94282e-6\n",
       " 5.9872e-9    -3.20284e-7\n",
       " 2.3034e-9    -4.60262e-6\n",
       " 3.00645e-11   2.13156e-6\n",
       " 2.42344e-11   1.67547e-6\n",
       " 2.57861e-15  -3.19695e-6\n",
       " 2.8134e-19   -7.00209e-6\n",
       " 9.26519e-43   3.20759e-6"
      ]
     },
     "execution_count": 22,
     "metadata": {},
     "output_type": "execute_result"
    }
   ],
   "source": [
    "σ=svdvals(A)\n",
    "μ=svdvals(B)\n",
    "[σ (σ-μ)./σ]"
   ]
  },
  {
   "cell_type": "code",
   "execution_count": 23,
   "metadata": {},
   "outputs": [],
   "source": [
    "# The standard algorithm\n",
    "U,ν,V=svd(A);"
   ]
  },
  {
   "cell_type": "code",
   "execution_count": 24,
   "metadata": {},
   "outputs": [
    {
     "data": {
      "text/plain": [
       "50-element Array{Float64,1}:\n",
       " 4.64297988814722e10\n",
       " 3.1018732553641674e10\n",
       " 2.6781484235726624e10\n",
       " 2.1995195415186718e10\n",
       " 2.1292405702699533e9\n",
       " 1.0970258726486578e9\n",
       " 4.8771438635928595e8\n",
       " 3.5039953017282873e8\n",
       " 3.380763163975408e8\n",
       " 1.5285479961405435e8\n",
       " 1.5124895582047072e8\n",
       " 6.651164429234651e7\n",
       " 1.091614470029362e7\n",
       " ⋮\n",
       " 4.639272457574271e-6\n",
       " 4.6392685998815156e-6\n",
       " 4.639268599364849e-6\n",
       " 4.6392685424922195e-6\n",
       " 4.6392683628936985e-6\n",
       " 4.261717617689395e-6\n",
       " 2.0843733304851733e-8\n",
       " 1.160878502592858e-8\n",
       " 4.7881986966198696e-11\n",
       " 2.666020498475744e-12\n",
       " 3.5067969761154713e-15\n",
       " 8.699874466163866e-35"
      ]
     },
     "execution_count": 24,
     "metadata": {},
     "output_type": "execute_result"
    }
   ],
   "source": [
    "ν"
   ]
  },
  {
   "cell_type": "code",
   "execution_count": 25,
   "metadata": {},
   "outputs": [
    {
     "data": {
      "text/plain": [
       "50-element Array{Float64,1}:\n",
       "     -3.2864215288662434e-16\n",
       "      1.2298043638720966e-16\n",
       "      0.0\n",
       "      0.0\n",
       "      0.0\n",
       "      0.0\n",
       "      0.0\n",
       "      1.7010480792023783e-16\n",
       "      0.0\n",
       "      0.0\n",
       "      0.0\n",
       "      0.0\n",
       "      0.0\n",
       "      ⋮\n",
       "     -2.106379463708313\n",
       "    -73.03564453873132\n",
       "    -98.80781911453913\n",
       "   -159.99625795670377\n",
       "   -291.63662182925435\n",
       "   -710.8045478679006\n",
       "     -8.049124179013239\n",
       "   -385.129757532541\n",
       "     -0.9757893105870773\n",
       "  -1032.8990821023888\n",
       " -12463.61962348508\n",
       "     -9.389846110860628e7"
      ]
     },
     "execution_count": 25,
     "metadata": {},
     "output_type": "execute_result"
    }
   ],
   "source": [
    "(σ-ν)./σ"
   ]
  },
  {
   "cell_type": "code",
   "execution_count": null,
   "metadata": {},
   "outputs": [],
   "source": []
  }
 ],
 "metadata": {
  "@webio": {
   "lastCommId": null,
   "lastKernelId": null
  },
  "anaconda-cloud": {},
  "kernelspec": {
   "display_name": "Julia 1.4.1",
   "language": "julia",
   "name": "julia-1.4"
  },
  "language_info": {
   "file_extension": ".jl",
   "mimetype": "application/julia",
   "name": "julia",
   "version": "1.4.1"
  }
 },
 "nbformat": 4,
 "nbformat_minor": 1
}
