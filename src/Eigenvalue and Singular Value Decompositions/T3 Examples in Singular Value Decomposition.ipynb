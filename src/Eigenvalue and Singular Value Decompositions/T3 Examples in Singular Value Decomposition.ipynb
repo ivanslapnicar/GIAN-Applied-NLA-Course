{
 "cells": [
  {
   "cell_type": "markdown",
   "metadata": {},
   "source": [
    "# Tutorial 3 - Examples in Singular Value Decomposition"
   ]
  },
  {
   "cell_type": "markdown",
   "metadata": {},
   "source": [
    "## Assignment 1\n",
    "\n",
    "Using the file \n",
    "[dl-matrixmarket.jl](https://github.com/JuliaSparse/MatrixMarket.jl/blob/master/test/dl-matrixmarket.jl)\n",
    "from the package [MatrixMarket.jl](https://github.com/JuliaSparse/MatrixMarket.jl)\n",
    "(copy the file to your notebook), download two randomly chosen matrices.\n",
    "\n",
    "For each matrix:\n",
    "* inspect the properties of the matrix (size, symmetry, condition number, sparsity, structure, scaled condition number, ...),\n",
    "* plot the matrix using the command `spy()` from the package `Gadfly.jl`,\n",
    "* compute the singular value decomposition, and\n",
    "* assess its accuracy.\n",
    "\n",
    "__Hints__ \n",
    "\n",
    "1. In Windows, you may need to prepend the `http://` to the address in the \n",
    "`download()` command.\n",
    "\n",
    "2. To plot the matrix `A`, use the following commands:\n",
    "```\n",
    "myplot=spy(A)\n",
    "draw(PNG(12cm,12cm),myplot)\n",
    "```\n",
    "To see only the structure, use\n",
    "```\n",
    "myplot=spy(map(Int64,A.!=0.0))\n",
    "```\n",
    "For larger matrices, plotting takes a while."
   ]
  },
  {
   "cell_type": "markdown",
   "metadata": {
    "collapsed": true
   },
   "source": [
    "## Assignment 2\n",
    "\n",
    "Choose an image from the package [TestImages.jl](https://github.com/timholy/TestImages.jl) or find an image elsewhere. \n",
    "\n",
    "Compute low-rank aproximations of the image and display them using `@manipulate`."
   ]
  },
  {
   "cell_type": "markdown",
   "metadata": {
    "collapsed": true
   },
   "source": [
    "## Assignment 3\n",
    "\n",
    "Write a wrapper for [DGESVJ](http://www.netlib.org/lapack/explore-html-3.3.1/d1/d5e/dgesvj_8f_source.html) similar to those from the file \n",
    "[lapack.jl](https://github.com/JuliaLang/julia/blob/master/base/linalg/lapack.jl).\n",
    "\n",
    "Test the function on a strongly scaled matrix.\n",
    "\n",
    "For larger matrices, compare timings with `svd()`."
   ]
  },
  {
   "cell_type": "code",
   "execution_count": null,
   "metadata": {
    "collapsed": true
   },
   "outputs": [],
   "source": []
  }
 ],
 "metadata": {
  "kernelspec": {
   "display_name": "Julia 1.1.0",
   "language": "julia",
   "name": "julia-1.1"
  },
  "language_info": {
   "file_extension": ".jl",
   "mimetype": "application/julia",
   "name": "julia",
   "version": "1.1.0"
  }
 },
 "nbformat": 4,
 "nbformat_minor": 1
}
