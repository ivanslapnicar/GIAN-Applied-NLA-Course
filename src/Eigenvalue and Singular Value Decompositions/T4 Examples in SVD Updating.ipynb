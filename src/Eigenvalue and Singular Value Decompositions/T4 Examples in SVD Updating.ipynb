{
 "cells": [
  {
   "cell_type": "markdown",
   "metadata": {},
   "source": [
    "# Tutorial 4 - Examples in SVD Updating\n",
    "\n",
    "---"
   ]
  },
  {
   "cell_type": "markdown",
   "metadata": {},
   "source": [
    "## Assignment 1$^*$\n",
    "\n",
    "The Netflix Recommendation Engine is based on the principle of a low-rank (truncated) SVD approximation of the \n",
    "(large and sparse) Movie $\\times$ Users matrix, and the SVD updating. \n",
    "\n",
    "Explain the mathematics behind the engine\n",
    "using explanations from the packages [IncrementalSVD.jl](https://github.com/aaw/IncrementalSVD.jl),\n",
    "and [RecSys.jl](https://github.com/abhijithch/RecSys.jl/) (see also \n",
    "[A parallel recommendation engine in Julia](http://juliacomputing.com/blog/2016/04/22/a-parallel-recommendation-engine-in-julia.html)), and the literature on the Internet.\n",
    "\n",
    "Explain the relation to SVD, truncated SVD, and SVD updating.\n",
    "\n",
    "Try the packages."
   ]
  },
  {
   "cell_type": "markdown",
   "metadata": {
    "collapsed": true
   },
   "source": [
    "## Assignment 2$^{**}$\n",
    "\n",
    "Implement the matrix multiplication for SVD updating using Fast Multipole Method as described in\n",
    "[M. Gu and S. C. Eisenstat, A Stable and Fast Algorithm for Updating the Singular Value Decomposition][GE93].\n",
    "\n",
    "[GE93]: http://www.cs.yale.edu/publications/techreports/tr966.pdf \"M. Gu and S. C. Eisenstat, 'A Stable and Fast Algorithm for Updating the Singular Value Decomposition', Tech.report, Yale University, 1993.\""
   ]
  },
  {
   "cell_type": "code",
   "execution_count": null,
   "metadata": {
    "collapsed": true
   },
   "outputs": [],
   "source": []
  }
 ],
 "metadata": {
  "kernelspec": {
   "display_name": "Julia 1.4.1",
   "language": "julia",
   "name": "julia-1.4"
  },
  "language_info": {
   "file_extension": ".jl",
   "mimetype": "application/julia",
   "name": "julia",
   "version": "1.4.1"
  }
 },
 "nbformat": 4,
 "nbformat_minor": 1
}
