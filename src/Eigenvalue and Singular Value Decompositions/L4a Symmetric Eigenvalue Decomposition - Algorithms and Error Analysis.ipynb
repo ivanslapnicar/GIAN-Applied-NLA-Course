{
 "cells": [
  {
   "cell_type": "markdown",
   "metadata": {},
   "source": [
    "# Symmetric Eigenvalue Decomposition - Algorithms and Error Analysis\n",
    "\n",
    "\n",
    "\n",
    "We study mainly algorithms for real symmetric matrices, which are most commonly used in the applications described in this course. \n",
    "\n",
    "For more details, see \n",
    "[I. Slapničar, Symmetric Matrix Eigenvalue Techniques][Hog14] and the references therein.\n",
    "\n",
    "[Hog14]: #1 \"L. Hogben, ed., 'Handbook of Linear Algebra', pp. 55.1-55.25, CRC Press, Boca Raton, 2014.\"\n",
    "\n",
    "\n",
    "## Prerequisites\n",
    "\n",
    "The reader should be familiar with basic linear algebra concepts and facts on eigenvalue decomposition and perturbation theory\n",
    "\n",
    " \n",
    "## Competences \n",
    "\n",
    "The reader should be able to apply adequate algorithm to a given problem, and to assess accuracy of the solution.\n"
   ]
  },
  {
   "cell_type": "markdown",
   "metadata": {},
   "source": [
    "## Backward error and stability\n",
    "\n",
    "### Definitions\n",
    "\n",
    "If the value of a function $f(x)$ is computed with an algorithm  $\\mathrm{alg(x)}$, the \n",
    "__algorithm error__ is \n",
    "\n",
    "$$\n",
    "\\|\\mathrm{alg(x)}-f(x)\\|,\n",
    "$$\n",
    "\n",
    "and the __relative algorithm error__ is\n",
    "\n",
    "$$\n",
    "\\frac{\\| \\mathrm{alg}(x)-f(x)\\|}{\\| f(x) \\|},\n",
    "$$\n",
    "in respective norms. Therse errors can be hard or even impossible to estimate directly. \n",
    "\n",
    "In this case, assume that $f(x)$ computed by $\\mathrm{alg}(x)$ is equal to exact value of the function for a perturbed argument,\n",
    "\n",
    "$$\n",
    "\\mathrm{alg}(x)=f(x+\\delta x),\n",
    "$$\n",
    "for some  __backward error__ $\\delta x$.\n",
    "\n",
    "Algoritam is __stable__ is the above equality always holds for small $\\delta x$."
   ]
  },
  {
   "cell_type": "markdown",
   "metadata": {},
   "source": [
    "## Basic methods\n",
    "\n",
    "### Definitions\n",
    "\n",
    "The eigenvalue decomposition (EVD) of a real symmetric matrix\n",
    "$A=[a_{ij}]$ is $A=U\\Lambda U^T$,\n",
    "where $U$ is a $n\\times n$ real orthonormal matrix, $U^TU=UU^T=I_n$, and \n",
    "$\\Lambda=\\mathop{\\mathrm{diag}} (\\lambda_1,\\dots, \\lambda_n)$ is a real diagonal matrix.\n",
    "\n",
    "The numbers $\\lambda_i$ are the eigenvalues of $A$, the vectors $U_{:i}$,\n",
    "$i=1,\\dots,n$, are the eigenvectors of $A$, and\n",
    "$AU_{:i}=\\lambda_i U_{:i}$, $i=1,\\dots,n$.\n",
    "\n",
    "If $|\\lambda_1|> |\\lambda_2| \\geq \\cdots \\geq |\\lambda_n|$, we say that\n",
    "  $\\lambda_1$ is the __dominant eigenvalue__.\n",
    "\n",
    "__Deflation__ is a process of reducing the size of the matrix whose\n",
    "EVD is to be determined, given that one eigenvector is known.\n",
    "\n",
    "The __shifted matrix__ of the matrix $A$ is the matrix $A-\\mu I$, where\n",
    "$\\mu$ is the __shift__.\n",
    "\n",
    "__Power method__ starts from unit vector $x_0$ and computes the sequences\n",
    "$$\n",
    "\\nu_k=x_k^T A x_k, \\qquad x_{k+1}= A x_k /\n",
    " \\| A x_k \\|, \\qquad k=0,1,2,\\dots,\n",
    "$$\n",
    "until convergence. Normalization of $x_k$ can be performed in any norm and serves\n",
    "the numerical stability of the algorithm (avoiding overflow or underflow).\n",
    "\n",
    "__Inverse iteration__ is the power method applied to the inverse of\n",
    "a shifted matrix:\n",
    "$$\n",
    "\\nu_k=x_k^T A x_k, \\quad \n",
    "x_{k+1}= (A-\\mu I)^{-1} x_k, \\quad \n",
    "x_{k+1} = x_{k+1}/\\|x_{k+1}\\|, \\quad k=0,1,2,\\dots.\n",
    "$$\n",
    "\n",
    "__QR iteration__ starts from the matrix $A_0=A$ and forms the sequence of matrices\n",
    "$$\n",
    "  A_k=Q_kR_k \\quad \\textrm{(QR factorization)}, \\qquad\n",
    "  A_{k+1}=R_kQ_k,\\qquad k=0,1,2,\\ldots \n",
    "$$\n",
    "\n",
    "__Shifted QR iteration__ is the QR iteration applied to a shifted matrix:\n",
    "$$\n",
    "A_k-\\mu I=Q_kR_k \\quad \\textrm{(QR factorization)}, \\quad\n",
    "  A_{k+1}=R_kQ_k+\\mu I ,\\quad k=0,1,2,\\ldots \n",
    "$$\n",
    "\n",
    "### Facts\n",
    "\n",
    "1. If $\\lambda_1$ is the dominant eigenvalue, $x_0$ is not\n",
    "orthogonal to $U_{:1}$, and the norm is $2$-norm, then $\\nu_k\\to \\lambda_1$ and $x_k\\to U_{:1}$. In other\n",
    "words, the power method converges to the dominant eigenvalue and its eigenvector.\n",
    "\n",
    "2. The convergence is linear in the sense that \n",
    "$$\n",
    "|\\lambda_1-\\nu_k|\\approx \\left|\\frac{c_2}{c_1}\\right| \\left|\n",
    " \\frac{\\lambda_2}{\\lambda_1}\\right|^k,\\qquad\n",
    "\\|U_{:1}-x_k\\|_2 =O\\bigg(\\bigg|\n",
    " \\frac{\\lambda_2}{\\lambda_1}\\bigg|^k\\bigg)\\!, \n",
    "$$\n",
    "where $c_i$ is the coefficient of the $i$-th eigenvector in the linear\n",
    "combination expressing the starting vector $x_0$.\n",
    " \n",
    "3. Since $\\lambda_1$ is not available, the convergence is\n",
    "determined using residuals:  if $\\| Ax_k-\\nu_k x_k\\|_2\\leq tol$, \n",
    "where $tol$ is a user prescribed stopping criterion,\n",
    "then $|\\lambda_1-\\nu_k|\\leq tol$.\n",
    "\n",
    "4. After computing the dominant eigenpair, we can perform deflation\n",
    "to reduce the given EVD for $A$ to the one of size $n-1$ for $A_1$:\n",
    "$$\n",
    "\\begin{bmatrix} U_{:1} & X \\end{bmatrix}^T A  \\begin{bmatrix} U_{:1} & X \\end{bmatrix}=\n",
    "\\begin{bmatrix} \\lambda_1 & \\\\ & A_1 \\end{bmatrix}, \\quad\n",
    "\\begin{bmatrix} U_{:1} & X \\end{bmatrix} \\textrm{orthonormal}, \\quad A_1=X^TAX.\n",
    "$$\n",
    "\n",
    "5. The EVD of the shifted matrix $A-\\mu I$ is $U(\\Lambda-\\mu I) U^T$.  \n",
    "\n",
    "6. Inverse iteration requires solving the system of linear equations \n",
    "$(A-\\mu I)x_{k+1}= x_k$ for $x_{k+1}$ in each step. \n",
    "At the beginning, LU factorization of \n",
    "$A-\\mu I$ needs to be computed, which requires $2n^3/3$ operations. \n",
    "In each subsequent step, two triangular systems need to be solved, which requires $2n^2$\n",
    "operations.\n",
    "\n",
    "7. If $\\mu$ is close to some eigenvalue of $A$, the\n",
    "eigenvalues of the shifted matrix satisfy $|\\lambda_1|\\gg\n",
    "|\\lambda_2|\\geq\\cdots\\geq |\\lambda_n|$, so the convergence of the inverse\n",
    "iteration method is fast.\n",
    "  \n",
    "8. If $\\mu$ is very close to some eigenvalue of $A$, then the\n",
    "matrix $A-\\mu I$ is nearly singular, so the solutions of linear\n",
    "systems may have large errors. However, these errors are almost\n",
    "entirely in the direction of the dominant eigenvector so the inverse\n",
    "iteration method is both fast and accurate!!\n",
    "  \n",
    "9. We can further increase the speed of convergence of inverse iterations by substituting\n",
    "  the shift $\\mu$ with the Rayleigh quotient $\\nu_k$\n",
    "  at the cost of computing new LU factorization.\n",
    "  \n",
    "10. Matrices $A_k$ and $A_{k+1}$ from both QR iterations are orthogonally\n",
    "similar, $A_{k+1}=Q_k^TA_kQ_k$.\n",
    "\n",
    "11. The QR iteration method is essentially equivalent to the power method and\n",
    "  the shifted QR iteration method is essentially equivalent to the\n",
    "  inverse power method on the shifted matrix. \n",
    "  \n",
    "12. The straightforward application of the QR iteration requires $O(n^3)$ operations per step, so better implementation is needed.\n",
    "\n",
    "\n",
    "\n",
    "  \n",
    "### Examples\n",
    "\n",
    "In order to keep the programs simple, in the examples below we do not compute full matrix of eigenvectors. "
   ]
  },
  {
   "cell_type": "code",
   "execution_count": 1,
   "metadata": {},
   "outputs": [
    {
     "data": {
      "text/plain": [
       "myPower (generic function with 1 method)"
      ]
     },
     "execution_count": 1,
     "metadata": {},
     "output_type": "execute_result"
    }
   ],
   "source": [
    "function myPower(A::Matrix,x::Vector,tol::Real)\n",
    "    y=A*x\n",
    "    ν=x⋅y\n",
    "    steps=1\n",
    "    while norm(y-ν*x)>tol\n",
    "        x=y/norm(y)\n",
    "        y=A*x\n",
    "        ν=x⋅y\n",
    "        # display(x)\n",
    "        steps+=1\n",
    "    end\n",
    "    ν, y/norm(y), steps\n",
    "end"
   ]
  },
  {
   "cell_type": "code",
   "execution_count": 2,
   "metadata": {},
   "outputs": [
    {
     "data": {
      "text/plain": [
       "6×6 Array{Int64,2}:\n",
       "  9   5  -3  4  -8  -6\n",
       "  5  -3   3  9  -5   4\n",
       " -3   3   4  8  -4   6\n",
       "  4   9   8  4   4   1\n",
       " -8  -5  -4  4   2   9\n",
       " -6   4   6  1   9   2"
      ]
     },
     "execution_count": 2,
     "metadata": {},
     "output_type": "execute_result"
    }
   ],
   "source": [
    "import Random\n",
    "Random.seed!(421)\n",
    "using LinearAlgebra\n",
    "n=6\n",
    "A=Matrix(Symmetric(rand(-9:9,n,n)))"
   ]
  },
  {
   "cell_type": "code",
   "execution_count": 3,
   "metadata": {},
   "outputs": [
    {
     "data": {
      "text/plain": [
       "(21.061473427807602, [-0.6939421250694533, -0.19708219091193593, 0.08496442837367736, -0.07925651825421791, 0.5182952923959164, 0.44437864168412405], 194)"
      ]
     },
     "execution_count": 3,
     "metadata": {},
     "output_type": "execute_result"
    }
   ],
   "source": [
    "ν,x,steps=myPower(A,ones(n),1e-10)"
   ]
  },
  {
   "cell_type": "code",
   "execution_count": 4,
   "metadata": {},
   "outputs": [
    {
     "data": {
      "text/plain": [
       "6-element Array{Float64,1}:\n",
       " -16.79970991489491\n",
       "  -6.223271345941228\n",
       "  -2.3171547974910998\n",
       "   4.000831230433496\n",
       "  18.27783140008613\n",
       "  21.061473427807595"
      ]
     },
     "execution_count": 4,
     "metadata": {},
     "output_type": "execute_result"
    }
   ],
   "source": [
    "λ=eigvals(A)"
   ]
  },
  {
   "cell_type": "code",
   "execution_count": 5,
   "metadata": {},
   "outputs": [
    {
     "data": {
      "text/plain": [
       "2.0198589217018641e-7"
      ]
     },
     "execution_count": 5,
     "metadata": {},
     "output_type": "execute_result"
    }
   ],
   "source": [
    "# Speed of convergence\n",
    "(18/21)^100"
   ]
  },
  {
   "cell_type": "code",
   "execution_count": 7,
   "metadata": {},
   "outputs": [
    {
     "data": {
      "text/plain": [
       "(21.061473427807595, 6)"
      ]
     },
     "execution_count": 7,
     "metadata": {},
     "output_type": "execute_result"
    }
   ],
   "source": [
    "findmax(broadcast(abs,λ))"
   ]
  },
  {
   "cell_type": "code",
   "execution_count": 8,
   "metadata": {},
   "outputs": [
    {
     "data": {
      "text/plain": [
       "6"
      ]
     },
     "execution_count": 8,
     "metadata": {},
     "output_type": "execute_result"
    }
   ],
   "source": [
    "k=findmax(broadcast(abs,λ))[2]"
   ]
  },
  {
   "cell_type": "code",
   "execution_count": 9,
   "metadata": {},
   "outputs": [
    {
     "data": {
      "text/plain": [
       "6×2 Array{Float64,2}:\n",
       " -0.693942   -0.693942\n",
       " -0.197082   -0.197082\n",
       "  0.0849644   0.0849644\n",
       " -0.0792565  -0.0792565\n",
       "  0.518295    0.518295\n",
       "  0.444379    0.444379"
      ]
     },
     "execution_count": 9,
     "metadata": {},
     "output_type": "execute_result"
    }
   ],
   "source": [
    "[eigvecs(A)[:,k] x]"
   ]
  },
  {
   "cell_type": "code",
   "execution_count": 10,
   "metadata": {},
   "outputs": [
    {
     "data": {
      "text/plain": [
       "myDeflation (generic function with 1 method)"
      ]
     },
     "execution_count": 10,
     "metadata": {},
     "output_type": "execute_result"
    }
   ],
   "source": [
    "# Deflation\n",
    "function myDeflation(A::Matrix,x::Vector)\n",
    "    X,R=qr(x)\n",
    "    # To make sure the returned matrix symmetric use\n",
    "    # full(Symmetric(X[:,2:end]'*A*X[:,2:end]))\n",
    "    # display(X'*A*X)\n",
    "    X[:,2:end]'*A*X[:,2:end]\n",
    "end"
   ]
  },
  {
   "cell_type": "code",
   "execution_count": 11,
   "metadata": {},
   "outputs": [
    {
     "data": {
      "text/plain": [
       "5×5 Array{Float64,2}:\n",
       " -4.32672   3.67021  8.23502  -2.11002   6.37787\n",
       "  3.67021   3.66871  8.3693   -5.50428   4.75335\n",
       "  8.23502   8.3693   3.59929   5.77085   2.47811\n",
       " -2.11002  -5.50428  5.77085  -4.02468   4.09738\n",
       "  6.37787   4.75335  2.47811   4.09738  -1.97807"
      ]
     },
     "execution_count": 11,
     "metadata": {},
     "output_type": "execute_result"
    }
   ],
   "source": [
    "A₁=myDeflation(A,x)"
   ]
  },
  {
   "cell_type": "code",
   "execution_count": 12,
   "metadata": {},
   "outputs": [
    {
     "data": {
      "text/plain": [
       "5-element Array{Float64,1}:\n",
       " -16.7997099148949\n",
       "  -6.223271345941226\n",
       "  -2.3171547974911015\n",
       "   4.000831230433492\n",
       "  18.277831400086136"
      ]
     },
     "execution_count": 12,
     "metadata": {},
     "output_type": "execute_result"
    }
   ],
   "source": [
    "eigvals(A₁)"
   ]
  },
  {
   "cell_type": "code",
   "execution_count": 13,
   "metadata": {},
   "outputs": [
    {
     "data": {
      "text/plain": [
       "(18.277831400086143, [0.4129612522067296, 0.5580725733889244, 0.6281234215797172, 0.049637010061582575, 0.3478723063166265], 301)"
      ]
     },
     "execution_count": 13,
     "metadata": {},
     "output_type": "execute_result"
    }
   ],
   "source": [
    "myPower(A₁,ones(size(A₁,1)),1e-10)"
   ]
  },
  {
   "cell_type": "code",
   "execution_count": 14,
   "metadata": {},
   "outputs": [
    {
     "data": {
      "text/plain": [
       "myPowerMethod (generic function with 1 method)"
      ]
     },
     "execution_count": 14,
     "metadata": {},
     "output_type": "execute_result"
    }
   ],
   "source": [
    "# Put it all together - eigenvectors are omitted for the sake of simplicty\n",
    "function myPowerMethod(A::Matrix{T}, tol::Real) where T\n",
    "    n=size(A,1)\n",
    "    S =  T==Int ? Float64 : T\n",
    "    λ=Vector{S}(undef,n)\n",
    "    for i=1:n\n",
    "        λ[i],x,steps=myPower(A,ones(n-i+1),tol)\n",
    "        A=myDeflation(A,x)\n",
    "    end\n",
    "    λ\n",
    "end"
   ]
  },
  {
   "cell_type": "code",
   "execution_count": 15,
   "metadata": {},
   "outputs": [
    {
     "data": {
      "text/plain": [
       "6-element Array{Float64,1}:\n",
       "  21.061473427807602\n",
       "  18.277831400086143\n",
       " -16.799709914894905\n",
       "  -6.223271345941228\n",
       "   4.0008312304334925\n",
       "  -2.317154797491101"
      ]
     },
     "execution_count": 15,
     "metadata": {},
     "output_type": "execute_result"
    }
   ],
   "source": [
    "myPowerMethod(A,1e-10)"
   ]
  },
  {
   "cell_type": "code",
   "execution_count": 16,
   "metadata": {},
   "outputs": [
    {
     "data": {
      "text/plain": [
       "myQRIteration (generic function with 1 method)"
      ]
     },
     "execution_count": 16,
     "metadata": {},
     "output_type": "execute_result"
    }
   ],
   "source": [
    "# QR iteration\n",
    "function myQRIteration(A::Matrix, tol::Real)\n",
    "    steps=1\n",
    "    while norm(tril(A,-1))>tol\n",
    "        Q,R=qr(A)\n",
    "        A=R*Q\n",
    "        steps+=1\n",
    "    end\n",
    "    A,steps\n",
    "end"
   ]
  },
  {
   "cell_type": "code",
   "execution_count": 17,
   "metadata": {},
   "outputs": [
    {
     "data": {
      "text/plain": [
       "6×6 Array{Float64,2}:\n",
       " 21.0615        -2.78909e-12     7.96303e-16   …   2.48755e-15  -2.72846e-15\n",
       " -2.78604e-12   18.2778         -9.876e-6         -6.14606e-15  -2.38195e-15\n",
       " -6.25578e-18   -9.876e-6      -16.7997            6.9766e-15    5.74499e-16\n",
       " -5.69647e-95   -3.23163e-83    -4.55736e-77       2.07947e-15   4.4179e-16\n",
       " -5.80759e-130  -2.45137e-119    1.27073e-112      4.00083      -1.82564e-15\n",
       " -3.87577e-173   8.95919e-162    2.2339e-155   …   1.08137e-43  -2.31715"
      ]
     },
     "execution_count": 17,
     "metadata": {},
     "output_type": "execute_result"
    }
   ],
   "source": [
    "B,steps=myQRIteration(A,1e-5)\n",
    "B"
   ]
  },
  {
   "cell_type": "code",
   "execution_count": 18,
   "metadata": {},
   "outputs": [
    {
     "data": {
      "text/plain": [
       "182"
      ]
     },
     "execution_count": 18,
     "metadata": {},
     "output_type": "execute_result"
    }
   ],
   "source": [
    "steps"
   ]
  },
  {
   "cell_type": "code",
   "execution_count": 19,
   "metadata": {},
   "outputs": [
    {
     "data": {
      "text/plain": [
       "6-element Array{Float64,1}:\n",
       "  21.061473427807684\n",
       "  18.277831400083393\n",
       " -16.799709914892162\n",
       "  -6.223271345941225\n",
       "   4.000831230433501\n",
       "  -2.317154797491102"
      ]
     },
     "execution_count": 19,
     "metadata": {},
     "output_type": "execute_result"
    }
   ],
   "source": [
    "diag(B)"
   ]
  },
  {
   "cell_type": "markdown",
   "metadata": {},
   "source": [
    "##  Tridiagonalization\n",
    "\n",
    "The following implementation of $QR$ iteration requires a total of $O(n^3)$ operations:\n",
    "\n",
    "1. Reduce $A$ to tridiagonal form $T$ by orthogonal similarities, $X^TAX=T$.\n",
    "2. Compute the EVD of $T$ with QR iterations, $T=Q\\Lambda Q^T$.\n",
    "3. Multiply $U=XQ$.\n",
    "\n",
    "One step of QR iterations on $T$ requires $O(n)$ operations if only $\\Lambda$ is computed, and $O(n^2)$ operations if\n",
    "$Q$ is accumulated, as well.\n",
    "\n",
    "### Definitions\n",
    "\n",
    "Given vector $v$, __Householder reflector__ is a symmetric orthogonal matrix \n",
    "\n",
    "$$\n",
    "H= I - 2\\, \\frac{v v^T}{v^Tv}.\n",
    "$$\n",
    "\n",
    "Given $c=\\cos\\varphi$, $s=\\sin\\varphi$, and indices $i<j$, __Givens rotation matrix__ is an orthogonal matrix\n",
    "$G(c,s,i,j)$ which is equal to the identity matrix except for elements\n",
    "\n",
    "$$\n",
    "G_{ii}=G_{jj}=c,\\qquad G_{ij}=-G_{ji}=s.\n",
    "$$"
   ]
  },
  {
   "cell_type": "markdown",
   "metadata": {},
   "source": [
    "### Facts\n",
    "\n",
    "1. Given vector $x$, choosing $v=x+\\mathrm{\\mathop{sign}}(x_{1})\\,\\|x\\|_2\\, e_1$ yields the Householder reflector which performs the QR factorization of $x$:\n",
    "$$\n",
    "Hx=-\\mathop{\\mathrm{sign}}(x_{1})\\, \\|x\\|_2\\, e_1.\n",
    "$$\n",
    "\n",
    "2. Given a 2-dimensional vector $\\begin{bmatrix}x\\\\y\\end{bmatrix}$, choosing $r= \\sqrt{x^2+y^2}$, $c=\\frac{x}{r}$ and\n",
    "$s=\\frac{y}{r}$, gives the Givens roatation matrix such that \n",
    "$$\n",
    "G(c,s,1,2)\\cdot \\begin{bmatrix}x\\\\y\\end{bmatrix}=\\begin{bmatrix}r\\\\ 0 \\end{bmatrix}.\n",
    "$$\n",
    "The hypotenuse $r$ is computed using the `hypot()` function in order to avoid underflow or overflow.\n",
    "\n",
    "1. Tridiagonal form is not unique.\n",
    "\n",
    "2. The reduction of $A$ to tridiagonal matrix by Householder reflections is performed as follows. Let \n",
    "$$\n",
    "A=\\begin{bmatrix} \\alpha & a^T  \\\\ a & B \\end{bmatrix}.\n",
    "$$ \n",
    "Let $v=a+\\mathrm{\\mathop{sign}}(a_{1})\\,\\|a\\|_2\\, e_1$, let $H$ be the corresponding Householder reflector\n",
    "and set\n",
    "$$\n",
    "H_1=\\begin{bmatrix} 1 & \\\\ & H \\end{bmatrix}.\n",
    "$$\n",
    "Then\n",
    "$$\n",
    "H_1AH_1=\n",
    "\\begin{bmatrix} \\alpha & a^T H \\\\ Ha & HBH \\end{bmatrix} =\n",
    "\\begin{bmatrix} \\alpha & \\nu e_1^T \\\\ \\nu e_1 & A_1 \\end{bmatrix},\n",
    "\\quad  \\nu=-\\mathop{\\mathrm{sign}}(a_{1})\\, \\|a\\|_2.\n",
    "$$\n",
    "This step annihilates all elements in the first column below the\n",
    "first subdiagonal and all elements in the first row to the right of\n",
    "the first subdiagonal.\n",
    "Applying this procedure recursively yields the tridiagonal matrix \n",
    "$T=X^T AX$, where $X=H_1H_2\\cdots H_{n-2}$.\n",
    "\n",
    "3. $H$ does not depend on the normalization of $v$. With the\n",
    "normalization $v_1=1$, $a_{2:n-1}$ can be overwritten by\n",
    "$v_{2:n-1}$, so $v_1$ does not need to be stored.\n",
    "\n",
    "4. $H$ is not formed explicitly - given $v$, $B$ is overwritten with $HBH$ in\n",
    "$O(n^2)$ operations by using one matrix-vector multiplication and two rank-one updates.\n",
    "\n",
    "5. When symmetry is exploited in performing rank-2 update, tridiagonalization \n",
    "requires $4n^3/3$ operations. Instead of\n",
    "performing rank-2 update on $B$, one can\n",
    "accumulate $p$ transformations and perform rank-$2p$ update. \n",
    "This __block algorithm__ is rich in matrix--matrix multiplications (roughly one\n",
    "half of the operations is performed using BLAS 3 routines), but\n",
    "it requires extra workspace for $U$ and $V$.\n",
    "\n",
    "6. If $X$ is needed explicitly, it can be computed from the \n",
    "stored Householder vectors $v$.\n",
    "In order to minimize the operation count, the computation\n",
    "starts from the smallest matrix and the size is gradually\n",
    "increased:\n",
    "$$\n",
    "H_{n-2},\\quad H_{n-3}H_{n-2},\\dots,\\quad X=H_1\\cdots H_{n-2}. \n",
    "$$\n",
    "A column-oriented version is possible as well, and the operation count in both\n",
    "cases is $4n^3/3$. If the Householder reflectors $H_i$ are accumulated in the order\n",
    "in which they are generated, the operation count is $2n^3$.\n",
    "\n",
    "7. The backward error bounds for functions `myTridiag()` and `myTridiagX()` are as follows: \n",
    "The computed matrix $\\tilde T$ is equal to the matrix which\n",
    "would be obtained by exact tridiagonalization of some perturbed matrix $A+\\Delta A$, \n",
    "where $\\|\\Delta A\\|_2 \\leq \\psi \\varepsilon \\|A\\|_2$ and $\\psi$ is a\n",
    "slowly increasing function of $n$.\n",
    "The computed matrix $\\tilde X$ satisfies $\\tilde X=X+\\Delta X$, where\n",
    "$\\|\\Delta X \\|_2\\leq \\phi \\varepsilon$ \n",
    "and $\\phi$ is a slowly increasing function of $n$.\n",
    "\n",
    "8. Tridiagonalization using Givens rotations requires $\\frac{(n-1)(n-2)}{2}$ plane rotations, which \n",
    "amounts to $4n^3$ operations if symmetry is properly exploited. \n",
    "The operation count is reduced to $8n^3/3$ if fast rotations are used. Fast rotations are\n",
    "obtained by factoring out absolutely larger of $c$ and $s$ from $G$.\n",
    "\n",
    "10. Givens rotations in the function `myTridiagG()`  can be performed in different\n",
    "orderings. For example, the elements in the first column and row can be annihilated by\n",
    "rotations in the planes $(n-1,n)$, $(n-2,n-1)$, $\\ldots$, $(2,3)$.\n",
    "Givens rotations act more selectively than Householder reflectors, and\n",
    "are useful if $A$ has some special structure, for example, if $A$ is a banded matrix. \n",
    "\n",
    "11. Error bounds for function `myTridiagG()` are the same as above, \n",
    "but with slightly different functions $\\psi$ and $\\phi$.\n",
    "\n",
    "12. The block version of tridiagonal reduction is implemented in the \n",
    "[LAPACK](http://www.netlib.org/lapack) subroutine \n",
    "[DSYTRD](http://www.netlib.org/lapack/explore-3.1.1-html/dsytrd.f.html).\n",
    "The computation of $X$ is implemented in the subroutine \n",
    "[DORGTR](http://www.netlib.org/lapack/lapack-3.1.1/html/dorgtr.f.html).\n",
    "The size of the required extra workspace (in elements) is \n",
    "$lwork=nb*n$, where $nb$ is\n",
    "the optimal block size (here, $nb=64)$, and it\n",
    "is determined automatically by the subroutines. \n",
    "The subroutine [DSBTRD](http://www.netlib.org/lapack/explore-html/d0/d62/dsbtrd_8f.html) tridiagonalizes a symmetric band matrix by using Givens rotations. There are no Julia wappers for these routines yet!\n",
    "\n",
    "### Examples"
   ]
  },
  {
   "cell_type": "code",
   "execution_count": 20,
   "metadata": {},
   "outputs": [
    {
     "data": {
      "text/plain": [
       "myTridiag (generic function with 1 method)"
      ]
     },
     "execution_count": 20,
     "metadata": {},
     "output_type": "execute_result"
    }
   ],
   "source": [
    "function myTridiag(A::Matrix)\n",
    "    # Normalized Householder vectors are stored in the lower \n",
    "    # triangular part of A below the first subdiagonal\n",
    "    n=size(A,1)\n",
    "    T=Float64\n",
    "    A=map(T,A)\n",
    "    v=Vector{T}(undef,n)\n",
    "    Trid=SymTridiagonal(zeros(n),zeros(n-1))\n",
    "    for j = 1 : n-2\n",
    "        μ = sign(A[j+1,j])*norm(A[j+1:n, j])\n",
    "        if μ != zero(T)\n",
    "            β =A[j+1,j]+μ\n",
    "            v[j+2:n] = A[j+2:n,j] / β\n",
    "        end\n",
    "        A[j+1,j]=-μ\n",
    "        A[j,j+1]=-μ\n",
    "        v[j+1] = one(T)\n",
    "        γ = -2 / (v[j+1:n]⋅v[j+1:n])\n",
    "        w = γ* A[j+1:n, j+1:n]*v[j+1:n]\n",
    "        q = w + γ * v[j+1:n]*(v[j+1:n]⋅w) / 2 \n",
    "        A[j+1:n, j+1:n] = A[j+1:n,j+1:n] + v[j+1:n]*q' + q*v[j+1:n]'\n",
    "        A[j+2:n, j] = v[j+2:n]\n",
    "    end\n",
    "    SymTridiagonal(diag(A),diag(A,1)), tril(A,-2)\n",
    "end"
   ]
  },
  {
   "cell_type": "code",
   "execution_count": 21,
   "metadata": {},
   "outputs": [
    {
     "data": {
      "text/plain": [
       "6×6 Array{Int64,2}:\n",
       "  9   5  -3  4  -8  -6\n",
       "  5  -3   3  9  -5   4\n",
       " -3   3   4  8  -4   6\n",
       "  4   9   8  4   4   1\n",
       " -8  -5  -4  4   2   9\n",
       " -6   4   6  1   9   2"
      ]
     },
     "execution_count": 21,
     "metadata": {},
     "output_type": "execute_result"
    }
   ],
   "source": [
    "A"
   ]
  },
  {
   "cell_type": "code",
   "execution_count": 22,
   "metadata": {},
   "outputs": [
    {
     "data": {
      "text/plain": [
       "([9.0 -12.24744871391589 … 0.0 0.0; -12.24744871391589 6.98 … 0.0 0.0; … ; 0.0 0.0 … 9.110305732497977 -10.030701389069694; 0.0 0.0 … -10.030701389069694 4.583723406290584], [0.0 0.0 … 0.0 0.0; 0.0 0.0 … 0.0 0.0; … ; -0.463836717690617 -0.11816614373061109 … 0.0 0.0; -0.34787753826796275 -0.31696739345222574 … 0.0 0.0])"
      ]
     },
     "execution_count": 22,
     "metadata": {},
     "output_type": "execute_result"
    }
   ],
   "source": [
    "T,H=myTridiag(A)"
   ]
  },
  {
   "cell_type": "code",
   "execution_count": 23,
   "metadata": {},
   "outputs": [
    {
     "data": {
      "text/plain": [
       "6×6 SymTridiagonal{Float64,Array{Float64,1}}:\n",
       "   9.0     -12.2474     ⋅         ⋅          ⋅          ⋅ \n",
       " -12.2474    6.98      5.77982    ⋅          ⋅          ⋅ \n",
       "    ⋅        5.77982  -2.08843   8.03697     ⋅          ⋅ \n",
       "    ⋅         ⋅        8.03697  -9.5856    -6.81167     ⋅ \n",
       "    ⋅         ⋅         ⋅       -6.81167    9.11031  -10.0307\n",
       "    ⋅         ⋅         ⋅         ⋅       -10.0307     4.58372"
      ]
     },
     "execution_count": 23,
     "metadata": {},
     "output_type": "execute_result"
    }
   ],
   "source": [
    "T"
   ]
  },
  {
   "cell_type": "code",
   "execution_count": 24,
   "metadata": {},
   "outputs": [
    {
     "data": {
      "text/plain": [
       "6×2 Array{Float64,2}:\n",
       " -16.7997   -16.7997\n",
       "  -6.22327   -6.22327\n",
       "  -2.31715   -2.31715\n",
       "   4.00083    4.00083\n",
       "  18.2778    18.2778\n",
       "  21.0615    21.0615"
      ]
     },
     "execution_count": 24,
     "metadata": {},
     "output_type": "execute_result"
    }
   ],
   "source": [
    "[eigvals(A) eigvals(T)]"
   ]
  },
  {
   "cell_type": "code",
   "execution_count": 25,
   "metadata": {},
   "outputs": [
    {
     "data": {
      "text/plain": [
       "6×6 Array{Float64,2}:\n",
       "  0.0        0.0        0.0       0.0        0.0  0.0\n",
       "  0.0        0.0        0.0       0.0        0.0  0.0\n",
       " -0.173939   0.0        0.0       0.0        0.0  0.0\n",
       "  0.231918  -0.224803   0.0       0.0        0.0  0.0\n",
       " -0.463837  -0.118166  -0.943744  0.0        0.0  0.0\n",
       " -0.347878  -0.316967   0.104262  0.0401482  0.0  0.0"
      ]
     },
     "execution_count": 25,
     "metadata": {},
     "output_type": "execute_result"
    }
   ],
   "source": [
    "H"
   ]
  },
  {
   "cell_type": "code",
   "execution_count": 26,
   "metadata": {},
   "outputs": [
    {
     "data": {
      "text/plain": [
       "5-element Array{Float64,1}:\n",
       "  1.0\n",
       " -0.17393876913398137\n",
       "  0.2319183588453085\n",
       " -0.463836717690617\n",
       " -0.34787753826796275"
      ]
     },
     "execution_count": 26,
     "metadata": {},
     "output_type": "execute_result"
    }
   ],
   "source": [
    "v1=[1;H[3:6,1]]"
   ]
  },
  {
   "cell_type": "code",
   "execution_count": 27,
   "metadata": {},
   "outputs": [
    {
     "data": {
      "text/plain": [
       "5×5 Array{Float64,2}:\n",
       " -0.408248   0.244949   -0.326599    0.653197   0.489898\n",
       "  0.244949   0.957394    0.0568082  -0.113616  -0.0852122\n",
       " -0.326599   0.0568082   0.924256    0.151488   0.113616\n",
       "  0.653197  -0.113616    0.151488    0.697023  -0.227233\n",
       "  0.489898  -0.0852122   0.113616   -0.227233   0.829576"
      ]
     },
     "execution_count": 27,
     "metadata": {},
     "output_type": "execute_result"
    }
   ],
   "source": [
    "H0=I-2*v1*v1'/(v1'*v1)"
   ]
  },
  {
   "cell_type": "code",
   "execution_count": 28,
   "metadata": {},
   "outputs": [
    {
     "data": {
      "text/plain": [
       "6×6 Array{Float64,2}:\n",
       " 1.0   0.0        0.0         0.0         0.0        0.0\n",
       " 0.0  -0.408248   0.244949   -0.326599    0.653197   0.489898\n",
       " 0.0   0.244949   0.957394    0.0568082  -0.113616  -0.0852122\n",
       " 0.0  -0.326599   0.0568082   0.924256    0.151488   0.113616\n",
       " 0.0   0.653197  -0.113616    0.151488    0.697023  -0.227233\n",
       " 0.0   0.489898  -0.0852122   0.113616   -0.227233   0.829576"
      ]
     },
     "execution_count": 28,
     "metadata": {},
     "output_type": "execute_result"
    }
   ],
   "source": [
    "H1=[1 zeros(1,5);zeros(5,1) H0]"
   ]
  },
  {
   "cell_type": "code",
   "execution_count": 29,
   "metadata": {},
   "outputs": [
    {
     "data": {
      "text/plain": [
       "6×6 Array{Float64,2}:\n",
       "   9.0          -12.2474    4.16334e-16  …   1.11022e-15  6.66134e-16\n",
       " -12.2474         6.98     -4.14289          1.17253      3.14517\n",
       "   0.0           -4.14289   6.18291         -2.56569      8.02965\n",
       "  -3.33067e-16    2.23065   7.92347          9.64497      3.96183\n",
       "   1.11022e-15    1.17253  -2.56569         -5.87323      5.63886\n",
       "   8.88178e-16    3.14517   8.02965      …   5.63886      1.38698"
      ]
     },
     "execution_count": 29,
     "metadata": {},
     "output_type": "execute_result"
    }
   ],
   "source": [
    "H1*A*H1"
   ]
  },
  {
   "cell_type": "code",
   "execution_count": 30,
   "metadata": {},
   "outputs": [
    {
     "data": {
      "text/plain": [
       "myTridiagX (generic function with 1 method)"
      ]
     },
     "execution_count": 30,
     "metadata": {},
     "output_type": "execute_result"
    }
   ],
   "source": [
    "# Extract X\n",
    "function myTridiagX(H::Matrix)\n",
    "    n=size(H,1)\n",
    "    T=Float64\n",
    "    X = Matrix{T}(I,n,n)\n",
    "    v=Vector{T}(undef,n)\n",
    "    for j = n-2 : -1 : 1\n",
    "        v[j+1] = one(T)\n",
    "        v[j+2:n] = H[j+2:n, j]\n",
    "        γ = -2 / (v[j+1:n]⋅v[j+1:n])\n",
    "        w = γ * X[j+1:n, j+1:n]'*v[j+1:n]\n",
    "        X[j+1:n, j+1:n] = X[j+1:n, j+1:n] + v[j+1:n]*w'\n",
    "    end\n",
    "    X\n",
    "end"
   ]
  },
  {
   "cell_type": "code",
   "execution_count": 31,
   "metadata": {},
   "outputs": [
    {
     "data": {
      "text/plain": [
       "6×6 Array{Float64,2}:\n",
       " 1.0   0.0        0.0         0.0         0.0         0.0\n",
       " 0.0  -0.408248   0.0974742   0.622022    0.142048    0.645556\n",
       " 0.0   0.244949  -0.73374     0.0135138  -0.516899    0.366412\n",
       " 0.0  -0.326599   0.408544    0.0651098  -0.837043   -0.14678\n",
       " 0.0   0.653197   0.157654    0.689721   -0.0790418  -0.257908\n",
       " 0.0   0.489898   0.510256   -0.364626   -0.0758165   0.600781"
      ]
     },
     "execution_count": 31,
     "metadata": {},
     "output_type": "execute_result"
    }
   ],
   "source": [
    "X=myTridiagX(H)"
   ]
  },
  {
   "cell_type": "code",
   "execution_count": 32,
   "metadata": {},
   "outputs": [
    {
     "data": {
      "text/plain": [
       "6×6 Array{Float64,2}:\n",
       " 1.0   0.0           0.0           0.0           0.0           0.0\n",
       " 0.0   1.0          -1.20734e-16  -1.50768e-16  -9.19151e-17  -2.83227e-16\n",
       " 0.0  -1.20734e-16   1.0           2.93267e-17   1.55967e-16  -5.61122e-17\n",
       " 0.0  -1.50768e-16   2.93267e-17   1.0           2.00692e-16   1.72259e-16\n",
       " 0.0  -9.19151e-17   1.55967e-16   2.00692e-16   1.0           6.37778e-17\n",
       " 0.0  -2.83227e-16  -5.61122e-17   1.72259e-16   6.37778e-17   1.0"
      ]
     },
     "execution_count": 32,
     "metadata": {},
     "output_type": "execute_result"
    }
   ],
   "source": [
    "# Fact 7: norm(ΔX)<ϕ*eps()\n",
    "X'*X"
   ]
  },
  {
   "cell_type": "code",
   "execution_count": 33,
   "metadata": {},
   "outputs": [
    {
     "data": {
      "text/plain": [
       "6×6 Array{Float64,2}:\n",
       "   9.0          -12.2474        6.66134e-16  …    1.08247e-15    3.33067e-15\n",
       " -12.2474         6.98          5.77982           8.04185e-16   -2.07278e-15\n",
       "   8.88178e-16    5.77982      -2.08843           1.46696e-15   -2.66763e-15\n",
       "   8.88178e-16    9.13998e-17   8.03697          -6.81167        2.94038e-15\n",
       "   1.11022e-15    1.66748e-17   2.28269e-15       9.11031      -10.0307\n",
       "   3.55271e-15   -2.34076e-15  -1.63976e-15  …  -10.0307         4.58372"
      ]
     },
     "execution_count": 33,
     "metadata": {},
     "output_type": "execute_result"
    }
   ],
   "source": [
    "X'*A*X"
   ]
  },
  {
   "cell_type": "code",
   "execution_count": 34,
   "metadata": {},
   "outputs": [
    {
     "data": {
      "text/plain": [
       "myTridiagG (generic function with 1 method)"
      ]
     },
     "execution_count": 34,
     "metadata": {},
     "output_type": "execute_result"
    }
   ],
   "source": [
    "# Tridiagonalization using Givens rotations\n",
    "function myTridiagG(A::Matrix)\n",
    "    n=size(A,1)\n",
    "    T=Float64\n",
    "    X=Matrix{T}(I,n,n)\n",
    "    for j = 1 : n-2\n",
    "        for i = j+2 : n\n",
    "            G,r=givens(A,j+1,i,j)\n",
    "            A=(G*A)*G'\n",
    "            # display(A)\n",
    "            X*=G'\n",
    "        end\n",
    "    end\n",
    "    SymTridiagonal(diag(A),diag(A,1)), X\n",
    "end"
   ]
  },
  {
   "cell_type": "code",
   "execution_count": 35,
   "metadata": {},
   "outputs": [
    {
     "data": {
      "text/html": [
       "# 3 methods for generic function <b>givens</b>:<ul><li> givens(A::<b>AbstractArray{T,2} where T</b>, i1::<b>Integer</b>, i2::<b>Integer</b>, j::<b>Integer</b>) in LinearAlgebra at <a href=\"file://D:/buildbot/worker/package_win64/build/usr/share/julia/stdlib/v1.4/LinearAlgebra/src/givens.jl\" target=\"_blank\">C:\\Users\\Ivan_Slapnicar\\AppData\\Local\\Programs\\Julia\\Julia-1.4.1\\share\\julia\\stdlib\\v1.4\\LinearAlgebra\\src\\givens.jl:300</a></li> <li> givens(x::<b>AbstractArray{T,1} where T</b>, i1::<b>Integer</b>, i2::<b>Integer</b>) in LinearAlgebra at <a href=\"file://D:/buildbot/worker/package_win64/build/usr/share/julia/stdlib/v1.4/LinearAlgebra/src/givens.jl\" target=\"_blank\">C:\\Users\\Ivan_Slapnicar\\AppData\\Local\\Programs\\Julia\\Julia-1.4.1\\share\\julia\\stdlib\\v1.4\\LinearAlgebra\\src\\givens.jl:319</a></li> <li> givens(f::<b>T</b>, g::<b>T</b>, i1::<b>Integer</b>, i2::<b>Integer</b>)<i> where T</i> in LinearAlgebra at <a href=\"file://D:/buildbot/worker/package_win64/build/usr/share/julia/stdlib/v1.4/LinearAlgebra/src/givens.jl\" target=\"_blank\">C:\\Users\\Ivan_Slapnicar\\AppData\\Local\\Programs\\Julia\\Julia-1.4.1\\share\\julia\\stdlib\\v1.4\\LinearAlgebra\\src\\givens.jl:275</a></li> </ul>"
      ],
      "text/plain": [
       "# 3 methods for generic function \"givens\":\n",
       "[1] givens(A::AbstractArray{T,2} where T, i1::Integer, i2::Integer, j::Integer) in LinearAlgebra at C:\\Users\\Ivan_Slapnicar\\AppData\\Local\\Programs\\Julia\\Julia-1.4.1\\share\\julia\\stdlib\\v1.4\\LinearAlgebra\\src\\givens.jl:300\n",
       "[2] givens(x::AbstractArray{T,1} where T, i1::Integer, i2::Integer) in LinearAlgebra at C:\\Users\\Ivan_Slapnicar\\AppData\\Local\\Programs\\Julia\\Julia-1.4.1\\share\\julia\\stdlib\\v1.4\\LinearAlgebra\\src\\givens.jl:319\n",
       "[3] givens(f::T, g::T, i1::Integer, i2::Integer) where T in LinearAlgebra at C:\\Users\\Ivan_Slapnicar\\AppData\\Local\\Programs\\Julia\\Julia-1.4.1\\share\\julia\\stdlib\\v1.4\\LinearAlgebra\\src\\givens.jl:275"
      ]
     },
     "execution_count": 35,
     "metadata": {},
     "output_type": "execute_result"
    }
   ],
   "source": [
    "# Let us take a look at the `givens()` functions\n",
    "methods(givens)"
   ]
  },
  {
   "cell_type": "code",
   "execution_count": 36,
   "metadata": {},
   "outputs": [
    {
     "name": "stdout",
     "output_type": "stream",
     "text": [
      "search: \u001b[0m\u001b[1mg\u001b[22m\u001b[0m\u001b[1mi\u001b[22m\u001b[0m\u001b[1mv\u001b[22m\u001b[0m\u001b[1me\u001b[22m\u001b[0m\u001b[1mn\u001b[22m\u001b[0m\u001b[1ms\u001b[22m\n",
      "\n"
     ]
    },
    {
     "data": {
      "text/latex": [
       "\\begin{verbatim}\n",
       "givens(f::T, g::T, i1::Integer, i2::Integer) where {T} -> (G::Givens, r::T)\n",
       "\\end{verbatim}\n",
       "Computes the Givens rotation \\texttt{G} and scalar \\texttt{r} such that for any vector \\texttt{x} where\n",
       "\n",
       "\\begin{verbatim}\n",
       "x[i1] = f\n",
       "x[i2] = g\n",
       "\\end{verbatim}\n",
       "the result of the multiplication\n",
       "\n",
       "\\begin{verbatim}\n",
       "y = G*x\n",
       "\\end{verbatim}\n",
       "has the property that\n",
       "\n",
       "\\begin{verbatim}\n",
       "y[i1] = r\n",
       "y[i2] = 0\n",
       "\\end{verbatim}\n",
       "See also: \\href{@ref}{\\texttt{LinearAlgebra.Givens}}\n",
       "\n",
       "\\rule{\\textwidth}{1pt}\n",
       "\\begin{verbatim}\n",
       "givens(A::AbstractArray, i1::Integer, i2::Integer, j::Integer) -> (G::Givens, r)\n",
       "\\end{verbatim}\n",
       "Computes the Givens rotation \\texttt{G} and scalar \\texttt{r} such that the result of the multiplication\n",
       "\n",
       "\\begin{verbatim}\n",
       "B = G*A\n",
       "\\end{verbatim}\n",
       "has the property that\n",
       "\n",
       "\\begin{verbatim}\n",
       "B[i1,j] = r\n",
       "B[i2,j] = 0\n",
       "\\end{verbatim}\n",
       "See also: \\href{@ref}{\\texttt{LinearAlgebra.Givens}}\n",
       "\n",
       "\\rule{\\textwidth}{1pt}\n",
       "\\begin{verbatim}\n",
       "givens(x::AbstractVector, i1::Integer, i2::Integer) -> (G::Givens, r)\n",
       "\\end{verbatim}\n",
       "Computes the Givens rotation \\texttt{G} and scalar \\texttt{r} such that the result of the multiplication\n",
       "\n",
       "\\begin{verbatim}\n",
       "B = G*x\n",
       "\\end{verbatim}\n",
       "has the property that\n",
       "\n",
       "\\begin{verbatim}\n",
       "B[i1] = r\n",
       "B[i2] = 0\n",
       "\\end{verbatim}\n",
       "See also: \\href{@ref}{\\texttt{LinearAlgebra.Givens}}\n",
       "\n"
      ],
      "text/markdown": [
       "```\n",
       "givens(f::T, g::T, i1::Integer, i2::Integer) where {T} -> (G::Givens, r::T)\n",
       "```\n",
       "\n",
       "Computes the Givens rotation `G` and scalar `r` such that for any vector `x` where\n",
       "\n",
       "```\n",
       "x[i1] = f\n",
       "x[i2] = g\n",
       "```\n",
       "\n",
       "the result of the multiplication\n",
       "\n",
       "```\n",
       "y = G*x\n",
       "```\n",
       "\n",
       "has the property that\n",
       "\n",
       "```\n",
       "y[i1] = r\n",
       "y[i2] = 0\n",
       "```\n",
       "\n",
       "See also: [`LinearAlgebra.Givens`](@ref)\n",
       "\n",
       "---\n",
       "\n",
       "```\n",
       "givens(A::AbstractArray, i1::Integer, i2::Integer, j::Integer) -> (G::Givens, r)\n",
       "```\n",
       "\n",
       "Computes the Givens rotation `G` and scalar `r` such that the result of the multiplication\n",
       "\n",
       "```\n",
       "B = G*A\n",
       "```\n",
       "\n",
       "has the property that\n",
       "\n",
       "```\n",
       "B[i1,j] = r\n",
       "B[i2,j] = 0\n",
       "```\n",
       "\n",
       "See also: [`LinearAlgebra.Givens`](@ref)\n",
       "\n",
       "---\n",
       "\n",
       "```\n",
       "givens(x::AbstractVector, i1::Integer, i2::Integer) -> (G::Givens, r)\n",
       "```\n",
       "\n",
       "Computes the Givens rotation `G` and scalar `r` such that the result of the multiplication\n",
       "\n",
       "```\n",
       "B = G*x\n",
       "```\n",
       "\n",
       "has the property that\n",
       "\n",
       "```\n",
       "B[i1] = r\n",
       "B[i2] = 0\n",
       "```\n",
       "\n",
       "See also: [`LinearAlgebra.Givens`](@ref)\n"
      ],
      "text/plain": [
       "\u001b[36m  givens(f::T, g::T, i1::Integer, i2::Integer) where {T} -> (G::Givens, r::T)\u001b[39m\n",
       "\n",
       "  Computes the Givens rotation \u001b[36mG\u001b[39m and scalar \u001b[36mr\u001b[39m such that for any vector \u001b[36mx\u001b[39m where\n",
       "\n",
       "\u001b[36m  x[i1] = f\u001b[39m\n",
       "\u001b[36m  x[i2] = g\u001b[39m\n",
       "\n",
       "  the result of the multiplication\n",
       "\n",
       "\u001b[36m  y = G*x\u001b[39m\n",
       "\n",
       "  has the property that\n",
       "\n",
       "\u001b[36m  y[i1] = r\u001b[39m\n",
       "\u001b[36m  y[i2] = 0\u001b[39m\n",
       "\n",
       "  See also: \u001b[36mLinearAlgebra.Givens\u001b[39m\n",
       "\n",
       "  ────────────────────────────────────────────────────────────────────────────\n",
       "\n",
       "\u001b[36m  givens(A::AbstractArray, i1::Integer, i2::Integer, j::Integer) -> (G::Givens, r)\u001b[39m\n",
       "\n",
       "  Computes the Givens rotation \u001b[36mG\u001b[39m and scalar \u001b[36mr\u001b[39m such that the result of the\n",
       "  multiplication\n",
       "\n",
       "\u001b[36m  B = G*A\u001b[39m\n",
       "\n",
       "  has the property that\n",
       "\n",
       "\u001b[36m  B[i1,j] = r\u001b[39m\n",
       "\u001b[36m  B[i2,j] = 0\u001b[39m\n",
       "\n",
       "  See also: \u001b[36mLinearAlgebra.Givens\u001b[39m\n",
       "\n",
       "  ────────────────────────────────────────────────────────────────────────────\n",
       "\n",
       "\u001b[36m  givens(x::AbstractVector, i1::Integer, i2::Integer) -> (G::Givens, r)\u001b[39m\n",
       "\n",
       "  Computes the Givens rotation \u001b[36mG\u001b[39m and scalar \u001b[36mr\u001b[39m such that the result of the\n",
       "  multiplication\n",
       "\n",
       "\u001b[36m  B = G*x\u001b[39m\n",
       "\n",
       "  has the property that\n",
       "\n",
       "\u001b[36m  B[i1] = r\u001b[39m\n",
       "\u001b[36m  B[i2] = 0\u001b[39m\n",
       "\n",
       "  See also: \u001b[36mLinearAlgebra.Givens\u001b[39m"
      ]
     },
     "execution_count": 36,
     "metadata": {},
     "output_type": "execute_result"
    }
   ],
   "source": [
    "?givens"
   ]
  },
  {
   "cell_type": "code",
   "execution_count": 37,
   "metadata": {},
   "outputs": [
    {
     "data": {
      "text/plain": [
       "([9.0 12.247448713915892 … 0.0 0.0; 12.247448713915892 6.98 … 0.0 0.0; … ; 0.0 0.0 … 9.110305732497977 10.030701389069696; 0.0 0.0 … 10.030701389069696 4.583723406290594], [1.0 0.0 … 0.0 0.0; 0.0 0.4082482904638629 … -0.14204829345405623 0.6455564660494066; … ; 0.0 -0.653197264742181 … 0.07904182514164797 -0.25790785656125237; 0.0 -0.48989794855663565 … 0.07581647320183352 0.6007814442628551])"
      ]
     },
     "execution_count": 37,
     "metadata": {},
     "output_type": "execute_result"
    }
   ],
   "source": [
    "Tg,Xg=myTridiagG(map(Float64,A))"
   ]
  },
  {
   "cell_type": "code",
   "execution_count": 38,
   "metadata": {},
   "outputs": [
    {
     "data": {
      "text/plain": [
       "6×6 SymTridiagonal{Float64,Array{Float64,1}}:\n",
       "  9.0     12.2474     ⋅         ⋅         ⋅         ⋅ \n",
       " 12.2474   6.98      5.77982    ⋅         ⋅         ⋅ \n",
       "   ⋅       5.77982  -2.08843   8.03697    ⋅         ⋅ \n",
       "   ⋅        ⋅        8.03697  -9.5856   -6.81167    ⋅ \n",
       "   ⋅        ⋅         ⋅       -6.81167   9.11031  10.0307\n",
       "   ⋅        ⋅         ⋅         ⋅       10.0307    4.58372"
      ]
     },
     "execution_count": 38,
     "metadata": {},
     "output_type": "execute_result"
    }
   ],
   "source": [
    "Tg"
   ]
  },
  {
   "cell_type": "code",
   "execution_count": 39,
   "metadata": {},
   "outputs": [
    {
     "data": {
      "text/plain": [
       "6×6 Array{Float64,2}:\n",
       " 1.0  0.0           0.0           0.0           0.0           0.0\n",
       " 0.0  1.0           4.69211e-17   1.26227e-16   1.36396e-17   6.34259e-17\n",
       " 0.0  4.69211e-17   1.0          -6.84002e-17  -1.7415e-17   -1.57021e-16\n",
       " 0.0  1.26227e-16  -6.84002e-17   1.0           2.6043e-18    1.25154e-16\n",
       " 0.0  1.36396e-17  -1.7415e-17    2.6043e-18    1.0          -4.34495e-18\n",
       " 0.0  6.34259e-17  -1.57021e-16   1.25154e-16  -4.34495e-18   1.0"
      ]
     },
     "execution_count": 39,
     "metadata": {},
     "output_type": "execute_result"
    }
   ],
   "source": [
    "Xg'*Xg"
   ]
  },
  {
   "cell_type": "code",
   "execution_count": 40,
   "metadata": {},
   "outputs": [
    {
     "data": {
      "text/plain": [
       "6×6 Array{Float64,2}:\n",
       "  9.0          12.2474        4.44089e-16  …  -1.16573e-15   1.11022e-15\n",
       " 12.2474        6.98          5.77982          7.42096e-16  -7.63126e-16\n",
       "  4.44089e-16   5.77982      -2.08843         -1.6576e-16    1.66283e-15\n",
       "  0.0           1.45234e-16   8.03697         -6.81167      -2.42829e-15\n",
       " -1.16573e-15   4.87681e-16   6.08135e-17      9.11031      10.0307\n",
       "  8.88178e-16  -3.14801e-16   1.35468e-15  …  10.0307        4.58372"
      ]
     },
     "execution_count": 40,
     "metadata": {},
     "output_type": "execute_result"
    }
   ],
   "source": [
    "Xg'*A*Xg"
   ]
  },
  {
   "cell_type": "code",
   "execution_count": 41,
   "metadata": {},
   "outputs": [
    {
     "data": {
      "text/plain": [
       "6×6 SymTridiagonal{Float64,Array{Float64,1}}:\n",
       "   9.0     -12.2474     ⋅         ⋅          ⋅          ⋅ \n",
       " -12.2474    6.98      5.77982    ⋅          ⋅          ⋅ \n",
       "    ⋅        5.77982  -2.08843   8.03697     ⋅          ⋅ \n",
       "    ⋅         ⋅        8.03697  -9.5856    -6.81167     ⋅ \n",
       "    ⋅         ⋅         ⋅       -6.81167    9.11031  -10.0307\n",
       "    ⋅         ⋅         ⋅         ⋅       -10.0307     4.58372"
      ]
     },
     "execution_count": 41,
     "metadata": {},
     "output_type": "execute_result"
    }
   ],
   "source": [
    "T"
   ]
  },
  {
   "cell_type": "code",
   "execution_count": 42,
   "metadata": {},
   "outputs": [
    {
     "data": {
      "text/plain": [
       "LinearAlgebra.QRCompactWY{Float64,Array{Float64,2}}\n",
       "Q factor:\n",
       "6×6 LinearAlgebra.QRCompactWYQ{Float64,Array{Float64,2}}:\n",
       " -0.592157  -0.567632  -0.0677113   0.399955   -0.2305      0.330856\n",
       "  0.805823  -0.417123  -0.0497575   0.293906   -0.169382    0.243129\n",
       "  0.0        0.709791  -0.0833909   0.49257    -0.283875    0.407471\n",
       "  0.0        0.0       -0.992968   -0.0833676   0.0480459  -0.0689645\n",
       "  0.0        0.0        0.0        -0.709986   -0.402551    0.577817\n",
       "  0.0        0.0        0.0         0.0         0.820511    0.57163\n",
       "R factor:\n",
       "6×6 Array{Float64,2}:\n",
       " -15.1987  12.8771    4.65751  0.0        0.0       0.0\n",
       "   0.0      8.14299  -3.89324  5.70457    0.0       0.0\n",
       "   0.0      0.0      -8.09389  8.84799    6.76377   0.0\n",
       "   0.0      0.0       0.0      9.59409   -5.90032   7.12166\n",
       "   0.0      0.0       0.0      0.0      -12.2249    7.79887\n",
       "   0.0      0.0       0.0      0.0        0.0      -3.17571"
      ]
     },
     "execution_count": 42,
     "metadata": {},
     "output_type": "execute_result"
    }
   ],
   "source": [
    "Q,R=qr(Matrix(T))"
   ]
  },
  {
   "cell_type": "code",
   "execution_count": 43,
   "metadata": {},
   "outputs": [
    {
     "data": {
      "text/plain": [
       "6×6 Array{Float64,2}:\n",
       " 19.3766    6.56181  -8.88178e-16   1.87596e-15   1.11006e-15   0.0\n",
       "  6.56181  -6.16001  -5.74497       0.0           8.88178e-16  -4.63697e-16\n",
       "  0.0      -5.74497  -8.11081      -9.52663      -8.88178e-16   0.0\n",
       "  0.0       0.0      -9.52663       3.38931       8.67954       8.88178e-16\n",
       "  0.0       0.0       0.0           8.67954      11.3202       -2.60571\n",
       "  0.0       0.0       0.0           0.0          -2.60571      -1.81533"
      ]
     },
     "execution_count": 43,
     "metadata": {},
     "output_type": "execute_result"
    }
   ],
   "source": [
    "R*Q"
   ]
  },
  {
   "cell_type": "markdown",
   "metadata": {},
   "source": [
    "## Tridiagonal QR method\n",
    "\n",
    "Let $T$ be a real symmetric tridiagonal matrix of order $n$ and $T=Q\\Lambda Q^T$ be its EVD.\n",
    "\n",
    "Each step of the shifted QR iterations can be elegantly implemented without explicitly computing the \n",
    "shifted matrix  $T-\\mu I$.\n",
    "\n",
    "\n",
    "### Definition\n",
    "\n",
    "__Wilkinson's shift__ $\\mu$ is the eigenvalue of the bottom right $2\\times 2$ submatrix of $T$, which\n",
    "  is closer to $T_{n,n}$. \n",
    "\n",
    "\n",
    "### Facts\n",
    "\n",
    "1. The stable formula for the Wilkinson's shift is\n",
    "$$\n",
    "\\mu=T_{n,n}-\n",
    "\\frac{T_{n,n-1}^2}{\\tau+\\mathop{\\mathrm{sign}}(\\tau)\\sqrt{\\tau^2+T_{n,n-1}^2}},\\qquad\n",
    "\\tau=\\frac{T_{n-1,n-1}-T_{n,n}}{2}.\n",
    "$$\n",
    "\n",
    "2. Wilkinson's shift is the most commonly used shift. \n",
    "  With Wilkinson's shift, the algorithm always converges in\n",
    "  the sense that $T_{n-1,n}\\to 0$. The convergence is quadratic, that\n",
    "  is, $|[T_{k+1}]_{n-1,n}|\\leq c |[T_{k}]_{n-1,n}|^2$ for some\n",
    "  constant $c$, where $T_k$ is the matrix after the $k$-th sweep. \n",
    "  Even more, the convergence is usually cubic. However,\n",
    "  it can also happen that some $T_{i,i+i}$, $i\\neq n-1$, becomes\n",
    "  sufficiently small before $T_{n-1,n}$, so the practical program has to check\n",
    "  for deflation at each step.\n",
    "\n",
    "3. __Chasing the Bulge.__ The plane rotation parameters at the start of the sweep are computed \n",
    "as if the shifted $T-\\mu I$ has been formed. Since the rotation is\n",
    "applied to the original $T$ and not to $T-\\mu I$, \n",
    "this creates new nonzero elements at the positions $(3,1)$ and\n",
    "$(1, 3)$, the so-called __bulge__.  The subsequent rotations simply\n",
    "chase the bulge out of the lower right corner of the matrix. The\n",
    "rotation in the $(2,3)$ plane sets the elements $(3,1)$ and $(1,3)$\n",
    "back to zero, but it generates two new nonzero elements at positions\n",
    "$(4,2)$ and $(2,4)$; the rotation in the $(3,4)$ plane sets the\n",
    "elements $(4,2)$ and $(2,4)$ back to zero, but it generates two new\n",
    "nonzero elements at positions $(5,3)$ and $(3,5)$, etc.\n",
    "\n",
    "4. __Implicit__ $Q$ __Theorem.__ The effect of this procedure is the following. At the end of the first sweep, the\n",
    "resulting matrix $T_1$ is equal to the the matrix\n",
    "that would have been obtained by factorizing $T-\\mu I=QR$\n",
    "and computing $T_1=RQ+\\mu I$.\n",
    "\n",
    "5. Since the convergence of the function `myTridEigQR()` is quadratic (or even cubic), \n",
    "  an eigenvalue is isolated after just a few steps, which requires\n",
    "  $O(n)$ operations. This means that $O(n^2)$ operations are needed to\n",
    "  compute all eigenvalues. \n",
    "\n",
    "6. If the eigenvector matrix $Q$ is desired, the plane rotations need to be\n",
    "accumulated similarly to the accumulation of $X$ in the function `myTridiagG()`.\n",
    "This accumulation requires $O(n^3)$ operations. Another, faster, algorithm to \n",
    "first compute only $\\Lambda$ and then compute $Q$ using inverse iterations. \n",
    "Inverse iterations on a tridiagonal matrix are implemented in the LAPACK routine \n",
    "[DSTEIN](http://www.netlib.org/lapack/explore-html/d8/d35/dstein_8f.html).\n",
    "\n",
    "7. __Error bounds.__ Let $U\\Lambda U^T$ and $\\tilde U \\tilde \\Lambda \\tilde U^T$ be the\n",
    "exact and the computed EVDs of $A$, respectively, such that the diagonals of $\\Lambda$\n",
    "and $\\tilde \\Lambda$ are in the same order.\n",
    "Numerical methods generally compute the EVD with the errors bounded by\n",
    "$$\n",
    "|\\lambda_i-\\tilde \\lambda_i|\\leq \\phi \\epsilon\\|A\\|_2,\n",
    "\\qquad\n",
    "\\|u_i-\\tilde u_i\\|_2\\leq \\psi\\epsilon \\frac{\\|A\\|_2}\n",
    "{\\min_{j\\neq i} \n",
    "|\\lambda_i-\\tilde \\lambda_j|},\n",
    "$$\n",
    "where $\\epsilon$ is machine precision and $\\phi$ and $\\psi$\n",
    "are slowly growing polynomial functions of\n",
    "$n$ which depend upon the algorithm used (typically $O(n)$ or $O(n^2)$).\n",
    "Such bounds are obtained by combining perturbation bounds with the floating-point error analysis of the respective\n",
    "algorithms.\n",
    "\n",
    "8. The eigenvalue decomposition $T=Q\\Lambda Q^T$ computed by `myTridEigQR()` satisfies the\n",
    "error bounds from fact 7. with $A$ replaced by $T$ and $U$ replaced by $Q$. The deflation criterion \n",
    "implies $|T_{i,i+1}|\\leq \\epsilon \\|T\\|_F$, which is within these\n",
    "bounds.\n",
    "   \n",
    "9. The EVD computed by function `mySymEigQR()` satisfies the error bounds given in Fact 7. \n",
    "However, the algorithm tends to perform better on matrices, which are\n",
    "graded downwards, that is, on matrices that exhibit systematic decrease\n",
    "in the size of the matrix elements as we move along the diagonal.  \n",
    "For such matrices the tiny eigenvalues can usually be computed with higher\n",
    "relative accuracy (although counterexamples can be easily constructed).\n",
    "If the tiny eigenvalues are of interest, it should be checked whether\n",
    "there exists a symmetric permutation that moves larger elements to the\n",
    "upper left corner, thus converting the given matrix to the\n",
    "one that is graded downwards.\n",
    "\n",
    "10. The function `myTridEigQR()` is implemented in the \n",
    "LAPACK subroutine [DSTEQR](http://www.netlib.org/lapack/explore-html/d9/d3f/dsteqr_8f.html). \n",
    "This routine can compute just the\n",
    "eigenvalues, or both eigenvalues and eigenvectors.\n",
    "\n",
    "11. The function `mySymEigQR()` is  Algorithm 5 is implemented in the functions `eig()`, `eigvals()` and `eigvecs()`, \n",
    "and in the  LAPACK routine [DSYEV](http://www.netlib.org/lapack/explore-html/dd/d4c/dsyev_8f.html).\n",
    "To compute only eigenvalues, DSYEV calls DSYTRD and DSTEQR\n",
    "without the eigenvector option. To compute both eigenvalues and eigenvectors,\n",
    "DSYEV calls DSYTRD, DORGTR, and DSTEQR with the eigenvector\n",
    "option.\n",
    "\n",
    "### Examples"
   ]
  },
  {
   "cell_type": "code",
   "execution_count": 44,
   "metadata": {
    "scrolled": true
   },
   "outputs": [
    {
     "data": {
      "text/plain": [
       "myTridEigQR (generic function with 1 method)"
      ]
     },
     "execution_count": 44,
     "metadata": {},
     "output_type": "execute_result"
    }
   ],
   "source": [
    "function myTridEigQR(A1::SymTridiagonal)\n",
    "    A=deepcopy(A1)\n",
    "    n=length(A.dv)\n",
    "    T=Float64\n",
    "    λ=Vector{T}(undef,n)\n",
    "    B=Matrix{T}\n",
    "    if n==1\n",
    "        return map(T,A.dv)\n",
    "    end\n",
    "    if n==2\n",
    "        τ=(A.dv[end-1]-A.dv[end])/2\n",
    "        μ=A.dv[end]-A.ev[end]^2/(τ+sign(τ)*sqrt(τ^2+A.ev[end]^2))\n",
    "        # Only rotation\n",
    "        B=A[1:2,1:2]\n",
    "        G,r=givens(B-μ*I,1,2,1)\n",
    "        B=(G*B)*G'\n",
    "        return diag(B)[1:2]\n",
    "    end\n",
    "    steps=1\n",
    "    k=0\n",
    "    while k==0 && steps<=10\n",
    "        # Shift\n",
    "        τ=(A.dv[end-1]-A.dv[end])/2\n",
    "        μ=A.dv[end]-A.ev[end]^2/(τ+sign(τ)*sqrt(τ^2+A.ev[end]^2))\n",
    "        # First rotation\n",
    "        B=A[1:3,1:3]\n",
    "        G,r=givens(B-μ*I,1,2,1)\n",
    "        B=(G*B)*G'\n",
    "        A.dv[1:2]=diag(B)[1:2]\n",
    "        A.ev[1:2]=diag(B,-1)\n",
    "        bulge=B[3,1]\n",
    "        # Bulge chasing\n",
    "        for i = 2 : n-2\n",
    "            B=A[i-1:i+2,i-1:i+2]\n",
    "            B[3,1]=bulge\n",
    "            B[1,3]=bulge\n",
    "            G,r=givens(B,2,3,1)\n",
    "            B=(G*B)*G'\n",
    "            A.dv[i:i+1]=diag(B)[2:3]\n",
    "            A.ev[i-1:i+1]=diag(B,-1)\n",
    "            bulge=B[4,2]\n",
    "        end\n",
    "        # Last rotation\n",
    "        B=A[n-2:n,n-2:n]\n",
    "        B[3,1]=bulge\n",
    "        B[1,3]=bulge\n",
    "        G,r=givens(B,2,3,1)\n",
    "        B=(G*B)*G'\n",
    "        A.dv[n-1:n]=diag(B)[2:3]\n",
    "        A.ev[n-2:n-1]=diag(B,-1)\n",
    "        steps+=1\n",
    "        # Deflation criterion\n",
    "        k=findfirst(abs.(A.ev) .< sqrt.(abs.(A.dv[1:n-1].*A.dv[2:n]))*eps(T))\n",
    "        k=k==nothing ? 0 : k\n",
    "        # display(A)\n",
    "    end\n",
    "    λ[1:k]=myTridEigQR(SymTridiagonal(A.dv[1:k],A.ev[1:k-1]))\n",
    "    λ[k+1:n]=myTridEigQR(SymTridiagonal(A.dv[k+1:n],A.ev[k+1:n-1]))\n",
    "    λ\n",
    "end"
   ]
  },
  {
   "cell_type": "code",
   "execution_count": 45,
   "metadata": {},
   "outputs": [
    {
     "data": {
      "text/plain": [
       "6-element Array{Float64,1}:\n",
       " -16.7997099148949\n",
       "  -6.223271345941231\n",
       "  -2.317154797491101\n",
       "   4.000831230433498\n",
       "  18.277831400086136\n",
       "  21.061473427807595"
      ]
     },
     "execution_count": 45,
     "metadata": {},
     "output_type": "execute_result"
    }
   ],
   "source": [
    "λ=eigvals(T)"
   ]
  },
  {
   "cell_type": "code",
   "execution_count": 46,
   "metadata": {},
   "outputs": [
    {
     "data": {
      "text/plain": [
       "6×6 SymTridiagonal{Float64,Array{Float64,1}}:\n",
       "   9.0     -12.2474     ⋅         ⋅          ⋅          ⋅ \n",
       " -12.2474    6.98      5.77982    ⋅          ⋅          ⋅ \n",
       "    ⋅        5.77982  -2.08843   8.03697     ⋅          ⋅ \n",
       "    ⋅         ⋅        8.03697  -9.5856    -6.81167     ⋅ \n",
       "    ⋅         ⋅         ⋅       -6.81167    9.11031  -10.0307\n",
       "    ⋅         ⋅         ⋅         ⋅       -10.0307     4.58372"
      ]
     },
     "execution_count": 46,
     "metadata": {},
     "output_type": "execute_result"
    }
   ],
   "source": [
    "T"
   ]
  },
  {
   "cell_type": "code",
   "execution_count": 47,
   "metadata": {},
   "outputs": [
    {
     "data": {
      "text/plain": [
       "6-element Array{Float64,1}:\n",
       "  21.06147342780759\n",
       "  18.277831400086132\n",
       " -16.799709914894905\n",
       "   4.0008312304335\n",
       "  -6.22327134594123\n",
       "  -2.3171547974911006"
      ]
     },
     "execution_count": 47,
     "metadata": {},
     "output_type": "execute_result"
    }
   ],
   "source": [
    "λ₁=myTridEigQR(T)"
   ]
  },
  {
   "cell_type": "code",
   "execution_count": 48,
   "metadata": {},
   "outputs": [
    {
     "data": {
      "text/plain": [
       "6-element Array{Float64,1}:\n",
       " -2.1147470383703508e-16\n",
       "  1.4271889659437529e-16\n",
       "  1.9165280210493494e-16\n",
       " -4.439969439070237e-16\n",
       "  1.9437282252115306e-16\n",
       "  1.6868305491437418e-16"
      ]
     },
     "execution_count": 48,
     "metadata": {},
     "output_type": "execute_result"
    }
   ],
   "source": [
    "(sort(λ)-sort(λ₁))./sort(λ)"
   ]
  },
  {
   "cell_type": "markdown",
   "metadata": {},
   "source": [
    "###  Computing the eigenvectors \n",
    "\n",
    "Once the eigenvalues are computed, the eigeenvectors can be efficiently computed with inverse iterations. \n",
    "Inverse iterations for tridiagonal matrices are implemented in the LAPACK routine \n",
    "[DSTEIN](http://www.netlib.org/lapack/explore-html/d8/d35/dstein_8f.html)."
   ]
  },
  {
   "cell_type": "code",
   "execution_count": 49,
   "metadata": {},
   "outputs": [
    {
     "data": {
      "text/latex": [
       "\\begin{verbatim}\n",
       "stein!(dv, ev_in, w_in, iblock_in, isplit_in)\n",
       "\\end{verbatim}\n",
       "Computes the eigenvectors for a symmetric tridiagonal matrix with \\texttt{dv} as diagonal and \\texttt{ev\\_in} as off-diagonal. \\texttt{w\\_in} specifies the input eigenvalues for which to find corresponding eigenvectors. \\texttt{iblock\\_in} specifies the submatrices corresponding to the eigenvalues in \\texttt{w\\_in}. \\texttt{isplit\\_in} specifies the splitting points between the submatrix blocks.\n",
       "\n"
      ],
      "text/markdown": [
       "```\n",
       "stein!(dv, ev_in, w_in, iblock_in, isplit_in)\n",
       "```\n",
       "\n",
       "Computes the eigenvectors for a symmetric tridiagonal matrix with `dv` as diagonal and `ev_in` as off-diagonal. `w_in` specifies the input eigenvalues for which to find corresponding eigenvectors. `iblock_in` specifies the submatrices corresponding to the eigenvalues in `w_in`. `isplit_in` specifies the splitting points between the submatrix blocks.\n"
      ],
      "text/plain": [
       "\u001b[36m  stein!(dv, ev_in, w_in, iblock_in, isplit_in)\u001b[39m\n",
       "\n",
       "  Computes the eigenvectors for a symmetric tridiagonal matrix with \u001b[36mdv\u001b[39m as\n",
       "  diagonal and \u001b[36mev_in\u001b[39m as off-diagonal. \u001b[36mw_in\u001b[39m specifies the input eigenvalues for\n",
       "  which to find corresponding eigenvectors. \u001b[36miblock_in\u001b[39m specifies the\n",
       "  submatrices corresponding to the eigenvalues in \u001b[36mw_in\u001b[39m. \u001b[36misplit_in\u001b[39m specifies\n",
       "  the splitting points between the submatrix blocks."
      ]
     },
     "execution_count": 49,
     "metadata": {},
     "output_type": "execute_result"
    }
   ],
   "source": [
    "?LAPACK.stein!"
   ]
  },
  {
   "cell_type": "code",
   "execution_count": 50,
   "metadata": {},
   "outputs": [
    {
     "data": {
      "text/plain": [
       "6×6 Array{Float64,2}:\n",
       "  0.0763052   0.500654   0.324619   0.383753   -0.0965598   0.693942\n",
       "  0.16074     0.6223     0.299962   0.156641    0.0731471  -0.683405\n",
       " -0.499635   -0.36068    0.205364   0.732435   -0.0616295  -0.194526\n",
       "  0.798961   -0.261967  -0.221563   0.442285   -0.208778   -0.0688452\n",
       "  0.256653   -0.29625    0.478726  -0.0179859   0.781298    0.0802303\n",
       "  0.120393   -0.274969   0.695847  -0.30951    -0.572287   -0.0488396"
      ]
     },
     "execution_count": 50,
     "metadata": {},
     "output_type": "execute_result"
    }
   ],
   "source": [
    "U=LAPACK.stein!(T.dv,T.ev,sort(λ₁))"
   ]
  },
  {
   "cell_type": "code",
   "execution_count": 51,
   "metadata": {},
   "outputs": [
    {
     "data": {
      "text/plain": [
       "4.599392953031193e-16"
      ]
     },
     "execution_count": 51,
     "metadata": {},
     "output_type": "execute_result"
    }
   ],
   "source": [
    "# Orthogonality\n",
    "norm(U'*U-I)"
   ]
  },
  {
   "cell_type": "code",
   "execution_count": 52,
   "metadata": {},
   "outputs": [
    {
     "data": {
      "text/plain": [
       "1.784465511745828e-14"
      ]
     },
     "execution_count": 52,
     "metadata": {},
     "output_type": "execute_result"
    }
   ],
   "source": [
    "# Residual\n",
    "norm(T*U-U*Diagonal(sort(λ₁)))"
   ]
  },
  {
   "cell_type": "code",
   "execution_count": 53,
   "metadata": {},
   "outputs": [
    {
     "name": "stdout",
     "output_type": "stream",
     "text": [
      "  0.526962 seconds (7.03 M allocations: 627.377 MiB, 9.96% gc time)\n",
      "  0.003252 seconds (5 allocations: 12.984 KiB)\n",
      "  0.013695 seconds (17 allocations: 1.266 MiB)\n"
     ]
    }
   ],
   "source": [
    "# Some timings - n=100, 200, 400\n",
    "n=400\n",
    "Tbig=SymTridiagonal(rand(n),rand(n-1))\n",
    "@time myTridEigQR(Tbig);\n",
    "@time λbig=eigvals(Tbig);\n",
    "@time LAPACK.stein!(Tbig.dv,Tbig.ev,λbig);"
   ]
  },
  {
   "cell_type": "code",
   "execution_count": 54,
   "metadata": {},
   "outputs": [
    {
     "name": "stdout",
     "output_type": "stream",
     "text": [
      "  0.076606 seconds (6 allocations: 62.938 KiB)\n",
      "  0.379448 seconds (18 allocations: 30.722 MiB, 1.17% gc time)\n",
      "  0.713664 seconds (299.92 k allocations: 46.141 MiB, 0.48% gc time)\n"
     ]
    }
   ],
   "source": [
    "n=2000\n",
    "Tbig=SymTridiagonal(rand(n),rand(n-1))\n",
    "@time λbig=eigvals(Tbig);\n",
    "@time U=LAPACK.stein!(Tbig.dv,Tbig.ev,λbig);\n",
    "@time eigen(Tbig);"
   ]
  },
  {
   "cell_type": "markdown",
   "metadata": {},
   "source": [
    "Alternatively, the rotations in `myTridEigQR()` can be accumulated to compute the eigenvectors. This is not optimal, but is instructive. We keep the name of the function, using Julia's __multiple dispatch__ feature."
   ]
  },
  {
   "cell_type": "code",
   "execution_count": 55,
   "metadata": {},
   "outputs": [
    {
     "data": {
      "text/plain": [
       "myTridEigQR (generic function with 2 methods)"
      ]
     },
     "execution_count": 55,
     "metadata": {},
     "output_type": "execute_result"
    }
   ],
   "source": [
    "function myTridEigQR(A1::SymTridiagonal,U::Matrix)\n",
    "    # U is either the identity matrix or the output from myTridiagX()\n",
    "    A=deepcopy(A1)\n",
    "    n=length(A.dv)\n",
    "    T=Float64\n",
    "    λ=Vector{T}(undef,n)\n",
    "    B=Matrix{T}\n",
    "    if n==1\n",
    "        return map(T,A.dv), U\n",
    "    end\n",
    "    if n==2\n",
    "        τ=(A.dv[end-1]-A.dv[end])/2\n",
    "        μ=A.dv[end]-A.ev[end]^2/(τ+sign(τ)*sqrt(τ^2+A.ev[end]^2))\n",
    "        # Only rotation\n",
    "        B=A[1:2,1:2]\n",
    "        G,r=givens(B-μ*I,1,2,1)\n",
    "        B=(G*B)*G'\n",
    "        U*=G'\n",
    "        return diag(B)[1:2], U\n",
    "    end\n",
    "    steps=1\n",
    "    k=0\n",
    "    while k==0 && steps<=10\n",
    "        # Shift\n",
    "        τ=(A.dv[end-1]-A.dv[end])/2\n",
    "        μ=A.dv[end]-A.ev[end]^2/(τ+sign(τ)*sqrt(τ^2+A.ev[end]^2))\n",
    "        # First rotation\n",
    "        B=A[1:3,1:3]\n",
    "        G,r=givens(B-μ*I,1,2,1)\n",
    "        B=(G*B)*G'\n",
    "        U[:,1:3]*=G'\n",
    "        A.dv[1:2]=diag(B)[1:2]\n",
    "        A.ev[1:2]=diag(B,-1)\n",
    "        bulge=B[3,1]\n",
    "        # Bulge chasing\n",
    "        for i = 2 : n-2\n",
    "            B=A[i-1:i+2,i-1:i+2]\n",
    "            B[3,1]=bulge\n",
    "            B[1,3]=bulge\n",
    "            G,r=givens(B,2,3,1)\n",
    "            B=(G*B)*G'\n",
    "            U[:,i-1:i+2]=U[:,i-1:i+2]*G'\n",
    "            A.dv[i:i+1]=diag(B)[2:3]\n",
    "            A.ev[i-1:i+1]=diag(B,-1)\n",
    "            bulge=B[4,2]\n",
    "        end\n",
    "        # Last rotation\n",
    "        B=A[n-2:n,n-2:n]\n",
    "        B[3,1]=bulge\n",
    "        B[1,3]=bulge\n",
    "        G,r=givens(B,2,3,1)\n",
    "        B=(G*B)*G'\n",
    "        U[:,n-2:n]*=G'\n",
    "        A.dv[n-1:n]=diag(B)[2:3]\n",
    "        A.ev[n-2:n-1]=diag(B,-1)\n",
    "        steps+=1\n",
    "        # Deflation criterion\n",
    "        k=findfirst(abs.(A.ev) .< sqrt.(abs.(A.dv[1:n-1].*A.dv[2:n]))*eps())\n",
    "        k=k==nothing ? 0 : k\n",
    "    end\n",
    "    λ[1:k], U[:,1:k]=myTridEigQR(SymTridiagonal(A.dv[1:k],A.ev[1:k-1]),U[:,1:k])\n",
    "    λ[k+1:n], U[:,k+1:n]=myTridEigQR(SymTridiagonal(A.dv[k+1:n],A.ev[k+1:n-1]),U[:,k+1:n])\n",
    "    λ, U\n",
    "end"
   ]
  },
  {
   "cell_type": "code",
   "execution_count": 56,
   "metadata": {},
   "outputs": [
    {
     "data": {
      "text/plain": [
       "6-element Array{Float64,1}:\n",
       "  21.06147342780759\n",
       "  18.277831400086132\n",
       " -16.799709914894905\n",
       "   4.0008312304335\n",
       "  -6.22327134594123\n",
       "  -2.3171547974911006"
      ]
     },
     "execution_count": 56,
     "metadata": {},
     "output_type": "execute_result"
    }
   ],
   "source": [
    "λ,U=myTridEigQR(T,Matrix{Float64}(I,size(T)))\n",
    "λ"
   ]
  },
  {
   "cell_type": "code",
   "execution_count": 57,
   "metadata": {},
   "outputs": [
    {
     "data": {
      "text/plain": [
       "6×6 Array{Float64,2}:\n",
       "  0.693942   -0.0965598  -0.0763052  -0.383753   -0.500654  -0.324619\n",
       " -0.683405    0.0731471  -0.16074    -0.156641   -0.6223    -0.299962\n",
       " -0.194526   -0.0616295   0.499635   -0.732435    0.36068   -0.205364\n",
       " -0.0688452  -0.208778   -0.798961   -0.442285    0.261967   0.221563\n",
       "  0.0802303   0.781298   -0.256653    0.0179859   0.29625   -0.478726\n",
       " -0.0488396  -0.572287   -0.120393    0.30951     0.274969  -0.695847"
      ]
     },
     "execution_count": 57,
     "metadata": {},
     "output_type": "execute_result"
    }
   ],
   "source": [
    "U"
   ]
  },
  {
   "cell_type": "code",
   "execution_count": 58,
   "metadata": {},
   "outputs": [
    {
     "data": {
      "text/plain": [
       "1.360048863945506e-15"
      ]
     },
     "execution_count": 58,
     "metadata": {},
     "output_type": "execute_result"
    }
   ],
   "source": [
    "# Orthogonality\n",
    "norm(U'*U-I)"
   ]
  },
  {
   "cell_type": "code",
   "execution_count": 59,
   "metadata": {},
   "outputs": [
    {
     "data": {
      "text/plain": [
       "2.1755383380997447e-14"
      ]
     },
     "execution_count": 59,
     "metadata": {},
     "output_type": "execute_result"
    }
   ],
   "source": [
    "# Residual\n",
    "norm(T*U-U*Diagonal(λ))"
   ]
  },
  {
   "cell_type": "markdown",
   "metadata": {},
   "source": [
    "## Symmetric QR method\n",
    "\n",
    "Combining `myTridiag()`, `myTridiagX()` and `myTridEigQR()`, we get the method for computing symmetric EVD."
   ]
  },
  {
   "cell_type": "code",
   "execution_count": 60,
   "metadata": {},
   "outputs": [
    {
     "data": {
      "text/plain": [
       "mySymEigQR (generic function with 1 method)"
      ]
     },
     "execution_count": 60,
     "metadata": {},
     "output_type": "execute_result"
    }
   ],
   "source": [
    "function mySymEigQR(A::Matrix)\n",
    "    T,H=myTridiag(A)\n",
    "    X=myTridiagX(H)\n",
    "    myTridEigQR(T,X)\n",
    "end"
   ]
  },
  {
   "cell_type": "code",
   "execution_count": 61,
   "metadata": {},
   "outputs": [
    {
     "data": {
      "text/plain": [
       "6×6 Array{Int64,2}:\n",
       "  9   5  -3  4  -8  -6\n",
       "  5  -3   3  9  -5   4\n",
       " -3   3   4  8  -4   6\n",
       "  4   9   8  4   4   1\n",
       " -8  -5  -4  4   2   9\n",
       " -6   4   6  1   9   2"
      ]
     },
     "execution_count": 61,
     "metadata": {},
     "output_type": "execute_result"
    }
   ],
   "source": [
    "A"
   ]
  },
  {
   "cell_type": "code",
   "execution_count": 62,
   "metadata": {},
   "outputs": [
    {
     "data": {
      "text/plain": [
       "6-element Array{Float64,1}:\n",
       "  21.06147342780759\n",
       "  18.277831400086132\n",
       " -16.799709914894905\n",
       "   4.0008312304335\n",
       "  -6.22327134594123\n",
       "  -2.3171547974911006"
      ]
     },
     "execution_count": 62,
     "metadata": {},
     "output_type": "execute_result"
    }
   ],
   "source": [
    "λ,U=mySymEigQR(map(Float64,A))\n",
    "λ"
   ]
  },
  {
   "cell_type": "code",
   "execution_count": 63,
   "metadata": {},
   "outputs": [
    {
     "data": {
      "text/plain": [
       "6×6 Array{Float64,2}:\n",
       "  0.693942   -0.0965598  -0.0763052  -0.383753   -0.500654   -0.324619\n",
       "  0.197082   -0.424196   -0.496826   -0.0801954   0.671749   -0.276953\n",
       " -0.0849644  -0.553229   -0.328222    0.597182   -0.465916    0.0726892\n",
       "  0.0792565  -0.632641    0.437101   -0.337355    0.0793185   0.531344\n",
       " -0.518295   -0.0200926  -0.525949   -0.604088   -0.263271    0.14181\n",
       " -0.444379   -0.322541    0.414647   -0.104615   -0.0736083  -0.714283"
      ]
     },
     "execution_count": 63,
     "metadata": {},
     "output_type": "execute_result"
    }
   ],
   "source": [
    "U"
   ]
  },
  {
   "cell_type": "code",
   "execution_count": 64,
   "metadata": {},
   "outputs": [
    {
     "data": {
      "text/plain": [
       "1.271419493661103e-15"
      ]
     },
     "execution_count": 64,
     "metadata": {},
     "output_type": "execute_result"
    }
   ],
   "source": [
    "# Orthogonality \n",
    "norm(U'*U-I)"
   ]
  },
  {
   "cell_type": "code",
   "execution_count": 65,
   "metadata": {},
   "outputs": [
    {
     "data": {
      "text/plain": [
       "2.5780268540038566e-14"
      ]
     },
     "execution_count": 65,
     "metadata": {},
     "output_type": "execute_result"
    }
   ],
   "source": [
    "# Residual\n",
    "norm(A*U-U*Diagonal(λ))"
   ]
  },
  {
   "cell_type": "markdown",
   "metadata": {},
   "source": [
    "## Unsymmetric matrices\n",
    "\n",
    "The $QR$ iterations for unsymmetric matrices are implemented as follows:\n",
    "\n",
    "1. Reduce $A$ to Hessenberg form form $H$ by orthogonal similarities, $X^TAX=H$.\n",
    "2. Compute the EVD of $H$ with QR iterations, $H=Q\\Lambda Q^*$.\n",
    "3. Multiply $U=XQ$.\n",
    "\n",
    "The algorithm requires of $O(n^3)$ operations. For more details, see \n",
    "[D. Watkins, Unsymmetric Matrix Eigenvalue Techniques][Hog14] and the references therein.\n",
    "\n",
    "[Hog14]: #1 \"L. Hogben, ed., 'Handbook of Linear Algebra', pp. 56.1-56.12, CRC Press, Boca Raton, 2014.\""
   ]
  },
  {
   "cell_type": "code",
   "execution_count": 66,
   "metadata": {},
   "outputs": [
    {
     "data": {
      "text/plain": [
       "5×5 Array{Int64,2}:\n",
       " -2   5  -3  -1   3\n",
       " -6  -3  -8  -7   9\n",
       " -4  -6   4  -9   5\n",
       "  8  -9   7  -9  -1\n",
       "  9  -5   0   2   8"
      ]
     },
     "execution_count": 66,
     "metadata": {},
     "output_type": "execute_result"
    }
   ],
   "source": [
    "A=rand(-9:9,5,5)"
   ]
  },
  {
   "cell_type": "code",
   "execution_count": 67,
   "metadata": {},
   "outputs": [
    {
     "data": {
      "text/plain": [
       "5-element Array{Complex{Float64},1}:\n",
       " -13.835883548290738 + 0.0im\n",
       " -2.1982137589517228 - 8.898841182206134im\n",
       " -2.1982137589517228 + 8.898841182206134im\n",
       "   6.785962600575749 + 0.0im\n",
       "   9.446348465618422 + 0.0im"
      ]
     },
     "execution_count": 67,
     "metadata": {},
     "output_type": "execute_result"
    }
   ],
   "source": [
    "λ,X=eigen(A)\n",
    "λ"
   ]
  },
  {
   "cell_type": "code",
   "execution_count": 68,
   "metadata": {},
   "outputs": [
    {
     "data": {
      "text/plain": [
       "5×5 Array{Complex{Float64},2}:\n",
       " -0.10983+0.0im    0.14314+0.356492im    …  -0.260512+0.0im  -0.338603+0.0im\n",
       " 0.592037+0.0im   0.675378-0.0im            -0.232596+0.0im  -0.357307+0.0im\n",
       " 0.462706+0.0im   0.245017+0.126962im        0.749069+0.0im  -0.162656+0.0im\n",
       " 0.639042+0.0im  -0.463508-0.00880585im      0.302679+0.0im  0.0121097+0.0im\n",
       " 0.122302+0.0im  0.0128809-0.324119im        0.474672+0.0im   -0.85503+0.0im"
      ]
     },
     "execution_count": 68,
     "metadata": {},
     "output_type": "execute_result"
    }
   ],
   "source": [
    "X"
   ]
  },
  {
   "cell_type": "code",
   "execution_count": 69,
   "metadata": {},
   "outputs": [
    {
     "data": {
      "text/plain": [
       "2.376942186679338e-14"
      ]
     },
     "execution_count": 69,
     "metadata": {},
     "output_type": "execute_result"
    }
   ],
   "source": [
    "# Residual \n",
    "norm(A*X-X*Diagonal(λ))"
   ]
  },
  {
   "cell_type": "markdown",
   "metadata": {},
   "source": [
    "### Hessenberg factorization"
   ]
  },
  {
   "cell_type": "code",
   "execution_count": 70,
   "metadata": {},
   "outputs": [
    {
     "name": "stdout",
     "output_type": "stream",
     "text": [
      "search: \u001b[0m\u001b[1mh\u001b[22m\u001b[0m\u001b[1me\u001b[22m\u001b[0m\u001b[1ms\u001b[22m\u001b[0m\u001b[1ms\u001b[22m\u001b[0m\u001b[1me\u001b[22m\u001b[0m\u001b[1mn\u001b[22m\u001b[0m\u001b[1mb\u001b[22m\u001b[0m\u001b[1me\u001b[22m\u001b[0m\u001b[1mr\u001b[22m\u001b[0m\u001b[1mg\u001b[22m \u001b[0m\u001b[1mh\u001b[22m\u001b[0m\u001b[1me\u001b[22m\u001b[0m\u001b[1ms\u001b[22m\u001b[0m\u001b[1ms\u001b[22m\u001b[0m\u001b[1me\u001b[22m\u001b[0m\u001b[1mn\u001b[22m\u001b[0m\u001b[1mb\u001b[22m\u001b[0m\u001b[1me\u001b[22m\u001b[0m\u001b[1mr\u001b[22m\u001b[0m\u001b[1mg\u001b[22m! \u001b[0m\u001b[1mH\u001b[22m\u001b[0m\u001b[1me\u001b[22m\u001b[0m\u001b[1ms\u001b[22m\u001b[0m\u001b[1ms\u001b[22m\u001b[0m\u001b[1me\u001b[22m\u001b[0m\u001b[1mn\u001b[22m\u001b[0m\u001b[1mb\u001b[22m\u001b[0m\u001b[1me\u001b[22m\u001b[0m\u001b[1mr\u001b[22m\u001b[0m\u001b[1mg\u001b[22m Upper\u001b[0m\u001b[1mH\u001b[22m\u001b[0m\u001b[1me\u001b[22m\u001b[0m\u001b[1ms\u001b[22m\u001b[0m\u001b[1ms\u001b[22m\u001b[0m\u001b[1me\u001b[22m\u001b[0m\u001b[1mn\u001b[22m\u001b[0m\u001b[1mb\u001b[22m\u001b[0m\u001b[1me\u001b[22m\u001b[0m\u001b[1mr\u001b[22m\u001b[0m\u001b[1mg\u001b[22m\n",
      "\n"
     ]
    },
    {
     "data": {
      "text/latex": [
       "\\begin{verbatim}\n",
       "hessenberg(A) -> Hessenberg\n",
       "\\end{verbatim}\n",
       "Compute the Hessenberg decomposition of \\texttt{A} and return a \\texttt{Hessenberg} object. If \\texttt{F} is the factorization object, the unitary matrix can be accessed with \\texttt{F.Q} (of type \\texttt{LinearAlgebra.HessenbergQ}) and the Hessenberg matrix with \\texttt{F.H} (of type \\href{@ref}{\\texttt{UpperHessenberg}}), either of which may be converted to a regular matrix with \\texttt{Matrix(F.H)} or \\texttt{Matrix(F.Q)}.\n",
       "\n",
       "If \\texttt{A} is \\href{@ref}{\\texttt{Hermitian}} or real-\\href{@ref}{\\texttt{Symmetric}}, then the Hessenberg decomposition produces a real-symmetric tridiagonal matrix and \\texttt{F.H} is of type \\href{@ref}{\\texttt{SymTridiagonal}}.\n",
       "\n",
       "Note that the shifted factorization \\texttt{A+μI = Q (H+μI) Q'} can be constructed efficiently by \\texttt{F + μ*I} using the \\href{@ref}{\\texttt{UniformScaling}} object \\href{@ref}{\\texttt{I}}, which creates a new \\texttt{Hessenberg} object with shared storage and a modified shift.   The shift of a given \\texttt{F} is obtained by \\texttt{F.μ}. This is useful because multiple shifted solves \\texttt{(F + μ*I) {\\textbackslash} b} (for different \\texttt{μ} and/or \\texttt{b}) can be performed efficiently once \\texttt{F} is created.\n",
       "\n",
       "Iterating the decomposition produces the factors \\texttt{F.Q, F.H, F.μ}.\n",
       "\n",
       "\\section{Examples}\n",
       "\\begin{verbatim}\n",
       "julia> A = [4. 9. 7.; 4. 4. 1.; 4. 3. 2.]\n",
       "3×3 Array{Float64,2}:\n",
       " 4.0  9.0  7.0\n",
       " 4.0  4.0  1.0\n",
       " 4.0  3.0  2.0\n",
       "\n",
       "julia> F = hessenberg(A)\n",
       "Hessenberg{Float64,UpperHessenberg{Float64,Array{Float64,2}},Array{Float64,2},Array{Float64,1},Bool}\n",
       "Q factor:\n",
       "3×3 LinearAlgebra.HessenbergQ{Float64,Array{Float64,2},Array{Float64,1},false}:\n",
       " 1.0   0.0        0.0\n",
       " 0.0  -0.707107  -0.707107\n",
       " 0.0  -0.707107   0.707107\n",
       "H factor:\n",
       "3×3 UpperHessenberg{Float64,Array{Float64,2}}:\n",
       "  4.0      -11.3137       -1.41421\n",
       " -5.65685    5.0           2.0\n",
       "   ⋅        -8.88178e-16   1.0\n",
       "\n",
       "julia> F.Q * F.H * F.Q'\n",
       "3×3 Array{Float64,2}:\n",
       " 4.0  9.0  7.0\n",
       " 4.0  4.0  1.0\n",
       " 4.0  3.0  2.0\n",
       "\n",
       "julia> q, h = F; # destructuring via iteration\n",
       "\n",
       "julia> q == F.Q && h == F.H\n",
       "true\n",
       "\\end{verbatim}\n"
      ],
      "text/markdown": [
       "```\n",
       "hessenberg(A) -> Hessenberg\n",
       "```\n",
       "\n",
       "Compute the Hessenberg decomposition of `A` and return a `Hessenberg` object. If `F` is the factorization object, the unitary matrix can be accessed with `F.Q` (of type `LinearAlgebra.HessenbergQ`) and the Hessenberg matrix with `F.H` (of type [`UpperHessenberg`](@ref)), either of which may be converted to a regular matrix with `Matrix(F.H)` or `Matrix(F.Q)`.\n",
       "\n",
       "If `A` is [`Hermitian`](@ref) or real-[`Symmetric`](@ref), then the Hessenberg decomposition produces a real-symmetric tridiagonal matrix and `F.H` is of type [`SymTridiagonal`](@ref).\n",
       "\n",
       "Note that the shifted factorization `A+μI = Q (H+μI) Q'` can be constructed efficiently by `F + μ*I` using the [`UniformScaling`](@ref) object [`I`](@ref), which creates a new `Hessenberg` object with shared storage and a modified shift.   The shift of a given `F` is obtained by `F.μ`. This is useful because multiple shifted solves `(F + μ*I) \\ b` (for different `μ` and/or `b`) can be performed efficiently once `F` is created.\n",
       "\n",
       "Iterating the decomposition produces the factors `F.Q, F.H, F.μ`.\n",
       "\n",
       "# Examples\n",
       "\n",
       "```jldoctest\n",
       "julia> A = [4. 9. 7.; 4. 4. 1.; 4. 3. 2.]\n",
       "3×3 Array{Float64,2}:\n",
       " 4.0  9.0  7.0\n",
       " 4.0  4.0  1.0\n",
       " 4.0  3.0  2.0\n",
       "\n",
       "julia> F = hessenberg(A)\n",
       "Hessenberg{Float64,UpperHessenberg{Float64,Array{Float64,2}},Array{Float64,2},Array{Float64,1},Bool}\n",
       "Q factor:\n",
       "3×3 LinearAlgebra.HessenbergQ{Float64,Array{Float64,2},Array{Float64,1},false}:\n",
       " 1.0   0.0        0.0\n",
       " 0.0  -0.707107  -0.707107\n",
       " 0.0  -0.707107   0.707107\n",
       "H factor:\n",
       "3×3 UpperHessenberg{Float64,Array{Float64,2}}:\n",
       "  4.0      -11.3137       -1.41421\n",
       " -5.65685    5.0           2.0\n",
       "   ⋅        -8.88178e-16   1.0\n",
       "\n",
       "julia> F.Q * F.H * F.Q'\n",
       "3×3 Array{Float64,2}:\n",
       " 4.0  9.0  7.0\n",
       " 4.0  4.0  1.0\n",
       " 4.0  3.0  2.0\n",
       "\n",
       "julia> q, h = F; # destructuring via iteration\n",
       "\n",
       "julia> q == F.Q && h == F.H\n",
       "true\n",
       "```\n"
      ],
      "text/plain": [
       "\u001b[36m  hessenberg(A) -> Hessenberg\u001b[39m\n",
       "\n",
       "  Compute the Hessenberg decomposition of \u001b[36mA\u001b[39m and return a \u001b[36mHessenberg\u001b[39m object. If\n",
       "  \u001b[36mF\u001b[39m is the factorization object, the unitary matrix can be accessed with \u001b[36mF.Q\u001b[39m\n",
       "  (of type \u001b[36mLinearAlgebra.HessenbergQ\u001b[39m) and the Hessenberg matrix with \u001b[36mF.H\u001b[39m (of\n",
       "  type \u001b[36mUpperHessenberg\u001b[39m), either of which may be converted to a regular matrix\n",
       "  with \u001b[36mMatrix(F.H)\u001b[39m or \u001b[36mMatrix(F.Q)\u001b[39m.\n",
       "\n",
       "  If \u001b[36mA\u001b[39m is \u001b[36mHermitian\u001b[39m or real-\u001b[36mSymmetric\u001b[39m, then the Hessenberg decomposition\n",
       "  produces a real-symmetric tridiagonal matrix and \u001b[36mF.H\u001b[39m is of type\n",
       "  \u001b[36mSymTridiagonal\u001b[39m.\n",
       "\n",
       "  Note that the shifted factorization \u001b[36mA+μI = Q (H+μI) Q'\u001b[39m can be constructed\n",
       "  efficiently by \u001b[36mF + μ*I\u001b[39m using the \u001b[36mUniformScaling\u001b[39m object \u001b[36mI\u001b[39m, which creates a\n",
       "  new \u001b[36mHessenberg\u001b[39m object with shared storage and a modified shift. The shift of\n",
       "  a given \u001b[36mF\u001b[39m is obtained by \u001b[36mF.μ\u001b[39m. This is useful because multiple shifted solves\n",
       "  \u001b[36m(F + μ*I) \\ b\u001b[39m (for different \u001b[36mμ\u001b[39m and/or \u001b[36mb\u001b[39m) can be performed efficiently once \u001b[36mF\u001b[39m\n",
       "  is created.\n",
       "\n",
       "  Iterating the decomposition produces the factors \u001b[36mF.Q, F.H, F.μ\u001b[39m.\n",
       "\n",
       "\u001b[1m  Examples\u001b[22m\n",
       "\u001b[1m  ≡≡≡≡≡≡≡≡≡≡\u001b[22m\n",
       "\n",
       "\u001b[36m  julia> A = [4. 9. 7.; 4. 4. 1.; 4. 3. 2.]\u001b[39m\n",
       "\u001b[36m  3×3 Array{Float64,2}:\u001b[39m\n",
       "\u001b[36m   4.0  9.0  7.0\u001b[39m\n",
       "\u001b[36m   4.0  4.0  1.0\u001b[39m\n",
       "\u001b[36m   4.0  3.0  2.0\u001b[39m\n",
       "\u001b[36m  \u001b[39m\n",
       "\u001b[36m  julia> F = hessenberg(A)\u001b[39m\n",
       "\u001b[36m  Hessenberg{Float64,UpperHessenberg{Float64,Array{Float64,2}},Array{Float64,2},Array{Float64,1},Bool}\u001b[39m\n",
       "\u001b[36m  Q factor:\u001b[39m\n",
       "\u001b[36m  3×3 LinearAlgebra.HessenbergQ{Float64,Array{Float64,2},Array{Float64,1},false}:\u001b[39m\n",
       "\u001b[36m   1.0   0.0        0.0\u001b[39m\n",
       "\u001b[36m   0.0  -0.707107  -0.707107\u001b[39m\n",
       "\u001b[36m   0.0  -0.707107   0.707107\u001b[39m\n",
       "\u001b[36m  H factor:\u001b[39m\n",
       "\u001b[36m  3×3 UpperHessenberg{Float64,Array{Float64,2}}:\u001b[39m\n",
       "\u001b[36m    4.0      -11.3137       -1.41421\u001b[39m\n",
       "\u001b[36m   -5.65685    5.0           2.0\u001b[39m\n",
       "\u001b[36m     ⋅        -8.88178e-16   1.0\u001b[39m\n",
       "\u001b[36m  \u001b[39m\n",
       "\u001b[36m  julia> F.Q * F.H * F.Q'\u001b[39m\n",
       "\u001b[36m  3×3 Array{Float64,2}:\u001b[39m\n",
       "\u001b[36m   4.0  9.0  7.0\u001b[39m\n",
       "\u001b[36m   4.0  4.0  1.0\u001b[39m\n",
       "\u001b[36m   4.0  3.0  2.0\u001b[39m\n",
       "\u001b[36m  \u001b[39m\n",
       "\u001b[36m  julia> q, h = F; # destructuring via iteration\u001b[39m\n",
       "\u001b[36m  \u001b[39m\n",
       "\u001b[36m  julia> q == F.Q && h == F.H\u001b[39m\n",
       "\u001b[36m  true\u001b[39m"
      ]
     },
     "execution_count": 70,
     "metadata": {},
     "output_type": "execute_result"
    }
   ],
   "source": [
    "?hessenberg"
   ]
  },
  {
   "cell_type": "code",
   "execution_count": 71,
   "metadata": {},
   "outputs": [
    {
     "data": {
      "text/plain": [
       "Hessenberg{Float64,UpperHessenberg{Float64,Array{Float64,2}},Array{Float64,2},Array{Float64,1},Bool}\n",
       "Q factor:\n",
       "5×5 LinearAlgebra.HessenbergQ{Float64,Array{Float64,2},Array{Float64,1},false}:\n",
       " 1.0   0.0        0.0         0.0         0.0\n",
       " 0.0  -0.427482   0.541573   -0.495474   -0.527695\n",
       " 0.0  -0.284988  -0.0196289  -0.584449    0.759484\n",
       " 0.0   0.569976  -0.421563   -0.642308   -0.291295\n",
       " 0.0   0.641223   0.727047   -0.0191312   0.244681\n",
       "H factor:\n",
       "5×5 UpperHessenberg{Float64,Array{Float64,2}}:\n",
       " -2.0      0.071247   5.36946   -0.139112   -3.89159\n",
       " 14.0357   1.01523   -4.25582   -2.10143     6.9091\n",
       "   ⋅      10.668      6.73332    3.71058    -2.66098\n",
       "   ⋅        ⋅        -5.16838  -12.871     -13.8173\n",
       "   ⋅        ⋅          ⋅        -2.27566     5.12246"
      ]
     },
     "execution_count": 71,
     "metadata": {},
     "output_type": "execute_result"
    }
   ],
   "source": [
    "B=hessenberg(A)"
   ]
  },
  {
   "cell_type": "code",
   "execution_count": 72,
   "metadata": {},
   "outputs": [
    {
     "data": {
      "text/plain": [
       "5×5 UpperHessenberg{Float64,Array{Float64,2}}:\n",
       " -2.0      0.071247   5.36946   -0.139112   -3.89159\n",
       " 14.0357   1.01523   -4.25582   -2.10143     6.9091\n",
       "   ⋅      10.668      6.73332    3.71058    -2.66098\n",
       "   ⋅        ⋅        -5.16838  -12.871     -13.8173\n",
       "   ⋅        ⋅          ⋅        -2.27566     5.12246"
      ]
     },
     "execution_count": 72,
     "metadata": {},
     "output_type": "execute_result"
    }
   ],
   "source": [
    "B.H"
   ]
  },
  {
   "cell_type": "code",
   "execution_count": 73,
   "metadata": {},
   "outputs": [
    {
     "data": {
      "text/plain": [
       "5×5 LinearAlgebra.HessenbergQ{Float64,Array{Float64,2},Array{Float64,1},false}:\n",
       " 1.0   0.0        0.0         0.0         0.0\n",
       " 0.0  -0.427482   0.541573   -0.495474   -0.527695\n",
       " 0.0  -0.284988  -0.0196289  -0.584449    0.759484\n",
       " 0.0   0.569976  -0.421563   -0.642308   -0.291295\n",
       " 0.0   0.641223   0.727047   -0.0191312   0.244681"
      ]
     },
     "execution_count": 73,
     "metadata": {},
     "output_type": "execute_result"
    }
   ],
   "source": [
    "B.Q"
   ]
  },
  {
   "cell_type": "code",
   "execution_count": 74,
   "metadata": {},
   "outputs": [
    {
     "data": {
      "text/plain": [
       "5×5 Array{Float64,2}:\n",
       " -2.0      0.071247      5.36946   -0.139112   -3.89159\n",
       " 14.0357   1.01523      -4.25582   -2.10143     6.9091\n",
       "  0.0     10.668         6.73332    3.71058    -2.66098\n",
       "  0.0     -1.77636e-15  -5.16838  -12.871     -13.8173\n",
       "  0.0      1.9984e-15    0.0       -2.27566     5.12246"
      ]
     },
     "execution_count": 74,
     "metadata": {},
     "output_type": "execute_result"
    }
   ],
   "source": [
    "B.Q'*A*B.Q"
   ]
  },
  {
   "cell_type": "code",
   "execution_count": 77,
   "metadata": {},
   "outputs": [
    {
     "data": {
      "text/plain": [
       "5-element Array{Complex{Float64},1}:\n",
       " -13.835883548290726 + 0.0im\n",
       "   -2.19821375895172 - 8.898841182206123im\n",
       "   -2.19821375895172 + 8.898841182206123im\n",
       "   6.785962600575748 + 0.0im\n",
       "   9.446348465618417 + 0.0im"
      ]
     },
     "execution_count": 77,
     "metadata": {},
     "output_type": "execute_result"
    }
   ],
   "source": [
    "eigvals(Matrix(B.H))"
   ]
  },
  {
   "cell_type": "code",
   "execution_count": null,
   "metadata": {},
   "outputs": [],
   "source": []
  }
 ],
 "metadata": {
  "@webio": {
   "lastCommId": null,
   "lastKernelId": null
  },
  "anaconda-cloud": {},
  "kernelspec": {
   "display_name": "Julia 1.4.1",
   "language": "julia",
   "name": "julia-1.4"
  },
  "language_info": {
   "file_extension": ".jl",
   "mimetype": "application/julia",
   "name": "julia",
   "version": "1.4.1"
  }
 },
 "nbformat": 4,
 "nbformat_minor": 1
}
