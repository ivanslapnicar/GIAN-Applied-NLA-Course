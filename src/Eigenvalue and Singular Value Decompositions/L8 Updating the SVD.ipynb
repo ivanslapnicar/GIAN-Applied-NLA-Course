{
 "cells": [
  {
   "cell_type": "markdown",
   "metadata": {},
   "source": [
    "# Updating the SVD\n",
    "\n",
    "In many applications which are based on the SVD, arrival of new data requires SVD of the new matrix. Instead of computing from scratch, existing SVD can be updated.\n",
    "\n",
    "## Prerequisites\n",
    "\n",
    "The reader should be familiar with concepts of singular values and singular vectors, related perturbation theory, and algorithms.\n",
    " \n",
    "## Competences \n",
    "\n",
    "The reader should be able to recognise applications where SVD updating can be sucessfully applied and apply it."
   ]
  },
  {
   "cell_type": "markdown",
   "metadata": {},
   "source": [
    "## Facts\n",
    "\n",
    "For more details see\n",
    "[M. Gu and S. C. Eisenstat, A Stable and Fast Algorithm for Updating the Singular Value Decomposition][GE93]\n",
    "and [M. Brand, Fast low-rank modifications of the thin singular value decomposition][Bra06]\n",
    "and the references therein.\n",
    "\n",
    "[GE93]: http://www.cs.yale.edu/publications/techreports/tr966.pdf \"M. Gu and S. C. Eisenstat, 'A Stable and Fast Algorithm for Updating the Singular Value Decomposition', Tech.report, Yale University, 1993.\"\n",
    "\n",
    "[Bra06]: http://www.sciencedirect.com/science/article/pii/S0024379505003812 \"M. Brand, 'Fast low-rank modifications of the thin singular value decomposition', Linear Algebra and its Appl, 415 (20-30) 2006.\"\n",
    "\n",
    "1. Let $A\\in\\mathbb{R}^{m\\times n}$ with $m\\geq n$ and $\\mathop{\\mathrm{rank}}(A)=n$, and  let $A=U\\Sigma V^T$ be its SVD.\n",
    "   Let $a\\in\\mathbb{R}^{n}$ be a vector, and let $\\tilde A=\\begin{bmatrix} A \\\\ a^T\\end{bmatrix}$. Then\n",
    "   $$\\begin{bmatrix} A \\\\ a^T\\end{bmatrix} =\\begin{bmatrix} U & \\\\ & 1 \\end{bmatrix} \n",
    "   \\begin{bmatrix} \\Sigma \\\\ a^TV \\end{bmatrix}  V^T.\n",
    "   $$\n",
    "   Let $\\begin{bmatrix} \\Sigma \\\\ a^T V \\end{bmatrix} = \\bar U \\bar \\Sigma \\bar V^T$ be the SVD of the half-arrowhead matrix. _This SVD can be computed in $O(n^2)$ operations._ Then \n",
    "   $$\\begin{bmatrix} A \\\\ a^T\\end{bmatrix} =\n",
    "   \\begin{bmatrix} U & \\\\ & 1 \\end{bmatrix} \\bar U \\bar\\Sigma \\bar V^T V^T \\equiv\n",
    "   \\tilde U \\bar \\Sigma \\tilde V^T\n",
    "   $$\n",
    "   is the SVD of $\\tilde A$. \n",
    "   \n",
    "2. Direct computation of $\\tilde U$ and $\\tilde V$ requires $O(mn^2)$ and $O(n^3)$ operations. However, these multiplications can be performed using Fast Multipole Method. This is not (yet) implemented in Julia and is \"not for the timid\" (quote by Steven G. Johnson).\n",
    "\n",
    "3. If $m<n$ and $\\mathop{\\mathrm{rank}}(A)=n$, then\n",
    "   $$\n",
    "   \\begin{bmatrix} A \\\\ a^T\\end{bmatrix} =\\begin{bmatrix} U & \\\\ & 1 \\end{bmatrix} \n",
    "   \\begin{bmatrix} \\Sigma & 0 \\\\ a^T V & \\beta\\end{bmatrix} \\begin{bmatrix} V^T \\\\ v^T \\end{bmatrix},\n",
    "   $$\n",
    "   where $\\beta=\\sqrt{\\|a\\|_2^2-\\|V^T a\\|_2^2}$ and $v=(I-VV^T)a$. Notice that $V^Tv=0$ by construction.\n",
    "   Let $\\begin{bmatrix} \\Sigma & 0 \\\\ a^T V &  \\beta\\end{bmatrix} = \\bar U \\bar \\Sigma \\bar V^T$ be the SVD of \n",
    "   the half-arrowhead matrix. Then \n",
    "   $$\\begin{bmatrix} A \\\\ a^T\\end{bmatrix} =\n",
    "   \\begin{bmatrix} U & \\\\ & 1 \\end{bmatrix} \\bar U \\bar\\Sigma \\bar V^T \\begin{bmatrix} V^T \\\\ v^T \\end{bmatrix}\n",
    "   \\equiv \\tilde U \\bar \\Sigma \\tilde V^T\n",
    "   $$\n",
    "   is the SVD of $\\tilde A$.\n",
    "   \n",
    "3. Adding a column $a$ to $A$ is equivalent to adding a row $a^T$ to $A^T$.\n",
    "\n",
    "3. If $\\mathop{\\mathrm{rank}}(A)<\\min\\{m,n\\}$ or if we are using SVD approximation of rank $r$, and if we want to keep the rank of the approximation (this is the common case in practice), then the formulas in Fact 1 hold approximately. More precisely, the updated rank $r$ approximation is __not__ what we would get by computing the approximation of rank $r$ of the updated matrix, but is sufficient in many applications. "
   ]
  },
  {
   "cell_type": "markdown",
   "metadata": {},
   "source": [
    "### Example - Adding row to a tall matrix\n",
    "\n",
    "If $m\\geq n$, adding row does not increase the size of $\\Sigma$."
   ]
  },
  {
   "cell_type": "code",
   "execution_count": 1,
   "metadata": {},
   "outputs": [],
   "source": [
    "# pkg> add Arrowhead#master\n",
    "using Arrowhead, LinearAlgebra"
   ]
  },
  {
   "cell_type": "code",
   "execution_count": 2,
   "metadata": {},
   "outputs": [
    {
     "data": {
      "text/plain": [
       "mySVDaddrow (generic function with 1 method)"
      ]
     },
     "execution_count": 2,
     "metadata": {},
     "output_type": "execute_result"
    }
   ],
   "source": [
    "function mySVDaddrow(svdA::SVD,a::Vector)\n",
    "    # Create the transposed half-arrowhead\n",
    "    m,r,n=size(svdA.U,1),length(svdA.S),size(svdA.V,1)\n",
    "    T=typeof(a[1])\n",
    "    b=svdA.Vt*a\n",
    "    if m>=n || r<m\n",
    "        M=HalfArrow(svdA.S,b)\n",
    "    else\n",
    "        β=sqrt(norm(a)^2-norm(b)^2)\n",
    "        M=HalfArrow(svdA.S,[b;β])\n",
    "    end\n",
    "    # From Arrowhead package\n",
    "    svdM,info=svd(M)\n",
    "    # Return the updated SVD\n",
    "    if m>=n || r<m\n",
    "        return SVD([svdA.U zeros(T,m); zeros(T,1,r) one(T)]*svdM.V, \n",
    "            svdM.S, adjoint(svdA.V*svdM.U))\n",
    "    else\n",
    "        # Need one more row of svdA.V - v is an orthogonal projection\n",
    "        v=a-svdA.V*b\n",
    "        normalize!(v)\n",
    "        return SVD([svdA.U zeros(T,m); zeros(T,1,r) one(T)]*svdM.V, \n",
    "            svdM.S, adjoint([svdA.V v]*svdM.U))\n",
    "    end\n",
    "end"
   ]
  },
  {
   "cell_type": "code",
   "execution_count": 3,
   "metadata": {},
   "outputs": [
    {
     "data": {
      "text/html": [
       "# 1 method for type constructor:<ul><li> (::<b>Type{SVD}</b>)(U::<b>AbstractArray{T,N} where N</b>, S::<b>Array{Tr,1}</b>, Vt::<b>AbstractArray{T,N} where N</b>)<i> where {T, Tr}</i> in LinearAlgebra at <a href=\"file://D:/buildbot/worker/package_win64/build/usr/share/julia/stdlib/v1.4/LinearAlgebra/src/svd.jl\" target=\"_blank\">C:\\Users\\Ivan_Slapnicar\\AppData\\Local\\Programs\\Julia\\Julia-1.4.1\\share\\julia\\stdlib\\v1.4\\LinearAlgebra\\src\\svd.jl:68</a></li> </ul>"
      ],
      "text/plain": [
       "# 1 method for type constructor:\n",
       "[1] (::Type{SVD})(U::AbstractArray{T,N} where N, S::Array{Tr,1}, Vt::AbstractArray{T,N} where N) where {T, Tr} in LinearAlgebra at C:\\Users\\Ivan_Slapnicar\\AppData\\Local\\Programs\\Julia\\Julia-1.4.1\\share\\julia\\stdlib\\v1.4\\LinearAlgebra\\src\\svd.jl:68"
      ]
     },
     "execution_count": 3,
     "metadata": {},
     "output_type": "execute_result"
    }
   ],
   "source": [
    "methods(SVD)"
   ]
  },
  {
   "cell_type": "code",
   "execution_count": 4,
   "metadata": {
    "scrolled": true
   },
   "outputs": [
    {
     "data": {
      "text/plain": [
       "6-element Array{Float64,1}:\n",
       " 0.33696435480910214\n",
       " 0.916644781291106\n",
       " 0.83277664059846\n",
       " 0.8448238239288268\n",
       " 0.8866516008033594\n",
       " 0.3443212111724143"
      ]
     },
     "execution_count": 4,
     "metadata": {},
     "output_type": "execute_result"
    }
   ],
   "source": [
    "import Random\n",
    "Random.seed!(421)\n",
    "A=rand(10,6)\n",
    "a=rand(6)"
   ]
  },
  {
   "cell_type": "code",
   "execution_count": 5,
   "metadata": {},
   "outputs": [
    {
     "data": {
      "text/plain": [
       "SVD{Float64,Float64,Array{Float64,2}}\n",
       "U factor:\n",
       "10×6 Array{Float64,2}:\n",
       " -0.303731  -0.160825    0.398238   -0.354682    -0.0983823   0.0874599\n",
       " -0.308381   0.324931   -0.185955    0.218783    -0.212191    0.131507\n",
       " -0.292885   0.37671     0.0219543   0.282351    -0.358107    0.416593\n",
       " -0.37317   -0.601881   -0.578251   -0.00175991   0.145133    0.0924109\n",
       " -0.243567   0.363586   -0.103267   -0.290673     0.442374   -0.0129275\n",
       " -0.356062  -0.382149    0.405435    0.358618    -0.279737   -0.268595\n",
       " -0.276087   0.0488246   0.359745    0.398301     0.710811    0.0543865\n",
       " -0.357789  -0.0756382   0.0482742  -0.409233    -0.0341779   0.470945\n",
       " -0.391551   0.24166    -0.345022    0.0810547   -0.0586923  -0.55629\n",
       " -0.20966    0.140166    0.214808   -0.448137    -0.110358   -0.431799\n",
       "singular values:\n",
       "6-element Array{Float64,1}:\n",
       " 4.0443206608615325\n",
       " 1.3339228353170136\n",
       " 1.0423217489812764\n",
       " 0.9192804665679337\n",
       " 0.5577167598034549\n",
       " 0.3174781822238693\n",
       "Vt factor:\n",
       "6×6 Array{Float64,2}:\n",
       " -0.430615  -0.536704  -0.406901   -0.37864    -0.288732   -0.366357\n",
       " -0.189618   0.125828   0.651036    0.156569   -0.222344   -0.671129\n",
       " -0.375426   0.548351   0.0473998  -0.325618   -0.562704    0.365319\n",
       "  0.339005  -0.308096   0.517876   -0.700375    0.0352901   0.173744\n",
       " -0.715287  -0.218191   0.321263    0.0955378   0.459078    0.343027\n",
       "  0.105415  -0.502889   0.192176    0.475856   -0.581862    0.366137"
      ]
     },
     "execution_count": 5,
     "metadata": {},
     "output_type": "execute_result"
    }
   ],
   "source": [
    "svdA=svd(A)"
   ]
  },
  {
   "cell_type": "code",
   "execution_count": 6,
   "metadata": {},
   "outputs": [
    {
     "data": {
      "text/plain": [
       "7.973965710771358e-15"
      ]
     },
     "execution_count": 6,
     "metadata": {},
     "output_type": "execute_result"
    }
   ],
   "source": [
    "norm(A*svdA.V-svdA.U*Diagonal(svdA.S))"
   ]
  },
  {
   "cell_type": "code",
   "execution_count": 7,
   "metadata": {},
   "outputs": [
    {
     "data": {
      "text/plain": [
       "SVD{Float64,Float64,Array{Float64,2}}"
      ]
     },
     "execution_count": 7,
     "metadata": {},
     "output_type": "execute_result"
    }
   ],
   "source": [
    "typeof(svdA)"
   ]
  },
  {
   "cell_type": "code",
   "execution_count": 8,
   "metadata": {},
   "outputs": [
    {
     "data": {
      "text/plain": [
       "SVD{Float64,Float64,Array{Float64,2}}\n",
       "U factor:\n",
       "11×6 Array{Float64,2}:\n",
       " -0.276987   0.203469    0.326481   -0.410555   0.145536     0.065527\n",
       " -0.285338  -0.271956   -0.0348243   0.330933   0.262804     0.0867921\n",
       " -0.268963  -0.297031    0.191951    0.357817   0.357062     0.257841\n",
       " -0.341629   0.573595   -0.599873    0.116416  -0.00903236   0.180141\n",
       " -0.231475  -0.360711   -0.095999   -0.225752  -0.152295     0.244164\n",
       " -0.319504   0.460633    0.435275    0.243196   0.0404618   -0.381818\n",
       " -0.254208   0.0039304   0.393724    0.246646  -0.656236     0.291795\n",
       " -0.32926    0.101391    0.0121052  -0.35485    0.236027     0.462658\n",
       " -0.364495  -0.21389    -0.234478    0.216498   0.139691    -0.419086\n",
       " -0.19529   -0.119094    0.166178   -0.440219   0.180764    -0.354866\n",
       " -0.391301  -0.234263   -0.243032   -0.206924  -0.467766    -0.288235\n",
       "singular values:\n",
       "6-element Array{Float64,1}:\n",
       " 4.386608202014708\n",
       " 1.3697132301104165\n",
       " 1.0721964985331782\n",
       " 0.9453326789483859\n",
       " 0.6749415350129048\n",
       " 0.35737264502281824\n",
       "Vt factor:\n",
       "6×6 Array{Float64,2}:\n",
       " -0.394539  -0.536976   -0.420871  -0.398104  -0.324469  -0.339258\n",
       "  0.260977  -0.0788592  -0.604403  -0.209693   0.112295   0.70978\n",
       " -0.199578   0.492155    0.211532  -0.40749   -0.650133   0.290661\n",
       "  0.519908  -0.404144    0.50087   -0.558732   0.055077   0.0166614\n",
       "  0.678824   0.115075   -0.305614   0.213431  -0.51228   -0.352948\n",
       " -0.072745  -0.535394    0.261817   0.52322   -0.440423   0.414466"
      ]
     },
     "execution_count": 8,
     "metadata": {},
     "output_type": "execute_result"
    }
   ],
   "source": [
    "svdAa=mySVDaddrow(svdA,a)"
   ]
  },
  {
   "cell_type": "code",
   "execution_count": 9,
   "metadata": {},
   "outputs": [
    {
     "name": "stdout",
     "output_type": "stream",
     "text": [
      "(11, 6)(11, 6)(6, 6)\n"
     ]
    },
    {
     "data": {
      "text/plain": [
       "6×2 Array{Float64,2}:\n",
       " 4.38661   4.38661\n",
       " 1.36971   1.36971\n",
       " 1.0722    1.0722\n",
       " 0.945333  0.945333\n",
       " 0.674942  0.674942\n",
       " 0.357373  0.357373"
      ]
     },
     "execution_count": 9,
     "metadata": {},
     "output_type": "execute_result"
    }
   ],
   "source": [
    "Aa=[A;transpose(a)]\n",
    "println(size(Aa),size(svdAa.U),size(svdA.V))\n",
    "[svdvals(Aa) svdAa.S]"
   ]
  },
  {
   "cell_type": "code",
   "execution_count": 10,
   "metadata": {},
   "outputs": [
    {
     "data": {
      "text/plain": [
       "(8.169456943601558e-15, 1.860153478103577e-15, 2.6152984582098762e-15)"
      ]
     },
     "execution_count": 10,
     "metadata": {},
     "output_type": "execute_result"
    }
   ],
   "source": [
    "# Check the residual and orthogonality\n",
    "norm(Aa*svdAa.V-svdAa.U*Diagonal(svdAa.S)),\n",
    "norm(svdAa.U'*svdAa.U-I), norm(svdAa.Vt*svdAa.V-I)"
   ]
  },
  {
   "cell_type": "markdown",
   "metadata": {},
   "source": [
    "### Example - Adding row to a flat matrix"
   ]
  },
  {
   "cell_type": "code",
   "execution_count": 11,
   "metadata": {},
   "outputs": [],
   "source": [
    "# Now flat matrix\n",
    "Random.seed!(421)\n",
    "A=rand(6,10)\n",
    "a=rand(10)\n",
    "svdA=svd(A);"
   ]
  },
  {
   "cell_type": "code",
   "execution_count": 12,
   "metadata": {},
   "outputs": [
    {
     "data": {
      "text/plain": [
       "6×10 Array{Float64,2}:\n",
       " 0.345443  0.17008   0.608612  0.766264   …  0.0579196  0.678276  0.0327699\n",
       " 0.68487   0.525208  0.346561  0.810683      0.973456   0.114236  0.996598\n",
       " 0.650991  0.785847  0.561248  0.198694      0.343372   0.680339  0.708267\n",
       " 0.973053  0.135538  0.915812  0.854638      0.280957   0.104854  0.599061\n",
       " 0.105135  0.958365  0.605095  0.905889      0.281784   0.130086  0.16948\n",
       " 0.77247   0.560486  0.83639   0.0936446  …  0.302895   0.909776  0.124078"
      ]
     },
     "execution_count": 12,
     "metadata": {},
     "output_type": "execute_result"
    }
   ],
   "source": [
    "A"
   ]
  },
  {
   "cell_type": "code",
   "execution_count": 13,
   "metadata": {},
   "outputs": [
    {
     "data": {
      "text/plain": [
       "11×6 Array{Float64,2}:\n",
       " 0.345443  0.958365  0.198694   0.532695   0.115946   0.680339\n",
       " 0.68487   0.560486  0.854638   0.470911   0.301274   0.104854\n",
       " 0.650991  0.608612  0.905889   0.381798   0.0579196  0.130086\n",
       " 0.973053  0.346561  0.0936446  0.664831   0.973456   0.909776\n",
       " 0.105135  0.561248  0.651562   0.692733   0.343372   0.0327699\n",
       " 0.77247   0.915812  0.37833    0.0414614  0.280957   0.996598\n",
       " 0.17008   0.605095  0.834811   0.100532   0.281784   0.708267\n",
       " 0.525208  0.83639   0.353274   0.848523   0.302895   0.599061\n",
       " 0.785847  0.766264  0.831302   0.627814   0.678276   0.16948\n",
       " 0.135538  0.810683  0.217897   0.494844   0.114236   0.124078\n",
       " 0.336964  0.916645  0.832777   0.844824   0.886652   0.344321"
      ]
     },
     "execution_count": 13,
     "metadata": {},
     "output_type": "execute_result"
    }
   ],
   "source": [
    "Aa"
   ]
  },
  {
   "cell_type": "code",
   "execution_count": 14,
   "metadata": {},
   "outputs": [],
   "source": [
    "svdAa=mySVDaddrow(svdA,a);"
   ]
  },
  {
   "cell_type": "code",
   "execution_count": 15,
   "metadata": {},
   "outputs": [
    {
     "name": "stdout",
     "output_type": "stream",
     "text": [
      "(7, 10)(7, 7)(10, 6)\n"
     ]
    },
    {
     "data": {
      "text/plain": [
       "7×2 Array{Float64,2}:\n",
       " 4.44188   4.44188\n",
       " 1.41235   1.41235\n",
       " 1.2192    1.2192\n",
       " 0.985345  0.985345\n",
       " 0.49206   0.49206\n",
       " 0.456045  0.456045\n",
       " 0.26585   0.26585"
      ]
     },
     "execution_count": 15,
     "metadata": {},
     "output_type": "execute_result"
    }
   ],
   "source": [
    "Aa=[A;transpose(a)]\n",
    "println(size(Aa),size(svdAa.U),size(svdA.V))\n",
    "[svdvals(Aa) svdAa.S]"
   ]
  },
  {
   "cell_type": "code",
   "execution_count": 16,
   "metadata": {},
   "outputs": [
    {
     "data": {
      "text/plain": [
       "(9.773004839402197e-15, 1.6518631028362133e-15, 4.8346566025180166e-15)"
      ]
     },
     "execution_count": 16,
     "metadata": {},
     "output_type": "execute_result"
    }
   ],
   "source": [
    "# Check the residual and orthogonality\n",
    "norm(Aa*svdAa.V-svdAa.U*Diagonal(svdAa.S)),\n",
    "norm(svdAa.U'*svdAa.U-I), norm(svdAa.Vt*svdAa.V-I)"
   ]
  },
  {
   "cell_type": "markdown",
   "metadata": {},
   "source": [
    "### Example - Adding columns\n",
    "\n",
    "This can be viewed as adding rows to the transposed matrix, an elegant one-liner in Julia."
   ]
  },
  {
   "cell_type": "code",
   "execution_count": 17,
   "metadata": {},
   "outputs": [
    {
     "data": {
      "text/plain": [
       "mySVDaddcol (generic function with 1 method)"
      ]
     },
     "execution_count": 17,
     "metadata": {},
     "output_type": "execute_result"
    }
   ],
   "source": [
    "function mySVDaddcol(svdA::SVD,a::Vector)\n",
    "    X=mySVDaddrow(SVD(svdA.V,svdA.S,adjoint(svdA.U)),a)\n",
    "    SVD(X.V,X.S,adjoint(X.U))\n",
    "end "
   ]
  },
  {
   "cell_type": "code",
   "execution_count": 21,
   "metadata": {},
   "outputs": [],
   "source": [
    "# Tall matrix\n",
    "Random.seed!(897)\n",
    "A=rand(10,6)\n",
    "a=rand(10)\n",
    "svdA=svd(A)\n",
    "svdAa=mySVDaddcol(svdA,a);"
   ]
  },
  {
   "cell_type": "code",
   "execution_count": 22,
   "metadata": {},
   "outputs": [
    {
     "data": {
      "text/plain": [
       "(2.916534636777345e-15, 2.4065592454965646e-15, 1.5422239624507888e-15)"
      ]
     },
     "execution_count": 22,
     "metadata": {},
     "output_type": "execute_result"
    }
   ],
   "source": [
    "# Check the residual and orthogonality\n",
    "Aa=[A a]\n",
    "norm(Aa*svdAa.V-svdAa.U*Diagonal(svdAa.S)),\n",
    "norm(svdAa.U'*svdAa.U-I), norm(svdAa.Vt*svdAa.V-I)"
   ]
  },
  {
   "cell_type": "code",
   "execution_count": 23,
   "metadata": {},
   "outputs": [],
   "source": [
    "# Flat matrix\n",
    "Random.seed!(332)\n",
    "A=rand(6,10)\n",
    "a=rand(6)\n",
    "svdA=svd(A)\n",
    "svdAa=mySVDaddcol(svdA,a);"
   ]
  },
  {
   "cell_type": "code",
   "execution_count": 24,
   "metadata": {},
   "outputs": [
    {
     "data": {
      "text/plain": [
       "(3.3805679383519217e-15, 2.0590068407357257e-15, 1.9222177303623797e-15)"
      ]
     },
     "execution_count": 24,
     "metadata": {},
     "output_type": "execute_result"
    }
   ],
   "source": [
    "# Check the residual and orthogonality\n",
    "Aa=[A a]\n",
    "norm(Aa*svdAa.V-svdAa.U*Diagonal(svdAa.S)),\n",
    "norm(svdAa.U'*svdAa.U-I), norm(svdAa.Vt*svdAa.V-I)"
   ]
  },
  {
   "cell_type": "code",
   "execution_count": 25,
   "metadata": {},
   "outputs": [],
   "source": [
    "# Square matrix\n",
    "A=rand(10,10)\n",
    "a=rand(10)\n",
    "svdA=svd(A);"
   ]
  },
  {
   "cell_type": "code",
   "execution_count": 26,
   "metadata": {},
   "outputs": [
    {
     "data": {
      "text/plain": [
       "(5.617414775356018e-14, 2.7121157027868105e-15, 3.3018690692786864e-15)"
      ]
     },
     "execution_count": 26,
     "metadata": {},
     "output_type": "execute_result"
    }
   ],
   "source": [
    "svdAa=mySVDaddrow(svdA,a)\n",
    "Aa=[A;transpose(a)]\n",
    "norm(Aa*svdAa.V-svdAa.U*Diagonal(svdAa.S)),\n",
    "norm(svdAa.U'*svdAa.U-I), norm(svdAa.Vt*svdAa.V-I)"
   ]
  },
  {
   "cell_type": "code",
   "execution_count": 27,
   "metadata": {},
   "outputs": [
    {
     "data": {
      "text/plain": [
       "(5.6791205710286555e-14, 2.951670586067795e-14, 4.682214349907592e-15)"
      ]
     },
     "execution_count": 27,
     "metadata": {},
     "output_type": "execute_result"
    }
   ],
   "source": [
    "svdAa=mySVDaddcol(svdA,a)\n",
    "Aa=[A a]\n",
    "norm(Aa*svdAa.V-svdAa.U*Diagonal(svdAa.S)),\n",
    " norm(svdAa.U'*svdAa.U-I), norm(svdAa.Vt*svdAa.V-I)"
   ]
  },
  {
   "cell_type": "markdown",
   "metadata": {
    "collapsed": true
   },
   "source": [
    "### Example - Updating a low rank approximation\n"
   ]
  },
  {
   "cell_type": "code",
   "execution_count": 28,
   "metadata": {},
   "outputs": [
    {
     "data": {
      "text/plain": [
       "4"
      ]
     },
     "execution_count": 28,
     "metadata": {},
     "output_type": "execute_result"
    }
   ],
   "source": [
    "# Adding row to a tall matrix\n",
    "A=rand(10,6)\n",
    "svdA=svd(A)\n",
    "a=rand(6)\n",
    "# Rank of the approximation\n",
    "r=4"
   ]
  },
  {
   "cell_type": "code",
   "execution_count": 29,
   "metadata": {},
   "outputs": [],
   "source": [
    "svdAr=SVD(svdA.U[:,1:r], svdA.S[1:r],adjoint(svdA.V[:,1:r]));"
   ]
  },
  {
   "cell_type": "code",
   "execution_count": 30,
   "metadata": {},
   "outputs": [
    {
     "data": {
      "text/plain": [
       "(0.7079785575104238, 0.7079785575104239)"
      ]
     },
     "execution_count": 30,
     "metadata": {},
     "output_type": "execute_result"
    }
   ],
   "source": [
    "# Eckart, Young, Mirsky\n",
    "Ar=svdAr.U*Diagonal(svdAr.S)*svdAr.Vt\n",
    "Δ=Ar-A\n",
    "opnorm(Δ),svdvals(A)[5]"
   ]
  },
  {
   "cell_type": "code",
   "execution_count": 31,
   "metadata": {},
   "outputs": [],
   "source": [
    "svdAa=mySVDaddrow(svdAr,a);"
   ]
  },
  {
   "cell_type": "code",
   "execution_count": 32,
   "metadata": {},
   "outputs": [],
   "source": [
    "Aa=[A; transpose(a)];"
   ]
  },
  {
   "cell_type": "code",
   "execution_count": 33,
   "metadata": {},
   "outputs": [
    {
     "data": {
      "text/plain": [
       "([3.974688600527959, 1.2989639055449105, 1.1593964227176732, 0.9516010740072087, 0.7363080325810998, 0.43136995644832393], [3.9746532247711968, 1.2936632729078836, 1.1593893307986551, 0.9421370661670921, 0.3428502857666232, 3.2872318967377147e-16], [3.9730362497396428, 1.2759865368889969, 1.1593698461048871, 0.9309428905977566])"
      ]
     },
     "execution_count": 33,
     "metadata": {},
     "output_type": "execute_result"
    }
   ],
   "source": [
    "svdvals(Aa),svdvals([Ar;transpose(a)]),svdAa.S"
   ]
  },
  {
   "cell_type": "code",
   "execution_count": 34,
   "metadata": {},
   "outputs": [
    {
     "data": {
      "text/plain": [
       "4"
      ]
     },
     "execution_count": 34,
     "metadata": {},
     "output_type": "execute_result"
    }
   ],
   "source": [
    "# Adding row to a flat matrix\n",
    "A=rand(6,10)\n",
    "svdA=svd(A)\n",
    "a=rand(10)\n",
    "# Rank of the approximation\n",
    "r=4"
   ]
  },
  {
   "cell_type": "code",
   "execution_count": 35,
   "metadata": {},
   "outputs": [],
   "source": [
    "svdAr=SVD(svdA.U[:,1:r], svdA.S[1:r],adjoint(svdA.V[:,1:r]))\n",
    "svdAa=mySVDaddrow(svdAr,a);"
   ]
  },
  {
   "cell_type": "code",
   "execution_count": 36,
   "metadata": {},
   "outputs": [
    {
     "data": {
      "text/plain": [
       "([3.974688600527959, 1.2989639055449105, 1.1593964227176732, 0.9516010740072087, 0.7363080325810998, 0.43136995644832393], [4.549675903281804, 1.4400409837703734, 1.2308806688298173, 0.9136798177037393, 0.5866969846783837, 3.5919311192783594e-16, 1.7020661083452836e-16], [4.546959853941822, 1.4377919818811713, 1.2272341035372212, 0.8942604551872634])"
      ]
     },
     "execution_count": 36,
     "metadata": {},
     "output_type": "execute_result"
    }
   ],
   "source": [
    "Ar=svdAr.U*Diagonal(svdAr.S)*svdAr.Vt\n",
    "svdvals(Aa),svdvals([Ar;transpose(a)]),svdAa.S"
   ]
  }
 ],
 "metadata": {
  "@webio": {
   "lastCommId": null,
   "lastKernelId": null
  },
  "anaconda-cloud": {},
  "kernelspec": {
   "display_name": "Julia 1.4.1",
   "language": "julia",
   "name": "julia-1.4"
  },
  "language_info": {
   "file_extension": ".jl",
   "mimetype": "application/julia",
   "name": "julia",
   "version": "1.4.1"
  }
 },
 "nbformat": 4,
 "nbformat_minor": 1
}
