{
 "cells": [
  {
   "cell_type": "markdown",
   "metadata": {},
   "source": [
    "# Algorithms for Structured Matrices\n",
    "\n",
    "\n",
    "For matrices with some special structure, it is possible to derive versions of algorithms which are faster and/or more accurate than the standard algorithms.\n",
    "\n",
    "## Prerequisites\n",
    "\n",
    "The reader should be familiar with concepts of eigenvalues and eigen vectors, singular values and singular vectors, related perturbation theory, and algorithms.\n",
    " \n",
    "## Competences \n",
    "\n",
    "The reader should be able to recognise matrices which have rank-revealing decomposition and apply adequate algorithms, and to apply forward stable algorithms to arrowhead and diagonal-plus-rank-one matrices."
   ]
  },
  {
   "cell_type": "markdown",
   "metadata": {},
   "source": [
    "## Rank revealing decompositions\n",
    "\n",
    "For more details, see \n",
    "[Z. Drmač, Computing Eigenvalues and Singular Values to High Relative Accuracy][Hog14a]\n",
    "and [J. Demmel et al, Computing the singular value decomposition with high relative accuracy][DGESVD99]\n",
    "and the references therein.\n",
    "\n",
    "[Hog14a]: #1 \"L. Hogben, ed., 'Handbook of Linear Algebra', pp. 59.8-59.11, CRC Press, Boca Raton, 2014.\"\n",
    "\n",
    "[DGESVD99]: http://www.sciencedirect.com/science/article/pii/S0024379599001342 \"J. Demmel, M. Gu, S. Eisenstat, I. Slapničar, K. Veselić and Z. Drmač, 'Computing the singular value decomposition with high relative accuracy', Lin. Alg. Appl., 299 (1999) 21-80.\"\n",
    "\n",
    "Let $A\\in\\mathbb{R}^{m\\times n}$ with $\\mathop{\\mathrm{rank}}(A)=n$ (therefore, $m\\geq n$) and\n",
    "$A=U\\Sigma V^T$ its thin SVD.\n",
    "\n",
    "### Definitions\n",
    "\n",
    "Let $A\\in\\mathbb{R}^{m\\times n}$. \n",
    "\n",
    "The singular values of $A$ are (__perfectly__) __well determined to high relative accuracy__ \n",
    "if changing any entry $A_{kl}$ to $\\theta A_{kl}$, $\\theta \\neq 0$, causes perturbations in singular values bounded by \n",
    "\n",
    "$$\n",
    "\\min\\{|\\theta|,1/|\\theta|\\}\\sigma_j \\leq\\tilde \\sigma_j \\leq  \n",
    "\\max\\{|\\theta|,1/|\\theta|\\}\\sigma_j,\\quad  \\forall j.\n",
    "$$\n",
    "\n",
    "The __sparsity pattern__ of $A$, $Struct(A)$, is the set of indices for which \n",
    "$A_{kl}$ is permitted to be non-zero.\n",
    "\n",
    "The __bipartite graph__ of the sparsity pattern $S$, $\\mathcal{G}(S)$, is the graph with vertices partitioned into row vertices $r_1,\\ldots,r_m$ and column vertices $c_1,\\ldots,c_n$, where $r_k$ and $c_l$ are connected if and only if $(k,l)\\in S$. \n",
    "\n",
    "If $\\mathcal{G}(S)$ is acyclic, matrices with sparsity pattern $S$ are __biacyclic__.\n",
    "\n",
    "A decomposition $A=XDY^T$ with diagonal matrix $D$ is called a __rank revealing decomposition__ (RRD) if $X$ and $Y$ are full-column rank well-conditioned matrices. \n",
    "\n",
    "__Hilbert matrix__ is a square matrix $H$ with elements $H_{ij}=\\displaystyle\\frac{1}{i+j-1}$. \n",
    "\n",
    "__Hankel matrix__ is a square matrix with constant elements along skew-diagonals.\n",
    "\n",
    "__Cauchy matrix__ is an $m\\times n$ matrix $C$ with elements $C_{ij}=\\displaystyle\\frac{1}{x_i+y_j}$ with $x_i+y_j\\neq 0$ for all $i,j$."
   ]
  },
  {
   "cell_type": "markdown",
   "metadata": {},
   "source": [
    "### Facts\n",
    "\n",
    "1. The singular values of $A$ are perfectly well determined to high relative accuracy if and only if the bipartite graph $\\mathcal{G}(S)$ is acyclic (forest of trees). Examples are bidiagonal and arrowhead matrices. Sparsity pattern $S$ of acyclic bipartite graph allows at most $m+n-1$ nonzero entries. A bisection algorithm computes all singular values of biacyclic matrices to high relative accuracy.\n",
    "\n",
    "2. An RRD of $A$ can be given or computed to high accuracy by some method. Typical methods are Gaussian elimination with complete pivoting or QR factorization with complete pivoting. \n",
    "\n",
    "2. Let $\\hat X \\hat D \\hat Y^T$ be the computed RRD of $A$ satisfying \n",
    "\\begin{align*}\n",
    "|D_{jj}-\\hat D_{jj}|&\\leq O(\\varepsilon)|D_{jj}|,\\\\\n",
    "\\| X-\\hat X\\|&\\leq O(\\varepsilon) \\|X\\|,\\\\\n",
    "\\| Y-\\hat Y\\|&\\leq O(\\varepsilon) \\|Y\\|.\n",
    "\\end{align*}\n",
    "The following algorithm computes the EVD of $A$ with high relative accuracy:\n",
    "    1. Perform QR factorization with pivoting to get $\\hat X\\hat D=QRP$, where $P$ is a permutation matrix. Thus $A=QRP\\hat Y^T$. \n",
    "    2. Multiply $W=RP\\hat Y^T$ (_NOT_ Strassen's multiplication). Thus $A=QW$ and $W$ is well-scaled from the left.\n",
    "    3. Compute the SVD of $W^T=V\\Sigma^T \\bar U^T$ using one-sided Jacobi method. Thus $A=Q\\bar U \\Sigma V^T$. \n",
    "    4. Multiply $U=Q\\bar U$. Thus $A=U\\Sigma V^T$ is the computed SVD of $A$.\n",
    "\n",
    "3. Let $R=D'R'$, where $D'$ is such that the _rows_ of $R'$ have unit norms.  Then the following error bounds hold:\n",
    "$$\n",
    "\\frac{|\\sigma_j-\\tilde\\sigma_j|}{\\sigma_j}\\leq O(\\varepsilon \\kappa(R')\\cdot \\max\\{\\kappa(X),\\kappa(Y)\\})\\leq\n",
    "O(\\varepsilon n^{3/2}\\kappa(X)\\cdot \\max\\{\\kappa(X),\\kappa(Y)\\}).\n",
    "$$\n",
    "\n",
    "4. Hilbert matrix is Hankel matrix and Cauchy matrix, it is symmetric positive definite and \n",
    "_very_ ill-conditioned.\n",
    "\n",
    "5. Every sumbatrix of a Cauchy matrix is itself a Cauchy matrix. \n",
    "\n",
    "6. Determinant of a square Cauchy matrix is\n",
    "$$\n",
    "\\det(C)=\\frac{\\prod_{1\\leq i<j\\leq n}(x_j-x_i)(y_j-y_i)}\n",
    "{\\prod_{1\\leq i,j\\leq n} (x_i+y_j)}.\n",
    "$$\n",
    "It is computed with elementwise high relative accuracy.\n",
    "\n",
    "7. Let $A$ be square and nonsingular and let $A=LDR$ be its decomposition with \n",
    "diagonal $D$, lower unit-triangular $L$, and upper unit-triangular $R$. The closed formulas using quotients of minors are (see [A. S. Householder, The Theory of Matrices in Numerical Analysis][Hou75]):\n",
    "\n",
    "\\begin{align*}\n",
    "D_{11}&=A_{11}, \\\\\n",
    "D_{jj}&=\\frac{\\det(A_{1:j,1:j})}{\\det(A_{1:j-1,1:j-1})}, \\quad j=2,\\ldots,n, \\\\\n",
    "L_{jj}&=1, \\\\\n",
    "L_{ij}&=\\frac{\\det(A_{[1,2,\\ldots,j-1,i],[1:j]}\\, )}\n",
    "{\\det(A_{1:j,1:j})}, \\quad j < i, \\\\\n",
    "R_{jj}&=1, \\\\\n",
    "R_{ji}&=\\frac{\\det(A_{[1,2,\\ldots,j],[1,2, \\ldots,j-1,i]}\\, )}\n",
    "{\\det(A_{1:j,1:j})}, \\quad i > j, \n",
    "\\end{align*}\n",
    "\n",
    "[Hou75]:  https://books.google.hr/books?id=hCre109IpRcC&printsec=frontcover&hl=hr&source=gbs_ge_summary_r&cad=0#v=onepage&q&f=false \"Alston S. Householder, 'The Theory of Matrices in Numerical Analysis', pp. 10-12, Dover, New York, 1995, 2006.\""
   ]
  },
  {
   "cell_type": "markdown",
   "metadata": {},
   "source": [
    "### Example - Positive definite matrix\n",
    "\n",
    "Let $A=DA_S D$ be strongly scaled symmetric positive definite matrix. Then Cholesky factorization with \n",
    "complete (diagonal) pivoting is an RRD. Consider the following three step algorithm:\n",
    "\n",
    "1. Compute $P^T A P=LL^T$ (_Cholesky factorization with complete pivoting_). \n",
    "2. Compute the $L=\\bar U\\Sigma V^T$ (_one-sided Jacobi, V is not needed_).\n",
    "3. Set $\\Lambda=\\Sigma^2$ and $U=P\\bar U$. Thus $A=U\\Lambda U^T$ is an EVD of $A$.\n",
    "\n",
    "The Cholesky factorization with pivoting can be implemented very fast with block algorithm\n",
    "(see [C. Lucas, LAPack-Style Codes for Level 2 and 3 Pivoted Cholesky Factorizations](http://www.netlib.org/lapack/lawnspdf/lawn161.pdf)).\n",
    "\n",
    "The eigenvalues $\\tilde \\lambda_j$ computed using the above algorithm satisfy relative error bounds:\n",
    "$$\n",
    "\\frac{|\\lambda_j-\\tilde\\lambda_j|}{\\lambda_j} \\leq O(n\\varepsilon \\|A_S\\|_2^{-1}).\n",
    "$$\n"
   ]
  },
  {
   "cell_type": "code",
   "execution_count": 1,
   "metadata": {},
   "outputs": [
    {
     "data": {
      "text/plain": [
       "Main.ModuleB"
      ]
     },
     "execution_count": 1,
     "metadata": {},
     "output_type": "execute_result"
    }
   ],
   "source": [
    "include(\"./ModuleB.jl\")"
   ]
  },
  {
   "cell_type": "code",
   "execution_count": 2,
   "metadata": {},
   "outputs": [],
   "source": [
    "using .ModuleB"
   ]
  },
  {
   "cell_type": "code",
   "execution_count": 3,
   "metadata": {},
   "outputs": [],
   "source": [
    "using LinearAlgebra"
   ]
  },
  {
   "cell_type": "code",
   "execution_count": 4,
   "metadata": {},
   "outputs": [
    {
     "data": {
      "text/plain": [
       "(true, 1794.7674834322888, 4.7974903675033356e39)"
      ]
     },
     "execution_count": 4,
     "metadata": {},
     "output_type": "execute_result"
    }
   ],
   "source": [
    "n=20\n",
    "import Random\n",
    "Random.seed!(421)\n",
    "B=randn(n,n)\n",
    "# Scaled matrix\n",
    "As=Matrix(Symmetric(B'*B))\n",
    "# Scaling\n",
    "D=exp.(50*(rand(n).-0.5))\n",
    "# Parentheses are necessary!\n",
    "A=[As[i,j]*(D[i]*D[j]) for i=1:n, j=1:n]\n",
    "issymmetric(A), cond(As), cond(A)"
   ]
  },
  {
   "cell_type": "code",
   "execution_count": 5,
   "metadata": {},
   "outputs": [],
   "source": [
    "?cholesky;"
   ]
  },
  {
   "cell_type": "markdown",
   "metadata": {},
   "source": [
    "We will not use the Cholesky factorization with complete pivoting. Instead, we will just sort the diagonal of $A$ in advance, which is sufficient for this example. \n",
    "\n",
    "_Write the function for Cholesky factorization with complete pivoting as an excercise._"
   ]
  },
  {
   "cell_type": "code",
   "execution_count": 6,
   "metadata": {},
   "outputs": [],
   "source": [
    "?sortperm;"
   ]
  },
  {
   "cell_type": "code",
   "execution_count": 7,
   "metadata": {},
   "outputs": [
    {
     "data": {
      "text/plain": [
       "Cholesky{Float64,Array{Float64,2}}\n",
       "U factor:\n",
       "20×20 UpperTriangular{Float64,Array{Float64,2}}:\n",
       " 7.88685e8  -2.1039e7    15062.9  -290.504  …  -3.44776e-11  -4.31924e-12\n",
       "  ⋅          1.93457e8   20859.7  -111.39      -2.33051e-10  -6.10259e-13\n",
       "  ⋅           ⋅         647180.0   108.871      5.37826e-11   1.45358e-11\n",
       "  ⋅           ⋅               ⋅   1115.06       3.92092e-10  -5.36617e-12\n",
       "  ⋅           ⋅               ⋅       ⋅        -1.01533e-10   1.1563e-11\n",
       "  ⋅           ⋅               ⋅       ⋅     …  -7.96891e-12  -1.02093e-11\n",
       "  ⋅           ⋅               ⋅       ⋅        -1.50375e-10  -5.12743e-12\n",
       "  ⋅           ⋅               ⋅       ⋅        -2.3185e-12   -7.73426e-12\n",
       "  ⋅           ⋅               ⋅       ⋅        -3.32446e-10  -3.29658e-12\n",
       "  ⋅           ⋅               ⋅       ⋅        -1.69797e-10   2.50981e-11\n",
       "  ⋅           ⋅               ⋅       ⋅     …  -1.61957e-10  -3.35054e-12\n",
       "  ⋅           ⋅               ⋅       ⋅        -1.02456e-10   1.96947e-11\n",
       "  ⋅           ⋅               ⋅       ⋅         2.31466e-10   1.39367e-11\n",
       "  ⋅           ⋅               ⋅       ⋅        -5.43022e-10  -1.66566e-11\n",
       "  ⋅           ⋅               ⋅       ⋅        -1.31544e-10   2.3234e-11\n",
       "  ⋅           ⋅               ⋅       ⋅     …   3.40047e-10   4.28435e-11\n",
       "  ⋅           ⋅               ⋅       ⋅         1.73146e-10   1.99322e-13\n",
       "  ⋅           ⋅               ⋅       ⋅        -1.15019e-10   2.62641e-12\n",
       "  ⋅           ⋅               ⋅       ⋅         4.34304e-10  -6.22212e-12\n",
       "  ⋅           ⋅               ⋅       ⋅          ⋅            1.13816e-11"
      ]
     },
     "execution_count": 7,
     "metadata": {},
     "output_type": "execute_result"
    }
   ],
   "source": [
    "p=sortperm(diag(A), rev=true)\n",
    "L=cholesky(A[p,p])"
   ]
  },
  {
   "cell_type": "code",
   "execution_count": 8,
   "metadata": {},
   "outputs": [],
   "source": [
    "U,σ,V=myJacobiR(Matrix(L.L));"
   ]
  },
  {
   "cell_type": "code",
   "execution_count": 9,
   "metadata": {},
   "outputs": [
    {
     "data": {
      "text/html": [
       "# 1 method for generic function <b>myJacobiR</b>:<ul><li> myJacobiR(A1::<b>AbstractArray{T,2} where T</b>) in Main.ModuleB at <a href=\"https://github.com/ivanslapnicar/GIAN-Applied-NLA-Course/tree/4e8cda53633ae69c79e43f75f6eccc6b36690838//src/Module B - Eigenvalue and Singular Value Decompositions/ModuleB.jl#L426\" target=\"_blank\">C:\\Users\\Ivan_Slapnicar\\Documents\\GitHub\\GIAN-Applied-NLA-Course\\src\\Module B - Eigenvalue and Singular Value Decompositions\\ModuleB.jl:426</a></li> </ul>"
      ],
      "text/plain": [
       "# 1 method for generic function \"myJacobiR\":\n",
       "[1] myJacobiR(A1::AbstractArray{T,2} where T) in Main.ModuleB at C:\\Users\\Ivan_Slapnicar\\Documents\\GitHub\\GIAN-Applied-NLA-Course\\src\\Module B - Eigenvalue and Singular Value Decompositions\\ModuleB.jl:426"
      ]
     },
     "execution_count": 9,
     "metadata": {},
     "output_type": "execute_result"
    }
   ],
   "source": [
    "methods(myJacobiR)"
   ]
  },
  {
   "cell_type": "code",
   "execution_count": 10,
   "metadata": {},
   "outputs": [
    {
     "data": {
      "text/plain": [
       "20-element Array{Float64,1}:\n",
       "      6.224952755235023e17\n",
       "      3.739734905182646e16\n",
       "      4.188415095416874e11\n",
       "      1.2460394812028985e6\n",
       " 190728.85050142332\n",
       "   3078.7029371467984\n",
       "    943.3368212353645\n",
       "    303.624000994283\n",
       "      0.03248293939014995\n",
       "      0.0029098134590819264\n",
       "      5.868398431419658e-7\n",
       "      3.735404817578556e-10\n",
       "      1.6742469514795042e-11\n",
       "      8.056762319984436e-13\n",
       "      2.033859058099946e-13\n",
       "      6.093390841906992e-16\n",
       "      1.0392699953225118e-17\n",
       "      6.2444106975902545e-19\n",
       "      1.8305199074258027e-19\n",
       "      1.2951329074914234e-22"
      ]
     },
     "execution_count": 10,
     "metadata": {},
     "output_type": "execute_result"
    }
   ],
   "source": [
    "λ=σ.^2\n",
    "U₁=U[invperm(p),:]\n",
    "λ"
   ]
  },
  {
   "cell_type": "code",
   "execution_count": 11,
   "metadata": {},
   "outputs": [
    {
     "data": {
      "text/plain": [
       "20×20 Array{Float64,2}:\n",
       "   6.22495e17   -0.70847      -0.0931937    …   0.0610662     0.00999545\n",
       "   1.34018       3.73973e16    0.00288199      -0.101356     -0.00714252\n",
       "  -0.0937641     0.00245858    4.18842e11       5.46604e-5    9.76219e-6\n",
       "   0.00286982    0.00673238    2.93179e-8       3.48398e-12  -7.42396e-13\n",
       "   0.000840361   0.000311774   5.21817e-9      -9.12969e-13   3.20558e-13\n",
       "  -1.06914e-5   -3.29366e-5    1.58978e-9   …   8.14459e-23   2.8094e-12\n",
       "   1.25794e-5    4.3568e-5    -2.56598e-9       2.61087e-15  -5.27696e-16\n",
       "  -3.52879e-6    3.56028e-5    1.01736e-9       1.17891e-15   2.63558e-18\n",
       "  -1.59249e-7   -6.53107e-7    2.38425e-5      -5.65085e-20   3.63978e-21\n",
       "   1.73829e-7   -1.57251e-9    2.94553e-8      -5.6944e-22    3.54294e-24\n",
       "  -5.76505e-9   -3.23178e-9    6.60496e-8   …   8.62764e-24   1.53997e-24\n",
       "   3.57949e-5    1.80388e-7   -2.56019e-9       2.68843e-24   4.80637e-25\n",
       "  -0.0727832    -0.00182909   -5.45527e-10     -2.18273e-21  -8.19359e-22\n",
       " -21.8359        0.682556      8.98052e-11     -3.99197e-18  -4.80982e-19\n",
       "  60.0456       12.7945       -3.17079e-11     -2.87859e-17  -1.47947e-18\n",
       " -10.0303        3.23745      -9.59354e-10  …  -9.75826e-18  -7.79378e-19\n",
       "   2.21946      -0.437917     -9.99335e-7       1.40446e-18   1.19253e-19\n",
       "   0.372882     -0.185034      9.70223e-5       5.50729e-19   4.35884e-20\n",
       "   0.0610662    -0.101356      5.46604e-5       4.70876e-19   2.16126e-20\n",
       "   0.00999545   -0.00714252    9.76219e-6       2.16126e-20   1.8817e-21"
      ]
     },
     "execution_count": 11,
     "metadata": {},
     "output_type": "execute_result"
    }
   ],
   "source": [
    "U'*A[p,p]*U"
   ]
  },
  {
   "cell_type": "code",
   "execution_count": 12,
   "metadata": {},
   "outputs": [
    {
     "data": {
      "text/plain": [
       "20×20 Array{Float64,2}:\n",
       "   6.22495e17   -0.18755      -0.0947112    …   0.0610662     0.00999545\n",
       "   1.58015       3.73973e16    0.00225244      -0.101356     -0.00714252\n",
       "  -0.0970856     0.00240602    4.18842e11       5.46604e-5    9.76219e-6\n",
       "   0.00285716    0.00673102    2.26899e-8       3.48398e-12  -7.42396e-13\n",
       "   0.000884084   0.000311888   1.68231e-9      -9.12969e-13   3.20558e-13\n",
       "  -1.07605e-5   -3.29096e-5    9.28433e-10  …   8.72288e-23   2.8094e-12\n",
       "   1.37333e-5    4.34536e-5   -8.43749e-10      2.61087e-15  -5.27696e-16\n",
       "  -3.36893e-6    3.55029e-5    9.71202e-10      1.17891e-15   2.63558e-18\n",
       "  -1.48646e-7   -6.53639e-7    2.38425e-5      -5.65083e-20   3.63978e-21\n",
       "   1.82761e-7   -2.65804e-10   2.94551e-8      -5.69425e-22   3.54383e-24\n",
       "  -6.0057e-9    -3.21174e-9    6.60497e-8   …   8.62805e-24   1.53993e-24\n",
       "   3.57949e-5    1.80388e-7   -2.56019e-9       2.68843e-24   4.80636e-25\n",
       "  -0.0727832    -0.00182909   -5.45527e-10     -2.18273e-21  -8.19359e-22\n",
       " -21.8359        0.682556      8.98052e-11     -3.99197e-18  -4.80982e-19\n",
       "  60.0456       12.7945       -3.17079e-11     -2.87859e-17  -1.47947e-18\n",
       " -10.0303        3.23745      -9.59354e-10  …  -9.75826e-18  -7.79378e-19\n",
       "   2.21946      -0.437917     -9.99335e-7       1.40446e-18   1.19253e-19\n",
       "   0.372882     -0.185034      9.70223e-5       5.50729e-19   4.35884e-20\n",
       "   0.0610662    -0.101356      5.46604e-5       4.70876e-19   2.16126e-20\n",
       "   0.00999545   -0.00714252    9.76219e-6       2.16126e-20   1.8817e-21"
      ]
     },
     "execution_count": 12,
     "metadata": {},
     "output_type": "execute_result"
    }
   ],
   "source": [
    "# Due to large condition number, this is not\n",
    "# as accurate as expected\n",
    "C=U₁'*A*U₁"
   ]
  },
  {
   "cell_type": "code",
   "execution_count": 13,
   "metadata": {},
   "outputs": [
    {
     "data": {
      "text/plain": [
       "3.330032502108985e-15"
      ]
     },
     "execution_count": 13,
     "metadata": {},
     "output_type": "execute_result"
    }
   ],
   "source": [
    "# Orthogonality\n",
    "norm(U₁'*U₁-I)"
   ]
  },
  {
   "cell_type": "code",
   "execution_count": 14,
   "metadata": {},
   "outputs": [
    {
     "data": {
      "text/plain": [
       "20×20 Array{Float64,2}:\n",
       "  1.0          -1.22922e-18  -1.85485e-16  …   0.112792      0.292051\n",
       "  1.03564e-17   1.0           1.79973e-17     -0.763794     -0.851444\n",
       " -1.90135e-16   1.92244e-17   1.0              0.123082      0.347734\n",
       "  3.24415e-15   3.11813e-14   3.14082e-17      4.54838e-6   -1.53319e-5\n",
       "  2.56577e-15   3.69292e-15   5.95212e-18     -3.04645e-6    1.69209e-5\n",
       " -2.458e-16    -3.06703e-15   2.58549e-17  …   2.29099e-15   0.00116722\n",
       "  5.66727e-16   7.31598e-15  -4.24478e-17      1.23879e-7   -3.96073e-7\n",
       " -2.4505e-16    1.0536e-14    8.61225e-17      9.85958e-8    3.48685e-9\n",
       " -1.04534e-15  -1.87538e-14   2.04409e-10     -4.56911e-10   4.65556e-10\n",
       "  4.29421e-15  -2.54806e-17   8.4373e-13      -1.53833e-11   1.51448e-12\n",
       " -9.93656e-15  -2.16801e-14   1.33225e-10  …   1.64134e-11   4.63411e-11\n",
       "  2.34738e-9    4.82635e-11  -2.04682e-10      2.02711e-10   5.73288e-10\n",
       " -2.25452e-5   -2.31156e-6   -2.06007e-10     -7.77387e-7   -4.61625e-6\n",
       " -0.0308186     0.00393032    1.54521e-10     -0.00647805   -0.0123471\n",
       "  0.164687      0.143169     -1.0602e-10      -0.0907759    -0.0738032\n",
       " -0.392102      0.51634      -4.57201e-8   …  -0.438603     -0.554149\n",
       "  0.581107     -0.467788     -0.00031898       0.422799      0.567898\n",
       "  0.353662     -0.716006      0.112184         0.600579      0.751937\n",
       "  0.112792     -0.763794      0.123082         1.0           0.726069\n",
       "  0.292051     -0.851444      0.347734         0.726069      1.0"
      ]
     },
     "execution_count": 14,
     "metadata": {},
     "output_type": "execute_result"
    }
   ],
   "source": [
    "Dc=sqrt.(diag(C))\n",
    "Cs=[C[i,j]/(Dc[i]*Dc[j]) for i=1:n, j=1:n]"
   ]
  },
  {
   "cell_type": "code",
   "execution_count": 15,
   "metadata": {},
   "outputs": [
    {
     "data": {
      "text/plain": [
       "20×20 Array{Float64,2}:\n",
       "  6.22495e17    0.469379     -7.84249e-5   …   3.31146e-20   1.44176e-22\n",
       "  0.469379      3.73973e16    4.68424e-6      -2.24242e-19  -4.20328e-22\n",
       " -7.84249e-5    4.68424e-6    4.18842e11       3.61356e-20   1.71664e-22\n",
       "  4.10619e-9    3.88544e-8   -2.3475e-11       1.33536e-24  -7.5688e-27\n",
       "  4.98538e-10   7.15053e-10   7.77502e-13     -8.94406e-25   8.35326e-27\n",
       " -7.70856e-13  -9.48588e-12   1.38482e-13  …   8.04935e-35   5.76218e-25\n",
       "  5.66117e-13   6.89736e-12   2.17019e-14      3.63697e-26  -1.95527e-28\n",
       " -1.14732e-13   3.23159e-12  -7.56646e-16      2.89467e-26   1.72134e-30\n",
       " -3.9013e-17   -6.07388e-16   6.6398e-12      -1.41535e-28   1.94731e-31\n",
       "  1.18956e-17   3.35668e-19   2.45502e-15     -4.54705e-30   6.02133e-34\n",
       " -5.59609e-21  -1.28497e-20   7.81817e-17  …  -1.15451e-36  -1.50231e-37\n",
       "  8.76843e-19   1.80283e-20  -7.6457e-20      -6.89466e-35  -1.56744e-38\n",
       " -3.77462e-16  -3.87013e-17  -3.44906e-21     -1.37984e-35  -1.53721e-38\n",
       " -2.48418e-14   3.1681e-15    1.24554e-22     -6.23581e-35   3.63859e-38\n",
       "  3.43221e-14   2.98376e-14  -2.20954e-23     -1.67284e-36   2.40574e-38\n",
       " -3.13816e-16   4.13249e-16  -3.65918e-23  …  -5.16032e-36  -3.44068e-38\n",
       "  9.06867e-18  -7.30022e-18  -4.97795e-21      1.62085e-36  -7.92831e-39\n",
       "  3.73464e-19  -7.56095e-19   1.18466e-19     -1.90057e-35  -5.12707e-39\n",
       "  3.31146e-20  -2.24242e-19   3.61356e-20      1.83052e-19   2.29808e-39\n",
       "  1.44176e-22  -4.20328e-22   1.71664e-22      2.29808e-39   1.29513e-22"
      ]
     },
     "execution_count": 15,
     "metadata": {},
     "output_type": "execute_result"
    }
   ],
   "source": [
    "K=U₁*Diagonal(σ)\n",
    "K'*K"
   ]
  },
  {
   "cell_type": "code",
   "execution_count": 16,
   "metadata": {},
   "outputs": [
    {
     "data": {
      "text/plain": [
       "67.99890719481296"
      ]
     },
     "execution_count": 16,
     "metadata": {},
     "output_type": "execute_result"
    }
   ],
   "source": [
    "# Explain why is the residual so large.\n",
    "norm(A*U₁-U₁*Diagonal(λ))"
   ]
  },
  {
   "cell_type": "code",
   "execution_count": 17,
   "metadata": {},
   "outputs": [
    {
     "data": {
      "text/plain": [
       "1.0903942665642334e-16"
      ]
     },
     "execution_count": 17,
     "metadata": {},
     "output_type": "execute_result"
    }
   ],
   "source": [
    "# Relative residual is percfect\n",
    "norm(A*U₁-U₁*Diagonal(λ))/norm(A)"
   ]
  },
  {
   "cell_type": "code",
   "execution_count": 18,
   "metadata": {},
   "outputs": [
    {
     "data": {
      "text/plain": [
       "20×2 Array{Float64,2}:\n",
       "      6.22495e17        6.22495e17\n",
       "      3.73973e16        3.73973e16\n",
       "      4.18842e11        4.18842e11\n",
       "      1.24604e6         1.24604e6\n",
       " 190729.0          190729.0\n",
       "   3078.7            3078.7\n",
       "    943.337           943.337\n",
       "    303.624           303.624\n",
       "      0.0324829        23.8341\n",
       "      0.00290981        0.0324829\n",
       "      5.8684e-7         0.00290981\n",
       "      3.7354e-10        5.86835e-7\n",
       "      1.67425e-11       3.70478e-10\n",
       "      8.05676e-13       6.56641e-11\n",
       "      2.03386e-13       8.31129e-13\n",
       "      6.09339e-16       6.7895e-16\n",
       "      1.03927e-17       1.03439e-18\n",
       "      6.24441e-19      -4.55219e-13\n",
       "      1.83052e-19      -2.84635e-5\n",
       "      1.29513e-22      -1.65989"
      ]
     },
     "execution_count": 18,
     "metadata": {},
     "output_type": "execute_result"
    }
   ],
   "source": [
    "[λ sort(eigvals(A),rev=true)]"
   ]
  },
  {
   "cell_type": "markdown",
   "metadata": {},
   "source": [
    "### Example - Hilbert matrix\n",
    "\n",
    "We need the newest version of the package \n",
    "[SpecialMatrices.jl](https://github.com/jiahao/SpecialMatrices.jl)."
   ]
  },
  {
   "cell_type": "code",
   "execution_count": 19,
   "metadata": {},
   "outputs": [],
   "source": [
    "# Pkg.checkout(\"SpecialMatrices\")\n",
    "using SpecialMatrices"
   ]
  },
  {
   "cell_type": "code",
   "execution_count": 20,
   "metadata": {},
   "outputs": [
    {
     "data": {
      "text/latex": [
       "\\begin{tabular}\n",
       "{l | r | l}\n",
       "name & size & summary \\\\\n",
       "\\hline\n",
       "Cauchy & 40 bytes & UnionAll \\\\\n",
       "Circulant & 40 bytes & UnionAll \\\\\n",
       "Companion & 40 bytes & UnionAll \\\\\n",
       "Frobenius & 40 bytes & UnionAll \\\\\n",
       "Hankel & 40 bytes & UnionAll \\\\\n",
       "Hilbert & 40 bytes & UnionAll \\\\\n",
       "InverseHilbert & 40 bytes & UnionAll \\\\\n",
       "Kahan & 80 bytes & UnionAll \\\\\n",
       "Riemann & 40 bytes & UnionAll \\\\\n",
       "SpecialMatrices & 144.030 KiB & Module \\\\\n",
       "Strang & 40 bytes & UnionAll \\\\\n",
       "Toeplitz & 40 bytes & UnionAll \\\\\n",
       "Vandermonde & 40 bytes & UnionAll \\\\\n",
       "embed & 0 bytes & typeof(embed) \\\\\n",
       "\\end{tabular}\n"
      ],
      "text/markdown": [
       "| name            |        size | summary       |\n",
       "|:--------------- | -----------:|:------------- |\n",
       "| Cauchy          |    40 bytes | UnionAll      |\n",
       "| Circulant       |    40 bytes | UnionAll      |\n",
       "| Companion       |    40 bytes | UnionAll      |\n",
       "| Frobenius       |    40 bytes | UnionAll      |\n",
       "| Hankel          |    40 bytes | UnionAll      |\n",
       "| Hilbert         |    40 bytes | UnionAll      |\n",
       "| InverseHilbert  |    40 bytes | UnionAll      |\n",
       "| Kahan           |    80 bytes | UnionAll      |\n",
       "| Riemann         |    40 bytes | UnionAll      |\n",
       "| SpecialMatrices | 144.030 KiB | Module        |\n",
       "| Strang          |    40 bytes | UnionAll      |\n",
       "| Toeplitz        |    40 bytes | UnionAll      |\n",
       "| Vandermonde     |    40 bytes | UnionAll      |\n",
       "| embed           |     0 bytes | typeof(embed) |\n"
      ],
      "text/plain": [
       "  name                   size summary      \n",
       "  ––––––––––––––– ––––––––––– –––––––––––––\n",
       "  Cauchy             40 bytes UnionAll     \n",
       "  Circulant          40 bytes UnionAll     \n",
       "  Companion          40 bytes UnionAll     \n",
       "  Frobenius          40 bytes UnionAll     \n",
       "  Hankel             40 bytes UnionAll     \n",
       "  Hilbert            40 bytes UnionAll     \n",
       "  InverseHilbert     40 bytes UnionAll     \n",
       "  Kahan              80 bytes UnionAll     \n",
       "  Riemann            40 bytes UnionAll     \n",
       "  SpecialMatrices 144.030 KiB Module       \n",
       "  Strang             40 bytes UnionAll     \n",
       "  Toeplitz           40 bytes UnionAll     \n",
       "  Vandermonde        40 bytes UnionAll     \n",
       "  embed               0 bytes typeof(embed)"
      ]
     },
     "execution_count": 20,
     "metadata": {},
     "output_type": "execute_result"
    }
   ],
   "source": [
    "varinfo(SpecialMatrices)"
   ]
  },
  {
   "cell_type": "code",
   "execution_count": 21,
   "metadata": {},
   "outputs": [
    {
     "data": {
      "text/plain": [
       "5×5 Cauchy{Int64}:\n",
       " 1.0       0.5       0.333333  0.25      0.2\n",
       " 0.5       0.333333  0.25      0.2       0.166667\n",
       " 0.333333  0.25      0.2       0.166667  0.142857\n",
       " 0.25      0.2       0.166667  0.142857  0.125\n",
       " 0.2       0.166667  0.142857  0.125     0.111111"
      ]
     },
     "execution_count": 21,
     "metadata": {},
     "output_type": "execute_result"
    }
   ],
   "source": [
    "C=Cauchy([1,2,3,4,5],[0,1,2,3,4])"
   ]
  },
  {
   "cell_type": "code",
   "execution_count": 22,
   "metadata": {},
   "outputs": [
    {
     "data": {
      "text/plain": [
       "5×5 Hilbert{Rational{Int64}}:\n",
       " 1//1  1//2  1//3  1//4  1//5\n",
       " 1//2  1//3  1//4  1//5  1//6\n",
       " 1//3  1//4  1//5  1//6  1//7\n",
       " 1//4  1//5  1//6  1//7  1//8\n",
       " 1//5  1//6  1//7  1//8  1//9"
      ]
     },
     "execution_count": 22,
     "metadata": {},
     "output_type": "execute_result"
    }
   ],
   "source": [
    "H=Hilbert(5)"
   ]
  },
  {
   "cell_type": "code",
   "execution_count": 23,
   "metadata": {},
   "outputs": [
    {
     "data": {
      "text/plain": [
       "5×5 Array{Rational{Int64},2}:\n",
       " 1//1  1//2  1//3  1//4  1//5\n",
       " 1//2  1//3  1//4  1//5  1//6\n",
       " 1//3  1//4  1//5  1//6  1//7\n",
       " 1//4  1//5  1//6  1//7  1//8\n",
       " 1//5  1//6  1//7  1//8  1//9"
      ]
     },
     "execution_count": 23,
     "metadata": {},
     "output_type": "execute_result"
    }
   ],
   "source": [
    "Hf=Matrix(H)"
   ]
  },
  {
   "cell_type": "code",
   "execution_count": 24,
   "metadata": {},
   "outputs": [
    {
     "data": {
      "text/plain": [
       "1//266716800000"
      ]
     },
     "execution_count": 24,
     "metadata": {},
     "output_type": "execute_result"
    }
   ],
   "source": [
    "# This is exact\n",
    "det(Hf)"
   ]
  },
  {
   "cell_type": "code",
   "execution_count": 25,
   "metadata": {},
   "outputs": [
    {
     "data": {
      "text/plain": [
       "det (generic function with 31 methods)"
      ]
     },
     "execution_count": 25,
     "metadata": {},
     "output_type": "execute_result"
    }
   ],
   "source": [
    "# Exact formula for the determinant of a Cauchy matrix from Fact 7.\n",
    "import LinearAlgebra.det\n",
    "function det(C::Cauchy{T}) where T\n",
    "    n=length(C.x)\n",
    "    F=triu([(C.x[j]-C.x[i])*(C.y[j]-C.y[i]) for i=1:n, j=1:n],1)\n",
    "    num=prod(F[findall(!iszero,F)])\n",
    "    den=prod([(C.x[i]+C.y[j]) for i=1:n, j=1:n])\n",
    "    if all(isinteger,C.x)&all(isinteger,C.y)\n",
    "        return num//den\n",
    "    else\n",
    "        return num/den\n",
    "    end\n",
    "end"
   ]
  },
  {
   "cell_type": "code",
   "execution_count": 26,
   "metadata": {},
   "outputs": [
    {
     "data": {
      "text/plain": [
       "1//266716800000"
      ]
     },
     "execution_count": 26,
     "metadata": {},
     "output_type": "execute_result"
    }
   ],
   "source": [
    "det(C)"
   ]
  },
  {
   "cell_type": "markdown",
   "metadata": {},
   "source": [
    "We now compute componentwise highly accurate $A=LDL ^T$ factorization of a Hilbert (Cauchy) matrix. Using `Rational` numbers gives high accuracy."
   ]
  },
  {
   "cell_type": "code",
   "execution_count": 27,
   "metadata": {},
   "outputs": [
    {
     "data": {
      "text/plain": [
       "myLDLT (generic function with 1 method)"
      ]
     },
     "execution_count": 27,
     "metadata": {},
     "output_type": "execute_result"
    }
   ],
   "source": [
    "# Exact LDLT factorization from Fact 8, no pivoting.\n",
    "function myLDLT(C::Cauchy)\n",
    "    n=length(C.x)\n",
    "    T=typeof(C.x[1])\n",
    "    D=Array{Rational{T}}(undef,n)\n",
    "    L=Matrix{Rational{T}}(I,n,n)\n",
    "    δ=[det(Cauchy(C.x[1:j],C.y[1:j])) for j=1:n]\n",
    "    D[1]=map(Rational{T},C[1,1])\n",
    "    D[2:n]=δ[2:n]./δ[1:n-1]\n",
    "    for i=2:n\n",
    "        for j=1:i-1\n",
    "            L[i,j]=det(Cauchy( C.x[[1:j-1;i]], C.y[1:j])) / δ[j]\n",
    "        end\n",
    "    end\n",
    "    L,D\n",
    "end"
   ]
  },
  {
   "cell_type": "code",
   "execution_count": 28,
   "metadata": {},
   "outputs": [
    {
     "data": {
      "text/plain": [
       "5×5 Array{Rational{Int64},2}:\n",
       " 1//1  0//1    0//1  0//1  0//1\n",
       " 1//2  1//1    0//1  0//1  0//1\n",
       " 1//3  1//1    1//1  0//1  0//1\n",
       " 1//4  9//10   3//2  1//1  0//1\n",
       " 1//5  4//5   12//7  2//1  1//1"
      ]
     },
     "execution_count": 28,
     "metadata": {},
     "output_type": "execute_result"
    }
   ],
   "source": [
    "L,D=myLDLT(C)\n",
    "L"
   ]
  },
  {
   "cell_type": "code",
   "execution_count": 29,
   "metadata": {},
   "outputs": [
    {
     "data": {
      "text/plain": [
       "5-element Array{Rational{Int64},1}:\n",
       " 1//1\n",
       " 1//12\n",
       " 1//180\n",
       " 1//2800\n",
       " 1//44100"
      ]
     },
     "execution_count": 29,
     "metadata": {},
     "output_type": "execute_result"
    }
   ],
   "source": [
    "D"
   ]
  },
  {
   "cell_type": "code",
   "execution_count": 30,
   "metadata": {},
   "outputs": [
    {
     "data": {
      "text/plain": [
       "5×5 Array{Rational{Int64},2}:\n",
       " 1//1  1//2  1//3  1//4  1//5\n",
       " 1//2  1//3  1//4  1//5  1//6\n",
       " 1//3  1//4  1//5  1//6  1//7\n",
       " 1//4  1//5  1//6  1//7  1//8\n",
       " 1//5  1//6  1//7  1//8  1//9"
      ]
     },
     "execution_count": 30,
     "metadata": {},
     "output_type": "execute_result"
    }
   ],
   "source": [
    "L*Diagonal(D)*L' # -Matrix(H)"
   ]
  },
  {
   "cell_type": "code",
   "execution_count": 31,
   "metadata": {},
   "outputs": [
    {
     "data": {
      "text/plain": [
       "11.858245826148897"
      ]
     },
     "execution_count": 31,
     "metadata": {},
     "output_type": "execute_result"
    }
   ],
   "source": [
    "# L*D*L' is an RRD\n",
    "cond(L)"
   ]
  },
  {
   "cell_type": "code",
   "execution_count": 32,
   "metadata": {},
   "outputs": [
    {
     "data": {
      "text/plain": [
       "476607.25024259434"
      ]
     },
     "execution_count": 32,
     "metadata": {},
     "output_type": "execute_result"
    }
   ],
   "source": [
    "cond(C)"
   ]
  },
  {
   "cell_type": "markdown",
   "metadata": {},
   "source": [
    "We now compute the accurate EVD of the Hilbert matrix of order $n=100$. We cannot use the function `myLDLT()` since the _computation of determinant causes overflow_ and _there is no pivoting_. Instead, we use Algorithm 3 from\n",
    "[J. Demmel, Computing the singular value decomposition with high relative accuracy][Dem99].\n",
    "\n",
    "[Dem99]: http://www.netlib.org/lapack/lawnspdf/lawn130.pdf \"J. Demmel, 'Computing the singular value decomposition with high relative accuracy', Lapack Working Note 130, SIAM J. Matrix Anal. Appl, 21 (1999) 562-580.\""
   ]
  },
  {
   "cell_type": "code",
   "execution_count": 33,
   "metadata": {},
   "outputs": [
    {
     "data": {
      "text/plain": [
       "myGECP (generic function with 1 method)"
      ]
     },
     "execution_count": 33,
     "metadata": {},
     "output_type": "execute_result"
    }
   ],
   "source": [
    "function myGECP(C::Cauchy)\n",
    "    n=length(C.x)\n",
    "    G=Matrix(C)\n",
    "    x=copy(C.x)\n",
    "    y=copy(C.y)\n",
    "    pr=collect(1:n)\n",
    "    pc=collect(1:n)\n",
    "    # Find the maximal element\n",
    "    for k=1:n-1\n",
    "        i,j=Tuple(argmax(abs.(G[k:n,k:n])))\n",
    "        i+=k-1\n",
    "        j+=k-1\n",
    "        if i!=k || j!=k\n",
    "            G[[i,k],:]=G[[k,i],:]\n",
    "            G[:, [j,k]]=G[:, [k,j]]\n",
    "            x[[k,i]]=x[[i,k]]\n",
    "            y[[k,j]]=y[[j,k]]\n",
    "            pr[[i,k]]=pr[[k,i]]\n",
    "            pc[[j,k]]=pc[[k,j]]\n",
    "        end\n",
    "        for r=k+1:n\n",
    "            for s=k+1:n\n",
    "                G[r,s]=G[r,s]*(x[r]-x[k])*(y[s]-y[k])/\n",
    "                ((x[k]+y[s])*(x[r]+y[k]))\n",
    "            end\n",
    "        end\n",
    "        G=Matrix(Symmetric(G))\n",
    "    end\n",
    "    D=diag(G)\n",
    "    X=tril(G,-1)*Diagonal(1.0./D)+I\n",
    "    Y=Diagonal(1.0./D)*triu(G,1)+I\n",
    "    X,D,Y', pr,pc\n",
    "end"
   ]
  },
  {
   "cell_type": "code",
   "execution_count": 34,
   "metadata": {},
   "outputs": [
    {
     "data": {
      "text/plain": [
       "8×8 Cauchy{Int64}:\n",
       " 1.0       0.5       0.333333  0.25       …  0.166667   0.142857   0.125\n",
       " 0.5       0.333333  0.25      0.2           0.142857   0.125      0.111111\n",
       " 0.333333  0.25      0.2       0.166667      0.125      0.111111   0.1\n",
       " 0.25      0.2       0.166667  0.142857      0.111111   0.1        0.0909091\n",
       " 0.2       0.166667  0.142857  0.125         0.1        0.0909091  0.0833333\n",
       " 0.166667  0.142857  0.125     0.111111   …  0.0909091  0.0833333  0.0769231\n",
       " 0.142857  0.125     0.111111  0.1           0.0833333  0.0769231  0.0714286\n",
       " 0.125     0.111111  0.1       0.0909091     0.0769231  0.0714286  0.0666667"
      ]
     },
     "execution_count": 34,
     "metadata": {},
     "output_type": "execute_result"
    }
   ],
   "source": [
    "# First a smaller test\n",
    "l=8\n",
    "C=Cauchy(collect(1:l),collect(0:l-1))"
   ]
  },
  {
   "cell_type": "code",
   "execution_count": 35,
   "metadata": {},
   "outputs": [
    {
     "data": {
      "text/plain": [
       "([1.0 0.0 … 0.0 0.0; 0.3333333333333333 1.0 … 0.0 0.0; … ; 0.14285714285714285 0.7142857142857142 … 1.0 0.0; 0.16666666666666666 0.78125 … 0.7129629629629629 1.0], [1.0, 0.08888888888888889, 0.012760416666666665, 0.0023148148148148147, 9.070294784580499e-5, 7.378984651711925e-7, 6.619407626563736e-8, 2.3529734559445584e-10], [1.0 0.0 … 0.0 0.0; 0.3333333333333333 1.0 … 0.0 0.0; … ; 0.14285714285714285 0.7142857142857142 … 1.0 0.0; 0.16666666666666666 0.78125 … 0.7129629629629629 1.0], [1, 3, 8, 2, 5, 4, 7, 6], [1, 3, 8, 2, 5, 4, 7, 6])"
      ]
     },
     "execution_count": 35,
     "metadata": {},
     "output_type": "execute_result"
    }
   ],
   "source": [
    "X,D,Y,pr,pc=myGECP(C)"
   ]
  },
  {
   "cell_type": "code",
   "execution_count": 36,
   "metadata": {},
   "outputs": [
    {
     "data": {
      "text/plain": [
       "1.1527756336890508e-16"
      ]
     },
     "execution_count": 36,
     "metadata": {},
     "output_type": "execute_result"
    }
   ],
   "source": [
    "norm((X*Diagonal(D)*Y')-Matrix(C)[pr,pc])"
   ]
  },
  {
   "cell_type": "code",
   "execution_count": 37,
   "metadata": {},
   "outputs": [
    {
     "data": {
      "text/plain": [
       "1.1527756336890508e-16"
      ]
     },
     "execution_count": 37,
     "metadata": {},
     "output_type": "execute_result"
    }
   ],
   "source": [
    "norm(X[invperm(pr),:]*Diagonal(D)*Y[invperm(pc),:]'-Matrix(C))"
   ]
  },
  {
   "cell_type": "code",
   "execution_count": 38,
   "metadata": {},
   "outputs": [
    {
     "data": {
      "text/plain": [
       "100×100 Cauchy{Int64}:\n",
       " 1.0        0.5         0.333333    …  0.0102041   0.010101    0.01\n",
       " 0.5        0.333333    0.25           0.010101    0.01        0.00990099\n",
       " 0.333333   0.25        0.2            0.01        0.00990099  0.00980392\n",
       " 0.25       0.2         0.166667       0.00990099  0.00980392  0.00970874\n",
       " 0.2        0.166667    0.142857       0.00980392  0.00970874  0.00961538\n",
       " 0.166667   0.142857    0.125       …  0.00970874  0.00961538  0.00952381\n",
       " 0.142857   0.125       0.111111       0.00961538  0.00952381  0.00943396\n",
       " 0.125      0.111111    0.1            0.00952381  0.00943396  0.00934579\n",
       " 0.111111   0.1         0.0909091      0.00943396  0.00934579  0.00925926\n",
       " 0.1        0.0909091   0.0833333      0.00934579  0.00925926  0.00917431\n",
       " 0.0909091  0.0833333   0.0769231   …  0.00925926  0.00917431  0.00909091\n",
       " 0.0833333  0.0769231   0.0714286      0.00917431  0.00909091  0.00900901\n",
       " 0.0769231  0.0714286   0.0666667      0.00909091  0.00900901  0.00892857\n",
       " ⋮                                  ⋱                          \n",
       " 0.011236   0.0111111   0.010989       0.00537634  0.00534759  0.00531915\n",
       " 0.0111111  0.010989    0.0108696      0.00534759  0.00531915  0.00529101\n",
       " 0.010989   0.0108696   0.0107527   …  0.00531915  0.00529101  0.00526316\n",
       " 0.0108696  0.0107527   0.0106383      0.00529101  0.00526316  0.0052356\n",
       " 0.0107527  0.0106383   0.0105263      0.00526316  0.0052356   0.00520833\n",
       " 0.0106383  0.0105263   0.0104167      0.0052356   0.00520833  0.00518135\n",
       " 0.0105263  0.0104167   0.0103093      0.00520833  0.00518135  0.00515464\n",
       " 0.0104167  0.0103093   0.0102041   …  0.00518135  0.00515464  0.00512821\n",
       " 0.0103093  0.0102041   0.010101       0.00515464  0.00512821  0.00510204\n",
       " 0.0102041  0.010101    0.01           0.00512821  0.00510204  0.00507614\n",
       " 0.010101   0.01        0.00990099     0.00510204  0.00507614  0.00505051\n",
       " 0.01       0.00990099  0.00980392     0.00507614  0.00505051  0.00502513"
      ]
     },
     "execution_count": 38,
     "metadata": {},
     "output_type": "execute_result"
    }
   ],
   "source": [
    "# Now the big test.\n",
    "n=100\n",
    "H=Hilbert(n)\n",
    "C=Cauchy(collect(1:n), collect(0:n-1))"
   ]
  },
  {
   "cell_type": "markdown",
   "metadata": {},
   "source": [
    "We need a function to compute RRD from `myGECP()`"
   ]
  },
  {
   "cell_type": "code",
   "execution_count": 39,
   "metadata": {},
   "outputs": [
    {
     "data": {
      "text/plain": [
       "myRRD (generic function with 1 method)"
      ]
     },
     "execution_count": 39,
     "metadata": {},
     "output_type": "execute_result"
    }
   ],
   "source": [
    "function myRRD(C::Cauchy)\n",
    "    X,D,Y,pr,pc=myGECP(C)\n",
    "    X[invperm(pr),:], D, Y[invperm(pc),:]\n",
    "end"
   ]
  },
  {
   "cell_type": "code",
   "execution_count": 40,
   "metadata": {},
   "outputs": [],
   "source": [
    "X,D,Y=myRRD(C);"
   ]
  },
  {
   "cell_type": "code",
   "execution_count": 41,
   "metadata": {},
   "outputs": [
    {
     "data": {
      "text/plain": [
       "3.063076649054158e-16"
      ]
     },
     "execution_count": 41,
     "metadata": {},
     "output_type": "execute_result"
    }
   ],
   "source": [
    "# Check\n",
    "norm((X*Diagonal(D)*Y')-Matrix(C))"
   ]
  },
  {
   "cell_type": "code",
   "execution_count": 42,
   "metadata": {},
   "outputs": [
    {
     "data": {
      "text/plain": [
       "2.209807011860762e19"
      ]
     },
     "execution_count": 42,
     "metadata": {},
     "output_type": "execute_result"
    }
   ],
   "source": [
    "cond(C)"
   ]
  },
  {
   "cell_type": "code",
   "execution_count": 43,
   "metadata": {},
   "outputs": [
    {
     "data": {
      "text/plain": [
       "(72.24644120521842, 72.24644120521842)"
      ]
     },
     "execution_count": 43,
     "metadata": {},
     "output_type": "execute_result"
    }
   ],
   "source": [
    "# Is this RRD? here X=Y\n",
    "cond(X), cond(Y)"
   ]
  },
  {
   "cell_type": "code",
   "execution_count": 44,
   "metadata": {},
   "outputs": [
    {
     "data": {
      "text/plain": [
       "myRRDSVD (generic function with 1 method)"
      ]
     },
     "execution_count": 44,
     "metadata": {},
     "output_type": "execute_result"
    }
   ],
   "source": [
    "# Algorithm from Fact 3\n",
    "function myRRDSVD(X,D,Y)\n",
    "    Q,R,p=qr(X*Diagonal(D),Val(true))\n",
    "    W=R[:,p]*Y'\n",
    "    V,σ,U₁=myJacobiR(W')\n",
    "    U=Q*U₁\n",
    "    U,σ,V\n",
    "end"
   ]
  },
  {
   "cell_type": "code",
   "execution_count": 45,
   "metadata": {
    "scrolled": true
   },
   "outputs": [],
   "source": [
    "U,σ,V=myRRDSVD(X,D,Y);"
   ]
  },
  {
   "cell_type": "code",
   "execution_count": 46,
   "metadata": {},
   "outputs": [
    {
     "data": {
      "text/plain": [
       "(4.344717174330543e-5, 1.5597318971917562e-14, 2.8150313546075273e-5)"
      ]
     },
     "execution_count": 46,
     "metadata": {},
     "output_type": "execute_result"
    }
   ],
   "source": [
    "# Check residual and orthogonality\n",
    "norm(Matrix(C)*V-U*Diagonal(σ)), norm(U'*U-I), norm(V'*V-I)"
   ]
  },
  {
   "cell_type": "code",
   "execution_count": 47,
   "metadata": {},
   "outputs": [
    {
     "data": {
      "text/plain": [
       "100×3 Array{Float64,2}:\n",
       " 5.7797e-151   9.87732e-20  -4.33965e-16\n",
       " 1.29735e-147  2.43276e-19  -3.88646e-16\n",
       " 1.44439e-144  3.81207e-19  -3.2957e-16\n",
       " 1.06342e-141  4.37274e-19  -2.36428e-16\n",
       " 5.82434e-139  4.9596e-19   -1.52442e-16\n",
       " 2.5311e-136   6.63107e-19  -1.22891e-16\n",
       " 9.09071e-134  8.3494e-19   -1.0907e-16\n",
       " 2.77536e-131  8.97432e-19  -8.46881e-17\n",
       " 7.35195e-129  1.06175e-18  -6.79789e-17\n",
       " 1.71656e-126  1.18149e-18  -6.2771e-17\n",
       " 3.57648e-124  1.26493e-18  -5.90783e-17\n",
       " 6.71629e-122  1.45426e-18  -5.19094e-17\n",
       " 1.14619e-119  1.4791e-18   -4.34161e-17\n",
       " ⋮                          \n",
       " 2.41265e-8    2.41265e-8    2.41265e-8\n",
       " 1.78872e-7    1.78872e-7    1.78872e-7\n",
       " 1.26617e-6    1.26617e-6    1.26617e-6\n",
       " 8.53628e-6    8.53628e-6    8.53628e-6\n",
       " 5.46453e-5    5.46453e-5    5.46453e-5\n",
       " 0.000330868   0.000330868   0.000330868\n",
       " 0.00188506    0.00188506    0.00188506\n",
       " 0.0100318     0.0100318     0.0100318\n",
       " 0.0492923     0.0492923     0.0492923\n",
       " 0.218596      0.218596      0.218596\n",
       " 0.821446      0.821446      0.821446\n",
       " 2.1827        2.1827        2.1827"
      ]
     },
     "execution_count": 47,
     "metadata": {},
     "output_type": "execute_result"
    }
   ],
   "source": [
    "# Observe the difference!!\n",
    "[sort(σ) sort(svdvals(C)) sort(eigvals(Matrix(C)))]"
   ]
  },
  {
   "cell_type": "code",
   "execution_count": 48,
   "metadata": {},
   "outputs": [],
   "source": [
    "# Plot the eigenvalues (singular values) and left singular vectors\n",
    "using Plots"
   ]
  },
  {
   "cell_type": "code",
   "execution_count": 49,
   "metadata": {},
   "outputs": [
    {
     "data": {
      "image/svg+xml": [
       "<?xml version=\"1.0\" encoding=\"utf-8\"?>\n",
       "<svg xmlns=\"http://www.w3.org/2000/svg\" xmlns:xlink=\"http://www.w3.org/1999/xlink\" width=\"600\" height=\"400\" viewBox=\"0 0 2400 1600\">\n",
       "<defs>\n",
       "  <clipPath id=\"clip970\">\n",
       "    <rect x=\"0\" y=\"0\" width=\"2400\" height=\"1600\"/>\n",
       "  </clipPath>\n",
       "</defs>\n",
       "<path clip-path=\"url(#clip970)\" d=\"\n",
       "M0 1600 L2400 1600 L2400 0 L0 0  Z\n",
       "  \" fill=\"#ffffff\" fill-rule=\"evenodd\" fill-opacity=\"1\"/>\n",
       "<defs>\n",
       "  <clipPath id=\"clip971\">\n",
       "    <rect x=\"480\" y=\"0\" width=\"1681\" height=\"1600\"/>\n",
       "  </clipPath>\n",
       "</defs>\n",
       "<path clip-path=\"url(#clip970)\" d=\"\n",
       "M263.889 1486.45 L2352.76 1486.45 L2352.76 47.2441 L263.889 47.2441  Z\n",
       "  \" fill=\"#ffffff\" fill-rule=\"evenodd\" fill-opacity=\"1\"/>\n",
       "<defs>\n",
       "  <clipPath id=\"clip972\">\n",
       "    <rect x=\"263\" y=\"47\" width=\"2090\" height=\"1440\"/>\n",
       "  </clipPath>\n",
       "</defs>\n",
       "<polyline clip-path=\"url(#clip972)\" style=\"stroke:#000000; stroke-width:2; stroke-opacity:0.1; fill:none\" points=\"\n",
       "  303.103,1486.45 303.103,47.2441 \n",
       "  \"/>\n",
       "<polyline clip-path=\"url(#clip972)\" style=\"stroke:#000000; stroke-width:2; stroke-opacity:0.1; fill:none\" points=\"\n",
       "  800.736,1486.45 800.736,47.2441 \n",
       "  \"/>\n",
       "<polyline clip-path=\"url(#clip972)\" style=\"stroke:#000000; stroke-width:2; stroke-opacity:0.1; fill:none\" points=\"\n",
       "  1298.37,1486.45 1298.37,47.2441 \n",
       "  \"/>\n",
       "<polyline clip-path=\"url(#clip972)\" style=\"stroke:#000000; stroke-width:2; stroke-opacity:0.1; fill:none\" points=\"\n",
       "  1796,1486.45 1796,47.2441 \n",
       "  \"/>\n",
       "<polyline clip-path=\"url(#clip972)\" style=\"stroke:#000000; stroke-width:2; stroke-opacity:0.1; fill:none\" points=\"\n",
       "  2293.64,1486.45 2293.64,47.2441 \n",
       "  \"/>\n",
       "<polyline clip-path=\"url(#clip972)\" style=\"stroke:#000000; stroke-width:2; stroke-opacity:0.1; fill:none\" points=\"\n",
       "  263.889,1443.57 2352.76,1443.57 \n",
       "  \"/>\n",
       "<polyline clip-path=\"url(#clip972)\" style=\"stroke:#000000; stroke-width:2; stroke-opacity:0.1; fill:none\" points=\"\n",
       "  263.889,992.724 2352.76,992.724 \n",
       "  \"/>\n",
       "<polyline clip-path=\"url(#clip972)\" style=\"stroke:#000000; stroke-width:2; stroke-opacity:0.1; fill:none\" points=\"\n",
       "  263.889,541.878 2352.76,541.878 \n",
       "  \"/>\n",
       "<polyline clip-path=\"url(#clip972)\" style=\"stroke:#000000; stroke-width:2; stroke-opacity:0.1; fill:none\" points=\"\n",
       "  263.889,91.0329 2352.76,91.0329 \n",
       "  \"/>\n",
       "<polyline clip-path=\"url(#clip970)\" style=\"stroke:#000000; stroke-width:4; stroke-opacity:1; fill:none\" points=\"\n",
       "  263.889,1486.45 2352.76,1486.45 \n",
       "  \"/>\n",
       "<polyline clip-path=\"url(#clip970)\" style=\"stroke:#000000; stroke-width:4; stroke-opacity:1; fill:none\" points=\"\n",
       "  263.889,1486.45 263.889,47.2441 \n",
       "  \"/>\n",
       "<polyline clip-path=\"url(#clip970)\" style=\"stroke:#000000; stroke-width:4; stroke-opacity:1; fill:none\" points=\"\n",
       "  303.103,1486.45 303.103,1469.18 \n",
       "  \"/>\n",
       "<polyline clip-path=\"url(#clip970)\" style=\"stroke:#000000; stroke-width:4; stroke-opacity:1; fill:none\" points=\"\n",
       "  800.736,1486.45 800.736,1469.18 \n",
       "  \"/>\n",
       "<polyline clip-path=\"url(#clip970)\" style=\"stroke:#000000; stroke-width:4; stroke-opacity:1; fill:none\" points=\"\n",
       "  1298.37,1486.45 1298.37,1469.18 \n",
       "  \"/>\n",
       "<polyline clip-path=\"url(#clip970)\" style=\"stroke:#000000; stroke-width:4; stroke-opacity:1; fill:none\" points=\"\n",
       "  1796,1486.45 1796,1469.18 \n",
       "  \"/>\n",
       "<polyline clip-path=\"url(#clip970)\" style=\"stroke:#000000; stroke-width:4; stroke-opacity:1; fill:none\" points=\"\n",
       "  2293.64,1486.45 2293.64,1469.18 \n",
       "  \"/>\n",
       "<polyline clip-path=\"url(#clip970)\" style=\"stroke:#000000; stroke-width:4; stroke-opacity:1; fill:none\" points=\"\n",
       "  263.889,1443.57 288.956,1443.57 \n",
       "  \"/>\n",
       "<polyline clip-path=\"url(#clip970)\" style=\"stroke:#000000; stroke-width:4; stroke-opacity:1; fill:none\" points=\"\n",
       "  263.889,992.724 288.956,992.724 \n",
       "  \"/>\n",
       "<polyline clip-path=\"url(#clip970)\" style=\"stroke:#000000; stroke-width:4; stroke-opacity:1; fill:none\" points=\"\n",
       "  263.889,541.878 288.956,541.878 \n",
       "  \"/>\n",
       "<polyline clip-path=\"url(#clip970)\" style=\"stroke:#000000; stroke-width:4; stroke-opacity:1; fill:none\" points=\"\n",
       "  263.889,91.0329 288.956,91.0329 \n",
       "  \"/>\n",
       "<path clip-path=\"url(#clip970)\" d=\"M 0 0 M303.103 1508.44 Q299.492 1508.44 297.663 1512 Q295.858 1515.55 295.858 1522.67 Q295.858 1529.78 297.663 1533.35 Q299.492 1536.89 303.103 1536.89 Q306.737 1536.89 308.543 1533.35 Q310.371 1529.78 310.371 1522.67 Q310.371 1515.55 308.543 1512 Q306.737 1508.44 303.103 1508.44 M303.103 1504.73 Q308.913 1504.73 311.969 1509.34 Q315.047 1513.92 315.047 1522.67 Q315.047 1531.4 311.969 1536.01 Q308.913 1540.59 303.103 1540.59 Q297.293 1540.59 294.214 1536.01 Q291.158 1531.4 291.158 1522.67 Q291.158 1513.92 294.214 1509.34 Q297.293 1504.73 303.103 1504.73 Z\" fill=\"#000000\" fill-rule=\"evenodd\" fill-opacity=\"1\" /><path clip-path=\"url(#clip970)\" d=\"M 0 0 M782.38 1535.98 L798.699 1535.98 L798.699 1539.92 L776.755 1539.92 L776.755 1535.98 Q779.417 1533.23 784 1528.6 Q788.607 1523.95 789.787 1522.61 Q792.033 1520.08 792.912 1518.35 Q793.815 1516.59 793.815 1514.9 Q793.815 1512.14 791.871 1510.41 Q789.949 1508.67 786.848 1508.67 Q784.649 1508.67 782.195 1509.43 Q779.764 1510.2 776.987 1511.75 L776.987 1507.03 Q779.811 1505.89 782.264 1505.31 Q784.718 1504.73 786.755 1504.73 Q792.125 1504.73 795.32 1507.42 Q798.514 1510.11 798.514 1514.6 Q798.514 1516.73 797.704 1518.65 Q796.917 1520.54 794.811 1523.14 Q794.232 1523.81 791.13 1527.03 Q788.028 1530.22 782.38 1535.98 Z\" fill=\"#000000\" fill-rule=\"evenodd\" fill-opacity=\"1\" /><path clip-path=\"url(#clip970)\" d=\"M 0 0 M803.815 1505.36 L822.171 1505.36 L822.171 1509.3 L808.097 1509.3 L808.097 1517.77 Q809.116 1517.42 810.134 1517.26 Q811.153 1517.07 812.172 1517.07 Q817.959 1517.07 821.338 1520.24 Q824.718 1523.42 824.718 1528.83 Q824.718 1534.41 821.246 1537.51 Q817.773 1540.59 811.454 1540.59 Q809.278 1540.59 807.01 1540.22 Q804.764 1539.85 802.357 1539.11 L802.357 1534.41 Q804.44 1535.54 806.662 1536.1 Q808.885 1536.66 811.361 1536.66 Q815.366 1536.66 817.704 1534.55 Q820.042 1532.44 820.042 1528.83 Q820.042 1525.22 817.704 1523.11 Q815.366 1521.01 811.361 1521.01 Q809.486 1521.01 807.611 1521.42 Q805.76 1521.84 803.815 1522.72 L803.815 1505.36 Z\" fill=\"#000000\" fill-rule=\"evenodd\" fill-opacity=\"1\" /><path clip-path=\"url(#clip970)\" d=\"M 0 0 M1275.14 1505.36 L1293.5 1505.36 L1293.5 1509.3 L1279.42 1509.3 L1279.42 1517.77 Q1280.44 1517.42 1281.46 1517.26 Q1282.48 1517.07 1283.5 1517.07 Q1289.28 1517.07 1292.66 1520.24 Q1296.04 1523.42 1296.04 1528.83 Q1296.04 1534.41 1292.57 1537.51 Q1289.1 1540.59 1282.78 1540.59 Q1280.6 1540.59 1278.34 1540.22 Q1276.09 1539.85 1273.68 1539.11 L1273.68 1534.41 Q1275.77 1535.54 1277.99 1536.1 Q1280.21 1536.66 1282.69 1536.66 Q1286.69 1536.66 1289.03 1534.55 Q1291.37 1532.44 1291.37 1528.83 Q1291.37 1525.22 1289.03 1523.11 Q1286.69 1521.01 1282.69 1521.01 Q1280.81 1521.01 1278.94 1521.42 Q1277.09 1521.84 1275.14 1522.72 L1275.14 1505.36 Z\" fill=\"#000000\" fill-rule=\"evenodd\" fill-opacity=\"1\" /><path clip-path=\"url(#clip970)\" d=\"M 0 0 M1311.11 1508.44 Q1307.5 1508.44 1305.67 1512 Q1303.87 1515.55 1303.87 1522.67 Q1303.87 1529.78 1305.67 1533.35 Q1307.5 1536.89 1311.11 1536.89 Q1314.75 1536.89 1316.55 1533.35 Q1318.38 1529.78 1318.38 1522.67 Q1318.38 1515.55 1316.55 1512 Q1314.75 1508.44 1311.11 1508.44 M1311.11 1504.73 Q1316.92 1504.73 1319.98 1509.34 Q1323.06 1513.92 1323.06 1522.67 Q1323.06 1531.4 1319.98 1536.01 Q1316.92 1540.59 1311.11 1540.59 Q1305.3 1540.59 1302.22 1536.01 Q1299.17 1531.4 1299.17 1522.67 Q1299.17 1513.92 1302.22 1509.34 Q1305.3 1504.73 1311.11 1504.73 Z\" fill=\"#000000\" fill-rule=\"evenodd\" fill-opacity=\"1\" /><path clip-path=\"url(#clip970)\" d=\"M 0 0 M1771.88 1505.36 L1794.11 1505.36 L1794.11 1507.35 L1781.56 1539.92 L1776.67 1539.92 L1788.48 1509.3 L1771.88 1509.3 L1771.88 1505.36 Z\" fill=\"#000000\" fill-rule=\"evenodd\" fill-opacity=\"1\" /><path clip-path=\"url(#clip970)\" d=\"M 0 0 M1799.22 1505.36 L1817.58 1505.36 L1817.58 1509.3 L1803.5 1509.3 L1803.5 1517.77 Q1804.52 1517.42 1805.54 1517.26 Q1806.56 1517.07 1807.58 1517.07 Q1813.36 1517.07 1816.74 1520.24 Q1820.12 1523.42 1820.12 1528.83 Q1820.12 1534.41 1816.65 1537.51 Q1813.18 1540.59 1806.86 1540.59 Q1804.68 1540.59 1802.42 1540.22 Q1800.17 1539.85 1797.76 1539.11 L1797.76 1534.41 Q1799.85 1535.54 1802.07 1536.1 Q1804.29 1536.66 1806.77 1536.66 Q1810.77 1536.66 1813.11 1534.55 Q1815.45 1532.44 1815.45 1528.83 Q1815.45 1525.22 1813.11 1523.11 Q1810.77 1521.01 1806.77 1521.01 Q1804.89 1521.01 1803.02 1521.42 Q1801.17 1521.84 1799.22 1522.72 L1799.22 1505.36 Z\" fill=\"#000000\" fill-rule=\"evenodd\" fill-opacity=\"1\" /><path clip-path=\"url(#clip970)\" d=\"M 0 0 M2257.01 1535.98 L2264.64 1535.98 L2264.64 1509.62 L2256.33 1511.29 L2256.33 1507.03 L2264.6 1505.36 L2269.27 1505.36 L2269.27 1535.98 L2276.91 1535.98 L2276.91 1539.92 L2257.01 1539.92 L2257.01 1535.98 Z\" fill=\"#000000\" fill-rule=\"evenodd\" fill-opacity=\"1\" /><path clip-path=\"url(#clip970)\" d=\"M 0 0 M2291.98 1508.44 Q2288.37 1508.44 2286.54 1512 Q2284.74 1515.55 2284.74 1522.67 Q2284.74 1529.78 2286.54 1533.35 Q2288.37 1536.89 2291.98 1536.89 Q2295.62 1536.89 2297.42 1533.35 Q2299.25 1529.78 2299.25 1522.67 Q2299.25 1515.55 2297.42 1512 Q2295.62 1508.44 2291.98 1508.44 M2291.98 1504.73 Q2297.79 1504.73 2300.85 1509.34 Q2303.93 1513.92 2303.93 1522.67 Q2303.93 1531.4 2300.85 1536.01 Q2297.79 1540.59 2291.98 1540.59 Q2286.17 1540.59 2283.09 1536.01 Q2280.04 1531.4 2280.04 1522.67 Q2280.04 1513.92 2283.09 1509.34 Q2286.17 1504.73 2291.98 1504.73 Z\" fill=\"#000000\" fill-rule=\"evenodd\" fill-opacity=\"1\" /><path clip-path=\"url(#clip970)\" d=\"M 0 0 M2319 1508.44 Q2315.38 1508.44 2313.56 1512 Q2311.75 1515.55 2311.75 1522.67 Q2311.75 1529.78 2313.56 1533.35 Q2315.38 1536.89 2319 1536.89 Q2322.63 1536.89 2324.44 1533.35 Q2326.26 1529.78 2326.26 1522.67 Q2326.26 1515.55 2324.44 1512 Q2322.63 1508.44 2319 1508.44 M2319 1504.73 Q2324.81 1504.73 2327.86 1509.34 Q2330.94 1513.92 2330.94 1522.67 Q2330.94 1531.4 2327.86 1536.01 Q2324.81 1540.59 2319 1540.59 Q2313.19 1540.59 2310.11 1536.01 Q2307.05 1531.4 2307.05 1522.67 Q2307.05 1513.92 2310.11 1509.34 Q2313.19 1504.73 2319 1504.73 Z\" fill=\"#000000\" fill-rule=\"evenodd\" fill-opacity=\"1\" /><path clip-path=\"url(#clip970)\" d=\"M 0 0 M109.048 1463.36 L116.687 1463.36 L116.687 1437 L108.377 1438.66 L108.377 1434.4 L116.641 1432.74 L121.316 1432.74 L121.316 1463.36 L128.955 1463.36 L128.955 1467.3 L109.048 1467.3 L109.048 1463.36 Z\" fill=\"#000000\" fill-rule=\"evenodd\" fill-opacity=\"1\" /><path clip-path=\"url(#clip970)\" d=\"M 0 0 M144.025 1435.82 Q140.414 1435.82 138.585 1439.38 Q136.779 1442.92 136.779 1450.05 Q136.779 1457.16 138.585 1460.72 Q140.414 1464.26 144.025 1464.26 Q147.659 1464.26 149.464 1460.72 Q151.293 1457.16 151.293 1450.05 Q151.293 1442.92 149.464 1439.38 Q147.659 1435.82 144.025 1435.82 M144.025 1432.11 Q149.835 1432.11 152.89 1436.72 Q155.969 1441.3 155.969 1450.05 Q155.969 1458.78 152.89 1463.38 Q149.835 1467.97 144.025 1467.97 Q138.215 1467.97 135.136 1463.38 Q132.08 1458.78 132.08 1450.05 Q132.08 1441.3 135.136 1436.72 Q138.215 1432.11 144.025 1432.11 Z\" fill=\"#000000\" fill-rule=\"evenodd\" fill-opacity=\"1\" /><path clip-path=\"url(#clip970)\" d=\"M 0 0 M155.969 1427.79 L166.106 1427.79 L166.106 1430.88 L155.969 1430.88 L155.969 1427.79 Z\" fill=\"#000000\" fill-rule=\"evenodd\" fill-opacity=\"1\" /><path clip-path=\"url(#clip970)\" d=\"M 0 0 M180.626 1436.69 L186.833 1436.69 L186.833 1415.27 L180.081 1416.62 L180.081 1413.16 L186.795 1411.81 L190.594 1411.81 L190.594 1436.69 L196.801 1436.69 L196.801 1439.89 L180.626 1439.89 L180.626 1436.69 Z\" fill=\"#000000\" fill-rule=\"evenodd\" fill-opacity=\"1\" /><path clip-path=\"url(#clip970)\" d=\"M 0 0 M200.957 1411.81 L215.872 1411.81 L215.872 1415 L204.437 1415 L204.437 1421.89 Q205.264 1421.6 206.092 1421.47 Q206.919 1421.32 207.747 1421.32 Q212.449 1421.32 215.195 1423.9 Q217.941 1426.48 217.941 1430.88 Q217.941 1435.41 215.119 1437.93 Q212.298 1440.43 207.164 1440.43 Q205.396 1440.43 203.553 1440.13 Q201.728 1439.83 199.772 1439.23 L199.772 1435.41 Q201.465 1436.33 203.271 1436.78 Q205.076 1437.23 207.089 1437.23 Q210.342 1437.23 212.242 1435.52 Q214.141 1433.81 214.141 1430.88 Q214.141 1427.94 212.242 1426.23 Q210.342 1424.52 207.089 1424.52 Q205.565 1424.52 204.042 1424.86 Q202.537 1425.2 200.957 1425.91 L200.957 1411.81 Z\" fill=\"#000000\" fill-rule=\"evenodd\" fill-opacity=\"1\" /><path clip-path=\"url(#clip970)\" d=\"M 0 0 M230.185 1414.31 Q227.251 1414.31 225.765 1417.2 Q224.298 1420.08 224.298 1425.87 Q224.298 1431.65 225.765 1434.54 Q227.251 1437.42 230.185 1437.42 Q233.137 1437.42 234.604 1434.54 Q236.09 1431.65 236.09 1425.87 Q236.09 1420.08 234.604 1417.2 Q233.137 1414.31 230.185 1414.31 M230.185 1411.3 Q234.905 1411.3 237.388 1415.04 Q239.889 1418.76 239.889 1425.87 Q239.889 1432.96 237.388 1436.71 Q234.905 1440.43 230.185 1440.43 Q225.464 1440.43 222.962 1436.71 Q220.48 1432.96 220.48 1425.87 Q220.48 1418.76 222.962 1415.04 Q225.464 1411.3 230.185 1411.3 Z\" fill=\"#000000\" fill-rule=\"evenodd\" fill-opacity=\"1\" /><path clip-path=\"url(#clip970)\" d=\"M 0 0 M108.239 1012.52 L115.878 1012.52 L115.878 986.15 L107.568 987.817 L107.568 983.558 L115.832 981.891 L120.508 981.891 L120.508 1012.52 L128.147 1012.52 L128.147 1016.45 L108.239 1016.45 L108.239 1012.52 Z\" fill=\"#000000\" fill-rule=\"evenodd\" fill-opacity=\"1\" /><path clip-path=\"url(#clip970)\" d=\"M 0 0 M143.216 984.97 Q139.605 984.97 137.776 988.535 Q135.971 992.076 135.971 999.206 Q135.971 1006.31 137.776 1009.88 Q139.605 1013.42 143.216 1013.42 Q146.85 1013.42 148.656 1009.88 Q150.484 1006.31 150.484 999.206 Q150.484 992.076 148.656 988.535 Q146.85 984.97 143.216 984.97 M143.216 981.266 Q149.026 981.266 152.082 985.873 Q155.16 990.456 155.16 999.206 Q155.16 1007.93 152.082 1012.54 Q149.026 1017.12 143.216 1017.12 Q137.406 1017.12 134.327 1012.54 Q131.272 1007.93 131.272 999.206 Q131.272 990.456 134.327 985.873 Q137.406 981.266 143.216 981.266 Z\" fill=\"#000000\" fill-rule=\"evenodd\" fill-opacity=\"1\" /><path clip-path=\"url(#clip970)\" d=\"M 0 0 M155.16 976.947 L165.298 976.947 L165.298 980.032 L155.16 980.032 L155.16 976.947 Z\" fill=\"#000000\" fill-rule=\"evenodd\" fill-opacity=\"1\" /><path clip-path=\"url(#clip970)\" d=\"M 0 0 M179.817 985.843 L186.024 985.843 L186.024 964.421 L179.272 965.776 L179.272 962.315 L185.986 960.961 L189.785 960.961 L189.785 985.843 L195.992 985.843 L195.992 989.041 L179.817 989.041 L179.817 985.843 Z\" fill=\"#000000\" fill-rule=\"evenodd\" fill-opacity=\"1\" /><path clip-path=\"url(#clip970)\" d=\"M 0 0 M208.236 963.462 Q205.302 963.462 203.816 966.359 Q202.349 969.236 202.349 975.029 Q202.349 980.803 203.816 983.699 Q205.302 986.577 208.236 986.577 Q211.189 986.577 212.656 983.699 Q214.141 980.803 214.141 975.029 Q214.141 969.236 212.656 966.359 Q211.189 963.462 208.236 963.462 M208.236 960.453 Q212.957 960.453 215.439 964.196 Q217.941 967.92 217.941 975.029 Q217.941 982.119 215.439 985.862 Q212.957 989.586 208.236 989.586 Q203.515 989.586 201.014 985.862 Q198.531 982.119 198.531 975.029 Q198.531 967.92 201.014 964.196 Q203.515 960.453 208.236 960.453 Z\" fill=\"#000000\" fill-rule=\"evenodd\" fill-opacity=\"1\" /><path clip-path=\"url(#clip970)\" d=\"M 0 0 M230.185 963.462 Q227.251 963.462 225.765 966.359 Q224.298 969.236 224.298 975.029 Q224.298 980.803 225.765 983.699 Q227.251 986.577 230.185 986.577 Q233.137 986.577 234.604 983.699 Q236.09 980.803 236.09 975.029 Q236.09 969.236 234.604 966.359 Q233.137 963.462 230.185 963.462 M230.185 960.453 Q234.905 960.453 237.388 964.196 Q239.889 967.92 239.889 975.029 Q239.889 982.119 237.388 985.862 Q234.905 989.586 230.185 989.586 Q225.464 989.586 222.962 985.862 Q220.48 982.119 220.48 975.029 Q220.48 967.92 222.962 964.196 Q225.464 960.453 230.185 960.453 Z\" fill=\"#000000\" fill-rule=\"evenodd\" fill-opacity=\"1\" /><path clip-path=\"url(#clip970)\" d=\"M 0 0 M128.74 561.671 L136.379 561.671 L136.379 535.305 L128.068 536.972 L128.068 532.712 L136.332 531.046 L141.008 531.046 L141.008 561.671 L148.647 561.671 L148.647 565.606 L128.74 565.606 L128.74 561.671 Z\" fill=\"#000000\" fill-rule=\"evenodd\" fill-opacity=\"1\" /><path clip-path=\"url(#clip970)\" d=\"M 0 0 M163.716 534.125 Q160.105 534.125 158.277 537.689 Q156.471 541.231 156.471 548.361 Q156.471 555.467 158.277 559.032 Q160.105 562.573 163.716 562.573 Q167.351 562.573 169.156 559.032 Q170.985 555.467 170.985 548.361 Q170.985 541.231 169.156 537.689 Q167.351 534.125 163.716 534.125 M163.716 530.421 Q169.527 530.421 172.582 535.027 Q175.661 539.611 175.661 548.361 Q175.661 557.087 172.582 561.694 Q169.527 566.277 163.716 566.277 Q157.906 566.277 154.828 561.694 Q151.772 557.087 151.772 548.361 Q151.772 539.611 154.828 535.027 Q157.906 530.421 163.716 530.421 Z\" fill=\"#000000\" fill-rule=\"evenodd\" fill-opacity=\"1\" /><path clip-path=\"url(#clip970)\" d=\"M 0 0 M175.661 526.102 L185.798 526.102 L185.798 529.187 L175.661 529.187 L175.661 526.102 Z\" fill=\"#000000\" fill-rule=\"evenodd\" fill-opacity=\"1\" /><path clip-path=\"url(#clip970)\" d=\"M 0 0 M200.957 510.115 L215.872 510.115 L215.872 513.313 L204.437 513.313 L204.437 520.196 Q205.264 519.914 206.092 519.783 Q206.919 519.632 207.747 519.632 Q212.449 519.632 215.195 522.209 Q217.941 524.785 217.941 529.187 Q217.941 533.719 215.119 536.239 Q212.298 538.741 207.164 538.741 Q205.396 538.741 203.553 538.44 Q201.728 538.139 199.772 537.537 L199.772 533.719 Q201.465 534.641 203.271 535.092 Q205.076 535.544 207.089 535.544 Q210.342 535.544 212.242 533.832 Q214.141 532.121 214.141 529.187 Q214.141 526.253 212.242 524.541 Q210.342 522.829 207.089 522.829 Q205.565 522.829 204.042 523.168 Q202.537 523.507 200.957 524.221 L200.957 510.115 Z\" fill=\"#000000\" fill-rule=\"evenodd\" fill-opacity=\"1\" /><path clip-path=\"url(#clip970)\" d=\"M 0 0 M230.185 512.617 Q227.251 512.617 225.765 515.513 Q224.298 518.391 224.298 524.184 Q224.298 529.958 225.765 532.854 Q227.251 535.732 230.185 535.732 Q233.137 535.732 234.604 532.854 Q236.09 529.958 236.09 524.184 Q236.09 518.391 234.604 515.513 Q233.137 512.617 230.185 512.617 M230.185 509.608 Q234.905 509.608 237.388 513.35 Q239.889 517.074 239.889 524.184 Q239.889 531.274 237.388 535.017 Q234.905 538.741 230.185 538.741 Q225.464 538.741 222.962 535.017 Q220.48 531.274 220.48 524.184 Q220.48 517.074 222.962 513.35 Q225.464 509.608 230.185 509.608 Z\" fill=\"#000000\" fill-rule=\"evenodd\" fill-opacity=\"1\" /><path clip-path=\"url(#clip970)\" d=\"M 0 0 M173.559 110.825 L181.198 110.825 L181.198 84.4598 L172.887 86.1264 L172.887 81.8672 L181.151 80.2005 L185.827 80.2005 L185.827 110.825 L193.466 110.825 L193.466 114.761 L173.559 114.761 L173.559 110.825 Z\" fill=\"#000000\" fill-rule=\"evenodd\" fill-opacity=\"1\" /><path clip-path=\"url(#clip970)\" d=\"M 0 0 M208.535 83.2792 Q204.924 83.2792 203.096 86.844 Q201.29 90.3857 201.29 97.5153 Q201.29 104.622 203.096 108.187 Q204.924 111.728 208.535 111.728 Q212.17 111.728 213.975 108.187 Q215.804 104.622 215.804 97.5153 Q215.804 90.3857 213.975 86.844 Q212.17 83.2792 208.535 83.2792 M208.535 79.5756 Q214.345 79.5756 217.401 84.182 Q220.48 88.7653 220.48 97.5153 Q220.48 106.242 217.401 110.849 Q214.345 115.432 208.535 115.432 Q202.725 115.432 199.646 110.849 Q196.591 106.242 196.591 97.5153 Q196.591 88.7653 199.646 84.182 Q202.725 79.5756 208.535 79.5756 Z\" fill=\"#000000\" fill-rule=\"evenodd\" fill-opacity=\"1\" /><path clip-path=\"url(#clip970)\" d=\"M 0 0 M230.185 61.7716 Q227.251 61.7716 225.765 64.668 Q224.298 67.5456 224.298 73.3384 Q224.298 79.1123 225.765 82.0087 Q227.251 84.8863 230.185 84.8863 Q233.137 84.8863 234.604 82.0087 Q236.09 79.1123 236.09 73.3384 Q236.09 67.5456 234.604 64.668 Q233.137 61.7716 230.185 61.7716 M230.185 58.7623 Q234.905 58.7623 237.388 62.5051 Q239.889 66.229 239.889 73.3384 Q239.889 80.4289 237.388 84.1716 Q234.905 87.8956 230.185 87.8956 Q225.464 87.8956 222.962 84.1716 Q220.48 80.4289 220.48 73.3384 Q220.48 66.229 222.962 62.5051 Q225.464 58.7623 230.185 58.7623 Z\" fill=\"#000000\" fill-rule=\"evenodd\" fill-opacity=\"1\" /><polyline clip-path=\"url(#clip972)\" style=\"stroke:#009af9; stroke-width:4; stroke-opacity:1; fill:none\" points=\"\n",
       "  323.008,87.9763 342.914,91.8032 362.819,96.9873 382.724,102.82 402.63,109.054 422.535,115.601 442.44,122.415 462.346,129.467 482.251,136.737 502.156,144.21 \n",
       "  522.062,151.874 541.967,159.719 561.872,167.738 581.778,175.923 601.683,184.269 621.588,192.77 641.494,201.424 661.399,210.226 681.304,219.172 701.21,228.26 \n",
       "  721.115,237.487 741.02,246.851 760.926,256.349 780.831,265.981 800.736,275.744 820.642,285.637 840.547,295.659 860.452,305.808 880.358,316.083 900.263,326.484 \n",
       "  920.168,337.01 940.074,347.66 959.979,358.433 979.884,369.33 999.79,380.349 1019.7,391.491 1039.6,402.755 1059.51,414.141 1079.41,425.649 1099.32,437.279 \n",
       "  1119.22,449.032 1139.13,460.906 1159.03,472.904 1178.94,485.024 1198.84,497.267 1218.75,509.635 1238.65,522.126 1258.56,534.743 1278.46,547.485 1298.37,560.354 \n",
       "  1318.28,573.349 1338.18,586.474 1358.09,599.727 1377.99,613.11 1397.9,626.625 1417.8,640.273 1437.71,654.055 1457.61,667.973 1477.52,682.028 1497.42,696.222 \n",
       "  1517.33,710.557 1537.23,725.034 1557.14,739.657 1577.04,754.427 1596.95,769.346 1616.86,784.417 1636.76,799.644 1656.67,815.028 1676.57,830.574 1696.48,846.284 \n",
       "  1716.38,862.162 1736.29,878.213 1756.19,894.44 1776.1,910.848 1796,927.443 1815.91,944.229 1835.81,961.213 1855.72,978.401 1875.62,995.8 1895.53,1013.42 \n",
       "  1915.44,1031.26 1935.34,1049.35 1955.25,1067.68 1975.15,1086.26 1995.06,1105.13 2014.96,1124.28 2034.87,1143.73 2054.77,1163.51 2074.68,1183.64 2094.58,1204.14 \n",
       "  2114.49,1225.05 2134.39,1246.4 2154.3,1268.25 2174.2,1290.65 2194.11,1313.7 2214.02,1337.48 2233.92,1362.18 2253.83,1388.03 2273.73,1415.5 2293.64,1445.72 \n",
       "  \n",
       "  \"/>\n",
       "<path clip-path=\"url(#clip970)\" d=\"\n",
       "M1989.74 251.724 L2280.76 251.724 L2280.76 130.764 L1989.74 130.764  Z\n",
       "  \" fill=\"#ffffff\" fill-rule=\"evenodd\" fill-opacity=\"1\"/>\n",
       "<polyline clip-path=\"url(#clip970)\" style=\"stroke:#000000; stroke-width:4; stroke-opacity:1; fill:none\" points=\"\n",
       "  1989.74,251.724 2280.76,251.724 2280.76,130.764 1989.74,130.764 1989.74,251.724 \n",
       "  \"/>\n",
       "<polyline clip-path=\"url(#clip970)\" style=\"stroke:#009af9; stroke-width:4; stroke-opacity:1; fill:none\" points=\"\n",
       "  2013.74,191.244 2157.74,191.244 \n",
       "  \"/>\n",
       "<path clip-path=\"url(#clip970)\" d=\"M 0 0 M2195.58 210.931 Q2193.77 215.561 2192.06 216.973 Q2190.35 218.385 2187.48 218.385 L2184.08 218.385 L2184.08 214.82 L2186.58 214.82 Q2188.33 214.82 2189.31 213.987 Q2190.28 213.154 2191.46 210.052 L2192.22 208.107 L2181.74 182.598 L2186.25 182.598 L2194.35 202.876 L2202.46 182.598 L2206.97 182.598 L2195.58 210.931 Z\" fill=\"#000000\" fill-rule=\"evenodd\" fill-opacity=\"1\" /><path clip-path=\"url(#clip970)\" d=\"M 0 0 M2212.85 204.589 L2220.49 204.589 L2220.49 178.223 L2212.18 179.89 L2212.18 175.631 L2220.44 173.964 L2225.12 173.964 L2225.12 204.589 L2232.76 204.589 L2232.76 208.524 L2212.85 208.524 L2212.85 204.589 Z\" fill=\"#000000\" fill-rule=\"evenodd\" fill-opacity=\"1\" /></svg>\n"
      ]
     },
     "execution_count": 49,
     "metadata": {},
     "output_type": "execute_result"
    }
   ],
   "source": [
    "plot(σ,yscale = :log10)"
   ]
  },
  {
   "cell_type": "code",
   "execution_count": 52,
   "metadata": {},
   "outputs": [],
   "source": [
    "# using SparseArrays\n",
    "# spy(abs.(sparse(U)))"
   ]
  },
  {
   "cell_type": "code",
   "execution_count": 50,
   "metadata": {},
   "outputs": [
    {
     "data": {
      "text/plain": [
       "spy (generic function with 2 methods)"
      ]
     },
     "execution_count": 50,
     "metadata": {},
     "output_type": "execute_result"
    }
   ],
   "source": [
    "# Better spy\n",
    "# some options :bluesreds,clim=(-1.0,1.0)\n",
    "import Plots.spy\n",
    "spy(A)=heatmap(A, yflip=true, color=:bluesreds, aspectratio=1) "
   ]
  },
  {
   "cell_type": "code",
   "execution_count": 51,
   "metadata": {},
   "outputs": [
    {
     "data": {
      "image/svg+xml": [
       "<?xml version=\"1.0\" encoding=\"utf-8\"?>\n",
       "<svg xmlns=\"http://www.w3.org/2000/svg\" xmlns:xlink=\"http://www.w3.org/1999/xlink\" width=\"600\" height=\"400\" viewBox=\"0 0 2400 1600\">\n",
       "<defs>\n",
       "  <clipPath id=\"clip010\">\n",
       "    <rect x=\"0\" y=\"0\" width=\"2400\" height=\"1600\"/>\n",
       "  </clipPath>\n",
       "</defs>\n",
       "<path clip-path=\"url(#clip010)\" d=\"\n",
       "M0 1600 L2400 1600 L2400 0 L0 0  Z\n",
       "  \" fill=\"#ffffff\" fill-rule=\"evenodd\" fill-opacity=\"1\"/>\n",
       "<defs>\n",
       "  <clipPath id=\"clip011\">\n",
       "    <rect x=\"480\" y=\"0\" width=\"1681\" height=\"1600\"/>\n",
       "  </clipPath>\n",
       "</defs>\n",
       "<path clip-path=\"url(#clip010)\" d=\"\n",
       "M161.598 1407.63 L2112.76 1407.63 L2112.76 126.063 L161.598 126.063  Z\n",
       "  \" fill=\"#ffffff\" fill-rule=\"evenodd\" fill-opacity=\"1\"/>\n",
       "<defs>\n",
       "  <clipPath id=\"clip012\">\n",
       "    <rect x=\"161\" y=\"126\" width=\"1952\" height=\"1283\"/>\n",
       "  </clipPath>\n",
       "</defs>\n",
       "<polyline clip-path=\"url(#clip012)\" style=\"stroke:#000000; stroke-width:2; stroke-opacity:0.1; fill:none\" points=\"\n",
       "  489.986,126.063 489.986,1407.63 \n",
       "  \"/>\n",
       "<polyline clip-path=\"url(#clip012)\" style=\"stroke:#000000; stroke-width:2; stroke-opacity:0.1; fill:none\" points=\"\n",
       "  874.456,126.063 874.456,1407.63 \n",
       "  \"/>\n",
       "<polyline clip-path=\"url(#clip012)\" style=\"stroke:#000000; stroke-width:2; stroke-opacity:0.1; fill:none\" points=\"\n",
       "  1258.93,126.063 1258.93,1407.63 \n",
       "  \"/>\n",
       "<polyline clip-path=\"url(#clip012)\" style=\"stroke:#000000; stroke-width:2; stroke-opacity:0.1; fill:none\" points=\"\n",
       "  1643.4,126.063 1643.4,1407.63 \n",
       "  \"/>\n",
       "<polyline clip-path=\"url(#clip012)\" style=\"stroke:#000000; stroke-width:2; stroke-opacity:0.1; fill:none\" points=\"\n",
       "  2027.87,126.063 2027.87,1407.63 \n",
       "  \"/>\n",
       "<polyline clip-path=\"url(#clip012)\" style=\"stroke:#000000; stroke-width:2; stroke-opacity:0.1; fill:none\" points=\"\n",
       "  161.598,375.968 2112.76,375.968 \n",
       "  \"/>\n",
       "<polyline clip-path=\"url(#clip012)\" style=\"stroke:#000000; stroke-width:2; stroke-opacity:0.1; fill:none\" points=\"\n",
       "  161.598,632.282 2112.76,632.282 \n",
       "  \"/>\n",
       "<polyline clip-path=\"url(#clip012)\" style=\"stroke:#000000; stroke-width:2; stroke-opacity:0.1; fill:none\" points=\"\n",
       "  161.598,888.595 2112.76,888.595 \n",
       "  \"/>\n",
       "<polyline clip-path=\"url(#clip012)\" style=\"stroke:#000000; stroke-width:2; stroke-opacity:0.1; fill:none\" points=\"\n",
       "  161.598,1144.91 2112.76,1144.91 \n",
       "  \"/>\n",
       "<polyline clip-path=\"url(#clip012)\" style=\"stroke:#000000; stroke-width:2; stroke-opacity:0.1; fill:none\" points=\"\n",
       "  161.598,1401.22 2112.76,1401.22 \n",
       "  \"/>\n",
       "<polyline clip-path=\"url(#clip010)\" style=\"stroke:#000000; stroke-width:4; stroke-opacity:1; fill:none\" points=\"\n",
       "  161.598,1407.63 2112.76,1407.63 \n",
       "  \"/>\n",
       "<polyline clip-path=\"url(#clip010)\" style=\"stroke:#000000; stroke-width:4; stroke-opacity:1; fill:none\" points=\"\n",
       "  161.598,126.063 161.598,1407.63 \n",
       "  \"/>\n",
       "<polyline clip-path=\"url(#clip010)\" style=\"stroke:#000000; stroke-width:4; stroke-opacity:1; fill:none\" points=\"\n",
       "  489.986,1407.63 489.986,1392.25 \n",
       "  \"/>\n",
       "<polyline clip-path=\"url(#clip010)\" style=\"stroke:#000000; stroke-width:4; stroke-opacity:1; fill:none\" points=\"\n",
       "  874.456,1407.63 874.456,1392.25 \n",
       "  \"/>\n",
       "<polyline clip-path=\"url(#clip010)\" style=\"stroke:#000000; stroke-width:4; stroke-opacity:1; fill:none\" points=\"\n",
       "  1258.93,1407.63 1258.93,1392.25 \n",
       "  \"/>\n",
       "<polyline clip-path=\"url(#clip010)\" style=\"stroke:#000000; stroke-width:4; stroke-opacity:1; fill:none\" points=\"\n",
       "  1643.4,1407.63 1643.4,1392.25 \n",
       "  \"/>\n",
       "<polyline clip-path=\"url(#clip010)\" style=\"stroke:#000000; stroke-width:4; stroke-opacity:1; fill:none\" points=\"\n",
       "  2027.87,1407.63 2027.87,1392.25 \n",
       "  \"/>\n",
       "<polyline clip-path=\"url(#clip010)\" style=\"stroke:#000000; stroke-width:4; stroke-opacity:1; fill:none\" points=\"\n",
       "  161.598,375.968 185.012,375.968 \n",
       "  \"/>\n",
       "<polyline clip-path=\"url(#clip010)\" style=\"stroke:#000000; stroke-width:4; stroke-opacity:1; fill:none\" points=\"\n",
       "  161.598,632.282 185.012,632.282 \n",
       "  \"/>\n",
       "<polyline clip-path=\"url(#clip010)\" style=\"stroke:#000000; stroke-width:4; stroke-opacity:1; fill:none\" points=\"\n",
       "  161.598,888.595 185.012,888.595 \n",
       "  \"/>\n",
       "<polyline clip-path=\"url(#clip010)\" style=\"stroke:#000000; stroke-width:4; stroke-opacity:1; fill:none\" points=\"\n",
       "  161.598,1144.91 185.012,1144.91 \n",
       "  \"/>\n",
       "<polyline clip-path=\"url(#clip010)\" style=\"stroke:#000000; stroke-width:4; stroke-opacity:1; fill:none\" points=\"\n",
       "  161.598,1401.22 185.012,1401.22 \n",
       "  \"/>\n",
       "<path clip-path=\"url(#clip010)\" d=\"M 0 0 M489.986 1429.62 Q486.375 1429.62 484.546 1433.18 Q482.741 1436.73 482.741 1443.86 Q482.741 1450.96 484.546 1454.53 Q486.375 1458.07 489.986 1458.07 Q493.62 1458.07 495.426 1454.53 Q497.255 1450.96 497.255 1443.86 Q497.255 1436.73 495.426 1433.18 Q493.62 1429.62 489.986 1429.62 M489.986 1425.92 Q495.796 1425.92 498.852 1430.52 Q501.931 1435.11 501.931 1443.86 Q501.931 1452.58 498.852 1457.19 Q495.796 1461.77 489.986 1461.77 Q484.176 1461.77 481.097 1457.19 Q478.042 1452.58 478.042 1443.86 Q478.042 1435.11 481.097 1430.52 Q484.176 1425.92 489.986 1425.92 Z\" fill=\"#000000\" fill-rule=\"evenodd\" fill-opacity=\"1\" /><path clip-path=\"url(#clip010)\" d=\"M 0 0 M865.197 1442.47 Q868.553 1443.18 870.428 1445.45 Q872.326 1447.72 872.326 1451.05 Q872.326 1456.17 868.808 1458.97 Q865.289 1461.77 858.808 1461.77 Q856.632 1461.77 854.317 1461.33 Q852.026 1460.92 849.572 1460.06 L849.572 1455.55 Q851.516 1456.68 853.831 1457.26 Q856.146 1457.84 858.669 1457.84 Q863.067 1457.84 865.359 1456.1 Q867.674 1454.36 867.674 1451.05 Q867.674 1448 865.521 1446.29 Q863.391 1444.55 859.572 1444.55 L855.544 1444.55 L855.544 1440.71 L859.757 1440.71 Q863.206 1440.71 865.035 1439.34 Q866.863 1437.95 866.863 1435.36 Q866.863 1432.7 864.965 1431.29 Q863.09 1429.85 859.572 1429.85 Q857.651 1429.85 855.451 1430.27 Q853.252 1430.68 850.614 1431.56 L850.614 1427.4 Q853.276 1426.66 855.59 1426.29 Q857.928 1425.92 859.988 1425.92 Q865.313 1425.92 868.414 1428.35 Q871.516 1430.75 871.516 1434.87 Q871.516 1437.74 869.873 1439.74 Q868.229 1441.7 865.197 1442.47 Z\" fill=\"#000000\" fill-rule=\"evenodd\" fill-opacity=\"1\" /><path clip-path=\"url(#clip010)\" d=\"M 0 0 M887.396 1429.62 Q883.785 1429.62 881.956 1433.18 Q880.15 1436.73 880.15 1443.86 Q880.15 1450.96 881.956 1454.53 Q883.785 1458.07 887.396 1458.07 Q891.03 1458.07 892.836 1454.53 Q894.664 1450.96 894.664 1443.86 Q894.664 1436.73 892.836 1433.18 Q891.03 1429.62 887.396 1429.62 M887.396 1425.92 Q893.206 1425.92 896.261 1430.52 Q899.34 1435.11 899.34 1443.86 Q899.34 1452.58 896.261 1457.19 Q893.206 1461.77 887.396 1461.77 Q881.586 1461.77 878.507 1457.19 Q875.451 1452.58 875.451 1443.86 Q875.451 1435.11 878.507 1430.52 Q881.586 1425.92 887.396 1425.92 Z\" fill=\"#000000\" fill-rule=\"evenodd\" fill-opacity=\"1\" /><path clip-path=\"url(#clip010)\" d=\"M 0 0 M1245.82 1441.96 Q1242.68 1441.96 1240.82 1444.11 Q1239 1446.26 1239 1450.01 Q1239 1453.74 1240.82 1455.92 Q1242.68 1458.07 1245.82 1458.07 Q1248.97 1458.07 1250.8 1455.92 Q1252.65 1453.74 1252.65 1450.01 Q1252.65 1446.26 1250.8 1444.11 Q1248.97 1441.96 1245.82 1441.96 M1255.11 1427.3 L1255.11 1431.56 Q1253.35 1430.73 1251.54 1430.29 Q1249.76 1429.85 1248 1429.85 Q1243.37 1429.85 1240.92 1432.98 Q1238.49 1436.1 1238.14 1442.42 Q1239.5 1440.41 1241.56 1439.34 Q1243.62 1438.25 1246.1 1438.25 Q1251.31 1438.25 1254.32 1441.43 Q1257.35 1444.57 1257.35 1450.01 Q1257.35 1455.34 1254.2 1458.55 Q1251.06 1461.77 1245.82 1461.77 Q1239.83 1461.77 1236.66 1457.19 Q1233.49 1452.58 1233.49 1443.86 Q1233.49 1435.66 1237.38 1430.8 Q1241.26 1425.92 1247.81 1425.92 Q1249.57 1425.92 1251.36 1426.26 Q1253.16 1426.61 1255.11 1427.3 Z\" fill=\"#000000\" fill-rule=\"evenodd\" fill-opacity=\"1\" /><path clip-path=\"url(#clip010)\" d=\"M 0 0 M1272.42 1429.62 Q1268.81 1429.62 1266.98 1433.18 Q1265.18 1436.73 1265.18 1443.86 Q1265.18 1450.96 1266.98 1454.53 Q1268.81 1458.07 1272.42 1458.07 Q1276.06 1458.07 1277.86 1454.53 Q1279.69 1450.96 1279.69 1443.86 Q1279.69 1436.73 1277.86 1433.18 Q1276.06 1429.62 1272.42 1429.62 M1272.42 1425.92 Q1278.23 1425.92 1281.29 1430.52 Q1284.37 1435.11 1284.37 1443.86 Q1284.37 1452.58 1281.29 1457.19 Q1278.23 1461.77 1272.42 1461.77 Q1266.61 1461.77 1263.53 1457.19 Q1260.48 1452.58 1260.48 1443.86 Q1260.48 1435.11 1263.53 1430.52 Q1266.61 1425.92 1272.42 1425.92 Z\" fill=\"#000000\" fill-rule=\"evenodd\" fill-opacity=\"1\" /><path clip-path=\"url(#clip010)\" d=\"M 0 0 M1620.19 1460.38 L1620.19 1456.12 Q1621.95 1456.96 1623.75 1457.4 Q1625.56 1457.84 1627.3 1457.84 Q1631.93 1457.84 1634.36 1454.74 Q1636.81 1451.61 1637.16 1445.27 Q1635.81 1447.26 1633.75 1448.32 Q1631.69 1449.39 1629.19 1449.39 Q1624.01 1449.39 1620.98 1446.26 Q1617.97 1443.12 1617.97 1437.68 Q1617.97 1432.35 1621.12 1429.13 Q1624.26 1425.92 1629.5 1425.92 Q1635.49 1425.92 1638.64 1430.52 Q1641.81 1435.11 1641.81 1443.86 Q1641.81 1452.03 1637.92 1456.91 Q1634.06 1461.77 1627.5 1461.77 Q1625.75 1461.77 1623.94 1461.43 Q1622.13 1461.08 1620.19 1460.38 M1629.5 1445.73 Q1632.64 1445.73 1634.47 1443.58 Q1636.32 1441.43 1636.32 1437.68 Q1636.32 1433.95 1634.47 1431.8 Q1632.64 1429.62 1629.5 1429.62 Q1626.35 1429.62 1624.5 1431.8 Q1622.67 1433.95 1622.67 1437.68 Q1622.67 1441.43 1624.5 1443.58 Q1626.35 1445.73 1629.5 1445.73 Z\" fill=\"#000000\" fill-rule=\"evenodd\" fill-opacity=\"1\" /><path clip-path=\"url(#clip010)\" d=\"M 0 0 M1656.88 1429.62 Q1653.27 1429.62 1651.44 1433.18 Q1649.63 1436.73 1649.63 1443.86 Q1649.63 1450.96 1651.44 1454.53 Q1653.27 1458.07 1656.88 1458.07 Q1660.51 1458.07 1662.32 1454.53 Q1664.15 1450.96 1664.15 1443.86 Q1664.15 1436.73 1662.32 1433.18 Q1660.51 1429.62 1656.88 1429.62 M1656.88 1425.92 Q1662.69 1425.92 1665.75 1430.52 Q1668.82 1435.11 1668.82 1443.86 Q1668.82 1452.58 1665.75 1457.19 Q1662.69 1461.77 1656.88 1461.77 Q1651.07 1461.77 1647.99 1457.19 Q1644.94 1452.58 1644.94 1443.86 Q1644.94 1435.11 1647.99 1430.52 Q1651.07 1425.92 1656.88 1425.92 Z\" fill=\"#000000\" fill-rule=\"evenodd\" fill-opacity=\"1\" /><path clip-path=\"url(#clip010)\" d=\"M 0 0 M1992.03 1457.17 L1999.67 1457.17 L1999.67 1430.8 L1991.36 1432.47 L1991.36 1428.21 L1999.62 1426.54 L2004.3 1426.54 L2004.3 1457.17 L2011.94 1457.17 L2011.94 1461.1 L1992.03 1461.1 L1992.03 1457.17 Z\" fill=\"#000000\" fill-rule=\"evenodd\" fill-opacity=\"1\" /><path clip-path=\"url(#clip010)\" d=\"M 0 0 M2021.04 1457.17 L2037.36 1457.17 L2037.36 1461.1 L2015.41 1461.1 L2015.41 1457.17 Q2018.07 1454.41 2022.66 1449.78 Q2027.26 1445.13 2028.44 1443.79 Q2030.69 1441.26 2031.57 1439.53 Q2032.47 1437.77 2032.47 1436.08 Q2032.47 1433.32 2030.53 1431.59 Q2028.61 1429.85 2025.5 1429.85 Q2023.31 1429.85 2020.85 1430.62 Q2018.42 1431.38 2015.64 1432.93 L2015.64 1428.21 Q2018.47 1427.07 2020.92 1426.49 Q2023.37 1425.92 2025.41 1425.92 Q2030.78 1425.92 2033.98 1428.6 Q2037.17 1431.29 2037.17 1435.78 Q2037.17 1437.91 2036.36 1439.83 Q2035.57 1441.73 2033.47 1444.32 Q2032.89 1444.99 2029.79 1448.21 Q2026.68 1451.4 2021.04 1457.17 Z\" fill=\"#000000\" fill-rule=\"evenodd\" fill-opacity=\"1\" /><path clip-path=\"url(#clip010)\" d=\"M 0 0 M2052.43 1429.62 Q2048.81 1429.62 2046.99 1433.18 Q2045.18 1436.73 2045.18 1443.86 Q2045.18 1450.96 2046.99 1454.53 Q2048.81 1458.07 2052.43 1458.07 Q2056.06 1458.07 2057.87 1454.53 Q2059.69 1450.96 2059.69 1443.86 Q2059.69 1436.73 2057.87 1433.18 Q2056.06 1429.62 2052.43 1429.62 M2052.43 1425.92 Q2058.24 1425.92 2061.29 1430.52 Q2064.37 1435.11 2064.37 1443.86 Q2064.37 1452.58 2061.29 1457.19 Q2058.24 1461.77 2052.43 1461.77 Q2046.62 1461.77 2043.54 1457.19 Q2040.48 1452.58 2040.48 1443.86 Q2040.48 1435.11 2043.54 1430.52 Q2046.62 1425.92 2052.43 1425.92 Z\" fill=\"#000000\" fill-rule=\"evenodd\" fill-opacity=\"1\" /><path clip-path=\"url(#clip010)\" d=\"M 0 0 M94.2651 389.313 L110.584 389.313 L110.584 393.248 L88.6401 393.248 L88.6401 389.313 Q91.3022 386.559 95.8855 381.929 Q100.492 377.276 101.672 375.934 Q103.918 373.41 104.797 371.674 Q105.7 369.915 105.7 368.225 Q105.7 365.471 103.756 363.735 Q101.835 361.998 98.7327 361.998 Q96.5336 361.998 94.0799 362.762 Q91.6494 363.526 88.8716 365.077 L88.8716 360.355 Q91.6957 359.221 94.1494 358.642 Q96.6031 358.063 98.6401 358.063 Q104.01 358.063 107.205 360.748 Q110.399 363.434 110.399 367.924 Q110.399 370.054 109.589 371.975 Q108.802 373.873 106.696 376.466 Q106.117 377.137 103.015 380.355 Q99.9132 383.549 94.2651 389.313 Z\" fill=\"#000000\" fill-rule=\"evenodd\" fill-opacity=\"1\" /><path clip-path=\"url(#clip010)\" d=\"M 0 0 M125.654 361.767 Q122.043 361.767 120.214 365.332 Q118.408 368.873 118.408 376.003 Q118.408 383.109 120.214 386.674 Q122.043 390.216 125.654 390.216 Q129.288 390.216 131.094 386.674 Q132.922 383.109 132.922 376.003 Q132.922 368.873 131.094 365.332 Q129.288 361.767 125.654 361.767 M125.654 358.063 Q131.464 358.063 134.52 362.67 Q137.598 367.253 137.598 376.003 Q137.598 384.73 134.52 389.336 Q131.464 393.92 125.654 393.92 Q119.844 393.92 116.765 389.336 Q113.709 384.73 113.709 376.003 Q113.709 367.253 116.765 362.67 Q119.844 358.063 125.654 358.063 Z\" fill=\"#000000\" fill-rule=\"evenodd\" fill-opacity=\"1\" /><path clip-path=\"url(#clip010)\" d=\"M 0 0 M101.001 619.076 L89.1957 637.525 L101.001 637.525 L101.001 619.076 M99.7743 615.002 L105.654 615.002 L105.654 637.525 L110.584 637.525 L110.584 641.413 L105.654 641.413 L105.654 649.562 L101.001 649.562 L101.001 641.413 L85.3994 641.413 L85.3994 636.9 L99.7743 615.002 Z\" fill=\"#000000\" fill-rule=\"evenodd\" fill-opacity=\"1\" /><path clip-path=\"url(#clip010)\" d=\"M 0 0 M125.654 618.08 Q122.043 618.08 120.214 621.645 Q118.408 625.187 118.408 632.316 Q118.408 639.423 120.214 642.987 Q122.043 646.529 125.654 646.529 Q129.288 646.529 131.094 642.987 Q132.922 639.423 132.922 632.316 Q132.922 625.187 131.094 621.645 Q129.288 618.08 125.654 618.08 M125.654 614.377 Q131.464 614.377 134.52 618.983 Q137.598 623.566 137.598 632.316 Q137.598 641.043 134.52 645.65 Q131.464 650.233 125.654 650.233 Q119.844 650.233 116.765 645.65 Q113.709 641.043 113.709 632.316 Q113.709 623.566 116.765 618.983 Q119.844 614.377 125.654 614.377 Z\" fill=\"#000000\" fill-rule=\"evenodd\" fill-opacity=\"1\" /><path clip-path=\"url(#clip010)\" d=\"M 0 0 M99.0567 886.731 Q95.9086 886.731 94.0568 888.884 Q92.2281 891.037 92.2281 894.787 Q92.2281 898.514 94.0568 900.69 Q95.9086 902.842 99.0567 902.842 Q102.205 902.842 104.034 900.69 Q105.885 898.514 105.885 894.787 Q105.885 891.037 104.034 888.884 Q102.205 886.731 99.0567 886.731 M108.339 872.079 L108.339 876.338 Q106.58 875.505 104.774 875.065 Q102.992 874.625 101.233 874.625 Q96.6031 874.625 94.1494 877.75 Q91.7188 880.875 91.3716 887.194 Q92.7373 885.18 94.7975 884.116 Q96.8577 883.028 99.3345 883.028 Q104.543 883.028 107.552 886.199 Q110.584 889.347 110.584 894.787 Q110.584 900.111 107.436 903.328 Q104.288 906.546 99.0567 906.546 Q93.0614 906.546 89.8901 901.963 Q86.7189 897.356 86.7189 888.629 Q86.7189 880.435 90.6077 875.574 Q94.4966 870.69 101.047 870.69 Q102.807 870.69 104.589 871.037 Q106.395 871.384 108.339 872.079 Z\" fill=\"#000000\" fill-rule=\"evenodd\" fill-opacity=\"1\" /><path clip-path=\"url(#clip010)\" d=\"M 0 0 M125.654 874.393 Q122.043 874.393 120.214 877.958 Q118.408 881.5 118.408 888.629 Q118.408 895.736 120.214 899.301 Q122.043 902.842 125.654 902.842 Q129.288 902.842 131.094 899.301 Q132.922 895.736 132.922 888.629 Q132.922 881.5 131.094 877.958 Q129.288 874.393 125.654 874.393 M125.654 870.69 Q131.464 870.69 134.52 875.296 Q137.598 879.88 137.598 888.629 Q137.598 897.356 134.52 901.963 Q131.464 906.546 125.654 906.546 Q119.844 906.546 116.765 901.963 Q113.709 897.356 113.709 888.629 Q113.709 879.88 116.765 875.296 Q119.844 870.69 125.654 870.69 Z\" fill=\"#000000\" fill-rule=\"evenodd\" fill-opacity=\"1\" /><path clip-path=\"url(#clip010)\" d=\"M 0 0 M98.7327 1145.78 Q95.3994 1145.78 93.4781 1147.56 Q91.5799 1149.34 91.5799 1152.47 Q91.5799 1155.59 93.4781 1157.37 Q95.3994 1159.16 98.7327 1159.16 Q102.066 1159.16 103.987 1157.37 Q105.909 1155.57 105.909 1152.47 Q105.909 1149.34 103.987 1147.56 Q102.089 1145.78 98.7327 1145.78 M94.0568 1143.79 Q91.0475 1143.04 89.3577 1140.98 Q87.6911 1138.92 87.6911 1135.96 Q87.6911 1131.82 90.6309 1129.41 Q93.5938 1127 98.7327 1127 Q103.895 1127 106.834 1129.41 Q109.774 1131.82 109.774 1135.96 Q109.774 1138.92 108.084 1140.98 Q106.418 1143.04 103.432 1143.79 Q106.811 1144.57 108.686 1146.86 Q110.584 1149.16 110.584 1152.47 Q110.584 1157.49 107.506 1160.17 Q104.45 1162.86 98.7327 1162.86 Q93.0151 1162.86 89.9364 1160.17 Q86.8809 1157.49 86.8809 1152.47 Q86.8809 1149.16 88.779 1146.86 Q90.6772 1144.57 94.0568 1143.79 M92.3438 1136.4 Q92.3438 1139.09 94.0105 1140.59 Q95.7003 1142.1 98.7327 1142.1 Q101.742 1142.1 103.432 1140.59 Q105.145 1139.09 105.145 1136.4 Q105.145 1133.72 103.432 1132.21 Q101.742 1130.71 98.7327 1130.71 Q95.7003 1130.71 94.0105 1132.21 Q92.3438 1133.72 92.3438 1136.4 Z\" fill=\"#000000\" fill-rule=\"evenodd\" fill-opacity=\"1\" /><path clip-path=\"url(#clip010)\" d=\"M 0 0 M125.654 1130.71 Q122.043 1130.71 120.214 1134.27 Q118.408 1137.81 118.408 1144.94 Q118.408 1152.05 120.214 1155.61 Q122.043 1159.16 125.654 1159.16 Q129.288 1159.16 131.094 1155.61 Q132.922 1152.05 132.922 1144.94 Q132.922 1137.81 131.094 1134.27 Q129.288 1130.71 125.654 1130.71 M125.654 1127 Q131.464 1127 134.52 1131.61 Q137.598 1136.19 137.598 1144.94 Q137.598 1153.67 134.52 1158.28 Q131.464 1162.86 125.654 1162.86 Q119.844 1162.86 116.765 1158.28 Q113.709 1153.67 113.709 1144.94 Q113.709 1136.19 116.765 1131.61 Q119.844 1127 125.654 1127 Z\" fill=\"#000000\" fill-rule=\"evenodd\" fill-opacity=\"1\" /><path clip-path=\"url(#clip010)\" d=\"M 0 0 M63.6634 1414.57 L71.3023 1414.57 L71.3023 1388.2 L62.9921 1389.87 L62.9921 1385.61 L71.256 1383.94 L75.9319 1383.94 L75.9319 1414.57 L83.5707 1414.57 L83.5707 1418.5 L63.6634 1418.5 L63.6634 1414.57 Z\" fill=\"#000000\" fill-rule=\"evenodd\" fill-opacity=\"1\" /><path clip-path=\"url(#clip010)\" d=\"M 0 0 M98.6401 1387.02 Q95.029 1387.02 93.2003 1390.58 Q91.3948 1394.13 91.3948 1401.26 Q91.3948 1408.36 93.2003 1411.93 Q95.029 1415.47 98.6401 1415.47 Q102.274 1415.47 104.08 1411.93 Q105.909 1408.36 105.909 1401.26 Q105.909 1394.13 104.08 1390.58 Q102.274 1387.02 98.6401 1387.02 M98.6401 1383.32 Q104.45 1383.32 107.506 1387.92 Q110.584 1392.51 110.584 1401.26 Q110.584 1409.98 107.506 1414.59 Q104.45 1419.17 98.6401 1419.17 Q92.8299 1419.17 89.7512 1414.59 Q86.6957 1409.98 86.6957 1401.26 Q86.6957 1392.51 89.7512 1387.92 Q92.8299 1383.32 98.6401 1383.32 Z\" fill=\"#000000\" fill-rule=\"evenodd\" fill-opacity=\"1\" /><path clip-path=\"url(#clip010)\" d=\"M 0 0 M125.654 1387.02 Q122.043 1387.02 120.214 1390.58 Q118.408 1394.13 118.408 1401.26 Q118.408 1408.36 120.214 1411.93 Q122.043 1415.47 125.654 1415.47 Q129.288 1415.47 131.094 1411.93 Q132.922 1408.36 132.922 1401.26 Q132.922 1394.13 131.094 1390.58 Q129.288 1387.02 125.654 1387.02 M125.654 1383.32 Q131.464 1383.32 134.52 1387.92 Q137.598 1392.51 137.598 1401.26 Q137.598 1409.98 134.52 1414.59 Q131.464 1419.17 125.654 1419.17 Q119.844 1419.17 116.765 1414.59 Q113.709 1409.98 113.709 1401.26 Q113.709 1392.51 116.765 1387.92 Q119.844 1383.32 125.654 1383.32 Z\" fill=\"#000000\" fill-rule=\"evenodd\" fill-opacity=\"1\" /><g clip-path=\"url(#clip012)\">\n",
       "<image width=\"1282\" height=\"1282\" xlink:href=\"data:image/png;base64,\n",
       "iVBORw0KGgoAAAANSUhEUgAABQIAAAUCCAYAAABR2Y7BAAAgAElEQVR4nOzaabBc93km9tO3++4L\n",
       "7oJ9BwiAIAGQ4gquEEnJkmxZq+XxIsuOx3YSp2rmy1QqVdlmUvk4SSapyVRNkvEm2XJKlmzJkqXR\n",
       "QkoUSZESKZLiToDEvhD7ci/u2rc7H5JvqfLMc8rkeOr/+31+n3rP6T59+vRzb6Oq/nm3Cv3z6r9M\n",
       "I9XUQw/GmVUfejjOvDJ0T5xZv2Egmt+5eyTecfniUpxpthp5ppln6uh248smVudM3v2jAgAAAPiP\n",
       "U89/6AMAAAAAAN59ikAAAAAAKIAiEAAAAAAKoAgEAAAAgAIoAgEAAACgAIpAAAAAACiAIhAAAAAA\n",
       "CqAIBAAAAIACKAIBAAAAoACKQAAAAAAogCIQAAAAAAqgCAQAAACAAjQOPPJH3TT03/76TLzo8TNb\n",
       "4swX/uBEnPlvxv91nBncsD6a//LA5+Id/+jj+Ws2uGVjnDl6aTjODI+04szEZG80v7wcX2ZVu51n\n",
       "Go04UtWIVOmRvRc7AAAAAP42/iMQAAAAAAqgCAQAAACAAigCAQAAAKAAikAAAAAAKIAiEAAAAAAK\n",
       "oAgEAAAAgAIoAgEAAACgAIpAAAAAACiAIhAAAAAACqAIBAAAAIACKAIBAAAAoACKQAAAAAAoQGv9\n",
       "xoE4tOLOnXHm8L84EWd23zwSZ/b91/9TnPn69+aj+V9768/iHb/zT98fZ8YnTseZ/+HDr8eZ4R3b\n",
       "4syzB7NrYOXK/njHnltG48zCQifOTE+340xfX9ahd5a78Y6qkUfqqLOmxtkAAAAA/4H5j0AAAAAA\n",
       "KIAiEAAAAAAKoAgEAAAAgAIoAgEAAACgAIpAAAAAACiAIhAAAAAACqAIBAAAAIACKAIBAAAAoACK\n",
       "QAAAAAAogCIQAAAAAAqgCAQAAACAAigCAQAAAKAArRXjvXFoZr75LhzK/9+d+yfizI9fyfe89OK1\n",
       "aP7++/bEO/7Fb+yLM2Nn8pP5Z3+c77nyN0tx5r+740+j+cFNG+Idf/7ivXFm/YaBOPPgvYNx5vjZ\n",
       "RjS/rsZxtZe6cabTyTPtdp7p6cnOv6qqqtvN96Tyo6qqd/+oAAAA4O8H/xEIAAAAAAVQBAIAAABA\n",
       "ARSBAAAAAFAARSAAAAAAFEARCAAAAAAFUAQCAAAAQAEUgQAAAABQAEUgAAAAABRAEQgAAAAABVAE\n",
       "AgAAAEABFIEAAAAAUABFIAAAAAAUoDU01IxD166148zgYL5n956ROPPcj6/EmTVr+6P58Q/9fLzj\n",
       "+jNPxZmZYyfizIMPvz/OfOxT6+LMF/5wKpp/9clr8Y7f3/DncaZ3eizO/MvnPxhnfvuRq9H8s8e3\n",
       "xDsmJvvizMhI/jlbu34gzkzXuAf0D2R/d+h24hVVp9uNM418zXsiPxMAAAD42/mPQAAAAAAogCIQ\n",
       "AAAAAAqgCAQAAACAAigCAQAAAKAAikAAAAAAKIAiEAAAAAAKoAgEAAAAgAIoAgEAAACgAIpAAAAA\n",
       "ACiAIhAAAAAACqAIBAAAAIACKAIBAAAAoACtgYFmHJqfW44zQ8P5no2bB+PMk49fijM33jQazT/9\n",
       "5MV4x00zV+PM1IH74szHR/vjzMVvfD3OzF7fG83/6m9uindcafxenHnq8fy9+UTvv40z//TfHIjm\n",
       "/8n+b8U7BhbX5Zn1eebFn+aZ/XcPx5njp5ai+f7+/O8UwyOtOLO42IkzPY04UlV1Mu+BOofV/Ts/\n",
       "CgAAAN4L/iMQAAAAAAqgCAQAAACAAigCAQAAAKAAikAAAAAAKIAiEAAAAAAKoAgEAAAAgAIoAgEA\n",
       "AACgAIpAAAAAACiAIhAAAAAACqAIBAAAAIACKAIBAAAAoACtvv5GHFpc7MSZoeFWnBkZjCNVb29+\n",
       "PjtuHI7mn/zBxXjHbXvXx5l3OqvizOjzz8SZ/rVr4sxvPLQpC7z5QrzjDx+bjDObtw3FmVUf+8/j\n",
       "zP945I1o/n/70l3xjsvPLcWZvr44Uv3j+x+PM1/8szvjzKcOZOfTN5S//0fO5PeZrTWumaWl/B64\n",
       "vNyN5jv5iqqbrfj/Mnkov8vWU+N0AAAA+Fv4j0AAAAAAKIAiEAAAAAAKoAgEAAAAgAIoAgEAAACg\n",
       "AIpAAAAAACiAIhAAAAAACqAIBAAAAIACKAIBAAAAoACKQAAAAAAogCIQAAAAAAqgCAQAAACAAigC\n",
       "AQAAAKAArVZv3gUuL3fjzNBQM860p6fjzPBIK85s2jIYzbfb+fmP3HRjnHnyu/n53zs5EGeG7rw7\n",
       "zsy//GI0vzRzPd7xwY/sjjM3rs5fs3/zfx6LM7+y951o/iMfuyPecdvN+bV8+Uc/iTP/63fza/N3\n",
       "t34zzvwvf/T+aH71msvxjl87MBNnnn1mfZxZMd4bZ4aHs3tg/0B+z2y1GnGmfyD/DqhzD2zkh1Y1\n",
       "qizUrWocV5yoJz8yAACAv3v+IxAAAAAACqAIBAAAAIACKAIBAAAAoACKQAAAAAAogCIQAAAAAAqg\n",
       "CAQAAACAAigCAQAAAKAAikAAAAAAKIAiEAAAAAAKoAgEAAAAgAIoAgEAAACgAIpAAAAAAChAq9Vq\n",
       "xKHl5W6cGRjMO8fO3HycGRtrxZn2pUvR/OBQM95x/lqeuXplKc4M778hzjz79OU4c1N3JpqfuPeu\n",
       "eMfwxex9qaqqmnntrTiz++Z9cebq1nui+e1nXoh3XPj+dJwZ3pm////Vf789zjz2nYk48w+nnozm\n",
       "ly5fjXf8z1+8P878/r1Px5n+vtV5ZiTL9I7kr3FrdDTOnDy5EGcmp3rjTJ3vjaXFLNPTzL/Put38\n",
       "uOrIj6yq3psjAwAASuI/AgEAAACgAIpAAAAAACiAIhAAAAAACqAIBAAAAIACKAIBAAAAoACKQAAA\n",
       "AAAogCIQAAAAAAqgCAQAAACAAigCAQAAAKAAikAAAAAAKIAiEAAAAAAKoAgEAAAAgAK0Ws1GHOp2\n",
       "8kUDA80401mcjTOjY6Nxpn1tOpofHx+Kd5w6MRdnenvznnZ+YCrOnD51Ns7cfs+maP7Vt/KLZuO1\n",
       "E3Fm5OYb48zD44Nx5vNfvBjN/9Jd+XXZet89cebR756PM/e+9b04Mz+3L85s+NwvR/NPPp69xlVV\n",
       "Vf/FlufizL/64Q1xptvtxpmxsaVoftWaK/GO1Wvy+8wH7s3vzW8fHYgzQ0P5njVr+6P56WvteEf/\n",
       "QH6frfMd2KlxzaTfzvmGfEdddY4NAAD4u+c/AgEAAACgAIpAAAAAACiAIhAAAAAACqAIBAAAAIAC\n",
       "KAIBAAAAoACKQAAAAAAogCIQAAAAAAqgCAQAAACAAigCAQAAAKAAikAAAAAAKIAiEAAAAAAKoAgE\n",
       "AAAAgAK0epqNONTp5ov6+vPOsbu8HGdGx1pxpjO/EM1PrlwR77h8cSnOTEz1xpkjb1+PM41Gfg30\n",
       "rN8czR/+6dl4x/Z9q+LMmYWJODP+8stxZt36bdH8pfFd8Y6nv/ZOnKljzWc+Emc+fuxEnPnX//JI\n",
       "ND8wkN8z9n9mf5z5Zx8cjDNXfvLTODN79Hg031nI7ktVVVXNmaE48/kv3RVnfuWB/Nrs65+KM4cO\n",
       "jkTze28di3ecPjkXZ1qt/NocGMwz7Xb2ZdvTk9/Lu90aX+g15EdWVe/NkQEAQFn8RyAAAAAAFEAR\n",
       "CAAAAAAFUAQCAAAAQAEUgQAAAABQAEUgAAAAABRAEQgAAAAABVAEAgAAAEABFIEAAAAAUABFIAAA\n",
       "AAAUQBEIAAAAAAVQBAIAAABAARSBAAAAAFCAVrPZyFPdbhzp76vROXbyPSMjrTjTXViO5ien+uId\n",
       "Z07Nx5ktW4fizDtnFuLM5FRvnDn4xkw0327n7+Xgzl1x5tWvn40z798xmmfetzKa/8ZX34l3DNe4\n",
       "lh/+YHZcVVVVX/nSmTjz0PqTceae+/ZE8zdvyz6XVVVVX/jS1TjzsRteiDMjN+6MM9e33BbN//SZ\n",
       "y/GOt9+6Hmf+wdon4sz//pd3x5mJyfwe+Gv3Z5/nH3xvY7zjwf0DcaY5MhxnTp549+/Ns7P5Z6a3\n",
       "N/9urvEIUHVrhGo8nbwnapw+AAD8veE/AgEAAACgAIpAAAAAACiAIhAAAAAACqAIBAAAAIACKAIB\n",
       "AAAAoACKQAAAAAAogCIQAAAAAAqgCAQAAACAAigCAQAAAKAAikAAAAAAKIAiEAAAAAAK0OrpacSh\n",
       "bjdf1NuXd4411lRDw808tJC9BuMTvfGKOq/Z6rX9cebI4dk4s2v3SJw5fjTbM7WyL97x2ivX4szC\n",
       "/HKcGd27J85cf/NgNN/XNxrvOPDIyjjTPfJ6nGk08j39t90dZ244diian37lUrzjpr03xZnzK+6I\n",
       "M9/+3tU4Mzd7Nprfsm0o3vE7v781zvz4qbE48w+nnoszS5evxJl/9dd3RvO/e3d+XF/52r44M7Vq\n",
       "Ls68f39+DzxyIrufbbshv2YuXliMM81m/txQ5xmgs1zjizM/tPdEncOq8wwEAAD/Lv4jEAAAAAAK\n",
       "oAgEAAAAgAIoAgEAAACgAIpAAAAAACiAIhAAAAAACqAIBAAAAIACKAIBAAAAoACKQAAAAAAogCIQ\n",
       "AAAAAAqgCAQAAACAAigCAQAAAKAAikAAAAAAKECr5z2qAnt7G3Gm0cgzg0PNfM/VLDO2ojfe0Wrl\n",
       "57JydX+cqfN+rt84EGcOvjETzd+wczje8dbB63Gmzmv20otX48zWzmw0v+99G+IdfReOxZnlGp+Z\n",
       "Bx+eijOPfed8nHn/1oVofvSee+Mdtxw7HGe+8sO+OLN1+1CcOfDIymj+8o+fi3e0n30lziwv3xxn\n",
       "Rj/4kTjzk6cvxZnfW/NiNP9/Pb093vFbu56MM62FsTjz5b/eF2c+ft9iNP/i85PxjjvvGIkzy1Ur\n",
       "zpw/l33+q6qqRkbyPZ1ON5rvZuP/byaPVN0ai/K7eb1jAwCgLP4jEAAAAAAKoAgEAAAAgAIoAgEA\n",
       "AACgAIpAAAAAACiAIhAAAAAACqAIBAAAAIACKAIBAAAAoACKQAAAAAAogCIQAAAAAAqgCAQAAACA\n",
       "AigCAQAAAKAAikAAAAAAKECrp6fx3izqrbGnk2cGBppxpt3bG833tBfjHXWOq5q7HkcGB/M9I/3L\n",
       "caY3fD83bxuKd7z68nScuXnfaJx55WfX4syNd6yO5reMdeId1w/l7//Y7bfGmeZbb8eZTid/P3t2\n",
       "7o3mv/PNc/GOBzfNxJkDj+yKM6u7+bFd/OHBaH5o86Z4x7nVN8eZBy5mx1VVVfXFP5mPM2vW9seZ\n",
       "8V/8QDT/T249G+/4wlfviTMX3lqIM5/b8aM484dfvTOa/+x9+Xv5ne9sjTOTk31x5o47RuLMiVP5\n",
       "d21fX/b3zWYrf86o89zUauaZTrcbZ9It+YZ8R111jg0AgH83/xEIAAAAAAVQBAIAAABAARSBAAAA\n",
       "AFAARSAAAAAAFEARCAAAAAAFUAQCAAAAQAEUgQAAAABQAEUgAAAAABRAEQgAAAAABVAEAgAAAEAB\n",
       "FIEAAAAAUABFIAAAAAAUoNWoUwV2ayxq5Ysa7TzT159nOn290fzy3Fy8Y2i4GWfaMzNxZnRFf5xZ\n",
       "unwlzqwYz16z6lq+Y2gof802bczP/8Wf5hd0e8XqaH7p+KF4x8CGdXHm+Z/kr/OOvutx5n135Mf2\n",
       "9BOXovnl5fx96dm1N85MnXgrzizNz8eZ8fvvjeYff/RCvOP0yYtx5tOPTMaZ3/rdjXFm7tVX4szn\n",
       "/2Ahmv8HD+TX8od+YVucWTuY35v/7K/uiTOf3vBsNP9/fGdfvOO3b/9pnOnrTMWZ7353a5x5eH8r\n",
       "zrTGRqP5Tk/4XVZV1eJiJ87MTLfjTH9f/jzTDu+bPT2NeEe3W+MhsIb8yGo9ngIAFMd/BAIAAABA\n",
       "ARSBAAAAAFAARSAAAAAAFEARCAAAAAAFUAQCAAAAQAEUgQAAAABQAEUgAAAAABRAEQgAAAAABVAE\n",
       "AgAAAEABFIEAAAAAUABFIAAAAAAUQBEIAAAAAAVo9TQacajT7caZZjPfU3Vr9JTtpTjS098XzXcW\n",
       "FuMdQ8P9caYzvxBnxseH48zy7OU4M7VyVTTfvnoh3rFy9WScmT/zTpwZn8jfm7cPXY/mt/fn1/90\n",
       "czzOnD51Mc7c8tDmODPQno0zP5tdjubvvCc//6cez8///m35/ay7fU+c+dZfn43ml5Y68Y4DD0/F\n",
       "mWfezK7lqqqq9538SZwZ3LQhzvzm72aZv/lq/vl/cDI/l8U1q+PMB39+a5w5fuKRaP731rwc7/jD\n",
       "p3bEmU5+aVa/ffvzcebLf7M3zqxcmd1nJiZ74x2jY604s+PGkThz/mz+DDAymh3bwkL+ZrZqPM/l\n",
       "d9mq6tZ41qzxpFnr2AAA/mPmPwIBAAAAoACKQAAAAAAogCIQAAAAAAqgCAQAAACAAigCAQAAAKAA\n",
       "ikAAAAAAKIAiEAAAAAAKoAgEAAAAgAIoAgEAAACgAIpAAAAAACiAIhAAAAAACtBqNN6bRc1WvqjR\n",
       "yXvKzlI7zvT09Ufz7ZmZeMfIyHCc6S4vx5kVE71xprrWiSMrV2WvWedS/r6sW5/tqKqqWr52Ns6s\n",
       "3zgeZ468fT2av+nu1fGOV9/Ir7O+vvwz8850/jqvuHoqztywa1M0P9VzOd6xtJSff3fTzjjzox9c\n",
       "iDPNZnYPPPBIfs00jh+MM9PTE3Fm6MBdceaJH1yMM3ecfDaaX7lqR7xjZsvdceaHz16JMwdWZudS\n",
       "VVV1afrGaH70Iw/GO/7xTefizMzrb8aZP/zRDXHmszt+HGda3dFovq+ajHf09U/FmRefy78D77gj\n",
       "O5eqqqrjJxej+VWr8/v/zEyN56ye/BkwvWdWVVV1u904k27JN+Q76u4BAPj34T8CAQAAAKAAikAA\n",
       "AAAAKIAiEAAAAAAKoAgEAAAAgAIoAgEAAACgAIpAAAAAACiAIhAAAAAACqAIBAAAAIACKAIBAAAA\n",
       "oACKQAAAAAAogCIQAAAAAAqgCAQAAACAArQadarA5TzSbDbiTKOZH1y33Y4zPf19WeBaJ94xNNyM\n",
       "M9Vs/pqtWNEbZzqz+bFNrsz2zF1rxTvWrB2IM7Mz+bls3DwYZw69MRPNz7fG4h2XL16MM1u2DcWZ\n",
       "tw9djzP7d4zGmT0bs2Obfu1EvOPmvVvjzHPPXI4zjUb+2XzgoakscOxgvKNnMP/MfOQX18SZb339\n",
       "bJzp7c1fs9ae26P52945Gu/4+hP553/bDfnn7PLKO+LM/dOHovkv/slCvOOXH1qKMwN33x9n/tGu\n",
       "/Jr5s6/fGWcuvbUYzTeq/LocHcszv3rv4Tjz2GOb48yBu7PnmSPH8+eZOtf/4mI3zsxez5/nevvy\n",
       "58bOcnZsjZ78/e928/MHAHi3+I9AAAAAACiAIhAAAAAACqAIBAAAAIACKAIBAAAAoACKQAAAAAAo\n",
       "gCIQAAAAAAqgCAQAAACAAigCAQAAAKAAikAAAAAAKIAiEAAAAAAKoAgEAAAAgAIoAgEAAACgAK1G\n",
       "o5GnGt040qxROTZ6mnGmu7wcZ5rDw9mObn7+Q8OtONNYzM9/oC+OVAv9/XGmMzMTzbdGhuId7SuX\n",
       "40xrdCTO9MxdizNDw9l7c+LYbLyj2co/mzt2ZddyVVXV0cPX40xz3cY4M3v4SDTfv3Z1vGNzX/75\n",
       "f/3VPHPH/vE40ziTnX/PcP6ZOd/IX7OJN16NM5NT6+LMgYen4sxffulMNP/h2/Mvml/81No4Ux0/\n",
       "FEe++exonPn0x7ZH87+5N/8C+PKXL8aZ+fnTceaXP5h/b/7Sr26IM/2XT0XzM4fejne0r1yJM3/w\n",
       "3VvizG/e+XKc+fq3d0fzP39vfv979aU8MzyaP89s2ZrfAy9dXIwz6ff50mJ+Lfc0azxr11Hj+TRP\n",
       "VFV6NnV2AADvHv8RCAAAAAAFUAQCAAAAQAEUgQAAAABQAEUgAAAAABRAEQgAAAAABVAEAgAAAEAB\n",
       "FIEAAAAAUABFIAAAAAAUQBEIAAAAAAVQBAIAAABAARSBAAAAAFAARSAAAAAAFKDxB3/+aDcNLS52\n",
       "4kW7do/EmYHFK3Gm0WzGmZ4VE9H80qmT8Y7Wug1xZvn82XzPaP46d5eX40xnfiGab42viHcsnr8Q\n",
       "Z/rXrokzC6fPxJkj0+PR/Pmzi/GO0RWtOLNnU77nJ6/nn5mJyd44s3Ugu57nxjfHOwYuHo0zx5bW\n",
       "xZkdq67HmfZ0lrk+tine8ewzl+PMB++JI1XfRHbPrKqqmn79zThzcD57DfoH8r9tbV4+HGf616yK\n",
       "M33r8++Av/5Kdm96ZPu5eMfpgRvizI717TjzF389E2c+siP/rh26YVs0f2k5u5dXVVW9+NP82eSO\n",
       "1s/izJ88vz3OfO7m16P5b52/Nd7xmXun40zfyqk4c/DcUJy55bb8WePk8blofnwi//6bn8ufsxo9\n",
       "jTwTJ6qq0chT3Sr+6QAA/D3iPwIBAAAAoACKQAAAAAAogCIQAAAAAAqgCAQAAACAAigCAQAAAKAA\n",
       "ikAAAAAAKIAiEAAAAAAKoAgEAAAAgAIoAgEAAACgAIpAAAAAACiAIhAAAAAACqAIBAAAAIACtBqN\n",
       "PFQjUvX05KlGs5kv6nTiyNJimKnxorVqnEq3vy/OLM8vxJm+iRVxZv7adDS/1MjPpbvUjjPTs3Gk\n",
       "arXzPWvWDUTzJ4/Pxzt2bxqMM+1rF+PMxs3r4szhQ9fjzO771kbzL72Y77hty1Cc2bNpJM7MvH46\n",
       "zvTv3BXNP/PohXjH6Fgrzpy4ll3LVVVVa86/FWeGd2yPM7cuLEbz33wsv2b2fvzmOPOT52pc/2df\n",
       "jDMbN2+N5k/25a/xhrlDcWbuZH+ceeChbXHm1SP55/noN7P3pq8v/5zt3J3fM6bH7o8z/9n6w3Hm\n",
       "84/uieZ/adNP4x1//J1b48zE5FKc+dS978SZp59YjjP778yus2Ons/tSVVXV2nX5Z6bd7saZTifP\n",
       "1NkTP9N38x3vlb+/RwYA7x7/EQgAAAAABVAEAgAAAEABFIEAAAAAUABFIAAAAAAUQBEIAAAAAAVQ\n",
       "BAIAAABAARSBAAAAAFAARSAAAAAAFEARCAAAAAAFUAQCAAAAQAEUgQAAAABQAEUgAAAAABSg1Wg0\n",
       "3pNFPTUqx0aNUKe9HGcWFzvRfH+zGe/oLCzEmZ6BgTjTvnotziwu5+fT7WSv2bXLS/GO0Wb+/l+8\n",
       "sBhn1vX2xpnJ8ezY+vrzc1m9Mn9f5uZacWbLlsE4c+jNmThzabYvmr92dTbe0Vq/Mc7MHTkaZwbW\n",
       "rYkzP3v+ajS/3OnGO/bfNR5nnvj+hTiz9cCGOPOz19txZtfgO9H8rbdviXf88MnpODN9LT+X2z56\n",
       "a5zZc+pENP/tZ/N72U2f2hdnnn02f812zb4WZ+bmNseZX/zkumi+7+KxeMf86aNx5okj2+PMJz69\n",
       "J878/o65aP4v/vLueMcv3/BCnOm288/M57+df2Z+7Z6348yj38/uG+/fn3/PHj6aP5sODubPAH19\n",
       "+bPG8Eh+Pulzc0+dnxrvzc+TWtJDy7/NAeDd5T8CAQAAAKAAikAAAAAAKIAiEAAAAAAKoAgEAAAA\n",
       "gAIoAgEAAACgAIpAAAAAACiAIhAAAAAACqAIBAAAAIACKAIBAAAAoACKQAAAAAAogCIQAAAAAArQ\n",
       "ajRqpGqEenryTKPZjDNVtRgnlpa60fxAjePqLi3FmebwcJxZunwlzlyfbseZofA1uHY1P//xFf1x\n",
       "5uqFfM+m7SNxZulS9jqvGG/FOxYvXIwzfZMTcWbp3Pk4Mz7RG2eOH52N5odH8tfs0BszcWbLYPb5\n",
       "r6qqujg/GGfOn78aze+6Mb8uW5dOx5nRsfw+c/hMfg88c+p6nLnjkzdF860Tp+Idb87l1/IDD03F\n",
       "mce+nX/ODty0HM3/3C9siHd865sX4kwd+z50W5x54J0TcWbhrePRfGvzpnjH9Kb1ceaR8bfjzBf+\n",
       "OP9u/vSD2TPQQx/cGO94+9B9cebQm/m9+VObXowzf/SDPXHmc3e8Es1/47u74x0/f29+/+udGI8z\n",
       "rZH8u+nEifk4MzmV3TeXl/Pv2U4njlTdfE1V1ch0w1Cdn1p11Dl9AMrkPwIBAAAAoACKQAAAAAAo\n",
       "gCIQAAAAAAqgCAQAAACAAigCAQAAAKAAikAAAAAAKIAiEAAAAAAKoAgEAAAAgAIoAgEAAACgAIpA\n",
       "AAAAACiAIhAAAAAACqAIBAAAAIACtOqEGnUyNUKNZo2esptH2kudaL7R14x3dNrtONPt1ulp8xfg\n",
       "+vXlODMy0JvtOJfvaG4YjjOz1xfiTO/EZJyZO34yml+5amW8Y3n2ap4ZzfdU1y/FkQ0b18SZ11+d\n",
       "jua378jf/6OHZ+PMjfevjTMvPnc9zoyNZbfbrRvzz//8yaU4c8ttY3Hm6Sfya2bz1sE488xTl6P5\n",
       "vavm4x3778+v5d5zR+LMyGh+nznTyY5t9ZE34h2TU+vjzP57RuPM1/7qbJz58N35Z2B2/d5o/smn\n",
       "r8Q7FhfzzCc/viPO/Pr2/LnhK1/Lvjd+bvvP4h2NRn4uv/IbG+PMDx8biDO/8b6X4sznn90azX92\n",
       "zwvxji99Z1+cmVqZf89MTi3Gmf13DcWZ46eyZ62+gfy5ubeV/3DoaeaZOr9PenqyULdb48cJALyL\n",
       "/EcgAAAAABRAEQgAAAAABVAEAgAAAEABFIEAAAAAUABFIAAAAAAUQBEIAAAAAAVQBAIAAABAARSB\n",
       "AAAAAFAARSAAAAAAFEARCAAAAAAFUAQCAAAAQAEUgQAAAABQgFajUSNVI9PTU2dRs0Ymt7TUjeYb\n",
       "Q614R2dxMc4szi/HmVYj73bnZvM9PeMD0fx8jXNpjqyIM0tL83HmypV2nOnrZtfMqjV98Y7uufy9\n",
       "PHMmP/91vfnnbMPGwThz8I2ZaH7rtqF4x+G3rseZc1fy1/n6TH4933p7dj3Pnz4V7xjcuinOLJ47\n",
       "H2dGRvvjzN49+TXz7X97OZpv3r4t3tE4fTzONEdH48wDOyfizDe+di6a3/bh7fGOO+bm4szMa2/G\n",
       "mZv2bIkzPzu5FGfOnLoUzde5z9y6N7+f/xKfHfgAACAASURBVNXXsuOqqqr68K3TcebBh7dG8y+/\n",
       "mX2XV1VV7es7GGeW3sg//xs359fzxeY9ceZ3Vr4VzX/h8d3xjs9seSHONPvy16y3L7/PPPb9/LP5\n",
       "0P7eaL41lt8z2zV+AywtdvI97ex5rs6enmad30A1hM+mVVVVeaLWz8BaewB49/iPQAAAAAAogCIQ\n",
       "AAAAAAqgCAQAAACAAigCAQAAAKAAikAAAAAAKIAiEAAAAAAKoAgEAAAAgAIoAgEAAACgAIpAAAAA\n",
       "ACiAIhAAAAAACqAIBAAAAIACKAIBAAAAoACtRqPxniyqs6bR8970lMvtbjTf09uKd3TmF+LM/Hwn\n",
       "zoy28mObn1+OM83BwWh+aWk63nHt6lKcqXOdXbmU71k72BfN93by9395eDjOXHprMc5svmlFnFk4\n",
       "fz7OTExmr9nShXzH5FS2o6qq6vixuTgzNp5/zqaGs/dmaSk/l8NH8vd/XU9+/jfvWxln5o4ejzNb\n",
       "tq2J5p9/9kq847YtzThzdiH/zEy+eSjObN+xPpr/yQvz8Y59kxfiTGvHTXFm05n8/T96eSjOHHgk\n",
       "uzYHL+fHNft2/jm7656tceaFI/1x5paZV6P5np6t8Y7ZLe+LMy88l38271/5Spz5ybUb4szWR26J\n",
       "5v/Tjfln5v/++m1x5lKN66zOM9Bv3PFanPmbx3ZF85NT+XPm+HhvnBkeyb+b+wfy3xrjE9mxzc/l\n",
       "z/ONGj+B6vyiq/M7sFtlv5uqKj+2fAMACf8RCAAAAAAFUAQCAAAAQAEUgQAAAABQAEUgAAAAABRA\n",
       "EQgAAAAABVAEAgAAAEABFIEAAAAAUABFIAAAAAAUQBEIAAAAAAVQBAIAAABAARSBAAAAAFAARSAA\n",
       "AAAAFKBVNfJQjUjV6MlTjTo9ZY2Day93sxWt3nxJN9tRVVW1ML8cZ8aGWnFmabETZzrN7DXo1jj/\n",
       "mel2nOntza+Za9eW4szGVcPRfHtmJt7Rt2plnLl+/VKcWe5fkWcuX4kz69aPZTuu5zs2bsrP5eUX\n",
       "r8WZm/aOxpnFC+9E84Nbt8Y7Tj56Ps5su3dtnGnN5O9Nd2Qkzuze0h/Nf+97c/GOhbF1ceaNp/PP\n",
       "2Qce3BBndi5l96bHjuf3suW92+PMUz+4GGcO3NIXZz700dVx5vqrr0fzrZVT8Y5jnez+X1VVtfbq\n",
       "23Hm8HL+2Zxdvyeaf9+VI/GO7z6d32d335x//o8t3Bxn9ve9FWe+9uXsc/Opj2T3paqqql/7rY1x\n",
       "ZuGtg3Fm7tiJOPP5Z7fFmc/ufSma7+0bj3f0Deefzb6JiTjTGsueTaqqqk6cWozmV63Jr5l2O39u\n",
       "7nRqZMLfQFVV7zdd+jugzm/N/EwAyuU/AgEAAACgAIpAAAAAACiAIhAAAAAACqAIBAAAAIACKAIB\n",
       "AAAAoACKQAAAAAAogCIQAAAAAAqgCAQAAACAAigCAQAAAKAAikAAAAAAKIAiEAAAAAAK0GrUSdUI\n",
       "NWplmu/JouXlbraitxXvqGNxMTuuqqqqnvG+ONNuL8aZ2evL0XxPT/6+zMxkO6qqqgYG8257bjbf\n",
       "0xxZEc0vXb0W77hyJT+ubn7JVOfOLsSZlc38s7l6TW80v3Amm6+qqlo5mV9nff35NbN2dZ5ZOJud\n",
       "z1uHZuIdnRrv/5lL+blMLObH1l65Kc4snzgRzW/Zvjre8crP8s/m6Gj+HXDwWBypNvdejOZvvT1/\n",
       "jZ99+nKcGRnJP//HpwfjzPrX3ogzQzu2R/PPPT8b7zh3djrO7Pzknjhz79lzceZbT1yK5j/+C5vj\n",
       "HR/flH83zRx6O8785OyGOLP9/lvjzMdXnYzm/+Ib+Y3243e+HmfG9t0cZw7Nro0zv/3+N+PM55/c\n",
       "Gc13azycjIzk99nJqfx5dmpl/h1w/9390fzRU/PxjoGB/Lu5tzfP1Hlubrdr/D4JfwfUuWZq/aat\n",
       "ocajFsDfO/4jEAAAAAAKoAgEAAAAgAIoAgEAAACgAIpAAAAAACiAIhAAAAAACqAIBAAAAIACKAIB\n",
       "AAAAoACKQAAAAAAogCIQAAAAAAqgCAQAAACAAigCAQAAAKAAikAAAAAAKECr0XhvFtXZ060RalR5\n",
       "prPcjea73RonU+NclhY7caanry/OdDoLcWZudjmab/Xm55/uqKqqGh5uxZnz1/Pzv3JlKZofjDdU\n",
       "1aWLi3FmYCDv9uvsWXvDaJxZunApmu+dnIx3LIY7qqqqVq8ZzvecuxBnBtauiebfefJKvGPN2v44\n",
       "c+zIbL7n1qk489rrM3Fm35ahaH7nVG+848Sx/PzvuT+/Np96/GKcufmjO6L55snT8Y7+gYE4c9+D\n",
       "E3HmW18/F2du/NiNceaJxy9H87Oz7XjHA+/Pr//vfPN8nHnw5vk486Ff2BjNf/vR/F524MbpONOz\n",
       "c1+cuX/8RJz51jez7+aqqqpPfCS7nj/7ufw74y+/0owzC8+fjDObtuRPG0s3vS/O/O6q7NhmDx+L\n",
       "d7RnrseZOs/AvQMr4sx3H98ezX/gnvz9b42NxZlOM/8OPH82fwYeHsmftdPfND3N/HdDt5v9nqur\n",
       "zk/n9+bIAP79+Y9AAAAAACiAIhAAAAAACqAIBAAAAIACKAIBAAAAoACKQAAAAAAogCIQAAAAAAqg\n",
       "CAQAAACAAigCAQAAAKAAikAAAAAAKIAiEAAAAAAKoAgEAAAAgAIoAgEAAACgAK06oUadTCNPdTrd\n",
       "OoviyPJytmep/d4c19JSJ8709PfFmW6N05mbW47m+/ryznlxIT//Vavz8z93No5U164uRfPDw/35\n",
       "jrPZjqqqqtGx/CN95XK+pxqaiCPLV09H83O9K+IdfYv5uWzYNBhnuhcvx5kzZ9vRfHsp/2Bu3zEc\n",
       "Z370xKU4c2VhIM5cvXo1zrRHV0bznZMn4x1bt6+KM83L78SZqVUjceb557LXbPfK7Bqrqqq66578\n",
       "s3z94NtxZseudXHmyR/mn7PFxex748DD2TVWVVW1fOytODM5tTrOHL6W35s2z7wZzW/YtDHecXA6\n",
       "//wfe+lcnPnoI2Nx5tOfyTNf/avz0fyH9uUPDfc8sCXOTHYuxJm54/m1+cMnNseZT3wyO5+3p/PP\n",
       "2WvnpuPMucMLcabOb43P3v5aNP+Nx26Md0ytvBZnxid648ytt+fPWqdOzMWZFePZsc3P5b8BWq38\n",
       "t1aNn0BVt8YPpzq/nVN1zgUol/8IBAAAAIACKAIBAAAAoACKQAAAAAAogCIQAAAAAAqgCAQAAACA\n",
       "AigCAQAAAKAAikAAAAAAKIAiEAAAAAAKoAgEAAAAgAIoAgEAAACgAIpAAAAAACiAIhAAAAAACtBq\n",
       "NGqkamTq7Ol08kzVky/qdLrRfHspm6+qqurtyTvXdjvfs7iQv2iNGq/ZwvxyND8w0Ix3XJlbijMj\n",
       "I60402zl5z893Y7mN64ZjnfMzc7FmTVrB+LMxQuLcebCuTwz0cw+A2ffWYh3bJnMz7+3mo8z3bHR\n",
       "OHP6ULZnxURvvKM5eyXOTEzme44eno0zK8bzPQffmInm92wcjHdsn8jvGfPv5PfZW24bizM/+N6F\n",
       "aL5708Z4R+f0sTgzsGFdnNm6kH+eTxzPX+f7HpyM5pePvx3vGNyUv863rsrP/9Ef5d8BO35udzS/\n",
       "88yJeMcTr+WfswOPrIwz3/9xfj+7b1v+fu6/b0s0/+wb+b3stuuvx5nm1s1x5tKqvXHm4eHDcebP\n",
       "/yx7Bty4Ob9mPvqJtXGm52x+P5s9fDzO/OlPs/fm1/e+HO/oHRiPM/0jU3Hm2afz++ydd47EmROn\n",
       "sufGqZX98Y7Z69mzeVVVVU+N30A9zTzT7ea/6QDeTf4jEAAAAAAKoAgEAAAAgAIoAgEAAACgAIpA\n",
       "AAAAACiAIhAAAAAACqAIBAAAAIACKAIBAAAAoACKQAAAAAAogCIQAAAAAAqgCAQAAACAAigCAQAA\n",
       "AKAAikAAAAAAKECrqho1YjUy3W4e6eSZRiM/tvTQ2u1OvKOvmXeuy8v5+S8s5MdW49CqxYXs2IZH\n",
       "m/GO7qX8/IdHWnGmvz9/AeZnl6P5bt9ovGN5eTbOTEz2xplWKz//SxcX48yqLSPR/OVjS/GOnTsn\n",
       "48zCO2fjTM+qtXFmZvpSNH/z3vyaac/k57Jla34uP3vhapy55bYVceal57M97ZtWxjuWT5+MMwNb\n",
       "NseZhZP5nnXrs9fs5Rfz9+W2G4bizMGj+b15y2B+bLfftSnOdE4ejeYHN26Id/z0pfz+t2fV5Thz\n",
       "74P5dfb4oxei+YfuHIx3fOjDU3Fm5o2DcWblqvVx5sjCujizdfGtaH5wKL9mzo3sjDOvfv9anOnv\n",
       "z783N35oT5z51NSZaH7uRPYaV1VVdY9kzwxVVVVD+26OMwev5tfzf3Igu56/8NSOeEeNn03V6Fj+\n",
       "DPyZe0/Fmaeeyj9n996dfdccPz0f71i7fiDOtNvv0W+tZp3f26E6F02dNe/JFuDd5j8CAQAAAKAA\n",
       "ikAAAAAAKIAiEAAAAAAKoAgEAAAAgAIoAgEAAACgAIpAAAAAACiAIhAAAAAACqAIBAAAAIACKAIB\n",
       "AAAAoACKQAAAAAAogCIQAAAAAAqgCAQAAACAArQajTxUI1JV3TzS6eShZo0T6nSy+XY7P65GbzPO\n",
       "dJaX48ziQngyVVU1W/lrtrSU7Rkc7It39PTkx9XTbceZwcH8vblyeSmav3Y1m6+qqmrmh1X1t/Jr\n",
       "Zng4XzQznb/OjeGJaH5h/mK849KV/PyHuvnn+fSp+TjTCj9nKyfzv9MsXR6IM+ND+bU5PNLK9/Qv\n",
       "1NiTXZtvHZyJd+xen79mr786HWe2T+Tv5773jUXzj377fLzjamM8zpw6cTXO7Pq5bXGm59SJONNa\n",
       "ORnNv/RGfv1frXE/n92xMc4MnjsWZ1avWRnNv5q/xNWuS2/Hmf4bd8eZm06fjDNPvNIfZ7Y8kB3b\n",
       "vvPH4x2PvzYcZ/bfl13LVVVV4+1zceYbX30nznziw9n5nJ/YE+945aX8Prv4s9NxZsvWoTgzu21f\n",
       "NP/bH82vmbljeWZ5Ln82+eLje+PMr+4/Gmd+8MTmaP7A/vx3w9ETc3Gmzm+A8YneODM/l/1uatT4\n",
       "V506v+nrqLOmRg0AvMv8RyAAAAAAFEARCAAAAAAFUAQCAAAAQAEUgQAAAABQAEUgAAAAABRAEQgA\n",
       "AAAABVAEAgAAAEABFIEAAAAAUABFIAAAAAAUQBEIAAAAAAVQBAIAAABAAVq1Uo080q26cabTyfc0\n",
       "e/Jus9vNFi2383OpBppxpNNdjjOLi/mL1mrlr1m6Z2AwP/9mM7/QOvPzcWZoOD+2y5cWo/npa+14\n",
       "R39/flzLM9fjzNh4f5y5djw/nwsXsteszvt//uxCnLlh3VCcuXAoO5eqqqrJqd5ofunixXhH35q1\n",
       "cWb+1Kk4s2HjZJxZunwhzmzeuiqaf+O16XjH8o0r48y5ly7FmZ2718WZuaPHo/nNW/L35c3X89ds\n",
       "1er8nvHCc1fizL7N2WemqqrqyNksc+HcbLzjtrvG48wLz+bn//AD+ed5z8qlaP4HP87mq6qqtm7b\n",
       "Fmee+s75OPPQnQNx5kMfnogz3/h6dm/6+Q9k96WqqqoPrcm/z2YPH4ozrU0b4synPzUcZ776tez7\n",
       "abjGc9aBR6bizPD06Tgzf+ZgnHnm+a3R/Ac/sjPe8crF/Do7eHImznxy00tx5k+fvDnO/Ppd2fX8\n",
       "vR/eEO/4wD35ddYaH4szJ07lz4Arw+/NOr81O508063xk7ZbI1SjOojVOBUomv8IBAAAAIACKAIB\n",
       "AAAAoACKQAAAAAAogCIQAAAAAAqgCAQAAACAAigCAQAAAKAAikAAAAAAKIAiEAAAAAAKoAgEAAAA\n",
       "gAIoAgEAAACgAIpAAAAAACiAIhAAAAAACtCqGu/Rpm43jnQ6eabRqHFC4Zr2co3jajbjTHpcVVVV\n",
       "S0udONPbm79mC/PZwQ0O5p1zb19+XJ3FpTgzPNIXZ3p6smO7PtOOdwwN59dMZ2E2zoxPjMSZM6fm\n",
       "4szli4vR/PBIK95x7Wr+OjdvGo8zc7MX48y2G8ai+c7cdLzj5In8fVnVyj9nG9b2x5nFc/nnbE34\n",
       "1hwdzD8zbx+6HmcGaux587WZOLNzdfaa3bA+f41Pn5qPM7fcnl3LVVVV3//OhTgz3TsZZ44dvRrN\n",
       "79yd3/+GZ8/GmYmp0Tjz8sH8frZr4ko0f+8Dm+IdP/phfv9bu24gzrx8LH+e2X35SJy5Y//maP7x\n",
       "p/N78z078szC+l1x5qmnsve/qqrqwI0n4sz7P5C9ZgOX8h3tk+/Emf7d+Wt28HJ+n7lv7aFo/mtf\n",
       "WY537Lwxvzf95m+vjzN/+Rf5s9Yv7/pZnPnCM9l789nbX493fPPxG+PMylX5Z/Peu4fizPEz2Xdt\n",
       "f3/+nNGq8XuuGf6eqaqq6mnmmW6NHgB4d/mPQAAAAAAogCIQAAAAAAqgCAQAAACAAigCAQAAAKAA\n",
       "ikAAAAAAKIAiEAAAAAAKoAgEAAAAgAIoAgEAAACgAIpAAAAAACiAIhAAAAAACqAIBAAAAIACKAIB\n",
       "AAAAoACtRo1QnUzVrRGpkal68m6zWy1H88vt/MB6Wr1xps7pLy3mqb6+Gq9ZuKZ/oBnv6O/PM93l\n",
       "pTgzPNKKM+lrNjfXiXesWdsfZ7o1PjQrxvNrc6DG+zk93Y7mV63Oz//Esbk4c/7sYpzp6cnvgpMr\n",
       "sky7Zyjece7QQpzZcMtknFk8dz7O9K9dE2fmTp6K5jdtzs/lrYPX48yNN43EmTdem44zO3atiubn\n",
       "T2evV1VV1bYbsh1VVVULx0/Gmc3bJuLM66/kr9nq8L6xfiy/Z3QW83vm7bcPx5lHv3c5zmzZtiGa\n",
       "7z97LN6xYVN+zexcl9+bnng+/z6b2bw5zoxdPR7NrxjPz//t6ak4c+yl/P3fsSu/zl65kF/PN80f\n",
       "jOYHdt0Q73jhpfyaOfq1S3GmzrPG9V17ovmPDB+Ndyxdze+z86fWx5mf+4W1ceaZJ++IM79+68vR\n",
       "/J/+dEu+45ZX4kzfUP7c8PiT+X3mwP6BaL41lj8Dzi/k98ylxfz3ycJCnmk18+fm+Gxq/Aaq81u7\n",
       "Tg9SZw+82/xHIAAAAAAUQBEIAAAAAAVQBAIAAABAARSBAAAAAFAARSAAAAAAFEARCAAAAAAFUAQC\n",
       "AAAAQAEUgQAAAABQAEUgAAAAABRAEQgAAAAABVAEAgD/D7v29WTrdd4Heu3enXM4p0/OATmDSARJ\n",
       "MIBREiWStoLtUU34f+Zi5tI1VeORqqZk05KsSIIQGACQRCBA5HRyPqdP57R7p7mY2zGrfrtM0DXf\n",
       "81yvX71rfWt9Yb/dAABABWgEAgAAAEAF9JdaD6leMqUbJzqdPFOr9zC5sEy73cO8+ut5Jk6U0mx1\n",
       "4szwcA9zCyfXbTbjGkPDvfSp870ZGc3Xn85tfa0V15iY7I8zfTt5pru5EWd6mdvNG41o/OzcYFzj\n",
       "6pXtOHN7YSfOjE/k699ZWonG98/OxTU2N27HmeXN/D4baeXn+eKFzTgzP5DN7cCegbjGpQv5+udn\n",
       "8ufMxR6eMx99sB6Nv/PgaFxj/2j+zmiv5/fm8T35PXPtShwpDzw8GY3fPH8xrrEytCfOTF64FGfu\n",
       "vndfnHnztew58/mn8rWcbmTP8lJKaa1vxZnPf/FgnHn+h7fizNe+diwaf9/txbjGT97Iv+g+/8X8\n",
       "HVC/cT7O/KoxE2cW9x6Pxv/kn5bjGpNT+fP829/N75mtD9+PMz99Ldubr37zjrjGGy/l5+zyC/l9\n",
       "9vuPfhJn7rj7SJw5c+WhaPy/eyLfl7/4ZXYuSymlvz+/N//0sTNx5vkXs+fM3Fz+ndXLPdPLb6CZ\n",
       "2bzO9lb+rVELP8/S36al9PZbO/8ChP8++Y9AAAAAAKgAjUAAAAAAqACNQAAAAACoAI1AAAAAAKgA\n",
       "jUAAAAAAqACNQAAAAACoAI1AAAAAAKgAjUAAAAAAqACNQAAAAACoAI1AAAAAAKgAjUAAAAAAqACN\n",
       "QAAAAACogP7ap1Wp20Ok00Odvt9+b7PTzhfT7mEttR42p93K5zY4mF+zvr5sct3mTlxjeDifV62W\n",
       "Z7qNRpwZHa1H49dWW3GN8Yn+ONPdHI4z7a3tODM1PR5nbt3MrvPEWH4DjI1l+1JKKWurzThz4NBI\n",
       "nOnubETjr1/L96U+kJ//a1fyOqcPT8SZG+/n99mhR3dF4xs3F+Ia+w9Oxpmdhdtx5vCxbC2llPLh\n",
       "e+vR+MaJ6bhG/8LVONOa2Rdn2tfzOqfv3BNnNs9fjMYPHjoc1/jwx/n+f/5zB+JMfXEpzoxPDEXj\n",
       "3/24Hdc4NZOdy1JKWeqfjzPT58/GmdN35mfzZz9bicY/fjp/n3/1m/n+r733YZwZPXEszjw+vRxn\n",
       "nv/lajT+4c/kz6aZ5s04s/1x/g4YPHVXnPnSxOVo/N/99fW4xolTY3Hmj7+Xf5t8/2/z74avns7P\n",
       "5srY8Wj8jYH74xp//sxHcaZx7Uac+Yuf3xFn/s2jH0fjByfyb4bB2bk4MzAzFWcuX8l/083tzt5N\n",
       "pZTSbmU/njs99Bo6PYQ+td5JqIflU3H+IxAAAAAAKkAjEAAAAAAqQCMQAAAAACpAIxAAAAAAKkAj\n",
       "EAAAAAAqQCMQAAAAACpAIxAAAAAAKkAjEAAAAAAqQCMQAAAAACpAIxAAAAAAKkAjEAAAAAAqoL+U\n",
       "WhzKE6WU0o0TnW6eqfX1NrtEu5PPq936dNbSbud1BgfzfnBfPZtbp9mKawyPjMSZWl89znQajTgz\n",
       "OjYYja/10HKvNfN51cfG4kxjYyPOTE0PxJmhoWxvWmtrcY3pmWxfSinl0mp+NnfPD8WZ2lo2t4VL\n",
       "O3GN6R72ZXmpGWdaJ6fizNbWUpy5casdjZ/udOIaR47mz5nGjfyczU/mz+bLY9k9c+bj9bjGvScm\n",
       "48x7H+TPjAdOT8eZue5WnOkOZet5642VuMbQUP5Af++D/Hl+YiZ/Nn3myb3R+Od/cDOucfDwvjjz\n",
       "3ivLcebZr5+IM/uvXI0zNwayZ8DZ5fyeObz5cZzpP3oyzrzwwmKc+ey9+Tn75h9kZ2Dt3Q/iGoOH\n",
       "DsaZtz7K3hmllHLp727EmW99fTYa/wffyN9Nm5+cjTM7i7vizLe/tz/O/ODv82fg5/Z9GI1/bzW/\n",
       "/yeP3R1n3rxyIM78yd1vxZm/eDVbz/h4/ntmbnd+L++az7+1n3ws/61x6Vr+Dkzftf39+e/mgR5+\n",
       "A3d6+K3dY/Pkt16ih5Xw/yP+IxAAAAAAKkAjEAAAAAAqQCMQAAAAACpAIxAAAAAAKkAjEAAAAAAq\n",
       "QCMQAAAAACpAIxAAAAAAKkAjEAAAAAAqQCMQAAAAACpAIxAAAAAAKkAjEAAAAAAqQCMQAAAAACqg\n",
       "v9R6SPWQ6XY/nUyp/fZ7m512nmm18sX09bCUdg9zGxjMN7S/P8t02524xvBwfgFq3YE409nZiTOj\n",
       "YyPR+IGBfC3t7Uac2Wrl6+/v4Z4ZqLXizNh4PRrfaWzFNWbnxuPMtavbcaa/nWdqU1PR+I33V+Ma\n",
       "p++aiDOLt/Pzf+1Kvv7hkWz/S8n3Zvc9s3GNxo2bcaZ/93yc2bl6Nc4cPrYrGv/+O2txjdXWZJxZ\n",
       "X8vP5uJ2fjYnGzfizMpgtjfLS/k1+8wTM3HmlZ8vxZlDh/fEme6589H403fmZ/mtN1bizP6Dw3Hm\n",
       "5y/l1+zhk/1x5onHs/fGj55fjmvsf+JonHn5hdtxZveewTjz7pX8u+GO9U+ywOFTcY1/eXExzgwM\n",
       "5N+z3/x2fp/9099n742vPJp/My3PnI4zb76S35tfvufjOPP4U0fjzOu/zr4BHp7I5/X6O8fjzBNP\n",
       "598Nv/7VQ3Hmzx58Oxrf3tiMa9RHst8mpZQyODYXZ158+WCcefqJ0ThTGxmKxm9v5781N9bye3Ng\n",
       "MP/d1FNPIwz1UoJq8x+BAAAAAFABGoEAAAAAUAEagQAAAABQARqBAAAAAFABGoEAAAAAUAEagQAA\n",
       "AABQARqBAAAAAFABGoEAAAAAUAEagQAAAABQARqBAAAAAFABGoEAAAAAUAEagQAAAABQAf213/UM\n",
       "foNuJ8/U+npYURjpdLpxiXY7z/T1sJZOD3UGBvN+cP9AOLceNnNoqB5n+rqDcaaztR1nRib7o/FD\n",
       "Q/k17jZ34sz6VivOzA4PxJn25macmZwaDhN5jfGx/J4ZH8v2spRSWhsbcaYxNBON7+a3cpmby9cy\n",
       "NpbfZ7cX8rO5ez6/Ny9fzO7N5fX8PhtrtePMhXP52Twwkd9nu8azuU2Ez6VSSjl3Jj/Lc7vyvTzb\n",
       "Q53HP7M3zpz5xVo0fv+B9LlUysDarTizb/94nHnnrdU48/jDu6Lxe7fys3x9PD9ndxzNn80vv5Z/\n",
       "N1xey6/z3o3L0fhHHjsY13j1F0tx5uDh/Gye2L0VZ15+O39uLs4fiMa/88JCXOPIsdE4c3JPI840\n",
       "Pvk4zjz6+JFo/Es93MvNZvYsK6WUpz43G2defi3/BnjiwEdx5vCRY9H4j26fjms8Ov1JnOm/nj8z\n",
       "Tp46Gmc+vvJgNP7Dc/n+ry7nvwEGe/h98qdPXogzP33pcJyZ3dWMxk9M5O+mfT18A6yt5de53sNv\n",
       "+loYScd/mnr4ScOnwH8EAgAAAEAFaAQCAAAAQAVoBAIAAABABWgEAgAAAEAFaAQCAAAAQAVoBAIA\n",
       "AABABWgEAgAAAEAFaAQCAAAAQAVoBAIAAABABWgEAgAAAEAFaAQCAAAAQAVoBAIAAABABfT3EqqV\n",
       "Wg+pbpzodPNMqeW9zXQ1vcyr3coz9Xp+nVs91BkYyOsMDPz2e8j1vl72f/C//UT+P/TX2tH4kZF6\n",
       "XKPbyde/vt6KM7tnRuJMc3U1zkxNj0fj+3byvWytrceZqZm8Tre9GWdu32pE40dH8zPTXFqOM3O7\n",
       "8/2/eD5f/779w3HmxrXsml29sh3XuPvUVJy5+UY2r1JKOXJsd5xpXrv6W6/x7lv5vXzP/ZNx5tVf\n",
       "LMWZC5eacabTycbfcedoXKNxPX/OGnnrtgAAIABJREFU3HVnfp+9+OJOnDl7JRt/aDS/Zx597ECc\n",
       "2b5wMc480kOdl3+2GGf2ff5INH7kxqW4xoFDc3HmxK78OdtthzdAKeWZL+Zz+8E/3Y7GP/jIdFxj\n",
       "unEtznTb+X12peTnbP/SuWj8vgN5jZN78/dM4/oncebYiez8l1LK2zf2x5l7x7K5rQ0ejWtcGbwz\n",
       "zrz367U487W7PoozmzMnovH/7k9m4hqrb70bZ3YWsnu5lFL+8qW748yfPZHdM6WUMjQ1H40f3DUb\n",
       "17jQw3fj/oP592yr2UPvoJ1lOuH4UkreBOnRp9M5IuU/AgEAAACgAjQCAQAAAKACNAIBAAAAoAI0\n",
       "AgEAAACgAjQCAQAAAKACNAIBAAAAoAI0AgEAAACgAjQCAQAAAKACNAIBAAAAoAI0AgEAAACgAjQC\n",
       "AQAAAKACNAIBAAAAoAL6S62HVC+Zbg+RHjK1vh4mF0a6nbxEq50vpq+e1+nlog305/3ggYE0k+9L\n",
       "t7kTZxrdgThTr+fr7zQa0fiR0Xwza335vLY223GmUx+NM72cs9GRbD3dgbG4RnN5Oc7MzOZ1+nYG\n",
       "48zylWY0fno2r9FprMaZPXun48z1a9txpr+5GWdm57JrcOtmdl+WUsrazkicaTbz9V88l69//+RQ\n",
       "NH56OH9mTs/08MxcX4oze/cNx5nLl/LrfORotp/bV67FNbpz++LM9pUrceb0nXvizHtvZ8+AA0/t\n",
       "jWtsX7wYZ+oHDsWZ9rXLcebY8dk489ovsvP81GO74honJ/Kz3GnmH5vnl8fjzKHNC3Hm8aey/Ry8\n",
       "nZ+ZoQP748xrb+bXeWWlh3fTI8ej8UcW82tcOvm7+XLf4ThzsHE+zqyOHIwz5/uOReNP1s7FNd5a\n",
       "yp8z3/uz/Jz9zX/Mf9N86eiH0fhu93Rc48bMvXHm1+dX4sx3j/86zvzlz++KMzOz2W+n+T35/f/M\n",
       "U9l3VimlXOzh22S4h9+BAwPZORsczH839tJr6SXUS5lPqd1Uaf4jEAAAAAAqQCMQAAAAACpAIxAA\n",
       "AAAAKkAjEAAAAAAqQCMQAAAAACpAIxAAAAAAKkAjEAAAAAAqQCMQAAAAACpAIxAAAAAAKkAjEAAA\n",
       "AAAqQCMQAAAAACpAIxAAAAAAKqC/9ruewW/Q7XTzTMlXVAsj3Xxapd3KQ/X6p7M73XYrzgwOZnOr\n",
       "9eU9504zn1ejWY8zY/X+ONPZyeY2OjYY16jV8nk1Gp04s76WX+fR/nxu7Y2NaHxrcCyu0csdMzaS\n",
       "Z7qD43Fme2s9Gr/rdH5m+hr5vvS1tuLMzMxAnGmtZ+svpZS9+3dF4xcWduIaVy9vx5nJqfw637zR\n",
       "iDOHjsxF41s3rsU1jh7fHWc667fizMk7srWUUsrCrXw/D+zN3jXtjdG4xjvvrcWZ+05Px5mZZn7P\n",
       "zO7Knhtv/3o1rvHo/flevv7acpx5+J6pOHO4nZ+ZhYXszLz7cTuucXp3fv9f2czXf+niZpzZ9eih\n",
       "ODNy+1I0fvTE8bjGz36yGGf6+vKvgK88OxNn/vkfb0fjv/qtU3GNn/7LQpzpdvL32dQ9J+LM6ZXz\n",
       "cebNm9m7ZuFgfs3u7zsTZ7bOrsSZr37zcJx54bnsObP+Qf5sPnYif5/9yb89GGf+0/+d32ffO/nr\n",
       "OJManMjv5Rdeys//Fz8bR8rAVL43W9vZb7q11fz3XL2HZ2baN+k100O7hZD/CAQAAACACtAIBAAA\n",
       "AIAK0AgEAAAAgArQCAQAAACACtAIBAAAAIAK0AgEAAAAgArQCAQAAACACtAIBAAAAIAK0AgEAAAA\n",
       "gArQCAQAAACACtAIBAAAAIAK6P/0SnXzRB4pnU4eqpVaNL7bQ412O8/U69m8Siml1PJMt9WOMwOD\n",
       "WQ+5Vq/HNbrtfF7bjTwzMTUQZ9qbW9H4kYl8/fXOUJxptbJ5lVLK+norzkzMDceZ9Jqtbg7GNWaG\n",
       "8kxrbSPONAfH40xqbKSHB+DQRBxpLq3Emfk9M3GmtpOfzbHBZjR+ejq/l5eXshqllHLqjrE48+H7\n",
       "63Hm4vnNaPzBmfyZMVrL96W+ay7ONG/cjDOHjkzGmZ1bC9H47bH5uMbaymqcubWWPzNmOnmd+x44\n",
       "EI1/8Se34xrnr+XfGY1GJ85cuJGf5wPDa3HmsSeza/bjH2VnrJRSlubze+b82Xz/H3p0Os688dpy\n",
       "nHn26yei8T9+Pr9mY2P5d9NDd+eZrQuX4sznv3Q4Gv/cP+bPvwOH8u+sOw/k77Mf/SI/Z5975lSc\n",
       "eWjgfDT+55/kz4yxB0/HmVd/kZ//L955Js488dmj0fiR5fxc7ixciTPbVw7FmW9/d1+c+fu/yd8b\n",
       "Vy5l3yfd/MiUf/P4J3HmX146GWd2786/tafCb9r9B/NnRrOZ/9bopdfSW38m18Mvp0rzH4EAAAAA\n",
       "UAEagQAAAABQARqBAAAAAFABGoEAAAAAUAEagQAAAABQARqBAAAAAFABGoEAAAAAUAEagQAAAABQ\n",
       "ARqBAAAAAFABGoEAAAAAUAEagQAAAABQARqBAAAAAFAB/aWWh2o9ZEq3h0gvmU6eSdfTy7za7TzU\n",
       "X88vdC97022348zAwEA0vtZfj2t0G60409jOD0Df/FCcaW9sRuMHs8v1/6oN55luNq9SStncyPe/\n",
       "fng8zrTWN6Lxa6v5/u86OhpnmksrcWZpfSfODA9nf3dpra7HNXYGJ+JML0dzYqyH0Eg+t+byajR+\n",
       "777puMbyUr6XczP539AmJ/vjzM2bjWj8gcMzcY3OretxZmF9MM7M9OXvwAN78/dGeyN7Np35KHsu\n",
       "lVLK7j35O+PcmbzOvs8djDPbly9H40+cmotrfPxB/my6677JOPPuW9n9X0op84/vjTPd8xej8Xff\n",
       "uyeu8e7ba3Hm9F35M3N0/VqcOXxkNs787IWFaPz4RP78e+BU/sxoLufv8xsl38/5K+ei8fc9mN/L\n",
       "s8382dzt5C/nr30lvzf/6QfZ/pdSyrf+8GQ0/umh7L4spZQXXs1/Azzx2fy9+eIr+Y+tp1qfROMH\n",
       "7rgrrvHL81Nx5vpz23HmO1/M3jOllPL13zsQZ5ofvx+N37pwKa7xF788HWf+zePZXpZSyvB0/pwZ\n",
       "nN8djb94Jd/LkZH8O2tgID//A4P5d3Onk78DemlRpXpoA/13y38EAgAAAEAFaAQCAAAAQAVoBAIA\n",
       "AABABWgEAgAAAEAFaAQCAAAAQAVoBAIAAABABWgEAgAAAEAFaAQCAAAAQAVoBAIAAABABWgEAgAA\n",
       "AEAFaAQCAAAAQAVoBAIAAABABfT/rifwm3S73TjT6SFTq6U14hKl085D9f5wYqWUvjxSup1OnBkc\n",
       "zArVBvKj1t3ejjM7O/la2t0e+uHhhe5sN+ISje5gnOmr5wdga6sdZzbWW3FmoF7PamzkNXY6I3Em\n",
       "vf9LKWV1JZ/bxORANL7b3Ihr3F7diTMH5vJr1lpdjTONwak4M1iy5+b0ZL6Zk1PZvpRSSnNpKc7s\n",
       "O5Cv/8MP1qPxl85vxjWOzI/GmcsfbsWZfY/vjTPbV67mmdHd0fjNzZW4xoOPTseZX768GGfeeye/\n",
       "z04dyPZzvi9/N92azd9N0335Wub3DMWZt9/M9/PJ8Gz2LeZ7uXffWJyZH8zX0j8+G2eObuXfWivL\n",
       "2TfdA3fm31mtlfzMXN6eiTPnPsnftdNPHMnGL1yMawwfPRRnXv559s4opZSHj9yMM9/4g8Nx5h/+\n",
       "5npW42vZs7yUUr78+Fqcadw8E2fuue9YnHnlg+z7ZO2D7HqVUsoDD+ffGU/dlb8D/vPzcaT80Rcu\n",
       "xZnN3Sej8a98MhfX+OM73owzf/nL03FmZjb/1ty7L3s2f/Hp/Hu+Pp6/m3r63djDb7qB/vy90Usf\n",
       "KNXDz8bw18ynx38EAgAAAEAFaAQCAAAAQAVoBAIAAABABWgEAgAAAEAFaAQCAAAAQAVoBAIAAABA\n",
       "BWgEAgAAAEAFaAQCAAAAQAVoBAIAAABABWgEAgAAAEAFaAQCAAAAQAVoBAIAAABABfTXftcz+A26\n",
       "3R4ynTxT68uuQreVT6zdyTNDA3mfNl1LKaWUTn7R+oezufUN1OMapeRrae7k17mx3Y4zg/VsPd1m\n",
       "M66xuZNfs4EezkxzJ9//9bX8ms2ND0bjG9v5NVtdzjMzw9m8SillYyNf/9HjQ9H4Wsn3f2UpX/+B\n",
       "Q5NxprtxM87cWmrEmcP7xqPxreWVuMaefRNxprS34sjcrvzenJoaiMYv3NqJa+w7MBVntreW48z5\n",
       "s5txZv9kds+UUsq5sxvR+F278xqtmzfizJGj+XU+83G2llJKmd+bnefxjVtxjXsfOBBnWtevxZl7\n",
       "7p6JMz//ef4MeO/D7Nl0ak/+bL7jeJ5pr+ffQO+dyd/np+dbcebRh7P3RuNG/s64tjMbZ86H938p\n",
       "pTz5dF7n5Z/djsZ/+esn4hovPL8QZyan+uPM+zfzZ9OdzTNx5vNfOhqN/+fn8vV/9XP58/zjrf1x\n",
       "5lQnX//RY0ej8QeGl+IaO7c/iTPDD9wbZ777bP4O/P5zcaTs2bcajf/y13bHNX70zw/GmT8+/Uac\n",
       "6Zb89+ng5Fw0/icv58+ZXfP5OyP9Ni2llN178ntzazP/rVVPO1u99Jp6Cf13yn8EAgAAAEAFaAQC\n",
       "AAAAQAVoBAIAAABABWgEAgAAAEAFaAQCAAAAQAVoBAIAAABABWgEAgAAAEAFaAQCAAAAQAVoBAIA\n",
       "AABABWgEAgAAAEAFaAQCAAAAQAVoBAIAAABABfSX2u96Cv913W6e6fQQqsXXIK/RaceR0t+f92nr\n",
       "ffmGdnu4ZgMDWZ1WKy5Raj2spdXqxJnt7TwzPNwfje80duIaW5v5oRkezs/MaiNf/8Z6vqHz8yPR\n",
       "+E4nv2Zrq/m8du8aizOt5mqcmZkZyAI7o3GNra2tOHN7Ib/Os0ODcWbpUjPO7D84EY2vtdfjGrvm\n",
       "s3u5lFI6jWxepZTSXFyOM/sOTEXjP3x/La5x6cJmnJmayq/Z9WvbcWbv/uk4s762FI2/+77JuEZZ\n",
       "yu+zfbvy9+zCrfCZUUo58/FGNP6Jpw7ENbYuX40z3dm9cWb7al7n7vvyOm+8lt2bs3P5mZlZuBln\n",
       "Fmq748ztW/kz8OZMfp/tuno9Gr88uCeucfaT/D37mSdm4kzfzQtx5p7790fjf/zcrbjGvgPDcebE\n",
       "XHb/l1LKqx/l7/MLo/l+Hr56Jhr/6GNH4xrPv5y/Zycn8/fZxcHDcebw1rlo/NDRO+Iar53Nvxtv\n",
       "/scbceaPvpM/m777tYU4s3n2bDS+diM//89+I9/LH/zDg3Hm0oX8uyHtT/zbp7IzVkopwz28mwfn\n",
       "8/2/fKMRZ+Z25c+m9Dd9D62GHvpGvXSOPh3+IxAAAAAAKkAjEAAAAAAqQCMQAAAAACpAIxAAAAAA\n",
       "KkAjEAAAAAAqQCMQAAAAACpAIxAAAAAAKkAjEAAAAAAqQCMQAAAAACpAIxAAAAAAKkAjEAAAAAAq\n",
       "oL+UWhyq5ZFSSjdPdHvIdOJIj+vJdDr5Wur1fGJ99ThSSg/XuRbuZ7OZ1xjoy/vU7VZ+ABrbeaY2\n",
       "ORiN72434hrbW+04MzySH4DV1Vac2ephbukl6OvLz//GRg9r2RmOM73MrTS2ouHtgXxe3W5Wo5RS\n",
       "lm7vxJn5O6fizE5jOc7cvJEdmv2zo3GN5lI+r8Zgvv7B7lqcmZ3Mxk9PD8Q1Fm8348ydd4/Hmfff\n",
       "zdd//uxmnJmcDK/Byu24Rm12V5zZuXEtzpy6Y2+ceeO17Dx/8N56XOP43pE489Y7q3Hmofvz61xb\n",
       "yvfz8NGJaPzHH+bX7InPHowzn/w0X8vd94UPjVLKO2/lezPz5IFo/PsvL8U17n0gX8vg4uU4M3Dk\n",
       "WJyZvXwxGn/w8Fxc48jESpzpG87fgY/fn3/PvPjadpwZOZndA7uWzsU17rrncJzZ1b4eZ16/kJ/N\n",
       "/n1Ho/Ef/Jf8/j95eizOfObO/Bvgr79/M8780Xd3x5nXPsp+a134af7N8EfP5M+Mb337UJzZfOvX\n",
       "cWb78pVo/F/+/O64xvye/HfjvgMbceazT+X3zJXr+dmcnsm+AdvtvD/RS0/nU2g1lVLybpv/CAQA\n",
       "AACACtAIBAAAAIAK0AgEAAAAgArQCAQAAACACtAIBAAAAIAK0AgEAAAAgArQCAQAAACACtAIBAAA\n",
       "AIAK0AgEAAAAgArQCAQAAACACtAIBAAAAIAK0AgEAAAAgAro/11P4DfpdnvJ5KFarZYXCnU6+bzq\n",
       "/fm86vXf/lpKKaXbakXjd3byeQ0O5Mez09mJMzuNTpwp/UPZ+B62pdHDvKamB+JMfw/nrJe5ra9n\n",
       "Z2ZwMP87RS/zWl1uxpmh4Xxu7a3taPzyWj2uMTSUz2t9LduXUkpZWWnHmV6eTYu3s73Zt38irtHd\n",
       "2Iwz129ne1lKKccPTcaZ5vJyNH7/wZm4xurKWpyZGs33f27XYJy5vZA/z+++L7vO3e2tuMbZjzfi\n",
       "zKke9r+9uRhnDh4ei8ZfPJ+f/7ld+X22uZGfs3MX8+f5oen8GXhkb/Z9trKcf5u8+Xp2L5dSyu69\n",
       "4XdGKWWq08uZyffzV69m6zl8bCSuMdW8FWeGjx6JMz95Ib9mn396XzT+6K2FuEZ9It+X19/Jn80P\n",
       "HsvfZ194eirOPP+T9Wj88ANH4xqzKxfizOidp+LMo/VLceaXH2fPmT/87t64xupb78SZgYnjceb3\n",
       "nsn2spRS/vr7+f18zwPZe/ORE/lZ/v5zcaR89ytX48zi9Ok488v3dkfjv3v0V3GN+nD+nhmays/m\n",
       "L1/J381PPJU/Z65dy343DAzmv00G+vO1dHppan0K/EcgAAAAAFSARiAAAAAAVIBGIAAAAABUgEYg\n",
       "AAAAAFSARiAAAAAAVIBGIAAAAABUgEYgAAAAAFSARiAAAAAAVIBGIAAAAABUgEYgAAAAAFSARiAA\n",
       "AAAAVIBGIAAAAABUQH/t06rU7SHSQ6bTyTN9n0I7tJd51ev57vT1kCklz3Tb7Wh8s1mPa9RG+uNM\n",
       "t9uIMzs7+eY0trNMfz1ff7OZz2t0NK8zOJjfAJub2f6XUsrGepYZ6WEt24v5vNbWWnFmfLyHs9nZ\n",
       "icYvLzfjGuOT+bwWbmXzKqWU27fzzEQPc0uvwc0b+f0/PzkSZ5bP53uzsXc4zgyF4ydH8vM/u2sw\n",
       "zjSXV+LMoSO748xKD/fARP92NL6+J5/X7Y+W48yu3eNxZqK1EWcOH8iem8uLA3GNMx/n8zp0ZDTO\n",
       "XDy/GWdm56bjzMjSzWj8Aw8fiGv8/GeLceauU/m92V7Ln83H9+bPjfW17Hl+ZDa7L0sppW8o38tf\n",
       "vJzfm9PT+T3wi1eze+Az947FNX71br4vvfxuev9q/g68s7kQZ579Wnbf/OAf8xqfeeJYnPmnv8vu\n",
       "/1JK+fo39sWZJ/puROM3z1+Ia9waOx5n/uWfVuPM739zKs586wt5nca1M9H4kTsfiGt854sX48z3\n",
       "f5T/bjpxKv8+/eM/yb5P/q//8GBc4/ZC/s4YP5v/PvvTZ67Hmddfy/sTjzw2E43f3Mifs1tbeaaX\n",
       "nk5PD/SQ/wgEAAAAgArQCAQAAACACtAIBAAAAIAK0AgEAAAAgArQCAQAAACACtAIBAAAAIAK0AgE\n",
       "AAAAgArQCAQAAACACtAIBAAAAIAK0AgEAAAAgArQCAQAAACACtAIBAAAAIAK6O8pVcsj3V7q9BDq\n",
       "dvNQrZYtqNbDBehlXvV6Xqe/h0wJ119KKd12Jxrf3Mlr1AYG40wva2k2s7WUUkpjO8sMDua3Wru1\n",
       "E2dGRutxZngkz2xutn/rmamp/JqtrOT7v7mRr2XfgeE409efrWdjrRXXOHRkNM4sLzXjzOpKntl/\n",
       "YOS3Xuf2Qn7P7Nk7GWeazaU4c/3adpw5eXQqGt9cXolrHDg4G2f6Go04U2+tx5k9+/L7rLWWXYOr\n",
       "i/nzb2g4/xvqhXNbceaRx/bGmcaVq9H4U3fOxzXefD0/Z4f359dsZXkgznz4QX7OnnjqYDR++/Ll\n",
       "uMZd9+bXeefmjTizUHbFmV2NxTjz8MN7ovGNmwtxjQ8v9/AN2IN7TuXfDa+/nY1/++O4RGnnnybl\n",
       "sQfze+bl1/Ln+dmh6Thz7PzFaPyz3zwa1/jhP9yMM489mb8Df/DP+TfAV5/dHY1/8eX8WdZqbsaZ\n",
       "P/xX++LM3/xV9p4ppZTf//38Or/yQfbdvPBX1+Iaf/C9w3Hmjz57Js40Fq7EmfbWXdH4P/vuRFxj\n",
       "+bU34kxrdS3O/MeXHowzf/yl/N309pvZt8b0dP7MnJnL3007O3mvoYeWRsx/BAIAAABABWgEAgAA\n",
       "AEAFaAQCAAAAQAVoBAIAAABABWgEAgAAAEAFaAQCAAAAQAVoBAIAAABABWgEAgAAAEAFaAQCAAAA\n",
       "QAVoBAIAAABABWgEAgAAAEAFaAQCAAAAQAX0l1oeqvUS6kG3dONMp5PXqaXt0B6W382XUur1HjL9\n",
       "+eRqfT0sKLzQzWbec+5083n1spRWK9+c7UY7Gj85PhjX6HZ34kxfN5tXKaWMjOYHrb6cX+jGdja3\n",
       "8YPDcY2hwfycNRr5Q2NqaiDO1MtINH5nZzOuMT2bz2vsRn+cWV1pxpm5Xfk9cOtmIxq/vtaKa9y8\n",
       "kdUopZSR0fycLS/l12x1figaP9qXz2u4bMeZvpnZOLNz40acOXxkMs501rMzcO2dfP1Hjo3GmU8+\n",
       "2sgzH67HmaP7xqPxtc3luMbho2NxZmfhdpy56559ceb1V5bizNu/XonG331yOq4xvp7Pa+DQwThz\n",
       "5l/y6zz5yHyc6V6+Go1fqu+Oa9xeyO+ZZ76yK85sXbocZx57LLtmL764Gtf47JPZvVxKKTu3FuLM\n",
       "00/le/OTn+brGTic1Tlw9lxc40tfPRpnmuc+iTMPP3YkzvzwuexZe+hI9s1YSiknZvJ92Tx7Ps58\n",
       "+7uH48zffP96nLn73olo/KNH82fG3//na3HmK984Gmdeejd/b26cWYvG//Gf7o1rvNd3f5x552J+\n",
       "zr5z5K048zcvPZjX+XJ2zYb27olrXLuRf8+PT+S/tXrpaaUNJ/8RCAAAAAAVoBEIAAAAABWgEQgA\n",
       "AAAAFaARCAAAAAAVoBEIAAAAABWgEQgAAAAAFaARCAAAAAAVoBEIAAAAABWgEQgAAAAAFaARCAAA\n",
       "AAAVoBEIAAAAABWgEQgAAAAAFdD/u57Ab9LtfjqZvlo2PhxeSiml08knVq/nlXrJlL68H9xtt6Px\n",
       "rVYnrtHcyTN9Pay/3c73Zmc7nFv/UFyj1kObvtNoxJnR0cE4MzCQX+dGI7tm4+P542lktB5nttK9\n",
       "LKUM9GXnv5RS2iW7zrXaVlyj1sgz0zMDcWZ9rRVnSmMzjszOZddsYz2f1+2FnTgzF86rlFKuXN6O\n",
       "M9evZZk77piOa+zcuh1nrt7O77N9M6NxprWYz217MLsG7fZKXGN+No6UxR7OzM0b+fN8Zm4iGj/e\n",
       "zu/L/bvjSCklv2jNxZtx5sSpmTjzwXtr0fhLN/Nn5v7x/J3569fzszm3Kz9nb/96Nc48+fShaPxH\n",
       "LyzENe5/cCrObJ6/EGeWB/bEmekr16LxT3/hcFxj+9KlOHOlkd9nB67diDPPfOVgnPmXH2bP8/6T\n",
       "+b7suXguzqxO5nszuZSfs4c/cyQaP7ac1xiaz9fyk59lz79SSnm873Kc+fa38/1ce+/DaPzwnffF\n",
       "Nb7S/CTOvPBc/jx75iv5i7P90dvR+O//p/w989Tn5uLMw3vyd/O//4e74syf3pWtv5RS/vHlB6Px\n",
       "hw6vxzU+82T+nXHzev4919+f72faO/AfgQAAAABQARqBAAAAAFABGoEAAAAAUAEagQAAAABQARqB\n",
       "AAAAAFABGoEAAAAAUAEagQAAAABQARqBAAAAAFABGoEAAAAAUAEagQAAAABQARqBAAAAAFAB/b/r\n",
       "Cfwm3W4PmU4eqvXVwkBcopQe1tJXzwvV+/NMrS/vB3dbrWh8q5lfgJ2dPNPfw/ob23mdxk4nrJGN\n",
       "L6WUeg/73wn3pZRSRkdH4szwcD3ObIfXoNZuxjXGJ/JH2upKfs3aW1txZmVnOBo/OJTfl+2t7Tgz\n",
       "MzsVZ24v7MSZzmZ+zeZ2z0bje5nXxka+/6fuGIszi4v5eV5Zzua2sNiOa0wNDsSZWxcbcWbX7ok4\n",
       "U+/hzFy6vhmNn9s1FNfYWVyOM8dO7I4z62v52bxwNlv/g4/uiWs0r12LMzdbM3Fm71j+PJ/tz8/M\n",
       "/gPZs/nShewal1LK5H3TcWZtbTXOfO7zeZ1XX1mLM796NbsH9uzNrnEppYxu34oz9f2H4swHP74d\n",
       "Zx56dH8WuHAhrrE8uDfOXPwg38vBO3bFmd3nLsaZL371SDT++R/0sP937IszH7yxEmfuf+hwnJlY\n",
       "Ph+N7x44Edf45x8sxJnjp/LvmZc/yH83Pd2fz+1cJzsz579/Pa7x7DeOxZkvND6MM33XN+LMzcnT\n",
       "0fgvH34nrtG/kj8zVqePx5k//9ybceb/+PGpvM4j70fjR2bze/mdX+e/gU/fNR5nGtv5N307jPiP\n",
       "QAAAAACoAI1AAAAAAKgAjUAAAAAAqACNQAAAAACoAI1AAAAAAKgAjUAAAAAAqACNQAAAAACoAI1A\n",
       "AAAAAKgAjUAAAAAAqACNQAAAAACoAI1AAAAAAKgAjUAAAAAAqID+Wi+pnkI96OaRTg+ZvnA9tR7W\n",
       "3+1hXvV6Xqi/h0yth0yq3c4vQLPZiTP9PZzo7ThRSnMnW09jO1/LwEDep++223FmaDC/ZiOj9Tiz\n",
       "ttqKxne2850ZnxiNM0PDPVznZjPOrK1k12x8PL/GpZPPa6ien5mp6f44U8pOnOhvZWdgdm4grrG5\n",
       "kZ3LUkoZaOdnc9fuwThz6eJWNP7GtUZcY+6+mTjTaCzGmcuXsrWUUsrJY9NxZuXj9Wj8Q4/mNerb\n",
       "+X3W3VyJMwcP58+zs59sROM/+TC7XqWUcvLwVJy5/KvNODN1f15naONWnDlxfFc0fmM9f2Z++H5+\n",
       "nY+fHIsz21euxZkHHjkQZ15KfswmAAAgAElEQVT9+VI0/qH7enjPtsbjzKu/zOZVSimHjozEmTd/\n",
       "tRyNf/ypQ3GN9392O848+kT+PE/3spRS+u/dE2emz56Pxn/x2aNxjRd+mN//X/7afJx5/gc348x9\n",
       "Dx6Jxr/5Qr7/T3x2Ns4M3DibZ07k5/knb+bPwKnp7Fn7jc/n36Y/7OHMPPbkyTjz4o/z/dyzL/vW\n",
       "XB69I67x7s9X48yxE/leTk7dFWf+h4dfiTP/4fWj0fj5K0NxjX/19Xz9l87n78Dxyfw3zcBA9pve\n",
       "fwQCAAAAQAVoBAIAAABABWgEAgAAAEAFaAQCAAAAQAVoBAIAAABABWgEAgAAAEAFaAQCAAAAQAVo\n",
       "BAIAAABABWgEAgAAAEAFaAQCAAAAQAVoBAIAAABABWgEAgAAAEAF9JdaHuoh0pNuL5lunqr1ZSuq\n",
       "1fIr0Onk8+p2OnGm3p/PrVb/7feD2+18/c2dfP39A/laarV2nGm1srltb+c1Bgd72Ze8TrvRiDOj\n",
       "Y/U4MzCYnc1OqxXXGJvJ59XLWkppxon19Wxv9uwdimvUBvJr1t7YjDMzs+Nxpq+W38/tza1o/K7d\n",
       "M3GNxdv5XrY282s2v3cuziwtZnNbX8v3/9qV7TgzOtYfZ5Zu78SZ27MDcWYgfAf0b6/GNVrDk3Gm\n",
       "tnIrzuzdNRZnVlcGo/G3bub7MjmVz6tez79NPvlwI8489Jl9caZx5Wo0/u778hq/enU5zuyZyN/N\n",
       "/RP748z21Wz9pZRy7/17ovHNxRtxjYsb03GmXs+/gY7syq/zzk72fn71F0txjVN35u/ZgcUrcebh\n",
       "z+Rn5vUezvO992f3zeT5c3GNLz57LM40LuR1vvKNvM6P/vlmNP7Zb+yOazTOfBJnNufytcwvnI0z\n",
       "ww8cjTOTqxei8fXRg3GNLz+8GGd+9np+/r/zr7NnZimlrLz2ZjT+0uCpuMb3vph/m29f/TjOXB+4\n",
       "N8682X0gzvzZHT+Pxtf68+/ZH7z8cJz51tfyPkh7KP8G3t7K3oH+IxAAAAAAKkAjEAAAAAAqQCMQ\n",
       "AAAAACpAIxAAAAAAKkAjEAAAAAAqQCMQAAAAACpAIxAAAAAAKkAjEAAAAAAqQCMQAAAAACpAIxAA\n",
       "AAAAKkAjEAAAAAAqQCMQAAAAACqg/3c9gd+o280jnbxMXy0bXwvH96ydL6ZezydXq9fzTHgR2u18\n",
       "L5vNPDM4kK+/nh6AUkq7lc2t0cj3cmg479PX+vJMd2cnzoyOjsWZ4eHwnHXbcY1uoxFnxifyx2Df\n",
       "wECcaWxn65mazmvUe9j/1vJKnBmfzO+ZTi0/M2VrOxre38n3f27XYJyp1fJ7pm97I87sns/mtrnR\n",
       "imvcupmvZX7PUJy5cH4zzly7ku1/KaXM783m1m6sxjUuXMvXcvrUXJzZWbgdZ46fnI/Gb6znz9mL\n",
       "Pezl0eP5/f/xh+tx5oN388wdJ2aj8c2FG3mNu3bFmfbmrTjz4cX8HXDniek4U1tZiMZ35vbFNa5+\n",
       "uBhnPv+l/Do3b+T7efpw9t3QauXv8/n+5TgzuP9InCnnL8SRhx7J9/ON17NvjXvv3x/XmLxwLs7c\n",
       "qu2NM7vP5XW+9s1j0fiNT87GNa7XD8SZT17Nz9nd9+XnbGblfJzZ2XsiGv/CD/N35h9853Cc+ezm\n",
       "h3GmcS1/137UPh6NP938JK5R9j4QR154Nf9u/vJIPrf9T94bZ/7+rx+Oxl+9vBXX+J+eyvf/pVfy\n",
       "tRw4nL/PJyezd5P/CAQAAACACtAIBAAAAIAK0AgEAAAAgArQCAQAAACACtAIBAAAAIAK0AgEAAAA\n",
       "gArQCAQAAACACtAIBAAAAIAK0AgEAAAAgArQCAQAAACACtAIBAAAAIAK0AgEAAAAgAro/11P4Dfp\n",
       "dj+dTK2vlo3Phves2+nEmXo97+32UKaUvqxOt9OOSzSb+cRGRupxpt6fb+jOTnbQdhr5WiamBuJM\n",
       "bSC/Abo7O3FmZCq/ziOjWabWy1luNOLMxMR4nOkb6OU+W4/GD/S14ho77V7Of55prWdrKaWUlZ2R\n",
       "ODM9MhyNb29sxjV27Z6JM/3d/Mw0V9bizPzeiWj88lIzrrG0mGf2H8j2pZRSVpY/nbndc/9kFtiO\n",
       "S5TFj/PQ9R6e57vH8uvcXVmMxh85Hl6vUspH7+f3/9x4vpfr+/P1X72yFWcujWXPwAPT+bxGW8tx\n",
       "pju7J87c/mApzpwfzp/Nh3dl1+CNN1biGsdOjMWZnUuX4sxifXecmVvPrvM9p/L7rNvO1//yT7P7\n",
       "v5RSnn7maJwpZ8/HkQcf2ReNf/O1/MzcfV9Wo5RSPnknfze3TuT35v5zF6LxFxvzcY2rl/NvoGe/\n",
       "MhVn/uWF1Thz6MjBOHP25ew++9Yf7o1r/O33r8WZL3z5eJx57rlbcebk6ezd9Msr+TXeuZTP67t/\n",
       "sj/O/Id/n/+m+d7c1Tjzx9+Zjsbf/vFbcY3/85XTceZ/+fqVODO2/2ScafZlrT3/EQgAAAAAFaAR\n",
       "CAAAAAAVoBEIAAAAABWgEQgAAAAAFaARCAAAAAAVoBEIAAAAABWgEQgAAAAAFaARCAAAAAAVoBEI\n",
       "AAAAABWgEQgAAAAAFaARCAAAAAAVoBEIAAAAABXQ/7uewG/S7SXTzVN9YTu0VqvFNXpaTbcTR+r9\n",
       "9TjTaudzq/dl16CXfWk188zgVN7b7u/P93OnEY7fyfdyeDhfS9/gQJxpNXbiTGd7O86MjmVns29w\n",
       "MK7R7mFew8M97H8zv8/66lmd9uZWXGN5ayjO7J4eiTPt9fU4s7SUX7PZubFofGcr3/96K7/OW938\n",
       "Og/U8/W3V5aj8fN7R+Ma6+vtOLOzuBhn9h2YiDMbG604017K5rZey+fVyzvj6uX8nE3ek89toJGt\n",
       "f3osf/7vPzAcZ1qrK3Hm+In5OLO5mZ/nyxezvRkdG49rTHXz9b/39lqcOXgof55fvpSfzaHh7Nlc\n",
       "Sl5j/1T+PB+YORhnPnr+dpy5+965aPzk0q24xieLk3FmZCR/z7z443z9Tz9zNM6UM+ej4Q8/tj8u\n",
       "8atXsndmKaV88dndceYnzy/EmebB7MzcuBb+0CilfOHJ/NtkZyHf/2cez781Xn4jX8+zn81+BzTO\n",
       "X4hrfOtru+LMD3p4ZvzRv87P88rrb0bj5x++K64xfOW9ONO4ln8D/auv5c+mv/rn/H3+5/9z9tx8\n",
       "afuhuMafHHkpzvzVy5+JM3eu5O/Aw0ezvfEfgQAAAABQARqBAAAAAFABGoEAAAAAUAEagQAAAABQ\n",
       "ARqBAAAAAFABGoEAAAAAUAEagQAAAABQARqBAAAAAFABGoEAAAAAUAEagQAAAABQARqBAAAAAFAB\n",
       "/T2lav+NZ/Ff080jnR4ytVq2oNqn1D7t9rCYen++Oe1WD3X66tH4bmnGNVrtfF4Dg/nm9A/k1yw8\n",
       "MqXVwzUeHs7XUhvI9qWUUmp9m3Gms5Pv5+jYaDS+PpQ/ntrb23Gms7kVZ9a3BuJMup/dZn6NV1fy\n",
       "/Z+dy/allFJKX34211dbcWbxdnYNpkeG4xrtHvb/1lr+zDhyaDLO7CwuRuNnZsfjGnNz+VnuNjfi\n",
       "zMRUvv/z80Nxpttaj8ZfuZ4/M/bsy+d15VJ+zi6cy5/N99w/H43fvnItrnHkSFajlFK6rdk407h+\n",
       "M86cvmtPnHn7zZVo/NmP8/N/z/35+jc2snmVUsoD9wzGmZ2d/DyfO5Ndg0cem45rdFYX4swbr63G\n",
       "mX378/fG+++uRePvuX93XGNxIatRSilPPzUWZ958uxFnfvbC7Tjz2S8cicZ3z52Pazz21ME407iQ\n",
       "1/nyV4/GmR8/n53npx/L78vWRv7OePP8SJx55M52nHnsjvycdbvZ3F45m38DPTmev5u/9HD+PbN1\n",
       "4VKceX/rcDT+nttn4xpXx07FmTeeW44z3/2T/XHm2w+8EWf+5j9lvx2/8738m+F/+18fjjPfO/yr\n",
       "ODM+d0ecmTiUZfxHIAAAAABUgEYgAAAAAFSARiAAAAAAVIBGIAAAAABUgEYgAAAAAFSARiAAAAAA\n",
       "VIBGIAAAAABUgEYgAAAAAFSARiAAAAAAVIBGIAAAAABUgEYgAAAAAFSARiAAAAAAVEB/rYdQL5lS\n",
       "up9CopRuJ0/V69mK+mr5FejpmnV/+2sppZTGdifODA3/9nvI7Va+/sHBfP2DA/la+vqyOu12vpah\n",
       "4Xqc2d5qx5mB/v44020248zIRHadt3s4l/09rKWzsxNn1tbyczY2Hu5nXyuusbmR7//KUr6XsxMj\n",
       "cWZnZyvOLC1mezN9ciyuUbYbcWS5h2s2PTMQZ8YGh6LxzZWVuMae/dNxpj+/NUtrdS3O7D+0O870\n",
       "tbLnzNpHG3GNex+YjDMb6/m9mZ7/Uko5dyZbz+F9U3GNxs1bcWahmdfZMzUaZzpLC3Hm5OmZaPz7\n",
       "7+Zn+cP38szR4/n6dxYX48wdp+fjTLOZPQTqyzfjGutDu+LMxkZ+ne+/M//W6nSyZ/O7b+XzeujR\n",
       "/J7ZWbgRZx68Jzv/pZTy6/fjSHnxhdvR+Cc+dyQvcvF8HFke3h9naucvxJnPfXZPNL65nL/P3zgz\n",
       "GGcGh/LfQC++kb/Pnvn8XJx57kfZNTh2Iv8GfP4X63HmG9/aF2f+4e/y9+bR49lvmp9+kt/LM7P5\n",
       "d8YfPJ3v/z/+l/zZdOqO03Hm6blfRePbW/n33J9/Jf9u/N//8z1xZv/ycJx5oJGdZ/8RCAAAAAAV\n",
       "oBEIAAAAABWgEQgAAAAAFaARCAAAAAAVoBEIAAAAABWgEQgAAAAAFaARCAAAAAAVoBEIAAAAABWg\n",
       "EQgAAAAAFaARCAAAAAAVoBEIAAAAABWgEQgAAAAAFdBfar/rKfwG3R4iPWRqfdlFqPXSPu3hOnd7\n",
       "WEx/PS/UbuV1avV6Nr6H9Xc6+bwGBvLNGRjMM/X+bEHtRr6WbrMZZ7a340gZGhuIM62dfG7t7UY0\n",
       "fmMj35eZ8aE401rfiDObG+04M78nm1tfvpSys7MTZ1aWW3FmenYkzvTV88O5tpbNbXEhX//cZL6W\n",
       "7R5utFs3s/NfSilTp6ai8Tu3bsU1Bjv5WrZLfjgHetj/7upynFnqjEXjh4ayd1kppTQXFuLMoSPT\n",
       "cWZ7K3/O3LiWnbPR0ex6lVLK7HC+/5fPbsWZkdHxODPRl7+bRtur0fjjJ/J5ffLRepzZN5M/m/sn\n",
       "D8SZrYuX48z9D2Z1Wqv5R+AHb6zFmXvun4gzrdX8uXn6yGSYyO+ZweVrcWZteE+cmVjM13//6XT9\n",
       "pbx7JvvWfOknt+Man3nicJx578XFOHP85O44s38hW887V/Jn8+Bgfp/dtTt7/pVSyuXJ2Tjzw+dW\n",
       "4sz9D2XfQBPL5+Iau58+EWf+7m9vxplnvpKfme7Z96LxBz9/V1yjnHknjvTtfyDOfOHWG3Hm7Fa+\n",
       "Ny8vnY7Gb/1t/p350KPH48z/eN9zcabWl/8Onp5/OBrvPwIBAAAAoAI0AgEAAACgAjQCAQAAAKAC\n",
       "NAIBAAAAoAI0AgEAAACgAjQCAQAAAKACNAIBAAAAoAI0AgEAAACgAjQCAQAAAKACNAIBAAAAoAI0\n",
       "AgEAAACgAjQCAQAAAKAC+n/XE/hNuqWbZ/JI6av9dseXUkqth0wvi+m2O3Gm1e7lotWj4bUeLkCn\n",
       "k8+r3kNre3AoD/UPZOvZacQlSrfZjDPbW/laZmaG40ytbyvOdHd2ovGbGwNxjU9rLdvb7TgzMZk9\n",
       "bvuH8vWXkl3jUkrZWG/FmeWl/GyOjGTPjFLyuS0u5uufmh6LM/W+/IZeXc6v880bWZ1dk/laWusb\n",
       "cebaShwpJ0/NxpnGjVtx5tqN7Wj8nn1DcY1uJz9nI93NOHPg0EicOXcm289LF/Pn38idE3GmlNU4\n",
       "ce5sfjbvvHs6zgys347Gz45kZ6yUUg4fHY0zrdWlOPPBufy76Z579saZrUtXovHXd2biGiOj+ffs\n",
       "6Ha2l6WUsj06H2eGVm5G408fzu+ZvpF8X37x4/zhfMfdu+LM7NpinLnrSPZ9dmYw/5775Uv5PfPY\n",
       "k/nZfO0Xy3Fmc+9kNL7dyb8Z7j2Yv2eG9x2IM/vPnI0zs48fjjNDC+ej8UvjR+IaszfPxZnf+72j\n",
       "cWbzXF7n43Z2zU71sJYPO8fizJV/uBFnjhw7GWeO7XwUZ+77g0ei8Ss/+Wlc4+rWQ3HmlfVH48zZ\n",
       "T/JvoPu72W8t/xEIAAAAABWgEQgAAAAAFaARCAAAAAAVoBEIAAAAABWgEQgAAAAAFaARCAAAAAAV\n",
       "oBEIAAAAABWgEQgA8P+waydPml3nnZjPN+VcmVmVNc8ACqgCCiABEiRIgARAUZZC7FarQ61Q22E7\n",
       "HNH2xl75j/Daa68cHWG7w90OtQarNbRaFCeRFCmSAjEQhbFQc1WOleM3f170Woz43YAAhe/zrM8v\n",
       "3nvOPffc+72ZAABQAxqBAAAAAFADGoEAAAAAUAMagQAAAABQAxqBAAAAAFAD7U/7An6pSYXIJA81\n",
       "mo1/0PGllNJo5JlSYS5lPIojo2FeJ800K7Sch8M8M64QmprKL67TyTKNZn5fJhXm0u3mj/RBN7+2\n",
       "TjuvMxkMovH7+/l92dvL5zI33Ykzo2E/znRa2bXt7uZnRpW93OuP48zDzexellLK0nK+zt2DbM32\n",
       "dvL7v76W38uFxXz/V1mztdVeNP7Q4nxco93uxpnNjXzN7t1txZljFeaz8262Zk9/ZjGuMRlNxZne\n",
       "6mqcOXZ4Os4cnJqJxt++dRDXuP7BXpw5c242zty4vh9n3nsnv7arzxyLxo9W78c1Tq3kZ0Zr7nSc\n",
       "2XhnLc784hf5u+bKE8ej8Te+tx3X+MqrK3FmnJcpr/9dHrr6mWzPNHby+/Lm2/m7+ez5/Dl7+82d\n",
       "OPPY48tx5mQrq/PoSv7OnJldiDPttZtx5pVffSTOfP8769H4F57Of5u1F47Emb/4j9l1lVLKl17K\n",
       "5z9z54M4c699Nhr/4S924xrLh7OzrJRSnlnbiDM/vpk/M4cOZXvgu+8sxTVOn8nP/1cv5Xvm/UF+\n",
       "Nn3rozNx5jfOZe/n729fjmu8vPRenLnymxfjzL0/+lacmTtyPhrvPwIBAAAAoAY0AgEAAACgBjQC\n",
       "AQAAAKAGNAIBAAAAoAY0AgEAAACgBjQCAQAAAKAGNAIBAAAAoAY0AgEAAACgBjQCAQAAAKAGNAIB\n",
       "AAAAoAY0AgEAAACgBtqlNPJUhUgVkyqZCqFmOJ9mhfZp45Nas/E4zgyH//CZVitfgOEwv5mT4TDO\n",
       "TE1NVchk86ky/yr3st8bxZnuQV5neiFfs1F/EI3vdfO57O3m93/h5GycKY1+HBnvd6Px2zuduMb8\n",
       "fCvO9Pv5/d/dze/NiVMzcWZnO7ufO9vZHiullM2N/F4eOz4dZw728zVL1/nB/V5c48LF5TgzHG7F\n",
       "mSrXNr8wH2fanex+9tfW4xrr/fy6ji0dijODzXydLz56IhrfrXDOrq3mz8zTV/NzttfLz4x7d7Jz\n",
       "tpRSrv1iNxp/9TOn4hq923fizNvv5/fm9Jl8ze7cztfsnfA7uMqZ2b99O87c6x+OM/P541zeeG07\n",
       "Gv/k0ytxjYODbF+WUsozj+bfQJ2pfAHef3cvznTPZXUePZG/z0/2N+LM8PD5ONP/6HqceelLJ6Px\n",
       "o4ODuMa3v5fvmavP5O+m738nf28+fuVMnLnx4X40/uXn4hLl9Y/y32ff+lneCHji8lycObr/YTT+\n",
       "kRefiGu0P3orzmwfvhxnHrmX13n2dz8fZ/7Nv74Zjf/d/+ZsXON//9/yd+Z/90z+rf1v73wpzjTu\n",
       "ZeP9RyAAAAAA1IBGIAAAAADUgEYgAAAAANSARiAAAAAA1IBGIAAAAADUgEYgAAAAANSARiAAAAAA\n",
       "1IBGIAAAAADUgEYgAAAAANSARiAAAAAA1IBGIAAAAADUgEYgAAAAANRAu0qo8XFfxd9nUiFSIdNo\n",
       "ZjNqNPIVqBCpZDLOF2A0yjPDYZZptSqsWZwoZTIaxZnOXN4Pn5rOMu12hdlU2Mz9fp452M/XbGl5\n",
       "Os6UVrZmg0E+l729fC7dbl6n08n3zHg4iMbv7OR7Zmm5E2eqrFm/N44zC/P5fJYPZ/M5OMjnUmX+\n",
       "V45NxZndnWGcWX3Qi8ZvrPfjGvMLrTwzn2f2dvN1vnu7G2eOHc/Opsl4L65x905+XTOz83FmYTrf\n",
       "Z70Hq9H4Rx5biWsMKrxn+msbcebS4yfizHCQn02rD7Ln5tpbO3GNy1dOxpmNd/I1+8qLh+JMhc/G\n",
       "+Nn86lcX8yKT43Hko+9ux5lXv54/A3/306zOW6/ne+aLXz4cZyY763Hm5Ey+ZjPPLMeZX7yRrcHB\n",
       "QX7+PfPUsTjz19/On7Mnr+bP85G17N787KO5uMbZc7NxZmn/dpz5lV97NM5891v53vzKs9n41mw+\n",
       "/yuLd+PM3vkLcWZ29b0482D2kWj8yQcfxjXeODgfZ/Z/sRtnhsNzceblu/fizD99djMaP17Lz5nf\n",
       "/Xz2nVVKKd/+Zv48/6tX8jq7b78TjfcfgQAAAABQAxqBAAAAAFADGoEAAAAAUAMagQAAAABQAxqB\n",
       "AAAAAFADGoEAAAAAUAMagQAAAABQAxqBAAAAAFADGoEAAAAAUAMagQAAAABQAxqBAAAAAFADGoEA\n",
       "AAAAUAPtarHGJ5TJTSaTONMM26Hp+FJKaTQ+mfmX8TiOjEb5mg2HWabVyudfac0qzL9Z8vlPT2Wb\n",
       "oBOOL6WU0qxyX/L5d7ujOHOwn9eZ6XSi8eNxL67RPcjnsrs7jDOzs604U0p2bQf7+VzOX5iNM7vb\n",
       "+Vw2+/n9H+7sxpnDRxai8bs7+b3c3OjHmclePpejx/N7sx/ugZ0K81+9n8//2InpONPvHcSZzc1B\n",
       "nPnc80vR+FbJzqVSSule244zt27k87/0xGKcaQ03s8BuOL6UcvGxbI1LKaWVv85K9979OPP4lRNx\n",
       "ZjTaicavPsifmUYz/545cXImzvRW1+LMpYtH40w6m969B3GND7by/X/qTL5mBzduxZnPPHMyGv/W\n",
       "L/Lnvzy4HUduD1fizLkj+X5e2lmNM89/6VQ0/u9+8jCu8Td/m383PXEl+84opZS33sjOjFJKOX0m\n",
       "28/TU/l31tmp/L50l8/HmcaN63Hm5S8cjjOlmX2f/qdv78clvvSVR+LM3J3348wHw7NxZiv8bviw\n",
       "n6/x6bN5K+jJ2Rtxpn/uyTjz+3+a7+cXXnwsGv/9P92Iazz1zBNx5nOdn8WZa+Wzceb3fnYoGu8/\n",
       "AgEAAACgBjQCAQAAAKAGNAIBAAAAoAY0AgEAAACgBjQCAQAAAKAGNAIBAAAAoAY0AgEAAACgBjQC\n",
       "AQAAAKAGNAIBAAAAoAY0AgEAAACgBjQCAQAAAKAGNAIBAAAAoAbajcanfQl/v8nkk8k0wkVoNvNF\n",
       "a3xCLddJhQUYDfM6w2FWp93O16xZYc2qzH8yHMSZqelWNn4qn0wjK1FKKWVc4Wb2euM4c3AwijNz\n",
       "R6aj8c1GP65RZS57u/lc5hfym9Nsd6Lxg35+L2c6+f5fXMquq5RS9vfzNZsM8udsejZbg8Mr+Vyq\n",
       "7OVRtxdnFpZn4szK0alofJX9v7Od35cnnz4UZw4q7JkH9/J1Lnvb0fC1/mxcYuFQO85UWecb1/fj\n",
       "zKUnVqLxw7XVuMZMczfO7Ezm4syh6XzPDB88iDNPXDkWjX/7rXz+VfbyV766HGdKyc+Z7t37cebR\n",
       "80ei8a25s3GNtXfX4sxLL+TPc2v+XJzp3rgZjb/yWLZepVRbs4/+03qcOdjPvs1KKeXK49kzU0op\n",
       "k7u3ovFf/drFuMaPf7gZZ45O8jPw8Etn4sxPf7QVjX/hav4N2Dl+Mc5890/zM/PchaNx5tIo/6b/\n",
       "1g+z9+bnX8jPzO9/J39mTp46GWf6/fx99rnT2bXtLF2Ia8zfvxZnbk89FmfOrV2PM//sxfxb6+fh\n",
       "u/Ybl+/ENdYPXY0z//a7+b35r/7bhTjzPz3yzWi8/wgEAAAAgBrQCAQAAACAGtAIBAAAAIAa0AgE\n",
       "AAAAgBrQCAQAAACAGtAIBAAAAIAa0AgEAAAAgBrQCAQAAACAGtAIBAAAAIAa0AgEAAAAgBrQCAQA\n",
       "AACAGtAIBAAAAIAaaH/aF/Bxm0zyTDNshzabjbxGI8+UCpEqCzAa52VGw6xOu5P3nJutSguQJ4aj\n",
       "ODM11YnGT0/n82+088ykDOPMoJ9vgIP9fM0Gi9lx027n978/yOeyv5fP5fTZmTjTnEuP2924xmh/\n",
       "P84sLS/Emd3dfJ+VZn5vRnvZfI6sLMc19nbz+99o5Znhzk6cOX7icDT+4CC/rtX7/Tgz3NyMM6dO\n",
       "L8aZXjffM+Netmfu3snPmTPnZuPMjQ/zZ3N9fRBn2mGdxy4di2t0792PM9dvxZHy2OP52TTbyZ+z\n",
       "8fpqNP7yk/maXftFfp73qqzz9qE4c/nyqTjTvXM3Gv/O2/m9vPjoXJwZVDibXnszf86e/uyZaPxg\n",
       "NVuvUkr52ev52fzEk/k6v3ttL87sV/gGfO7zF7IaH3wU13j2yeydWUop7fmzcWb/en5tX/1qVmd0\n",
       "cBDX+Ms/z86yUkp59Vfz8+yHf70RZx7ciyPlqaez82x2/Xpc49dezc+/n76V7/+rhx/Emf6xR6Px\n",
       "h+69F9d4ffdcnGm28jPzP97I302/+hv53rz84KfR+PdbT8Q1njj4IM781y/kz/NsL/+t+b988CvR\n",
       "eP8RCAAAAAA1oBEIAAAAADWgEQgAAAAANaARCAAAAAA1oBEIAAAAADWgEQgAAAAANaARCAAAAAA1\n",
       "oBEIAAAAADWgEQgAAAAANaARCAAAAAA1oBEIAAAAADWgEQgAAAAANdCulGp8zFfx95rkiTxSGo1s\n",
       "Qo0K7dMqmRJeVymllPE4j4zyMsNhVqfdzufSalXZaBX2zChfgM5cdm3T0/kGaE618kyzG2eGw3zN\n",
       "ugf5mu3vZ5mpmXzNBoN8//d6+VwWDuVH52CUrXOnk89/PBjEmc7MMM4sLXfiTGsu38+jnd1o/GR/\n",
       "L66xcnQmzrRnKtz/rZ3ji+oAACAASURBVIdxZrK3E40/fmIurtHtVnhnDA7iTKe9H2dOncnvTSt8\n",
       "bvZ2e3GNI4fyNRtUmMutG/k6P7ifzafKe/bC+aNx5uCdfP9/8F6+Zx57fDHOzJTs2iYbq3GNK08d\n",
       "izPNYX7OPngnPwPH4buplFKevHomGv/w3bW4xlOP5Nc1mDoZZw7e34ozP/1xlrly9XhcYzDYjjMr\n",
       "zXwuC8/nz/ObP8+v7fvfXY/GP/X0qbjGwm5Wo5RSfvCTfpx55tlzcaZ57140/icf5u/zq8/k59/w\n",
       "5vU48+XPLMWZD1en4szy7o1o/I1Rvmce6+XfAE8tbcSZ/SOPxJmf/GAzGj8zm79nTp7K3zOnDt6N\n",
       "M1/8F8/EmT/7s3yde93s2Xz6s/n8/91f5M/Zc8/nZ8Ybf5L9BiillP/52R9H4/1HIAAAAADUgEYg\n",
       "AAAAANSARiAAAAAA1IBGIAAAAADUgEYgAAAAANSARiAAAAAA1IBGIAAAAADUgEYgAAAAANSARiAA\n",
       "AAAA1IBGIAAAAADUgEYgAAAAANRA+9O+gF9mMqmSyUPNsB3abDYq1MgzjUaeqbBkZTzOU8Nhlpmb\n",
       "z3vO7XaFNUtvZillMh7HmfFgEI2fmsmvazTJM61WvmaDQT7/Xi/PHOyPovGzs624Rvcgq1FKvpdL\n",
       "KaU56seZre3s3szO5fMvjXz+o/39OLN8eCmvU2GdG1OdaPy4241rzC9Px5m9g/zZnJ2djTOj/YOs\n",
       "xuJUXOP4iXz+rZn8nBnt5fvs0FJ2/0spZX+QzWdmNjvLSyllsPUwzpw8vhJnhsOZOHPnVrZn7t3J\n",
       "n5kKr9mycjTfm2ur+Tn7/ru7ceaxxxej8TNlO64xWnsQZ24dZNdVSilHj+fP89qDXpz5+d9lz8Cj\n",
       "l+bjGqP9rTjz8zfzb5OnP5uv87W3dqLxr4frVUopX3rpSJxp7GfXVUopna27cebFr56LM6/9LHtu\n",
       "XvtpvmZnzy/EmeXD+Z752x9uxplzF5aj8QuH8utaPrgVZ26PT8aZi438bD7Tuhdn1qeyfbb2Yf6d\n",
       "cfOjfJ2ff+GROPPTCnvmlaez9/P9ybG4xpGH78aZt/v5/J+r8N305WMfxZnlL30xGr/9s9fiGv/i\n",
       "ufy7affkiTjza9e/GWf+z3e+Eo33H4EAAAAAUAMagQAAAABQAxqBAAAAAFADGoEAAAAAUAMagQAA\n",
       "AABQAxqBAAAAAFADGoEAAAAAUAMagQAAAABQAxqBAAAAAFADGoEAAAAAUAMagQAAAABQAxqBAAAA\n",
       "AFAD7Sqhxsd9FR+jySTPNJrZjJoV2qdVMqVRYaUrzH88zjOjYVao084XoN3O55/ey1JKmYxGeWYw\n",
       "jMZPT8/ENXrd/MZ0Ovk6Dwf5phkM8mvb38/W+dBifjzt77XizHCY3ctSShl1e3FmdzubT5X5N6fi\n",
       "SBlXmEvpHsSRzZ383hw/thCNH2xuxTVGO7txZn1zOs6cOT8fZ5qDQTS+ylxWVg7HmW5vNs60p/Pn\n",
       "bLi9HWfurGfXduJUfjY3OvmZ2V/fiDNnzx2NM+Nxdm13b3fjGncqZD7/heU4U8Xaaj/OvHdtLxr/\n",
       "yKXFuMbCTP5s3rqWn7NfeTl/nt/r5N9N6b558kL+zXDQyvd/KTtxYmZvNc58/ounovFvvp6fZcO7\n",
       "t+LMh9v5c/bU1bNxZv/6jbzOxey5ubeSvf9LKeW9a/lz9uJn8r154mS+zm+9ke2BL13Jz7L+oQtx\n",
       "5taP8u+mO7fyM+O55y/GmXd/sBmNf/HJ/N20PXU8zvwovK5SSnn1s/n97Jw5H41feeONuMZrD8/E\n",
       "mZWj+e+T3//z7D1bSikXHrkUZ5578CAa/3s/yp/lZ57NvwGePMjPzP/151fjzP/4tdvReP8RCAAA\n",
       "AAA1oBEIAAAAADWgEQgAAAAANaARCAAAAAA1oBEIAAAAADWgEQgAAAAANaARCAAAAAA1oBEIAAAA\n",
       "ADWgEQgAAAAANaARCAAAAAA1oBEIAAAAADWgEQgAAAAANdD+tC/gYzfJI81GOD4NVMw0GnlmkkfK\n",
       "eJwv2nCUZdqd/MLanQp96laFBRgO48hkNIrGdypc1043v66p6XzNer1sLqWUMgrvfymldLtZnZOn\n",
       "puMae3OtOFNl/pNBfm/29rLxK8fm4hrthXzNBoNBnBl1u3Hm4eZUnJmdze7n/OxsXGOY3phSytZm\n",
       "/pxNz+SZk6eWovGD9Y24xmDzYZy59zDfZ+cuZHMppZTGVj6fzY1sP1++shDXGAzzvVy2N+NI/8Fa\n",
       "nLlw8Vg0flLhm+nenfz5H2+ux5lLl4/GmUYzf55X7/ei8e+9sxvXuPhIfp4vHDqIM907d+PMo+dX\n",
       "4sz09Hw0ftzLz5k33xvHmeeeX44z7WEnzgxu34zGP/1k9lyWUkpz+nycWf1mfmb8zfZWnLly9XSc\n",
       "aR5kZ8DRkj9nJ149E2cau/neXNi4HWdeefVcNH7Sz7/NvvNX+Tvz6y/nZ9N72fYvpZTy/e9UuLYX\n",
       "szZF58jZuMboF+/EmV/5wuE4M30yu/+llPKHv5ed54ePnIprnD6bfzcf3c7X7OJL+ZrdHuTfWv/P\n",
       "f8i+AX7nxfyc2VjIz/P/44/yufyrp34UZ7638dVovP8IBAAAAIAa0AgEAAAAgBrQCAQAAACAGtAI\n",
       "BAAAAIAa0AgEAAAAgBrQCAQAAACAGtAIBAAAAIAa0AgEAAAAgBrQCAQAAACAGtAIBAAAAIAa0AgE\n",
       "AAAAgBrQCAQAAACAGmh/2hfwy0wmn0ymEbZDm81GXKNZpeVaKZSrsmajURZqd/K5dDoV1rmdb+lJ\n",
       "v59nxuNo/HiQ1+h28xszM5Ovc3c/z4yGozgz6GXzmZvP7+X8fH5dB/utOFMa2f0vpZRuN8scOpRf\n",
       "185OPv+52dk4M9rdjTO7u8M4s7mRPTczp2fiGs2pQZzpdvN1Xl/Lz4CpqezZPLx4KK4x2NqOM+tr\n",
       "+Zq12904c+7CSpxpNDai8b219bjGrYf5M3Ph4pE4M97Kr613fzUaf/HisbhGI381l1L24sRo7UGc\n",
       "eeLKiTjTbmUTunc338vvv5vP/7nnl+NMe5Kfgf0Kz8Cppflo/F7Jn+V2O3/PlLW7ceT93XydL185\n",
       "F40/uHkrrvHazWyNSynl2c8vxZlrb+3EmZ/+eCvOnD23EI2/9GgnrnFw86M489aD/P4/8+yFONO9\n",
       "fTsa/6N35+IaL72SP2fDnbU4c7bCs3nlNx+LM4PNbJ/9hz/M3xlnz5+KM88sTcWZP/y9/Gz69Zey\n",
       "d9Otnfzb5Njue3Hmh/dOx5mvPHk0zhx/+/U480+ezL5P1+evxjWO7l2PM//s+Ftx5vfvfiHO/Pe/\n",
       "k/0+8R+BAAAAAFADGoEAAAAAUAMagQAAAABQAxqBAAAAAFADGoEAAAAAUAMagQAAAABQAxqBAAAA\n",
       "AFADGoEAAAAAUAMagQAAAABQAxqBAAAAAFADGoEAAAAAUAMagQAAAABQA+1KqcbHfBUfo8lkEmea\n",
       "jWxCzQrt02YzX7RGhUwJ51JKtTUbj7JMp51fV6eTL3SjU2FLV7mhw2E0fDzIxpdSSq8XR8qhQ504\n",
       "MzU9ijP9/jjODIdZZtLrxjXmF/L57+/n82/mZcoo3DPDvf24xsOtfC/PnJqJM82pfpwZ9PNn4OHW\n",
       "IBo/NZ3P/9SppTjTam/Gmb3dfP6rD7JDoN3J7+XCwnycGfTzZzOdSymlNFv5e+PIylQWmBzENdYq\n",
       "zKWKCxdX4sx4az0a37v/IK5x/lx+Xf1Rvjcb2xtxpnf3bpx59JFj0fjOVH7O3L6V77PJ+v048+Hu\n",
       "oThz6fKZONO9na3zW+/n79nnXzgcZ1oV9tnda7txZmc7ezddunwyrlEaO3Fk6mG+/7/whVNx5v0P\n",
       "8jPw5o3sGajyzrj8ZL6Xh3fz+//dv8rO2VJKOXs+288n8ttSGneux5mf3Mufs89+7mKc2b9+I858\n",
       "983sef6N3zwR1/jxD/PvuT/+k604842vz8aZ1txcNP7YvbfjGj+8m2+0z7+wHGe++eercWb7Yf6t\n",
       "8eTT2TtweD8/Z/7kh/l7Zn//s3Hmf/j6Wpx5e/WJaLz/CAQAAACAGtAIBAAAAIAa0AgEAAAAgBrQ\n",
       "CAQAAACAGtAIBAAAAIAa0AgEAAAAgBrQCAQAAACAGtAIBAAAAIAa0AgEAAAAgBrQCAQAAACAGtAI\n",
       "BAAAAIAaaDcan/YlfLwmkzzTCNuhzWa+aFUypVmhT1vlhlZYs9EoC7VaeY3OVD7/QX8cZ5rtdpyZ\n",
       "DIfh+FFco9fL7+Wx4/mazczkmW43v7ZeL9sz414/rjG/NBNnDg7y+9+a7cSZZnM3Gj/u9eIaO9v5\n",
       "dc3MDOLMyspCnGm2HsaZ7kH2PG+u53OZqnDOHDqU75mHW/m1bT/MzplWK98z7bP5MzM7l89lfy8/\n",
       "Ax/c7caZy1cPReOnpmfjGuN38728ej+/N5P8dVbOXzwSjW/sbMY1eg/W4sz7a3Nx5sIjy3FmurUT\n",
       "Z3r3H0TjzxxdimvMzs7HmVYnf8/efjt/Zvb382fz0UvHovGtdn5fRvfvxJl3txbjzGNP5O+zj67v\n",
       "R+Nf+2l+ZrzytZU4Mxnn8z+4la/zucWpOHP6xWzP/OLNfM/87G+34syrL07Hmfvb+Xvj3WvZN+AL\n",
       "j2bjSynl3uRUnJmbz74zSinlO9/M3wHLh7N3cymlfOZz2Xuj+9H1uMbVw/m7+YUvPR5nhjv5fv6D\n",
       "P8jWeWk5v/+fez4/M6ZXP4wzL53IvzXmv/xInPloK/s+X3nwWlzj7Nnsm6GUUjqL+Tr/7eYzceZX\n",
       "fz17zvxHIAAAAADUgEYgAAAAANSARiAAAAAA1IBGIAAAAADUgEYgAAAAANSARiAAAAAA1IBGIAAA\n",
       "AADUgEYgAAAAANSARiAAAAAA1IBGIAAAAADUgEYgAAAAANSARiAAAAAA1ED7076AX2YyqZCpUKfR\n",
       "aETjmxXap81WnmlUKJTOparJOBw/HMU1Op18LoNBvgNmp/LHYBLem8koXLBSyqCf3/+Z2Xyjzczl\n",
       "memDCvMJ7814OIxrjPYP4szCoek408+3c5maDu/nOJ///n5+YQ+3BnFmOp1LKWVuPt9nuzvZfPZ2\n",
       "8zVbX83PmZVjU3FmNMrPpp3tbD5bm/m9bDbz+R8/kT8z9+9148xBhf3c6e9G4+9u5HM5WuH+r6/2\n",
       "48zqg16cSffZuQvLcY1OayfObKzne3Mw2Isz587Px5ml5ex+Dja38hqzs3Fm7WAuzhw9lu+zKnvz\n",
       "jde2o/HPPl9hn03yNVt9J3v+Synl0vH8bDr6hZVo/LvX8uva/+hGnPn57UNx5tHHT8SZw539ODO6\n",
       "l83nM5eW4hpbF/LMaH8zzhzurcWZl188FY1vzh2La3zwZw/izJcfz/fms59/NM689tOHcWZh48No\n",
       "/I/vHo1rPP3ZM3GmfedunPnTH+Tfzd94OcusDRbiGjNrH8SZP/7b/Jw5dyG/Ny8cPRJnjt/+u2j8\n",
       "v/5hfv6129mzXEopp8/MxJnf/LVOnLl5M3uf+49AAAAAAKgBjUAAAAAAqAGNQAAAAACoAY1AAAAA\n",
       "AKgBjUAAAAAAqAGNQAAAAACoAY1AAAAAAKgBjUAAAAAAqAGNQAAAAACoAY1AAAAAAKgBjUAAAAAA\n",
       "qAGNQAAAAACogXaVUOPjvoqP0ySPNMJQs5mvQKtCZlxhLqVZobdb4YaOJ9nFTUbDuEanMx1ndnfz\n",
       "OrNznThTWq1s/GgUlxgOxnGmVfI6s7PhXEopB7N5nV4v3GgV9v+414sz04fy+7++md+b+fnsuG1U\n",
       "2JbDQX5fdnYqPJtT+aGxvJxPaDTINsH+fj7/7e1BnHniyYU4MxrlGzrN7O3m899Y78eZLzx+OM5U\n",
       "cf9eN86MDg6i8Xdv5/flmWcX40yVb4DVB/l5traaZQYV3jNnz8/HmcWl/Tiz/TA/m95/dy/OnDoz\n",
       "E40/e/ZkXKN3fzXOvP9uvjdf+spynLl5K/8pcPtm9mxOHtyJa7y1kT9nlyuczaW5E0cm929F4596\n",
       "7Ehc46CciTPl9nYc+fnPHsaZIytTceaJK+ei8ZPd9bjG/G52X0op5RdbK3HmytVjcaa/fi8a/+1v\n",
       "5vvyV1+ZizNlLp/LwQcfxplLs/m3xoe97Bk4cz7/DfyjH2zEmeEw/930W/8kP8+a09lztvjm23GN\n",
       "P3k9/5777V/Pv+cf9PK9+Sd/kD0zpZRy80a2zv/l5XzNpo8djTMz58/GmQ/u5+t89ly2Z/xHIAAA\n",
       "AADUgEYgAAAAANSARiAAAAAA1IBGIAAAAADUgEYgAAAAANSARiAAAAAA1IBGIAAAAADUgEYgAAAA\n",
       "ANSARiAAAAAA1IBGIAAAAADUgEYgAAAAANSARiAAAAAA1ED7076Aj9tkMvkHzzSbjbhGs5VnxqM4\n",
       "UprNvLfbaFS4tnG2ZpPROK7Rno4jpd/P6wwqZNrt7NEZDYZxjVG4xqWUMu7148zs3GycmTtoxZle\n",
       "N1vnRoXTaTKssM77B3FmZzuf/6GlbEKtuU5co9naizO9Xr7/H27l63zpifk4Mxxmz0CVZ6Yb7stS\n",
       "ShlsbsWZ4yeW4swkvLTJpBfX2NvLXzT99fU4c/rMkTjTqPCnyvZ89mx2u/mZWXY248jFx/L5dzr5\n",
       "Aty/143Gb24M4hpV3rNXnjoUZ25+tB9n1lbz+/nRh1md3d38/Ltw8VicmZ7ZjjPd23fizKnFhThz\n",
       "5NnFaPxUayausf5Ofv8fP56/A+9sZ3MppZSLj65E47u38vvyt9eyZ7mUUl55OX/P3LqT7+ePruff\n",
       "TT/83kY0/ujxfM9cfvJonNm7nb/Pv/3NtTizcnQuGv/5L2bjSylluJOtcSml/OU382dm+XD+zDx5\n",
       "NX8HbL+5E42/0MifszNP59fVOnM+zowqfDf8/h9le7PRzM6lUkr57X+af5u3l/JzZun1N+LMl2Zv\n",
       "x5kXLmXftH+x9kxc4+R0fjadWMubGk9ezc+Arc3sm85/BAIAAABADWgEAgAAAEANaAQCAAAAQA1o\n",
       "BAIAAABADWgEAgAAAEANaAQCAAAAQA1oBAIAAABADWgEAgAAAEANaAQCAAAAQA1oBAIAAABADWgE\n",
       "AgAAAEANaAQCAAAAQA20P+0L+LhNJhVC4yzUbDbiEq0KmVF4Xf+5Tt7bbeSXVkp4aZPRKC4xHgzj\n",
       "zKA/jjO9Xp7pLHSi8Y1+P64xmeTzHw8GcaY9lc2llFLm5vOjo9vN1rk51YprjKrss36+Znu7+bN5\n",
       "+sxMNL4/ymvMzORrtr+fr9lBhcx0M1/nlaNT0fhRhTUbb+TXNe7lz3N5+DCOnDi1lNcJrd7vxZnJ\n",
       "oBtn+qvrcebk8eU4s7OXnU2LSxX2zGA/zgxWV+PM2TNH4sz0TPYNcPd2fi+3t/N3U2t3I85cfvJo\n",
       "nJlfyOeTrsGDe/kzs7uTr9nTn12MMzPtQ3Gmd/9BnGmN96Lxb2/lc7lydSHONDv5s/nh63nmfrgH\n",
       "zl3I9/LxE/l7pnvnbpw5WuFHwNmXTsWZG7eyd+2N6/l9+c5frcWZr30p+84opZSd8eE48+613Wj8\n",
       "7Pr1uMYP76zEmV/7Rv6eeeuNnTjzg+/l74CXL21G49/vnY9rXD2fn5n969fjzB//Tb7PvvFctmcW\n",
       "Ll+Ka0yG+bvp3/+7O3Hm/r25ODMePR5nFpeyb8Df/mr+Pp8+kX+btxfzzP17+ffMzGz2O9B/BAIA\n",
       "AABADWgEAgAAAEANaAQCAAAAQA1oBAIAAABADWgEAgAAAEANaAQCAAAAQA1oBAIAAABADWgEAgAA\n",
       "AEANaAQCAAAAQA1oBAIAAABADWgEAgAAAEANaAQCAAAAQA20P+0L+GUmk0mcaTQaFeqMo/HNZr5s\n",
       "zVZ+XaNRhfl38t5us1nh2kp2bZNxtsallDIZDuNMv5/X6ffyzGi2FY1vdDpxjWZjFGcmozwz6vXj\n",
       "zNz8fJzp9bI1a81OxTWq7Jlxrxdnugf5Onea2bWtrufP/+JSfjaNK5wzBxXmP9zdizNzhw5F448d\n",
       "m45rVHjNlGa+NSvts7K1FQ0/deZwXKLK+d9ezM+z4c5OnOmvbcSZmw9movHnL8zGNabm88xgYzPO\n",
       "9B6sxpkji9kzM/dEfpbfvtmNM2WcP//d23fjzMnlbP6llLIUZm5+dBDXWF/L37Nl7V4ceWM9n/+5\n",
       "C8fizEIr2wMPruV75rEju3Hm+tZinLl0Ofs2KaWU2zezPfCLN7fjGl99Lj+b1wcn4syJlThSurdu\n",
       "x5lj4cv27BePxzXWtvN7ORk8jDPTmw/izGfPzUXj7w3PxjVOnKzwG+j6B3HmkU7+PXPlhaNxZrv1\n",
       "aDS+/95+XOOP/31+zo7G+bfmb72aP8/b7Uei8dMb2TdjKaX83p/mZ/OvrLwZZxqPV/jWXMrfZ1PH\n",
       "sn329lb+/lsu+Tkzt5uv88JCXmc4zM5Z/xEIAAAAADWgEQgAAAAANaARCAAAAAA1oBEIAAAAADWg\n",
       "EQgAAAAANaARCAAAAAA1oBEIAAAAADWgEQgAAAAANaARCAAAAAA1oBEIAAAAADWgEQgAAAAANdCu\n",
       "lGp8zFfxMZpMKoTGWajZyReg1YojZTzMJzMpeaFmhXZwI12CCjdmMhrFmUE/jpReb1whk13b3Gwn\n",
       "rtFq9+JMqbD/J/1Bnml348z8wlQ0fnd3mNeYnYkzVfbZaJTvmdHefjT+4VZ+PJ84NR1nRqN804zD\n",
       "M7OUUiaj/OEc7uxE4+cPHYprHD+Rr1n70HycGW5txZlxNzsD+mvrcY3jx5bjzMOd/KWxePhwnBls\n",
       "PYwzW5vZeXb5Qlyi3LmXn+enzhyLM6OtzTgzfJit2dRUfpZffnIlzhwczMaZdn83zlTZM532XjT+\n",
       "ySv5/B+sZe+/Ukppz+bvgPVr+TmbPjOllHLseDafK1fzs7k5fRBnbr6ZZ166mq/ZuS+fjMbful3h\n",
       "43SSvf9KKeWNn2/Hmfdn898NZ87m59mjj2fvzYMbt+IaC+F3Viml/Ph+/jyfv3g+zpw9kb033/1m\n",
       "fpZ9+dxanPnJreNx5tFL+TfQqcX8u/FHf5G9A186cyeu8dRnF+LM3CMVPhza+Tvg7/5sNRp/53Z+\n",
       "/v3G6bfjzB9+eDnOLC7n77OVRr5mRzpZ5vNfWIxr9Hr5Xh7080x/kP/WbIYNGv8RCAAAAAA1oBEI\n",
       "AAAAADWgEQgAAAAANaARCAAAAAA1oBEIAAAAADWgEQgAAAAANaARCAAAAAA1oBEIAAAAADWgEQgA\n",
       "AAAANaARCAAAAAA1oBEIAAAAADWgEQgAAAAANdD+pAo1PqE6k8mkSiga3mjkNZqtfAV6g3GcGY0q\n",
       "XFszv7ZGmqlwXyajUZwZDPK59Hv5One7WWZ6uhPX6HSq3Je8tz8Z5+s86vbizNRCdtxs7gzjGp3O\n",
       "VJxpz8zEmWbzIM6MB4No/O5uXKI8vjgXZybjfM0m+SNTmtP5fh6H+2y4vR3XmD+0EGfu38335rET\n",
       "S3GmNLL5jA7yfdlf34gzt+9P53WO55njJ47FmakPNqPxw538Qbt9Mz8z9vfyc/bk6UNxZv7IbDR+\n",
       "sLUV1+jeuhNn3r43H2dOnMrX+fS5/DnrPViNxndv34trLM/m+//Gar5ml57Iz/O7t7tx5k6YubiY\n",
       "n83v312MM09/Jn8Htqbzc/PgoxvR+JUK32bX7i7Hmc99IXv+Synlxof7cea9d/fyzDtZZuVo/m6+\n",
       "8OjxODO/l8//rTfy/fzzn2W/g371i/nvptXhI3HmaMm+TUsp5c2f5/P/YYVv+l9/5mE0/treo3GN\n",
       "S8fzc3b4MLuuUkr5o/+U/256ZeVaNP7Zs/ka/4ebV+LMv3wp/26YOnI4znQO598A7cXsu+n2rfz9\n",
       "1+nk53mrQh+oSu8o7YP5j0AAAAAAqAGNQAAAAACoAY1AAAAAAKgBjUAAAAAAqAGNQAAAAACoAY1A\n",
       "AAAAAKgBjUAAAAAAqAGNQAAAAACoAY1AAAAAAKgBjUAAAAAAqAGNQAAAAACoAY1AAAAAAKiB9idW\n",
       "qfEJ1ZlUiEzG2fhxNr6UUlqtfAFGo3wywwqZVju/tuYgDFS5/xXWeTjIe9u9fl6n080yU1OjuMb0\n",
       "dD6XRifPTHr5tU2Gwzgz2j+Ixu/u5nNpt/PrWj4yHWdmZvpxptHI1rnfq7D/t3fizPLyoThTylSc\n",
       "6CzPx5nB1sNo/LjbzWs8zNfswf18/sNhfjYfO57dm3Y7f6WPdnbjzNZm+gIopVdhPx/s52fTmXOz\n",
       "0fj2UieuMRj04sz9e3lmdzc/z44dz86zk6dPxDXKznYc2d7O57K7uxdn1lbzdT51ejEaf/TMclyj\n",
       "t7oeZz76cD/OvPSZ/Dk7+6Xjceb2reysbc3lZ/Odt/LMhfmNOPPG7aU4c/bc6Wj8kcX8/F9/L383\n",
       "PTr3IM48dSZ/N898MZt/KaVc/yDbz7duZN+MpZTyN3+d3/9XruTrfPXLK3Gm18nOmXYzP8ve/Kv8\n",
       "bP7y6btx5tyF/Bto+mR+zmyOHovGd/r5mfG9b+dnc5X3zDfOvRNn/uC9x6Px8wutuMbvfDV/z/x8\n",
       "9WycWWzm31rzw3w+MzvZvVms8A1YpT8zqdSfykNpu8V/BAIAAABADWgEAgAAAEANaAQCAAAAQA1o\n",
       "BAIAAABADWgEAgAAAEANaAQCAAAAQA1oBAIAAABADWgEAgAAAEANaAQCAAAAQA1oBAIAAABADWgE\n",
       "AgAAAEANaAQCAAAAQA20G408VCHyiZlUCY3D1Hgcl2g123FmNMxnMxrm19Zu5Xe02QwzFTbNpMI6\n",
       "D0f5mg36eZ3ewSga3+3kCzAz24ozzek8MxllcymllMlgEGfG/X40fn83f2aaFf60USWzsFjh3szM\n",
       "ROMbjWy9Sill3O3FmcEkf2aWFg/FmdUH+bWtrCxG4xsVbuZofz/O7O4M48xwkK9zv5edTUePTcU1\n",
       "FlaOxJl2eyfO7O3m50yv140zLzw/F41fe9iJa5w6nZ/nG+v587yzne+z/b1snTc38us6fiI7y0op\n",
       "5ez5/P6vrebXmifNJgAAFvdJREFUtr6WZ7Y2s/fZ0nK+Z06ePhxnzp7L37OTyW6c2f/gepw50snW\n",
       "4Nqt7CwvpZTPPb8QZ6Zn88zD9/fizIN7W9H42Qrfc6+8shRn9nv5PmsN8j2z9877cWYl/G488ch8\n",
       "XGPm9Mk40x0cizOT3c04U+6+Gw3/ozfy+/9rn83fzW9vX4wz58/Oxpm5ufwd8NO/zJ6zFw7n+/L0\n",
       "3EGcKRfyb4A/u3U5zvzLlx5G49tL+Z5568GJOPPlF/Nnc9zIf9Ol38CllDIMeydValTpnVXpg1Qp\n",
       "k/7S8B+BAAAAAFADGoEAAAAAUAMagQAAAABQAxqBAAAAAFADGoEAAAAAUAMagQAAAABQAxqBAAAA\n",
       "AFADGoEAAAAAUAMagQAAAABQAxqBAAAAAFADGoEAAAAAUAMagQAAAABQA+1P+wJ+qUmFSKVMFpqM\n",
       "x3GN1lQjzgxH+WSGwzzTbufXlmYazbzGZJSv87jCmg36eZ1eK5tP+2AU11hYyB/PSbMTZ5pT+bWN\n",
       "KtybyXAYje/28hplJ6tRSin5zixl+fBUnGnOZ/dzZja/L6WZZ8bdXpwZVLj/qw/yvTkcZM/zkZX5\n",
       "uEa71YozzWY3zuzv5/emP8jW+aDCOXPkaL6XT56eiTOb64M4s7ubP8+91fVo/PWbc3GNL7ywGGeW\n",
       "j+T7f/V+/mxubmTrvLHWj2s83Mrvy5efn44zp07n63zvbv5srj3I1mC9wppVyXzlc/nZdGc7X7PT\n",
       "Z4/Hmcbuw2j8/bfyvfzI3Gqc+eGd5TjzytcOx5n797Pn7M6tfF8e3LgVZ779Rn6ezczm++zosaNx\n",
       "5uy52Wj83Hz+Pju4cTvO/Mef5u/AKl+Oi4vZmv3Wbx2Ka+z182e5ubMbZ378g804k76bSinl18++\n",
       "G43/vZ8/GteYns7/J6rK77PffiU/A16/fyYav9DIr+v5L+bvjFs3D+JMp5P/bmjmR1Nphv2GZvh7\n",
       "vpRSrdlUwSdRxX8EAgAAAEANaAQCAAAAQA1oBAIAAABADWgEAgAAAEANaAQCAAAAQA1oBAIAAABA\n",
       "DWgEAgAAAEANaAQCAAAAQA1oBAIAAABADWgEAgAAAEANaAQCAAAAQA20P+0L+GUmn1RokoUm43Fe\n",
       "okJmNMwnMxzkmXYn7we329l8Gq28RmM0ijOT8F6WUspwlGd6vWz+zWYjrnH8RCvO7O3la3ZocTbO\n",
       "lCr7eZJlquz/g4MKz+ZkGGcuPjYfZzbW+tH4peVOXKM9n2dGe/txZtzP5lJKKdtbcaQM+tn9TJ/L\n",
       "Uko5spKv2ZGVvM72w0Gc6XazOhvreY39/fzMeP4Li3FmaSlf57XVXpxpzWVnbbebz797+26cOTSb\n",
       "n7NHrizHmc3NbD4PHuRrvLmR77P+2nqcaTTy74azh/Oz+ZFHj0Tj793txjUe3M/XebS/E2feeTt/\n",
       "n334/l6cWT6cPc8vvpytcSmlzMweizOt+xtxZv/9D+PMQvh9+uTx/Pl/d3Mlznzl1bk4c/tWhf18\n",
       "L9/PH32YfWuMKnybz87l6/yNr+XvpslCfjbfvnkQjR9sbMY1/vKv8zV7+cQHcebcXP4OaCzkv4P+\n",
       "7Mbj0fjf/XK+Zu3FhTxzaCbOXLuTP88vfPlQNH6YH//l7p38+a/y+2Q8zvdm+LPxP2fS8RX6Bv9/\n",
       "4j8CAQAAAKAGNAIBAAAAoAY0AgEAAACgBjQCAQAAAKAGNAIBAAAAoAY0AgEAAACgBjQCAQAAAKAG\n",
       "NAIBAAAAoAY0AgEAAACgBjQCAQAAAKAGNAIBAAAAoAY0AgEAAACgBtqVUo1GlVClUqlJmeShcZgZ\n",
       "jeMSk9EozgyHeZ3BIF/nTqdKJushNzr5VmsM8zVrNIZxZjzK98ygZPemyiMzPZWHNjcGcaZZ4c8B\n",
       "CwtzcWYyyda52crnMhrm9/JgP99no+3tOLO+ni306TMzcY1BK7+ZU4utODPc3cszFe7Nznb2PPd7\n",
       "+ZlZ5f5feCTf/xvr+TpvbWbPwM5Ofv7t7+Xz7929H2fm52bjzNLjS3Fmc3MqGn/qTD+u0ZrPn7PR\n",
       "3n6cGd7In7O5mWz+j1/M17h7Id//0zOH48x4+2GcGW7vxJnB5lY0frnTiWscfXQxztx7uBJnnrwa\n",
       "R8qD+704s7menU2jj96Pa/zFh8tx5pXPx5Fyc+tknDl5Nns/d0o3rrF27SDOXGzdijNnx/l78/y5\n",
       "/Ptk6rPZGdA6ku//u7fzdS6NPDP48L04c3grO2f+zWsn4hq/+dgHceb/vfZonJmZyb9n5ubzzG+/\n",
       "mr2fX797Nq4x18x/n84M82+AJ5+ejzN372Rnc7ud/26scl/6/fzMqNQF+gRaR59Md6pU6U59IvxH\n",
       "IAAAAADUgEYgAAAAANSARiAAAAAA1IBGIAAAAADUgEYgAAAAANSARiAAAAAA1IBGIAAAAADUgEYg\n",
       "AAAAANSARiAAAAAA1IBGIAAAAADUgEYgAAAAANSARiAAAAAA1ED7076Aj92kQmQyzgLh8FJKKaNR\n",
       "HBkO88kMBnlmZrYVZzphnWanE9eYDPM1azbzzHicr9kovDf9dI+VUkb7+3FmdyeOfGIWFhai8TMz\n",
       "D+Ma3W6+zsNBlXtzEGcebk1F4x+7kB/Pt+/le3lpOa+ztHI4zswv5PfzYD+7NwcH+fPf6+X3/9Lp\n",
       "YZw5c/pQnFlezs7NjY1+XGNrcxBnGq0K77Od3U8k887N+Wj8F5/PxpdSyoON/JlZOZU/M42DCmu2\n",
       "nb0EenfvxTUajfxvyD+6XWH/H86/G44ePx5njp2fjsb319fjGoONzTjzxpuzceblK3tx5vi5/Bno\n",
       "PHckGr+1vRTXOD/pxZnJKJ//u9fyzJuvZ89Zs8K/XXz92fw8v7Z+Js4cO5Ht/1JKOXlqJs6Mt7Nn\n",
       "4ODd9+IaCw/z74x/81p+ZoxG+Zo1myei8f/86btxjW/dvhxnfueVfP+35/MzozWXn2fv3MrqvPDi\n",
       "YlxjUOE3wKDC7/PN9fx5nl/Ifp9PKvRA0t+zpZTSbDbyQlUu7hPwj/OqPjn+IxAAAAAAakAjEAAA\n",
       "AABqQCMQAAAAAGpAIxAAAAAAakAjEAAAAABqQCMQAAAAAGpAIxAAAAAAakAjEAAAAABqQCMQAAAA\n",
       "AGpAIxAAAAAAakAjEAAAAABqQCMQAAAAAGqg/WlfwMdtUimUpSbjcV5jNIojw0E+m0Erv7apqbwf\n",
       "PBxm1zaoMJf2VCfPdPpxZjxuxJl0/un4UkoZd3txZm8vf6QrbedxPp/RKMssLuX3v9Uaxpn9/ThS\n",
       "JuGZUUop3YNsoYcPH8Y11h5Mx5mD/fxs2t/LMydPzcSZ7YeDaPzOTn7/0/tSSinDnd08s5dvtKmZ\n",
       "bM3OnlyIaxw7ke+Z8SSvM93M781gezvOHBxke7N7+25c4+0P8/nPzR/EmaXl/AxcWTmajT89FdcY\n",
       "PtyKM70P8vt/43r+zFTJTM+0ovGLi/l79sjK8Tjzueez6yqllJnlpTgz2NiMM/vvfxiN/94bh+Ia\n",
       "X7ucX9d3X8v2fymlfP3L+TpPHT0SjV9bzb9NZ/JbWXY/yt9Nt27mz/PuTv4N0OtlmfE4P5uazWNx\n",
       "5p9dzd8Brdn8e6Y1OxuN/8ntS3GNf/r1/PfM2zfn48zMuMIz08t/a156Ilvne3e7cY1mK1+zZiPP\n",
       "TE3n8x+lvx3zyyoVplLpNxD/OPmPQAAAAACoAY1AAAAAAKgBjUAAAAAAqAGNQAAAAACoAY1AAAAA\n",
       "AKgBjUAAAAAAqAGNQAAAAACoAY1AAAAAAKgBjUAAAAAAqAGNQAAAAACoAY1AAAAAAKgBjUAAAAAA\n",
       "qIH2p30BH7tJlUwYSseXUiajUZwZDuNIaQ7ya5uazvvBo1FWp9sdxzXm5lpxZmoqn8t4nK9ZGhkN\n",
       "8/mPB4M40z1oxJn0XpZSyrDCfIb9rM6RlU5cY2oqn3+nk2dac/k+a7WyM2A8yA+AnZ38mTk4yM+m\n",
       "3d382p57bj7OLB/O9sDDh/kzs72Vz6W9mK/zaP8gzgx3d/9Bx5dSSrOTP2dv3J6LM4uL+efG8uHF\n",
       "OPPY49nZNH0s35edW/m93K6wNzfX+3HmxvX9aPzMTL6XD1W4l199dSXOrFeY/8ZantnazO5Nleu6\n",
       "c7sbZ15+bD3O/PmPj8aZubn8DFhaOh6N/yf/fCmusb9/LM6caeTP5niwF2d2fvFONL5d4Wz+v17P\n",
       "5/8bj1yPM+Vw/g3UPJqfG83pqWz8zExcozU7G2d+cuuxODPbzOc/E2ZefjV/z17/qBdnrjyVr9lw\n",
       "WOF3U4XfWtvb2dk8O5vflwo/6Su1GqrMv5E/mrEqc6lyWVXq8A/PfwQCAAAAQA1oBAIAAABADWgE\n",
       "AgAAAEANaAQCAAAAQA1oBAIAAABADWgEAgAAAEANaAQCAAAAQA1oBAIAAABADWgEAgAAAEANaAQC\n",
       "AAAAQA1oBAIAAABADWgEAgAAAEANtKuEGh/3Vfx9Jp9IpEwmYapCkUYZxZnhMF/pRoWb02qM48zM\n",
       "bNZD3toYxDWqzGV2tpWHKsnuZ3/yyTw1g0G+OYfDfG8O+vme6feyzPlznbjG7Nx0nJmbq7Bn5vKj\n",
       "8/CRvWh8ez7fM+12fl+q7Jl+L3+ee3fvx5nmdHY/jy7MxjVOnlyIM6urvTizdHQxznTG/Wj8aHc3\n",
       "rjHaP4gzm+vZdZVSysZanmm382fgpc9kz8Ab12biGl/6ypE4U+UduLVZIbOVZXZ3hnGNe3e6ceax\n",
       "qdtxZrbCa/NsJ39vXLgwF41vHzoU12gv5c//1uZKnHliJn/OtjYqPM/hft578824xp+8thxn/osL\n",
       "H8WZ//v7Z+NMo2TvmlY722OllPKbT+fvzG/deDzOzMzk/xMyU+Fbe6aZ1Zlu5dc13cyv6+VX82+A\n",
       "Uf6pVYbD7Fvr3v38uTx2PP8Gfhi+M0oppdH8ZH6fttvZHhiNq3QBPhlVfgX+Y53NP9brIuc/AgEA\n",
       "AACgBjQCAQAAAKAGNAIBAAAAoAY0AgEAAACgBjQCAQAAAKAGNAIBAAAAoAY0AgEAAACgBjQCAQAA\n",
       "AKAGNAIBAAAAoAY0AgEAAACgBjQCAQAAAKAG2p/2BfwykyqZKqFxFppUKTLOI8NBK85MJnmhcbcX\n",
       "Z9rTU9H4/f1RXCO8LaWUUuYX8jVrVmiHp5lmo5HX6HTiTIUyZTTKF3o4zDP9frY3B+sbcY1muC9L\n",
       "KWVxbjbO3LjZjTNnzmV1hp38Zh4/8f+1a289klVlGIBX7drV55me4SDgEGEADUGMqJELD4QbIMLo\n",
       "jVz5D73VC6MxMSZqiMYbIIAo0DMTGJhBYfpU1V1Vu/wN74rTM3E9z/V68+21a+219v66p3Hm6DB/\n",
       "NqfTPFOzOS8ODrPx+wdxjdPx53Hmvavn4szmZr7RbO9kR/S589txjfMXLsSZJ57Kz4yD/UWcOTzM\n",
       "M4ujbA18fD1fl0+sfRJn1io254fX8jPg0lezfWa8k6+Zye79cebWzXyd7V7M5z9e5Hvz/PZ+NP70\n",
       "5s24xvFHe3Hmt2/dF2deevxanLk4VLygrmfDf/X3x+ISrz1zI878Ye9ynPn5D2/HmW59Ixo/3ghv\n",
       "WCnlzWtPxpkrr+SfdTXvTaOK99Nhle2By4r3zJr32c8+O40zo5rvhvAI2NzKv2dOTvJnuZ+c0f8E\n",
       "VXzTpd/bFZ9AZ6amPQF3mv8IBAAAAIAGaAQCAAAAQAM0AgEAAACgARqBAAAAANAAjUAAAAAAaIBG\n",
       "IAAAAAA0QCMQAAAAABqgEQgAAAAADdAIBAAAAIAGaAQCAAAAQAM0AgEAAACgARqBAAAAANCA/m5f\n",
       "wP/canXnM8NQUSK/rvk879Mul3md5WwWZ1bLZTT+6DAuURbzfC6Pfm0zzkzW8vs8Wc8yk7XsfpVS\n",
       "Sn9uI85sbU/jzMlJvp7np3lmsch+z+VxPpflNM+M9g/izMfXt+PMpd3sOfvHR/n2/K3nzseZo8NF\n",
       "nDk8zNfzxkP3xZnh+DgavzzKxpdSt2amx/n8D/bncWa4cRKN7yr+tNf3eejHz2bXVUop44q9ebyz\n",
       "FWeu38jq/OCFSVxjfesrcaZf5b//4iA/OBeHWWb+8Y24xvEHH8WZ37/9QJxZLPJzpuL1rIxG2fiu\n",
       "W49rjMf5ef6Tb96KM3/cuxxn1sL3mVJKWQ/fm15/JT9n3rz2VJz52av5ufn+1Z040y+y+fezcJGV\n",
       "Ur7z/XzP/OzTfG/uuvxdu+vy/Sw9n0bpg1nyZ7mUUtY38vVf86mZGoaK36Vi/jXfp2clnc69OxO4\n",
       "N/mPQAAAAABogEYgAAAAADRAIxAAAAAAGqARCAAAAAAN0AgEAAAAgAZoBAIAAABAAzQCAQAAAKAB\n",
       "GoEAAAAA0ACNQAAAAABogEYgAAAAADRAIxAAAAAAGqARCAAAAAAN6EsZ3e1ruOtWq1U2fhjyIhWZ\n",
       "xWKc16kwTE/jzOp0Ho0/OFiLa8xm+dp8fMh727vn82vb3umj8bPpMq5xeJKty1JKefDB9Tgzrbi2\n",
       "2awmkz0D3UY+l+E0X8tDuJZLKeVgfxFnTm9+GY2/fvVCXOPy5s040/X5PnN+LX9m/vqXrTizuZk9\n",
       "z5tbG3GNre2dOPO95/N95ugoXzNHh9lzdnyUP5fHx3mm5jmb7x/EmdW1kzjzxjsPRuNffuJ6XOOX\n",
       "712KM/luXsqo4vWs67K12ff5+u/7c3Hmtee+iDNdxT7TrU3izCis003yGjXX9c5efp9/eiXfA0eT\n",
       "7H2mlFJKl50b1/aO4xLf/m4+l5u38r3pscv5bzMM4XdDxQZw+4v8zNgJ301LqdubakJVdc6gSPpb\n",
       "npWar/N7cyb1/t/mA/ca/xEIAAAAAA3QCAQAAACABmgEAgAAAEADNAIBAAAAoAEagQAAAADQAI1A\n",
       "AAAAAGiARiAAAAAANEAjEAAAAAAaoBEIAAAAAA3QCAQAAACABmgEAgAAAEADNAIBAAAAoAF9GVWk\n",
       "ajJnZLU6g9Aw5CWWyzgzn+eTWQ15ZjmdxZnU/u180XRdnjm9dRBnRuNxnpn00fiNySSu8e7VvE//\n",
       "7LNbcaZ0G3FkdpI/AyfT7BkYNs7HNTY2K/62MZ/HkYf3j+PM5P6L0fitT/K5jEb5M1Pz/A/7+XN2\n",
       "bS+OlMUy28+GcHwpVdt5efXr1+PMTl6m7IR74KirWP+b+f73m789Emf6fjPPTPL5XHk+W5tv7D0Z\n",
       "13j95dM401WcAek5U0opoz7LdGdQo5RS/vXhbpwZj/P9bFzxgtots0xX8Z7ZLfLreuob+Zq59eUi\n",
       "zoxGdz5z4WI+l8P9/Lq2tvP9bDbL38/jX7Piu2ncV5znFd8Arav5pD2Lu+yXBO40/xEIAAAAAA3Q\n",
       "CAQAAACABmgEAgAAAEADNAIBAAAAoAEagQAAAADQAI1AAAAAAGiARiAAAAAANEAjEAAAAAAaoBEI\n",
       "AAAAAA3QCAQAAACABmgEAgAAAEADNAIBAAAAoAH96G5fwb1gtcqGD0NeYrGMM4t5XmexyOZSSinL\n",
       "6TTOrJbZfG5/uR7XGPJbVma7n+ahIb9nq3DNpGuslFLe+uelOPPo0btxpozyXWBUkUnr/PqDR+IS\n",
       "XZdfV03mpaf/HWd+9+cHovEvPv1FXONP71+IM+NxPv9xxclx5YXTONP1fTR+NM7Gl1LKqB/Hmbc/\n",
       "fCbOVN3nMFNTo6vIvP6LnTgzVOyzNWfAjU92o/E/ejE/m/7zeb6WR/n0Szev2JsXYeAkLlFzZJSH\n",
       "Hsnvc6m4ZxWRMylSc10ns/wBWFs7o7/vh+80y2V+B7qKqdTsMxWvAGcifs+kirsMtMp/BAIAAABA\n",
       "AzQCAQAAAKABGoEAAAAA0ACNQAAAAABogEYgAAAAADRAIxAAAAAAGqARCAAAAAAN0AgEAAAAgAZo\n",
       "BAIAAABAAzQCAQAAAKABGoEAAAAA0ID/Ags6AZd8b8jOAAAAAElFTkSuQmCC\n",
       "\" transform=\"translate(496, 126)\"/>\n",
       "</g>\n",
       "<defs>\n",
       "  <clipPath id=\"clip013\">\n",
       "    <rect x=\"2160\" y=\"126\" width=\"73\" height=\"1283\"/>\n",
       "  </clipPath>\n",
       "</defs>\n",
       "<g clip-path=\"url(#clip013)\">\n",
       "<image width=\"72\" height=\"1282\" xlink:href=\"data:image/png;base64,\n",
       "iVBORw0KGgoAAAANSUhEUgAAAEgAAAUCCAYAAACpFrXqAAAK20lEQVR4nO3dwW0cMRBFQXLR2Tvn\n",
       "GUXgfsfdQ1UEwsOHQYxI6/475z381+fbP8CvEygIFAQKAoU59377Z/hpFhQECgIFgcLcj0YbdYJA\n",
       "QaAgUJjzcZLeWFAQKAgUBApzr0YbdYJAQaAgUHCSDhYUBAoCBYGCb9JBnSBQECgIFOb43LFSJwgU\n",
       "BAoChbk+d6wsKAgUBAoChTk+d6zUCQIFgYJAYa7HLCsLCgIFgYJAwUk6qBMECgIFgYLbHUGdIFAQ\n",
       "KAgU3JMOFhQECgIFgYIXh0GdIFAQKAgUfJMO6gSBgkBBoOCedLCgIFAQKAgUvDgM6gSBgkBBoOAk\n",
       "HSwoCBQECgIF36SDOkGgIFAQKLgnHdQJAgWBgkDB3zgMFhQECgIFgYKTdFAnCBQECgIFLw6DBQWB\n",
       "gkBBoODFYVAnCBQECgIFtzuCOkGgIFAQKLgnHSwoCBQECgIFLw6DOkGgIFAQKDhJBwsKAgWBgkDB\n",
       "N+mgThAoCBQECu5JB3WCQEGgIFDw4jBYUBAoCBQECk7SQZ0gUBAoCBS8OAwWFAQKAgWBgheHQZ0g\n",
       "UBAoCBScpIMFBYGCQEGg4Jt0UCcIFAQKAgUvDoM6QaAgUBAoeHEYLCgIFAQKAgUvDoM6QaAgUBAo\n",
       "zPWYZWVBQaAgUBAoOEkHdYJAQaAgUHC7I6gTBAoCBYGCe9LBgoJAQaAgUPDiMKgTBAoCBYGCb9JB\n",
       "nSBQECgIFNyTDhYUBAoCBYGCF4dBnSBQECgIFJykgwUFgYJAQaDgm3RQJwgUBAoCBbc7gjpBoCBQ\n",
       "ECi4Jx0sKAgUBAoCBS8OgzpBoCBQECj4xWGwoCBQECgIFFzBC+oEgYJAQaDgc0dQJwgUBAoCBb84\n",
       "DBYUBAoCBYGCK3hBnSBQECgIFJykgwUFgYJAQaDgm3RQJwgUBAoCBc/CgzpBoCBQECj4Q7TBgoJA\n",
       "QaAgUHCSDuoEgYJAQaDgxWGwoCBQECgIFLw4DOoEgYJAQaDgdkdQJwgUBAoCBfekgwUFgYJAQaDg\n",
       "xWFQJwgUBAoCBSfpYEFBoCBQECj4Jh3UCQIFgYJAYY7HLCsLCgIFgYJAwUk6qBMECgIFgYIXh0Gd\n",
       "IFAQKAgUvDgMFhQECgIFgYIXh0GdIFAQKAgUnKSDBQWBgkBBoOCbdFAnCBQECgIFLw6DOkGgIFAQ\n",
       "KHhxGCwoCBQECgIF96SDOkGgIFAQKPgmHdQJAgWBgkDB3zgMFhQECgIFgYKTdFAnCBQECgIF96SD\n",
       "BQWBgkBBoODFYVAnCBQECgIFtzuCOkGgIFAQKLgnHSwoCBQECgIFLw6DOkGgIFAQKDhJBwsKAgWB\n",
       "gkDBN+mgThAoCBQECu5JB3WCQEGgIFDw4jBYUBAoCBQECk7SQZ0gUBAoCBS8OAwWFAQKAgWBgheH\n",
       "QZ0gUBAoCBTc7gjqBIGCQEGg4J50sKAgUBAoCBS8OAzqBIGCQEGg4CQdLCgIFAQKAgXfpIM6QaAg\n",
       "UBAouN0R1AkCBYGCQME96WBBQaAgUBAo+NwR1AkCBYGCQMEvDoMFBYGCQEGg4ApeUCcIFAQKAgUn\n",
       "6WBBQaAgUBAo+CYd1AkCBYGCQMEVvKBOECgIFAQKruAFCwoCBYGCQMF/+h/UCQIFgYJAwTfpoE4Q\n",
       "KAgUBApz/I3DlQUFgYJAQaDgJB3UCQIFgYJAwT3pYEFBoCBQECh4cRjUCQIFgYJAwe2OoE4QKAgU\n",
       "BAruSQcLCgIFgYJAwYvDoE4QKAgUBApO0sGCgkBBoCBQ8E06qBMECgIFgYJ70kGdIFAQKAgUvDgM\n",
       "FhQECgIFgYKTdFAnCBQECgIFLw6DBQWBgkBBoODFYVAnCBQECgIFtzuCOkGgIFAQKLgnHSwoCBQE\n",
       "CgIFLw6DOkGgIFAQKAgUBAoCBYGCQEGgMM/77R/ht1lQECgIFAQK8/pXemVBQaAgUBAozPN8+0f4\n",
       "bRYUBAoCBYHCPK+T9MaCgkBBoCBQmNdJemVBQaAgUBAozOOb9MqCgkBBoCBQcJIOFhQECgIFgYJv\n",
       "0sGCgkBBoCBQcLsjWFAQKAgUBAruSQcLCgIFgYJAwYvDYEFBoCBQECg4SQcLCgIFgYJAwTfpYEFB\n",
       "oCBQECi43REsKAgUBAoCBfekgwUFgYJAQaDgxWGwoCBQECgIFMbXjp0FBYGCQEGg4CQdLCgIFAQK\n",
       "AgW3O4IFBYGCQEGg4J50sKAgUBAoCBS8OAwWFAQKAgWBgpN0sKAgUBAoCBR8kw4WFAQKAgWBgheH\n",
       "wYKCQEGgIFDw4jBYUBAoCBQECu5JBwsKAgWBgkDBLw6DBQWBgkBBoOAKXrCgIFAQKAgUfO4IFhQE\n",
       "CgIFgYJfHAYLCgIFgYJAwRW8YEFBoCBQECg4SQcLCgIFgYJAwTfpYEFBoCBQECi43REsKAgUBAoC\n",
       "BfekgwUFgYJAQaDgP1gKFhQECgIFgcK8bnesLCgIFAQKAgUn6WBBQaAgUBAouN0RLCgIFAQKAgX3\n",
       "pIMFBYGCQEGg4MVhsKAgUBAoCBR8kw4WFAQKAgWBgnvSwYKCQEGgIFDw4jBYUBAoCBQECk7SwYKC\n",
       "QEGgIFDwTTpYUBAoCBQECl4cBgsKAgWBgkDBSTpYUBAoCBQECl4cBgsKAgWBgkDBi8NgQUGgIFAQ\n",
       "KHhxGCwoCBQECgIFJ+lgQUGgIFAQKPgmHSwoCBQECgIFLw6DBQWBgkBBoODFYbCgIFAQKAgU3JMO\n",
       "FhQECgIFgYIXh8GCgkBBoCBQcJIOFhQECgIFgYLbHcGCgkBBoCBQcE86WFAQKAgUBApeHAYLCgIF\n",
       "gYJAwUk6WFAQKAgUBAq+SQcLCgIFgYJAwYvDYEFBoCBQECh4cRgsKAgUBAoCBfekgwUFgYJAQaDg\n",
       "xWGwoCBQECgIFJykgwUFgYJAQaDgdkewoCBQECgIFNyTDhYUBAoCBYGCF4fBgoJAQaAgUHCSDhYU\n",
       "BAoCBYGCb9LBgoJAQaAgUPDiMFhQECgIFAQKXhwGCwoCBYGCQMHnjmBBQaAgUBAo+MVhsKAgUBAo\n",
       "CBRcwQsWFAQKAgWBgmfhwYKCQEGgIFDwi8NgQUGgIFAQKLiCFywoCBQECgIFJ+lgQUGgIFAQKPgm\n",
       "HSwoCBQECgIFtzuCBQWBgkBBoOCedLCgIFAQKAgUvDgMFhQECgIFgcL42rGzoCBQECgIFJykgwUF\n",
       "gYJAQaDgdkewoCBQECgIFNyTDhYUBAoCBYGCF4fBgoJAQaAgUPBNOlhQECgIFAQK7kkHCwoCBYGC\n",
       "QMGLw2BBQaAgUBAoOEkHCwoCBYGCQME36WBBQaAgUBAoeHEYLCgIFAQKAgUn6WBBQaAgUBAoeHEY\n",
       "LCgIFAQKAgUvDoMFBYGCQEGg4MVhsKAgUBAoCBScpIMFBYGCQEGg4Jt0sKAgUBAoCBS8OAwWFAQK\n",
       "AgWBgheHwYKCQEGgIFBwTzpYUBAoCBQECr5JBwsKAgWBgkBhXt+kVxYUBAoCBYGCk3SwoCBQECgI\n",
       "FNyTDhYUBAoCBYGCF4fBgoJAQaAgUHCSDhYUBAoCBYGCb9LBgoJAQaAgUPDiMFhQECgIFAQKXhwG\n",
       "CwoCBYGCQMGLw2BBQaAgUBAo+CYdLCgIFAQKAgUvDoMFBYGCQEGg4CQdLCgIFAQKAgX3pIMFBYGC\n",
       "QEGg4MVhsKAgUBAoCBScpIMFBYGCQEGg4Jt0sKAgUBAoCBS8OAwWFAQKAgWBgheHwYKCQEGgIFDw\n",
       "4jBYUBAoCBQECuNrx86CgkBBoCBQ+AP9gkuZMIXkAwAAAABJRU5ErkJggg==\n",
       "\" transform=\"translate(2161, 126)\"/>\n",
       "</g>\n",
       "<path clip-path=\"url(#clip010)\" d=\"M 0 0 M2268.76 1368.06 L2298.43 1368.06 L2298.43 1371.99 L2268.76 1371.99 L2268.76 1368.06 Z\" fill=\"#000000\" fill-rule=\"evenodd\" fill-opacity=\"1\" /><path clip-path=\"url(#clip010)\" d=\"M 0 0 M2313.5 1353.41 Q2309.89 1353.41 2308.06 1356.97 Q2306.26 1360.51 2306.26 1367.64 Q2306.26 1374.75 2308.06 1378.31 Q2309.89 1381.86 2313.5 1381.86 Q2317.14 1381.86 2318.94 1378.31 Q2320.77 1374.75 2320.77 1367.64 Q2320.77 1360.51 2318.94 1356.97 Q2317.14 1353.41 2313.5 1353.41 M2313.5 1349.7 Q2319.31 1349.7 2322.37 1354.31 Q2325.45 1358.89 2325.45 1367.64 Q2325.45 1376.37 2322.37 1380.98 Q2319.31 1385.56 2313.5 1385.56 Q2307.69 1385.56 2304.61 1380.98 Q2301.56 1376.37 2301.56 1367.64 Q2301.56 1358.89 2304.61 1354.31 Q2307.69 1349.7 2313.5 1349.7 Z\" fill=\"#000000\" fill-rule=\"evenodd\" fill-opacity=\"1\" /><path clip-path=\"url(#clip010)\" d=\"M 0 0 M2330.51 1379.01 L2335.4 1379.01 L2335.4 1384.89 L2330.51 1384.89 L2330.51 1379.01 Z\" fill=\"#000000\" fill-rule=\"evenodd\" fill-opacity=\"1\" /><path clip-path=\"url(#clip010)\" d=\"M 0 0 M2340.51 1350.33 L2358.87 1350.33 L2358.87 1354.26 L2344.8 1354.26 L2344.8 1362.74 Q2345.82 1362.39 2346.83 1362.23 Q2347.85 1362.04 2348.87 1362.04 Q2354.66 1362.04 2358.04 1365.21 Q2361.42 1368.38 2361.42 1373.8 Q2361.42 1379.38 2357.95 1382.48 Q2354.47 1385.56 2348.15 1385.56 Q2345.98 1385.56 2343.71 1385.19 Q2341.46 1384.82 2339.06 1384.08 L2339.06 1379.38 Q2341.14 1380.51 2343.36 1381.07 Q2345.58 1381.62 2348.06 1381.62 Q2352.07 1381.62 2354.4 1379.52 Q2356.74 1377.41 2356.74 1373.8 Q2356.74 1370.19 2354.4 1368.08 Q2352.07 1365.98 2348.06 1365.98 Q2346.19 1365.98 2344.31 1366.39 Q2342.46 1366.81 2340.51 1367.69 L2340.51 1350.33 Z\" fill=\"#000000\" fill-rule=\"evenodd\" fill-opacity=\"1\" /><path clip-path=\"url(#clip010)\" d=\"M 0 0 M2376.49 1353.41 Q2372.88 1353.41 2371.05 1356.97 Q2369.24 1360.51 2369.24 1367.64 Q2369.24 1374.75 2371.05 1378.31 Q2372.88 1381.86 2376.49 1381.86 Q2380.12 1381.86 2381.93 1378.31 Q2383.76 1374.75 2383.76 1367.64 Q2383.76 1360.51 2381.93 1356.97 Q2380.12 1353.41 2376.49 1353.41 M2376.49 1349.7 Q2382.3 1349.7 2385.35 1354.31 Q2388.43 1358.89 2388.43 1367.64 Q2388.43 1376.37 2385.35 1380.98 Q2382.3 1385.56 2376.49 1385.56 Q2370.68 1385.56 2367.6 1380.98 Q2364.54 1376.37 2364.54 1367.64 Q2364.54 1358.89 2367.6 1354.31 Q2370.68 1349.7 2376.49 1349.7 Z\" fill=\"#000000\" fill-rule=\"evenodd\" fill-opacity=\"1\" /><path clip-path=\"url(#clip010)\" d=\"M 0 0 M2268.76 1093.38 L2298.43 1093.38 L2298.43 1097.31 L2268.76 1097.31 L2268.76 1093.38 Z\" fill=\"#000000\" fill-rule=\"evenodd\" fill-opacity=\"1\" /><path clip-path=\"url(#clip010)\" d=\"M 0 0 M2313.5 1078.72 Q2309.89 1078.72 2308.06 1082.29 Q2306.26 1085.83 2306.26 1092.96 Q2306.26 1100.07 2308.06 1103.63 Q2309.89 1107.17 2313.5 1107.17 Q2317.14 1107.17 2318.94 1103.63 Q2320.77 1100.07 2320.77 1092.96 Q2320.77 1085.83 2318.94 1082.29 Q2317.14 1078.72 2313.5 1078.72 M2313.5 1075.02 Q2319.31 1075.02 2322.37 1079.63 Q2325.45 1084.21 2325.45 1092.96 Q2325.45 1101.69 2322.37 1106.29 Q2319.31 1110.88 2313.5 1110.88 Q2307.69 1110.88 2304.61 1106.29 Q2301.56 1101.69 2301.56 1092.96 Q2301.56 1084.21 2304.61 1079.63 Q2307.69 1075.02 2313.5 1075.02 Z\" fill=\"#000000\" fill-rule=\"evenodd\" fill-opacity=\"1\" /><path clip-path=\"url(#clip010)\" d=\"M 0 0 M2330.51 1104.33 L2335.4 1104.33 L2335.4 1110.21 L2330.51 1110.21 L2330.51 1104.33 Z\" fill=\"#000000\" fill-rule=\"evenodd\" fill-opacity=\"1\" /><path clip-path=\"url(#clip010)\" d=\"M 0 0 M2344.5 1106.27 L2360.82 1106.27 L2360.82 1110.21 L2338.87 1110.21 L2338.87 1106.27 Q2341.53 1103.52 2346.12 1098.89 Q2350.72 1094.23 2351.9 1092.89 Q2354.15 1090.37 2355.03 1088.63 Q2355.93 1086.87 2355.93 1085.18 Q2355.93 1082.43 2353.99 1080.69 Q2352.07 1078.96 2348.96 1078.96 Q2346.76 1078.96 2344.31 1079.72 Q2341.88 1080.48 2339.1 1082.03 L2339.1 1077.31 Q2341.93 1076.18 2344.38 1075.6 Q2346.83 1075.02 2348.87 1075.02 Q2354.24 1075.02 2357.44 1077.71 Q2360.63 1080.39 2360.63 1084.88 Q2360.63 1087.01 2359.82 1088.93 Q2359.03 1090.83 2356.93 1093.42 Q2356.35 1094.09 2353.25 1097.31 Q2350.14 1100.51 2344.5 1106.27 Z\" fill=\"#000000\" fill-rule=\"evenodd\" fill-opacity=\"1\" /><path clip-path=\"url(#clip010)\" d=\"M 0 0 M2365.93 1075.65 L2384.29 1075.65 L2384.29 1079.58 L2370.21 1079.58 L2370.21 1088.05 Q2371.23 1087.71 2372.25 1087.54 Q2373.27 1087.36 2374.29 1087.36 Q2380.07 1087.36 2383.45 1090.53 Q2386.83 1093.7 2386.83 1099.12 Q2386.83 1104.7 2383.36 1107.8 Q2379.89 1110.88 2373.57 1110.88 Q2371.39 1110.88 2369.13 1110.51 Q2366.88 1110.14 2364.47 1109.39 L2364.47 1104.7 Q2366.56 1105.83 2368.78 1106.39 Q2371 1106.94 2373.48 1106.94 Q2377.48 1106.94 2379.82 1104.83 Q2382.16 1102.73 2382.16 1099.12 Q2382.16 1095.51 2379.82 1093.4 Q2377.48 1091.29 2373.48 1091.29 Q2371.6 1091.29 2369.73 1091.71 Q2367.88 1092.13 2365.93 1093.01 L2365.93 1075.65 Z\" fill=\"#000000\" fill-rule=\"evenodd\" fill-opacity=\"1\" /><path clip-path=\"url(#clip010)\" d=\"M 0 0 M2280.7 804.041 Q2277.09 804.041 2275.26 807.606 Q2273.45 811.147 2273.45 818.277 Q2273.45 825.383 2275.26 828.948 Q2277.09 832.49 2280.7 832.49 Q2284.33 832.49 2286.14 828.948 Q2287.97 825.383 2287.97 818.277 Q2287.97 811.147 2286.14 807.606 Q2284.33 804.041 2280.7 804.041 M2280.7 800.337 Q2286.51 800.337 2289.57 804.944 Q2292.64 809.527 2292.64 818.277 Q2292.64 827.004 2289.57 831.61 Q2286.51 836.193 2280.7 836.193 Q2274.89 836.193 2271.81 831.61 Q2268.76 827.004 2268.76 818.277 Q2268.76 809.527 2271.81 804.944 Q2274.89 800.337 2280.7 800.337 Z\" fill=\"#000000\" fill-rule=\"evenodd\" fill-opacity=\"1\" /><path clip-path=\"url(#clip010)\" d=\"M 0 0 M2280.7 529.358 Q2277.09 529.358 2275.26 532.923 Q2273.45 536.464 2273.45 543.594 Q2273.45 550.701 2275.26 554.265 Q2277.09 557.807 2280.7 557.807 Q2284.33 557.807 2286.14 554.265 Q2287.97 550.701 2287.97 543.594 Q2287.97 536.464 2286.14 532.923 Q2284.33 529.358 2280.7 529.358 M2280.7 525.654 Q2286.51 525.654 2289.57 530.261 Q2292.64 534.844 2292.64 543.594 Q2292.64 552.321 2289.57 556.927 Q2286.51 561.511 2280.7 561.511 Q2274.89 561.511 2271.81 556.927 Q2268.76 552.321 2268.76 543.594 Q2268.76 534.844 2271.81 530.261 Q2274.89 525.654 2280.7 525.654 Z\" fill=\"#000000\" fill-rule=\"evenodd\" fill-opacity=\"1\" /><path clip-path=\"url(#clip010)\" d=\"M 0 0 M2297.71 554.96 L2302.6 554.96 L2302.6 560.839 L2297.71 560.839 L2297.71 554.96 Z\" fill=\"#000000\" fill-rule=\"evenodd\" fill-opacity=\"1\" /><path clip-path=\"url(#clip010)\" d=\"M 0 0 M2311.7 556.904 L2328.01 556.904 L2328.01 560.839 L2306.07 560.839 L2306.07 556.904 Q2308.73 554.15 2313.32 549.52 Q2317.92 544.867 2319.1 543.525 Q2321.35 541.001 2322.23 539.265 Q2323.13 537.506 2323.13 535.816 Q2323.13 533.062 2321.19 531.326 Q2319.26 529.59 2316.16 529.59 Q2313.96 529.59 2311.51 530.353 Q2309.08 531.117 2306.3 532.668 L2306.3 527.946 Q2309.13 526.812 2311.58 526.233 Q2314.03 525.654 2316.07 525.654 Q2321.44 525.654 2324.64 528.34 Q2327.83 531.025 2327.83 535.515 Q2327.83 537.645 2327.02 539.566 Q2326.23 541.464 2324.13 544.057 Q2323.55 544.728 2320.45 547.946 Q2317.34 551.14 2311.7 556.904 Z\" fill=\"#000000\" fill-rule=\"evenodd\" fill-opacity=\"1\" /><path clip-path=\"url(#clip010)\" d=\"M 0 0 M2333.13 526.279 L2351.49 526.279 L2351.49 530.215 L2337.41 530.215 L2337.41 538.687 Q2338.43 538.339 2339.45 538.177 Q2340.47 537.992 2341.49 537.992 Q2347.27 537.992 2350.65 541.164 Q2354.03 544.335 2354.03 549.751 Q2354.03 555.33 2350.56 558.432 Q2347.09 561.511 2340.77 561.511 Q2338.59 561.511 2336.32 561.14 Q2334.08 560.77 2331.67 560.029 L2331.67 555.33 Q2333.76 556.464 2335.98 557.02 Q2338.2 557.575 2340.68 557.575 Q2344.68 557.575 2347.02 555.469 Q2349.36 553.363 2349.36 549.751 Q2349.36 546.14 2347.02 544.034 Q2344.68 541.927 2340.68 541.927 Q2338.8 541.927 2336.93 542.344 Q2335.07 542.761 2333.13 543.64 L2333.13 526.279 Z\" fill=\"#000000\" fill-rule=\"evenodd\" fill-opacity=\"1\" /><path clip-path=\"url(#clip010)\" d=\"M 0 0 M2280.7 254.675 Q2277.09 254.675 2275.26 258.24 Q2273.45 261.782 2273.45 268.911 Q2273.45 276.018 2275.26 279.582 Q2277.09 283.124 2280.7 283.124 Q2284.33 283.124 2286.14 279.582 Q2287.97 276.018 2287.97 268.911 Q2287.97 261.782 2286.14 258.24 Q2284.33 254.675 2280.7 254.675 M2280.7 250.972 Q2286.51 250.972 2289.57 255.578 Q2292.64 260.161 2292.64 268.911 Q2292.64 277.638 2289.57 282.245 Q2286.51 286.828 2280.7 286.828 Q2274.89 286.828 2271.81 282.245 Q2268.76 277.638 2268.76 268.911 Q2268.76 260.161 2271.81 255.578 Q2274.89 250.972 2280.7 250.972 Z\" fill=\"#000000\" fill-rule=\"evenodd\" fill-opacity=\"1\" /><path clip-path=\"url(#clip010)\" d=\"M 0 0 M2297.71 280.277 L2302.6 280.277 L2302.6 286.157 L2297.71 286.157 L2297.71 280.277 Z\" fill=\"#000000\" fill-rule=\"evenodd\" fill-opacity=\"1\" /><path clip-path=\"url(#clip010)\" d=\"M 0 0 M2307.71 251.597 L2326.07 251.597 L2326.07 255.532 L2312 255.532 L2312 264.004 Q2313.01 263.657 2314.03 263.495 Q2315.05 263.309 2316.07 263.309 Q2321.86 263.309 2325.24 266.481 Q2328.62 269.652 2328.62 275.069 Q2328.62 280.647 2325.14 283.749 Q2321.67 286.828 2315.35 286.828 Q2313.18 286.828 2310.91 286.457 Q2308.66 286.087 2306.26 285.346 L2306.26 280.647 Q2308.34 281.782 2310.56 282.337 Q2312.78 282.893 2315.26 282.893 Q2319.26 282.893 2321.6 280.786 Q2323.94 278.68 2323.94 275.069 Q2323.94 271.458 2321.6 269.351 Q2319.26 267.245 2315.26 267.245 Q2313.39 267.245 2311.51 267.661 Q2309.66 268.078 2307.71 268.958 L2307.71 251.597 Z\" fill=\"#000000\" fill-rule=\"evenodd\" fill-opacity=\"1\" /><path clip-path=\"url(#clip010)\" d=\"M 0 0 M2343.69 254.675 Q2340.07 254.675 2338.25 258.24 Q2336.44 261.782 2336.44 268.911 Q2336.44 276.018 2338.25 279.582 Q2340.07 283.124 2343.69 283.124 Q2347.32 283.124 2349.13 279.582 Q2350.95 276.018 2350.95 268.911 Q2350.95 261.782 2349.13 258.24 Q2347.32 254.675 2343.69 254.675 M2343.69 250.972 Q2349.5 250.972 2352.55 255.578 Q2355.63 260.161 2355.63 268.911 Q2355.63 277.638 2352.55 282.245 Q2349.5 286.828 2343.69 286.828 Q2337.88 286.828 2334.8 282.245 Q2331.74 277.638 2331.74 268.911 Q2331.74 260.161 2334.8 255.578 Q2337.88 250.972 2343.69 250.972 Z\" fill=\"#000000\" fill-rule=\"evenodd\" fill-opacity=\"1\" /><polyline clip-path=\"url(#clip010)\" style=\"stroke:#000000; stroke-width:4; stroke-opacity:1; fill:none\" points=\"\n",
       "  2232.76,1407.63 2232.76,1371.24 2256.76,1371.24 2232.76,1371.24 2232.76,1096.55 2256.76,1096.55 2232.76,1096.55 2232.76,821.871 2256.76,821.871 2232.76,821.871 \n",
       "  2232.76,547.188 2256.76,547.188 2232.76,547.188 2232.76,272.505 2256.76,272.505 2232.76,272.505 2232.76,126.063 \n",
       "  \"/>\n",
       "</svg>\n"
      ]
     },
     "execution_count": 51,
     "metadata": {},
     "output_type": "execute_result"
    }
   ],
   "source": [
    "spy(U)"
   ]
  },
  {
   "cell_type": "markdown",
   "metadata": {},
   "source": [
    "## Symmetric arrowhead and DPR1 matrices\n",
    "\n",
    "For more details, see \n",
    "[N. Jakovčević Stor, I. Slapničar and J. Barlow, Accurate eigenvalue decomposition of real symmetric arrowhead matrices and applications][JSB15]\n",
    "and [N. Jakovčević Stor, I. Slapničar and J. Barlow, Forward stable eigenvalue decomposition of rank-one modifications of diagonal matrices][JSB15a].\n",
    "\n",
    "[JSB15]: http://arxiv.org/abs/1302.7203 \"N. Jakovčević Stor, I. Slapničar and J. Barlow, 'Accurate eigenvalue decomposition of real symmetric arrowhead matrices and applications', Lin. Algebra and its Appl, 464 (2015) 62-89.\" \n",
    "\n",
    "[JSB15a]: http://arxiv.org/abs/1405.7537 \"N. Jakovčević Stor, I. Slapničar and J. Barlow, 'Forward stable eigenvalue decomposition of rank-one modifications of diagonal matrices', Lin. Algebra and its Appl, 487 (2015) 301-315.\" "
   ]
  },
  {
   "cell_type": "markdown",
   "metadata": {},
   "source": [
    "### Definitions\n",
    "\n",
    "An __arrowhead matrix__ is a real symmetric matrix of order $n$ of the form\n",
    "$A=\\begin{bmatrix} D & z \\\\ z^{T} & \\alpha \\end{bmatrix}$,\n",
    "where $D=\\mathop{\\mathrm{diag}}(d_{1},d_{2},\\ldots ,d_{n-1})$, \n",
    "$z=\\begin{bmatrix} \\zeta _{1} & \\zeta _{2} & \\cdots & \\zeta _{n-1} \\end{bmatrix}^T$ is a vector, and \n",
    "$\\alpha$ is a scalar.\n",
    "\n",
    "An arrowhead matrix is __irreducible__ if \n",
    "$\\zeta _{i}\\neq 0$ for all $i$ and $d_{i}\\neq d_{j}$ for all $i\\neq j$.\n",
    "\n",
    "A __diagonal-plus-rank-one matrix__ (DPR1 matrix) is a real symmetric matrix of order $n$ of the form\n",
    "$A= D +\\rho z z^T$,\n",
    "where $D=\\mathop{\\mathrm{diag}}(d_{1},d_{2},\\ldots ,d_{n})$, \n",
    "$z=\\begin{bmatrix} \\zeta _{1} & \\zeta _{2} & \\cdots & \\zeta _{n} \\end{bmatrix}^T$\n",
    "is a vector, and $\\rho \\neq 0$ is a scalar.\n",
    "\n",
    "A DPR1 matrix is __irreducible__ if $\\zeta _{i}\\neq 0$ for all $i$ and $d_{i}\\neq d_{j}$ for all $i\\neq j$."
   ]
  },
  {
   "cell_type": "markdown",
   "metadata": {
    "collapsed": true
   },
   "source": [
    "### Facts on arrowhead matrices\n",
    "\n",
    "Let $A$ be an arrowhead matrix of order $n$ and let $A=U\\Lambda U^T$ be its EVD.\n",
    "\n",
    "1. If $d_i$ and $\\lambda_i$ are nonincreasingy ordered, the Cauchy Interlace Theorem implies \n",
    "$$\\lambda _{1}\\geq d_{1}\\geq \\lambda _{2}\\geq d_{2}\\geq \\cdots \\geq d_{n-2}\\geq\\lambda\n",
    "_{n-1}\\geq d_{n-1}\\geq \\lambda _{n}.\n",
    "$$\n",
    "\n",
    "2. If $\\zeta _{i}=0$ for some $i$, then $d_{i}$ is an eigenvalue whose corresponding eigenvector is \n",
    "the $i$-th unit vector, and we can reduce the size of the problem by deleting the \n",
    "$i$-th row and column of the matrix. If $d_{i}=d_{j}$, then $d_{i}$ is\n",
    "an eigenvalue of $A$ (this follows from the interlacing property) \n",
    "and we can reduce the size of the problem by annihilating $\\zeta_j$ with a Givens rotation in the $(i,j)$-plane.\n",
    "\n",
    "3. If $A$ is irreducible, the interlacing property holds with strict inequalities. \n",
    "\n",
    "4. The eigenvalues of $A$ are the zeros of the __Pick function__ (also, _secular equation_)\n",
    "$$\n",
    "f(\\lambda )=\\alpha -\\lambda -\\sum_{i=1}^{n-1}\\frac{\\zeta _{i}^{2}}{%\n",
    "d_{i}-\\lambda }=\\alpha -\\lambda -z^{T}(D-\\lambda I)^{-1}z,\n",
    "$$\n",
    "and the corresponding eigenvectors are \n",
    "$$\n",
    "U_{:,i}=\\frac{x_{i}}{\\left\\Vert x_{i}\\right\\Vert _{2}},\\quad \n",
    "x_{i}=\\begin{bmatrix}\n",
    "\\left( D-\\lambda _{i}I\\right) ^{-1}z \\\\ \n",
    "-1%\n",
    "\\end{bmatrix}, \n",
    "\\quad i=1,\\ldots ,n.\n",
    "$$\n",
    "\n",
    "5. Let $A$ be irreducible and nonsingular. If $d_i\\neq 0$ for all $i$, then $A^{-1}$ is a DPR1 matrix\n",
    "$$\n",
    "A^{-1}=\\begin{bmatrix} D^{-1} &  \\\\ & 0 \\end{bmatrix} + \\rho uu^{T},\n",
    "$$\n",
    "where $u=\\begin{bmatrix} D^{-1}z  \\\\ -1 \\end{bmatrix}$, and $\\rho =\\displaystyle\\frac{1}{\\alpha-z^{T}D^{-1}z}$.\n",
    "If $d_i=0$, then $A^{-1}$ is a permuted arrowhead matrix,\n",
    "$$\n",
    "A^{-1}\\equiv \n",
    "\\begin{bmatrix}\n",
    "D_{1} & 0 & 0 & z_{1} \\\\ \n",
    "0 & 0 & 0 & \\zeta _{i} \\\\ \n",
    "0 & 0 & D_{2} & z_{2} \\\\ \n",
    "z_{1}^{T} & \\zeta _{i} & z_{2}^{T} & \\alpha\n",
    "\\end{bmatrix}^{-1}\n",
    "= \\begin{bmatrix}\n",
    "D_{1}^{-1} & w_{1} & 0 & 0 \\\\ \n",
    "w_{1}^{T} & b & w_{2}^{T} & 1/\\zeta _{i} \\\\ \n",
    "0 & w_{2} & D_{2}^{-1} & 0 \\\\ \n",
    "0 & 1/\\zeta _{i} & 0 & 0\n",
    "\\end{bmatrix},\n",
    "$$\n",
    "where\n",
    "\\begin{align*}\n",
    "w_{1}&=-D_{1}^{-1}z_{1}\\displaystyle\\frac{1}{\\zeta _{i}},\\\\ \n",
    "w_{2}&=-D_{2}^{-1}z_{2}\\displaystyle\\frac{1}{\\zeta _{i}},\\\\\n",
    "b&= \\displaystyle\\frac{1}{\\zeta _{i}^{2}}\\left(-\\alpha +z_{1}^{T}D_{1}^{-1}z_{1}+z_{2}^{T}D_{2}^{-1}z_{2}\\right).\n",
    "\\end{align*}\n",
    "\n",
    "6. The algorithm based on the following approach computes all eigenvalues and _all components_ of the corresponding eigenvectors in a forward stable manner to almost full accuracy in $O(n)$ operations per eigenpair:\n",
    "    1. Shift the irreducible $A$ to $d_i$ which is closer to $\\lambda_i$ (one step of bisection on $f(\\lambda)$).\n",
    "    2. Invert the shifted matrix.\n",
    "    3. Compute the absolutely largest eigenvalue of the inverted shifted matrix and the corresponding eigenvector.\n",
    "\n",
    "7. The algorithm is implemented in the package [Arrowhead.jl](https://github.com/ivanslapnicar/Arrowhead.jl). In certain cases, $b$ or $\\rho$ need to be computed with extended precision. For this, we use the functions from file \n",
    "[DoubleDouble.jl](https://github.com/ivanslapnicar/Arrowhead.jl/blob/master/src/DoubleDouble.jl), originally from the the package \n",
    "[DoubleDouble.jl](https://github.com/simonbyrne/DoubleDouble.jl)."
   ]
  },
  {
   "cell_type": "code",
   "execution_count": 57,
   "metadata": {},
   "outputs": [
    {
     "data": {
      "text/plain": [
       "3.0"
      ]
     },
     "execution_count": 57,
     "metadata": {},
     "output_type": "execute_result"
    }
   ],
   "source": [
    "using Arrowhead\n",
    "a=2.0\n",
    "b=3.0"
   ]
  },
  {
   "cell_type": "code",
   "execution_count": 58,
   "metadata": {},
   "outputs": [
    {
     "data": {
      "text/plain": [
       "(1.4142135623730951, 1.7320508075688772)"
      ]
     },
     "execution_count": 58,
     "metadata": {},
     "output_type": "execute_result"
    }
   ],
   "source": [
    "sqrt(a),sqrt(3.0)"
   ]
  },
  {
   "cell_type": "code",
   "execution_count": 59,
   "metadata": {},
   "outputs": [
    {
     "data": {
      "text/plain": [
       "(1.414213562373095048801688724209698078569671875376948073176679737990732478462102, 1.732050807568877293527446341505872366942805253810380628055806979451933016908798)"
      ]
     },
     "execution_count": 59,
     "metadata": {},
     "output_type": "execute_result"
    }
   ],
   "source": [
    "sqrt(BigFloat(a)),sqrt(BigFloat(3.0))"
   ]
  },
  {
   "cell_type": "code",
   "execution_count": 60,
   "metadata": {},
   "outputs": [
    {
     "data": {
      "text/plain": [
       "Arrowhead.Double{Float64}(3.0, 0.0)"
      ]
     },
     "execution_count": 60,
     "metadata": {},
     "output_type": "execute_result"
    }
   ],
   "source": [
    "# Doible numbers according to Dekker, 1971\n",
    "ad=Arrowhead.Double(a);bd=Arrowhead.Double(b)"
   ]
  },
  {
   "cell_type": "code",
   "execution_count": 61,
   "metadata": {},
   "outputs": [
    {
     "data": {
      "text/plain": [
       "Arrowhead.Double{Float64}(1.4142135623730951, -9.667293313452912e-17)"
      ]
     },
     "execution_count": 61,
     "metadata": {},
     "output_type": "execute_result"
    }
   ],
   "source": [
    "ra=sqrt(ad)"
   ]
  },
  {
   "cell_type": "code",
   "execution_count": 62,
   "metadata": {},
   "outputs": [
    {
     "data": {
      "text/plain": [
       "Arrowhead.Double{Float64}(1.7320508075688772, 1.0035084221806903e-16)"
      ]
     },
     "execution_count": 62,
     "metadata": {},
     "output_type": "execute_result"
    }
   ],
   "source": [
    "rb=sqrt(bd)"
   ]
  },
  {
   "cell_type": "code",
   "execution_count": 63,
   "metadata": {},
   "outputs": [
    {
     "data": {
      "text/plain": [
       "1.732050807568877293527446341505873862897052827199890577222072998286178657778578"
      ]
     },
     "execution_count": 63,
     "metadata": {},
     "output_type": "execute_result"
    }
   ],
   "source": [
    "BigFloat(rb.hi)+BigFloat(rb.lo)"
   ]
  },
  {
   "cell_type": "code",
   "execution_count": 64,
   "metadata": {},
   "outputs": [
    {
     "data": {
      "text/plain": [
       "2.449489742783178098197284074705891391965947480656670128432692567250960377457299"
      ]
     },
     "execution_count": 64,
     "metadata": {},
     "output_type": "execute_result"
    }
   ],
   "source": [
    "sqrt(BigFloat(a))*sqrt(BigFloat(3.0))"
   ]
  },
  {
   "cell_type": "code",
   "execution_count": 65,
   "metadata": {},
   "outputs": [
    {
     "data": {
      "text/plain": [
       "Arrowhead.Double{Float64}(2.449489742783178, 2.1686165181032463e-16)"
      ]
     },
     "execution_count": 65,
     "metadata": {},
     "output_type": "execute_result"
    }
   ],
   "source": [
    "p=ra*rb"
   ]
  },
  {
   "cell_type": "code",
   "execution_count": 66,
   "metadata": {},
   "outputs": [
    {
     "data": {
      "text/plain": [
       "2.449489742783178098197284074705907803819254866955487023606866147165672664698377"
      ]
     },
     "execution_count": 66,
     "metadata": {},
     "output_type": "execute_result"
    }
   ],
   "source": [
    "BigFloat(p.hi)+BigFloat(p.lo)"
   ]
  },
  {
   "cell_type": "markdown",
   "metadata": {},
   "source": [
    "### Example - Random arrowhead matrix"
   ]
  },
  {
   "cell_type": "code",
   "execution_count": 67,
   "metadata": {},
   "outputs": [],
   "source": [
    "# pkg> add Arrowhead#master\n",
    "using Arrowhead"
   ]
  },
  {
   "cell_type": "code",
   "execution_count": 68,
   "metadata": {},
   "outputs": [
    {
     "data": {
      "text/latex": [
       "\\begin{tabular}\n",
       "{l | r | l}\n",
       "name & size & summary \\\\\n",
       "\\hline\n",
       "Arrowhead & 264.212 KiB & Module \\\\\n",
       "GenHalfArrow & 0 bytes & typeof(GenHalfArrow) \\\\\n",
       "GenSymArrow & 0 bytes & typeof(GenSymArrow) \\\\\n",
       "GenSymDPR1 & 0 bytes & typeof(GenSymDPR1) \\\\\n",
       "HalfArrow & 40 bytes & UnionAll \\\\\n",
       "SymArrow & 40 bytes & UnionAll \\\\\n",
       "SymDPR1 & 40 bytes & UnionAll \\\\\n",
       "bisect & 0 bytes & typeof(bisect) \\\\\n",
       "eigen & 0 bytes & typeof(eigen) \\\\\n",
       "inv & 0 bytes & typeof(inv) \\\\\n",
       "rootsWDK & 0 bytes & typeof(rootsWDK) \\\\\n",
       "rootsah & 0 bytes & typeof(rootsah) \\\\\n",
       "svd & 0 bytes & typeof(svd) \\\\\n",
       "tdc & 0 bytes & typeof(tdc) \\\\\n",
       "\\end{tabular}\n"
      ],
      "text/markdown": [
       "| name         |        size | summary              |\n",
       "|:------------ | -----------:|:-------------------- |\n",
       "| Arrowhead    | 264.212 KiB | Module               |\n",
       "| GenHalfArrow |     0 bytes | typeof(GenHalfArrow) |\n",
       "| GenSymArrow  |     0 bytes | typeof(GenSymArrow)  |\n",
       "| GenSymDPR1   |     0 bytes | typeof(GenSymDPR1)   |\n",
       "| HalfArrow    |    40 bytes | UnionAll             |\n",
       "| SymArrow     |    40 bytes | UnionAll             |\n",
       "| SymDPR1      |    40 bytes | UnionAll             |\n",
       "| bisect       |     0 bytes | typeof(bisect)       |\n",
       "| eigen        |     0 bytes | typeof(eigen)        |\n",
       "| inv          |     0 bytes | typeof(inv)          |\n",
       "| rootsWDK     |     0 bytes | typeof(rootsWDK)     |\n",
       "| rootsah      |     0 bytes | typeof(rootsah)      |\n",
       "| svd          |     0 bytes | typeof(svd)          |\n",
       "| tdc          |     0 bytes | typeof(tdc)          |\n"
      ],
      "text/plain": [
       "  name                size summary             \n",
       "  –––––––––––– ––––––––––– ––––––––––––––––––––\n",
       "  Arrowhead    264.212 KiB Module              \n",
       "  GenHalfArrow     0 bytes typeof(GenHalfArrow)\n",
       "  GenSymArrow      0 bytes typeof(GenSymArrow) \n",
       "  GenSymDPR1       0 bytes typeof(GenSymDPR1)  \n",
       "  HalfArrow       40 bytes UnionAll            \n",
       "  SymArrow        40 bytes UnionAll            \n",
       "  SymDPR1         40 bytes UnionAll            \n",
       "  bisect           0 bytes typeof(bisect)      \n",
       "  eigen            0 bytes typeof(eigen)       \n",
       "  inv              0 bytes typeof(inv)         \n",
       "  rootsWDK         0 bytes typeof(rootsWDK)    \n",
       "  rootsah          0 bytes typeof(rootsah)     \n",
       "  svd              0 bytes typeof(svd)         \n",
       "  tdc              0 bytes typeof(tdc)         "
      ]
     },
     "execution_count": 68,
     "metadata": {},
     "output_type": "execute_result"
    }
   ],
   "source": [
    "varinfo(Arrowhead)"
   ]
  },
  {
   "cell_type": "code",
   "execution_count": 69,
   "metadata": {},
   "outputs": [
    {
     "data": {
      "text/html": [
       "# 1 method for generic function <b>GenSymArrow</b>:<ul><li> GenSymArrow(n::<b>Integer</b>, i::<b>Integer</b>) in Arrowhead at <a href=\"file://C:/Users/Ivan_Slapnicar/.julia/packages/Arrowhead/XK3UB/src/arrowhead3.jl\" target=\"_blank\">C:\\Users\\Ivan_Slapnicar\\.julia\\packages\\Arrowhead\\XK3UB\\src\\arrowhead3.jl:9</a></li> </ul>"
      ],
      "text/plain": [
       "# 1 method for generic function \"GenSymArrow\":\n",
       "[1] GenSymArrow(n::Integer, i::Integer) in Arrowhead at C:\\Users\\Ivan_Slapnicar\\.julia\\packages\\Arrowhead\\XK3UB\\src\\arrowhead3.jl:9"
      ]
     },
     "execution_count": 69,
     "metadata": {},
     "output_type": "execute_result"
    }
   ],
   "source": [
    "methods(GenSymArrow)"
   ]
  },
  {
   "cell_type": "code",
   "execution_count": 70,
   "metadata": {},
   "outputs": [
    {
     "data": {
      "text/plain": [
       "10×10 SymArrow{Float64}:\n",
       " 0.907205  0.0       0.0       0.0       …  0.0         0.0       0.665268\n",
       " 0.0       0.447435  0.0       0.0          0.0         0.0       0.803103\n",
       " 0.0       0.0       0.51316   0.0          0.0         0.0       0.842735\n",
       " 0.0       0.0       0.0       0.451461     0.0         0.0       0.915498\n",
       " 0.0       0.0       0.0       0.0          0.0         0.0       0.959933\n",
       " 0.0       0.0       0.0       0.0       …  0.0         0.0       0.603399\n",
       " 0.0       0.0       0.0       0.0          0.0         0.0       0.156622\n",
       " 0.0       0.0       0.0       0.0          0.00191603  0.0       0.0212465\n",
       " 0.0       0.0       0.0       0.0          0.0         0.196058  0.625239\n",
       " 0.665268  0.803103  0.842735  0.915498     0.0212465   0.625239  0.425763"
      ]
     },
     "execution_count": 70,
     "metadata": {},
     "output_type": "execute_result"
    }
   ],
   "source": [
    "n=10\n",
    "A=GenSymArrow(n,n)"
   ]
  },
  {
   "cell_type": "code",
   "execution_count": 71,
   "metadata": {},
   "outputs": [
    {
     "data": {
      "text/plain": [
       "([0.9072049658671713, 0.4474351455891854, 0.5131598884478406, 0.4514611754936739, 0.5817339665165502, 0.4217004660835766, 0.4535220759801628, 0.0019160335761105873, 0.1960580795966944], [0.6652683391054359, 0.8031031078352624, 0.8427349111354892, 0.9154976555238339, 0.9599329519984365, 0.603399360682966, 0.15662248820004332, 0.021246517891142513, 0.6252385379110899], 0.42576310091885805, 10)"
      ]
     },
     "execution_count": 71,
     "metadata": {},
     "output_type": "execute_result"
    }
   ],
   "source": [
    "# Elements of the type SymArrow\n",
    "A.D, A.z, A.a, A.i"
   ]
  },
  {
   "cell_type": "code",
   "execution_count": 72,
   "metadata": {},
   "outputs": [
    {
     "data": {
      "text/plain": [
       "(1.5254143728024154e-15, 7.787532852671366e-16)"
      ]
     },
     "execution_count": 72,
     "metadata": {},
     "output_type": "execute_result"
    }
   ],
   "source": [
    "(λ,U),info=eigen(A)\n",
    "norm(A*U-U*Diagonal(λ)), norm(U'*U-I)"
   ]
  },
  {
   "cell_type": "code",
   "execution_count": 73,
   "metadata": {},
   "outputs": [
    {
     "name": "stdout",
     "output_type": "stream",
     "text": [
      "  0.076491 seconds (20.06 k allocations: 47.662 MiB, 24.58% gc time)\n",
      "  0.216757 seconds (42.76 k allocations: 187.438 MiB, 5.85% gc time)\n"
     ]
    }
   ],
   "source": [
    "# Timings - notice the O(n^2)\n",
    "@time eigen(GenSymArrow(1000,1000));\n",
    "@time eigen(GenSymArrow(2000,2000));"
   ]
  },
  {
   "cell_type": "markdown",
   "metadata": {},
   "source": [
    "### Example - Numerically demanding matrix"
   ]
  },
  {
   "cell_type": "code",
   "execution_count": 74,
   "metadata": {},
   "outputs": [
    {
     "data": {
      "text/plain": [
       "6×6 SymArrow{Float64}:\n",
       " 1.0e10  0.0  0.0  0.0  0.0  1.0e10\n",
       " 0.0     4.0  0.0  0.0  0.0  1.0\n",
       " 0.0     0.0  3.0  0.0  0.0  1.0\n",
       " 0.0     0.0  0.0  2.0  0.0  1.0\n",
       " 0.0     0.0  0.0  0.0  1.0  1.0\n",
       " 1.0e10  1.0  1.0  1.0  1.0  1.0e10"
      ]
     },
     "execution_count": 74,
     "metadata": {},
     "output_type": "execute_result"
    }
   ],
   "source": [
    "A=SymArrow( [ 1e10+1.0/3.0, 4.0, 3.0, 2.0, 1.0 ], \n",
    "    [ 1e10 - 1.0/3.0, 1.0, 1.0, 1.0, 1.0 ], 1e10, 6 )"
   ]
  },
  {
   "cell_type": "code",
   "execution_count": 75,
   "metadata": {},
   "outputs": [
    {
     "data": {
      "text/plain": [
       "6×3 Array{Float64,2}:\n",
       " -0.348142  -0.348142  -1.09478e-7\n",
       "  1.26185    1.26185   -1.64565e-8\n",
       "  2.22325    2.22325   -1.26997e-8\n",
       "  3.18832    3.18832   -9.62226e-9\n",
       "  4.17472    4.17472   -8.77525e-9\n",
       "  2.0e10     2.0e10    -7.62939e-6"
      ]
     },
     "execution_count": 75,
     "metadata": {},
     "output_type": "execute_result"
    }
   ],
   "source": [
    "(λ,U),info=eigen(A)\n",
    "[sort(λ) sort(eigvals(Matrix(A))) sort(λ)-sort(eigvals(Matrix(A)))]"
   ]
  },
  {
   "cell_type": "markdown",
   "metadata": {},
   "source": [
    "### Facts on DPR1 matrices\n",
    "\n",
    "The properties of DPR1 matrices are very similar to those of arrowhead matrices. \n",
    "Let $A$ be a DPR1 matrix of order $n$ and let $A=U\\Lambda U^T$ be its EVD.\n",
    "\n",
    "1. If $d_i$ and $\\lambda_i$ are nonincreasingy ordered and $\\rho>0$, then \n",
    "$$\\lambda _{1}\\geq d_{1}\\geq \\lambda _{2}\\geq d_{2}\\geq \\cdots \\geq d_{n-2}\\geq\\lambda\n",
    "_{n-1}\\geq d_{n-1}\\geq \\lambda _{n}\\geq d_n.\n",
    "$$\n",
    "If $A$ is irreducible, the inequalities are strict.\n",
    "\n",
    "2. Facts  2 on arrowhead matrices holds.\n",
    "\n",
    "3. The eigenvalues of $A$ are the zeros of the __secular equation__ \n",
    "$$\n",
    "f(\\lambda )=1+\\rho\\sum_{i=1}^{n}\\frac{\\zeta _{i}^{2}}{d_{i}-\\lambda }\n",
    "=1 +\\rho z^{T}(D-\\lambda I)^{-1}z=0,\n",
    "$$\n",
    "and the corresponding eigenvectors are \n",
    "$$\n",
    "U_{:,i}=\\frac{x_{i}}{\\left\\Vert x_{i}\\right\\Vert _{2}},\\quad\n",
    "x_{i}=( D-\\lambda _{i}I) ^{-1}z.\n",
    "$$\n",
    "\n",
    "5. Let $A$ be irreducible and nonsingular. If $d_i\\neq 0$ for all $i$, then\n",
    "$$\n",
    "A^{-1}=D^{-1} +\\gamma uu^{T},\\quad  u=D^{-1}z, \\quad \\gamma =-\\frac{\\rho}{1+\\rho z^{T}D^{-1}z},\n",
    "$$ \n",
    "is also a DPR1 matrix. If $d_i=0$, then $A^{-1}$ is a permuted arrowhead matrix,\n",
    "$$\n",
    "A^{-1}\\equiv \\left(\\begin{bmatrix} D_{1} & 0 & 0 \\\\  0 & 0 & 0  \\\\  0 & 0 & D_{2} \\end{bmatrix}\n",
    "+\\rho \\begin{bmatrix} z_{1} \\\\ \\zeta _{i} \\\\ z_{2}\n",
    "\\end{bmatrix}\n",
    "\\begin{bmatrix}\n",
    "z_{1}^{T} & \\zeta _{i} & z_{2}^{T}\n",
    "\\end{bmatrix}\\right)^{-1}=\n",
    "\\begin{bmatrix}\n",
    "D_{1}^{-1} & w_{1} & 0 \\\\ \n",
    "w_{1}^{T} & b & w_{2}^{T} \\\\ \n",
    "0 & w_{2} & D_{2}^{-1} \n",
    "\\end{bmatrix},\n",
    "$$\n",
    "where\n",
    "\\begin{align*}\n",
    "w_{1}&=-D_{1}^{-1}z_{1}\\displaystyle\\frac{1}{\\zeta _{i}},\\\\\n",
    "w_{2}&=-D_{2}^{-1}z_{2}\\displaystyle\\frac{1}{\\zeta _{i}},\\\\\n",
    "b &=\\displaystyle\\frac{1}{\\zeta _{i}^{2}}\\left(\n",
    "\\frac{1}{\\rho}+z_{1}^{T}D_{1}^{-1}z_{1}+z_{2}^{T}D_{2}^{-1}z_{2}\\right).\n",
    "\\end{align*}\n",
    "\n",
    "6. The algorithm based on the same approach as above, computes all eigenvalues and all components of the corresponding eigenvectors in a forward stable manner to almost full accuracy in $O(n)$ operations per eigenpair.\n",
    "The algorithm is implemented in the package `Arrowhead.jl`. In certain cases, $b$ or $\\gamma$ need to be computed with extended precision."
   ]
  },
  {
   "cell_type": "markdown",
   "metadata": {},
   "source": [
    "### Example - Random DPR1 matrix"
   ]
  },
  {
   "cell_type": "code",
   "execution_count": 76,
   "metadata": {},
   "outputs": [
    {
     "data": {
      "text/plain": [
       "10×10 SymDPR1{Float64}:\n",
       " 0.759058   0.122689   0.230849   …  0.332683   0.354039  0.330674\n",
       " 0.122689   0.445457   0.111958      0.161345   0.171703  0.160371\n",
       " 0.230849   0.111958   1.04265       0.303584   0.323072  0.301751\n",
       " 0.0742093  0.0359903  0.0677184     0.0975908  0.103856  0.0970015\n",
       " 0.0911901  0.0442257  0.0832141     0.119922   0.12762   0.119198\n",
       " 0.300777   0.145872   0.274469   …  0.395545   0.420936  0.393156\n",
       " 0.117327   0.0569017  0.107065      0.154294   0.164199  0.153362\n",
       " 0.332683   0.161345   0.303584      0.98846    0.465588  0.434861\n",
       " 0.354039   0.171703   0.323072      0.465588   1.3614    0.462776\n",
       " 0.330674   0.160371   0.301751      0.434861   0.462776  0.873527"
      ]
     },
     "execution_count": 76,
     "metadata": {},
     "output_type": "execute_result"
    }
   ],
   "source": [
    "n=10\n",
    "A=GenSymDPR1(n)"
   ]
  },
  {
   "cell_type": "code",
   "execution_count": 77,
   "metadata": {},
   "outputs": [
    {
     "data": {
      "text/plain": [
       "([0.5060823315126595, 0.38595531759167234, 0.8319901614626721, 0.13824008502785756, 0.9091574852406379, 0.5513097674698335, 0.39061868754101114, 0.5509579066061177, 0.8659252075552291, 0.44129248214547223], [0.6635167822279997, 0.3217945181601809, 0.6054812127387672, 0.19463934349206125, 0.23917753369343453, 0.7888918506681526, 0.30773088429633955, 0.8725744065670942, 0.9285885343595512, 0.8673055822442022], 0.5746132127505752)"
      ]
     },
     "execution_count": 77,
     "metadata": {},
     "output_type": "execute_result"
    }
   ],
   "source": [
    "# Elements of the type SymDPR1\n",
    "A.D, A.u, A.r"
   ]
  },
  {
   "cell_type": "code",
   "execution_count": 78,
   "metadata": {},
   "outputs": [
    {
     "data": {
      "text/plain": [
       "(4.862148607940548e-16, 5.397025288610338e-16)"
      ]
     },
     "execution_count": 78,
     "metadata": {},
     "output_type": "execute_result"
    }
   ],
   "source": [
    "(λ,U),info=eigen(A)\n",
    "norm(A*U-U*Diagonal(λ)), norm(U'*U-I)"
   ]
  },
  {
   "cell_type": "markdown",
   "metadata": {},
   "source": [
    "### Example - Numerically demanding matrix"
   ]
  },
  {
   "cell_type": "code",
   "execution_count": 79,
   "metadata": {},
   "outputs": [
    {
     "data": {
      "text/plain": [
       "6×6 SymDPR1{Float64}:\n",
       "    1.0e20  1.0e10  1.0e10  1000.0      1.0e10   1.0e10\n",
       "    1.0e10  6.0     1.0        1.0e-7   1.0      1.0\n",
       "    1.0e10  1.0     1.004      1.0e-7   1.0      1.0\n",
       " 1000.0     1.0e-7  1.0e-7     1.0e-14  1.0e-7   1.0e-7\n",
       "    1.0e10  1.0     1.0        1.0e-7   0.996    1.0\n",
       "    1.0e10  1.0     1.0        1.0e-7   1.0     -4.0"
      ]
     },
     "execution_count": 79,
     "metadata": {},
     "output_type": "execute_result"
    }
   ],
   "source": [
    "A=SymDPR1( [ 10.0/3.0, 2.0+1e-7, 2.0-1e-7, 1.0 ], [ 2.0, 1e-7, 1e-7, 2.0], 1.0 )\n",
    "A=SymDPR1( [ 1e10, 5.0, 4e-3, 0.0, -4e-3,-5.0 ], [ 1e10, 1.0, 1.0, 1e-7, 1.0,1.0 ], 1.0 )"
   ]
  },
  {
   "cell_type": "code",
   "execution_count": 80,
   "metadata": {},
   "outputs": [
    {
     "name": "stdout",
     "output_type": "stream",
     "text": [
      "[-4.9999999999 -4.999999999900006; -0.003999999900000001 -5.742148820240562e-14; 9.999999998999997e-25 5.6271169015955564e-14; 0.004000000100000001 0.0040000000999998505; 5.0000000001 5.0000000001; 1.0000000001e20 1.0000000001000002e20]\n"
     ]
    },
    {
     "data": {
      "text/plain": [
       "(3.038182039544697e-6, 3.1401849173675503e-16)"
      ]
     },
     "execution_count": 80,
     "metadata": {},
     "output_type": "execute_result"
    }
   ],
   "source": [
    "(λ,U),info=eigen(A)\n",
    "println([sort(λ) sort(eigvals(Matrix(A)))])\n",
    "norm(A*U-U*Diagonal(λ)), norm(U'*U-I) "
   ]
  }
 ],
 "metadata": {
  "@webio": {
   "lastCommId": null,
   "lastKernelId": null
  },
  "anaconda-cloud": {},
  "kernelspec": {
   "display_name": "Julia 1.4.1",
   "language": "julia",
   "name": "julia-1.4"
  },
  "language_info": {
   "file_extension": ".jl",
   "mimetype": "application/julia",
   "name": "julia",
   "version": "1.4.1"
  }
 },
 "nbformat": 4,
 "nbformat_minor": 1
}
