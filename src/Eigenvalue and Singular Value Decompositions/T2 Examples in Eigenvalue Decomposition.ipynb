{
 "cells": [
  {
   "cell_type": "markdown",
   "metadata": {},
   "source": [
    "# Tutorial 2 - Examples in Eigenvalue Decomposition"
   ]
  },
  {
   "cell_type": "markdown",
   "metadata": {},
   "source": [
    "## Assignment 1\n",
    "\n",
    "Using the file \n",
    "[dl-matrixmarket.jl](https://github.com/JuliaSparse/MatrixMarket.jl/blob/master/test/dl-matrixmarket.jl)\n",
    "from the package [MatrixMarket.jl](https://github.com/JuliaSparse/MatrixMarket.jl)\n",
    "(copy the file to your notebook), download two randomly chosen matrices (make sure that both matrices are real and \n",
    "at least one is real symmetric).\n",
    "\n",
    "For each matrix:\n",
    "* inspect the properties of the matrix (size, symmetry, condition number, sparsity, structure, ...),\n",
    "* plot the matrix using the command `spy()` from the package `Gadfly.jl`,\n",
    "* compute the eigenvalue decomposition with appropriate methods, and\n",
    "* assess the accuracy of the decomposition.\n",
    "\n",
    "__Hints__ \n",
    "\n",
    "1. In Windows, you may need to prepend the `http://` to the address in the \n",
    "`download()` command.\n",
    "\n",
    "2. To plot the matrix `A`, use the following commands:\n",
    "```\n",
    "myplot=spy(A)\n",
    "draw(PNG(12cm,12cm),myplot)\n",
    "```\n",
    "To see only the structure, use\n",
    "```\n",
    "myplot=spy(map(Int64,A.!=0.0))\n",
    "```\n",
    "For larger matrices, plotting takes a while."
   ]
  },
  {
   "cell_type": "markdown",
   "metadata": {
    "collapsed": true
   },
   "source": [
    "## Assignment 2\n",
    "\n",
    "Choose three matrices from the package [MatrixDepot.jl](https://github.com/weijianzhang/MatrixDepot.jl):\n",
    "* one from the class \"eigen\",\n",
    "* one which is sparse and symmetric, and\n",
    "* one which is ill-conditioned and symmetric,\n",
    "\n",
    "and analyse them as described in the Assignment 1."
   ]
  },
  {
   "cell_type": "markdown",
   "metadata": {
    "collapsed": true
   },
   "source": [
    "## Assignment 3$^*$\n",
    "\n",
    "Learn about Google's Page Rank algorithm and explain it as an eigenvalue problem.\n",
    "Implement the algorithm and analyse [Stanford web graph](http://snap.stanford.edu/data/web-Stanford.html).\n",
    "\n",
    "Suggested readings:\n",
    "\n",
    "\n",
    "* [A. N. Langville and C. D. Meyer, Information Retrieval and Web Search][Hog14]\n",
    "* [A. N. Langville and C. D. Meyer, Deeper Inside PageRank][LM04]\n",
    "* [C, Moler, Google PageRank][Mol11]\n",
    "* [P. Dreher et al., PageRank Pipeline Benchmark][DBHGKK16]\n",
    "\n",
    "\n",
    "[LM04]: http://langvillea.people.cofc.edu/DeeperInsidePRReprint.pdf \"A. N. Langville and C. D. Meyer, 'Deeper Inside PageRank', Internet Mathematics, 3 (335-380) 2004.\"\n",
    "\n",
    "[Hog14]: #1 \"L. Hogben, ed., 'Handbook of Linear Algebra', pp. 76.1-16, CRC Press, Boca Raton, 2014.\"\n",
    "\n",
    "[Mol11]: https://www.mathworks.com/moler/exm/chapters/pagerank.pdf \"C, Moler, 'Google PageRank', mathWorks, 2011.\"\n",
    "\n",
    "[DBHGKK16]: http://arxiv.org/abs/1603.01876 \"P. Dreher et al, 'PageRank Pipeline Benchmark: Proposal for a Holistic System Benchmark for Big-Data Platforms', arXiv:1603.01876, 2016.\""
   ]
  },
  {
   "cell_type": "code",
   "execution_count": null,
   "metadata": {
    "collapsed": true
   },
   "outputs": [],
   "source": []
  }
 ],
 "metadata": {
  "kernelspec": {
   "display_name": "Julia 1.1.0",
   "language": "julia",
   "name": "julia-1.1"
  },
  "language_info": {
   "file_extension": ".jl",
   "mimetype": "application/julia",
   "name": "julia",
   "version": "1.1.0"
  }
 },
 "nbformat": 4,
 "nbformat_minor": 1
}
