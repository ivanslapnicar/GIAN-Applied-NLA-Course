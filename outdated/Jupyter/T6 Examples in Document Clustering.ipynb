{
 "cells": [
  {
   "cell_type": "markdown",
   "metadata": {},
   "source": [
    "# Tutorial 6 - Examples in Document Clustering"
   ]
  },
  {
   "cell_type": "markdown",
   "metadata": {},
   "source": [
    "## Assignment 1\n",
    "\n",
    "Cluster terms and documents in your favorite document collection or book:\n",
    "1. Download the collection.\n",
    "2. Form the _term $\\times$ document_ matrix. Remove stop words, if necessary, and apply stemming, if possible.\n",
    "3. Normalize the weights, if necessary.\n",
    "4. Form the matrices $A$ and $A_n$. \n",
    "5. Cluster documents (and terms) in $k$ clusters using spectral $k$-partitioning of bipartite graphs. \n",
    "6. Comment the solution."
   ]
  }
 ],
 "metadata": {
  "kernelspec": {
   "display_name": "Julia 1.4.1",
   "language": "julia",
   "name": "julia-1.4"
  },
  "language_info": {
   "file_extension": ".jl",
   "mimetype": "application/julia",
   "name": "julia",
   "version": "1.4.1"
  }
 },
 "nbformat": 4,
 "nbformat_minor": 1
}
