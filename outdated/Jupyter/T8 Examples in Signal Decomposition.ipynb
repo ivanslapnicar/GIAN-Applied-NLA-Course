{
 "cells": [
  {
   "cell_type": "markdown",
   "metadata": {},
   "source": [
    "# Tutorial 8 - Examples in Signal Decomposition"
   ]
  },
  {
   "cell_type": "markdown",
   "metadata": {},
   "source": [
    "## Assignment 1\n",
    "\n",
    "Write a function `monocomponents()` which decomposes signal with the following algorithm:\n",
    "\n",
    "1. Choose $\\tau$ and form the Hankel matrix $H$\n",
    "2. Compute the EVD of $H$\n",
    "3. Choose the significant eigenpairs of $H$\n",
    "4. For each significant eigenpair $(\\lambda,u)$\n",
    "    1. Form the rank one matrix $M=\\lambda uu^T$\n",
    "    2. Define a new signal $y$ consisting of the elements in the first row and the last column of $M$\n",
    "    3. Form the Hankel matrix $H(y)$\n",
    "    3. Compute the EVD of $H(y)$\n",
    "    4. Choose the significant eigenpairs of $H(y)$\n",
    "    5. __If__ $H(y)$ has only two significant eigenpairs, declare $y$ a mono-component, \n",
    "        __else__ go to step 4.\n",
    "        \n",
    "Test the algorithm on the note A4."
   ]
  },
  {
   "cell_type": "markdown",
   "metadata": {
    "collapsed": true
   },
   "source": [
    "## Assignment 2\n",
    "\n",
    "Decompose your favorite music part, or the first bar of Beethoven's Piano Sonata No. 8 Op. 13."
   ]
  }
 ],
 "metadata": {
  "kernelspec": {
   "display_name": "Julia 0.6.2",
   "language": "julia",
   "name": "julia-0.6"
  },
  "language_info": {
   "file_extension": ".jl",
   "mimetype": "application/julia",
   "name": "julia",
   "version": "0.6.2"
  }
 },
 "nbformat": 4,
 "nbformat_minor": 1
}
