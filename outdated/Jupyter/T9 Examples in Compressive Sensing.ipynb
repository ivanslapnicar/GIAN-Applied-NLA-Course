{
 "cells": [
  {
   "cell_type": "markdown",
   "metadata": {},
   "source": [
    "# Tutorial 9 - Examples in Compressive Sensing"
   ]
  },
  {
   "cell_type": "markdown",
   "metadata": {},
   "source": [
    "## Assignment 1$^*$\n",
    "\n",
    "Solution to a sudoku puzzle can be formulated as an underdetermined system of linear equations.\n",
    "\n",
    "Implement the approach described in [P. Babu, K. Pelckmans, P. Stoica and J. Li, Linear Systems, Sparse Solutions, and Sudoku][BPSL10].\n",
    "\n",
    "[BPSL10]: http://people.math.yorku.ca/~chensy/sudoku.pdf \"Prabhu Babu, Kristiaan Pelckmans, Petre Stoica and Jian Li, 'Sparse Solutions, and Sudoku',  IEEE Signal Processing Letters, 17(1) (2010) 40-42.\""
   ]
  },
  {
   "cell_type": "markdown",
   "metadata": {
    "collapsed": true
   },
   "source": [
    "## Assignment 2$^{**}$\n",
    "\n",
    "Write a Julia implementation of the code for compression of images referenced in \n",
    "[J. Romberg, Imaging via Compressive Sampling][Rom08].\n",
    "\n",
    "[Rom08]: http://dsp.rice.edu/files/cs/Imaging-via-CS.pdf \"Justin Romberg, 'Imaging via Compressive Sampling', IEEE Signal Processing Magazine, 25(2) (2008) 14-20.\""
   ]
  }
 ],
 "metadata": {
  "kernelspec": {
   "display_name": "Julia 0.6.2",
   "language": "julia",
   "name": "julia-0.6"
  },
  "language_info": {
   "file_extension": ".jl",
   "mimetype": "application/julia",
   "name": "julia",
   "version": "0.6.2"
  }
 },
 "nbformat": 4,
 "nbformat_minor": 1
}
