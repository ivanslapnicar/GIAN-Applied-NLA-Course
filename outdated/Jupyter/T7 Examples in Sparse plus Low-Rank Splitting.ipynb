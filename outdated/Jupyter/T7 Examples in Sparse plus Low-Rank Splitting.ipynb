{
 "cells": [
  {
   "cell_type": "markdown",
   "metadata": {},
   "source": [
    "# Tutorial 7 - Examples in Sparse + Low-Rank Splitting"
   ]
  },
  {
   "cell_type": "markdown",
   "metadata": {},
   "source": [
    "## Assignment 1\n",
    "\n",
    "In a given video, separate the background (low-rank component) from the moving objects (sparse component):\n",
    "1. Split the video-clip into frames.\n",
    "2. Convert frames to vectors.\n",
    "3. Stack vectors to a matrix $A$.\n",
    "4. Compute the sparse + low-rank splitting of $A$.\n",
    "5. Reconstruct clips of background and moving objects.\n",
    "\n",
    "Use the [video file](files/visor.avi) from the [ViSOR](http://www.openvisor.org) repository (see the original \n",
    "[link](http://www.openvisor.org/video_details.asp?idvideo=288)).\n",
    "\n",
    "Use the package [VideoIO](https://github.com/kmsquire/VideoIO.jl) for video manipulation."
   ]
  }
 ],
 "metadata": {
  "kernelspec": {
   "display_name": "Julia 0.6.2",
   "language": "julia",
   "name": "julia-0.6"
  },
  "language_info": {
   "file_extension": ".jl",
   "mimetype": "application/julia",
   "name": "julia",
   "version": "0.6.2"
  }
 },
 "nbformat": 4,
 "nbformat_minor": 1
}
