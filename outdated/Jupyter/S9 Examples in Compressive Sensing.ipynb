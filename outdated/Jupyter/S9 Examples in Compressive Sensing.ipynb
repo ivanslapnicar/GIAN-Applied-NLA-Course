{
 "cells": [
  {
   "cell_type": "markdown",
   "metadata": {},
   "source": [
    "# Solutions 9 - Examples in Compressive Sensing"
   ]
  },
  {
   "cell_type": "markdown",
   "metadata": {},
   "source": [
    "## Assignment 1"
   ]
  },
  {
   "cell_type": "markdown",
   "metadata": {
    "collapsed": true
   },
   "source": [
    "We shall solve Sudoku puzzles using two approaches:\n",
    "\n",
    "1. The approach from  the file \n",
    "[sudoku.jl](https://github.com/JuliaOpt/JuMP.jl/blob/master/examples/sudoku.jl) from the package\n",
    "[JuMP.jl](https://github.com/JuliaOpt/JuMP.jl).\n",
    "This method solves Sudoku puzzles using Mixed Integer Programming from the package [GLPK.jl](https://github.com/JuliaOpt/GLPK.jl) which needs to be installed beforehand.\n",
    "2. We model sudoku problem as a compressive sensing problem and solve it with linear programming."
   ]
  },
  {
   "cell_type": "code",
   "execution_count": 1,
   "metadata": {},
   "outputs": [],
   "source": [
    "# Read the sudoku\n",
    "using CSV"
   ]
  },
  {
   "cell_type": "code",
   "execution_count": 2,
   "metadata": {
    "scrolled": true
   },
   "outputs": [
    {
     "data": {
      "text/html": [
       "<table class=\"data-frame\"><thead><tr><th></th><th>Column1</th><th>Column2</th><th>Column3</th><th>Column4</th><th>Column5</th><th>Column6</th><th>Column7</th><th>Column8</th><th>Column9</th></tr><tr><th></th><th>Int64</th><th>Int64</th><th>Int64</th><th>Int64</th><th>Int64</th><th>Int64</th><th>Int64</th><th>Int64</th><th>Int64</th></tr></thead><tbody><p>9 rows × 9 columns</p><tr><th>1</th><td>3</td><td>1</td><td>0</td><td>0</td><td>5</td><td>8</td><td>0</td><td>0</td><td>4</td></tr><tr><th>2</th><td>0</td><td>0</td><td>9</td><td>3</td><td>2</td><td>0</td><td>0</td><td>0</td><td>0</td></tr><tr><th>3</th><td>0</td><td>2</td><td>5</td><td>1</td><td>0</td><td>4</td><td>0</td><td>9</td><td>0</td></tr><tr><th>4</th><td>0</td><td>0</td><td>0</td><td>0</td><td>0</td><td>0</td><td>3</td><td>8</td><td>9</td></tr><tr><th>5</th><td>0</td><td>0</td><td>8</td><td>0</td><td>0</td><td>0</td><td>5</td><td>0</td><td>0</td></tr><tr><th>6</th><td>5</td><td>4</td><td>6</td><td>0</td><td>0</td><td>0</td><td>0</td><td>0</td><td>0</td></tr><tr><th>7</th><td>0</td><td>8</td><td>0</td><td>2</td><td>0</td><td>3</td><td>6</td><td>5</td><td>0</td></tr><tr><th>8</th><td>0</td><td>0</td><td>0</td><td>0</td><td>7</td><td>1</td><td>4</td><td>0</td><td>0</td></tr><tr><th>9</th><td>7</td><td>0</td><td>0</td><td>4</td><td>8</td><td>0</td><td>0</td><td>2</td><td>1</td></tr></tbody></table>"
      ],
      "text/latex": [
       "\\begin{tabular}{r|ccccccccc}\n",
       "\t& Column1 & Column2 & Column3 & Column4 & Column5 & Column6 & Column7 & Column8 & Column9\\\\\n",
       "\t\\hline\n",
       "\t& Int64 & Int64 & Int64 & Int64 & Int64 & Int64 & Int64 & Int64 & Int64\\\\\n",
       "\t\\hline\n",
       "\t1 & 3 & 1 & 0 & 0 & 5 & 8 & 0 & 0 & 4 \\\\\n",
       "\t2 & 0 & 0 & 9 & 3 & 2 & 0 & 0 & 0 & 0 \\\\\n",
       "\t3 & 0 & 2 & 5 & 1 & 0 & 4 & 0 & 9 & 0 \\\\\n",
       "\t4 & 0 & 0 & 0 & 0 & 0 & 0 & 3 & 8 & 9 \\\\\n",
       "\t5 & 0 & 0 & 8 & 0 & 0 & 0 & 5 & 0 & 0 \\\\\n",
       "\t6 & 5 & 4 & 6 & 0 & 0 & 0 & 0 & 0 & 0 \\\\\n",
       "\t7 & 0 & 8 & 0 & 2 & 0 & 3 & 6 & 5 & 0 \\\\\n",
       "\t8 & 0 & 0 & 0 & 0 & 7 & 1 & 4 & 0 & 0 \\\\\n",
       "\t9 & 7 & 0 & 0 & 4 & 8 & 0 & 0 & 2 & 1 \\\\\n",
       "\\end{tabular}\n"
      ],
      "text/plain": [
       "9×9 DataFrames.DataFrame. Omitted printing of 2 columns\n",
       "│ Row │ Column1 │ Column2 │ Column3 │ Column4 │ Column5 │ Column6 │ Column7 │\n",
       "│     │ \u001b[90mInt64\u001b[39m   │ \u001b[90mInt64\u001b[39m   │ \u001b[90mInt64\u001b[39m   │ \u001b[90mInt64\u001b[39m   │ \u001b[90mInt64\u001b[39m   │ \u001b[90mInt64\u001b[39m   │ \u001b[90mInt64\u001b[39m   │\n",
       "├─────┼─────────┼─────────┼─────────┼─────────┼─────────┼─────────┼─────────┤\n",
       "│ 1   │ 3       │ 1       │ 0       │ 0       │ 5       │ 8       │ 0       │\n",
       "│ 2   │ 0       │ 0       │ 9       │ 3       │ 2       │ 0       │ 0       │\n",
       "│ 3   │ 0       │ 2       │ 5       │ 1       │ 0       │ 4       │ 0       │\n",
       "│ 4   │ 0       │ 0       │ 0       │ 0       │ 0       │ 0       │ 3       │\n",
       "│ 5   │ 0       │ 0       │ 8       │ 0       │ 0       │ 0       │ 5       │\n",
       "│ 6   │ 5       │ 4       │ 6       │ 0       │ 0       │ 0       │ 0       │\n",
       "│ 7   │ 0       │ 8       │ 0       │ 2       │ 0       │ 3       │ 6       │\n",
       "│ 8   │ 0       │ 0       │ 0       │ 0       │ 7       │ 1       │ 4       │\n",
       "│ 9   │ 7       │ 0       │ 0       │ 4       │ 8       │ 0       │ 0       │"
      ]
     },
     "execution_count": 2,
     "metadata": {},
     "output_type": "execute_result"
    }
   ],
   "source": [
    "s=CSV.read(\"files/sudoku.csv\",header=0)"
   ]
  },
  {
   "cell_type": "code",
   "execution_count": 3,
   "metadata": {},
   "outputs": [
    {
     "data": {
      "text/plain": [
       "9×9 Array{Int64,2}:\n",
       " 3  1  0  0  5  8  0  0  4\n",
       " 0  0  9  3  2  0  0  0  0\n",
       " 0  2  5  1  0  4  0  9  0\n",
       " 0  0  0  0  0  0  3  8  9\n",
       " 0  0  8  0  0  0  5  0  0\n",
       " 5  4  6  0  0  0  0  0  0\n",
       " 0  8  0  2  0  3  6  5  0\n",
       " 0  0  0  0  7  1  4  0  0\n",
       " 7  0  0  4  8  0  0  2  1"
      ]
     },
     "execution_count": 3,
     "metadata": {},
     "output_type": "execute_result"
    }
   ],
   "source": [
    "s=convert(Matrix,s)"
   ]
  },
  {
   "cell_type": "code",
   "execution_count": 4,
   "metadata": {},
   "outputs": [
    {
     "data": {
      "text/plain": [
       "print_sudoku (generic function with 1 method)"
      ]
     },
     "execution_count": 4,
     "metadata": {},
     "output_type": "execute_result"
    }
   ],
   "source": [
    "# Function to print sudoku from sudoku.jl\n",
    "function print_sudoku(sudoku::Matrix)\n",
    "    # println(\"Sudoku:\")\n",
    "    println(\"[-----------------------]\")\n",
    "    for row in 1:9\n",
    "        print(\"[ \")\n",
    "        for col in 1:9\n",
    "            print(sudoku[row, col], \" \")\n",
    "            if col % 3 == 0 && col < 9\n",
    "                print(\"| \")\n",
    "            end\n",
    "        end\n",
    "        println(\"]\")\n",
    "        if row % 3 == 0\n",
    "            println(\"[-----------------------]\")\n",
    "        end\n",
    "    end\n",
    "end"
   ]
  },
  {
   "cell_type": "code",
   "execution_count": 5,
   "metadata": {},
   "outputs": [
    {
     "name": "stdout",
     "output_type": "stream",
     "text": [
      "[-----------------------]\n",
      "[ 3 1 0 | 0 5 8 | 0 0 4 ]\n",
      "[ 0 0 9 | 3 2 0 | 0 0 0 ]\n",
      "[ 0 2 5 | 1 0 4 | 0 9 0 ]\n",
      "[-----------------------]\n",
      "[ 0 0 0 | 0 0 0 | 3 8 9 ]\n",
      "[ 0 0 8 | 0 0 0 | 5 0 0 ]\n",
      "[ 5 4 6 | 0 0 0 | 0 0 0 ]\n",
      "[-----------------------]\n",
      "[ 0 8 0 | 2 0 3 | 6 5 0 ]\n",
      "[ 0 0 0 | 0 7 1 | 4 0 0 ]\n",
      "[ 7 0 0 | 4 8 0 | 0 2 1 ]\n",
      "[-----------------------]\n"
     ]
    }
   ],
   "source": [
    "print_sudoku(s)"
   ]
  },
  {
   "cell_type": "code",
   "execution_count": 6,
   "metadata": {},
   "outputs": [],
   "source": [
    "using JuMP\n",
    "using GLPK"
   ]
  },
  {
   "cell_type": "markdown",
   "metadata": {},
   "source": [
    "We modify the function `example_sudoku()` from the file [sudoku.jl](https://github.com/JuliaOpt/JuMP.jl/blob/master/examples/sudoku.jl) so that we can use it directly on the array."
   ]
  },
  {
   "cell_type": "code",
   "execution_count": 7,
   "metadata": {},
   "outputs": [
    {
     "name": "stdout",
     "output_type": "stream",
     "text": [
      "search: \u001b[0m\u001b[1mM\u001b[22m\u001b[0m\u001b[1mo\u001b[22m\u001b[0m\u001b[1md\u001b[22m\u001b[0m\u001b[1me\u001b[22m\u001b[0m\u001b[1ml\u001b[22m \u001b[0m\u001b[1mM\u001b[22m\u001b[0m\u001b[1mo\u001b[22m\u001b[0m\u001b[1md\u001b[22m\u001b[0m\u001b[1me\u001b[22m\u001b[0m\u001b[1ml\u001b[22mMode \u001b[0m\u001b[1mm\u001b[22m\u001b[0m\u001b[1mo\u001b[22m\u001b[0m\u001b[1md\u001b[22m\u001b[0m\u001b[1me\u001b[22m\u001b[0m\u001b[1ml\u001b[22m_string copy_\u001b[0m\u001b[1mm\u001b[22m\u001b[0m\u001b[1mo\u001b[22m\u001b[0m\u001b[1md\u001b[22m\u001b[0m\u001b[1me\u001b[22m\u001b[0m\u001b[1ml\u001b[22m owner_\u001b[0m\u001b[1mm\u001b[22m\u001b[0m\u001b[1mo\u001b[22m\u001b[0m\u001b[1md\u001b[22m\u001b[0m\u001b[1me\u001b[22m\u001b[0m\u001b[1ml\u001b[22m direct_\u001b[0m\u001b[1mm\u001b[22m\u001b[0m\u001b[1mo\u001b[22m\u001b[0m\u001b[1md\u001b[22m\u001b[0m\u001b[1me\u001b[22m\u001b[0m\u001b[1ml\u001b[22m\n",
      "\n"
     ]
    },
    {
     "data": {
      "text/latex": [
       "\\begin{verbatim}\n",
       "Model\n",
       "\\end{verbatim}\n",
       "A mathematical model of an optimization problem.\n",
       "\n",
       "\\rule{\\textwidth}{1pt}\n",
       "\\begin{verbatim}\n",
       "Model(; caching_mode::MOIU.CachingOptimizerMode=MOIU.AUTOMATIC)\n",
       "\\end{verbatim}\n",
       "Return a new JuMP model without any optimizer; the model is stored the model in a cache. The mode of the \\texttt{CachingOptimizer} storing this cache is \\texttt{caching\\_mode}. Use \\href{@ref}{\\texttt{set\\_optimizer}} to set the optimizer before calling \\href{@ref}{\\texttt{optimize!}}.\n",
       "\n",
       "\\rule{\\textwidth}{1pt}\n",
       "\\begin{verbatim}\n",
       "Model(optimizer_factory;\n",
       "      caching_mode::MOIU.CachingOptimizerMode=MOIU.AUTOMATIC,\n",
       "      bridge_constraints::Bool=true)\n",
       "\\end{verbatim}\n",
       "Return a new JuMP model with the provided optimizer and bridge settings. This function is equivalent to:\n",
       "\n",
       "\\begin{verbatim}\n",
       "    model = Model()\n",
       "    set_optimizer(model, optimizer_factory,\n",
       "                  bridge_constraints=bridge_constraints)\n",
       "    return model\n",
       "\\end{verbatim}\n",
       "See \\href{@ref}{\\texttt{set\\_optimizer}} for the description of the \\texttt{optimizer\\_factory} and \\texttt{bridge\\_constraints} arguments.\n",
       "\n",
       "\\subsection{Examples}\n",
       "The following creates a model with the optimizer set to \\texttt{Ipopt}:\n",
       "\n",
       "\\begin{verbatim}\n",
       "model = Model(Ipopt.Optimizer)\n",
       "\\end{verbatim}\n"
      ],
      "text/markdown": [
       "```\n",
       "Model\n",
       "```\n",
       "\n",
       "A mathematical model of an optimization problem.\n",
       "\n",
       "---\n",
       "\n",
       "```\n",
       "Model(; caching_mode::MOIU.CachingOptimizerMode=MOIU.AUTOMATIC)\n",
       "```\n",
       "\n",
       "Return a new JuMP model without any optimizer; the model is stored the model in a cache. The mode of the `CachingOptimizer` storing this cache is `caching_mode`. Use [`set_optimizer`](@ref) to set the optimizer before calling [`optimize!`](@ref).\n",
       "\n",
       "---\n",
       "\n",
       "```\n",
       "Model(optimizer_factory;\n",
       "      caching_mode::MOIU.CachingOptimizerMode=MOIU.AUTOMATIC,\n",
       "      bridge_constraints::Bool=true)\n",
       "```\n",
       "\n",
       "Return a new JuMP model with the provided optimizer and bridge settings. This function is equivalent to:\n",
       "\n",
       "```julia\n",
       "    model = Model()\n",
       "    set_optimizer(model, optimizer_factory,\n",
       "                  bridge_constraints=bridge_constraints)\n",
       "    return model\n",
       "```\n",
       "\n",
       "See [`set_optimizer`](@ref) for the description of the `optimizer_factory` and `bridge_constraints` arguments.\n",
       "\n",
       "## Examples\n",
       "\n",
       "The following creates a model with the optimizer set to `Ipopt`:\n",
       "\n",
       "```julia\n",
       "model = Model(Ipopt.Optimizer)\n",
       "```\n"
      ],
      "text/plain": [
       "\u001b[36m  Model\u001b[39m\n",
       "\n",
       "  A mathematical model of an optimization problem.\n",
       "\n",
       "  ────────────────────────────────────────────────────────────────────────────\n",
       "\n",
       "\u001b[36m  Model(; caching_mode::MOIU.CachingOptimizerMode=MOIU.AUTOMATIC)\u001b[39m\n",
       "\n",
       "  Return a new JuMP model without any optimizer; the model is stored the model\n",
       "  in a cache. The mode of the \u001b[36mCachingOptimizer\u001b[39m storing this cache is\n",
       "  \u001b[36mcaching_mode\u001b[39m. Use \u001b[36mset_optimizer\u001b[39m to set the optimizer before calling\n",
       "  \u001b[36moptimize!\u001b[39m.\n",
       "\n",
       "  ────────────────────────────────────────────────────────────────────────────\n",
       "\n",
       "\u001b[36m  Model(optimizer_factory;\u001b[39m\n",
       "\u001b[36m        caching_mode::MOIU.CachingOptimizerMode=MOIU.AUTOMATIC,\u001b[39m\n",
       "\u001b[36m        bridge_constraints::Bool=true)\u001b[39m\n",
       "\n",
       "  Return a new JuMP model with the provided optimizer and bridge settings.\n",
       "  This function is equivalent to:\n",
       "\n",
       "\u001b[36m      model = Model()\u001b[39m\n",
       "\u001b[36m      set_optimizer(model, optimizer_factory,\u001b[39m\n",
       "\u001b[36m                    bridge_constraints=bridge_constraints)\u001b[39m\n",
       "\u001b[36m      return model\u001b[39m\n",
       "\n",
       "  See \u001b[36mset_optimizer\u001b[39m for the description of the \u001b[36moptimizer_factory\u001b[39m and\n",
       "  \u001b[36mbridge_constraints\u001b[39m arguments.\n",
       "\n",
       "\u001b[1m  Examples\u001b[22m\n",
       "\u001b[1m  ==========\u001b[22m\n",
       "\n",
       "  The following creates a model with the optimizer set to \u001b[36mIpopt\u001b[39m:\n",
       "\n",
       "\u001b[36m  model = Model(Ipopt.Optimizer)\u001b[39m"
      ]
     },
     "execution_count": 7,
     "metadata": {},
     "output_type": "execute_result"
    }
   ],
   "source": [
    "?Model"
   ]
  },
  {
   "cell_type": "code",
   "execution_count": 8,
   "metadata": {},
   "outputs": [
    {
     "data": {
      "text/plain": [
       "solve_sudoku (generic function with 1 method)"
      ]
     },
     "execution_count": 8,
     "metadata": {},
     "output_type": "execute_result"
    }
   ],
   "source": [
    "function solve_sudoku(sudoku::Matrix)\n",
    "    initial_grid=sudoku\n",
    "    model = Model(GLPK.Optimizer) #GLPK\n",
    "    \n",
    "    @variable(model, x[1:9, 1:9, 1:9], Bin)\n",
    "\n",
    "    @constraints(model, begin\n",
    "        # Constraint 1 - Only one value appears in each cell\n",
    "        cell[i in 1:9, j in 1:9], sum(x[i, j, :]) == 1\n",
    "        # Constraint 2 - Each value appears in each row once only\n",
    "        row[i in 1:9, k in 1:9], sum(x[i, :, k]) == 1\n",
    "        # Constraint 3 - Each value appears in each column once only\n",
    "        col[j in 1:9, k in 1:9], sum(x[:, j, k]) == 1\n",
    "        # Constraint 4 - Each value appears in each 3x3 subgrid once only\n",
    "        subgrid[i=1:3:7, j=1:3:7, val=1:9], sum(x[i:i + 2, j:j + 2, val]) == 1\n",
    "    end)\n",
    "\n",
    "    # Initial solution\n",
    "    for row in 1:9, col in 1:9\n",
    "        if initial_grid[row, col] != 0\n",
    "            @constraint(model, x[row, col, initial_grid[row, col]] == 1)\n",
    "        end\n",
    "    end\n",
    "\n",
    "    # Solve it\n",
    "    JuMP.optimize!(model)\n",
    "\n",
    "    term_status = JuMP.termination_status(model)\n",
    "    primal_status = JuMP.primal_status(model)\n",
    "    is_optimal = term_status == MOI.OPTIMAL\n",
    "\n",
    "    # Check solution\n",
    "    if is_optimal\n",
    "        mip_solution = JuMP.value.(x)\n",
    "        sol = zeros(Int, 9, 9)\n",
    "        for row in 1:9, col in 1:9, val in 1:9\n",
    "            if mip_solution[row, col, val] >= 0.9\n",
    "                sol[row, col] = val\n",
    "            end\n",
    "        end\n",
    "        return sol\n",
    "    else\n",
    "        error(\"The solver did not find an optimal solution.\")\n",
    "    end\n",
    "end"
   ]
  },
  {
   "cell_type": "code",
   "execution_count": 9,
   "metadata": {},
   "outputs": [
    {
     "data": {
      "text/plain": [
       "9×9 Array{Int64,2}:\n",
       " 3  1  7  9  5  8  2  6  4\n",
       " 4  6  9  3  2  7  8  1  5\n",
       " 8  2  5  1  6  4  7  9  3\n",
       " 2  7  1  6  4  5  3  8  9\n",
       " 9  3  8  7  1  2  5  4  6\n",
       " 5  4  6  8  3  9  1  7  2\n",
       " 1  8  4  2  9  3  6  5  7\n",
       " 6  9  2  5  7  1  4  3  8\n",
       " 7  5  3  4  8  6  9  2  1"
      ]
     },
     "execution_count": 9,
     "metadata": {},
     "output_type": "execute_result"
    }
   ],
   "source": [
    "# Solve the sudoku with the method from the file \n",
    "# MIP (Mixed Integer Programing) from GLPK\n",
    "sol=solve_sudoku(s)"
   ]
  },
  {
   "cell_type": "code",
   "execution_count": 10,
   "metadata": {},
   "outputs": [
    {
     "name": "stdout",
     "output_type": "stream",
     "text": [
      "[-----------------------]\n",
      "[ 3 1 7 | 9 5 8 | 2 6 4 ]\n",
      "[ 4 6 9 | 3 2 7 | 8 1 5 ]\n",
      "[ 8 2 5 | 1 6 4 | 7 9 3 ]\n",
      "[-----------------------]\n",
      "[ 2 7 1 | 6 4 5 | 3 8 9 ]\n",
      "[ 9 3 8 | 7 1 2 | 5 4 6 ]\n",
      "[ 5 4 6 | 8 3 9 | 1 7 2 ]\n",
      "[-----------------------]\n",
      "[ 1 8 4 | 2 9 3 | 6 5 7 ]\n",
      "[ 6 9 2 | 5 7 1 | 4 3 8 ]\n",
      "[ 7 5 3 | 4 8 6 | 9 2 1 ]\n",
      "[-----------------------]\n"
     ]
    }
   ],
   "source": [
    "# Nicer print\n",
    "print_sudoku(sol)"
   ]
  },
  {
   "cell_type": "markdown",
   "metadata": {},
   "source": [
    "The formulation from [P. Babu, K. Pelckmans, P. Stoica and J. Li, Linear Systems, Sparse Solutions, and Sudoku][BPSL10] is essentially the same.\n",
    "We first ceate the constraints matrix for rows, columns, boxes and cells (all except clues).\n",
    "\n",
    "[BPSL10]: http://people.math.yorku.ca/~chensy/sudoku.pdf \"Prabhu Babu, Kristiaan Pelckmans, Petre Stoica and Jian Li, 'Sparse Solutions, and Sudoku',  IEEE Signal Processing Letters, 17(1) (2010) 40-42.\""
   ]
  },
  {
   "cell_type": "code",
   "execution_count": 11,
   "metadata": {},
   "outputs": [],
   "source": [
    "# Convenience function\n",
    "unblock(A) = mapreduce(identity, hcat, [mapreduce(identity, vcat, A[:,i]) \n",
    "        for i = 1:size(A,2)])\n",
    "using Plots\n",
    "using LinearAlgebra"
   ]
  },
  {
   "cell_type": "code",
   "execution_count": 12,
   "metadata": {},
   "outputs": [
    {
     "data": {
      "text/plain": [
       "324×729 Array{Int64,2}:\n",
       " 1  0  0  0  0  0  0  0  0  1  0  0  0  …  0  0  0  0  0  0  0  0  0  0  0  0\n",
       " 0  1  0  0  0  0  0  0  0  0  1  0  0     0  0  0  0  0  0  0  0  0  0  0  0\n",
       " 0  0  1  0  0  0  0  0  0  0  0  1  0     0  0  0  0  0  0  0  0  0  0  0  0\n",
       " 0  0  0  1  0  0  0  0  0  0  0  0  1     0  0  0  0  0  0  0  0  0  0  0  0\n",
       " 0  0  0  0  1  0  0  0  0  0  0  0  0     0  0  0  0  0  0  0  0  0  0  0  0\n",
       " 0  0  0  0  0  1  0  0  0  0  0  0  0  …  0  0  0  0  0  0  0  0  0  0  0  0\n",
       " 0  0  0  0  0  0  1  0  0  0  0  0  0     0  0  0  0  0  0  0  0  0  0  0  0\n",
       " 0  0  0  0  0  0  0  1  0  0  0  0  0     0  0  0  0  0  0  0  0  0  0  0  0\n",
       " 0  0  0  0  0  0  0  0  1  0  0  0  0     0  0  0  0  0  0  0  0  0  0  0  0\n",
       " 0  0  0  0  0  0  0  0  0  0  0  0  0     0  0  0  0  0  0  0  0  0  0  0  0\n",
       " 0  0  0  0  0  0  0  0  0  0  0  0  0  …  0  0  0  0  0  0  0  0  0  0  0  0\n",
       " 0  0  0  0  0  0  0  0  0  0  0  0  0     0  0  0  0  0  0  0  0  0  0  0  0\n",
       " 0  0  0  0  0  0  0  0  0  0  0  0  0     0  0  0  0  0  0  0  0  0  0  0  0\n",
       " ⋮              ⋮              ⋮        ⋱           ⋮              ⋮        \n",
       " 0  0  0  0  0  0  0  0  0  0  0  0  0     0  0  0  0  0  0  0  0  0  0  0  0\n",
       " 0  0  0  0  0  0  0  0  0  0  0  0  0     0  0  0  0  0  0  0  0  0  0  0  0\n",
       " 0  0  0  0  0  0  0  0  0  0  0  0  0     0  0  0  0  0  0  0  0  0  0  0  0\n",
       " 0  0  0  0  0  0  0  0  0  0  0  0  0  …  0  0  0  0  0  0  0  0  0  0  0  0\n",
       " 0  0  0  0  0  0  0  0  0  0  0  0  0     0  0  0  0  0  0  0  0  0  0  0  0\n",
       " 0  0  0  0  0  0  0  0  0  0  0  0  0     0  0  0  0  0  0  0  0  0  0  0  0\n",
       " 0  0  0  0  0  0  0  0  0  0  0  0  0     0  0  0  0  0  0  0  0  0  0  0  0\n",
       " 0  0  0  0  0  0  0  0  0  0  0  0  0     0  0  0  0  0  0  0  0  0  0  0  0\n",
       " 0  0  0  0  0  0  0  0  0  0  0  0  0  …  0  0  0  0  0  0  0  0  0  0  0  0\n",
       " 0  0  0  0  0  0  0  0  0  0  0  0  0     0  0  0  0  0  0  0  0  0  0  0  0\n",
       " 0  0  0  0  0  0  0  0  0  0  0  0  0     1  1  1  0  0  0  0  0  0  0  0  0\n",
       " 0  0  0  0  0  0  0  0  0  0  0  0  0     0  0  0  1  1  1  1  1  1  1  1  1"
      ]
     },
     "execution_count": 12,
     "metadata": {},
     "output_type": "execute_result"
    }
   ],
   "source": [
    "n=9\n",
    "n2=81\n",
    "n3=729\n",
    "# Row constraints\n",
    "I9=Array{Int}(I,9,9)\n",
    "Rows=[repeat(I9,1,9) zeros(Int,n,n3-n2)]\n",
    "for i=1:8\n",
    "    Rows=vcat(Rows,[zeros(Int,n,i*n2) repeat(I9,1,9) zeros(Int,n,(n-i-1)*n2)])\n",
    "end\n",
    "# Column constraints\n",
    "Cols=repeat([I9 zeros(Int,9,72)],1,9)\n",
    "for i=1:8\n",
    "    Cols=vcat(Cols,[zeros(Int,9,9*i) repeat([I9 zeros(Int,9,72)],1,8) I9 zeros(Int,9,72-9*i)])\n",
    "end\n",
    "# Box constraints\n",
    "z9=zeros(Int,9,9)\n",
    "Box=[z9 for i=1:n, j=1:n2]\n",
    "for i=1:3, j=0:2\n",
    "    Box[i,9*j+1+3*(i-1):9*j+3+3*(i-1)]=[I9 for k=1:3]\n",
    "end\n",
    "for i=1:3, j=0:2\n",
    "    Box[i+3,27+9*j+1+3*(i-1):27+9*j+3+3*(i-1)]=[I9 for k=1:3]\n",
    "end\n",
    "for i=1:3, j=0:2\n",
    "    Box[i+6,54+9*j+1+3*(i-1):54+9*j+3+3*(i-1)]=[I9 for k=1:3]\n",
    "end\n",
    "Box=unblock(Box)\n",
    "# Cell constraints\n",
    "Cell=zeros(Int,n2,n3)\n",
    "for i=1:n2\n",
    "    Cell[i,9*(i-1)+1:9*i]=ones(Int,1,9)\n",
    "end\n",
    "C=vcat(Rows,Cols,Box,Cell)"
   ]
  },
  {
   "cell_type": "code",
   "execution_count": 15,
   "metadata": {},
   "outputs": [
    {
     "data": {
      "text/plain": [
       "spy (generic function with 2 methods)"
      ]
     },
     "execution_count": 15,
     "metadata": {},
     "output_type": "execute_result"
    }
   ],
   "source": [
    "import Plots.spy\n",
    "spy(A)=heatmap(A,yflip=true,color=:heat)"
   ]
  },
  {
   "cell_type": "code",
   "execution_count": 16,
   "metadata": {},
   "outputs": [
    {
     "data": {
      "image/svg+xml": [
       "<?xml version=\"1.0\" encoding=\"utf-8\"?>\n",
       "<svg xmlns=\"http://www.w3.org/2000/svg\" xmlns:xlink=\"http://www.w3.org/1999/xlink\" width=\"600\" height=\"400\" viewBox=\"0 0 2400 1600\">\n",
       "<defs>\n",
       "  <clipPath id=\"clip440\">\n",
       "    <rect x=\"0\" y=\"0\" width=\"2400\" height=\"1600\"/>\n",
       "  </clipPath>\n",
       "</defs>\n",
       "<path clip-path=\"url(#clip440)\" d=\"\n",
       "M0 1600 L2400 1600 L2400 0 L0 0  Z\n",
       "  \" fill=\"#ffffff\" fill-rule=\"evenodd\" fill-opacity=\"1\"/>\n",
       "<defs>\n",
       "  <clipPath id=\"clip441\">\n",
       "    <rect x=\"480\" y=\"0\" width=\"1681\" height=\"1600\"/>\n",
       "  </clipPath>\n",
       "</defs>\n",
       "<path clip-path=\"url(#clip440)\" d=\"\n",
       "M163.774 1486.45 L2112.76 1486.45 L2112.76 47.2441 L163.774 47.2441  Z\n",
       "  \" fill=\"#ffffff\" fill-rule=\"evenodd\" fill-opacity=\"1\"/>\n",
       "<defs>\n",
       "  <clipPath id=\"clip442\">\n",
       "    <rect x=\"163\" y=\"47\" width=\"1950\" height=\"1440\"/>\n",
       "  </clipPath>\n",
       "</defs>\n",
       "<polyline clip-path=\"url(#clip442)\" style=\"stroke:#000000; stroke-width:2; stroke-opacity:0.1; fill:none\" points=\"\n",
       "  429.787,47.2441 429.787,1486.45 \n",
       "  \"/>\n",
       "<polyline clip-path=\"url(#clip442)\" style=\"stroke:#000000; stroke-width:2; stroke-opacity:0.1; fill:none\" points=\"\n",
       "  697.137,47.2441 697.137,1486.45 \n",
       "  \"/>\n",
       "<polyline clip-path=\"url(#clip442)\" style=\"stroke:#000000; stroke-width:2; stroke-opacity:0.1; fill:none\" points=\"\n",
       "  964.487,47.2441 964.487,1486.45 \n",
       "  \"/>\n",
       "<polyline clip-path=\"url(#clip442)\" style=\"stroke:#000000; stroke-width:2; stroke-opacity:0.1; fill:none\" points=\"\n",
       "  1231.84,47.2441 1231.84,1486.45 \n",
       "  \"/>\n",
       "<polyline clip-path=\"url(#clip442)\" style=\"stroke:#000000; stroke-width:2; stroke-opacity:0.1; fill:none\" points=\"\n",
       "  1499.19,47.2441 1499.19,1486.45 \n",
       "  \"/>\n",
       "<polyline clip-path=\"url(#clip442)\" style=\"stroke:#000000; stroke-width:2; stroke-opacity:0.1; fill:none\" points=\"\n",
       "  1766.54,47.2441 1766.54,1486.45 \n",
       "  \"/>\n",
       "<polyline clip-path=\"url(#clip442)\" style=\"stroke:#000000; stroke-width:2; stroke-opacity:0.1; fill:none\" points=\"\n",
       "  2033.89,47.2441 2033.89,1486.45 \n",
       "  \"/>\n",
       "<polyline clip-path=\"url(#clip442)\" style=\"stroke:#000000; stroke-width:2; stroke-opacity:0.1; fill:none\" points=\"\n",
       "  163.774,267.122 2112.76,267.122 \n",
       "  \"/>\n",
       "<polyline clip-path=\"url(#clip442)\" style=\"stroke:#000000; stroke-width:2; stroke-opacity:0.1; fill:none\" points=\"\n",
       "  163.774,489.222 2112.76,489.222 \n",
       "  \"/>\n",
       "<polyline clip-path=\"url(#clip442)\" style=\"stroke:#000000; stroke-width:2; stroke-opacity:0.1; fill:none\" points=\"\n",
       "  163.774,711.321 2112.76,711.321 \n",
       "  \"/>\n",
       "<polyline clip-path=\"url(#clip442)\" style=\"stroke:#000000; stroke-width:2; stroke-opacity:0.1; fill:none\" points=\"\n",
       "  163.774,933.42 2112.76,933.42 \n",
       "  \"/>\n",
       "<polyline clip-path=\"url(#clip442)\" style=\"stroke:#000000; stroke-width:2; stroke-opacity:0.1; fill:none\" points=\"\n",
       "  163.774,1155.52 2112.76,1155.52 \n",
       "  \"/>\n",
       "<polyline clip-path=\"url(#clip442)\" style=\"stroke:#000000; stroke-width:2; stroke-opacity:0.1; fill:none\" points=\"\n",
       "  163.774,1377.62 2112.76,1377.62 \n",
       "  \"/>\n",
       "<polyline clip-path=\"url(#clip440)\" style=\"stroke:#000000; stroke-width:4; stroke-opacity:1; fill:none\" points=\"\n",
       "  163.774,1486.45 2112.76,1486.45 \n",
       "  \"/>\n",
       "<polyline clip-path=\"url(#clip440)\" style=\"stroke:#000000; stroke-width:4; stroke-opacity:1; fill:none\" points=\"\n",
       "  163.774,47.2441 163.774,1486.45 \n",
       "  \"/>\n",
       "<polyline clip-path=\"url(#clip440)\" style=\"stroke:#000000; stroke-width:4; stroke-opacity:1; fill:none\" points=\"\n",
       "  429.787,1486.45 429.787,1469.18 \n",
       "  \"/>\n",
       "<polyline clip-path=\"url(#clip440)\" style=\"stroke:#000000; stroke-width:4; stroke-opacity:1; fill:none\" points=\"\n",
       "  697.137,1486.45 697.137,1469.18 \n",
       "  \"/>\n",
       "<polyline clip-path=\"url(#clip440)\" style=\"stroke:#000000; stroke-width:4; stroke-opacity:1; fill:none\" points=\"\n",
       "  964.487,1486.45 964.487,1469.18 \n",
       "  \"/>\n",
       "<polyline clip-path=\"url(#clip440)\" style=\"stroke:#000000; stroke-width:4; stroke-opacity:1; fill:none\" points=\"\n",
       "  1231.84,1486.45 1231.84,1469.18 \n",
       "  \"/>\n",
       "<polyline clip-path=\"url(#clip440)\" style=\"stroke:#000000; stroke-width:4; stroke-opacity:1; fill:none\" points=\"\n",
       "  1499.19,1486.45 1499.19,1469.18 \n",
       "  \"/>\n",
       "<polyline clip-path=\"url(#clip440)\" style=\"stroke:#000000; stroke-width:4; stroke-opacity:1; fill:none\" points=\"\n",
       "  1766.54,1486.45 1766.54,1469.18 \n",
       "  \"/>\n",
       "<polyline clip-path=\"url(#clip440)\" style=\"stroke:#000000; stroke-width:4; stroke-opacity:1; fill:none\" points=\"\n",
       "  2033.89,1486.45 2033.89,1469.18 \n",
       "  \"/>\n",
       "<polyline clip-path=\"url(#clip440)\" style=\"stroke:#000000; stroke-width:4; stroke-opacity:1; fill:none\" points=\"\n",
       "  163.774,267.122 187.162,267.122 \n",
       "  \"/>\n",
       "<polyline clip-path=\"url(#clip440)\" style=\"stroke:#000000; stroke-width:4; stroke-opacity:1; fill:none\" points=\"\n",
       "  163.774,489.222 187.162,489.222 \n",
       "  \"/>\n",
       "<polyline clip-path=\"url(#clip440)\" style=\"stroke:#000000; stroke-width:4; stroke-opacity:1; fill:none\" points=\"\n",
       "  163.774,711.321 187.162,711.321 \n",
       "  \"/>\n",
       "<polyline clip-path=\"url(#clip440)\" style=\"stroke:#000000; stroke-width:4; stroke-opacity:1; fill:none\" points=\"\n",
       "  163.774,933.42 187.162,933.42 \n",
       "  \"/>\n",
       "<polyline clip-path=\"url(#clip440)\" style=\"stroke:#000000; stroke-width:4; stroke-opacity:1; fill:none\" points=\"\n",
       "  163.774,1155.52 187.162,1155.52 \n",
       "  \"/>\n",
       "<polyline clip-path=\"url(#clip440)\" style=\"stroke:#000000; stroke-width:4; stroke-opacity:1; fill:none\" points=\"\n",
       "  163.774,1377.62 187.162,1377.62 \n",
       "  \"/>\n",
       "<path clip-path=\"url(#clip440)\" d=\"M 0 0 M393.156 1535.98 L400.795 1535.98 L400.795 1509.62 L392.484 1511.29 L392.484 1507.03 L400.748 1505.36 L405.424 1505.36 L405.424 1535.98 L413.063 1535.98 L413.063 1539.92 L393.156 1539.92 L393.156 1535.98 Z\" fill=\"#000000\" fill-rule=\"evenodd\" fill-opacity=\"1\" /><path clip-path=\"url(#clip440)\" d=\"M 0 0 M428.132 1508.44 Q424.521 1508.44 422.693 1512 Q420.887 1515.55 420.887 1522.67 Q420.887 1529.78 422.693 1533.35 Q424.521 1536.89 428.132 1536.89 Q431.767 1536.89 433.572 1533.35 Q435.401 1529.78 435.401 1522.67 Q435.401 1515.55 433.572 1512 Q431.767 1508.44 428.132 1508.44 M428.132 1504.73 Q433.942 1504.73 436.998 1509.34 Q440.077 1513.92 440.077 1522.67 Q440.077 1531.4 436.998 1536.01 Q433.942 1540.59 428.132 1540.59 Q422.322 1540.59 419.243 1536.01 Q416.188 1531.4 416.188 1522.67 Q416.188 1513.92 419.243 1509.34 Q422.322 1504.73 428.132 1504.73 Z\" fill=\"#000000\" fill-rule=\"evenodd\" fill-opacity=\"1\" /><path clip-path=\"url(#clip440)\" d=\"M 0 0 M455.146 1508.44 Q451.535 1508.44 449.706 1512 Q447.901 1515.55 447.901 1522.67 Q447.901 1529.78 449.706 1533.35 Q451.535 1536.89 455.146 1536.89 Q458.78 1536.89 460.586 1533.35 Q462.415 1529.78 462.415 1522.67 Q462.415 1515.55 460.586 1512 Q458.78 1508.44 455.146 1508.44 M455.146 1504.73 Q460.956 1504.73 464.012 1509.34 Q467.09 1513.92 467.09 1522.67 Q467.09 1531.4 464.012 1536.01 Q460.956 1540.59 455.146 1540.59 Q449.336 1540.59 446.257 1536.01 Q443.202 1531.4 443.202 1522.67 Q443.202 1513.92 446.257 1509.34 Q449.336 1504.73 455.146 1504.73 Z\" fill=\"#000000\" fill-rule=\"evenodd\" fill-opacity=\"1\" /><path clip-path=\"url(#clip440)\" d=\"M 0 0 M664.777 1535.98 L681.096 1535.98 L681.096 1539.92 L659.152 1539.92 L659.152 1535.98 Q661.814 1533.23 666.397 1528.6 Q671.003 1523.95 672.184 1522.61 Q674.429 1520.08 675.309 1518.35 Q676.212 1516.59 676.212 1514.9 Q676.212 1512.14 674.267 1510.41 Q672.346 1508.67 669.244 1508.67 Q667.045 1508.67 664.591 1509.43 Q662.161 1510.2 659.383 1511.75 L659.383 1507.03 Q662.207 1505.89 664.661 1505.31 Q667.114 1504.73 669.151 1504.73 Q674.522 1504.73 677.716 1507.42 Q680.911 1510.11 680.911 1514.6 Q680.911 1516.73 680.101 1518.65 Q679.313 1520.54 677.207 1523.14 Q676.628 1523.81 673.526 1527.03 Q670.425 1530.22 664.777 1535.98 Z\" fill=\"#000000\" fill-rule=\"evenodd\" fill-opacity=\"1\" /><path clip-path=\"url(#clip440)\" d=\"M 0 0 M696.165 1508.44 Q692.554 1508.44 690.725 1512 Q688.92 1515.55 688.92 1522.67 Q688.92 1529.78 690.725 1533.35 Q692.554 1536.89 696.165 1536.89 Q699.799 1536.89 701.605 1533.35 Q703.434 1529.78 703.434 1522.67 Q703.434 1515.55 701.605 1512 Q699.799 1508.44 696.165 1508.44 M696.165 1504.73 Q701.975 1504.73 705.031 1509.34 Q708.11 1513.92 708.11 1522.67 Q708.11 1531.4 705.031 1536.01 Q701.975 1540.59 696.165 1540.59 Q690.355 1540.59 687.276 1536.01 Q684.221 1531.4 684.221 1522.67 Q684.221 1513.92 687.276 1509.34 Q690.355 1504.73 696.165 1504.73 Z\" fill=\"#000000\" fill-rule=\"evenodd\" fill-opacity=\"1\" /><path clip-path=\"url(#clip440)\" d=\"M 0 0 M723.179 1508.44 Q719.568 1508.44 717.739 1512 Q715.934 1515.55 715.934 1522.67 Q715.934 1529.78 717.739 1533.35 Q719.568 1536.89 723.179 1536.89 Q726.813 1536.89 728.619 1533.35 Q730.447 1529.78 730.447 1522.67 Q730.447 1515.55 728.619 1512 Q726.813 1508.44 723.179 1508.44 M723.179 1504.73 Q728.989 1504.73 732.045 1509.34 Q735.123 1513.92 735.123 1522.67 Q735.123 1531.4 732.045 1536.01 Q728.989 1540.59 723.179 1540.59 Q717.369 1540.59 714.29 1536.01 Q711.235 1531.4 711.235 1522.67 Q711.235 1513.92 714.29 1509.34 Q717.369 1504.73 723.179 1504.73 Z\" fill=\"#000000\" fill-rule=\"evenodd\" fill-opacity=\"1\" /><path clip-path=\"url(#clip440)\" d=\"M 0 0 M941.721 1521.29 Q945.078 1522 946.953 1524.27 Q948.851 1526.54 948.851 1529.87 Q948.851 1534.99 945.332 1537.79 Q941.814 1540.59 935.333 1540.59 Q933.157 1540.59 930.842 1540.15 Q928.55 1539.73 926.096 1538.88 L926.096 1534.36 Q928.041 1535.5 930.356 1536.08 Q932.671 1536.66 935.194 1536.66 Q939.592 1536.66 941.883 1534.92 Q944.198 1533.18 944.198 1529.87 Q944.198 1526.82 942.045 1525.11 Q939.916 1523.37 936.096 1523.37 L932.069 1523.37 L932.069 1519.53 L936.282 1519.53 Q939.731 1519.53 941.559 1518.16 Q943.388 1516.77 943.388 1514.18 Q943.388 1511.52 941.49 1510.11 Q939.615 1508.67 936.096 1508.67 Q934.175 1508.67 931.976 1509.09 Q929.777 1509.5 927.138 1510.38 L927.138 1506.22 Q929.8 1505.48 932.115 1505.11 Q934.453 1504.73 936.513 1504.73 Q941.837 1504.73 944.939 1507.17 Q948.041 1509.57 948.041 1513.69 Q948.041 1516.56 946.397 1518.55 Q944.754 1520.52 941.721 1521.29 Z\" fill=\"#000000\" fill-rule=\"evenodd\" fill-opacity=\"1\" /><path clip-path=\"url(#clip440)\" d=\"M 0 0 M963.92 1508.44 Q960.309 1508.44 958.481 1512 Q956.675 1515.55 956.675 1522.67 Q956.675 1529.78 958.481 1533.35 Q960.309 1536.89 963.92 1536.89 Q967.555 1536.89 969.36 1533.35 Q971.189 1529.78 971.189 1522.67 Q971.189 1515.55 969.36 1512 Q967.555 1508.44 963.92 1508.44 M963.92 1504.73 Q969.731 1504.73 972.786 1509.34 Q975.865 1513.92 975.865 1522.67 Q975.865 1531.4 972.786 1536.01 Q969.731 1540.59 963.92 1540.59 Q958.11 1540.59 955.032 1536.01 Q951.976 1531.4 951.976 1522.67 Q951.976 1513.92 955.032 1509.34 Q958.11 1504.73 963.92 1504.73 Z\" fill=\"#000000\" fill-rule=\"evenodd\" fill-opacity=\"1\" /><path clip-path=\"url(#clip440)\" d=\"M 0 0 M990.934 1508.44 Q987.323 1508.44 985.494 1512 Q983.689 1515.55 983.689 1522.67 Q983.689 1529.78 985.494 1533.35 Q987.323 1536.89 990.934 1536.89 Q994.568 1536.89 996.374 1533.35 Q998.203 1529.78 998.203 1522.67 Q998.203 1515.55 996.374 1512 Q994.568 1508.44 990.934 1508.44 M990.934 1504.73 Q996.744 1504.73 999.8 1509.34 Q1002.88 1513.92 1002.88 1522.67 Q1002.88 1531.4 999.8 1536.01 Q996.744 1540.59 990.934 1540.59 Q985.124 1540.59 982.045 1536.01 Q978.99 1531.4 978.99 1522.67 Q978.99 1513.92 982.045 1509.34 Q985.124 1504.73 990.934 1504.73 Z\" fill=\"#000000\" fill-rule=\"evenodd\" fill-opacity=\"1\" /><path clip-path=\"url(#clip440)\" d=\"M 0 0 M1207.83 1509.43 L1196.03 1527.88 L1207.83 1527.88 L1207.83 1509.43 M1206.61 1505.36 L1212.49 1505.36 L1212.49 1527.88 L1217.42 1527.88 L1217.42 1531.77 L1212.49 1531.77 L1212.49 1539.92 L1207.83 1539.92 L1207.83 1531.77 L1192.23 1531.77 L1192.23 1527.26 L1206.61 1505.36 Z\" fill=\"#000000\" fill-rule=\"evenodd\" fill-opacity=\"1\" /><path clip-path=\"url(#clip440)\" d=\"M 0 0 M1232.49 1508.44 Q1228.87 1508.44 1227.05 1512 Q1225.24 1515.55 1225.24 1522.67 Q1225.24 1529.78 1227.05 1533.35 Q1228.87 1536.89 1232.49 1536.89 Q1236.12 1536.89 1237.93 1533.35 Q1239.75 1529.78 1239.75 1522.67 Q1239.75 1515.55 1237.93 1512 Q1236.12 1508.44 1232.49 1508.44 M1232.49 1504.73 Q1238.3 1504.73 1241.35 1509.34 Q1244.43 1513.92 1244.43 1522.67 Q1244.43 1531.4 1241.35 1536.01 Q1238.3 1540.59 1232.49 1540.59 Q1226.68 1540.59 1223.6 1536.01 Q1220.54 1531.4 1220.54 1522.67 Q1220.54 1513.92 1223.6 1509.34 Q1226.68 1504.73 1232.49 1504.73 Z\" fill=\"#000000\" fill-rule=\"evenodd\" fill-opacity=\"1\" /><path clip-path=\"url(#clip440)\" d=\"M 0 0 M1259.5 1508.44 Q1255.89 1508.44 1254.06 1512 Q1252.25 1515.55 1252.25 1522.67 Q1252.25 1529.78 1254.06 1533.35 Q1255.89 1536.89 1259.5 1536.89 Q1263.13 1536.89 1264.94 1533.35 Q1266.77 1529.78 1266.77 1522.67 Q1266.77 1515.55 1264.94 1512 Q1263.13 1508.44 1259.5 1508.44 M1259.5 1504.73 Q1265.31 1504.73 1268.37 1509.34 Q1271.44 1513.92 1271.44 1522.67 Q1271.44 1531.4 1268.37 1536.01 Q1265.31 1540.59 1259.5 1540.59 Q1253.69 1540.59 1250.61 1536.01 Q1247.56 1531.4 1247.56 1522.67 Q1247.56 1513.92 1250.61 1509.34 Q1253.69 1504.73 1259.5 1504.73 Z\" fill=\"#000000\" fill-rule=\"evenodd\" fill-opacity=\"1\" /><path clip-path=\"url(#clip440)\" d=\"M 0 0 M1462.45 1505.36 L1480.81 1505.36 L1480.81 1509.3 L1466.73 1509.3 L1466.73 1517.77 Q1467.75 1517.42 1468.77 1517.26 Q1469.79 1517.07 1470.81 1517.07 Q1476.6 1517.07 1479.97 1520.24 Q1483.35 1523.42 1483.35 1528.83 Q1483.35 1534.41 1479.88 1537.51 Q1476.41 1540.59 1470.09 1540.59 Q1467.91 1540.59 1465.65 1540.22 Q1463.4 1539.85 1460.99 1539.11 L1460.99 1534.41 Q1463.08 1535.54 1465.3 1536.1 Q1467.52 1536.66 1470 1536.66 Q1474 1536.66 1476.34 1534.55 Q1478.68 1532.44 1478.68 1528.83 Q1478.68 1525.22 1476.34 1523.11 Q1474 1521.01 1470 1521.01 Q1468.12 1521.01 1466.25 1521.42 Q1464.4 1521.84 1462.45 1522.72 L1462.45 1505.36 Z\" fill=\"#000000\" fill-rule=\"evenodd\" fill-opacity=\"1\" /><path clip-path=\"url(#clip440)\" d=\"M 0 0 M1498.42 1508.44 Q1494.81 1508.44 1492.98 1512 Q1491.18 1515.55 1491.18 1522.67 Q1491.18 1529.78 1492.98 1533.35 Q1494.81 1536.89 1498.42 1536.89 Q1502.06 1536.89 1503.86 1533.35 Q1505.69 1529.78 1505.69 1522.67 Q1505.69 1515.55 1503.86 1512 Q1502.06 1508.44 1498.42 1508.44 M1498.42 1504.73 Q1504.23 1504.73 1507.29 1509.34 Q1510.37 1513.92 1510.37 1522.67 Q1510.37 1531.4 1507.29 1536.01 Q1504.23 1540.59 1498.42 1540.59 Q1492.61 1540.59 1489.53 1536.01 Q1486.48 1531.4 1486.48 1522.67 Q1486.48 1513.92 1489.53 1509.34 Q1492.61 1504.73 1498.42 1504.73 Z\" fill=\"#000000\" fill-rule=\"evenodd\" fill-opacity=\"1\" /><path clip-path=\"url(#clip440)\" d=\"M 0 0 M1525.44 1508.44 Q1521.83 1508.44 1520 1512 Q1518.19 1515.55 1518.19 1522.67 Q1518.19 1529.78 1520 1533.35 Q1521.83 1536.89 1525.44 1536.89 Q1529.07 1536.89 1530.88 1533.35 Q1532.71 1529.78 1532.71 1522.67 Q1532.71 1515.55 1530.88 1512 Q1529.07 1508.44 1525.44 1508.44 M1525.44 1504.73 Q1531.25 1504.73 1534.3 1509.34 Q1537.38 1513.92 1537.38 1522.67 Q1537.38 1531.4 1534.3 1536.01 Q1531.25 1540.59 1525.44 1540.59 Q1519.63 1540.59 1516.55 1536.01 Q1513.49 1531.4 1513.49 1522.67 Q1513.49 1513.92 1516.55 1509.34 Q1519.63 1504.73 1525.44 1504.73 Z\" fill=\"#000000\" fill-rule=\"evenodd\" fill-opacity=\"1\" /><path clip-path=\"url(#clip440)\" d=\"M 0 0 M1739.93 1520.78 Q1736.78 1520.78 1734.93 1522.93 Q1733.1 1525.08 1733.1 1528.83 Q1733.1 1532.56 1734.93 1534.73 Q1736.78 1536.89 1739.93 1536.89 Q1743.08 1536.89 1744.91 1534.73 Q1746.76 1532.56 1746.76 1528.83 Q1746.76 1525.08 1744.91 1522.93 Q1743.08 1520.78 1739.93 1520.78 M1749.21 1506.12 L1749.21 1510.38 Q1747.45 1509.55 1745.65 1509.11 Q1743.86 1508.67 1742.1 1508.67 Q1737.48 1508.67 1735.02 1511.8 Q1732.59 1514.92 1732.24 1521.24 Q1733.61 1519.23 1735.67 1518.16 Q1737.73 1517.07 1740.21 1517.07 Q1745.42 1517.07 1748.42 1520.24 Q1751.46 1523.39 1751.46 1528.83 Q1751.46 1534.16 1748.31 1537.37 Q1745.16 1540.59 1739.93 1540.59 Q1733.93 1540.59 1730.76 1536.01 Q1727.59 1531.4 1727.59 1522.67 Q1727.59 1514.48 1731.48 1509.62 Q1735.37 1504.73 1741.92 1504.73 Q1743.68 1504.73 1745.46 1505.08 Q1747.27 1505.43 1749.21 1506.12 Z\" fill=\"#000000\" fill-rule=\"evenodd\" fill-opacity=\"1\" /><path clip-path=\"url(#clip440)\" d=\"M 0 0 M1766.53 1508.44 Q1762.91 1508.44 1761.09 1512 Q1759.28 1515.55 1759.28 1522.67 Q1759.28 1529.78 1761.09 1533.35 Q1762.91 1536.89 1766.53 1536.89 Q1770.16 1536.89 1771.97 1533.35 Q1773.79 1529.78 1773.79 1522.67 Q1773.79 1515.55 1771.97 1512 Q1770.16 1508.44 1766.53 1508.44 M1766.53 1504.73 Q1772.34 1504.73 1775.39 1509.34 Q1778.47 1513.92 1778.47 1522.67 Q1778.47 1531.4 1775.39 1536.01 Q1772.34 1540.59 1766.53 1540.59 Q1760.72 1540.59 1757.64 1536.01 Q1754.58 1531.4 1754.58 1522.67 Q1754.58 1513.92 1757.64 1509.34 Q1760.72 1504.73 1766.53 1504.73 Z\" fill=\"#000000\" fill-rule=\"evenodd\" fill-opacity=\"1\" /><path clip-path=\"url(#clip440)\" d=\"M 0 0 M1793.54 1508.44 Q1789.93 1508.44 1788.1 1512 Q1786.29 1515.55 1786.29 1522.67 Q1786.29 1529.78 1788.1 1533.35 Q1789.93 1536.89 1793.54 1536.89 Q1797.17 1536.89 1798.98 1533.35 Q1800.81 1529.78 1800.81 1522.67 Q1800.81 1515.55 1798.98 1512 Q1797.17 1508.44 1793.54 1508.44 M1793.54 1504.73 Q1799.35 1504.73 1802.41 1509.34 Q1805.48 1513.92 1805.48 1522.67 Q1805.48 1531.4 1802.41 1536.01 Q1799.35 1540.59 1793.54 1540.59 Q1787.73 1540.59 1784.65 1536.01 Q1781.6 1531.4 1781.6 1522.67 Q1781.6 1513.92 1784.65 1509.34 Q1787.73 1504.73 1793.54 1504.73 Z\" fill=\"#000000\" fill-rule=\"evenodd\" fill-opacity=\"1\" /><path clip-path=\"url(#clip440)\" d=\"M 0 0 M1995.76 1505.36 L2017.98 1505.36 L2017.98 1507.35 L2005.44 1539.92 L2000.55 1539.92 L2012.36 1509.3 L1995.76 1509.3 L1995.76 1505.36 Z\" fill=\"#000000\" fill-rule=\"evenodd\" fill-opacity=\"1\" /><path clip-path=\"url(#clip440)\" d=\"M 0 0 M2033.05 1508.44 Q2029.44 1508.44 2027.61 1512 Q2025.81 1515.55 2025.81 1522.67 Q2025.81 1529.78 2027.61 1533.35 Q2029.44 1536.89 2033.05 1536.89 Q2036.69 1536.89 2038.49 1533.35 Q2040.32 1529.78 2040.32 1522.67 Q2040.32 1515.55 2038.49 1512 Q2036.69 1508.44 2033.05 1508.44 M2033.05 1504.73 Q2038.86 1504.73 2041.92 1509.34 Q2045 1513.92 2045 1522.67 Q2045 1531.4 2041.92 1536.01 Q2038.86 1540.59 2033.05 1540.59 Q2027.24 1540.59 2024.17 1536.01 Q2021.11 1531.4 2021.11 1522.67 Q2021.11 1513.92 2024.17 1509.34 Q2027.24 1504.73 2033.05 1504.73 Z\" fill=\"#000000\" fill-rule=\"evenodd\" fill-opacity=\"1\" /><path clip-path=\"url(#clip440)\" d=\"M 0 0 M2060.07 1508.44 Q2056.46 1508.44 2054.63 1512 Q2052.82 1515.55 2052.82 1522.67 Q2052.82 1529.78 2054.63 1533.35 Q2056.46 1536.89 2060.07 1536.89 Q2063.7 1536.89 2065.51 1533.35 Q2067.34 1529.78 2067.34 1522.67 Q2067.34 1515.55 2065.51 1512 Q2063.7 1508.44 2060.07 1508.44 M2060.07 1504.73 Q2065.88 1504.73 2068.93 1509.34 Q2072.01 1513.92 2072.01 1522.67 Q2072.01 1531.4 2068.93 1536.01 Q2065.88 1540.59 2060.07 1540.59 Q2054.26 1540.59 2051.18 1536.01 Q2048.12 1531.4 2048.12 1522.67 Q2048.12 1513.92 2051.18 1509.34 Q2054.26 1504.73 2060.07 1504.73 Z\" fill=\"#000000\" fill-rule=\"evenodd\" fill-opacity=\"1\" /><path clip-path=\"url(#clip440)\" d=\"M 0 0 M91.8577 249.842 L110.214 249.842 L110.214 253.778 L96.1401 253.778 L96.1401 262.25 Q97.1586 261.903 98.1771 261.741 Q99.1956 261.555 100.214 261.555 Q106.001 261.555 109.381 264.727 Q112.76 267.898 112.76 273.315 Q112.76 278.893 109.288 281.995 Q105.816 285.074 99.4966 285.074 Q97.3206 285.074 95.0521 284.703 Q92.8068 284.333 90.3994 283.592 L90.3994 278.893 Q92.4827 280.027 94.7049 280.583 Q96.9271 281.139 99.404 281.139 Q103.409 281.139 105.747 279.032 Q108.084 276.926 108.084 273.315 Q108.084 269.703 105.747 267.597 Q103.409 265.491 99.404 265.491 Q97.529 265.491 95.654 265.907 Q93.8021 266.324 91.8577 267.203 L91.8577 249.842 Z\" fill=\"#000000\" fill-rule=\"evenodd\" fill-opacity=\"1\" /><path clip-path=\"url(#clip440)\" d=\"M 0 0 M127.83 252.921 Q124.219 252.921 122.39 256.486 Q120.584 260.028 120.584 267.157 Q120.584 274.264 122.39 277.828 Q124.219 281.37 127.83 281.37 Q131.464 281.37 133.27 277.828 Q135.098 274.264 135.098 267.157 Q135.098 260.028 133.27 256.486 Q131.464 252.921 127.83 252.921 M127.83 249.217 Q133.64 249.217 136.695 253.824 Q139.774 258.407 139.774 267.157 Q139.774 275.884 136.695 280.49 Q133.64 285.074 127.83 285.074 Q122.02 285.074 118.941 280.49 Q115.885 275.884 115.885 267.157 Q115.885 258.407 118.941 253.824 Q122.02 249.217 127.83 249.217 Z\" fill=\"#000000\" fill-rule=\"evenodd\" fill-opacity=\"1\" /><path clip-path=\"url(#clip440)\" d=\"M 0 0 M65.8393 502.567 L73.4782 502.567 L73.4782 476.201 L65.168 477.868 L65.168 473.608 L73.4319 471.942 L78.1078 471.942 L78.1078 502.567 L85.7466 502.567 L85.7466 506.502 L65.8393 506.502 L65.8393 502.567 Z\" fill=\"#000000\" fill-rule=\"evenodd\" fill-opacity=\"1\" /><path clip-path=\"url(#clip440)\" d=\"M 0 0 M100.816 475.02 Q97.2049 475.02 95.3762 478.585 Q93.5707 482.127 93.5707 489.257 Q93.5707 496.363 95.3762 499.928 Q97.2049 503.469 100.816 503.469 Q104.45 503.469 106.256 499.928 Q108.084 496.363 108.084 489.257 Q108.084 482.127 106.256 478.585 Q104.45 475.02 100.816 475.02 M100.816 471.317 Q106.626 471.317 109.682 475.923 Q112.76 480.507 112.76 489.257 Q112.76 497.983 109.682 502.59 Q106.626 507.173 100.816 507.173 Q95.0058 507.173 91.9272 502.59 Q88.8716 497.983 88.8716 489.257 Q88.8716 480.507 91.9272 475.923 Q95.0058 471.317 100.816 471.317 Z\" fill=\"#000000\" fill-rule=\"evenodd\" fill-opacity=\"1\" /><path clip-path=\"url(#clip440)\" d=\"M 0 0 M127.83 475.02 Q124.219 475.02 122.39 478.585 Q120.584 482.127 120.584 489.257 Q120.584 496.363 122.39 499.928 Q124.219 503.469 127.83 503.469 Q131.464 503.469 133.27 499.928 Q135.098 496.363 135.098 489.257 Q135.098 482.127 133.27 478.585 Q131.464 475.02 127.83 475.02 M127.83 471.317 Q133.64 471.317 136.695 475.923 Q139.774 480.507 139.774 489.257 Q139.774 497.983 136.695 502.59 Q133.64 507.173 127.83 507.173 Q122.02 507.173 118.941 502.59 Q115.885 497.983 115.885 489.257 Q115.885 480.507 118.941 475.923 Q122.02 471.317 127.83 471.317 Z\" fill=\"#000000\" fill-rule=\"evenodd\" fill-opacity=\"1\" /><path clip-path=\"url(#clip440)\" d=\"M 0 0 M66.8347 724.666 L74.4735 724.666 L74.4735 698.3 L66.1634 699.967 L66.1634 695.708 L74.4272 694.041 L79.1032 694.041 L79.1032 724.666 L86.742 724.666 L86.742 728.601 L66.8347 728.601 L66.8347 724.666 Z\" fill=\"#000000\" fill-rule=\"evenodd\" fill-opacity=\"1\" /><path clip-path=\"url(#clip440)\" d=\"M 0 0 M91.8577 694.041 L110.214 694.041 L110.214 697.976 L96.1401 697.976 L96.1401 706.448 Q97.1586 706.101 98.1771 705.939 Q99.1956 705.754 100.214 705.754 Q106.001 705.754 109.381 708.925 Q112.76 712.097 112.76 717.513 Q112.76 723.092 109.288 726.194 Q105.816 729.272 99.4966 729.272 Q97.3206 729.272 95.0521 728.902 Q92.8068 728.532 90.3994 727.791 L90.3994 723.092 Q92.4827 724.226 94.7049 724.782 Q96.9271 725.337 99.404 725.337 Q103.409 725.337 105.747 723.231 Q108.084 721.124 108.084 717.513 Q108.084 713.902 105.747 711.796 Q103.409 709.689 99.404 709.689 Q97.529 709.689 95.654 710.106 Q93.8021 710.523 91.8577 711.402 L91.8577 694.041 Z\" fill=\"#000000\" fill-rule=\"evenodd\" fill-opacity=\"1\" /><path clip-path=\"url(#clip440)\" d=\"M 0 0 M127.83 697.12 Q124.219 697.12 122.39 700.685 Q120.584 704.226 120.584 711.356 Q120.584 718.462 122.39 722.027 Q124.219 725.569 127.83 725.569 Q131.464 725.569 133.27 722.027 Q135.098 718.462 135.098 711.356 Q135.098 704.226 133.27 700.685 Q131.464 697.12 127.83 697.12 M127.83 693.416 Q133.64 693.416 136.695 698.023 Q139.774 702.606 139.774 711.356 Q139.774 720.083 136.695 724.689 Q133.64 729.272 127.83 729.272 Q122.02 729.272 118.941 724.689 Q115.885 720.083 115.885 711.356 Q115.885 702.606 118.941 698.023 Q122.02 693.416 127.83 693.416 Z\" fill=\"#000000\" fill-rule=\"evenodd\" fill-opacity=\"1\" /><path clip-path=\"url(#clip440)\" d=\"M 0 0 M69.4273 946.765 L85.7466 946.765 L85.7466 950.7 L63.8023 950.7 L63.8023 946.765 Q66.4643 944.011 71.0476 939.381 Q75.6541 934.728 76.8346 933.386 Q79.08 930.863 79.9596 929.127 Q80.8624 927.367 80.8624 925.677 Q80.8624 922.923 78.918 921.187 Q76.9967 919.451 73.8948 919.451 Q71.6958 919.451 69.2421 920.215 Q66.8115 920.978 64.0338 922.529 L64.0338 917.807 Q66.8578 916.673 69.3115 916.094 Q71.7652 915.515 73.8023 915.515 Q79.1726 915.515 82.367 918.201 Q85.5614 920.886 85.5614 925.377 Q85.5614 927.506 84.7513 929.427 Q83.9642 931.326 81.8578 933.918 Q81.2791 934.589 78.1772 937.807 Q75.0754 941.001 69.4273 946.765 Z\" fill=\"#000000\" fill-rule=\"evenodd\" fill-opacity=\"1\" /><path clip-path=\"url(#clip440)\" d=\"M 0 0 M100.816 919.219 Q97.2049 919.219 95.3762 922.784 Q93.5707 926.326 93.5707 933.455 Q93.5707 940.562 95.3762 944.126 Q97.2049 947.668 100.816 947.668 Q104.45 947.668 106.256 944.126 Q108.084 940.562 108.084 933.455 Q108.084 926.326 106.256 922.784 Q104.45 919.219 100.816 919.219 M100.816 915.515 Q106.626 915.515 109.682 920.122 Q112.76 924.705 112.76 933.455 Q112.76 942.182 109.682 946.788 Q106.626 951.372 100.816 951.372 Q95.0058 951.372 91.9272 946.788 Q88.8716 942.182 88.8716 933.455 Q88.8716 924.705 91.9272 920.122 Q95.0058 915.515 100.816 915.515 Z\" fill=\"#000000\" fill-rule=\"evenodd\" fill-opacity=\"1\" /><path clip-path=\"url(#clip440)\" d=\"M 0 0 M127.83 919.219 Q124.219 919.219 122.39 922.784 Q120.584 926.326 120.584 933.455 Q120.584 940.562 122.39 944.126 Q124.219 947.668 127.83 947.668 Q131.464 947.668 133.27 944.126 Q135.098 940.562 135.098 933.455 Q135.098 926.326 133.27 922.784 Q131.464 919.219 127.83 919.219 M127.83 915.515 Q133.64 915.515 136.695 920.122 Q139.774 924.705 139.774 933.455 Q139.774 942.182 136.695 946.788 Q133.64 951.372 127.83 951.372 Q122.02 951.372 118.941 946.788 Q115.885 942.182 115.885 933.455 Q115.885 924.705 118.941 920.122 Q122.02 915.515 127.83 915.515 Z\" fill=\"#000000\" fill-rule=\"evenodd\" fill-opacity=\"1\" /><path clip-path=\"url(#clip440)\" d=\"M 0 0 M70.4226 1168.86 L86.742 1168.86 L86.742 1172.8 L64.7977 1172.8 L64.7977 1168.86 Q67.4597 1166.11 72.043 1161.48 Q76.6495 1156.83 77.83 1155.49 Q80.0754 1152.96 80.955 1151.23 Q81.8578 1149.47 81.8578 1147.78 Q81.8578 1145.02 79.9133 1143.29 Q77.992 1141.55 74.8902 1141.55 Q72.6911 1141.55 70.2375 1142.31 Q67.8069 1143.08 65.0292 1144.63 L65.0292 1139.91 Q67.8532 1138.77 70.3069 1138.19 Q72.7606 1137.61 74.7976 1137.61 Q80.168 1137.61 83.3624 1140.3 Q86.5568 1142.99 86.5568 1147.48 Q86.5568 1149.61 85.7466 1151.53 Q84.9596 1153.42 82.8531 1156.02 Q82.2744 1156.69 79.1726 1159.91 Q76.0708 1163.1 70.4226 1168.86 Z\" fill=\"#000000\" fill-rule=\"evenodd\" fill-opacity=\"1\" /><path clip-path=\"url(#clip440)\" d=\"M 0 0 M91.8577 1138.24 L110.214 1138.24 L110.214 1142.18 L96.1401 1142.18 L96.1401 1150.65 Q97.1586 1150.3 98.1771 1150.14 Q99.1956 1149.95 100.214 1149.95 Q106.001 1149.95 109.381 1153.12 Q112.76 1156.3 112.76 1161.71 Q112.76 1167.29 109.288 1170.39 Q105.816 1173.47 99.4966 1173.47 Q97.3206 1173.47 95.0521 1173.1 Q92.8068 1172.73 90.3994 1171.99 L90.3994 1167.29 Q92.4827 1168.42 94.7049 1168.98 Q96.9271 1169.54 99.404 1169.54 Q103.409 1169.54 105.747 1167.43 Q108.084 1165.32 108.084 1161.71 Q108.084 1158.1 105.747 1155.99 Q103.409 1153.89 99.404 1153.89 Q97.529 1153.89 95.654 1154.3 Q93.8021 1154.72 91.8577 1155.6 L91.8577 1138.24 Z\" fill=\"#000000\" fill-rule=\"evenodd\" fill-opacity=\"1\" /><path clip-path=\"url(#clip440)\" d=\"M 0 0 M127.83 1141.32 Q124.219 1141.32 122.39 1144.88 Q120.584 1148.42 120.584 1155.55 Q120.584 1162.66 122.39 1166.23 Q124.219 1169.77 127.83 1169.77 Q131.464 1169.77 133.27 1166.23 Q135.098 1162.66 135.098 1155.55 Q135.098 1148.42 133.27 1144.88 Q131.464 1141.32 127.83 1141.32 M127.83 1137.61 Q133.64 1137.61 136.695 1142.22 Q139.774 1146.8 139.774 1155.55 Q139.774 1164.28 136.695 1168.89 Q133.64 1173.47 127.83 1173.47 Q122.02 1173.47 118.941 1168.89 Q115.885 1164.28 115.885 1155.55 Q115.885 1146.8 118.941 1142.22 Q122.02 1137.61 127.83 1137.61 Z\" fill=\"#000000\" fill-rule=\"evenodd\" fill-opacity=\"1\" /><path clip-path=\"url(#clip440)\" d=\"M 0 0 M78.617 1376.27 Q81.9735 1376.98 83.8485 1379.25 Q85.7466 1381.52 85.7466 1384.85 Q85.7466 1389.97 82.2281 1392.77 Q78.7096 1395.57 72.2282 1395.57 Q70.0523 1395.57 67.7375 1395.13 Q65.4458 1394.71 62.9921 1393.86 L62.9921 1389.34 Q64.9366 1390.48 67.2514 1391.06 Q69.5662 1391.64 72.0893 1391.64 Q76.4874 1391.64 78.7791 1389.9 Q81.0939 1388.16 81.0939 1384.85 Q81.0939 1381.8 78.9411 1380.08 Q76.8115 1378.35 72.9921 1378.35 L68.9643 1378.35 L68.9643 1374.51 L73.1773 1374.51 Q76.6263 1374.51 78.455 1373.14 Q80.2837 1371.75 80.2837 1369.16 Q80.2837 1366.5 78.3856 1365.08 Q76.5106 1363.65 72.9921 1363.65 Q71.0708 1363.65 68.8717 1364.07 Q66.6727 1364.48 64.0338 1365.36 L64.0338 1361.2 Q66.6958 1360.45 69.0106 1360.08 Q71.3486 1359.71 73.4087 1359.71 Q78.7328 1359.71 81.8346 1362.14 Q84.9365 1364.55 84.9365 1368.67 Q84.9365 1371.54 83.2929 1373.53 Q81.6494 1375.5 78.617 1376.27 Z\" fill=\"#000000\" fill-rule=\"evenodd\" fill-opacity=\"1\" /><path clip-path=\"url(#clip440)\" d=\"M 0 0 M100.816 1363.42 Q97.2049 1363.42 95.3762 1366.98 Q93.5707 1370.52 93.5707 1377.65 Q93.5707 1384.76 95.3762 1388.33 Q97.2049 1391.87 100.816 1391.87 Q104.45 1391.87 106.256 1388.33 Q108.084 1384.76 108.084 1377.65 Q108.084 1370.52 106.256 1366.98 Q104.45 1363.42 100.816 1363.42 M100.816 1359.71 Q106.626 1359.71 109.682 1364.32 Q112.76 1368.9 112.76 1377.65 Q112.76 1386.38 109.682 1390.99 Q106.626 1395.57 100.816 1395.57 Q95.0058 1395.57 91.9272 1390.99 Q88.8716 1386.38 88.8716 1377.65 Q88.8716 1368.9 91.9272 1364.32 Q95.0058 1359.71 100.816 1359.71 Z\" fill=\"#000000\" fill-rule=\"evenodd\" fill-opacity=\"1\" /><path clip-path=\"url(#clip440)\" d=\"M 0 0 M127.83 1363.42 Q124.219 1363.42 122.39 1366.98 Q120.584 1370.52 120.584 1377.65 Q120.584 1384.76 122.39 1388.33 Q124.219 1391.87 127.83 1391.87 Q131.464 1391.87 133.27 1388.33 Q135.098 1384.76 135.098 1377.65 Q135.098 1370.52 133.27 1366.98 Q131.464 1363.42 127.83 1363.42 M127.83 1359.71 Q133.64 1359.71 136.695 1364.32 Q139.774 1368.9 139.774 1377.65 Q139.774 1386.38 136.695 1390.99 Q133.64 1395.57 127.83 1395.57 Q122.02 1395.57 118.941 1390.99 Q115.885 1386.38 115.885 1377.65 Q115.885 1368.9 118.941 1364.32 Q122.02 1359.71 127.83 1359.71 Z\" fill=\"#000000\" fill-rule=\"evenodd\" fill-opacity=\"1\" /><g clip-path=\"url(#clip442)\">\n",
       "<image width=\"1949\" height=\"1439\" xlink:href=\"data:image/png;base64,\n",
       "iVBORw0KGgoAAAANSUhEUgAAB50AAAWfCAYAAACY7eH5AAAgAElEQVR4nOzdQY7cOBIFUHJOokPq\n",
       "FqND8iYxi55MZA/cHvu7opRSvrdSw+5PLkwQqO+g57/HqPFfe63R4Zib/A/I71rj6vkAAAAAAABw\n",
       "Z/86ewMAAAAAAAAAXJfSGQAAAAAAAICY0hkAAAAAAACAmNIZAAAAAAAAgJjSGQAAAAAAAIDYrFr1\n",
       "+I9jbs9f2Gt9+WLy753/uoZ8AAAAAAAA+AwmnQEAAAAAAACIKZ0BAAAAAAAAiCmdAQAAAAAAAIgp\n",
       "nQEAAAAAAACIKZ0BAAAAAAAAiM2qVT/6hWNuz++91pcvLF/+J+cDAAAAAADAXZh0BgAAAAAAACCm\n",
       "dAYAAAAAAAAg9o/Pa796PDXc9cyw/PfI71pDPgAAAAAAANyXSWcAAAAAAAAAYkpnAAAAAAAAAGJK\n",
       "ZwAAAAAAAABiSmcAAAAAAAAAYkpnAAAAAAAAAGKzatWv/uZjbs/vvdaXb0b+ufmva8g/Jx8AAAAA\n",
       "AACuxqQzAAAAAAAAADGlMwAAAAAAAACx33pe+9XVn5KWL/+d8wEAAAAAAOAqTDoDAAAAAAAAEFM6\n",
       "AwAAAAAAABBTOgMAAAAAAAAQUzoDAAAAAAAAEJtVq/405JjbGGOMvdafRsl/4/yuNeQDAAAAAADA\n",
       "dZl0BgAAAAAAACCmdAYAAAAAAAAg9iXPaz9c/Rlj+b++hvxz8gEAAAAAAODdmHQGAAAAAAAAIKZ0\n",
       "BgAAAAAAACCmdAYAAAAAAAAgpnQGAAAAAAAAIKZ0BgAAAAAAACA2q1Z1BB9ze37vteTLlw8AAAAA\n",
       "AAA3ZNIZAAAAAAAAgJjSGQAAAAAAAIBY2/PawF+u/pS3fPlftYan5gEAAAAA4J5MOgMAAAAAAAAQ\n",
       "UzoDAAAAAAAAEFM6AwAAAAAAABBTOgMAAAAAAAAQUzoDAAAAAAAAEJtVq87eBHyKY25jjDH2WpfO\n",
       "71pDvnwAAAAAAOB6TDoDAAAAAAAAEDPpDCe4w0TpXaa25f88v2sNU88AAAAAAHAfJp0BAAAAAAAA\n",
       "iCmdAQAAAAAAAIgpnQEAAAAAAACIKZ0BAAAAAAAAiCmdAQAAAAAAAIjNqlVnbwI+2TG35/deS778\n",
       "t8p/XeOq+QAAAAAAQC+TzgAAAAAAAADElM4AAAAAAAAAxJTOAAAAAAAAAMSUzgAAAAAAAADElM4A\n",
       "AAAAAAAAxGbVqrM3AfzlmNsYY4y91qXzu9aQLx8AAAAAAHg/Jp0BAAAAAAAAiCmdAQAAAAAAAIh5\n",
       "Xhve0B2eMb7LU+Hyf57ftYantgEAAAAA4DpMOgMAAAAAAAAQUzoDAAAAAAAAEFM6AwAAAAAAABBT\n",
       "OgMAAAAAAAAQUzoDAAAAAAAAEJtVq87eBPDPjrk9v/da8uW/Vf7rGlfNBwAAAAAA/oxJZwAAAAAA\n",
       "AABiJp3hQr5rorRrDfny3zkfAAAAAADImHQGAAAAAAAAIKZ0BgAAAAAAACCmdAYAAAAAAAAgpnQG\n",
       "AAAAAAAAIKZ0BgAAAAAAACA2q1advQng9xxze37vtVrXkC//T/K71viOMwAAAAAAAPwak84AAAAA\n",
       "AAAAxJTOAAAAAAAAAMQ8rw3Apd3lKfKr53etIf/cfAAAAACAX2HSGQAAAAAAAICY0hkAAAAAAACA\n",
       "mNIZAAAAAAAAgJjSGQAAAAAAAICY0hkAAAAAAACA2KxadfYmAOBPHXN7fu+15H9z/usa8u+ZDwAA\n",
       "AADwT0w6AwAAAAAAABBTOgMAAAAAAAAQ87w2ALdz9aeq5ct/53wAAAAAgP9l0hkAAAAAAACAmNIZ\n",
       "AAAAAAAAgJjSGQAAAAAAAICY0hkAAAAAAACA2KxadfYmAKDLMbcxxhh7Lfkn5netIf/cfAAAAACA\n",
       "MUw6AwAAAAAAAPAHlM4AAAAAAAAAxDyvDcBHuPozxlfPf11D/j3zAQAAAIDPZdIZAAAAAAAAgJjS\n",
       "GQAAAAAAAICY0hkAAAAAAACAmNIZAAAAAAAAgJjSGQAAAAAAAIDYrFp19iYA4Dsdc3t+77Xky5cP\n",
       "AAAAAPAHTDoDAAAAAAAAEFM6AwAAAAAAABDzvDYAH+3x1HDXM8N3ye9aQ/698wEAAACAz2DSGQAA\n",
       "AAAAAICY0hkAAAAAAACAmNIZAAAAAAAAgJjSGQAAAAAAAICY0hkAAAAAAACA2KxadfYmAOBsx9ye\n",
       "33st+T9ZQ758AAAAAIBXJp0BAAAAAAAAiCmdAQAAAAAAAIgpnQEAAAAAAACIKZ0BAAAAAAAAiM2q\n",
       "VWdvAgDeyTG35/deS758+QAAAAAAP2HSGQAAAAAAAICY0hkAAAAAAACAmOe1AQD4oas/5S3/3PzX\n",
       "NeQDAAAA3JtJZwAAAAAAAABiSmcAAAAAAAAAYkpnAAAAAAAAAGJKZwAAAAAAAABiSmcAAAAAAAAA\n",
       "YrNq1dmbAADgvR1ze37vteTLlw8AAADAk0lnAAAAAAAAAGJKZwAAAAAAAABintcGAOC3PJ4a7npm\n",
       "WP5n5HetcfV8AAAAgCsy6QwAAAAAAABATOkMAAAAAAAAQEzpDAAAAAAAAEBM6QwAAAAAAABATOkM\n",
       "AAAAAAAAQGxWrTp7EwAAXM8xt+f3Xku+/HgN+QAAAADXZtIZAAAAAAAAgJjSGQAAAAAAAICY57UB\n",
       "APhjV3/qWb78d84HAAAAeHcmnQEAAAAAAACIKZ0BAAAAAAAAiCmdAQAAAAAAAIgpnQEAAAAAAACI\n",
       "zapVZ28CAID7OOY2xhhjryX/xvlda8gHAAAAuB6TzgAAAAAAAADElM4AAAAAAAAAxDyvDQBAi6s/\n",
       "Yyz/19eQf04+AAAAwLsw6QwAAAAAAABATOkMAAAAAAAAQEzpDAAAAAAAAEBM6QwAAAAAAABATOkM\n",
       "AAAAAAAAQGxWrTp7EwAA3Nsxt+f3Xku+fPkAAAAAN2LSGQAAAAAAAICY0hkAAAAAAACAmOe1AQD4\n",
       "Vo+nhrueGZb/Hvlda8gHAAAAeD8mnQEAAAAAAACIKZ0BAAAAAAAAiCmdAQAAAAAAAIgpnQEAAAAA\n",
       "AACIKZ0BAAAAAAAAiM2qVWdvAgAA4NMccxtjjLHXunR+1xry5QMAAHAdJp0BAAAAAAAAiCmdAQAA\n",
       "AAAAAIh5XhsAAOBEd3jG+C5Phcv/eX7XGp7aBgAAuD6TzgAAAAAAAADElM4AAAAAAAAAxJTOAAAA\n",
       "AAAAAMSUzgAAAAAAAADEZtWqszcBAADAGMfcnt97Lfny3yr/dY2r5gMAANDDpDMAAAAAAAAAMaUz\n",
       "AAAAAAAAADGlMwAAAAAAAAAxpTMAAAAAAAAAMaUzAAAAAAAAALFZtersTQAAAPB3x9zGGGPstS6d\n",
       "37WGfPkAAAC8D5POAAAAAAAAAMSUzgAAAAAAAADEPK8NAADwxu7wjPFdngqX//P8rjU8tQ0AAPD+\n",
       "TDoDAAAAAAAAEFM6AwAAAAAAABBTOgMAAAAAAAAQUzoDAAAAAAAAEFM6AwAAAAAAABCbVavO3gQA\n",
       "AAD/3zG35/deS778t8p/XeOq+QAAAGRMOgMAAAAAAAAQUzoDAAAAAAAAEPO8NgAAwAVd/Rnjqz8l\n",
       "Lf/e+QAAAPwek84AAAAAAAAAxJTOAAAAAAAAAMSUzgAAAAAAAADElM4AAAAAAAAAxGbVqrM3AQAA\n",
       "QOaY2/N7r3W5/Nc15N87v2uN7/gzCgAAwM+ZdAYAAAAAAAAgpnQGAAAAAAAAIOZ5bQAAgJu4+jPG\n",
       "8u+d/7rGVfMBAAD4MZPOAAAAAAAAAMSUzgAAAAAAAADElM4AAAAAAAAAxJTOAAAAAAAAAMSUzgAA\n",
       "AAAAAADEZtWqszcBAAAA8FWOuT2/91ryvzn/dQ3598wHAID/ZdIZAAAAAAAAgJjSGQAAAAAAAICY\n",
       "57UBAACA27r6U9Xy5b9zPgAAPJh0BgAAAAAAACCmdAYAAAAAAAAgpnQGAAAAAAAAIKZ0BgAAAAAA\n",
       "ACCmdAYAAAAAAAAgNqtWnb0JAAAAgG7H3MYYY+y15J+Y37WG/HPzAQD4bCadAQAAAAAAAIiZdAYA\n",
       "AAA+ytUnSq+e/7qG/HvmAwDweUw6AwAAAAAAABBTOgMAAAAAAAAQUzoDAAAAAAAAEFM6AwAAAAAA\n",
       "ABBTOgMAAAAAAAAQm1Wrzt4EAAAAwBmOuT2/91ry5csHAICASWcAAAAAAAAAYkpnAAAAAAAAAGJK\n",
       "ZwAAAAAAAABiSmcAAAAAAAAAYkpnAAAAAAAAAGKzatXZmwAAAAA42zG3McYYey35P8nvWkP+vfMB\n",
       "ALg3k84AAAAAAAAAxJTOAAAAAAAAAMQ8rw0AAADw4urPGH/HM8l3eSpc/jn5AADcj0lnAAAAAAAA\n",
       "AGJKZwAAAAAAAABiSmcAAAAAAAAAYkpnAAAAAAAAAGJKZwAAAAAAAABis2rV2ZsAAAAAeEfH3J7f\n",
       "ey358uUDAMAPmHQGAAAAAAAAIGbSGQAAAOAXPKY+uyY+75LftYb8e+cDAHBtJp0BAAAAAAAAiCmd\n",
       "AQAAAAAAAIgpnQEAAAAAAACIKZ0BAAAAAAAAiCmdAQAAAAAAAIjNqlVnbwIAAAAAuIZjbs/vvZZ8\n",
       "+fIBAJPOAAAAAAAAAOSUzgAAAAAAAADEPK8NAAAAAEQeTw13PTMs/zPyu9a4ej4AXIlJZwAAAAAA\n",
       "AABiSmcAAAAAAAAAYkpnAAAAAAAAAGJKZwAAAAAAAABiSmcAAAAAAAAAYrNq1dmbAAAAAACu65jb\n",
       "83uvJV9+vIZ8ALgmk84AAAAAAAAAxJTOAAAAAAAAAMQ8rw0AAAAAfJmrP/UsX/475wPAuzLpDAAA\n",
       "AAAAAEBM6QwAAAAAAABATOkMAAAAAAAAQEzpDAAAAAAAAEBM6QwAAAAAAABAbFatOnsTAAAAAMD9\n",
       "HHMbY4yx15J/4/yuNeQDwHWYdAYAAAAAAAAgZtIZAAAAAGh19YlS+b++hvxz8gHgbCadAQAAAAAA\n",
       "AIgpnQEAAAAAAACIKZ0BAAAAAAAAiCmdAQAAAAAAAIgpnQEAAAAAAACIzapVZ28CAAAAAPgMx9ye\n",
       "33st+fLlA8ANmHQGAAAAAAAAIKZ0BgAAAAAAACDmeW0AAAAA4BSPp4a7nhmW/x75XWvIB4D3YdIZ\n",
       "AAAAAAAAgJjSGQAAAAAAAICY0hkAAAAAAACAmNIZAAAAAAAAgJjSGQAAAAAAAIDYrFp19iYAAAAA\n",
       "gM91zO35vdeSf7P81zXkn5MPAN1MOgMAAAAAAAAQUzoDAAAAAAAAEFM6AwAAAAAAABBTOgMAAAAA\n",
       "AAAQUzoDAAAAAAAAEJtVq87eBAAAAAAAfLpjbs/vvdbl8l/XkC//T/I71wB6mHQGAAAAAAAAIGbS\n",
       "GQAAAAAA3szVp57ly/+qNUw8wzWYdAYAAAAAAAAgpnQGAAAAAAAAIKZ0BgAAAAAAACCmdAYAAAAA\n",
       "AAAgpnQGAAAAAAAAIDarVp29CQAAAAAA4MeOuY0xxthrXTq/aw358oHzmXQGAAAAAAAAIKZ0BgAA\n",
       "AAAAACDmeW0AAAAAALiAOzxjfJenwuX/PL9rDU9tw/sy6QwAAAAAAABATOkMAAAAAAAAQEzpDAAA\n",
       "AAAAAEBM6QwAAAAAAABATOkMAAAAAAAAQGxWrTp7EwAAAAAAwK875vb83mvJl/9W+a9rXDUf+D0m\n",
       "nQEAAAAAAACIKZ0BAAAAAAAAiHleGwAAAAAALuzqzxhf/Slp+ffOB36NSWcAAAAAAAAAYkpnAAAA\n",
       "AAAAAGJKZwAAAAAAAABiSmcAAAAAAAAAYrNq1dmbAAAAAAAA/swxt+f3Xuty+a9ryL93ftca3/Fn\n",
       "FPgxk84AAAAAAAAAxJTOAAAAAAAAAMQ8rw0AAAAAADdz9WeM5d87/3WNq+YDf2fSGQAAAAAAAICY\n",
       "0hkAAAAAAACAmNIZAAAAAAAAgJjSGQAAAAAAAICY0hkAAAAAAACA2KxadfYmAAAAAACAHsfcxhhj\n",
       "7LVa87vWkC//nfOBv5h0BgAAAAAAACCmdAYAAAAAAAAg5nltAAAAAAAAbu/qT3nLl//O+SadAQAA\n",
       "AAAAAIgpnQEAAAAAAACIKZ0BAAAAAAAAiCmdAQAAAAAAAIgpnQEAAAAAAACIzapVZ28CAAAAAAAA\n",
       "vssxtzHGGHst+Sfmd60h//vzTToDAAAAAAAAEFM6AwAAAAAAABDzvDYAAAAAAAAf6YrPGN8p/3UN\n",
       "+dfON+kMAAAAAAAAQEzpDAAAAAAAAEBM6QwAAAAAAABATOkMAAAAAAAAQGxWrTp7EwAAAAAAAHCm\n",
       "Y27P772WfPnyf4NJZwAAAAAAAABiSmcAAAAAAAAAYkpnAAAAAAAAAGJKZwAAAAAAAABiSmcAAAAA\n",
       "AAAAYrNq1dmbAAAAAAAAgHdxzG2MMcZeS/6J+V1ryP/6fJPOAAAAAAAAAMSUzgAAAAAAAADEPK8N\n",
       "AAAAAAAAP/COzxh/Uv7rGvLfO9+kMwAAAAAAAAAxpTMAAAAAAAAAMaUzAAAAAAAAADGlMwAAAAAA\n",
       "AAAxpTMAAAAAAAAAsVm16uxNAAAAAAAAwDs75vb83mvJly//hUlnAAAAAAAAAGJKZwAAAAAAAABi\n",
       "ntcGAAAAAACA3/B4arjjGeM75XetIf/98k06AwAAAAAAABBTOgMAAAAAAAAQUzoDAAAAAAAAEFM6\n",
       "AwAAAAAAABCbVavO3gQAAAAAAABczTG35/deS/5P1pB/73yTzgAAAAAAAADElM4AAAAAAAAAxOa/\n",
       "x3g+r901Vg2f7DuepoBP1v00CHwydxj0codBH3cY9HLGoI/zBb2cMehj0hkAAAAAAACAmNIZAAAA\n",
       "AAAAgJjSGQAAAAAAAICY0hkAAAAAAACAmNIZAAAAAAAAgNisWvX4j2Nuz1/Ya33/buDmHmfM+YKv\n",
       "5w6DXs4Y9HG+oJczBr38rAP6uMOglzsMvpZJZwAAAAAAAABiSmcAAAAAAAAAYn97XvuVpzugj/MF\n",
       "vZwx6OX5KejjDoNe7jDo4w6DXu4w6OMOg69h0hkAAAAAAACAmNIZAAAAAAAAgJjSGQAAAAAAAICY\n",
       "0hkAAAAAAACAmNIZAAAAAAAAgNisWvX/ftMxtzHGGHut3t3AB3qcrzGcMejgDoM+7jDo5Q6DPu4w\n",
       "6OWMQR/nC3o5Y5Az6QwAAAAAAABATOkMAAAAAAAAQOyXntd+8KwA9PKEIvRxh0EvZwz6OF/QyxmD\n",
       "Xn7WAX3cYdDLHQa/x6QzAAAAAAAAADGlMwAAAAAAAAAxpTMAAAAAAAAAMaUzAAAAAAAAALFZtSr5\n",
       "Hx//gPoY/hF1+GrOF/RyxqDX44w5X/D13GHQyx0Gfdxh0MsdBn3cYfBrTDoDAAAAAAAAEFM6AwAA\n",
       "AAAAABCLn9d+5ekO6OPpDujlDoM+7jDo5Q6DPu4w6OWMQR/nC3o5Y/DPTDoDAAAAAAAAEFM6AwAA\n",
       "AAAAABBTOgMAAAAAAAAQUzoDAAAAAAAAEFM6AwAAAAAAABCbVau+KuyY2/N7r/VVscB/Pc6Y8wVf\n",
       "zx0GvZwx6ON8QS9nDHr5WQf0cYdBL3cY/J1JZwAAAAAAAABiSmcAAAAAAAAAYkpnAAAAAAAAAGJK\n",
       "ZwAAAAAAAABiSmcAAAAAAAAAYrNqVUfwMbfn916rYwn4WM4X9HLGoNfjjDlf8PXcYdDLHQZ93GHQ\n",
       "yx0Gfdxh8BeTzgAAAAAAAADElM4AAAAAAAAAxNqe137l6Q7o4+kO6OUOgz7uMOjlDoM+7jDo5YxB\n",
       "H+cLejljfDKTzgAAAAAAAADElM4AAAAAAAAAxJTOAAAAAAAAAMSUzgAAAAAAAADEZtWq71rMP6AO\n",
       "vR5nzPmCr+cOg17OGPRxvqCXMwa9/KwD+rjDoJc7jE9j0hkAAAAAAACAmNIZAAAAAAAAgNi3Pq/9\n",
       "ytMd0Mf5gl7OGPTy/BT0cYdBL3cY9HGHQS93GPRxh/EpTDoDAAAAAAAAEFM6AwAAAAAAABBTOgMA\n",
       "AAAAAAAQUzoDAAAAAAAAEFM6AwAAAAAAABCbVavO3sQxtzHGGHutM7cBt/Q4X2M4Y9DBHQZ93GHQ\n",
       "yx0Gfdxh0MsZgz7OF/Ryxrgzk84AAAAAAAAAxJTOAAAAAAAAAMTe4nntB88KQC9PKEIfdxj0csag\n",
       "j/MFvZwx6OVnHdDHHQa93GHcjUlnAAAAAAAAAGJKZwAAAAAAAABiSmcAAAAAAAAAYkpnAAAAAAAA\n",
       "AGJKZwAAAAAAAABis2rV2Zv4kWNuz++91lnbgFtyvqCXMwa9HmfM+YKv5w6DXu4w6OMOg17uMOjj\n",
       "DuMuTDoDAAAAAAAAEHvbSedX/hYV9PG3qKCXOwz6uMOglzsM+rjDoJczBn2cL+jljHFlJp0BAAAA\n",
       "AAAAiCmdAQAAAAAAAIgpnQEAAAAAAACIKZ0BAAAAAAAAiCmdAQAAAAAAAIjNqlVnb+JXHXN7fu+1\n",
       "ztoG3JYzBn2cL+jljEEf5wt6OWPQ63HGnC/4eu4w6OUO42pMOgMAAAAAAAAQUzoDAAAAAAAAELvU\n",
       "89qvPN0BvTzdAX3cYdDLHQZ93GHQyx0Gfdxh0MsZgz7OF1dh0hkAAAAAAACAmNIZAAAAAAAAgJjS\n",
       "GQAAAAAAAICY0hkAAAAAAACAmNIZAAAAAAAAgNisWnX2Jv7UMbcxxhh7rTO3Abf0OF9jOGPQwR0G\n",
       "fdxh0MsZgz7OF/RyxqCXn3VAH3cY78ykMwAAAAAAAAAxpTMAAAAAAAAAMaUzAAAAAAAAADGlMwAA\n",
       "AAAAAAAxpTMAAAAAAAAAsVm16uxNfJVjbs/vvdZZ24Dbcsagj/MFvZwx6PU4Y84XfD13GPRyh0Ef\n",
       "dxj0cofxbkw6AwAAAAAAABC71aTzK3+LCnr5W1TQxx0Gvdxh0McdBr3cYdDHHQa9nDHo43zxLkw6\n",
       "AwAAAAAAABBTOgMAAAAAAAAQUzoDAAAAAAAAEFM6AwAAAAAAABBTOgMAAAAAAAAQm1Wrzt5Et2Nu\n",
       "Y4wx9lpnbgNu6XG+xnDGoIM7DPq4w6CXMwZ9nC/o5YxBLz/rgD7uMM5k0hkAAAAAAACAmNIZAAAA\n",
       "AAAAgNhHPK/94FkB6OWMQR/nC3o5Y9DLE4rQxx0Gvdxh0McdBr3cYXw3k84AAAAAAAAAxJTOAAAA\n",
       "AAAAAMSUzgAAAAAAAADElM4AAAAAAAAAxJTOAAAAAAAAAMRm1aqzN3GGY27P773WWduA23qcMecL\n",
       "vp47DHq5w6CPOwx6ucOgjzsMejlj0Mf54ruYdAYAAAAAAAAgpnQGAAAAAAAAIPaxz2u/8vwU9PF0\n",
       "B/Ryh0Efdxj0csagj/MFvZwx6OVnHdDHHUYnk84AAAAAAAAAxJTOAAAAAAAAAMSUzgAAAAAAAADE\n",
       "lM4AAAAAAAAAxGbVqrM38S78A+rQyxmDPs4X9HLGoNfjjDlf8PXcYdDLHQZ93GHQyx3GVzPpDAAA\n",
       "AAAAAEBM6QwAAAAAAABAzPPa/8DTHdDL0x3Qxx0Gvdxh0McdBr3cYdDHHQa9nDHo43zxVUw6AwAA\n",
       "AAAAABBTOgMAAAAAAAAQUzoDAAAAAAAAEFM6AwAAAAAAABBTOgMAAAAAAAAQm1Wrzt7EuzvmNsYY\n",
       "Y6915jbglh7nawxnDDq4w6CPOwx6OWPQx/mCXs4Y9PKzDujjDuNPmHQGAAAAAAAAIKZ0BgAAAAAA\n",
       "ACDmee3f4FkB6OWMQR/nC3o5Y9DLE4rQxx0Gvdxh0McdBr3cYfwuk84AAAAAAAAAxJTOAAAAAAAA\n",
       "AMSUzgAAAAAAAADElM4AAAAAAAAAxJTOAAAAAAAAAMRm1aqzN3FFx9ye33uts7YBt/U4Y84XfD13\n",
       "GPRyh0Efdxj0codBH3cY9HLGoI/zxa8y6Qz8h707yHUdObIAmrkTLVK7aC2SO4keNChU2wX7V4hX\n",
       "ZFLnjGTYpnLAwAV0f8YDAAAAAACANqUzAAAAAAAAAG3Wax/A+inIsboDsmQY5MgwyDJjkGO+IMuM\n",
       "QZbfOiBHhvGfuOkMAAAAAAAAQJvSGQAAAAAAAIA2pTMAAAAAAAAAbUpnAAAAAAAAANpm1VZnH+Iu\n",
       "/AF1yDJjkGO+IMuMQdY+Y+YLjifDIEuGQY4MgywZxr9y0xkAAAAAAACANqUzAAAAAAAAAG1KZwAA\n",
       "AAAAAADalM4AAAAAAAAAtCmdAQAAAAAAAGibVVudfYg7es3H+/OztrOOAbe1z5j5guPJMMiSYZAj\n",
       "wyDLjEGO+YIsMwY55oudm84AAAAAAAAAtCmdAQAAAAAAAGizXvsLrFCEHKs7IMuMQY75giwzBll+\n",
       "64AcGQZZMgxyZNhvc9MZAAAAAAAAgDalMwAAAAAAAABtSmcAAAAAAAAA2pTOAAAAAAAAALQpnQEA\n",
       "AAAAAABom1VbnX2IX/Gaj/fnZ21nHQNuy4xB1j5j5guOJ8MgS4ZBjgyDLBkGOTIMsszY73HTGQAA\n",
       "AAAAAIA2pTMAAAAAAAAAbdZrn8RaAciyfgpyZBhkyTDIkWGQZcYgx3xBlhmDLL91/AY3nQEAAAAA\n",
       "AABoUzoDAAAAAAAA0KZ0BgAAAAAAAKBN6QwAAAAAAABA26za6uxD/Dp/QB1y9vkaw4xBghmDHPMF\n",
       "WWYMsvzWATkyDLJkGOTIsHtz0xkAAAAAAACANqUzAAAAAAAAAG3Wa1+ItQKQZcYgy/opyJFhkCXD\n",
       "IEeGQZYMgxwZBllm7H7cdAYAAAAAAACgTekMAAAAAAAAQJvSGQAAAAAAAIA2pTMAAAAAAAAAbUpn\n",
       "AAAAAAAAANpm1VZnH4J/95qP9+dnbWcdA25rnzHzBceTYZAlwyBHhkGWGYMc8wVZZgyy/NZxD246\n",
       "AwAAAAAAANCmdAYAAAAAAACgzXrtBVgrADlW40CWGYMc8wVZZgyy/NYBOTIMsmQY5MiwtbnpDAAA\n",
       "AAAAAECb0hkAAAAAAACANqUzAAAAAAAAAG1KZwAAAAAAAADalM4AAAAAAAAAtM2qrc4+BH/mNR/v\n",
       "z8/azjoG3JYZg6x9xswXHE+GQZYMgxwZBlkyDHJkGGSZsfW46QwAAAAAAABAm9IZAAAAAAAAgDbr\n",
       "tRdlrQBkWT8FOTIMsmQY5MgwyDJjkGO+IKE+FZAAACAASURBVMuMQZbfOtbgpjMAAAAAAAAAbUpn\n",
       "AAAAAAAAANqUzgAAAAAAAAC0KZ0BAAAAAAAAaJtVW519CD7jD6hDzj5fY5gxSDBjkGO+IMuMQZbf\n",
       "OiBHhkGWDIMcGXZtbjoDAAAAAAAA0KZ0BgAAAAAAAKDNeu0bsVYAsswYZFk/BTkyDLJkGOTIMMiS\n",
       "YZAjwyDLjF2Pm84AAAAAAAAAtCmdAQAAAAAAAGhTOgMAAAAAAADQpnQGAAAAAAAAoE3pDAAAAAAA\n",
       "AEDbrNrq7ENwvNd8vD8/azvrGHBb+4yZLzieDIMsGQY5MgyyzBjkmC/IMmOQ5beOa3DTGQAAAAAA\n",
       "AIA2pTMAAAAAAAAAbUpnAAAAAAAAANqUzgAAAAAAAAC0KZ0BAAAAAAAAaJtVW519CLJe8zHGGONZ\n",
       "25nHgFva52sMMwYJZgxyzBdkmTHI8lsH5MgwyJJhkCPDzuWmMwAAAAAAAABtSmcAAAAAAAAA2qzX\n",
       "/iHWCkCWGYMs66cgR4ZBlgyDHBkGWTIMcmQYZJmx73PTGQAAAAAAAIA2pTMAAAAAAAAAbUpnAAAA\n",
       "AAAAANqUzgAAAAAAAAC0zaqtzj4E3+cPqEPWPmPmC44nwyBLhkGODIMsMwY55guyzBhk+a3jO9x0\n",
       "BgAAAAAAAKBN6QwAAAAAAABAm/XaWN0BQeYLsswY5JgvyDJjkGWFIuTIMMiSYZAjw7LcdAYAAAAA\n",
       "AACgTekMAAAAAAAAQJvSGQAAAAAAAIA2pTMAAAAAAAAAbUpnAAAAAAAAANpm1VZnH4LreM3HGGOM\n",
       "Z21nHgNuaZ+vMcwYJMgwyJFhkCXDIEeGQZYZgxzzBVlm7HhuOgMAAAAAAADQpnQGAAAAAAAAoM16\n",
       "bf6WtQKQZYUi5MgwyDJjkGO+IMuMQZbfOiBHhkGWDDuGm84AAAAAAAAAtCmdAQAAAAAAAGhTOgMA\n",
       "AAAAAADQpnQGAAAAAAAAoE3pDAAAAAAAAEDbrNrq7ENwba/5eH9+1nbWMeCWzBdkmTHI2mfMfMHx\n",
       "ZBhkyTDIkWGQJcMgR4Z9xk1nAAAAAAAAANrcdOYf8a+oIMe/ooIsGQY5MgyyZBjkyDDIMmOQY74g\n",
       "y4z9c246AwAAAAAAANCmdAYAAAAAAACgTekMAAAAAAAAQJvSGQAAAAAAAIA2pTMAAAAAAAAAbbNq\n",
       "q7MPwXpe8/H+/KztrGPAbe0zZr7geDIMsswY5JgvyDJjkOW3DsiRYZAlw/6Mm84AAAAAAAAAtCmd\n",
       "AQAAAAAAAGizXpuPWd0BOeYLsswYZFk/BTkyDLJkGOTIMMiSYZAjw/4zN50BAAAAAAAAaFM6AwAA\n",
       "AAAAANCmdAYAAAAAAACgTekMAAAAAAAAQJvSGQAAAAAAAIC2WbXV2YfgPl7zMcYY41nbmceAW9rn\n",
       "awwzBgkyDHJkGGTJMMiRYZBlxiDHfEGWGft3bjoDAAAAAAAA0KZ0BgAAAAAAAKDNem0irBWALCsU\n",
       "IUeGQZYZgxzzBVlmDLL81gE5MgyyZNj/cdMZAAAAAAAAgDalMwAAAAAAAABtSmcAAAAAAAAA2pTO\n",
       "AAAAAAAAALQpnQEAAAAAAABom1VbnX0I7u01H+/Pz9rOOgbckvmCLDMGWfuMmS84ngyDLBkGOTIM\n",
       "smQY5Px6hrnpDAAAAAAAAECb0hkAAAAAAACANqUzAAAAAAAAAG1KZwAAAAAAAADaZtVWZx+C37H/\n",
       "EfVf/APqkLbP1xhmDBJkGOTIMMiSYZAjwyDLjEGO+YKsX5wxN50BAAAAAAAAaFM6AwAAAAAAANBm\n",
       "vTan+MW1AvBNVihCjgyDLDMGOeYLsswYZPmtA3JkGGT9Soa56QwAAAAAAABAm9IZAAAAAAAAgDal\n",
       "MwAAAAAAAABtSmcAAAAAAAAA2pTOAAAAAAAAALTNqq3OPgS/7TUf78/P2s46BtyS+YIsMwZZ+4yZ\n",
       "LzieDIMsGQY5MgyyZBjk3D3D3HQGAAAAAAAAoE3pDAAAAAAAAECb9dpcitUdkHP31R1wNhkGOTIM\n",
       "smQY5MgwyDJjkGO+IOuOM+amMwAAAAAAAABtSmcAAAAAAAAA2pTOAAAAAAAAALQpnQEAAAAAAABo\n",
       "UzoDAAAAAAAA0Dartjr7EPCvXvPx/vys7axjwG3tM2a+4HgyDLLMGOSYL8gyY5Dltw7IkWGQdZcM\n",
       "c9MZAAAAAAAAgDY3nbk8/4oKcswXZJkxyLrLvwSGK5JhkCXDIEeGQZYMg5zVM8xNZwAAAAAAAADa\n",
       "lM4AAAAAAAAAtCmdAQAAAAAAAGhTOgMAAAAAAADQpnQGAAAAAAAAoG1WbXX2IeBPveZjjDHGs7Yz\n",
       "jwG3tM/XGGYMEmQY5MgwyDJjkGO+IMuMQY75gqwVZ8xNZwAAAAAAAADalM4AAAAAAAAAtFmvzZJW\n",
       "XCsAKzFjkGO+IMuMQZY/FwE5MgyyZBjkyDDIWiXD3HQGAAAAAAAAoE3pDAAAAAAAAECb0hkAAAAA\n",
       "AACANqUzAAAAAAAAAG1KZwAAAAAAAADaZtVWZx8CPvGaj/fnZ21nHQNua58x8wXHk2GQJcMgR4ZB\n",
       "lgyDHBkGWWYMcq4+X246AwAAAAAAANCmdAYAAAAAAACgzXptbsX6Kci5+uoOWJ0MgxwZBllmDHLM\n",
       "F2SZMcjyWwfkXDHD3HQGAAAAAAAAoE3pDAAAAAAAAECb0hkAAAAAAACANqUzAAAAAAAAAG2zaquz\n",
       "DwFHu+IfUIc7MWOQY74gy4xB1j5j5guOJ8MgS4ZBjgyDrKtkmJvOAAAAAAAAALQpnQEAAAAAAABo\n",
       "UzoDAAAAAAAA0KZ0BgAAAAAAAKBN6QwAAAAAAABA26za6uxDQNJrPt6fn7WddQy4rX3GzBccT4ZB\n",
       "lgyDHBkGWTIMcmQYZJkxyDl7vtx0BgAAAAAAAKBN6QwAAAAAAABAm/Xa/BTrpyDn7NUdcHcyDHJk\n",
       "GGSZMcgxX5BlxiDLbx2Qc0aGuekMAAAAAAAAQJvSGQAAAAAAAIA2pTMAAAAAAAAAbUpnAAAAAAAA\n",
       "ANqUzgAAAAAAAAC0zaqtzj4EfNtrPt6fn7WddQy4LTMGOeYLsswYZO0zZr7geDIMsmQY5MgwyPpW\n",
       "hrnpDAAAAAAAAECb0hkAAAAAAACANuu1+XlWd0CW9VOQI8MgS4ZBjgyDLBkGOTIMsswY5KTny01n\n",
       "AAAAAAAAANqUzgAAAAAAAAC0KZ0BAAAAAAAAaFM6AwAAAAAAANA2q7Y6+xBwFfsfUU/8AXX4dft8\n",
       "jWHGIEGGQY4MgywzBjnmC7LMGGT5rQNyEhnmpjMAAAAAAAAAbUpnAAAAAAAAANqs14a/YTUOZJkx\n",
       "yDFfkGXGIMsKRciRYZAlwyBHhkHWURnmpjMAAAAAAAAAbUpnAAAAAAAAANqUzgAAAAAAAAC0KZ0B\n",
       "AAAAAAAAaFM6AwAAAAAAANA2q7Y6+xBwZa/5eH9+1nbWMeC29hkzX3A8GQZZMgxyZBhkyTDIkWGQ\n",
       "ZcYg59P5ctMZAAAAAAAAgDalMwAAAAAAAABt1mvDP2D9FORYjQNZMgxyZBhkmTHIMV+QZcYgy28d\n",
       "kNPJMDedAQAAAAAAAGhTOgMAAAAAAADQpnQGAAAAAAAAoE3pDAAAAAAAAECb0hkAAAAAAACAtlm1\n",
       "1dmHgNW85uP9+VnbWceA2zJjkGO+IMuMQdY+Y+YLjifDIEuGQY4Mg6w/zTA3nQEAAAAAAABoUzoD\n",
       "AAAAAAAA0Ga9NnzI6g7Isn4KcmQYZMkwyJFhkCXDIEeGQZYZg5z/Nl9uOgMAAAAAAADQpnQGAAAA\n",
       "AAAAoE3pDAAAAAAAAECb0hkAAAAAAACAtlm11dmHgLvY/4j63/0BdeAz+3yNYcYgQYZBjgyDLDMG\n",
       "OeYLsswYZPmtA3L+LsPcdAYAAAAAAACgTekMAAAAAAAAQJv12hBgNQ5kmTHIMV+QZcYgywpFyJFh\n",
       "kCXDIEeGQdY+Y246AwAAAAAAANCmdAYAAAAAAACgTekMAAAAAAAAQJvSGQAAAAAAAIA2pTMAAAAA\n",
       "AAAAbfN/xqj9Pzxri3zJaz6Wfj58Yn8/x8i8o6s/Hz61esbIMAAAAAAAVuemMwAAAAAAAABtSmcA\n",
       "AAAAAAAA2pTOAAAAAAAAALQpnQEAAAAAAABoUzoDAAAAAAAA0Darttr/w2s+3v/Fs7bDv2z158On\n",
       "9nc09X5+6/nJ74Cu1TPGfAEAAAAAsCo3nQEAAAAAAABoUzoDAAAAAAAA0Pb/1mv/1eprRK0p5cru\n",
       "8P6nV3nDJ1afMRkGAAAAAMBK3HQGAAAAAAAAoE3pDAAAAAAAAECb0hkAAAAAAACANqUzAAAAAAAA\n",
       "AG2zaqv/9j96zccYY4xnbZFDrP58+MT+fo6ReUdXfz58avWMkWEAAAAAAFydm84AAAAAAAAAtCmd\n",
       "AQAAAAAAAGj7o/Xau9XX9FoDzNWtvqbXjHFlq2eM+QIAAAAA4KrcdAYAAAAAAACgTekMAAAAAAAA\n",
       "QJvSGQAAAAAAAIA2pTMAAAAAAAAAbUpnAAAAAAAAANpm1Vad/+NrPt6fn7Udc5obPR8+cYf3f/8O\n",
       "88UVrT5jMgwAAAAAgCtx0xkAAAAAAACANqUzAAAAAAAAAG3t9dp/lV6ju/rz4ROrr+m1BpirWz1j\n",
       "ZBgAAAAAAGdz0xkAAAAAAACANqUzAAAAAAAAAG1KZwAAAAAAAADalM4AAAAAAAAAtCmdAQAAAAAA\n",
       "AGibVVsd9bDXfLw/P2s76rG3eT58an9HU++nGeOXrf7+my8AAAAAAM7ipjMAAAAAAAAAbUpnAAAA\n",
       "AAAAANoOXa/9V6uvEbWmlCv7xvv5rVXe5osrWj1jZBgAAAAAAN/kpjMAAAAAAAAAbUpnAAAAAAAA\n",
       "ANqUzgAAAAAAAAC0KZ0BAAAAAAAAaJtVW519iKt7zccYY4xnbZ4PB9vfzzEy7+jqz4dPfStjUt9h\n",
       "xgAAAAAArs9NZwAAAAAAAADalM4AAAAAAAAAtFmv/Q+svkLUilKubvUZMGNc2TfeT38uAgAAAADg\n",
       "N7npDAAAAAAAAECb0hkAAAAAAACANqUzAAAAAAAAAG1KZwAAAAAAAADalM4AAAAAAAAAtM2qrc4+\n",
       "xIpe8/H+/KzN8+Fg+zuaej9Xfz58YvWMkWEAAAAAANfipjMAAAAAAAAAbUpnAAAAAAAAANqs1z7A\n",
       "6mt6rSnlylZf02u+uLrVM8aMAQAAAACcz01nAAAAAAAAANqUzgAAAAAAAAC0KZ0BAAAAAAAAaFM6\n",
       "AwAAAAAAANCmdAYAAAAAAACgbVZtdfYh7uI1H+/Pz9qWe/5fvyP1fPjE6jP2jRmGrjtkjAwDAAAA\n",
       "ADiHm84AAAAAAAAAtCmdAQAAAAAAAGhTOgMAAAAAAADQpnQGAAAAAAAAoG1WbXX2Ie7oNR/vz8/a\n",
       "PB8Otr+jqfdz9efDJ1bPGBkGAAAAAPBdbjoDAAAAAAAA0KZ0BgAAAAAAAKDNeu0vWH1NrzWlXNnq\n",
       "a3rNF1e3+gyYMQAAAACAPDedAQAAAAAAAGhTOgMAAAAAAADQpnQGAAAAAAAAoE3pDAAAAAAAAECb\n",
       "0hkAAAAAAACAtlm11dmH+BWv+Xh/fta23PP/+h2p58MnVp+xb8wwfCKdAas/HwAAAADgV7npDAAA\n",
       "AAAAAECb0hkAAAAAAACANuu1T7L6ml5rgLm61df0WgPMla2eMTIMAAAAAOBYbjoDAAAAAAAA0KZ0\n",
       "BgAAAAAAAKBN6QwAAAAAAABAm9IZAAAAAAAAgDalMwAAAAAAAABts2qrsw/B2l7z8f78rM3z4UB3\n",
       "eP/37zBfXNHqMybDAAAAAIArcNMZAAAAAAAAgDY3nTlU+kbj6s+HT6x+Y9KNTK5u9YyRYQAAAADA\n",
       "Wdx0BgAAAAAAAKBN6QwAAAAAAABAm9IZAAAAAAAAgDalMwAAAAAAAABtSmcAAAAAAAAA2mbVVmcf\n",
       "gvt5zcf787M2z4eD7e9o6v00Y/yy1d9/8wUAAAAAfJubzgAAAAAAAAC0KZ0BAAAAAAAAaLNem7jV\n",
       "14haU8qVfeP9/NYqb/PFFa2eMTIMAAAAAPgGN50BAAAAAAAAaFM6AwAAAAAAANCmdAYAAAAAAACg\n",
       "TekMAAAAAAAAQJvSGQAAAAAAAIC2WbXV2Yfgd7zmY4wxxrM2z4eD7e/nGJl3dPXnw6dWzxgZBgAA\n",
       "AACkuOkMAAAAAAAAQJvSGQAAAAAAAIA267U5xepreq0B5uq+taY39R1mjCtb/f03XwAAAADA0dx0\n",
       "BgAAAAAAAKBN6QwAAAAAAABAm9IZAAAAAAAAgDalMwAAAAAAAABts2qrsw/Bb3vNx/vzszbPhwN9\n",
       "4/3cv2PV58MnVs8YGQYAAAAAHMFNZwAAAAAAAADalM4AAAAAAAAAtCmdAQAAAAAAAGhTOgMAAAAA\n",
       "AADQpnQGAAAAAAAAoG1WbXX2IWD3mo8xxhjP2jwfDra/n2Nk3tHVnw+fWj1jZBgAAAAA0OWmMwAA\n",
       "AAAAAABtSmcAAAAAAAAA2qzX5pJWX9NrDTBX9601vanvMGNc2ervv/kCAAAAAP4pN50BAAAAAAAA\n",
       "aFM6AwAAAAAAANCmdAYAAAAAAACgTekMAAAAAAAAQJvSGQAAAAAAAIC2WbXV2YcAAOB6XvPx/vys\n",
       "zfPhYPs7mno/v/X85HdA1+oZY74AAIDVuOkMAAAAAAAAQJvSGQAAAAAAAIA267UBAPivVl8jak0p\n",
       "V3aH9z+9yhs+sfqMyTAAAGAFbjoDAAAAAAAA0KZ0BgAAAAAAAKBN6QwAAAAAAABAm9IZAAAAAAAA\n",
       "gDalMwAAAAAAAABts2qrsw8BAMA6XvMxxhjjWZvnw8H293OMzDu6+vPhU6tnjAwDAACuyk1nAAAA\n",
       "AAAAANrcdAYAoGX1G5NuZHJ1q9+YNGNc2eoZY74AAICrcdMZAAAAAAAAgDalMwAAAAAAAABtSmcA\n",
       "AAAAAAAA2pTOAAAAAAAAALQpnQEAAAAAAABom1VbnX0IAADW9pqP9+dnbZ4PB7rD+79/h/niilaf\n",
       "MRkGAABcgZvOAAAAAAAAALQpnQEAAAAAAABos14bAIBDpdforv58+MTqa3qtAebqVs8YGQYAAJzF\n",
       "TWcAAAAAAAAA2pTOAAAAAAAAALQpnQEAAAAAAABoUzoDAAAAAAAA0KZ0BgAAAAAAAKBtVm119iEA\n",
       "ALif13y8Pz9r83w42P6Opt7Pbz0/+R3QtXrGmC8AAODb3HQGAAAAAAAAoE3pDAAAAAAAAECb9doA\n",
       "AMStvkbUmlKu7A7vf3qVN3xi9RmTYQAAwDe46QwAAAAAAABAm9IZAAAAAAAAgDalMwAAAAAAAABt\n",
       "SmcAAAAAAAAA2mbVVmcfAgCA3/GajzHGGM/aPB8Otr+fY2Te0dWfD59aPWNkGAAAkOKmMwAAAAAA\n",
       "AABtSmcAAAAAAAAA2qzXBgCAhtXXDFtjzNWtPgNmjCv7xvtpVTgAAPwWN50BAAAAAAAAaFM6AwAA\n",
       "AAAAANCmdAYAAAAAAACgTekMAAAAAAAAQJvSGQAAAAAAAIC2WbXV2YcAAICVvebj/flZm+fDwfZ3\n",
       "NPV+rv58+MTqGSPDAADgGtx0BgAAAAAAAKBN6QwAAAAAAABAm9IZAAAAAAAAgDalMwAAAAAAAABt\n",
       "SmcAAAAAAAAA2mbVVmcfAgAA7uI1H2OMMZ61eT4cbH8/x8i8o6s/Hz71rYxJfYcZAwCA87jpDAAA\n",
       "AAAAAECb0hkAAAAAAACANuu1AQAgYPUVolaUcnWrz4AZ48q+8X76cxEAAHAvbjoDAAAAAAAA0KZ0\n",
       "BgAAAAAAAKBN6QwAAAAAAABAm9IZAAAAAAAAgLZZtdXZhwAAgDt7zcf787M2z4eD7e9o6v1c/fnw\n",
       "idUzRoYBAMB3uOkMAAAAAAAAQJvSGQAAAAAAAIA267UBAOCLVl/Ta00pV7b6ml7zxdWtPgNmDAAA\n",
       "ctx0BgAAAAAAAKBN6QwAAAAAAABAm9IZAAAAAAAAgDalMwAAAAAAAABtSmcAAAAAAAAA2mbVVmcf\n",
       "AgAAfs1rPt6fn7Ut9/y/fkfq+fCJ1WfsGzMMn0hnwOrPBwCAX+OmMwAAAAAAAABtSmcAAAAAAAAA\n",
       "2qzXBgCAk62+ptcaYK5u9TW91gBzZatnjAwDAIBjuOkMAAAAAAAAQJvSGQAAAAAAAIA2pTMAAAAA\n",
       "AAAAbUpnAAAAAAAAANqUzgAAAAAAAAC0zaqtzj4EAADwf17zMcYY41nb0s9Pfgd0pd/P1Z8Pn1p9\n",
       "BswYAAD0uekMAAAAAAAAQJvSGQAAAAAAAIA267UBAICIu6wKt2KVK1p9zbA1xlzd6hkjwwAA+DY3\n",
       "nQEAAAAAAABoUzoDAAAAAAAA0KZ0BgAAAAAAAKBN6QwAAAAAAABA26za6uxDAAAA9/Waj/fnZ22e\n",
       "Dwfb39HU+2nG+GWrv//mCwCAb3HTGQAAAAAAAIA2pTMAAAAAAAAAbdZrAwAAX7P6GlFrSrmyb7yf\n",
       "31rlbb64otUzRoYBAJDkpjMAAAAAAAAAbUpnAAAAAAAAANqUzgAAAAAAAAC0KZ0BAAAAAAAAaFM6\n",
       "AwAAAAAAANA2q7Y6+xAAAMDvec3HGGOMZ22eDwfb388xMu/o6s+HT62eMTIMAICjuekMAAAAAAAA\n",
       "QJvSGQAAAAAAAIA267UBAIBTrb6m1xpgru5ba3pT32HGuLLV33/zBQDAUdx0BgAAAAAAAKBN6QwA\n",
       "AAAAAABAm9IZAAAAAAAAgDalMwAAAAAAAABtSmcAAAAAAAAA2mbVVmcfAgAAYIwxXvPx/vyszfPh\n",
       "QN94P/fvWPX58InVM0aGAQDwCTedAQAAAAAAAGhTOgMAAAAAAADQpnQGAAAAAAAAoE3pDAAAAAAA\n",
       "AEDbrNrq7EMAAAD8q9d8jDHGeNbm+XCw/f0cI/OOrv58+NTqGSPDAAD4p9x0BgAAAAAAAKBN6QwA\n",
       "AAAAAABAm/XaAADApa2+ptcaYK7uW2t6U99hxriy1d9/8wUAwJ9y0xkAAAAAAACANqUzAAAAAAAA\n",
       "AG1KZwAAAAAAAADalM4AAAAAAAAAtCmdAQAAAAAAAGibVVudfQgAAIA/8ZqP9+dnbZ4PB/rG+7l/\n",
       "x6rPh0+snjEyDACA/8RNZwAAAAAAAADalM4AAAAAAAAAtFmvDQAAAAD8sdVXeVsVzpXd4f335y64\n",
       "stVnTIZxZW46AwAAAAAAANCmdAYAAAAAAACgTekMAAAAAAAAQJvSGQAAAAAAAIA2pTMAAAAAAAAA\n",
       "bbNqq7MPAQAAAACs5zUfY4wxnrV5Phxsfz/HyLyjqz8fPrV6xsgwrsZNZwAAAAAAAADalM4AAAAA\n",
       "AAAAtFmvDQAAAAB8ZPU1vdYAc3Wrr+k1Y1zZ6hljvrgKN50BAAAAAAAAaFM6AwAAAAAAANCmdAYA\n",
       "AAAAAACgTekMAAAAAAAAQNus2ursQwAAAAAA9/Caj/fnZ22eDwe6w/u/f4f54opWnzEZxpncdAYA\n",
       "AAAAAACgTekMAAAAAAAAQJv12gAAAABARHqN7urPh0+svqbXGmCubvWMkWF8m5vOAAAAAAAAALQp\n",
       "nQGA/23vjnEkR5IlgDJuwkPyFstDxk38Cx/VmF30zk5bpmeQzPekkjxdIEHBYF4AAAAAABATOgMA\n",
       "AAAAAAAQEzoDAAAAAAAAEBM6AwAAAAAAABAbVbNWLwEAAAAAPNc59l9/HzXNhzf7eUa7ns9Pze/8\n",
       "DUjd/Rvj/eJTNJ0BAAAAAAAAiAmdAQAAAAAAAIg5rw0AAAAAfMzdz4g6U8qVPeH57z7lDa+4+zvm\n",
       "G0YnTWcAAAAAAAAAYkJnAAAAAAAAAGJCZwAAAAAAAABiQmcAAAAAAAAAYkJnAAAAAAAAAGKjatbq\n",
       "JQAAAACA73OOfdu2bTtqmg9v9vN8blvPM3r3+fCqu39jfMN4N01nAAAAAAAAAGKazgAAAADAUndv\n",
       "TGpkcnWfakx2/YZ3jCu7+/Pv/eJdNJ0BAAAAAAAAiAmdAQAAAAAAAIgJnQEAAAAAAACICZ0BAAAA\n",
       "AAAAiAmdAQAAAAAAAIiNqlmrlwAAAAAAeIJz7L/+PmqaD2/284x2PZ93nw+vuPs3xjdsLU1nAAAA\n",
       "AAAAAGJCZwAAAAAAAABiQmcAAAAAAAAAYkJnAAAAAAAAAGJCZwAAAAAAAABio2rW6iUAAAAAAJ7m\n",
       "HPu2bdt21DQf3uzn+dy2nmf07vPhVZ/6xnT9hnfs8zSdAQAAAAAAAIgJnQEAAAAAAACIOa8NAAAA\n",
       "ANDo7idEnSjl6u7+DnjHuLJPPJ/+XcQzaDoDAAAAAAAAEBM6AwAAAAAAABATOgMAAAAAAAAQEzoD\n",
       "AAAAAAAAEBM6AwAAAAAAABAbVbNWLwEAAAAA8A3Osf/6+6hpPrzZzzPa9XzefT684u7fGN+wXprO\n",
       "AAAAAAAAAMQ0nQEAAAAAFrh7Y1JjjCu7e2PS+8XV3f0b4x17P01nAAAAAAAAAGJCZwAAAAAAAABi\n",
       "QmcAAAAAAAAAYkJnAAAAAAAAAGJCZwAAAAAAAABio2rW6iUAAAAAAL7VOfZffx81bzf/r7/RNR9e\n",
       "cfd37BPvMKSe8I3xDXsPTWcAAAAAAAAAYkJnAAAAAAAAAGLOawMAAAAAXMTdz/Q6A8zV3f1MrzPA\n",
       "XNndvzG+Ya/RdAYAAAAAAAAgJnQGAAAAAAAAICZ0BgAAAAAAACAmdAYAAAAAAAAgJnQGAAAAAAAA\n",
       "IDaqZq1eAgAAAACAf3eOfdu2bTtq3np+529Aqvv5vPt8eNXd3wHv2J/TdAYAAAAAAAAgJnQGAAAA\n",
       "AAAAIOa8NgAAAADAhT3hhGj3KW94xd3fMWeAubqn/LsI79ff03QGAAAAAAAAICZ0BgAAAAAAACAm\n",
       "dAYAAAAAAAAgJnQGAAAAAAAAIDaqZq1eAgAAAACA5zvH/uvvo6b58GY/z2jX8/mp+Z2/Aam7f2O6\n",
       "52s6AwAAAAAAABATOgMAAAAAAAAQc14bAAAAAICPu/sZUWeAubInPP/dp7zhFXd/xzrmazoDAAAA\n",
       "AAAAEBM6AwAAAAAAABATOgMAAAAArnCEMgAAEwhJREFUAAAQEzoDAAAAAAAAEBM6AwAAAAAAABAb\n",
       "VbNWLwEAAAAAwPc6x75t27YdNc2HN/t5Pret5xm9+3x41d2/Me+ar+kMAAAAAAAAQEzoDAAAAAAA\n",
       "AEBM6AwAAAAAAABATOgMAAAAAAAAQEzoDAAAAAAAAEBsVM1avQQAAAAAAJxj//X3UdN8eLOfZ7Tr\n",
       "+fSO8c3u/vy/Ol/TGQAAAAAAAICY0BkAAAAAAACAmPPaAAAAAABcztXPiK6eD6/4xPP5qVPe3i+u\n",
       "6O7fmGS+pjMAAAAAAAAAMaEzAAAAAAAAADGhMwAAAAAAAAAxoTMAAAAAAAAAsVE1a/USAAAAAADw\n",
       "35xj37Zt246a5sOb/Tyf29bzjN59Przq7t+Yfzpf0xkAAAAAAACAmNAZAAAAAAAAgJjz2gAAAAAA\n",
       "3MLdz/Q6A8zVfepMb9dveMe4srs///9rvqYzAAAAAAAAADGhMwAAAAAAAAAxoTMAAAAAAAAAMaEz\n",
       "AAAAAAAAADGhMwAAAAAAAACxUTVr9RIAAAAAAPAnzrH/+vuoaT680Seez5/fuOt8eMXdvzG/m6/p\n",
       "DAAAAAAAAEBM6AwAAAAAAABAzHltAAAAAABu7e5nep0B5sqeeAYYruTu35if+ZrOAAAAAAAAAMSE\n",
       "zgAAAAAAAADEhM4AAAAAAAAAxITOAAAAAAAAAMSEzgAAAAAAAADExr+2rbp/5KjZ/RMAAAAAAAAA\n",
       "LKDpDAAAAAAAAEBM6AwAAAAAAABAbFTN9vPa59hb5zvfDQAAAAAAALCGpjMAAAAAAAAAMaEzAAAA\n",
       "AAAAADGhMwAAAAAAAAAxoTMAAAAAAAAAsVE1a/USrzrH3jr/qNk6HwAAAAAAAOCuNJ0BAAAAAAAA\n",
       "iAmdAQAAAAAAAIg94rx2N+e7AQAAAAAAAH5P0xkAAAAAAACAmNAZAAAAAAAAgJjQGQAAAAAAAICY\n",
       "0BkAAAAAAACAmNAZAAAAAAAAgNiomrV6iW93jr11/lGzdT4AAAAAAADwvTSdAQAAAAAAAIgJnQEA\n",
       "AAAAAACIOa/9BZzvBgAAAAAAALpoOgMAAAAAAAAQEzoDAAAAAAAAEBM6AwAAAAAAABATOgMAAAAA\n",
       "AAAQEzoDAAAAAAAAEBtVs1Yvwb2dY2+df9RsnQ8AAAAAAADkNJ0BAAAAAAAAiAmdAQAAAAAAAIgJ\n",
       "nQEAAAAAAACICZ0BAAAAAAAAiI2qWauXgL9zjr11/lGzdT4AAAAAAAA8maYzAAAAAAAAADGhMwAA\n",
       "AAAAAAAx57X5es53AwAAAAAAQE7TGQAAAAAAAICY0BkAAAAAAACAmNAZAAAAAAAAgJjQGQAAAAAA\n",
       "AICY0BkAAAAAAACA2KiatXoJeLJz7K3zj5qt8wEAAAAAAODvaDoDAAAAAAAAEBM6AwAAAAAAABBz\n",
       "XhtuzvluAAAAAAAAVtJ0BgAAAAAAACAmdAYAAAAAAAAgJnQGAAAAAAAAICZ0BgAAAAAAACAmdAYA\n",
       "AAAAAAAgNqpmrV4CuK5z7K3zj5qt8wEAAAAAAOil6QwAAAAAAABATOgMAAAAAAAAQMx5bWAp57sB\n",
       "AAAAAADuTdMZAAAAAAAAgJjQGQAAAAAAAICY0BkAAAAAAACAmNAZAAAAAAAAgNiomrV6CYAu59hb\n",
       "5x81W+cDAAAAAABcnaYzAAAAAAAAADGhMwAAAAAAAAAx57UBXuB8NwAAAAAA8O00nQEAAAAAAACI\n",
       "CZ0BAAAAAAAAiAmdAQAAAAAAAIgJnQEAAAAAAACICZ0BAAAAAAAAiI2qWauXAOD3zrG3zj9qts4H\n",
       "AAAAAACeT9MZAAAAAAAAgJjQGQAAAAAAAICY89oAX6z7fPe2OeENAAAAAABPp+kMAAAAAAAAQEzo\n",
       "DAAAAAAAAEBM6AwAAAAAAABATOgMAAAAAAAAQEzoDAAAAAAAAEBsVM1avQQAz3WOvXX+UbN1PgAA\n",
       "AAAA8Pc0nQEAAAAAAACIaToDcGua1AAAAAAAsJamMwAAAAAAAAAxoTMAAAAAAAAAMaEzAAAAAAAA\n",
       "ADGhMwAAAAAAAAAxoTMAAAAAAAAAsVE1a/USAHBV59hb5x81W+cDAAAAAEA3TWcAAAAAAAAAYkJn\n",
       "AAAAAAAAAGJCZwAAAAAAAABiQmcAAAAAAAAAYkJnAAAAAAAAAGKjatbqJQDgW51jb51/1GydDwAA\n",
       "AAAAms4AAAAAAAAAxITOAAAAAAAAAMSc1waAB3O+GwAAAACAbprOAAAAAAAAAMSEzgAAAAAAAADE\n",
       "hM4AAAAAAAAAxITOAAAAAAAAAMSEzgAAAAAAAADERtWs1UsAAPd0jr11/lGzdT4AAAAAAK/TdAYA\n",
       "AAAAAAAgpukMAFyWJjUAAAAAwPVpOgMAAAAAAAAQEzoDAAAAAAAAEBM6AwAAAAAAABATOgMAAAAA\n",
       "AAAQEzoDAAAAAAAAEBtVs1YvAQCwwjn21vlHzdb5AAAAAABXoOkMAAAAAAAAQEzoDAAAAAAAAEDM\n",
       "eW0AgCbOdwMAAAAA30DTGQAAAAAAAICY0BkAAAAAAACAmNAZAAAAAAAAgJjQGQAAAAAAAICY0BkA\n",
       "AAAAAACA2KiatXoJAAD+3Dn21vlHzdb5AAAAAMAzaDoDAAAAAAAAEBM6AwAAAAAAABBzXhsAgN9y\n",
       "vhsAAAAA+Cc0nQEAAAAAAACICZ0BAAAAAAAAiAmdAQAAAAAAAIgJnQEAAAAAAACICZ0BAAAAAAAA\n",
       "iI2qWauXAADg+5xjb51/1GydDwAAAAD8P01nAAAAAAAAAGKazgAAPJImNQAAAAB8hqYzAAAAAAAA\n",
       "ADGhMwAAAAAAAAAxoTMAAAAAAAAAMaEzAAAAAAAAADGhMwAAAAAAAACxUTVr9RIAAHA359hb5x81\n",
       "W+cDAAAAwLtoOgMAAAAAAAAQEzoDAAAAAAAAEHNeGwAALsj5bgAAAADuQtMZAAAAAAAAgJjQGQAA\n",
       "AAAAAICY0BkAAAAAAACAmNAZAAAAAAAAgJjQGQAAAAAAAIDYqJq1egkAAOCzzrG3/8ZRs/03AAAA\n",
       "AFhP0xkAAAAAAACAmNAZAAAAAAAAgJjQGQAAAAAAAICY0BkAAAAAAACAmNAZAAAAAAAAgNiomrV6\n",
       "CQAA4HnOsbfOP2q2zgcAAADgn9F0BgAAAAAAACCm6QwAANySJjUAAADANWg6AwAAAAAAABATOgMA\n",
       "AAAAAAAQEzoDAAAAAAAAEBM6AwAAAAAAABATOgMAAAAAAAAQG1WzVi8BAABwNefYW+cfNVvnAwAA\n",
       "AHyKpjMAAAAAAAAAMaEzAAAAAAAAADHntQEAABZwvhsAAAB4Ck1nAAAAAAAAAGJCZwAAAAAAAABi\n",
       "QmcAAAAAAAAAYkJnAAAAAAAAAGJCZwAAAAAAAABio2rW6iUAAAB4r3PsrfOPmq3zAQAAgPvQdAYA\n",
       "AAAAAAAgJnQGAAAAAAAAIOa8NgAAAH/M+W4AAADgh6YzAAAAAAAAADGhMwAAAAAAAAAxoTMAAAAA\n",
       "AAAAMaEzAAAAAAAAALFRNWv1EgAAAPBX59hb5x81W+cDAADAN9F0BgAAAAAAACAmdAYAAAAAAAAg\n",
       "5rw2AAAAX8f5bgAAAHgfTWcAAAAAAAAAYkJnAAAAAAAAAGJCZwAAAAAAAABiQmcAAAAAAAAAYkJn\n",
       "AAAAAAAAAGKjatbqJQAAAOBJzrG3zj9qts4HAACAP6HpDAAAAAAAAEBM6AwAAAAAAABAzHltAAAA\n",
       "uBnnuwEAALgSTWcAAAAAAAAAYkJnAAAAAAAAAGJCZwAAAAAAAABiQmcAAAAAAAAAYkJnAAAAAAAA\n",
       "AGKjatbqJQAAAIDrOMfeOv+o2TofAACAz9J0BgAAAAAAACAmdAYAAAAAAAAgJnQGAAAAAAAAICZ0\n",
       "BgAAAAAAACA2qmatXgIAAAD4HufYW+cfNVvnAwAA8O80nQEAAAAAAACICZ0BAAAAAAAAiDmvDQAA\n",
       "ADyK890AAACfpekMAAAAAAAAQEzoDAAAAAAAAEBM6AwAAAAAAABATOgMAAAAAAAAQEzoDAAAAAAA\n",
       "AEBsVM1avQQAAADAXZxjb51/1GydDwAA8G6azgAAAAAAAADEhM4AAAAAAAAAxJzXBgAAALgQ57sB\n",
       "AIC70XQGAAAAAAAAICZ0BgAAAAAAACAmdAYAAAAAAAAgJnQGAAAAAAAAICZ0BgAAAAAAACA2qmat\n",
       "XgIAAACAzzjH3v4bR8323wAAAK5D0xkAAAAAAACAmNAZAAAAAAAAgJjz2gAAAAC8VfcJb+e7AQDg\n",
       "WjSdAQAAAAAAAIgJnQEAAAAAAACICZ0BAAAAAAAAiAmdAQAAAAAAAIiNqlmrlwAAAACAf+oce+v8\n",
       "o2brfAAAeBpNZwAAAAAAAABiQmcAAAAAAAAAYs5rAwAAAMBfON8NAAB/RtMZAAAAAAAAgJjQGQAA\n",
       "AAAAAICY0BkAAAAAAACAmNAZAAAAAAAAgJjQGQAAAAAAAIDYqJq1egkAAAAA+Bbn2FvnHzVb5wMA\n",
       "wH/SdAYAAAAAAAAgJnQGAAAAAAAAIOa8NgAAAAA8iPPdAAB8mqYzAAAAAAAAADGhMwAAAAAAAAAx\n",
       "oTMAAAAAAAAAMaEzAAAAAAAAADGhMwAAAAAAAACxUTVr9RIAAAAAwD2cY2+df9RsnQ8AwPtpOgMA\n",
       "AAAAAAAQEzoDAAAAAAAAEHNeGwAAAAC4DOe7AQDuR9MZAAAAAAAAgJjQGQAAAAAAAICY0BkAAAAA\n",
       "AACAmNAZAAAAAAAAgNiomrV6CQAAAACATzjH3jr/qNk6HwDgijSdAQAAAAAAAIgJnQEAAAAAAACI\n",
       "CZ0BAAAAAAAAiAmdAQAAAAAAAIgJnQEAAAAAAACIjapZq5cAAAAAAHiCc+yt84+arfMBABKazgAA\n",
       "AAAAAADEhM4AAAAAAAAAxJzXBgAAAAC4Cee7AYAr0nQGAAAAAAAAICZ0BgAAAAAAACAmdAYAAAAA\n",
       "AAAgJnQGAAAAAAAAICZ0BgAAAAAAACA2qmatXgIAAAAAgPXOsbfOP2q2zgcA1tB0BgAAAAAAACAm\n",
       "dAYAAAAAAAAg5rw2AAAAAAAf4Xw3ADyTpjMAAAAAAAAAMaEzAAAAAAAAADGhMwAAAAAAAAAxoTMA\n",
       "AAAAAAAAsVE1a/USAAAAAADwqnPsrfOPmq3zAeCuNJ0BAAAAAAAAiAmdAQAAAAAAAIg5rw0AAAAA\n",
       "AP+A890A8HuazgAAAAAAAADEhM4AAAAAAAAAxITOAAAAAAAAAMSEzgAAAAAAAADEhM4AAAAAAAAA\n",
       "xEbVrNVLAAAAAADAtzvH3jr/qNk6H4DvpekMAAAAAAAAQEzoDAAAAAAAAEDMeW0AAAAAAPgC3ee7\n",
       "t80Jb4BvpekMAAAAAAAAQEzoDAAAAAAAAEBM6AwAAAAAAABATOgMAAAAAAAAQEzoDAAAAAAAAEBs\n",
       "VM1avQQAAAAAAHB/59hb5x81W+cDkNF0BgAAAAAAACCm6QwAAAAAANyCJjXANWk6AwAAAAAAABAT\n",
       "OgMAAAAAAAAQEzoDAAAAAAAAEBM6AwAAAAAAABATOgMAAAAAAAAQG1WzVi8BAAAAAACw2jn21vlH\n",
       "zdb5AKtoOgMAAAAAAAAQEzoDAAAAAAAAEHNeGwAAAAAA4AOc7waeStMZAAAAAAAAgJjQGQAAAAAA\n",
       "AICY0BkAAAAAAACAmNAZAAAAAAAAgJjQGQAAAAAAAIDYqJq1egkAAAAAAABec469df5Rs3U+cF+a\n",
       "zgAAAAAAAADEhM4AAAAAAAAAxITOAAAAAAAAAMSEzgAAAAAAAADEhM4AAAAAAAAAxEbVrNVLAAAA\n",
       "AAAAcG3n2FvnHzVb5wN9NJ0BAAAAAAAAiGk6AwAAAAAAsJwmNdyXpjMAAAAAAAAAMaEzAAAAAAAA\n",
       "ADGhMwAAAAAAAAAxoTMAAAAAAAAAMaEzAAAAAAAAALFRNWv1EgAAAAAAANDpHHvr/KNm63y4Mk1n\n",
       "AAAAAAAAAGJCZwAAAAAAAABizmsDAAAAAADAi5zv5ptpOgMAAAAAAAAQEzoDAAAAAAAAEBM6AwAA\n",
       "AAAAABATOgMAAAAAAAAQEzoDAAAAAAAAEBtVs1YvAQAAAAAAAPx359hb5x81W+fzbJrOAAAAAAAA\n",
       "AMSEzgAAAAAAAADEnNcGAAAAAACAL+d8N6/QdAYAAAAAAAAgJnQGAAAAAAAAICZ0BgAAAAAAACAm\n",
       "dAYAAAAAAAAgNqpmrV4CAAAAAAAAeK5z7K3zj5qt8/l7ms4AAAAAAAAAxITOAAAAAAAAAMSc1wYA\n",
       "AAAAAABuzfnutTSdAQAAAAAAAIgJnQEAAAAAAACICZ0BAAAAAAAAiAmdAQAAAAAAAIgJnQEAAAAA\n",
       "AACIjapZq5cAAAAAAAAAuKpz7K3zj5qt87tpOgMAAAAAAAAQEzoDAAAAAAAAEHNeGwAAAAAAAGCh\n",
       "u5/v1nQGAAAAAAAAICZ0BgAAAAAAACAmdAYAAAAAAAAgJnQGAAAAAAAAICZ0BgAAAAAAACA2qmat\n",
       "XgIAAAAAAACAHufYW+drOgMAAAAAAAAQEzoDAAAAAAAAEBM6AwAAAAAAABATOgMAAAAAAAAQ+z9I\n",
       "y240ihukWQAAAABJRU5ErkJggg==\n",
       "\" transform=\"translate(164, 47)\"/>\n",
       "</g>\n",
       "<defs>\n",
       "  <clipPath id=\"clip443\">\n",
       "    <rect x=\"2160\" y=\"47\" width=\"73\" height=\"1440\"/>\n",
       "  </clipPath>\n",
       "</defs>\n",
       "<g clip-path=\"url(#clip443)\">\n",
       "<image width=\"72\" height=\"1439\" xlink:href=\"data:image/png;base64,\n",
       "iVBORw0KGgoAAAANSUhEUgAAAEgAAAWfCAYAAAAI7rB3AAALwklEQVR4nO3dwY1CMQxAQf+Vu6do\n",
       "tgL8jnCYqWD1ZCVKAuzzmnkPH/19+w/4dQIFgYJAQaCw83z7T/htJigIFAQKAgWBwj52sZMJCgIF\n",
       "gYJAwSIdTFAQKAgUBAoChX0kOskTBAoCBYGCQMFZLJigIFAQKAgULNLBBAWBgkBBoCBQcGEW5AkC\n",
       "BYGCQMFRI5igIFAQKAgUBAp2sWCCgkBBoCBQECjYxYIJCgIFgYJAwatGkCcIFAQKAgWBgl9/CSYo\n",
       "CBQECgIFgYILs2CCgkBBoCBQcGEW5AkCBYGCQEGg4KgRTFAQKAgUBAoW6WCCgkBBoCBQECjYxYIJ\n",
       "CgIFgYJAQaDg2SfIEwQKAgWBgqNGMEFBoCBQECgIFOxiwQQFgYJAQaAgUHBhFuQJAgWBgkDBUSOY\n",
       "oCBQECgIFAQKfv0lmKAgUBAoCBTcBwV5gkBBoCBQECi4MAsmKAgUBAoCBYGCXSyYoCBQECgIFCzS\n",
       "wQQFgYJAQaAgUPDsE+QJAgWBgkBBoOAsFkxQECgIFAQKFulggoJAQaAgUBAouDAL8gSBgkBBoOCo\n",
       "EUxQECgIFAQKAgW7WDBBQaAgUBAoCBT8+kswQUGgIFAQKHjVCPIEgYJAQaAgUHBhFkxQECgIFAQK\n",
       "FulggoJAQaAgUBAouDAL8gSBgkBBoCBQcBYLJigIFAQKAgWLdDBBQaAgUBAoCBRcmAV5gkBBoCBQ\n",
       "ECg4iwUTFAQKAgWBgkU6mKAgUBAoCBQECnaxYIKCQEGgIFBYiW7yBIGCQEGgIFBw1AgmKAgUBAoC\n",
       "BYGCXSyYoCBQECgIFHwMOMgTBAoCBYGCQMFRI5igIFAQKAgUBAp2sWCCgkBBoCBQsEgHExQECgIF\n",
       "gYJAwbNPkCcIFAQKAgVHjWCCgkBBoCBQECjYxYIJCgIFgYJAQaDgwizIEwQKAgWBwo6jxskEBYGC\n",
       "QEGgIFBwYRZMUBAoCBQECgIFF2ZBniBQECgIFBw1ggkKAgWBgkBBoGAXCyYoCBQECgIFi3QwQUGg\n",
       "IFAQKAgUvGoEeYJAQaAgUBAoOIsFExQECgIFgYJFOpigIFAQKAgUBAouzII8QaAgUBAoOGoEExQE\n",
       "CgIFgYJAwa+/BBMUBAoCBYGCQMFZLJigIFAQKAgUvGoEeYJAQaAgUBAoOGoEExQECgIFgYJAwS4W\n",
       "TFAQKAgUBAouzII8QaAgUBAoCBQcNYIJCgIFgYJAwSIdTFAQKAgUBAoCBRdmQZ4gUBAoCBQECs5i\n",
       "wQQFgYJAQaBgkQ4mKAgUBAoCBYGCX38JJigIFAQKAgWBgmefIE8QKAgUBAouzIIJCgIFgYJAQaBg\n",
       "FwsmKAgUBAoCBfdBQZ4gUBAoCBQECo4awQQFgYJAQaAgULCLBRMUBAoCBYGCC7MgTxAoCBQECgIF\n",
       "R41ggoJAQaAgUBAo2MWCCQoCBYGCQMEiHUxQECgIFAQKAoWV6CZPECgIFAQKjhrBBAWBgkBBoCBQ\n",
       "sIsFExQECgIFgYJAweekgzxBoCBQECg4agQTFAQKAgWBgkDBLhZMUBAoCBQECgIFu1gwQUGgIFAQ\n",
       "KHjVCPIEgYJAQaAgUHDUCCYoCBQECgIFi3QwQUGgIFAQKAgUXJgFeYJAQaAgUBAo7DiLnUxQECgI\n",
       "FAQKLsyCCQoCBYGCQEGgYBcLJigIFAQKAgWvGkGeIFAQKAgUBAqOGsEEBYGCQEGgIFCwiwUTFAQK\n",
       "AgWBgguzIE8QKAgUBAoCBUeNYIKCQEGgIFAQKNjFggkKAgWBgkDBhVmQJwgUBAoCBYGCo0YwQUGg\n",
       "IFAQKPhxk2CCgkBBoCBQECg4agQTFAQKAgWBgkDBs0+QJwgUBAoCBUeNYIKCQEGgIFAQKNjFggkK\n",
       "AgWBgkBBoODCLMgTBAoCBYGCo0YwQUGgIFAQKAgU7GLBBAWBgkBBoOA+KMgTBAoCBYGCQMFRI5ig\n",
       "IFAQKAgUBAp2sWCCgkBBoCBQ8OsvwQQFgYJAQaAgUPDsE+QJAgWBgkBBoODCLJigIFAQKAgULNLB\n",
       "BAWBgkBBoCBQcGEW5AkCBYGCQMFRI5igIFAQKAgUBAp2sWCCgkBBoCBQECjsuDE7qRMECgIFgcJq\n",
       "dFMnCBQECgIFgYKjRlAnCBQECgKFHc8aJxMUBAoCBYGCQMGFWVAnCBQECgIFgYILs6BOECgIFAQK\n",
       "FumgThAoCBQECgIFzz7BBAWBgkBBoCBQ8OwT1AkCBYGCQMGFWVAnCBQECgIFgYJdLKgTBAoCBYHC\n",
       "jv8CeTJBQaAgUBAoCBQcNYI6QaAgUBAoCBTsYkGdIFAQKAgUfIAqqBMECgIFgYJAwZdZggkKAgWB\n",
       "gkBBoODCLKgTBAoCBYGCRTqoEwQKAgWBgkDBs09QJwgUBAoCBUeNoE4QKAgUBAoCBW/zwQQFgYJA\n",
       "QaAgUHBhFtQJAgWBgkDBhVlQJwgUBAoCBYGCXSyoEwQKAgWBgkDBs08wQUGgIFAQKHjVCOoEgYJA\n",
       "QaAgUHBhFtQJAgWBgkDBIh3UCQIFgYJAQaDg/4sFExQECgIFgYJAwVksqBMECgIFgYJFOqgTBAoC\n",
       "BYGCQMEnzII6QaAgUBAo+K5GMEFBoCBQECgIFFyYBXWCQEGgIFAQKNjFgjpBoCBQECh41QjqBIGC\n",
       "QEGgIFDw7BNMUBAoCBQECgIFF2ZBnSBQECgIFFyYBXWCQEGgIFAQKDhqBHWCQEGgIFDwqhFMUBAo\n",
       "CBQECgIFR42gThAoCBQECgIFzz5BnSBQECgIFBw1gjpBoCBQECgIFDz7BBMUBAoCBYGCQMGFWVAn\n",
       "CBQECgIFF2ZBnSBQECgIFAQKdrGgThAoCBQECv7ffDBBQaAgUBAoCBQcNYI6QaAgUBAoCBTsYkGd\n",
       "IFAQKAgULNJBnSBQECgIFAQKnn2CCQoCBYGCQEGg4CwW1AkCBYGCQMEiHdQJAgWBgkBBoOB780Gd\n",
       "IFAQKAgUHDWCOkGgIFAQKAgU/NBkMEFBoCBQECgIFJzFgjpBoCBQECh41QjqBIGCQEGgIFBw1Ajq\n",
       "BIGCQEGgIFDw7BNMUBAoCBQECi7MgjpBoCBQECgIFFyYBXWCQEGgIFCwSAd1gkBBoCBQECj4oclg\n",
       "goJAQaAgUBAoOIsFdYJAQaAgULBIB3WCQEGgIFAQKNjFgjpBoCBQECh41QgmKAgUBAoCBYGCo0ZQ\n",
       "JwgUBAoCBYGCXSyoEwQKAgWBgu/NB3WCQEGgIFAQKPiJrmCCgkBBoCBQECi4MAvqBIGCQEGgYJEO\n",
       "6gSBgkBBoCBQ8OwT1AkCBYGCQMGrRjBBQaAgUBAoCBRcmAV1gkBBoCBQECi4MAvqBIGCQEGg4KgR\n",
       "1AkCBYGCQEGg4NknmKAgUBAoCBQECi7MgjpBoCBQECi4MAvqBIGCQEGgIFCwiwV1gkBBoCBQ8KoR\n",
       "TFAQKAgUBAoCBa8aQZ0gUBAoCBQECi7MgjpBoCBQEChYpIM6QaAgUBAoCBR2xrPPxQQFgYJAQaAg\n",
       "UHAWC+oEgYJAQaBgkQ7qBIGCQEGgIFCwiwV1gkBBoCBQ8DHgoE4QKAgUBAoCBV/JDCYoCBQECgIF\n",
       "gYILs6BOECgIFAQKLsyCOkGgIFAQKAgUHDWCOkGgIFAQKHjVCCYoCBQECgIFgYILs6BOECgIFAQK\n",
       "AgUXZkGdIFAQKAgULNJBnSBQECgIFAQKnn2CCQoCBYGCQEGg4NknqBMECgIFgYILs6BOECgIFAQK\n",
       "AgW7WFAnCBQECgIF/z4rmKAgUBAoCBQECo4aQZ0gUBAoCBQECnaxoE4QKAgUBAoW6aBOECgIFAQK\n",
       "AgXPPsEEBYGCQEGgIFBwFgvqBIGCQEGgYJEO6gSBgkBBoCBQ8L35oE4QKAgUBAp+oiuYoCBQECgI\n",
       "FAQKLsyCOkGgIFAQKAgUXJgFdYJAQaAgUHDUCOoEgYJAQaAgUPDsE0xQECgIFAQKAgVnsaBOECgI\n",
       "FAQKXjWCOkGgIFAQKAgUHDWCOkGgIFAQKHjVCCYoCBQECgIFgYILs6BOECgIFAQKAgUXZkGdIFAQ\n",
       "KAgULNJBnSBQECgIFAQKdrGgThAoCBQECv9+YxEZIJrxiAAAAABJRU5ErkJggg==\n",
       "\" transform=\"translate(2161, 47)\"/>\n",
       "</g>\n",
       "<path clip-path=\"url(#clip440)\" d=\"M 0 0 M2280.7 1468.62 Q2277.09 1468.62 2275.26 1472.18 Q2273.45 1475.72 2273.45 1482.85 Q2273.45 1489.96 2275.26 1493.53 Q2277.09 1497.07 2280.7 1497.07 Q2284.33 1497.07 2286.14 1493.53 Q2287.97 1489.96 2287.97 1482.85 Q2287.97 1475.72 2286.14 1472.18 Q2284.33 1468.62 2280.7 1468.62 M2280.7 1464.91 Q2286.51 1464.91 2289.57 1469.52 Q2292.64 1474.1 2292.64 1482.85 Q2292.64 1491.58 2289.57 1496.19 Q2286.51 1500.77 2280.7 1500.77 Q2274.89 1500.77 2271.81 1496.19 Q2268.76 1491.58 2268.76 1482.85 Q2268.76 1474.1 2271.81 1469.52 Q2274.89 1464.91 2280.7 1464.91 Z\" fill=\"#000000\" fill-rule=\"evenodd\" fill-opacity=\"1\" /><path clip-path=\"url(#clip440)\" d=\"M 0 0 M2280.7 1324.7 Q2277.09 1324.7 2275.26 1328.26 Q2273.45 1331.8 2273.45 1338.93 Q2273.45 1346.04 2275.26 1349.6 Q2277.09 1353.15 2280.7 1353.15 Q2284.33 1353.15 2286.14 1349.6 Q2287.97 1346.04 2287.97 1338.93 Q2287.97 1331.8 2286.14 1328.26 Q2284.33 1324.7 2280.7 1324.7 M2280.7 1320.99 Q2286.51 1320.99 2289.57 1325.6 Q2292.64 1330.18 2292.64 1338.93 Q2292.64 1347.66 2289.57 1352.27 Q2286.51 1356.85 2280.7 1356.85 Q2274.89 1356.85 2271.81 1352.27 Q2268.76 1347.66 2268.76 1338.93 Q2268.76 1330.18 2271.81 1325.6 Q2274.89 1320.99 2280.7 1320.99 Z\" fill=\"#000000\" fill-rule=\"evenodd\" fill-opacity=\"1\" /><path clip-path=\"url(#clip440)\" d=\"M 0 0 M2297.71 1350.3 L2302.6 1350.3 L2302.6 1356.18 L2297.71 1356.18 L2297.71 1350.3 Z\" fill=\"#000000\" fill-rule=\"evenodd\" fill-opacity=\"1\" /><path clip-path=\"url(#clip440)\" d=\"M 0 0 M2308.48 1352.24 L2316.12 1352.24 L2316.12 1325.88 L2307.81 1327.54 L2307.81 1323.29 L2316.07 1321.62 L2320.75 1321.62 L2320.75 1352.24 L2328.39 1352.24 L2328.39 1356.18 L2308.48 1356.18 L2308.48 1352.24 Z\" fill=\"#000000\" fill-rule=\"evenodd\" fill-opacity=\"1\" /><path clip-path=\"url(#clip440)\" d=\"M 0 0 M2280.7 1180.78 Q2277.09 1180.78 2275.26 1184.34 Q2273.45 1187.88 2273.45 1195.01 Q2273.45 1202.12 2275.26 1205.68 Q2277.09 1209.23 2280.7 1209.23 Q2284.33 1209.23 2286.14 1205.68 Q2287.97 1202.12 2287.97 1195.01 Q2287.97 1187.88 2286.14 1184.34 Q2284.33 1180.78 2280.7 1180.78 M2280.7 1177.07 Q2286.51 1177.07 2289.57 1181.68 Q2292.64 1186.26 2292.64 1195.01 Q2292.64 1203.74 2289.57 1208.35 Q2286.51 1212.93 2280.7 1212.93 Q2274.89 1212.93 2271.81 1208.35 Q2268.76 1203.74 2268.76 1195.01 Q2268.76 1186.26 2271.81 1181.68 Q2274.89 1177.07 2280.7 1177.07 Z\" fill=\"#000000\" fill-rule=\"evenodd\" fill-opacity=\"1\" /><path clip-path=\"url(#clip440)\" d=\"M 0 0 M2297.71 1206.38 L2302.6 1206.38 L2302.6 1212.26 L2297.71 1212.26 L2297.71 1206.38 Z\" fill=\"#000000\" fill-rule=\"evenodd\" fill-opacity=\"1\" /><path clip-path=\"url(#clip440)\" d=\"M 0 0 M2311.7 1208.32 L2328.01 1208.32 L2328.01 1212.26 L2306.07 1212.26 L2306.07 1208.32 Q2308.73 1205.57 2313.32 1200.94 Q2317.92 1196.29 2319.1 1194.94 Q2321.35 1192.42 2322.23 1190.68 Q2323.13 1188.93 2323.13 1187.24 Q2323.13 1184.48 2321.19 1182.74 Q2319.26 1181.01 2316.16 1181.01 Q2313.96 1181.01 2311.51 1181.77 Q2309.08 1182.54 2306.3 1184.09 L2306.3 1179.36 Q2309.13 1178.23 2311.58 1177.65 Q2314.03 1177.07 2316.07 1177.07 Q2321.44 1177.07 2324.64 1179.76 Q2327.83 1182.44 2327.83 1186.93 Q2327.83 1189.06 2327.02 1190.99 Q2326.23 1192.88 2324.13 1195.48 Q2323.55 1196.15 2320.45 1199.36 Q2317.34 1202.56 2311.7 1208.32 Z\" fill=\"#000000\" fill-rule=\"evenodd\" fill-opacity=\"1\" /><path clip-path=\"url(#clip440)\" d=\"M 0 0 M2280.7 1036.86 Q2277.09 1036.86 2275.26 1040.42 Q2273.45 1043.96 2273.45 1051.09 Q2273.45 1058.2 2275.26 1061.76 Q2277.09 1065.31 2280.7 1065.31 Q2284.33 1065.31 2286.14 1061.76 Q2287.97 1058.2 2287.97 1051.09 Q2287.97 1043.96 2286.14 1040.42 Q2284.33 1036.86 2280.7 1036.86 M2280.7 1033.15 Q2286.51 1033.15 2289.57 1037.76 Q2292.64 1042.34 2292.64 1051.09 Q2292.64 1059.82 2289.57 1064.43 Q2286.51 1069.01 2280.7 1069.01 Q2274.89 1069.01 2271.81 1064.43 Q2268.76 1059.82 2268.76 1051.09 Q2268.76 1042.34 2271.81 1037.76 Q2274.89 1033.15 2280.7 1033.15 Z\" fill=\"#000000\" fill-rule=\"evenodd\" fill-opacity=\"1\" /><path clip-path=\"url(#clip440)\" d=\"M 0 0 M2297.71 1062.46 L2302.6 1062.46 L2302.6 1068.34 L2297.71 1068.34 L2297.71 1062.46 Z\" fill=\"#000000\" fill-rule=\"evenodd\" fill-opacity=\"1\" /><path clip-path=\"url(#clip440)\" d=\"M 0 0 M2321.83 1049.7 Q2325.19 1050.42 2327.07 1052.69 Q2328.96 1054.96 2328.96 1058.29 Q2328.96 1063.41 2325.45 1066.21 Q2321.93 1069.01 2315.45 1069.01 Q2313.27 1069.01 2310.95 1068.57 Q2308.66 1068.15 2306.21 1067.3 L2306.21 1062.78 Q2308.15 1063.92 2310.47 1064.5 Q2312.78 1065.07 2315.31 1065.07 Q2319.7 1065.07 2322 1063.34 Q2324.31 1061.6 2324.31 1058.29 Q2324.31 1055.24 2322.16 1053.52 Q2320.03 1051.79 2316.21 1051.79 L2312.18 1051.79 L2312.18 1047.94 L2316.39 1047.94 Q2319.84 1047.94 2321.67 1046.58 Q2323.5 1045.19 2323.5 1042.6 Q2323.5 1039.94 2321.6 1038.52 Q2319.73 1037.09 2316.21 1037.09 Q2314.29 1037.09 2312.09 1037.5 Q2309.89 1037.92 2307.25 1038.8 L2307.25 1034.63 Q2309.91 1033.89 2312.23 1033.52 Q2314.57 1033.15 2316.63 1033.15 Q2321.95 1033.15 2325.05 1035.58 Q2328.15 1037.99 2328.15 1042.11 Q2328.15 1044.98 2326.51 1046.97 Q2324.87 1048.94 2321.83 1049.7 Z\" fill=\"#000000\" fill-rule=\"evenodd\" fill-opacity=\"1\" /><path clip-path=\"url(#clip440)\" d=\"M 0 0 M2280.7 892.936 Q2277.09 892.936 2275.26 896.501 Q2273.45 900.043 2273.45 907.172 Q2273.45 914.279 2275.26 917.844 Q2277.09 921.385 2280.7 921.385 Q2284.33 921.385 2286.14 917.844 Q2287.97 914.279 2287.97 907.172 Q2287.97 900.043 2286.14 896.501 Q2284.33 892.936 2280.7 892.936 M2280.7 889.233 Q2286.51 889.233 2289.57 893.839 Q2292.64 898.422 2292.64 907.172 Q2292.64 915.899 2289.57 920.506 Q2286.51 925.089 2280.7 925.089 Q2274.89 925.089 2271.81 920.506 Q2268.76 915.899 2268.76 907.172 Q2268.76 898.422 2271.81 893.839 Q2274.89 889.233 2280.7 889.233 Z\" fill=\"#000000\" fill-rule=\"evenodd\" fill-opacity=\"1\" /><path clip-path=\"url(#clip440)\" d=\"M 0 0 M2297.71 918.538 L2302.6 918.538 L2302.6 924.418 L2297.71 924.418 L2297.71 918.538 Z\" fill=\"#000000\" fill-rule=\"evenodd\" fill-opacity=\"1\" /><path clip-path=\"url(#clip440)\" d=\"M 0 0 M2320.51 893.932 L2308.71 912.381 L2320.51 912.381 L2320.51 893.932 M2319.29 889.858 L2325.17 889.858 L2325.17 912.381 L2330.1 912.381 L2330.1 916.269 L2325.17 916.269 L2325.17 924.418 L2320.51 924.418 L2320.51 916.269 L2304.91 916.269 L2304.91 911.756 L2319.29 889.858 Z\" fill=\"#000000\" fill-rule=\"evenodd\" fill-opacity=\"1\" /><path clip-path=\"url(#clip440)\" d=\"M 0 0 M2280.7 749.016 Q2277.09 749.016 2275.26 752.581 Q2273.45 756.122 2273.45 763.252 Q2273.45 770.358 2275.26 773.923 Q2277.09 777.465 2280.7 777.465 Q2284.33 777.465 2286.14 773.923 Q2287.97 770.358 2287.97 763.252 Q2287.97 756.122 2286.14 752.581 Q2284.33 749.016 2280.7 749.016 M2280.7 745.312 Q2286.51 745.312 2289.57 749.919 Q2292.64 754.502 2292.64 763.252 Q2292.64 771.979 2289.57 776.585 Q2286.51 781.168 2280.7 781.168 Q2274.89 781.168 2271.81 776.585 Q2268.76 771.979 2268.76 763.252 Q2268.76 754.502 2271.81 749.919 Q2274.89 745.312 2280.7 745.312 Z\" fill=\"#000000\" fill-rule=\"evenodd\" fill-opacity=\"1\" /><path clip-path=\"url(#clip440)\" d=\"M 0 0 M2297.71 774.618 L2302.6 774.618 L2302.6 780.497 L2297.71 780.497 L2297.71 774.618 Z\" fill=\"#000000\" fill-rule=\"evenodd\" fill-opacity=\"1\" /><path clip-path=\"url(#clip440)\" d=\"M 0 0 M2307.71 745.937 L2326.07 745.937 L2326.07 749.872 L2312 749.872 L2312 758.345 Q2313.01 757.997 2314.03 757.835 Q2315.05 757.65 2316.07 757.65 Q2321.86 757.65 2325.24 760.821 Q2328.62 763.993 2328.62 769.409 Q2328.62 774.988 2325.14 778.09 Q2321.67 781.168 2315.35 781.168 Q2313.18 781.168 2310.91 780.798 Q2308.66 780.428 2306.26 779.687 L2306.26 774.988 Q2308.34 776.122 2310.56 776.678 Q2312.78 777.233 2315.26 777.233 Q2319.26 777.233 2321.6 775.127 Q2323.94 773.02 2323.94 769.409 Q2323.94 765.798 2321.6 763.692 Q2319.26 761.585 2315.26 761.585 Q2313.39 761.585 2311.51 762.002 Q2309.66 762.419 2307.71 763.298 L2307.71 745.937 Z\" fill=\"#000000\" fill-rule=\"evenodd\" fill-opacity=\"1\" /><path clip-path=\"url(#clip440)\" d=\"M 0 0 M2280.7 605.095 Q2277.09 605.095 2275.26 608.66 Q2273.45 612.202 2273.45 619.332 Q2273.45 626.438 2275.26 630.003 Q2277.09 633.544 2280.7 633.544 Q2284.33 633.544 2286.14 630.003 Q2287.97 626.438 2287.97 619.332 Q2287.97 612.202 2286.14 608.66 Q2284.33 605.095 2280.7 605.095 M2280.7 601.392 Q2286.51 601.392 2289.57 605.998 Q2292.64 610.582 2292.64 619.332 Q2292.64 628.058 2289.57 632.665 Q2286.51 637.248 2280.7 637.248 Q2274.89 637.248 2271.81 632.665 Q2268.76 628.058 2268.76 619.332 Q2268.76 610.582 2271.81 605.998 Q2274.89 601.392 2280.7 601.392 Z\" fill=\"#000000\" fill-rule=\"evenodd\" fill-opacity=\"1\" /><path clip-path=\"url(#clip440)\" d=\"M 0 0 M2297.71 630.697 L2302.6 630.697 L2302.6 636.577 L2297.71 636.577 L2297.71 630.697 Z\" fill=\"#000000\" fill-rule=\"evenodd\" fill-opacity=\"1\" /><path clip-path=\"url(#clip440)\" d=\"M 0 0 M2318.25 617.433 Q2315.1 617.433 2313.25 619.586 Q2311.42 621.739 2311.42 625.489 Q2311.42 629.216 2313.25 631.392 Q2315.1 633.544 2318.25 633.544 Q2321.39 633.544 2323.22 631.392 Q2325.08 629.216 2325.08 625.489 Q2325.08 621.739 2323.22 619.586 Q2321.39 617.433 2318.25 617.433 M2327.53 602.781 L2327.53 607.04 Q2325.77 606.207 2323.96 605.767 Q2322.18 605.327 2320.42 605.327 Q2315.79 605.327 2313.34 608.452 Q2310.91 611.577 2310.56 617.896 Q2311.93 615.882 2313.99 614.818 Q2316.05 613.73 2318.52 613.73 Q2323.73 613.73 2326.74 616.901 Q2329.77 620.049 2329.77 625.489 Q2329.77 630.813 2326.63 634.031 Q2323.48 637.248 2318.25 637.248 Q2312.25 637.248 2309.08 632.665 Q2305.91 628.058 2305.91 619.332 Q2305.91 611.137 2309.8 606.276 Q2313.69 601.392 2320.24 601.392 Q2322 601.392 2323.78 601.739 Q2325.58 602.086 2327.53 602.781 Z\" fill=\"#000000\" fill-rule=\"evenodd\" fill-opacity=\"1\" /><path clip-path=\"url(#clip440)\" d=\"M 0 0 M2280.7 461.175 Q2277.09 461.175 2275.26 464.74 Q2273.45 468.282 2273.45 475.411 Q2273.45 482.518 2275.26 486.082 Q2277.09 489.624 2280.7 489.624 Q2284.33 489.624 2286.14 486.082 Q2287.97 482.518 2287.97 475.411 Q2287.97 468.282 2286.14 464.74 Q2284.33 461.175 2280.7 461.175 M2280.7 457.471 Q2286.51 457.471 2289.57 462.078 Q2292.64 466.661 2292.64 475.411 Q2292.64 484.138 2289.57 488.744 Q2286.51 493.328 2280.7 493.328 Q2274.89 493.328 2271.81 488.744 Q2268.76 484.138 2268.76 475.411 Q2268.76 466.661 2271.81 462.078 Q2274.89 457.471 2280.7 457.471 Z\" fill=\"#000000\" fill-rule=\"evenodd\" fill-opacity=\"1\" /><path clip-path=\"url(#clip440)\" d=\"M 0 0 M2297.71 486.777 L2302.6 486.777 L2302.6 492.656 L2297.71 492.656 L2297.71 486.777 Z\" fill=\"#000000\" fill-rule=\"evenodd\" fill-opacity=\"1\" /><path clip-path=\"url(#clip440)\" d=\"M 0 0 M2306.49 458.096 L2328.71 458.096 L2328.71 460.087 L2316.16 492.656 L2311.28 492.656 L2323.08 462.032 L2306.49 462.032 L2306.49 458.096 Z\" fill=\"#000000\" fill-rule=\"evenodd\" fill-opacity=\"1\" /><path clip-path=\"url(#clip440)\" d=\"M 0 0 M2280.7 317.255 Q2277.09 317.255 2275.26 320.82 Q2273.45 324.361 2273.45 331.491 Q2273.45 338.597 2275.26 342.162 Q2277.09 345.704 2280.7 345.704 Q2284.33 345.704 2286.14 342.162 Q2287.97 338.597 2287.97 331.491 Q2287.97 324.361 2286.14 320.82 Q2284.33 317.255 2280.7 317.255 M2280.7 313.551 Q2286.51 313.551 2289.57 318.158 Q2292.64 322.741 2292.64 331.491 Q2292.64 340.218 2289.57 344.824 Q2286.51 349.407 2280.7 349.407 Q2274.89 349.407 2271.81 344.824 Q2268.76 340.218 2268.76 331.491 Q2268.76 322.741 2271.81 318.158 Q2274.89 313.551 2280.7 313.551 Z\" fill=\"#000000\" fill-rule=\"evenodd\" fill-opacity=\"1\" /><path clip-path=\"url(#clip440)\" d=\"M 0 0 M2297.71 342.856 L2302.6 342.856 L2302.6 348.736 L2297.71 348.736 L2297.71 342.856 Z\" fill=\"#000000\" fill-rule=\"evenodd\" fill-opacity=\"1\" /><path clip-path=\"url(#clip440)\" d=\"M 0 0 M2317.67 332.324 Q2314.33 332.324 2312.41 334.106 Q2310.51 335.889 2310.51 339.014 Q2310.51 342.139 2312.41 343.921 Q2314.33 345.704 2317.67 345.704 Q2321 345.704 2322.92 343.921 Q2324.84 342.116 2324.84 339.014 Q2324.84 335.889 2322.92 334.106 Q2321.02 332.324 2317.67 332.324 M2312.99 330.333 Q2309.98 329.593 2308.29 327.532 Q2306.63 325.472 2306.63 322.509 Q2306.63 318.366 2309.57 315.958 Q2312.53 313.551 2317.67 313.551 Q2322.83 313.551 2325.77 315.958 Q2328.71 318.366 2328.71 322.509 Q2328.71 325.472 2327.02 327.532 Q2325.35 329.593 2322.37 330.333 Q2325.75 331.12 2327.62 333.412 Q2329.52 335.704 2329.52 339.014 Q2329.52 344.037 2326.44 346.722 Q2323.39 349.407 2317.67 349.407 Q2311.95 349.407 2308.87 346.722 Q2305.82 344.037 2305.82 339.014 Q2305.82 335.704 2307.71 333.412 Q2309.61 331.12 2312.99 330.333 M2311.28 322.949 Q2311.28 325.634 2312.95 327.139 Q2314.64 328.644 2317.67 328.644 Q2320.68 328.644 2322.37 327.139 Q2324.08 325.634 2324.08 322.949 Q2324.08 320.264 2322.37 318.759 Q2320.68 317.255 2317.67 317.255 Q2314.64 317.255 2312.95 318.759 Q2311.28 320.264 2311.28 322.949 Z\" fill=\"#000000\" fill-rule=\"evenodd\" fill-opacity=\"1\" /><path clip-path=\"url(#clip440)\" d=\"M 0 0 M2280.7 173.334 Q2277.09 173.334 2275.26 176.899 Q2273.45 180.441 2273.45 187.57 Q2273.45 194.677 2275.26 198.242 Q2277.09 201.783 2280.7 201.783 Q2284.33 201.783 2286.14 198.242 Q2287.97 194.677 2287.97 187.57 Q2287.97 180.441 2286.14 176.899 Q2284.33 173.334 2280.7 173.334 M2280.7 169.631 Q2286.51 169.631 2289.57 174.237 Q2292.64 178.82 2292.64 187.57 Q2292.64 196.297 2289.57 200.904 Q2286.51 205.487 2280.7 205.487 Q2274.89 205.487 2271.81 200.904 Q2268.76 196.297 2268.76 187.57 Q2268.76 178.82 2271.81 174.237 Q2274.89 169.631 2280.7 169.631 Z\" fill=\"#000000\" fill-rule=\"evenodd\" fill-opacity=\"1\" /><path clip-path=\"url(#clip440)\" d=\"M 0 0 M2297.71 198.936 L2302.6 198.936 L2302.6 204.816 L2297.71 204.816 L2297.71 198.936 Z\" fill=\"#000000\" fill-rule=\"evenodd\" fill-opacity=\"1\" /><path clip-path=\"url(#clip440)\" d=\"M 0 0 M2307.81 204.098 L2307.81 199.839 Q2309.57 200.672 2311.37 201.112 Q2313.18 201.552 2314.91 201.552 Q2319.54 201.552 2321.97 198.45 Q2324.43 195.325 2324.77 188.982 Q2323.43 190.973 2321.37 192.038 Q2319.31 193.103 2316.81 193.103 Q2311.63 193.103 2308.59 189.978 Q2305.58 186.83 2305.58 181.39 Q2305.58 176.066 2308.73 172.848 Q2311.88 169.631 2317.11 169.631 Q2323.11 169.631 2326.26 174.237 Q2329.43 178.82 2329.43 187.57 Q2329.43 195.742 2325.54 200.626 Q2321.67 205.487 2315.12 205.487 Q2313.36 205.487 2311.56 205.14 Q2309.75 204.793 2307.81 204.098 M2317.11 189.445 Q2320.26 189.445 2322.09 187.293 Q2323.94 185.14 2323.94 181.39 Q2323.94 177.663 2322.09 175.51 Q2320.26 173.334 2317.11 173.334 Q2313.96 173.334 2312.11 175.51 Q2310.28 177.663 2310.28 181.39 Q2310.28 185.14 2312.11 187.293 Q2313.96 189.445 2317.11 189.445 Z\" fill=\"#000000\" fill-rule=\"evenodd\" fill-opacity=\"1\" /><path clip-path=\"url(#clip440)\" d=\"M 0 0 M2269.43 56.9601 L2277.07 56.9601 L2277.07 30.5945 L2268.76 32.2612 L2268.76 28.002 L2277.02 26.3353 L2281.7 26.3353 L2281.7 56.9601 L2289.33 56.9601 L2289.33 60.8953 L2269.43 60.8953 L2269.43 56.9601 Z\" fill=\"#000000\" fill-rule=\"evenodd\" fill-opacity=\"1\" /><path clip-path=\"url(#clip440)\" d=\"M 0 0 M2294.4 55.0157 L2299.29 55.0157 L2299.29 60.8953 L2294.4 60.8953 L2294.4 55.0157 Z\" fill=\"#000000\" fill-rule=\"evenodd\" fill-opacity=\"1\" /><path clip-path=\"url(#clip440)\" d=\"M 0 0 M2314.36 29.414 Q2310.75 29.414 2308.92 32.9788 Q2307.11 36.5204 2307.11 43.65 Q2307.11 50.7565 2308.92 54.3213 Q2310.75 57.8629 2314.36 57.8629 Q2317.99 57.8629 2319.8 54.3213 Q2321.63 50.7565 2321.63 43.65 Q2321.63 36.5204 2319.8 32.9788 Q2317.99 29.414 2314.36 29.414 M2314.36 25.7103 Q2320.17 25.7103 2323.22 30.3168 Q2326.3 34.9001 2326.3 43.65 Q2326.3 52.3768 2323.22 56.9833 Q2320.17 61.5666 2314.36 61.5666 Q2308.55 61.5666 2305.47 56.9833 Q2302.41 52.3768 2302.41 43.65 Q2302.41 34.9001 2305.47 30.3168 Q2308.55 25.7103 2314.36 25.7103 Z\" fill=\"#000000\" fill-rule=\"evenodd\" fill-opacity=\"1\" /><polyline clip-path=\"url(#clip440)\" style=\"stroke:#000000; stroke-width:4; stroke-opacity:1; fill:none\" points=\"\n",
       "  2232.76,1486.45 2232.76,1486.45 2256.76,1486.45 2232.76,1486.45 2232.76,1342.53 2256.76,1342.53 2232.76,1342.53 2232.76,1198.61 2256.76,1198.61 2232.76,1198.61 \n",
       "  2232.76,1054.69 2256.76,1054.69 2232.76,1054.69 2232.76,910.766 2256.76,910.766 2232.76,910.766 2232.76,766.846 2256.76,766.846 2232.76,766.846 2232.76,622.926 \n",
       "  2256.76,622.926 2232.76,622.926 2232.76,479.005 2256.76,479.005 2232.76,479.005 2232.76,335.085 2256.76,335.085 2232.76,335.085 2232.76,191.164 2256.76,191.164 \n",
       "  2232.76,191.164 2232.76,47.2441 2256.76,47.2441 2232.76,47.2441 \n",
       "  \"/>\n",
       "</svg>\n"
      ]
     },
     "execution_count": 16,
     "metadata": {},
     "output_type": "execute_result"
    }
   ],
   "source": [
    "spy(C)"
   ]
  },
  {
   "cell_type": "code",
   "execution_count": 17,
   "metadata": {},
   "outputs": [],
   "source": [
    "using MathProgBase\n",
    "using GLPKMathProgInterface"
   ]
  },
  {
   "cell_type": "code",
   "execution_count": 18,
   "metadata": {},
   "outputs": [
    {
     "data": {
      "text/plain": [
       "solve_sudoku (generic function with 2 methods)"
      ]
     },
     "execution_count": 18,
     "metadata": {},
     "output_type": "execute_result"
    }
   ],
   "source": [
    "function solve_sudoku(sudoku::Matrix, C::Matrix)\n",
    "    # Clue constraints\n",
    "    clue=count(!iszero,sudoku)\n",
    "    Clue=zeros(Int,clue,n3)\n",
    "    ind=findall(!iszero,sudoku'[:])\n",
    "    for i=1:clue\n",
    "        Clue[i,9*(ind[i]-1)+sudoku'[ind[i]]]=1\n",
    "    end\n",
    "    C=vcat(C,Clue)\n",
    "    # Solve it\n",
    "    l1=linprog(ones(n3),C,'=',ones(size(C,1)),0,Inf,GLPKSolverLP())\n",
    "    # Reconstruct the solution\n",
    "    if l1.status == :Infeasible\n",
    "        error(\"No solution found!\")\n",
    "    else\n",
    "        return Matrix(reshape(map(Int,round.(collect(1:9)'*reshape(l1.sol,9,81))),9,9)'), l1.status\n",
    "    end\n",
    "end"
   ]
  },
  {
   "cell_type": "code",
   "execution_count": 19,
   "metadata": {},
   "outputs": [
    {
     "name": "stdout",
     "output_type": "stream",
     "text": [
      "  1.736646 seconds (3.22 M allocations: 161.931 MiB, 3.78% gc time)\n"
     ]
    },
    {
     "data": {
      "text/plain": [
       "([3 1 … 6 4; 4 6 … 1 5; … ; 6 9 … 3 8; 7 5 … 2 1], :Optimal)"
      ]
     },
     "execution_count": 19,
     "metadata": {},
     "output_type": "execute_result"
    }
   ],
   "source": [
    "@time sol₁,status=solve_sudoku(s,C)"
   ]
  },
  {
   "cell_type": "code",
   "execution_count": 20,
   "metadata": {},
   "outputs": [
    {
     "name": "stdout",
     "output_type": "stream",
     "text": [
      "[-----------------------]\n",
      "[ 3 1 7 | 9 5 8 | 2 6 4 ]\n",
      "[ 4 6 9 | 3 2 7 | 8 1 5 ]\n",
      "[ 8 2 5 | 1 6 4 | 7 9 3 ]\n",
      "[-----------------------]\n",
      "[ 2 7 1 | 6 4 5 | 3 8 9 ]\n",
      "[ 9 3 8 | 7 1 2 | 5 4 6 ]\n",
      "[ 5 4 6 | 8 3 9 | 1 7 2 ]\n",
      "[-----------------------]\n",
      "[ 1 8 4 | 2 9 3 | 6 5 7 ]\n",
      "[ 6 9 2 | 5 7 1 | 4 3 8 ]\n",
      "[ 7 5 3 | 4 8 6 | 9 2 1 ]\n",
      "[-----------------------]\n"
     ]
    }
   ],
   "source": [
    "print_sudoku(sol₁)"
   ]
  },
  {
   "cell_type": "code",
   "execution_count": 21,
   "metadata": {},
   "outputs": [
    {
     "data": {
      "text/plain": [
       "9×9 Array{Int64,2}:\n",
       " 0  0  0  0  0  0  0  0  0\n",
       " 0  0  0  0  0  0  0  0  0\n",
       " 0  0  0  0  0  0  0  0  0\n",
       " 0  0  0  0  0  0  0  0  0\n",
       " 0  0  0  0  0  0  0  0  0\n",
       " 0  0  0  0  0  0  0  0  0\n",
       " 0  0  0  0  0  0  0  0  0\n",
       " 0  0  0  0  0  0  0  0  0\n",
       " 0  0  0  0  0  0  0  0  0"
      ]
     },
     "execution_count": 21,
     "metadata": {},
     "output_type": "execute_result"
    }
   ],
   "source": [
    "sol-sol₁"
   ]
  },
  {
   "cell_type": "markdown",
   "metadata": {},
   "source": [
    "Let us try two harder puzzles."
   ]
  },
  {
   "cell_type": "code",
   "execution_count": 22,
   "metadata": {},
   "outputs": [
    {
     "name": "stdout",
     "output_type": "stream",
     "text": [
      "[-----------------------]\n",
      "[ 5 4 0 | 0 0 3 | 1 0 0 ]\n",
      "[ 0 8 0 | 4 0 1 | 0 0 6 ]\n",
      "[ 0 0 0 | 5 0 0 | 0 2 0 ]\n",
      "[-----------------------]\n",
      "[ 0 7 0 | 0 0 0 | 6 0 0 ]\n",
      "[ 0 0 4 | 0 0 0 | 9 0 0 ]\n",
      "[ 0 0 6 | 0 0 0 | 0 3 0 ]\n",
      "[-----------------------]\n",
      "[ 0 5 0 | 0 0 4 | 0 0 0 ]\n",
      "[ 1 0 0 | 2 0 8 | 0 7 0 ]\n",
      "[ 0 0 2 | 7 0 0 | 0 1 9 ]\n",
      "[-----------------------]\n"
     ]
    }
   ],
   "source": [
    "s=CSV.read(\"files/sudokuhard.csv\",header=0)\n",
    "s=convert(Matrix,s)\n",
    "print_sudoku(s)"
   ]
  },
  {
   "cell_type": "code",
   "execution_count": 23,
   "metadata": {},
   "outputs": [
    {
     "name": "stdout",
     "output_type": "stream",
     "text": [
      "  1.188648 seconds (1.97 M allocations: 97.386 MiB, 14.16% gc time)\n",
      "[-----------------------]\n",
      "[ 5 4 7 | 6 2 3 | 1 9 8 ]\n",
      "[ 2 8 9 | 4 7 1 | 3 5 6 ]\n",
      "[ 6 3 1 | 5 8 9 | 7 2 4 ]\n",
      "[-----------------------]\n",
      "[ 8 7 5 | 3 9 2 | 6 4 1 ]\n",
      "[ 3 2 4 | 1 5 6 | 9 8 7 ]\n",
      "[ 9 1 6 | 8 4 7 | 5 3 2 ]\n",
      "[-----------------------]\n",
      "[ 7 5 8 | 9 1 4 | 2 6 3 ]\n",
      "[ 1 9 3 | 2 6 8 | 4 7 5 ]\n",
      "[ 4 6 2 | 7 3 5 | 8 1 9 ]\n",
      "[-----------------------]\n"
     ]
    }
   ],
   "source": [
    "@time sol=solve_sudoku(s)\n",
    "print_sudoku(sol)"
   ]
  },
  {
   "cell_type": "code",
   "execution_count": 24,
   "metadata": {},
   "outputs": [
    {
     "name": "stdout",
     "output_type": "stream",
     "text": [
      "  0.029227 seconds (3.31 k allocations: 2.352 MiB)\n",
      "[-----------------------]\n",
      "[ 5 4 7 | 6 2 3 | 1 9 8 ]\n",
      "[ 2 8 9 | 4 7 1 | 3 5 6 ]\n",
      "[ 6 3 1 | 5 8 9 | 7 2 4 ]\n",
      "[-----------------------]\n",
      "[ 8 7 5 | 3 9 2 | 6 4 1 ]\n",
      "[ 3 2 4 | 1 5 6 | 9 8 7 ]\n",
      "[ 9 1 6 | 8 4 7 | 5 3 2 ]\n",
      "[-----------------------]\n",
      "[ 7 5 8 | 9 1 4 | 2 6 3 ]\n",
      "[ 1 9 3 | 2 6 8 | 4 7 5 ]\n",
      "[ 4 6 2 | 7 3 5 | 8 1 9 ]\n",
      "[-----------------------]\n"
     ]
    },
    {
     "data": {
      "text/plain": [
       "(nothing, :Optimal)"
      ]
     },
     "execution_count": 24,
     "metadata": {},
     "output_type": "execute_result"
    }
   ],
   "source": [
    "@time sol₁,status=solve_sudoku(s,C)\n",
    "print_sudoku(sol₁), status"
   ]
  },
  {
   "cell_type": "code",
   "execution_count": 25,
   "metadata": {},
   "outputs": [
    {
     "name": "stdout",
     "output_type": "stream",
     "text": [
      "[-----------------------]\n",
      "[ 0 0 0 | 6 0 1 | 4 0 0 ]\n",
      "[ 9 0 0 | 2 4 0 | 7 0 0 ]\n",
      "[ 0 0 3 | 0 0 0 | 0 0 9 ]\n",
      "[-----------------------]\n",
      "[ 0 6 0 | 0 0 5 | 0 0 0 ]\n",
      "[ 3 1 0 | 0 0 0 | 0 0 4 ]\n",
      "[ 0 0 0 | 7 0 0 | 0 6 0 ]\n",
      "[-----------------------]\n",
      "[ 2 0 0 | 0 0 0 | 9 0 0 ]\n",
      "[ 4 0 0 | 0 6 2 | 0 0 1 ]\n",
      "[ 0 0 1 | 9 0 8 | 0 0 0 ]\n",
      "[-----------------------]\n"
     ]
    }
   ],
   "source": [
    "# New puzzle\n",
    "s=[ 0 0 0 6 0 1 4 0 0;\n",
    "    9 0 0 2 4 0 7 0 0;\n",
    "    0 0 3 0 0 0 0 0 9;\n",
    "    0 6 0 0 0 5 0 0 0;\n",
    "    3 1 0 0 0 0 0 0 4;\n",
    "    0 0 0 7 0 0 0 6 0;\n",
    "    2 0 0 0 0 0 9 0 0;\n",
    "    4 0 0 0 6 2 0 0 1;\n",
    "    0 0 1 9 0 8 0 0 0]\n",
    "print_sudoku(s)"
   ]
  },
  {
   "cell_type": "code",
   "execution_count": 26,
   "metadata": {},
   "outputs": [
    {
     "name": "stdout",
     "output_type": "stream",
     "text": [
      "  0.040713 seconds (51.21 k allocations: 3.077 MiB)\n",
      "[-----------------------]\n",
      "[ 7 5 2 | 6 9 1 | 4 8 3 ]\n",
      "[ 9 8 6 | 2 4 3 | 7 1 5 ]\n",
      "[ 1 4 3 | 5 8 7 | 6 2 9 ]\n",
      "[-----------------------]\n",
      "[ 8 6 9 | 4 1 5 | 2 3 7 ]\n",
      "[ 3 1 7 | 8 2 6 | 5 9 4 ]\n",
      "[ 5 2 4 | 7 3 9 | 1 6 8 ]\n",
      "[-----------------------]\n",
      "[ 2 3 8 | 1 7 4 | 9 5 6 ]\n",
      "[ 4 9 5 | 3 6 2 | 8 7 1 ]\n",
      "[ 6 7 1 | 9 5 8 | 3 4 2 ]\n",
      "[-----------------------]\n"
     ]
    }
   ],
   "source": [
    "# Mixed integer programming is fine,\n",
    "@time sol=solve_sudoku(s)\n",
    "print_sudoku(sol)"
   ]
  },
  {
   "cell_type": "code",
   "execution_count": 27,
   "metadata": {},
   "outputs": [
    {
     "name": "stdout",
     "output_type": "stream",
     "text": [
      "  0.031154 seconds (3.30 k allocations: 2.341 MiB)\n",
      "[-----------------------]\n",
      "[ 6 4 5 | 6 9 1 | 4 6 3 ]\n",
      "[ 9 6 6 | 2 4 3 | 7 1 6 ]\n",
      "[ 1 4 3 | 5 8 7 | 6 2 9 ]\n",
      "[-----------------------]\n",
      "[ 8 6 6 | 4 1 5 | 3 9 4 ]\n",
      "[ 3 1 8 | 8 2 6 | 5 8 4 ]\n",
      "[ 7 3 4 | 7 3 9 | 1 6 5 ]\n",
      "[-----------------------]\n",
      "[ 2 8 6 | 1 6 4 | 9 3 6 ]\n",
      "[ 4 9 6 | 3 6 2 | 8 6 1 ]\n",
      "[ 6 3 1 | 9 6 8 | 2 4 6 ]\n",
      "[-----------------------]\n"
     ]
    },
    {
     "data": {
      "text/plain": [
       "(nothing, :Optimal)"
      ]
     },
     "execution_count": 27,
     "metadata": {},
     "output_type": "execute_result"
    }
   ],
   "source": [
    "# But!\n",
    "@time sol₁,status=solve_sudoku(s,C)\n",
    "print_sudoku(sol₁), status"
   ]
  },
  {
   "cell_type": "markdown",
   "metadata": {},
   "source": [
    "We see that the $l_1$ sudoku solution is not always possible."
   ]
  }
 ],
 "metadata": {
  "@webio": {
   "lastCommId": null,
   "lastKernelId": null
  },
  "kernelspec": {
   "display_name": "Julia 1.4.1",
   "language": "julia",
   "name": "julia-1.4"
  },
  "language_info": {
   "file_extension": ".jl",
   "mimetype": "application/julia",
   "name": "julia",
   "version": "1.4.1"
  }
 },
 "nbformat": 4,
 "nbformat_minor": 1
}
