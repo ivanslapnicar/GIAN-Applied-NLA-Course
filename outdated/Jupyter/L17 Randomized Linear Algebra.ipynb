{
 "cells": [
  {
   "cell_type": "markdown",
   "metadata": {},
   "source": [
    "# Randomized Linear Algebra\n",
    "\n",
    "See [Yuxin Chen, Randomized linear algebra][Che18].\n",
    "\n",
    "[Che18]: https://www.princeton.edu/~yc5/orf570/randomized_linear_algebra.pdf \"Yuxin Chen, 'Randomized linear algebra'\""
   ]
  },
  {
   "cell_type": "markdown",
   "metadata": {},
   "source": [
    "## Matrix multiplication\n",
    "\n",
    "Let $A\\in\\mathbb{R}^{m\\times n}$ and $B\\in\\mathbb{R}^{n\\times p}$. Then,\n",
    "\n",
    "$$\n",
    "C=AB=\\sum_{i=1}^{n} A_{:,i} B_{i,:}.\n",
    "$$\n",
    "\n",
    "Assume, for simplicity $m=n=p$.\n",
    "\n",
    "__Idea:__ approximate $C$ by randomly sampling $r$ rank-one components.\n",
    "\n",
    "\n",
    "__Algorithm:__ for $l= 1,\\cdots ,r$ pick $i_l\\in\\{1,···,n\\}$ i.i.d. with probability $\\mathbb{P}\\{i_l=k\\}=p_k$ and compute \n",
    "\n",
    "$$M=\\sum_{l=1}^r \\frac{1}{rp_{i_l}} A_{:,i_l} B_{i_l,:}$$\n",
    "\n",
    "__Rationale:__ $M$ is an unbiased estimate of $C$,\n",
    "\n",
    "\\begin{align*}\n",
    "\\mathbb{E}[M]&=\\sum_{l=1}^r \\sum_k \\mathbb{P}\\{i_l=k\\} \\frac{1}{r p_k} A_{:,k}B_{k,:}\n",
    "=\\sum_k A_{:,k}B_{k,:}=C.\n",
    "\\end{align*}\n",
    "\n",
    "__Importance sampling porbabilities__ $p_k$ are\n",
    "\n",
    "* _Uniform sampling:_ $p_k=\\displaystyle\\frac{1}{n}$\n",
    "\n",
    "* _Nonuniform sampling:_\n",
    "\n",
    "$$\n",
    "p_k=\\frac{\\|A_{:,k}\\|_2 \\|B_{k,:}\\|_2}\n",
    "{\\sum_l \\|A_{:,l}\\|_2 \\|B_{l,:}\\|_2},  \\tag{1}\n",
    "$$\n",
    "\n",
    "which is computable in one-pass and requires $O(n)$ memory and $O(n^2)$ operations.\n",
    "\n",
    "__Theorem.__ [Optimality] $\\mathbb{E}[\\|M-AB\\|_F^2]$ is minimized for $p_k$ given by (1).\n",
    "\n",
    "__Theorem.__ [Error] Choose \n",
    "$p_k\\geq \\displaystyle\\frac{\\beta \\|A_{:,k}\\|_2 \\|B_{k,:}\\|_2}\n",
    "{\\sum_l \\|A_{:,l}\\|_2 \\|B_{l,:}\\|_2}$ for some \n",
    "$0<\\beta \\leq 1$. If $r\\geq \\displaystyle\\frac{\\log n}{\\beta}$, then \n",
    "\n",
    "\n",
    "$$\\|M-AB\\|_F\\leq \\sqrt{\\frac{\\log n}{\\beta r}}\n",
    "\\|A\\|_F \\|B\\|_F\n",
    "$$\n",
    "\n",
    "with probability exceeding $1-O(n^{-10})$."
   ]
  },
  {
   "cell_type": "code",
   "execution_count": 1,
   "metadata": {},
   "outputs": [],
   "source": [
    "using Distributions\n",
    "using Random\n",
    "Random.seed!(1345)\n",
    "using LinearAlgebra\n",
    "using SparseArrays"
   ]
  },
  {
   "cell_type": "code",
   "execution_count": 2,
   "metadata": {},
   "outputs": [
    {
     "data": {
      "text/plain": [
       "8.006367567650246"
      ]
     },
     "execution_count": 2,
     "metadata": {},
     "output_type": "execute_result"
    }
   ],
   "source": [
    "n=3000\n",
    "A=rand(n,n)\n",
    "B=rand(n,n)\n",
    "C=A*B\n",
    "β=1.0\n",
    "log(n)/β"
   ]
  },
  {
   "cell_type": "code",
   "execution_count": 3,
   "metadata": {},
   "outputs": [
    {
     "name": "stdout",
     "output_type": "stream",
     "text": [
      "  0.379247 seconds (512.15 k allocations: 180.649 MiB, 8.34% gc time)\n",
      "  0.708572 seconds (2 allocations: 68.665 MiB)\n"
     ]
    }
   ],
   "source": [
    "# Uniform\n",
    "r=400\n",
    "iᵣ=rand(1:n,r)\n",
    "p=1/n\n",
    "@time M=A[:,iᵣ]*B[iᵣ,:]/(r*p)\n",
    "@time C=A*B;"
   ]
  },
  {
   "cell_type": "code",
   "execution_count": 4,
   "metadata": {},
   "outputs": [
    {
     "data": {
      "text/plain": [
       "(98375.9760565034, 424507.02816975326, 2.250470537412928e6)"
      ]
     },
     "execution_count": 4,
     "metadata": {},
     "output_type": "execute_result"
    }
   ],
   "source": [
    "norm(M-C),sqrt(log(n)/(β*r))*norm(A)*norm(B), norm(C)"
   ]
  },
  {
   "cell_type": "code",
   "execution_count": 5,
   "metadata": {},
   "outputs": [
    {
     "data": {
      "text/plain": [
       "1.0000000000000002"
      ]
     },
     "execution_count": 5,
     "metadata": {},
     "output_type": "execute_result"
    }
   ],
   "source": [
    "# Nonuniform\n",
    "pA=[norm(view(A,:,k)) for k=1:n]\n",
    "pB=[norm(view(B,k,:)) for k=1:n]\n",
    "s=pA⋅pB\n",
    "p=[pA[k]*pB[k]/s for k=1:n]\n",
    "sum(p)"
   ]
  },
  {
   "cell_type": "code",
   "execution_count": 6,
   "metadata": {},
   "outputs": [
    {
     "name": "stdout",
     "output_type": "stream",
     "text": [
      "  0.347693 seconds (554.18 k allocations: 123.760 MiB, 4.95% gc time)\n"
     ]
    },
    {
     "data": {
      "text/plain": [
       "(96919.32727001642, 424507.02816975326, 2.250470537412928e6)"
      ]
     },
     "execution_count": 6,
     "metadata": {},
     "output_type": "execute_result"
    }
   ],
   "source": [
    "iᵣ=rand(Categorical(p),r);\n",
    "@time Mₙ=A[:,iᵣ]*inv(Diagonal(r*p[iᵣ]))*B[iᵣ,:]\n",
    "norm(Mₙ-C),sqrt(log(n)/(β*r))*norm(A)*norm(B), norm(C)"
   ]
  },
  {
   "cell_type": "code",
   "execution_count": 7,
   "metadata": {},
   "outputs": [
    {
     "name": "stdout",
     "output_type": "stream",
     "text": [
      " 19.292305 seconds (121.18 k allocations: 1.645 GiB, 0.38% gc time)\n"
     ]
    },
    {
     "data": {
      "text/plain": [
       "9.210340371976184"
      ]
     },
     "execution_count": 7,
     "metadata": {},
     "output_type": "execute_result"
    }
   ],
   "source": [
    "# Sparse, nonuniform\n",
    "n=10000\n",
    "A=sprand(n,n,0.1)\n",
    "B=sprand(n,n,0.1)\n",
    "@time C=A*B\n",
    "β=1.0\n",
    "log(n)/β"
   ]
  },
  {
   "cell_type": "code",
   "execution_count": 8,
   "metadata": {},
   "outputs": [
    {
     "data": {
      "text/plain": [
       "1.0"
      ]
     },
     "execution_count": 8,
     "metadata": {},
     "output_type": "execute_result"
    }
   ],
   "source": [
    "# C is full\n",
    "nnz(C)/prod(size(C))"
   ]
  },
  {
   "cell_type": "code",
   "execution_count": 9,
   "metadata": {},
   "outputs": [
    {
     "data": {
      "text/plain": [
       "1.0"
      ]
     },
     "execution_count": 9,
     "metadata": {},
     "output_type": "execute_result"
    }
   ],
   "source": [
    "# Nonuniform\n",
    "pA=[norm(view(A,:,k)) for k=1:n]\n",
    "pB=[norm(view(B,k,:)) for k=1:n]\n",
    "s=pA⋅pB\n",
    "p=[pA[k]*pB[k]/s for k=1:n]\n",
    "sum(p)"
   ]
  },
  {
   "cell_type": "code",
   "execution_count": 10,
   "metadata": {},
   "outputs": [
    {
     "name": "stdout",
     "output_type": "stream",
     "text": [
      "  3.950247 seconds (864.99 k allocations: 1.726 GiB, 0.29% gc time)\n"
     ]
    },
    {
     "data": {
      "text/plain": [
       "(104792.86163141944, 319914.7396134604, 252219.24933879502)"
      ]
     },
     "execution_count": 10,
     "metadata": {},
     "output_type": "execute_result"
    }
   ],
   "source": [
    "r=1000\n",
    "iᵣ=rand(Categorical(p),r);\n",
    "@time Mₙ=A[:,iᵣ]*inv(Diagonal(r*p[iᵣ]))*B[iᵣ,:]\n",
    "norm(Mₙ-C),sqrt(log(n)/(β*r))*norm(A)*norm(B), norm(C)"
   ]
  },
  {
   "cell_type": "code",
   "execution_count": null,
   "metadata": {},
   "outputs": [],
   "source": []
  }
 ],
 "metadata": {
  "@webio": {
   "lastCommId": null,
   "lastKernelId": null
  },
  "kernelspec": {
   "display_name": "Julia 1.4.1",
   "language": "julia",
   "name": "julia-1.4"
  },
  "language_info": {
   "file_extension": ".jl",
   "mimetype": "application/julia",
   "name": "julia",
   "version": "1.4.1"
  }
 },
 "nbformat": 4,
 "nbformat_minor": 2
}
