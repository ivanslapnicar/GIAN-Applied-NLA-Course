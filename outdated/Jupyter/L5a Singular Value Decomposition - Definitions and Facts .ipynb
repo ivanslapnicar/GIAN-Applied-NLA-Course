{
 "cells": [
  {
   "cell_type": "markdown",
   "metadata": {},
   "source": [
    "# Singular Value Decomposition - Definitions and Facts\n",
    "\n",
    "\n",
    "## Prerequisites\n",
    "\n",
    "The reader should be familiar with basic linear algebra concepts and notebooks related to\n",
    "eigenvalue decomposition.\n",
    "\n",
    " \n",
    "## Competences \n",
    "\n",
    "The reader should be able to undestand and check the facts about singular value decomposition.\n",
    "\n",
    "## Selected references\n",
    "\n",
    "There are many excellent books on the subject. Here we list a few:\n",
    "\n",
    "[J. W. Demmel, Applied Numerical Linear Algebra][Dem97]\n",
    "\n",
    "[G. H. Golub and C. F. Van Loan, Matrix Computations][GV13]\n",
    "\n",
    "[N. Higham, Accuracy and Stability of Numerical Algorithms][Hig02]\n",
    "\n",
    "[L. Hogben, ed., Handbook of Linear Algebra][Hog14]\n",
    "\n",
    "[G. W. Stewart, Matrix Algorithms, Vol. II: Eigensystems][Ste01]\n",
    "\n",
    "[L. N. Trefethen and D. Bau, III, Numerical Linear Algebra][TB97]\n",
    "\n",
    "\n",
    "[Dem97]: #1 \"J.W. Demmel, 'Applied Numerical Linear Algebra', SIAM, Philadelphia, 1997.\"\n",
    "  \n",
    "[GV13]: #1 \"G. H. Golub and C. F. Van Loan, 'Matrix Computations', 4th ed., The John Hopkins University Press, Baltimore, MD, 2013.\"\n",
    "  \n",
    "[Hig02]: #1 \"N. Higham, 'Accuracy and Stability of Numerical Algorithms', SIAM, Philadelphia, 2nd ed., 2002.\"\n",
    "    \n",
    "[Hog14]: #1 \"L. Hogben, ed., 'Handbook of Linear Algebra', CRC Press, Boca Raton, 2014.\"\n",
    "\n",
    "[Ste01]: #1 \"G. W. Stewart, 'Matrix Algorithms, Vol. II: Eigensystems', SIAM, Philadelphia, 2001.\" \n",
    "\n",
    "[TB97]: #1 \"L. N. Trefethen and D. Bau, III, 'Numerical Linear Algebra', SIAM, Philadelphia, 1997.\""
   ]
  },
  {
   "cell_type": "markdown",
   "metadata": {},
   "source": [
    "## Singular value problems\n",
    "\n",
    "For more details and the proofs of the Facts below, see \n",
    "[R. C. Li, Matrix Perturbation Theory][Hog14] and \n",
    "[R. Mathias, Singular Values and Singular Value Inequalities][Hog14a] and the references therein.\n",
    "\n",
    "[Hog14]: #1 \"L. Hogben, ed., 'Handbook of Linear Algebra', pp. 21.6-21.8, CRC Press, Boca Raton, 2014.\"\n",
    "\n",
    "[Hog14a]: #1 \"L. Hogben, ed., 'Handbook of Linear Algebra', pp. 24.1-24.17, CRC Press, Boca Raton, 2014.\"\n",
    "\n",
    "### Definitions\n",
    "\n",
    "Let $A\\in\\mathbb{C}^{m\\times n}$ and let $q=\\min\\{m,n\\}$.\n",
    "\n",
    "The __singular value decomposition__ (SVD) of $A$ is \n",
    "\n",
    "$$A=U\\Sigma V^*,$$\n",
    "\n",
    "where $U\\in\\mathbb{C}^{m\\times m}$ and $V\\in\\mathbb{C}^{n\\times n}$ are unitary, and \n",
    "$\\Sigma=\\mathop{\\mathrm{diag}}(\\sigma_1,\\sigma_2,\\ldots)\\in\\mathbb{R}^{m\\times n}$ with all \n",
    "$\\sigma_j\\geq 0$.\n",
    "\n",
    "Here $\\sigma_j$ is the __singular value__, $u_j\\equiv U_{:,j}$ is the corresponding __left singular vector__, and $v_j\\equiv V_{:,j}$ is the corresponding __right singular vector__.\n",
    "\n",
    "The __set of singular values__ is $sv(A)=\\{\\sigma_1,\\sigma_2,\\ldots,\\sigma_{q}\\}$.\n",
    "\n",
    "We assume that singular values are ordered, $\\sigma_1\\geq\\sigma_2\\geq\\cdots\\sigma_q\\geq 0$.\n",
    "\n",
    "The __Jordan-Wielandt__ matrix is the Hermitian matrix \n",
    "$$\n",
    "J=\\begin{bmatrix}0 & A \\\\ A^* & 0 \\end{bmatrix}\n",
    "\\in \\mathbb{C}^{(m+n) \\times (m+n)}.\n",
    "$$"
   ]
  },
  {
   "cell_type": "markdown",
   "metadata": {},
   "source": [
    "### Facts\n",
    "\n",
    "There are many facts related to the singular value problem for general matrices. We state some basic ones:\n",
    "\n",
    "1. If $A\\in\\mathbb{R}^{m\\times n}$, then $U$ and $V$ are real.\n",
    "\n",
    "2. Singular values are unique (uniquely determined by the matrix).\n",
    "\n",
    "3. $\\sigma_j(A^T)=\\sigma_j(A^*)=\\sigma_j(\\bar A)=\\sigma_j(A)$ for $j=1,2,\\ldots,q$.\n",
    "\n",
    "3. $A v_j=\\sigma_j u_{j}$ and $A^* u_{j}=\\sigma_j v_{j}$ for $j=1,2,\\ldots,q$.\n",
    "\n",
    "3. $A=\\sigma_1 u_{1} v_{1}^* + \\sigma_2 u_{2} v_{2}^* +\\cdots +\n",
    "\\sigma_q u_{q} v_{q}^*$.\n",
    "\n",
    "3. __Unitary invariance.__ For any unitary \n",
    "$U\\in\\mathbb{C}^{m\\times m}$ and $V\\in\\mathbb{C}^{n\\times n}$, \n",
    "$sv(A)=sv(UAV)$.\n",
    "\n",
    "4. There exist unitary matrices  $U\\in\\mathbb{C}^{m\\times m}$ and \n",
    "$V\\in\\mathbb{C}^{n\\times n}$ such that $A=UBV$ if and only if  $sv(A)=sv(B)$.\n",
    "\n",
    "5. SVD of $A$ is related to eigenvalue decompositions of Hermitian matrices $A^*A=V\\Sigma^T\\Sigma V^*$ and $AA^*=U\\Sigma\\Sigma^TU^*$. Thus, \n",
    "$\\sigma_j^2(A)=\\lambda_j(A^*A)=\\lambda_j(AA^*)$ for $j=1,2,\\ldots,q$.\n",
    "\n",
    "6. The eigenvalues of Jordan-Wielandt matrix are $\\pm \\sigma_1(A), \\pm\\sigma_2(A), \\cdots,\\pm\\sigma_q(A)$ together with $|m-n|$ zeros. The eigenvectors are obtained from an SVD of $A$. This relationship is used to deduce singular value results from the results for eigenvalues of Hermitian matrices.\n",
    "\n",
    "3. $\\mathop{\\mathrm{trace}}(|A|_{spr})=\\sum_{i=1}^q \\sigma_i$, where $|A|_{spr}=(A^*A)^{1/2}$.\n",
    "\n",
    "4. If $A$ is square, then $|\\det(A)|=\\prod_{i=1}^n \\sigma_i$.\n",
    "\n",
    "5. If $A$ is square, then $A$ is singular $\\Leftrightarrow$ $\\sigma_j(A)=0$ for some $j$.\n",
    "\n",
    "8. __Min-max Theorem.__ It holds:\n",
    "\\begin{align*}\n",
    "\\sigma_k& =\\max_{\\dim(W)=k}\\min_{x\\in W, \\ \\|x\\|_2=1} \\|Ax\\|_2\\\\\n",
    "& =\\min_{\\dim(W)=n-k+1}\\max_{x\\in W, \\ \\|x\\|_2=1} \\|Ax\\|_2.\n",
    "\\end{align*} \n",
    "\n",
    "9. $\\|A\\|_2=\\sigma_1(A)$.\n",
    "\n",
    "9. For $B\\in\\mathbb{C}^{m\\times n}$,\n",
    "$$\n",
    "|\\mathop{\\mathrm{trace}}(AB^*)|\\leq \\sum_{j=1}^q \\sigma_j(A)\\sigma_j(B).\n",
    "$$\n",
    "\n",
    "10. __Interlace Theorems.__ Let $B$ denote $A$ with the one of its rows _or_ columns deleted. Then\n",
    "$$\n",
    "\\sigma_{j+1}(A)\\leq \\sigma_j(B)\\leq \\sigma_j(A),\\quad j=1,\\ldots,q-1.\n",
    "$$\n",
    "Let $B$ denote $A$ with a row _and_ a column deleted. Then\n",
    "$$\n",
    "\\sigma_{j+2}(A)\\leq \\sigma_j(B)\\leq \\sigma_j(A),\\quad j=1,\\ldots,q-2.\n",
    "$$\n",
    "\n",
    "9. __Weyl Inequalities.__ For $B\\in\\mathbb{C}^{m\\times n}$, it holds:\n",
    "\\begin{align*}\n",
    "   \\sigma_{j+k-1}(A+B)& \\leq \\sigma_j(A)+\\sigma_k(B), \\quad  j+k\\leq q+1,\\\\\n",
    "   \\sum_{j=1}^k \\sigma_j(A+B)& \\leq \\sum_{j=1}^k \\sigma_j(A) + \\sum_{j=1}^k \\sigma_j(B), \n",
    "   \\quad k=1,\\ldots,q.\n",
    "\\end{align*}"
   ]
  },
  {
   "cell_type": "markdown",
   "metadata": {},
   "source": [
    "### Example - Symbolic computation"
   ]
  },
  {
   "cell_type": "code",
   "execution_count": 1,
   "metadata": {},
   "outputs": [],
   "source": [
    "using SymPy"
   ]
  },
  {
   "cell_type": "code",
   "execution_count": 2,
   "metadata": {},
   "outputs": [
    {
     "data": {
      "text/plain": [
       "3×3 Array{Int64,2}:\n",
       "  3   2   1\n",
       " -5  -1  -4\n",
       "  5   0   2"
      ]
     },
     "execution_count": 2,
     "metadata": {},
     "output_type": "execute_result"
    }
   ],
   "source": [
    "A=[  3   2   1\n",
    " -5  -1  -4\n",
    "  5   0   2]"
   ]
  },
  {
   "cell_type": "code",
   "execution_count": 3,
   "metadata": {},
   "outputs": [
    {
     "data": {
      "text/plain": [
       "(x,)"
      ]
     },
     "execution_count": 3,
     "metadata": {},
     "output_type": "execute_result"
    }
   ],
   "source": [
    "@vars x"
   ]
  },
  {
   "cell_type": "code",
   "execution_count": 4,
   "metadata": {},
   "outputs": [
    {
     "data": {
      "text/plain": [
       "3×3 Array{Int64,2}:\n",
       " 59  11  33\n",
       " 11   5   6\n",
       " 33   6  21"
      ]
     },
     "execution_count": 4,
     "metadata": {},
     "output_type": "execute_result"
    }
   ],
   "source": [
    "B=A'*A"
   ]
  },
  {
   "cell_type": "code",
   "execution_count": 5,
   "metadata": {},
   "outputs": [],
   "source": [
    "using LinearAlgebra"
   ]
  },
  {
   "cell_type": "code",
   "execution_count": 6,
   "metadata": {},
   "outputs": [
    {
     "data": {
      "text/latex": [
       "\\begin{equation*}- x^{3} + 85 x^{2} - 393 x + 441\\end{equation*}"
      ],
      "text/plain": [
       "   3       2              \n",
       "- x  + 85⋅x  - 393⋅x + 441"
      ]
     },
     "execution_count": 6,
     "metadata": {},
     "output_type": "execute_result"
    }
   ],
   "source": [
    "# Characteristic polynomial p_B(λ)\n",
    "eye(n)=Matrix{Int}(I,n,n)\n",
    "p(x)=simplify(det(B-x*eye(3)))\n",
    "p(x)"
   ]
  },
  {
   "cell_type": "code",
   "execution_count": 7,
   "metadata": {},
   "outputs": [
    {
     "data": {
      "text/latex": [
       "\\[ \\left[ \\begin{array}{r}3\\\\41 - \\sqrt{1534}\\\\\\sqrt{1534} + 41\\end{array} \\right] \\]"
      ],
      "text/plain": [
       "3-element Array{Sym,1}:\n",
       "               3\n",
       " 41 - sqrt(1534)\n",
       " sqrt(1534) + 41"
      ]
     },
     "execution_count": 7,
     "metadata": {},
     "output_type": "execute_result"
    }
   ],
   "source": [
    "λ=solve(p(x),x)"
   ]
  },
  {
   "cell_type": "code",
   "execution_count": 8,
   "metadata": {},
   "outputs": [
    {
     "data": {
      "text/plain": [
       "3-element Array{Float64,1}:\n",
       "  3.0\n",
       "  1.8336879448677221\n",
       " 80.16631205513228"
      ]
     },
     "execution_count": 8,
     "metadata": {},
     "output_type": "execute_result"
    }
   ],
   "source": [
    "map(Float64,λ)"
   ]
  },
  {
   "cell_type": "code",
   "execution_count": 9,
   "metadata": {},
   "outputs": [
    {
     "data": {
      "text/plain": [
       "3×3 Array{Any,2}:\n",
       " -0.0        0.519818  0.854277\n",
       "  0.948683  -0.270146  0.164381\n",
       " -0.316228  -0.810438  0.493143"
      ]
     },
     "execution_count": 9,
     "metadata": {},
     "output_type": "execute_result"
    }
   ],
   "source": [
    "V=Array{Any}(undef,3,3)\n",
    "for j=1:3\n",
    "    V[:,j]=nullspace(B-map(Float64,λ[j])*I)\n",
    "end\n",
    "V"
   ]
  },
  {
   "cell_type": "code",
   "execution_count": 10,
   "metadata": {},
   "outputs": [
    {
     "data": {
      "text/plain": [
       "3×3 Array{Any,2}:\n",
       " -0.912871  0.154137   0.378032\n",
       " -0.182574  0.67409   -0.71573\n",
       "  0.365148  0.722388   0.587215"
      ]
     },
     "execution_count": 10,
     "metadata": {},
     "output_type": "execute_result"
    }
   ],
   "source": [
    "U=Array{Any}(undef,3,3)\n",
    "for j=1:3\n",
    "    U[:,j]=nullspace(A*A'-map(Float64,λ[j])*I)\n",
    "end\n",
    "U"
   ]
  },
  {
   "cell_type": "code",
   "execution_count": 11,
   "metadata": {},
   "outputs": [
    {
     "data": {
      "text/latex": [
       "\\[ \\left[ \\begin{array}{r}\\sqrt{3}\\\\\\sqrt{41 - \\sqrt{1534}}\\\\\\sqrt{\\sqrt{1534} + 41}\\end{array} \\right] \\]"
      ],
      "text/plain": [
       "3-element Array{Sym,1}:\n",
       "               sqrt(3)\n",
       " sqrt(41 - sqrt(1534))\n",
       " sqrt(sqrt(1534) + 41)"
      ]
     },
     "execution_count": 11,
     "metadata": {},
     "output_type": "execute_result"
    }
   ],
   "source": [
    "σ=sqrt.(λ)"
   ]
  },
  {
   "cell_type": "code",
   "execution_count": 12,
   "metadata": {},
   "outputs": [
    {
     "data": {
      "text/plain": [
       "3×3 Array{Any,2}:\n",
       "  3.0          -2.22045e-16  -2.38698e-15\n",
       " -7.21645e-16   1.83369      -6.99441e-15\n",
       " -1.77636e-15   0.0          80.1663"
      ]
     },
     "execution_count": 12,
     "metadata": {},
     "output_type": "execute_result"
    }
   ],
   "source": [
    "V'*A'*A*V"
   ]
  },
  {
   "cell_type": "code",
   "execution_count": 13,
   "metadata": {},
   "outputs": [
    {
     "data": {
      "text/plain": [
       "3×3 Array{Any,2}:\n",
       "  0.0        0.519818  0.854277\n",
       " -0.948683  -0.270146  0.164381\n",
       "  0.316228  -0.810438  0.493143"
      ]
     },
     "execution_count": 13,
     "metadata": {},
     "output_type": "execute_result"
    }
   ],
   "source": [
    "V*=Diagonal(sign.(U'*A*V))"
   ]
  },
  {
   "cell_type": "code",
   "execution_count": 14,
   "metadata": {},
   "outputs": [
    {
     "data": {
      "text/plain": [
       "3×3 Array{Float64,2}:\n",
       "  4.44089e-16  -8.88178e-16  -3.10862e-15\n",
       " -8.88178e-16   8.88178e-16   0.0\n",
       " -8.88178e-16   9.99201e-16  -4.44089e-16"
      ]
     },
     "execution_count": 14,
     "metadata": {},
     "output_type": "execute_result"
    }
   ],
   "source": [
    "A-U*Diagonal(map(Float64,σ))*V'"
   ]
  },
  {
   "cell_type": "code",
   "execution_count": 15,
   "metadata": {},
   "outputs": [
    {
     "data": {
      "text/plain": [
       "SVD{Float64,Float64,Array{Float64,2}}\n",
       "U factor:\n",
       "3×3 Array{Float64,2}:\n",
       " -0.378032  -0.912871  -0.154137\n",
       "  0.71573   -0.182574  -0.67409\n",
       " -0.587215   0.365148  -0.722388\n",
       "singular values:\n",
       "3-element Array{Float64,1}:\n",
       " 8.95356420958337\n",
       " 1.7320508075688772\n",
       " 1.3541373434285466\n",
       "Vt factor:\n",
       "3×3 Array{Float64,2}:\n",
       " -0.854277  -0.164381  -0.493143\n",
       "  0.0       -0.948683   0.316228\n",
       " -0.519818   0.270146   0.810438"
      ]
     },
     "execution_count": 15,
     "metadata": {},
     "output_type": "execute_result"
    }
   ],
   "source": [
    "S=svd(A)"
   ]
  },
  {
   "cell_type": "code",
   "execution_count": 16,
   "metadata": {},
   "outputs": [
    {
     "data": {
      "text/plain": [
       "3×3 Array{Float64,2}:\n",
       " -0.854277  -0.164381  -0.493143\n",
       "  0.0       -0.948683   0.316228\n",
       " -0.519818   0.270146   0.810438"
      ]
     },
     "execution_count": 16,
     "metadata": {},
     "output_type": "execute_result"
    }
   ],
   "source": [
    "S.Vt"
   ]
  },
  {
   "cell_type": "code",
   "execution_count": 17,
   "metadata": {},
   "outputs": [
    {
     "data": {
      "text/plain": [
       "SVD{Float64,Float64,Array{Float64,2}}"
      ]
     },
     "execution_count": 17,
     "metadata": {},
     "output_type": "execute_result"
    }
   ],
   "source": [
    "typeof(S)"
   ]
  },
  {
   "cell_type": "code",
   "execution_count": 18,
   "metadata": {},
   "outputs": [
    {
     "data": {
      "text/plain": [
       "3×3 Adjoint{Float64,Array{Float64,2}}:\n",
       " -0.854277   0.0       -0.519818\n",
       " -0.164381  -0.948683   0.270146\n",
       " -0.493143   0.316228   0.810438"
      ]
     },
     "execution_count": 18,
     "metadata": {},
     "output_type": "execute_result"
    }
   ],
   "source": [
    "U₁=S.U\n",
    "σ₁=S.S\n",
    "V₁=S.V"
   ]
  },
  {
   "cell_type": "code",
   "execution_count": 19,
   "metadata": {},
   "outputs": [
    {
     "data": {
      "text/plain": [
       "3×3 Array{Float64,2}:\n",
       " -8.88178e-16  -4.44089e-16  -1.77636e-15\n",
       "  0.0          -1.11022e-16   1.77636e-15\n",
       " -8.88178e-16  -6.66134e-16  -1.77636e-15"
      ]
     },
     "execution_count": 19,
     "metadata": {},
     "output_type": "execute_result"
    }
   ],
   "source": [
    "A-S.U*Diagonal(S.S)*S.Vt"
   ]
  },
  {
   "cell_type": "markdown",
   "metadata": {},
   "source": [
    "Observe the signs of the columns!"
   ]
  },
  {
   "cell_type": "code",
   "execution_count": 20,
   "metadata": {},
   "outputs": [
    {
     "data": {
      "text/plain": [
       "3×3 Array{Any,2}:\n",
       "  0.0        0.519818  0.854277\n",
       " -0.948683  -0.270146  0.164381\n",
       "  0.316228  -0.810438  0.493143"
      ]
     },
     "execution_count": 20,
     "metadata": {},
     "output_type": "execute_result"
    }
   ],
   "source": [
    "V"
   ]
  },
  {
   "cell_type": "code",
   "execution_count": 21,
   "metadata": {},
   "outputs": [
    {
     "data": {
      "text/plain": [
       "3×3 Array{Float64,2}:\n",
       " -0.378032  -0.912871  -0.154137\n",
       "  0.71573   -0.182574  -0.67409\n",
       " -0.587215   0.365148  -0.722388"
      ]
     },
     "execution_count": 21,
     "metadata": {},
     "output_type": "execute_result"
    }
   ],
   "source": [
    "U₁"
   ]
  },
  {
   "cell_type": "code",
   "execution_count": 22,
   "metadata": {},
   "outputs": [
    {
     "data": {
      "text/plain": [
       "3×3 Array{Any,2}:\n",
       " -0.912871  0.154137   0.378032\n",
       " -0.182574  0.67409   -0.71573\n",
       "  0.365148  0.722388   0.587215"
      ]
     },
     "execution_count": 22,
     "metadata": {},
     "output_type": "execute_result"
    }
   ],
   "source": [
    "U"
   ]
  },
  {
   "cell_type": "markdown",
   "metadata": {},
   "source": [
    "### Example - Random complex matrix"
   ]
  },
  {
   "cell_type": "code",
   "execution_count": 23,
   "metadata": {},
   "outputs": [],
   "source": [
    "?svd;"
   ]
  },
  {
   "cell_type": "code",
   "execution_count": 24,
   "metadata": {},
   "outputs": [
    {
     "data": {
      "text/plain": [
       "5×3 Array{Complex{Float64},2}:\n",
       " 0.345443+0.68487im   0.958365+0.560486im  0.198694+0.854638im\n",
       " 0.650991+0.973053im  0.608612+0.346561im  0.905889+0.0936446im\n",
       " 0.105135+0.77247im   0.561248+0.915812im  0.651562+0.37833im\n",
       "  0.17008+0.525208im  0.605095+0.83639im   0.834811+0.353274im\n",
       " 0.785847+0.135538im  0.766264+0.810683im  0.831302+0.217897im"
      ]
     },
     "execution_count": 24,
     "metadata": {},
     "output_type": "execute_result"
    }
   ],
   "source": [
    "import Random\n",
    "Random.seed!(421)\n",
    "m=5\n",
    "n=3\n",
    "q=min(m,n)\n",
    "A=rand(ComplexF64,m,n)"
   ]
  },
  {
   "cell_type": "code",
   "execution_count": 25,
   "metadata": {},
   "outputs": [
    {
     "data": {
      "text/plain": [
       "5×5 Array{Complex{Float64},2}:\n",
       " -0.175438-0.396416im    -0.652606+0.0288689im  …  -0.156605-0.114846im\n",
       " -0.326593-0.329427im     0.285249+0.417969im       0.116565-0.566605im\n",
       " -0.147555-0.426007im  0.000868154-0.118294im      -0.420412+0.282056im\n",
       " -0.198077-0.38428im     0.0574047-0.144118im      -0.275862+0.154246im\n",
       " -0.336765-0.305483im      0.29689-0.43704im        0.518458-0.0516146im"
      ]
     },
     "execution_count": 25,
     "metadata": {},
     "output_type": "execute_result"
    }
   ],
   "source": [
    "U,σ,V=svd(A,full=true)\n",
    "U"
   ]
  },
  {
   "cell_type": "code",
   "execution_count": 26,
   "metadata": {},
   "outputs": [
    {
     "data": {
      "text/plain": [
       "3×3 Adjoint{Complex{Float64},Array{Complex{Float64},2}}:\n",
       "  -0.52509-0.0im        0.466117-0.0im         -0.71205-0.0im\n",
       " -0.636547-0.150138im  -0.705949-0.264487im  0.00728845-0.0624193im\n",
       " -0.481283-0.254781im   0.342947+0.311136im    0.579412+0.391558im"
      ]
     },
     "execution_count": 26,
     "metadata": {},
     "output_type": "execute_result"
    }
   ],
   "source": [
    "V"
   ]
  },
  {
   "cell_type": "code",
   "execution_count": 27,
   "metadata": {},
   "outputs": [
    {
     "data": {
      "text/plain": [
       "5×3 Array{Complex{Float64},2}:\n",
       " -0.175438-0.396416im    -0.652606+0.0288689im  -0.572856+0.0400237im\n",
       " -0.326593-0.329427im     0.285249+0.417969im   0.0686383-0.431971im\n",
       " -0.147555-0.426007im  0.000868154-0.118294im    0.291866-0.140757im\n",
       " -0.198077-0.38428im     0.0574047-0.144118im    0.379928+0.17032im\n",
       " -0.336765-0.305483im      0.29689-0.43704im    -0.144769+0.423807im"
      ]
     },
     "execution_count": 27,
     "metadata": {},
     "output_type": "execute_result"
    }
   ],
   "source": [
    "U,σ,V=svd(A)\n",
    "U"
   ]
  },
  {
   "cell_type": "code",
   "execution_count": 28,
   "metadata": {},
   "outputs": [
    {
     "data": {
      "text/plain": [
       "3-element Array{Float64,1}:\n",
       " 3.335456167848843\n",
       " 0.8658601013427657\n",
       " 0.7393073150147738"
      ]
     },
     "execution_count": 28,
     "metadata": {},
     "output_type": "execute_result"
    }
   ],
   "source": [
    "σ"
   ]
  },
  {
   "cell_type": "code",
   "execution_count": 29,
   "metadata": {},
   "outputs": [
    {
     "data": {
      "text/plain": [
       "3×3 Adjoint{Complex{Float64},Array{Complex{Float64},2}}:\n",
       "  -0.52509-0.0im        0.466117-0.0im         -0.71205-0.0im\n",
       " -0.636547-0.150138im  -0.705949-0.264487im  0.00728845-0.0624193im\n",
       " -0.481283-0.254781im   0.342947+0.311136im    0.579412+0.391558im"
      ]
     },
     "execution_count": 29,
     "metadata": {},
     "output_type": "execute_result"
    }
   ],
   "source": [
    "V"
   ]
  },
  {
   "cell_type": "code",
   "execution_count": 30,
   "metadata": {},
   "outputs": [
    {
     "data": {
      "text/plain": [
       "(1.70922296165275e-15, 1.0290580852698109e-15, 4.1214927040449093e-16)"
      ]
     },
     "execution_count": 30,
     "metadata": {},
     "output_type": "execute_result"
    }
   ],
   "source": [
    "norm(A-U[:,1:q]*Diagonal(σ)*V'), norm(U'*U-I), norm(V'*V-I)"
   ]
  },
  {
   "cell_type": "code",
   "execution_count": 31,
   "metadata": {},
   "outputs": [
    {
     "name": "stdout",
     "output_type": "stream",
     "text": [
      "k = rand(1:q) = 2\n"
     ]
    },
    {
     "data": {
      "text/plain": [
       "(6.210310043996969e-16, 4.910462595695867e-16)"
      ]
     },
     "execution_count": 31,
     "metadata": {},
     "output_type": "execute_result"
    }
   ],
   "source": [
    "# Fact 4\n",
    "@show k=rand(1:q)\n",
    "norm(A*V[:,k]-σ[k]*U[:,k],Inf), norm(A'*U[:,k]-σ[k]*V[:,k],Inf)"
   ]
  },
  {
   "cell_type": "code",
   "execution_count": 32,
   "metadata": {},
   "outputs": [
    {
     "data": {
      "text/plain": [
       "Eigen{Complex{Float64},Float64,Array{Complex{Float64},2},Array{Float64,1}}\n",
       "values:\n",
       "3-element Array{Float64,1}:\n",
       "  0.5465753060343534\n",
       "  0.7497137150973043\n",
       " 11.125267847640885\n",
       "vectors:\n",
       "3×3 Array{Complex{Float64},2}:\n",
       " -0.589967+0.398691im   -0.345216+0.313195im  -0.464074+0.245671im\n",
       " -0.028911-0.0557983im   0.700555-0.278459im  -0.632825+0.165126im\n",
       "   0.69931+0.0im        -0.463053-0.0im       -0.544561-0.0im"
      ]
     },
     "execution_count": 32,
     "metadata": {},
     "output_type": "execute_result"
    }
   ],
   "source": [
    "λ₁,V₁=eigen(A'*A)"
   ]
  },
  {
   "cell_type": "code",
   "execution_count": 33,
   "metadata": {},
   "outputs": [
    {
     "data": {
      "text/plain": [
       "3-element Array{Float64,1}:\n",
       " 0.7393073150147734\n",
       " 0.8658601013427656\n",
       " 3.335456167848842"
      ]
     },
     "execution_count": 33,
     "metadata": {},
     "output_type": "execute_result"
    }
   ],
   "source": [
    "sqrt.(λ₁)"
   ]
  },
  {
   "cell_type": "code",
   "execution_count": 34,
   "metadata": {},
   "outputs": [
    {
     "data": {
      "text/plain": [
       "Eigen{Complex{Float64},Float64,Array{Complex{Float64},2},Array{Float64,1}}\n",
       "values:\n",
       "5-element Array{Float64,1}:\n",
       " -2.547330152234144e-16\n",
       "  1.1537724491561576e-15\n",
       "  0.5465753060343549\n",
       "  0.7497137150973037\n",
       " 11.125267847640888\n",
       "vectors:\n",
       "5×5 Array{Complex{Float64},2}:\n",
       "  -0.218689-0.000658708im  0.00539783+0.0879033im  …  -0.396281-0.175742im\n",
       " -0.0554401-0.398117im      -0.216133+0.359381im       -0.46323-0.0245693im\n",
       "   0.221021+0.572926im       0.443286+0.322733im       -0.39551-0.216393im\n",
       "  -0.486547-0.26579im        0.269626-0.485391im      -0.404896-0.151543im\n",
       "   0.325786+0.0im           -0.455428-0.0im           -0.454676-0.0im"
      ]
     },
     "execution_count": 34,
     "metadata": {},
     "output_type": "execute_result"
    }
   ],
   "source": [
    "λU,U₁=eigen(A*A')"
   ]
  },
  {
   "cell_type": "code",
   "execution_count": 35,
   "metadata": {},
   "outputs": [
    {
     "data": {
      "text/plain": [
       "3×3 Adjoint{Complex{Float64},Array{Complex{Float64},2}}:\n",
       "  -0.52509-0.0im        0.466117-0.0im         -0.71205-0.0im\n",
       " -0.636547-0.150138im  -0.705949-0.264487im  0.00728845-0.0624193im\n",
       " -0.481283-0.254781im   0.342947+0.311136im    0.579412+0.391558im"
      ]
     },
     "execution_count": 35,
     "metadata": {},
     "output_type": "execute_result"
    }
   ],
   "source": [
    "V"
   ]
  },
  {
   "cell_type": "code",
   "execution_count": 36,
   "metadata": {},
   "outputs": [
    {
     "data": {
      "text/plain": [
       "3×3 Array{Complex{Float64},2}:\n",
       " -0.589967+0.398691im   -0.345216+0.313195im  -0.464074+0.245671im\n",
       " -0.028911-0.0557983im   0.700555-0.278459im  -0.632825+0.165126im\n",
       "   0.69931+0.0im        -0.463053-0.0im       -0.544561-0.0im"
      ]
     },
     "execution_count": 36,
     "metadata": {},
     "output_type": "execute_result"
    }
   ],
   "source": [
    "V₁"
   ]
  },
  {
   "cell_type": "code",
   "execution_count": 37,
   "metadata": {},
   "outputs": [
    {
     "data": {
      "text/plain": [
       "3×3 Array{Float64,2}:\n",
       " 2.22045e-16  8.77708e-17  1.0\n",
       " 1.68967e-15  1.0          8.77708e-17\n",
       " 1.0          1.61841e-15  1.14439e-16"
      ]
     },
     "execution_count": 37,
     "metadata": {},
     "output_type": "execute_result"
    }
   ],
   "source": [
    "abs.(V'*V₁)"
   ]
  },
  {
   "cell_type": "markdown",
   "metadata": {},
   "source": [
    "__Explain non-uniqueness of $U$ and $V$!__"
   ]
  },
  {
   "cell_type": "code",
   "execution_count": 38,
   "metadata": {},
   "outputs": [
    {
     "data": {
      "text/plain": [
       "8×8 Array{Complex{Float64},2}:\n",
       "      0.0+0.0im            0.0+0.0im        …  0.198694+0.854638im\n",
       "      0.0+0.0im            0.0+0.0im           0.905889+0.0936446im\n",
       "      0.0+0.0im            0.0+0.0im           0.651562+0.37833im\n",
       "      0.0+0.0im            0.0+0.0im           0.834811+0.353274im\n",
       "      0.0+0.0im            0.0+0.0im           0.831302+0.217897im\n",
       " 0.345443-0.68487im   0.650991-0.973053im   …       0.0+0.0im\n",
       " 0.958365-0.560486im  0.608612-0.346561im           0.0+0.0im\n",
       " 0.198694-0.854638im  0.905889-0.0936446im          0.0+0.0im"
      ]
     },
     "execution_count": 38,
     "metadata": {},
     "output_type": "execute_result"
    }
   ],
   "source": [
    "# Jordan-Wielandt matrix\n",
    "J=[zero(A*A') A; A' zero(A'*A)]"
   ]
  },
  {
   "cell_type": "code",
   "execution_count": 39,
   "metadata": {},
   "outputs": [
    {
     "data": {
      "text/plain": [
       "8×8 Array{Float64,2}:\n",
       " 0.0   0.0   0.0   0.0   0.0   0.77  1.11  0.88\n",
       " 0.0   0.0   0.0   0.0   0.0   1.17  0.7   0.91\n",
       " 0.0   0.0   0.0   0.0   0.0   0.78  1.07  0.75\n",
       " 0.0   0.0   0.0   0.0   0.0   0.55  1.03  0.91\n",
       " 0.0   0.0   0.0   0.0   0.0   0.8   1.12  0.86\n",
       " 0.77  1.17  0.78  0.55  0.8   0.0   0.0   0.0\n",
       " 1.11  0.7   1.07  1.03  1.12  0.0   0.0   0.0\n",
       " 0.88  0.91  0.75  0.91  0.86  0.0   0.0   0.0"
      ]
     },
     "execution_count": 39,
     "metadata": {},
     "output_type": "execute_result"
    }
   ],
   "source": [
    "round.(abs.(J),digits=2)"
   ]
  },
  {
   "cell_type": "code",
   "execution_count": 40,
   "metadata": {},
   "outputs": [
    {
     "data": {
      "text/plain": [
       "Eigen{Complex{Float64},Float64,Array{Complex{Float64},2},Array{Float64,1}}\n",
       "values:\n",
       "8-element Array{Float64,1}:\n",
       " -3.335456167848846\n",
       " -0.8658601013427636\n",
       " -0.7393073150147749\n",
       " -6.551110489870999e-18\n",
       "  9.379638816410472e-17\n",
       "  0.7393073150147731\n",
       "  0.8658601013427667\n",
       "  3.335456167848843\n",
       "vectors:\n",
       "8×8 Array{Complex{Float64},2}:\n",
       " -0.240785-0.189696im    -0.328052+0.325186im   …  -0.240785-0.189696im\n",
       " -0.313086-0.0978259im     0.34797+0.0833616im     -0.313086-0.0978259im\n",
       " -0.233149-0.217414im   -0.0557494-0.0623629im     -0.233149-0.217414im\n",
       " -0.250918-0.174623im   -0.0384106-0.102748im      -0.250918-0.174623im\n",
       " -0.311521-0.0794967im  -0.0521663-0.369936im      -0.311521-0.0794967im\n",
       "   0.32815-0.173716im    -0.244105+0.221462im   …   -0.32815+0.173716im\n",
       "  0.447475-0.116761im     0.495367-0.1969im        -0.447475+0.116761im\n",
       "  0.385063-0.0im         -0.327428-0.0im           -0.385063-0.0im"
      ]
     },
     "execution_count": 40,
     "metadata": {},
     "output_type": "execute_result"
    }
   ],
   "source": [
    "λJ,UJ=eigen(J)"
   ]
  },
  {
   "cell_type": "code",
   "execution_count": 41,
   "metadata": {},
   "outputs": [
    {
     "data": {
      "text/plain": [
       "8-element Array{Float64,1}:\n",
       " -3.335456167848846\n",
       " -0.8658601013427636\n",
       " -0.7393073150147749\n",
       " -6.551110489870999e-18\n",
       "  9.379638816410472e-17\n",
       "  0.7393073150147731\n",
       "  0.8658601013427667\n",
       "  3.335456167848843"
      ]
     },
     "execution_count": 41,
     "metadata": {},
     "output_type": "execute_result"
    }
   ],
   "source": [
    "λJ"
   ]
  },
  {
   "cell_type": "markdown",
   "metadata": {},
   "source": [
    "### Example - Random real matrix"
   ]
  },
  {
   "cell_type": "code",
   "execution_count": 42,
   "metadata": {},
   "outputs": [
    {
     "data": {
      "text/plain": [
       "8×5 Array{Int64,2}:\n",
       "  4  -9   9   9   4\n",
       "  6  -6   4   5   7\n",
       "  5   4   3  -3   0\n",
       " -8   6  -1  -6  -1\n",
       " -5   1  -2  -9  -7\n",
       " -4   9  -6  -5  -9\n",
       "  4   2  -4  -3  -9\n",
       "  2  -9   8  -8   2"
      ]
     },
     "execution_count": 42,
     "metadata": {},
     "output_type": "execute_result"
    }
   ],
   "source": [
    "m=8\n",
    "n=5\n",
    "q=min(m,n)\n",
    "A=rand(-9:9,m,n)"
   ]
  },
  {
   "cell_type": "code",
   "execution_count": 43,
   "metadata": {},
   "outputs": [
    {
     "data": {
      "text/plain": [
       "SVD{Float64,Float64,Array{Float64,2}}\n",
       "U factor:\n",
       "8×5 Array{Float64,2}:\n",
       " -0.52051    -0.00637623   0.0818925   0.371645    0.75484\n",
       " -0.410187   -0.0457767    0.0840241  -0.205334   -0.311161\n",
       "  0.0168078   0.104332     0.302453   -0.802742    0.379587\n",
       "  0.309284    0.16034     -0.5493     -0.179291    0.292071\n",
       "  0.340599    0.443716     0.0164029   0.335447    0.0174456\n",
       "  0.500772   -0.0927259    0.148085    0.0299671   0.307785\n",
       "  0.233164    0.0155959    0.752819    0.165196   -0.040422\n",
       " -0.20912     0.869221     0.0639655  -0.0496671  -0.0856345\n",
       "singular values:\n",
       "5-element Array{Float64,1}:\n",
       " 30.385676465296772\n",
       " 15.251140072988441\n",
       " 11.426337586227328\n",
       "  7.917239011913147\n",
       "  5.18358254629035\n",
       "Vt factor:\n",
       "5×5 Array{Float64,2}:\n",
       " -0.333218    0.535272   -0.423741   -0.435647    -0.482809\n",
       " -0.0726555  -0.424309    0.424392   -0.792837    -0.0773504\n",
       "  0.80544    -0.0917222  -0.0779845  -0.00985778  -0.580237\n",
       " -0.44971    -0.633676   -0.203895    0.320187    -0.502119\n",
       " -0.180871    0.351408    0.769857    0.281076    -0.414866"
      ]
     },
     "execution_count": 43,
     "metadata": {},
     "output_type": "execute_result"
    }
   ],
   "source": [
    "U,σ,V=svd(A)"
   ]
  },
  {
   "cell_type": "code",
   "execution_count": 44,
   "metadata": {},
   "outputs": [
    {
     "data": {
      "text/plain": [
       "(70.163975682716, 70.16397568271604)"
      ]
     },
     "execution_count": 44,
     "metadata": {},
     "output_type": "execute_result"
    }
   ],
   "source": [
    "# Fact 10\n",
    "tr(sqrt(A'*A)), sum(σ)"
   ]
  },
  {
   "cell_type": "code",
   "execution_count": 45,
   "metadata": {},
   "outputs": [
    {
     "data": {
      "text/plain": [
       "(-0.028017553424504286, 0.028017553424504266)"
      ]
     },
     "execution_count": 45,
     "metadata": {},
     "output_type": "execute_result"
    }
   ],
   "source": [
    "# Fact 11\n",
    "B=rand(n,n)\n",
    "det(B), prod(svdvals(B))"
   ]
  },
  {
   "cell_type": "code",
   "execution_count": 46,
   "metadata": {},
   "outputs": [
    {
     "data": {
      "text/plain": [
       "(37.094473981982816, 30.385676465296758, 30.385676465296772)"
      ]
     },
     "execution_count": 46,
     "metadata": {},
     "output_type": "execute_result"
    }
   ],
   "source": [
    "# Fact 14\n",
    "norm(A), opnorm(A), σ[1]"
   ]
  },
  {
   "cell_type": "code",
   "execution_count": 47,
   "metadata": {},
   "outputs": [
    {
     "data": {
      "text/plain": [
       "(17.021465467822562, 126.73068798856356)"
      ]
     },
     "execution_count": 47,
     "metadata": {},
     "output_type": "execute_result"
    }
   ],
   "source": [
    "# Fact 15\n",
    "B=rand(m,n)\n",
    "abs(tr(A*B')), sum(svdvals(A)⋅svdvals(B))"
   ]
  },
  {
   "cell_type": "code",
   "execution_count": 48,
   "metadata": {},
   "outputs": [
    {
     "data": {
      "text/plain": [
       "(3, [30.385676465296772, 15.251140072988441, 11.426337586227328, 7.917239011913147, 5.18358254629035], [30.381664988551634, 15.190790575637333, 11.111121043327122, 5.829582595973563, 2.3985975335180783], [27.80450958074093, 13.658590712400924, 11.366367773120052, 7.756147908064868])"
      ]
     },
     "execution_count": 48,
     "metadata": {},
     "output_type": "execute_result"
    }
   ],
   "source": [
    "# Interlace Theorems (repeat several times)\n",
    "j=rand(1:q)\n",
    "σBrow=svdvals(A[[1:j-1;j+1:m],:])\n",
    "σBcol=svdvals(A[:,[1:j-1;j+1:n]])\n",
    "j, σ, σBrow, σBcol"
   ]
  },
  {
   "cell_type": "code",
   "execution_count": 49,
   "metadata": {},
   "outputs": [
    {
     "data": {
      "text/plain": [
       "(Bool[1, 1, 1, 1, 1], Bool[1, 1, 1, 1], Bool[1, 1, 1, 1], Bool[1, 1, 1, 1])"
      ]
     },
     "execution_count": 49,
     "metadata": {},
     "output_type": "execute_result"
    }
   ],
   "source": [
    "σ[1:end].>=σBrow, σ[1:end-1].>=σBcol, \n",
    "σ[2:end].<=σBrow[1:end-1], σ[2:end].<=σBcol"
   ]
  },
  {
   "cell_type": "code",
   "execution_count": 50,
   "metadata": {},
   "outputs": [
    {
     "data": {
      "text/plain": [
       "5×3 Array{Float64,2}:\n",
       " 30.2108   30.3857   3.11734\n",
       " 14.6781   15.2511   0.913401\n",
       " 11.4898   11.4263   0.629493\n",
       "  8.04166   7.91724  0.456276\n",
       "  5.29955   5.18358  0.308923"
      ]
     },
     "execution_count": 50,
     "metadata": {},
     "output_type": "execute_result"
    }
   ],
   "source": [
    "# Weyl Inequalities\n",
    "B=rand(m,n)\n",
    "μ=svdvals(B)\n",
    "γ=svdvals(A+B)\n",
    "[γ σ μ]"
   ]
  },
  {
   "cell_type": "code",
   "execution_count": 51,
   "metadata": {},
   "outputs": [
    {
     "name": "stdout",
     "output_type": "stream",
     "text": [
      "k = rand(1:q) = 1\n"
     ]
    },
    {
     "data": {
      "text/plain": [
       "(30.210849533162563, 33.503015705116624)"
      ]
     },
     "execution_count": 51,
     "metadata": {},
     "output_type": "execute_result"
    }
   ],
   "source": [
    "@show k=rand(1:q)\n",
    "sum(γ[1:k]),sum(σ[1:k])+sum(μ[1:k])"
   ]
  },
  {
   "cell_type": "markdown",
   "metadata": {},
   "source": [
    "## Matrix approximation\n",
    "\n",
    "Let $A=U\\Sigma V^*$, let $\\tilde \\Sigma$ be equal to $\\Sigma$ except that \n",
    "$\\tilde \\Sigma_{jj}=0$ for $j>k$, and let $\\tilde A=U\\tilde \\Sigma V^*$. \n",
    "Then $\\mathop{\\mathrm{rank}}(\\tilde A)\\leq k$ and\n",
    "\n",
    "\\begin{align*}\n",
    "\\min\\{\\|A-B\\|_2: \\mathop{\\mathrm{rank}}(B)\\leq k\\} & =\\|A-\\tilde A\\|_2=\\sigma_{k+1}(A)\\\\\n",
    "\\min\\{\\|A-B\\|_F: \\mathop{\\mathrm{rank}}(B)\\leq k\\} & =\\|A-\\tilde A\\|_F=\n",
    "\\bigg(\\sum_{j=k+1}^{q}\\sigma_{j}^2(A)\\bigg)^{1/2}.\n",
    "\\end{align*}\n",
    "\n",
    "This is the __Eckart-Young-Mirsky Theorem__."
   ]
  },
  {
   "cell_type": "code",
   "execution_count": 52,
   "metadata": {},
   "outputs": [
    {
     "data": {
      "text/plain": [
       "8×5 Array{Int64,2}:\n",
       "  4  -9   9   9   4\n",
       "  6  -6   4   5   7\n",
       "  5   4   3  -3   0\n",
       " -8   6  -1  -6  -1\n",
       " -5   1  -2  -9  -7\n",
       " -4   9  -6  -5  -9\n",
       "  4   2  -4  -3  -9\n",
       "  2  -9   8  -8   2"
      ]
     },
     "execution_count": 52,
     "metadata": {},
     "output_type": "execute_result"
    }
   ],
   "source": [
    "A"
   ]
  },
  {
   "cell_type": "code",
   "execution_count": 53,
   "metadata": {},
   "outputs": [
    {
     "data": {
      "text/plain": [
       "5-element Array{Float64,1}:\n",
       " 30.385676465296772\n",
       " 15.251140072988441\n",
       " 11.426337586227328\n",
       "  7.917239011913147\n",
       "  5.18358254629035"
      ]
     },
     "execution_count": 53,
     "metadata": {},
     "output_type": "execute_result"
    }
   ],
   "source": [
    "σ"
   ]
  },
  {
   "cell_type": "code",
   "execution_count": 54,
   "metadata": {},
   "outputs": [
    {
     "data": {
      "text/plain": [
       "8×5 Array{Float64,2}:\n",
       "  6.03094  -8.51045    6.58766    6.95809   7.10071\n",
       "  4.97718  -6.46336    4.91026    5.97388   5.51457\n",
       "  2.49776  -0.718763   0.189362  -1.5181   -2.37492\n",
       " -8.36452   4.56848   -2.45497   -5.97104  -1.08465\n",
       " -3.7893    2.65115   -1.52811   -9.87577  -5.62895\n",
       " -3.60474   8.5897    -7.17988   -5.5244   -8.21898\n",
       "  4.55028   2.90241   -3.57202   -3.35988  -8.43021\n",
       "  1.74287  -9.09319    8.26156   -7.74933   1.6184"
      ]
     },
     "execution_count": 54,
     "metadata": {},
     "output_type": "execute_result"
    }
   ],
   "source": [
    "# @show k=rand(1:q-1)\n",
    "k=3\n",
    "B=U*Diagonal([σ[1:k];zeros(q-k)])*V'\n",
    "# B=U[:,1:k]*Diagonal(σ[1:k])*V[:,1:k]'"
   ]
  },
  {
   "cell_type": "code",
   "execution_count": 55,
   "metadata": {},
   "outputs": [
    {
     "data": {
      "text/plain": [
       "8×5 Array{Int64,2}:\n",
       "  4  -9   9   9   4\n",
       "  6  -6   4   5   7\n",
       "  5   4   3  -3   0\n",
       " -8   6  -1  -6  -1\n",
       " -5   1  -2  -9  -7\n",
       " -4   9  -6  -5  -9\n",
       "  4   2  -4  -3  -9\n",
       "  2  -9   8  -8   2"
      ]
     },
     "execution_count": 55,
     "metadata": {},
     "output_type": "execute_result"
    }
   ],
   "source": [
    "A"
   ]
  },
  {
   "cell_type": "code",
   "execution_count": 56,
   "metadata": {},
   "outputs": [
    {
     "data": {
      "text/plain": [
       "(7.91723901191314, 7.917239011913147)"
      ]
     },
     "execution_count": 56,
     "metadata": {},
     "output_type": "execute_result"
    }
   ],
   "source": [
    "opnorm(A-B), σ[k+1]"
   ]
  },
  {
   "cell_type": "code",
   "execution_count": 57,
   "metadata": {},
   "outputs": [
    {
     "data": {
      "text/plain": [
       "(9.463202501582924, 9.46320250158293)"
      ]
     },
     "execution_count": 57,
     "metadata": {},
     "output_type": "execute_result"
    }
   ],
   "source": [
    "norm(A-B),norm(σ[k+1:q])"
   ]
  }
 ],
 "metadata": {
  "@webio": {
   "lastCommId": null,
   "lastKernelId": null
  },
  "anaconda-cloud": {},
  "kernelspec": {
   "display_name": "Julia 1.4.1",
   "language": "julia",
   "name": "julia-1.4"
  },
  "language_info": {
   "file_extension": ".jl",
   "mimetype": "application/julia",
   "name": "julia",
   "version": "1.4.1"
  }
 },
 "nbformat": 4,
 "nbformat_minor": 1
}
